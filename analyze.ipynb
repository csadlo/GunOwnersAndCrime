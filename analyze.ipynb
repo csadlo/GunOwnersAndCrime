{
 "cells": [
  {
   "cell_type": "code",
   "execution_count": 1,
   "metadata": {},
   "outputs": [],
   "source": [
    "import pandas as pd\n",
    "import numpy as py\n",
    "import matplotlib.pyplot as plt\n"
   ]
  },
  {
   "cell_type": "code",
   "execution_count": 2,
   "metadata": {},
   "outputs": [
    {
     "name": "stdout",
     "output_type": "stream",
     "text": [
      "Importing *.csv files...\n",
      "File import complete.\n"
     ]
    }
   ],
   "source": [
    "# Teammate 0 code begins here\n",
    "# changes here\n",
    "state_name_list = [ \"Alabama\", \"Alaska\", \"Arizona\", \"Arkansas\", \"California\",\n",
    "                    \"Colorado\", \"Connecticut\", \"DC\", \"Delaware\", \"Florida\",\n",
    "                    \"Georgia\", \"Hawaii\", \"Idaho\", \"Illinois\", \"Indiana\",\n",
    "                    \"Iowa\", \"Kansas\", \"Kentucky\", \"Louisiana\", \"Maine\",\n",
    "                    \"Maryland\", \"Massachusetts\", \"Michigan\", \"Minnesota\", \n",
    "                    \"Mississippi\", \"Missouri\", \"Montana\", \"Nebraska\", \"Nevada\",\n",
    "                    \"New_Hampshire\", \"New_Jersey\", \"New_Mexico\", \"New_York\", \"North_Carolina\",\n",
    "                    \"North_Dakota\", \"Ohio\", \"Oklahoma\", \"Oregon\", \"Pennsylvania\",\n",
    "                    \"Rhode_Island\", \"South_Carolina\", \"South_Dakota\", \"Tennessee\", \"Texas\",\n",
    "                    \"Utah\", \"Vermont\", \"Virginia\", \"Washington\", \"West_Virginia\", \n",
    "                    \"Wisconsin\", \"Wyoming\"\n",
    "                  ]\n",
    "\n",
    "# An empty collection of dataframes\n",
    "crime_by_state = {}\n",
    "\n",
    "\n",
    "debug = False\n",
    "\n",
    "\n",
    "print(\"Importing *.csv files...\")\n",
    "\n",
    "# Base file path we will use for reusable code\n",
    "base_file_path = \"Raw_Data/CrimeStateByState_\"\n",
    "\n",
    "# Import the U.S. crime data totals\n",
    "file_path = base_file_path + \"US\" + \".csv\"\n",
    "if (debug):\n",
    "    print(f\"Importing file: {file_path}\")\n",
    "us_totals_df = pd.read_csv(file_path, header=5)\n",
    "\n",
    "# Iterate over and import the state-by-state crime data\n",
    "for state in state_name_list:\n",
    "    file_path = base_file_path + state + \".csv\"\n",
    "    if (debug):\n",
    "        print(f\"Importing file: {file_path}\")\n",
    "    crime_by_state[state] = pd.read_csv(file_path, header=5)\n",
    "\n",
    "# Import the gun ownership data\n",
    "file_path = \"Raw_Data/gun_ownership_by_state.csv\"\n",
    "if (debug):\n",
    "    print(f\"Importing file: {file_path}\")\n",
    "gun_ownership_df = pd.read_csv(file_path)\n",
    "\n",
    "print(\"File import complete.\")\n",
    "\n",
    "# Clean up the footer information that was at the bottom of each crime data .csv file\n",
    "if debug:\n",
    "    print(\"Cleaning up the .csv files...\")\n",
    "    \n",
    "for state in state_name_list:\n",
    "    if debug:\n",
    "        print(f\"The current state is {state}...\")\n",
    "    crime_by_state[state] = crime_by_state[state][crime_by_state[state][\"Year\"].astype(str).str.isnumeric()]\n",
    "    \n",
    "if debug:\n",
    "    print(f\"The current state is {state}...\")\n",
    "us_totals_df = us_totals_df[us_totals_df[\"Year\"].astype(str).str.isnumeric()]\n",
    "\n",
    "if debug:\n",
    "    print(\"Cleanup of .csv files is complete.\")"
   ]
  },
  {
   "cell_type": "code",
   "execution_count": 3,
   "metadata": {},
   "outputs": [],
   "source": [
    "# Reindex the gun ownership data\n",
    "try:\n",
    "    gun_ownership_df.set_index(\"State\", inplace=True)\n",
    "except:\n",
    "    pass\n"
   ]
  },
  {
   "cell_type": "code",
   "execution_count": 4,
   "metadata": {},
   "outputs": [],
   "source": [
    "all_state_crime_2014 = pd.DataFrame()\n",
    "\n",
    "# Build a dataframe of the 2014 crime data of all the states and index it to the state name\n",
    "for state in state_name_list:\n",
    "\n",
    "    if debug:\n",
    "        print(f\"The current state is {state}...\")\n",
    "    # Give each row the state name so that it can be used as an index later\n",
    "    crime_by_state[state][\"State\"] = state\n",
    "    # Use \"this_state\" as short-hand\n",
    "    this_state = crime_by_state[state]\n",
    "    # Grab the specific row we want\n",
    "    this_state_crime_2014 = this_state[this_state[\"Year\"] == \"2014\"]\n",
    "    # We do this because .append() doesn't support \"inplace\"\n",
    "    all_state_crime_2014 = all_state_crime_2014.append(this_state_crime_2014)\n",
    "    \n",
    "\n",
    "all_state_crime_2014.set_index([\"State\"], inplace=True)\n",
    "\n",
    "try:\n",
    "    gun_ownership_df = gun_ownership_df.join(all_state_crime_2014, how=\"outer\")\n",
    "except:\n",
    "    pass\n",
    "\n",
    "# Remove bad columns\n",
    "gun_ownership_df = gun_ownership_df.loc[:, ~gun_ownership_df.columns.str.contains('^Unnamed')]\n"
   ]
  },
  {
   "cell_type": "code",
   "execution_count": 5,
   "metadata": {},
   "outputs": [
    {
     "data": {
      "text/html": [
       "<div>\n",
       "<style scoped>\n",
       "    .dataframe tbody tr th:only-of-type {\n",
       "        vertical-align: middle;\n",
       "    }\n",
       "\n",
       "    .dataframe tbody tr th {\n",
       "        vertical-align: top;\n",
       "    }\n",
       "\n",
       "    .dataframe thead th {\n",
       "        text-align: right;\n",
       "    }\n",
       "</style>\n",
       "<table border=\"1\" class=\"dataframe\">\n",
       "  <thead>\n",
       "    <tr style=\"text-align: right;\">\n",
       "      <th></th>\n",
       "      <th>Rank</th>\n",
       "      <th># of guns per capita</th>\n",
       "      <th># of guns registered</th>\n",
       "      <th>Year</th>\n",
       "      <th>Population</th>\n",
       "      <th>Violent crime total</th>\n",
       "      <th>Murder and nonnegligent Manslaughter</th>\n",
       "      <th>Legacy rape /1</th>\n",
       "      <th>Revised rape /2</th>\n",
       "      <th>Robbery</th>\n",
       "      <th>...</th>\n",
       "      <th>Violent Crime rate</th>\n",
       "      <th>Murder and nonnegligent manslaughter rate</th>\n",
       "      <th>Legacy rape rate /1</th>\n",
       "      <th>Revised rape rate /2</th>\n",
       "      <th>Robbery rate</th>\n",
       "      <th>Aggravated assault rate</th>\n",
       "      <th>Property crime rate</th>\n",
       "      <th>Burglary rate</th>\n",
       "      <th>Larceny-theft rate</th>\n",
       "      <th>Motor vehicle theft rate</th>\n",
       "    </tr>\n",
       "    <tr>\n",
       "      <th>State</th>\n",
       "      <th></th>\n",
       "      <th></th>\n",
       "      <th></th>\n",
       "      <th></th>\n",
       "      <th></th>\n",
       "      <th></th>\n",
       "      <th></th>\n",
       "      <th></th>\n",
       "      <th></th>\n",
       "      <th></th>\n",
       "      <th></th>\n",
       "      <th></th>\n",
       "      <th></th>\n",
       "      <th></th>\n",
       "      <th></th>\n",
       "      <th></th>\n",
       "      <th></th>\n",
       "      <th></th>\n",
       "      <th></th>\n",
       "      <th></th>\n",
       "      <th></th>\n",
       "    </tr>\n",
       "  </thead>\n",
       "  <tbody>\n",
       "    <tr>\n",
       "      <th>Alabama</th>\n",
       "      <td>6</td>\n",
       "      <td>33.150</td>\n",
       "      <td>161641</td>\n",
       "      <td>2014</td>\n",
       "      <td>4849377</td>\n",
       "      <td>20727</td>\n",
       "      <td>276.0</td>\n",
       "      <td>1436.0</td>\n",
       "      <td>2005.0</td>\n",
       "      <td>4701.0</td>\n",
       "      <td>...</td>\n",
       "      <td>427.4</td>\n",
       "      <td>5.7</td>\n",
       "      <td>29.6</td>\n",
       "      <td>41.3</td>\n",
       "      <td>96.9</td>\n",
       "      <td>283.4</td>\n",
       "      <td>3177.6</td>\n",
       "      <td>819.0</td>\n",
       "      <td>2149.5</td>\n",
       "      <td>209.1</td>\n",
       "    </tr>\n",
       "    <tr>\n",
       "      <th>Alaska</th>\n",
       "      <td>15</td>\n",
       "      <td>21.380</td>\n",
       "      <td>15824</td>\n",
       "      <td>2014</td>\n",
       "      <td>736732</td>\n",
       "      <td>4684</td>\n",
       "      <td>41.0</td>\n",
       "      <td>555.0</td>\n",
       "      <td>771.0</td>\n",
       "      <td>629.0</td>\n",
       "      <td>...</td>\n",
       "      <td>635.8</td>\n",
       "      <td>5.6</td>\n",
       "      <td>75.3</td>\n",
       "      <td>104.7</td>\n",
       "      <td>85.4</td>\n",
       "      <td>440.2</td>\n",
       "      <td>2760.0</td>\n",
       "      <td>427.6</td>\n",
       "      <td>2096.4</td>\n",
       "      <td>236.0</td>\n",
       "    </tr>\n",
       "    <tr>\n",
       "      <th>Arizona</th>\n",
       "      <td>10</td>\n",
       "      <td>25.610</td>\n",
       "      <td>179738</td>\n",
       "      <td>2014</td>\n",
       "      <td>6731484</td>\n",
       "      <td>26916</td>\n",
       "      <td>319.0</td>\n",
       "      <td>2464.0</td>\n",
       "      <td>3378.0</td>\n",
       "      <td>6249.0</td>\n",
       "      <td>...</td>\n",
       "      <td>399.9</td>\n",
       "      <td>4.7</td>\n",
       "      <td>36.6</td>\n",
       "      <td>50.2</td>\n",
       "      <td>92.8</td>\n",
       "      <td>252.1</td>\n",
       "      <td>3197.5</td>\n",
       "      <td>647.1</td>\n",
       "      <td>2289.1</td>\n",
       "      <td>261.3</td>\n",
       "    </tr>\n",
       "    <tr>\n",
       "      <th>Arkansas</th>\n",
       "      <td>8</td>\n",
       "      <td>26.570</td>\n",
       "      <td>79841</td>\n",
       "      <td>2014</td>\n",
       "      <td>2966369</td>\n",
       "      <td>14243</td>\n",
       "      <td>165.0</td>\n",
       "      <td>1182.0</td>\n",
       "      <td>1763.0</td>\n",
       "      <td>2050.0</td>\n",
       "      <td>...</td>\n",
       "      <td>480.1</td>\n",
       "      <td>5.6</td>\n",
       "      <td>39.8</td>\n",
       "      <td>59.4</td>\n",
       "      <td>69.1</td>\n",
       "      <td>346.0</td>\n",
       "      <td>3338.0</td>\n",
       "      <td>835.7</td>\n",
       "      <td>2313.5</td>\n",
       "      <td>188.8</td>\n",
       "    </tr>\n",
       "    <tr>\n",
       "      <th>California</th>\n",
       "      <td>44</td>\n",
       "      <td>8.710</td>\n",
       "      <td>344622</td>\n",
       "      <td>2014</td>\n",
       "      <td>38802500</td>\n",
       "      <td>153709</td>\n",
       "      <td>1699.0</td>\n",
       "      <td>8398.0</td>\n",
       "      <td>11527.0</td>\n",
       "      <td>48680.0</td>\n",
       "      <td>...</td>\n",
       "      <td>396.1</td>\n",
       "      <td>4.4</td>\n",
       "      <td>21.6</td>\n",
       "      <td>29.7</td>\n",
       "      <td>125.5</td>\n",
       "      <td>236.6</td>\n",
       "      <td>2441.1</td>\n",
       "      <td>522.3</td>\n",
       "      <td>1527.4</td>\n",
       "      <td>391.3</td>\n",
       "    </tr>\n",
       "    <tr>\n",
       "      <th>Colorado</th>\n",
       "      <td>28</td>\n",
       "      <td>16.480</td>\n",
       "      <td>92435</td>\n",
       "      <td>2014</td>\n",
       "      <td>5355866</td>\n",
       "      <td>16554</td>\n",
       "      <td>151.0</td>\n",
       "      <td>2121.0</td>\n",
       "      <td>3039.0</td>\n",
       "      <td>3039.0</td>\n",
       "      <td>...</td>\n",
       "      <td>309.1</td>\n",
       "      <td>2.8</td>\n",
       "      <td>39.6</td>\n",
       "      <td>56.7</td>\n",
       "      <td>56.7</td>\n",
       "      <td>192.8</td>\n",
       "      <td>2530.1</td>\n",
       "      <td>438.2</td>\n",
       "      <td>1857.1</td>\n",
       "      <td>234.8</td>\n",
       "    </tr>\n",
       "    <tr>\n",
       "      <th>Connecticut</th>\n",
       "      <td>14</td>\n",
       "      <td>22.960</td>\n",
       "      <td>82400</td>\n",
       "      <td>2014</td>\n",
       "      <td>3596677</td>\n",
       "      <td>8522</td>\n",
       "      <td>86.0</td>\n",
       "      <td>571.0</td>\n",
       "      <td>782.0</td>\n",
       "      <td>3159.0</td>\n",
       "      <td>...</td>\n",
       "      <td>236.9</td>\n",
       "      <td>2.4</td>\n",
       "      <td>15.9</td>\n",
       "      <td>21.7</td>\n",
       "      <td>87.8</td>\n",
       "      <td>125.0</td>\n",
       "      <td>1920.4</td>\n",
       "      <td>332.4</td>\n",
       "      <td>1418.1</td>\n",
       "      <td>169.9</td>\n",
       "    </tr>\n",
       "    <tr>\n",
       "      <th>DC</th>\n",
       "      <td>2</td>\n",
       "      <td>68.050</td>\n",
       "      <td>47228</td>\n",
       "      <td>2014</td>\n",
       "      <td>658893</td>\n",
       "      <td>8199</td>\n",
       "      <td>105.0</td>\n",
       "      <td>352.0</td>\n",
       "      <td>472.0</td>\n",
       "      <td>3497.0</td>\n",
       "      <td>...</td>\n",
       "      <td>1244.4</td>\n",
       "      <td>15.9</td>\n",
       "      <td>53.4</td>\n",
       "      <td>71.6</td>\n",
       "      <td>530.7</td>\n",
       "      <td>626.1</td>\n",
       "      <td>5182.5</td>\n",
       "      <td>526.0</td>\n",
       "      <td>4082.3</td>\n",
       "      <td>574.1</td>\n",
       "    </tr>\n",
       "    <tr>\n",
       "      <th>Delaware</th>\n",
       "      <td>49</td>\n",
       "      <td>5.040</td>\n",
       "      <td>4852</td>\n",
       "      <td>2014</td>\n",
       "      <td>935614</td>\n",
       "      <td>4576</td>\n",
       "      <td>54.0</td>\n",
       "      <td>249.0</td>\n",
       "      <td>386.0</td>\n",
       "      <td>1269.0</td>\n",
       "      <td>...</td>\n",
       "      <td>489.1</td>\n",
       "      <td>5.8</td>\n",
       "      <td>26.6</td>\n",
       "      <td>41.3</td>\n",
       "      <td>135.6</td>\n",
       "      <td>306.4</td>\n",
       "      <td>2982.0</td>\n",
       "      <td>616.5</td>\n",
       "      <td>2230.1</td>\n",
       "      <td>135.4</td>\n",
       "    </tr>\n",
       "    <tr>\n",
       "      <th>Florida</th>\n",
       "      <td>29</td>\n",
       "      <td>16.350</td>\n",
       "      <td>343288</td>\n",
       "      <td>2014</td>\n",
       "      <td>19893297</td>\n",
       "      <td>107521</td>\n",
       "      <td>1149.0</td>\n",
       "      <td>6051.0</td>\n",
       "      <td>8563.0</td>\n",
       "      <td>24914.0</td>\n",
       "      <td>...</td>\n",
       "      <td>540.5</td>\n",
       "      <td>5.8</td>\n",
       "      <td>30.4</td>\n",
       "      <td>43.0</td>\n",
       "      <td>125.2</td>\n",
       "      <td>366.4</td>\n",
       "      <td>3415.5</td>\n",
       "      <td>719.9</td>\n",
       "      <td>2481.5</td>\n",
       "      <td>214.0</td>\n",
       "    </tr>\n",
       "    <tr>\n",
       "      <th>Georgia</th>\n",
       "      <td>21</td>\n",
       "      <td>18.220</td>\n",
       "      <td>190050</td>\n",
       "      <td>2014</td>\n",
       "      <td>10097343</td>\n",
       "      <td>38097</td>\n",
       "      <td>580.0</td>\n",
       "      <td>2159.0</td>\n",
       "      <td>3048.0</td>\n",
       "      <td>12417.0</td>\n",
       "      <td>...</td>\n",
       "      <td>377.3</td>\n",
       "      <td>5.7</td>\n",
       "      <td>21.4</td>\n",
       "      <td>30.2</td>\n",
       "      <td>123.0</td>\n",
       "      <td>218.4</td>\n",
       "      <td>3281.2</td>\n",
       "      <td>756.9</td>\n",
       "      <td>2258.4</td>\n",
       "      <td>266.0</td>\n",
       "    </tr>\n",
       "    <tr>\n",
       "      <th>Hawaii</th>\n",
       "      <td>47</td>\n",
       "      <td>5.500</td>\n",
       "      <td>7859</td>\n",
       "      <td>2014</td>\n",
       "      <td>1419561</td>\n",
       "      <td>3680</td>\n",
       "      <td>26.0</td>\n",
       "      <td>314.0</td>\n",
       "      <td>445.0</td>\n",
       "      <td>1107.0</td>\n",
       "      <td>...</td>\n",
       "      <td>259.2</td>\n",
       "      <td>1.8</td>\n",
       "      <td>22.1</td>\n",
       "      <td>31.3</td>\n",
       "      <td>78.0</td>\n",
       "      <td>148.1</td>\n",
       "      <td>3050.0</td>\n",
       "      <td>547.9</td>\n",
       "      <td>2228.9</td>\n",
       "      <td>273.3</td>\n",
       "    </tr>\n",
       "    <tr>\n",
       "      <th>Idaho</th>\n",
       "      <td>7</td>\n",
       "      <td>28.860</td>\n",
       "      <td>49566</td>\n",
       "      <td>2014</td>\n",
       "      <td>1634464</td>\n",
       "      <td>3468</td>\n",
       "      <td>32.0</td>\n",
       "      <td>468.0</td>\n",
       "      <td>609.0</td>\n",
       "      <td>204.0</td>\n",
       "      <td>...</td>\n",
       "      <td>212.2</td>\n",
       "      <td>2.0</td>\n",
       "      <td>28.6</td>\n",
       "      <td>37.3</td>\n",
       "      <td>12.5</td>\n",
       "      <td>160.5</td>\n",
       "      <td>1854.8</td>\n",
       "      <td>393.3</td>\n",
       "      <td>1359.9</td>\n",
       "      <td>101.6</td>\n",
       "    </tr>\n",
       "    <tr>\n",
       "      <th>Illinois</th>\n",
       "      <td>40</td>\n",
       "      <td>11.440</td>\n",
       "      <td>146487</td>\n",
       "      <td>2014</td>\n",
       "      <td>12880580</td>\n",
       "      <td>47663</td>\n",
       "      <td>685.0</td>\n",
       "      <td>3081.0</td>\n",
       "      <td>4159.0</td>\n",
       "      <td>15299.0</td>\n",
       "      <td>...</td>\n",
       "      <td>370.0</td>\n",
       "      <td>5.3</td>\n",
       "      <td>23.9</td>\n",
       "      <td>32.3</td>\n",
       "      <td>118.8</td>\n",
       "      <td>213.7</td>\n",
       "      <td>2075.9</td>\n",
       "      <td>388.2</td>\n",
       "      <td>1552.2</td>\n",
       "      <td>135.5</td>\n",
       "    </tr>\n",
       "    <tr>\n",
       "      <th>Indiana</th>\n",
       "      <td>26</td>\n",
       "      <td>17.100</td>\n",
       "      <td>114019</td>\n",
       "      <td>2014</td>\n",
       "      <td>6596855</td>\n",
       "      <td>24099</td>\n",
       "      <td>330.0</td>\n",
       "      <td>1615.0</td>\n",
       "      <td>2186.0</td>\n",
       "      <td>6897.0</td>\n",
       "      <td>...</td>\n",
       "      <td>365.3</td>\n",
       "      <td>5.0</td>\n",
       "      <td>24.5</td>\n",
       "      <td>33.1</td>\n",
       "      <td>104.5</td>\n",
       "      <td>222.6</td>\n",
       "      <td>2649.4</td>\n",
       "      <td>559.3</td>\n",
       "      <td>1880.0</td>\n",
       "      <td>210.1</td>\n",
       "    </tr>\n",
       "    <tr>\n",
       "      <th>Iowa</th>\n",
       "      <td>43</td>\n",
       "      <td>9.050</td>\n",
       "      <td>28494</td>\n",
       "      <td>2014</td>\n",
       "      <td>3107126</td>\n",
       "      <td>8497</td>\n",
       "      <td>60.0</td>\n",
       "      <td>828.0</td>\n",
       "      <td>1128.0</td>\n",
       "      <td>1045.0</td>\n",
       "      <td>...</td>\n",
       "      <td>273.5</td>\n",
       "      <td>1.9</td>\n",
       "      <td>26.6</td>\n",
       "      <td>36.3</td>\n",
       "      <td>33.6</td>\n",
       "      <td>201.6</td>\n",
       "      <td>2093.8</td>\n",
       "      <td>464.4</td>\n",
       "      <td>1495.8</td>\n",
       "      <td>133.6</td>\n",
       "    </tr>\n",
       "    <tr>\n",
       "      <th>Kansas</th>\n",
       "      <td>24</td>\n",
       "      <td>18.060</td>\n",
       "      <td>52634</td>\n",
       "      <td>2014</td>\n",
       "      <td>2904021</td>\n",
       "      <td>10123</td>\n",
       "      <td>91.0</td>\n",
       "      <td>1075.0</td>\n",
       "      <td>1411.0</td>\n",
       "      <td>1362.0</td>\n",
       "      <td>...</td>\n",
       "      <td>348.6</td>\n",
       "      <td>3.1</td>\n",
       "      <td>37.0</td>\n",
       "      <td>48.6</td>\n",
       "      <td>46.9</td>\n",
       "      <td>250.0</td>\n",
       "      <td>2735.2</td>\n",
       "      <td>545.0</td>\n",
       "      <td>1952.4</td>\n",
       "      <td>237.8</td>\n",
       "    </tr>\n",
       "    <tr>\n",
       "      <th>Kentucky</th>\n",
       "      <td>22</td>\n",
       "      <td>18.200</td>\n",
       "      <td>81068</td>\n",
       "      <td>2014</td>\n",
       "      <td>4413457</td>\n",
       "      <td>9340</td>\n",
       "      <td>160.0</td>\n",
       "      <td>883.0</td>\n",
       "      <td>1440.0</td>\n",
       "      <td>3336.0</td>\n",
       "      <td>...</td>\n",
       "      <td>211.6</td>\n",
       "      <td>3.6</td>\n",
       "      <td>20.0</td>\n",
       "      <td>32.6</td>\n",
       "      <td>75.6</td>\n",
       "      <td>99.8</td>\n",
       "      <td>2246.9</td>\n",
       "      <td>526.7</td>\n",
       "      <td>1577.1</td>\n",
       "      <td>143.2</td>\n",
       "    </tr>\n",
       "    <tr>\n",
       "      <th>Louisiana</th>\n",
       "      <td>11</td>\n",
       "      <td>24.940</td>\n",
       "      <td>116831</td>\n",
       "      <td>2014</td>\n",
       "      <td>4649676</td>\n",
       "      <td>23934</td>\n",
       "      <td>477.0</td>\n",
       "      <td>992.0</td>\n",
       "      <td>1375.0</td>\n",
       "      <td>5695.0</td>\n",
       "      <td>...</td>\n",
       "      <td>514.7</td>\n",
       "      <td>10.3</td>\n",
       "      <td>21.3</td>\n",
       "      <td>29.6</td>\n",
       "      <td>122.5</td>\n",
       "      <td>352.4</td>\n",
       "      <td>3458.8</td>\n",
       "      <td>824.5</td>\n",
       "      <td>2421.6</td>\n",
       "      <td>212.7</td>\n",
       "    </tr>\n",
       "    <tr>\n",
       "      <th>Maine</th>\n",
       "      <td>39</td>\n",
       "      <td>11.500</td>\n",
       "      <td>15371</td>\n",
       "      <td>2014</td>\n",
       "      <td>1330089</td>\n",
       "      <td>1700</td>\n",
       "      <td>21.0</td>\n",
       "      <td>360.0</td>\n",
       "      <td>485.0</td>\n",
       "      <td>304.0</td>\n",
       "      <td>...</td>\n",
       "      <td>127.8</td>\n",
       "      <td>1.6</td>\n",
       "      <td>27.1</td>\n",
       "      <td>36.5</td>\n",
       "      <td>22.9</td>\n",
       "      <td>66.9</td>\n",
       "      <td>1986.4</td>\n",
       "      <td>378.2</td>\n",
       "      <td>1548.2</td>\n",
       "      <td>60.1</td>\n",
       "    </tr>\n",
       "    <tr>\n",
       "      <th>Maryland</th>\n",
       "      <td>27</td>\n",
       "      <td>17.030</td>\n",
       "      <td>103109</td>\n",
       "      <td>2014</td>\n",
       "      <td>5976407</td>\n",
       "      <td>26661</td>\n",
       "      <td>365.0</td>\n",
       "      <td>1144.0</td>\n",
       "      <td>1619.0</td>\n",
       "      <td>9544.0</td>\n",
       "      <td>...</td>\n",
       "      <td>446.1</td>\n",
       "      <td>6.1</td>\n",
       "      <td>19.1</td>\n",
       "      <td>27.1</td>\n",
       "      <td>159.7</td>\n",
       "      <td>253.2</td>\n",
       "      <td>2507.5</td>\n",
       "      <td>468.7</td>\n",
       "      <td>1819.6</td>\n",
       "      <td>219.2</td>\n",
       "    </tr>\n",
       "    <tr>\n",
       "      <th>Massachusetts</th>\n",
       "      <td>48</td>\n",
       "      <td>5.410</td>\n",
       "      <td>37152</td>\n",
       "      <td>2014</td>\n",
       "      <td>6745408</td>\n",
       "      <td>26399</td>\n",
       "      <td>132.0</td>\n",
       "      <td>1629.0</td>\n",
       "      <td>2180.0</td>\n",
       "      <td>6036.0</td>\n",
       "      <td>...</td>\n",
       "      <td>391.4</td>\n",
       "      <td>2.0</td>\n",
       "      <td>24.1</td>\n",
       "      <td>32.3</td>\n",
       "      <td>89.5</td>\n",
       "      <td>267.6</td>\n",
       "      <td>1857.1</td>\n",
       "      <td>370.1</td>\n",
       "      <td>1364.5</td>\n",
       "      <td>122.5</td>\n",
       "    </tr>\n",
       "    <tr>\n",
       "      <th>Michigan</th>\n",
       "      <td>45</td>\n",
       "      <td>6.590</td>\n",
       "      <td>65742</td>\n",
       "      <td>2014</td>\n",
       "      <td>9909877</td>\n",
       "      <td>42348</td>\n",
       "      <td>535.0</td>\n",
       "      <td>4049.0</td>\n",
       "      <td>6273.0</td>\n",
       "      <td>8021.0</td>\n",
       "      <td>...</td>\n",
       "      <td>427.3</td>\n",
       "      <td>5.4</td>\n",
       "      <td>40.9</td>\n",
       "      <td>63.3</td>\n",
       "      <td>80.9</td>\n",
       "      <td>277.7</td>\n",
       "      <td>2043.9</td>\n",
       "      <td>445.9</td>\n",
       "      <td>1384.5</td>\n",
       "      <td>213.5</td>\n",
       "    </tr>\n",
       "    <tr>\n",
       "      <th>Minnesota</th>\n",
       "      <td>34</td>\n",
       "      <td>14.220</td>\n",
       "      <td>79307</td>\n",
       "      <td>2014</td>\n",
       "      <td>5457173</td>\n",
       "      <td>12505</td>\n",
       "      <td>88.0</td>\n",
       "      <td>1452.0</td>\n",
       "      <td>2001.0</td>\n",
       "      <td>3687.0</td>\n",
       "      <td>...</td>\n",
       "      <td>229.1</td>\n",
       "      <td>1.6</td>\n",
       "      <td>26.6</td>\n",
       "      <td>36.7</td>\n",
       "      <td>67.6</td>\n",
       "      <td>123.3</td>\n",
       "      <td>2297.5</td>\n",
       "      <td>380.7</td>\n",
       "      <td>1763.5</td>\n",
       "      <td>153.3</td>\n",
       "    </tr>\n",
       "    <tr>\n",
       "      <th>Mississippi</th>\n",
       "      <td>37</td>\n",
       "      <td>11.890</td>\n",
       "      <td>35494</td>\n",
       "      <td>2014</td>\n",
       "      <td>2994079</td>\n",
       "      <td>8338</td>\n",
       "      <td>258.0</td>\n",
       "      <td>764.0</td>\n",
       "      <td>1058.0</td>\n",
       "      <td>2430.0</td>\n",
       "      <td>...</td>\n",
       "      <td>278.5</td>\n",
       "      <td>8.6</td>\n",
       "      <td>25.5</td>\n",
       "      <td>35.3</td>\n",
       "      <td>81.2</td>\n",
       "      <td>153.4</td>\n",
       "      <td>2921.2</td>\n",
       "      <td>813.3</td>\n",
       "      <td>1956.9</td>\n",
       "      <td>150.9</td>\n",
       "    </tr>\n",
       "    <tr>\n",
       "      <th>Missouri</th>\n",
       "      <td>36</td>\n",
       "      <td>11.940</td>\n",
       "      <td>72996</td>\n",
       "      <td>2014</td>\n",
       "      <td>6063589</td>\n",
       "      <td>26856</td>\n",
       "      <td>403.0</td>\n",
       "      <td>1706.0</td>\n",
       "      <td>2379.0</td>\n",
       "      <td>5592.0</td>\n",
       "      <td>...</td>\n",
       "      <td>442.9</td>\n",
       "      <td>6.6</td>\n",
       "      <td>28.1</td>\n",
       "      <td>39.2</td>\n",
       "      <td>92.2</td>\n",
       "      <td>304.8</td>\n",
       "      <td>2906.5</td>\n",
       "      <td>581.5</td>\n",
       "      <td>2055.3</td>\n",
       "      <td>269.8</td>\n",
       "    </tr>\n",
       "    <tr>\n",
       "      <th>Montana</th>\n",
       "      <td>16</td>\n",
       "      <td>21.060</td>\n",
       "      <td>22133</td>\n",
       "      <td>2014</td>\n",
       "      <td>1023579</td>\n",
       "      <td>3313</td>\n",
       "      <td>37.0</td>\n",
       "      <td>430.0</td>\n",
       "      <td>541.0</td>\n",
       "      <td>203.0</td>\n",
       "      <td>...</td>\n",
       "      <td>323.7</td>\n",
       "      <td>3.6</td>\n",
       "      <td>42.0</td>\n",
       "      <td>52.9</td>\n",
       "      <td>19.8</td>\n",
       "      <td>247.4</td>\n",
       "      <td>2472.9</td>\n",
       "      <td>351.2</td>\n",
       "      <td>1922.1</td>\n",
       "      <td>199.6</td>\n",
       "    </tr>\n",
       "    <tr>\n",
       "      <th>Nebraska</th>\n",
       "      <td>38</td>\n",
       "      <td>11.570</td>\n",
       "      <td>22234</td>\n",
       "      <td>2014</td>\n",
       "      <td>1881503</td>\n",
       "      <td>5275</td>\n",
       "      <td>54.0</td>\n",
       "      <td>620.0</td>\n",
       "      <td>862.0</td>\n",
       "      <td>1043.0</td>\n",
       "      <td>...</td>\n",
       "      <td>280.4</td>\n",
       "      <td>2.9</td>\n",
       "      <td>33.0</td>\n",
       "      <td>45.8</td>\n",
       "      <td>55.4</td>\n",
       "      <td>176.2</td>\n",
       "      <td>2523.5</td>\n",
       "      <td>422.5</td>\n",
       "      <td>1864.1</td>\n",
       "      <td>236.8</td>\n",
       "    </tr>\n",
       "    <tr>\n",
       "      <th>Nevada</th>\n",
       "      <td>9</td>\n",
       "      <td>25.640</td>\n",
       "      <td>76888</td>\n",
       "      <td>2014</td>\n",
       "      <td>2839099</td>\n",
       "      <td>18045</td>\n",
       "      <td>170.0</td>\n",
       "      <td>995.0</td>\n",
       "      <td>1357.0</td>\n",
       "      <td>5954.0</td>\n",
       "      <td>...</td>\n",
       "      <td>635.6</td>\n",
       "      <td>6.0</td>\n",
       "      <td>35.0</td>\n",
       "      <td>47.8</td>\n",
       "      <td>209.7</td>\n",
       "      <td>372.1</td>\n",
       "      <td>2625.4</td>\n",
       "      <td>772.3</td>\n",
       "      <td>1494.3</td>\n",
       "      <td>358.7</td>\n",
       "    </tr>\n",
       "    <tr>\n",
       "      <th>New_Hampshire</th>\n",
       "      <td>3</td>\n",
       "      <td>46.760</td>\n",
       "      <td>64135</td>\n",
       "      <td>2014</td>\n",
       "      <td>1326813</td>\n",
       "      <td>2602</td>\n",
       "      <td>12.0</td>\n",
       "      <td>458.0</td>\n",
       "      <td>594.0</td>\n",
       "      <td>537.0</td>\n",
       "      <td>...</td>\n",
       "      <td>196.1</td>\n",
       "      <td>0.9</td>\n",
       "      <td>34.5</td>\n",
       "      <td>44.8</td>\n",
       "      <td>40.5</td>\n",
       "      <td>110.0</td>\n",
       "      <td>1962.7</td>\n",
       "      <td>313.7</td>\n",
       "      <td>1584.4</td>\n",
       "      <td>64.6</td>\n",
       "    </tr>\n",
       "    <tr>\n",
       "      <th>New_Jersey</th>\n",
       "      <td>46</td>\n",
       "      <td>6.380</td>\n",
       "      <td>57507</td>\n",
       "      <td>2014</td>\n",
       "      <td>8938175</td>\n",
       "      <td>23346</td>\n",
       "      <td>349.0</td>\n",
       "      <td>953.0</td>\n",
       "      <td>1274.0</td>\n",
       "      <td>10498.0</td>\n",
       "      <td>...</td>\n",
       "      <td>261.2</td>\n",
       "      <td>3.9</td>\n",
       "      <td>10.7</td>\n",
       "      <td>14.3</td>\n",
       "      <td>117.5</td>\n",
       "      <td>125.6</td>\n",
       "      <td>1734.1</td>\n",
       "      <td>354.8</td>\n",
       "      <td>1248.3</td>\n",
       "      <td>131.0</td>\n",
       "    </tr>\n",
       "    <tr>\n",
       "      <th>New_Mexico</th>\n",
       "      <td>4</td>\n",
       "      <td>46.730</td>\n",
       "      <td>97580</td>\n",
       "      <td>2014</td>\n",
       "      <td>2085572</td>\n",
       "      <td>12459</td>\n",
       "      <td>101.0</td>\n",
       "      <td>1071.0</td>\n",
       "      <td>1475.0</td>\n",
       "      <td>2086.0</td>\n",
       "      <td>...</td>\n",
       "      <td>597.4</td>\n",
       "      <td>4.8</td>\n",
       "      <td>51.4</td>\n",
       "      <td>70.7</td>\n",
       "      <td>100.0</td>\n",
       "      <td>421.8</td>\n",
       "      <td>3542.3</td>\n",
       "      <td>887.3</td>\n",
       "      <td>2353.4</td>\n",
       "      <td>301.6</td>\n",
       "    </tr>\n",
       "    <tr>\n",
       "      <th>New_York</th>\n",
       "      <td>51</td>\n",
       "      <td>3.830</td>\n",
       "      <td>76207</td>\n",
       "      <td>2014</td>\n",
       "      <td>19746227</td>\n",
       "      <td>75398</td>\n",
       "      <td>617.0</td>\n",
       "      <td>3918.0</td>\n",
       "      <td>5433.0</td>\n",
       "      <td>24045.0</td>\n",
       "      <td>...</td>\n",
       "      <td>381.8</td>\n",
       "      <td>3.1</td>\n",
       "      <td>19.8</td>\n",
       "      <td>27.5</td>\n",
       "      <td>121.8</td>\n",
       "      <td>229.4</td>\n",
       "      <td>1718.2</td>\n",
       "      <td>257.2</td>\n",
       "      <td>1381.4</td>\n",
       "      <td>79.7</td>\n",
       "    </tr>\n",
       "    <tr>\n",
       "      <th>North_Carolina</th>\n",
       "      <td>31</td>\n",
       "      <td>14.818</td>\n",
       "      <td>152238</td>\n",
       "      <td>2014</td>\n",
       "      <td>9943964</td>\n",
       "      <td>32767</td>\n",
       "      <td>510.0</td>\n",
       "      <td>1740.0</td>\n",
       "      <td>2420.0</td>\n",
       "      <td>8416.0</td>\n",
       "      <td>...</td>\n",
       "      <td>329.5</td>\n",
       "      <td>5.1</td>\n",
       "      <td>17.5</td>\n",
       "      <td>24.3</td>\n",
       "      <td>84.6</td>\n",
       "      <td>215.4</td>\n",
       "      <td>2873.1</td>\n",
       "      <td>798.2</td>\n",
       "      <td>1937.8</td>\n",
       "      <td>137.1</td>\n",
       "    </tr>\n",
       "    <tr>\n",
       "      <th>North_Dakota</th>\n",
       "      <td>25</td>\n",
       "      <td>17.560</td>\n",
       "      <td>13272</td>\n",
       "      <td>2014</td>\n",
       "      <td>739482</td>\n",
       "      <td>1960</td>\n",
       "      <td>22.0</td>\n",
       "      <td>276.0</td>\n",
       "      <td>358.0</td>\n",
       "      <td>173.0</td>\n",
       "      <td>...</td>\n",
       "      <td>265.1</td>\n",
       "      <td>3.0</td>\n",
       "      <td>37.3</td>\n",
       "      <td>48.4</td>\n",
       "      <td>23.4</td>\n",
       "      <td>190.3</td>\n",
       "      <td>2110.3</td>\n",
       "      <td>366.1</td>\n",
       "      <td>1539.5</td>\n",
       "      <td>204.7</td>\n",
       "    </tr>\n",
       "    <tr>\n",
       "      <th>Ohio</th>\n",
       "      <td>30</td>\n",
       "      <td>14.870</td>\n",
       "      <td>173405</td>\n",
       "      <td>2014</td>\n",
       "      <td>11594163</td>\n",
       "      <td>33030</td>\n",
       "      <td>464.0</td>\n",
       "      <td>4097.0</td>\n",
       "      <td>5042.0</td>\n",
       "      <td>12753.0</td>\n",
       "      <td>...</td>\n",
       "      <td>284.9</td>\n",
       "      <td>4.0</td>\n",
       "      <td>35.3</td>\n",
       "      <td>43.5</td>\n",
       "      <td>110.0</td>\n",
       "      <td>127.4</td>\n",
       "      <td>2799.1</td>\n",
       "      <td>680.0</td>\n",
       "      <td>1963.6</td>\n",
       "      <td>155.4</td>\n",
       "    </tr>\n",
       "    <tr>\n",
       "      <th>Oklahoma</th>\n",
       "      <td>23</td>\n",
       "      <td>18.130</td>\n",
       "      <td>71269</td>\n",
       "      <td>2014</td>\n",
       "      <td>3878051</td>\n",
       "      <td>15744</td>\n",
       "      <td>175.0</td>\n",
       "      <td>1277.0</td>\n",
       "      <td>1777.0</td>\n",
       "      <td>3048.0</td>\n",
       "      <td>...</td>\n",
       "      <td>406.0</td>\n",
       "      <td>4.5</td>\n",
       "      <td>32.9</td>\n",
       "      <td>45.8</td>\n",
       "      <td>78.6</td>\n",
       "      <td>277.0</td>\n",
       "      <td>2990.7</td>\n",
       "      <td>760.9</td>\n",
       "      <td>1956.9</td>\n",
       "      <td>272.9</td>\n",
       "    </tr>\n",
       "    <tr>\n",
       "      <th>Oregon</th>\n",
       "      <td>32</td>\n",
       "      <td>14.816</td>\n",
       "      <td>61383</td>\n",
       "      <td>2014</td>\n",
       "      <td>3970239</td>\n",
       "      <td>9224</td>\n",
       "      <td>81.0</td>\n",
       "      <td>1052.0</td>\n",
       "      <td>1458.0</td>\n",
       "      <td>2093.0</td>\n",
       "      <td>...</td>\n",
       "      <td>232.3</td>\n",
       "      <td>2.0</td>\n",
       "      <td>26.5</td>\n",
       "      <td>36.7</td>\n",
       "      <td>52.7</td>\n",
       "      <td>140.8</td>\n",
       "      <td>2879.0</td>\n",
       "      <td>434.0</td>\n",
       "      <td>2204.6</td>\n",
       "      <td>240.5</td>\n",
       "    </tr>\n",
       "    <tr>\n",
       "      <th>Pennsylvania</th>\n",
       "      <td>20</td>\n",
       "      <td>18.450</td>\n",
       "      <td>236377</td>\n",
       "      <td>2014</td>\n",
       "      <td>12787209</td>\n",
       "      <td>40164</td>\n",
       "      <td>614.0</td>\n",
       "      <td>2787.0</td>\n",
       "      <td>3827.0</td>\n",
       "      <td>13534.0</td>\n",
       "      <td>...</td>\n",
       "      <td>314.1</td>\n",
       "      <td>4.8</td>\n",
       "      <td>21.8</td>\n",
       "      <td>29.9</td>\n",
       "      <td>105.8</td>\n",
       "      <td>173.5</td>\n",
       "      <td>1931.7</td>\n",
       "      <td>357.5</td>\n",
       "      <td>1472.2</td>\n",
       "      <td>102.0</td>\n",
       "    </tr>\n",
       "    <tr>\n",
       "      <th>Rhode_Island</th>\n",
       "      <td>50</td>\n",
       "      <td>3.980</td>\n",
       "      <td>37152</td>\n",
       "      <td>2014</td>\n",
       "      <td>1055173</td>\n",
       "      <td>2313</td>\n",
       "      <td>25.0</td>\n",
       "      <td>253.0</td>\n",
       "      <td>361.0</td>\n",
       "      <td>529.0</td>\n",
       "      <td>...</td>\n",
       "      <td>219.2</td>\n",
       "      <td>2.4</td>\n",
       "      <td>24.0</td>\n",
       "      <td>34.2</td>\n",
       "      <td>50.1</td>\n",
       "      <td>132.5</td>\n",
       "      <td>2173.6</td>\n",
       "      <td>457.1</td>\n",
       "      <td>1542.8</td>\n",
       "      <td>173.7</td>\n",
       "    </tr>\n",
       "    <tr>\n",
       "      <th>South_Carolina</th>\n",
       "      <td>17</td>\n",
       "      <td>21.010</td>\n",
       "      <td>105601</td>\n",
       "      <td>2014</td>\n",
       "      <td>4832482</td>\n",
       "      <td>24052</td>\n",
       "      <td>311.0</td>\n",
       "      <td>1480.0</td>\n",
       "      <td>2068.0</td>\n",
       "      <td>3997.0</td>\n",
       "      <td>...</td>\n",
       "      <td>497.7</td>\n",
       "      <td>6.4</td>\n",
       "      <td>30.6</td>\n",
       "      <td>42.8</td>\n",
       "      <td>82.7</td>\n",
       "      <td>365.8</td>\n",
       "      <td>3460.3</td>\n",
       "      <td>759.9</td>\n",
       "      <td>2433.4</td>\n",
       "      <td>267.0</td>\n",
       "    </tr>\n",
       "    <tr>\n",
       "      <th>South_Dakota</th>\n",
       "      <td>12</td>\n",
       "      <td>24.290</td>\n",
       "      <td>21130</td>\n",
       "      <td>2014</td>\n",
       "      <td>853175</td>\n",
       "      <td>2786</td>\n",
       "      <td>20.0</td>\n",
       "      <td>413.0</td>\n",
       "      <td>470.0</td>\n",
       "      <td>200.0</td>\n",
       "      <td>...</td>\n",
       "      <td>326.5</td>\n",
       "      <td>2.3</td>\n",
       "      <td>48.4</td>\n",
       "      <td>55.1</td>\n",
       "      <td>23.4</td>\n",
       "      <td>245.7</td>\n",
       "      <td>1863.9</td>\n",
       "      <td>330.3</td>\n",
       "      <td>1415.5</td>\n",
       "      <td>118.0</td>\n",
       "    </tr>\n",
       "    <tr>\n",
       "      <th>Tennessee</th>\n",
       "      <td>33</td>\n",
       "      <td>14.760</td>\n",
       "      <td>99159</td>\n",
       "      <td>2014</td>\n",
       "      <td>6549352</td>\n",
       "      <td>39848</td>\n",
       "      <td>371.0</td>\n",
       "      <td>1861.0</td>\n",
       "      <td>2531.0</td>\n",
       "      <td>7265.0</td>\n",
       "      <td>...</td>\n",
       "      <td>608.4</td>\n",
       "      <td>5.7</td>\n",
       "      <td>28.4</td>\n",
       "      <td>38.6</td>\n",
       "      <td>110.9</td>\n",
       "      <td>453.2</td>\n",
       "      <td>3060.6</td>\n",
       "      <td>712.2</td>\n",
       "      <td>2156.0</td>\n",
       "      <td>192.4</td>\n",
       "    </tr>\n",
       "    <tr>\n",
       "      <th>Texas</th>\n",
       "      <td>18</td>\n",
       "      <td>20.790</td>\n",
       "      <td>588696</td>\n",
       "      <td>2014</td>\n",
       "      <td>26956958</td>\n",
       "      <td>109414</td>\n",
       "      <td>1184.0</td>\n",
       "      <td>8236.0</td>\n",
       "      <td>11393.0</td>\n",
       "      <td>31181.0</td>\n",
       "      <td>...</td>\n",
       "      <td>405.9</td>\n",
       "      <td>4.4</td>\n",
       "      <td>30.6</td>\n",
       "      <td>42.3</td>\n",
       "      <td>115.7</td>\n",
       "      <td>243.6</td>\n",
       "      <td>3019.4</td>\n",
       "      <td>627.8</td>\n",
       "      <td>2137.3</td>\n",
       "      <td>254.3</td>\n",
       "    </tr>\n",
       "    <tr>\n",
       "      <th>Utah</th>\n",
       "      <td>13</td>\n",
       "      <td>23.480</td>\n",
       "      <td>72856</td>\n",
       "      <td>2014</td>\n",
       "      <td>2942902</td>\n",
       "      <td>6346</td>\n",
       "      <td>67.0</td>\n",
       "      <td>945.0</td>\n",
       "      <td>1454.0</td>\n",
       "      <td>1312.0</td>\n",
       "      <td>...</td>\n",
       "      <td>215.6</td>\n",
       "      <td>2.3</td>\n",
       "      <td>32.1</td>\n",
       "      <td>49.4</td>\n",
       "      <td>44.6</td>\n",
       "      <td>119.4</td>\n",
       "      <td>2878.5</td>\n",
       "      <td>391.4</td>\n",
       "      <td>2239.1</td>\n",
       "      <td>248.0</td>\n",
       "    </tr>\n",
       "    <tr>\n",
       "      <th>Vermont</th>\n",
       "      <td>42</td>\n",
       "      <td>9.410</td>\n",
       "      <td>5872</td>\n",
       "      <td>2014</td>\n",
       "      <td>626562</td>\n",
       "      <td>622</td>\n",
       "      <td>10.0</td>\n",
       "      <td>99.0</td>\n",
       "      <td>110.0</td>\n",
       "      <td>70.0</td>\n",
       "      <td>...</td>\n",
       "      <td>99.3</td>\n",
       "      <td>1.6</td>\n",
       "      <td>15.8</td>\n",
       "      <td>17.6</td>\n",
       "      <td>11.2</td>\n",
       "      <td>68.9</td>\n",
       "      <td>1524.4</td>\n",
       "      <td>324.6</td>\n",
       "      <td>1160.8</td>\n",
       "      <td>38.9</td>\n",
       "    </tr>\n",
       "    <tr>\n",
       "      <th>Virginia</th>\n",
       "      <td>5</td>\n",
       "      <td>36.340</td>\n",
       "      <td>307822</td>\n",
       "      <td>2014</td>\n",
       "      <td>8326289</td>\n",
       "      <td>16340</td>\n",
       "      <td>338.0</td>\n",
       "      <td>1432.0</td>\n",
       "      <td>2310.0</td>\n",
       "      <td>4292.0</td>\n",
       "      <td>...</td>\n",
       "      <td>196.2</td>\n",
       "      <td>4.1</td>\n",
       "      <td>17.2</td>\n",
       "      <td>27.7</td>\n",
       "      <td>51.5</td>\n",
       "      <td>112.9</td>\n",
       "      <td>1930.3</td>\n",
       "      <td>277.7</td>\n",
       "      <td>1560.5</td>\n",
       "      <td>92.1</td>\n",
       "    </tr>\n",
       "    <tr>\n",
       "      <th>Washington</th>\n",
       "      <td>35</td>\n",
       "      <td>12.400</td>\n",
       "      <td>91835</td>\n",
       "      <td>2014</td>\n",
       "      <td>7061530</td>\n",
       "      <td>20136</td>\n",
       "      <td>174.0</td>\n",
       "      <td>2171.0</td>\n",
       "      <td>2695.0</td>\n",
       "      <td>5640.0</td>\n",
       "      <td>...</td>\n",
       "      <td>285.2</td>\n",
       "      <td>2.5</td>\n",
       "      <td>30.7</td>\n",
       "      <td>38.2</td>\n",
       "      <td>79.9</td>\n",
       "      <td>164.7</td>\n",
       "      <td>3706.1</td>\n",
       "      <td>783.0</td>\n",
       "      <td>2489.1</td>\n",
       "      <td>434.0</td>\n",
       "    </tr>\n",
       "    <tr>\n",
       "      <th>West_Virginia</th>\n",
       "      <td>19</td>\n",
       "      <td>19.420</td>\n",
       "      <td>35264</td>\n",
       "      <td>2014</td>\n",
       "      <td>1850326</td>\n",
       "      <td>5588</td>\n",
       "      <td>74.0</td>\n",
       "      <td>285.0</td>\n",
       "      <td>505.0</td>\n",
       "      <td>651.0</td>\n",
       "      <td>...</td>\n",
       "      <td>302.0</td>\n",
       "      <td>4.0</td>\n",
       "      <td>15.4</td>\n",
       "      <td>27.3</td>\n",
       "      <td>35.2</td>\n",
       "      <td>235.5</td>\n",
       "      <td>2034.7</td>\n",
       "      <td>484.9</td>\n",
       "      <td>1447.3</td>\n",
       "      <td>102.5</td>\n",
       "    </tr>\n",
       "    <tr>\n",
       "      <th>Wisconsin</th>\n",
       "      <td>41</td>\n",
       "      <td>11.190</td>\n",
       "      <td>64878</td>\n",
       "      <td>2014</td>\n",
       "      <td>5757564</td>\n",
       "      <td>16714</td>\n",
       "      <td>165.0</td>\n",
       "      <td>1168.0</td>\n",
       "      <td>1674.0</td>\n",
       "      <td>5066.0</td>\n",
       "      <td>...</td>\n",
       "      <td>290.3</td>\n",
       "      <td>2.9</td>\n",
       "      <td>20.3</td>\n",
       "      <td>29.1</td>\n",
       "      <td>88.0</td>\n",
       "      <td>170.4</td>\n",
       "      <td>2088.3</td>\n",
       "      <td>368.5</td>\n",
       "      <td>1547.6</td>\n",
       "      <td>172.3</td>\n",
       "    </tr>\n",
       "    <tr>\n",
       "      <th>Wyoming</th>\n",
       "      <td>1</td>\n",
       "      <td>229.240</td>\n",
       "      <td>132806</td>\n",
       "      <td>2014</td>\n",
       "      <td>584153</td>\n",
       "      <td>1142</td>\n",
       "      <td>16.0</td>\n",
       "      <td>126.0</td>\n",
       "      <td>174.0</td>\n",
       "      <td>53.0</td>\n",
       "      <td>...</td>\n",
       "      <td>195.5</td>\n",
       "      <td>2.7</td>\n",
       "      <td>21.6</td>\n",
       "      <td>29.8</td>\n",
       "      <td>9.1</td>\n",
       "      <td>153.9</td>\n",
       "      <td>1964.7</td>\n",
       "      <td>289.1</td>\n",
       "      <td>1572.4</td>\n",
       "      <td>103.2</td>\n",
       "    </tr>\n",
       "  </tbody>\n",
       "</table>\n",
       "<p>51 rows × 25 columns</p>\n",
       "</div>"
      ],
      "text/plain": [
       "                Rank  # of guns per capita  # of guns registered  Year  \\\n",
       "State                                                                    \n",
       "Alabama            6                33.150                161641  2014   \n",
       "Alaska            15                21.380                 15824  2014   \n",
       "Arizona           10                25.610                179738  2014   \n",
       "Arkansas           8                26.570                 79841  2014   \n",
       "California        44                 8.710                344622  2014   \n",
       "Colorado          28                16.480                 92435  2014   \n",
       "Connecticut       14                22.960                 82400  2014   \n",
       "DC                 2                68.050                 47228  2014   \n",
       "Delaware          49                 5.040                  4852  2014   \n",
       "Florida           29                16.350                343288  2014   \n",
       "Georgia           21                18.220                190050  2014   \n",
       "Hawaii            47                 5.500                  7859  2014   \n",
       "Idaho              7                28.860                 49566  2014   \n",
       "Illinois          40                11.440                146487  2014   \n",
       "Indiana           26                17.100                114019  2014   \n",
       "Iowa              43                 9.050                 28494  2014   \n",
       "Kansas            24                18.060                 52634  2014   \n",
       "Kentucky          22                18.200                 81068  2014   \n",
       "Louisiana         11                24.940                116831  2014   \n",
       "Maine             39                11.500                 15371  2014   \n",
       "Maryland          27                17.030                103109  2014   \n",
       "Massachusetts     48                 5.410                 37152  2014   \n",
       "Michigan          45                 6.590                 65742  2014   \n",
       "Minnesota         34                14.220                 79307  2014   \n",
       "Mississippi       37                11.890                 35494  2014   \n",
       "Missouri          36                11.940                 72996  2014   \n",
       "Montana           16                21.060                 22133  2014   \n",
       "Nebraska          38                11.570                 22234  2014   \n",
       "Nevada             9                25.640                 76888  2014   \n",
       "New_Hampshire      3                46.760                 64135  2014   \n",
       "New_Jersey        46                 6.380                 57507  2014   \n",
       "New_Mexico         4                46.730                 97580  2014   \n",
       "New_York          51                 3.830                 76207  2014   \n",
       "North_Carolina    31                14.818                152238  2014   \n",
       "North_Dakota      25                17.560                 13272  2014   \n",
       "Ohio              30                14.870                173405  2014   \n",
       "Oklahoma          23                18.130                 71269  2014   \n",
       "Oregon            32                14.816                 61383  2014   \n",
       "Pennsylvania      20                18.450                236377  2014   \n",
       "Rhode_Island      50                 3.980                 37152  2014   \n",
       "South_Carolina    17                21.010                105601  2014   \n",
       "South_Dakota      12                24.290                 21130  2014   \n",
       "Tennessee         33                14.760                 99159  2014   \n",
       "Texas             18                20.790                588696  2014   \n",
       "Utah              13                23.480                 72856  2014   \n",
       "Vermont           42                 9.410                  5872  2014   \n",
       "Virginia           5                36.340                307822  2014   \n",
       "Washington        35                12.400                 91835  2014   \n",
       "West_Virginia     19                19.420                 35264  2014   \n",
       "Wisconsin         41                11.190                 64878  2014   \n",
       "Wyoming            1               229.240                132806  2014   \n",
       "\n",
       "                 Population Violent crime total  \\\n",
       "State                                             \n",
       "Alabama             4849377               20727   \n",
       "Alaska               736732                4684   \n",
       "Arizona             6731484               26916   \n",
       "Arkansas            2966369               14243   \n",
       "California         38802500              153709   \n",
       "Colorado            5355866               16554   \n",
       "Connecticut         3596677                8522   \n",
       "DC                   658893                8199   \n",
       "Delaware             935614                4576   \n",
       "Florida            19893297              107521   \n",
       "Georgia            10097343               38097   \n",
       "Hawaii              1419561                3680   \n",
       "Idaho               1634464                3468   \n",
       "Illinois           12880580               47663   \n",
       "Indiana             6596855               24099   \n",
       "Iowa                3107126                8497   \n",
       "Kansas              2904021               10123   \n",
       "Kentucky            4413457                9340   \n",
       "Louisiana           4649676               23934   \n",
       "Maine               1330089                1700   \n",
       "Maryland            5976407               26661   \n",
       "Massachusetts       6745408               26399   \n",
       "Michigan            9909877               42348   \n",
       "Minnesota           5457173               12505   \n",
       "Mississippi         2994079                8338   \n",
       "Missouri            6063589               26856   \n",
       "Montana             1023579                3313   \n",
       "Nebraska            1881503                5275   \n",
       "Nevada              2839099               18045   \n",
       "New_Hampshire       1326813                2602   \n",
       "New_Jersey          8938175               23346   \n",
       "New_Mexico          2085572               12459   \n",
       "New_York           19746227               75398   \n",
       "North_Carolina      9943964               32767   \n",
       "North_Dakota         739482                1960   \n",
       "Ohio               11594163               33030   \n",
       "Oklahoma            3878051               15744   \n",
       "Oregon              3970239                9224   \n",
       "Pennsylvania       12787209               40164   \n",
       "Rhode_Island        1055173                2313   \n",
       "South_Carolina      4832482               24052   \n",
       "South_Dakota         853175                2786   \n",
       "Tennessee           6549352               39848   \n",
       "Texas              26956958              109414   \n",
       "Utah                2942902                6346   \n",
       "Vermont              626562                 622   \n",
       "Virginia            8326289               16340   \n",
       "Washington          7061530               20136   \n",
       "West_Virginia       1850326                5588   \n",
       "Wisconsin           5757564               16714   \n",
       "Wyoming              584153                1142   \n",
       "\n",
       "                Murder and nonnegligent Manslaughter  Legacy rape /1  \\\n",
       "State                                                                  \n",
       "Alabama                                        276.0          1436.0   \n",
       "Alaska                                          41.0           555.0   \n",
       "Arizona                                        319.0          2464.0   \n",
       "Arkansas                                       165.0          1182.0   \n",
       "California                                    1699.0          8398.0   \n",
       "Colorado                                       151.0          2121.0   \n",
       "Connecticut                                     86.0           571.0   \n",
       "DC                                             105.0           352.0   \n",
       "Delaware                                        54.0           249.0   \n",
       "Florida                                       1149.0          6051.0   \n",
       "Georgia                                        580.0          2159.0   \n",
       "Hawaii                                          26.0           314.0   \n",
       "Idaho                                           32.0           468.0   \n",
       "Illinois                                       685.0          3081.0   \n",
       "Indiana                                        330.0          1615.0   \n",
       "Iowa                                            60.0           828.0   \n",
       "Kansas                                          91.0          1075.0   \n",
       "Kentucky                                       160.0           883.0   \n",
       "Louisiana                                      477.0           992.0   \n",
       "Maine                                           21.0           360.0   \n",
       "Maryland                                       365.0          1144.0   \n",
       "Massachusetts                                  132.0          1629.0   \n",
       "Michigan                                       535.0          4049.0   \n",
       "Minnesota                                       88.0          1452.0   \n",
       "Mississippi                                    258.0           764.0   \n",
       "Missouri                                       403.0          1706.0   \n",
       "Montana                                         37.0           430.0   \n",
       "Nebraska                                        54.0           620.0   \n",
       "Nevada                                         170.0           995.0   \n",
       "New_Hampshire                                   12.0           458.0   \n",
       "New_Jersey                                     349.0           953.0   \n",
       "New_Mexico                                     101.0          1071.0   \n",
       "New_York                                       617.0          3918.0   \n",
       "North_Carolina                                 510.0          1740.0   \n",
       "North_Dakota                                    22.0           276.0   \n",
       "Ohio                                           464.0          4097.0   \n",
       "Oklahoma                                       175.0          1277.0   \n",
       "Oregon                                          81.0          1052.0   \n",
       "Pennsylvania                                   614.0          2787.0   \n",
       "Rhode_Island                                    25.0           253.0   \n",
       "South_Carolina                                 311.0          1480.0   \n",
       "South_Dakota                                    20.0           413.0   \n",
       "Tennessee                                      371.0          1861.0   \n",
       "Texas                                         1184.0          8236.0   \n",
       "Utah                                            67.0           945.0   \n",
       "Vermont                                         10.0            99.0   \n",
       "Virginia                                       338.0          1432.0   \n",
       "Washington                                     174.0          2171.0   \n",
       "West_Virginia                                   74.0           285.0   \n",
       "Wisconsin                                      165.0          1168.0   \n",
       "Wyoming                                         16.0           126.0   \n",
       "\n",
       "                Revised rape /2  Robbery  ...  Violent Crime rate  \\\n",
       "State                                     ...                       \n",
       "Alabama                  2005.0   4701.0  ...               427.4   \n",
       "Alaska                    771.0    629.0  ...               635.8   \n",
       "Arizona                  3378.0   6249.0  ...               399.9   \n",
       "Arkansas                 1763.0   2050.0  ...               480.1   \n",
       "California              11527.0  48680.0  ...               396.1   \n",
       "Colorado                 3039.0   3039.0  ...               309.1   \n",
       "Connecticut               782.0   3159.0  ...               236.9   \n",
       "DC                        472.0   3497.0  ...              1244.4   \n",
       "Delaware                  386.0   1269.0  ...               489.1   \n",
       "Florida                  8563.0  24914.0  ...               540.5   \n",
       "Georgia                  3048.0  12417.0  ...               377.3   \n",
       "Hawaii                    445.0   1107.0  ...               259.2   \n",
       "Idaho                     609.0    204.0  ...               212.2   \n",
       "Illinois                 4159.0  15299.0  ...               370.0   \n",
       "Indiana                  2186.0   6897.0  ...               365.3   \n",
       "Iowa                     1128.0   1045.0  ...               273.5   \n",
       "Kansas                   1411.0   1362.0  ...               348.6   \n",
       "Kentucky                 1440.0   3336.0  ...               211.6   \n",
       "Louisiana                1375.0   5695.0  ...               514.7   \n",
       "Maine                     485.0    304.0  ...               127.8   \n",
       "Maryland                 1619.0   9544.0  ...               446.1   \n",
       "Massachusetts            2180.0   6036.0  ...               391.4   \n",
       "Michigan                 6273.0   8021.0  ...               427.3   \n",
       "Minnesota                2001.0   3687.0  ...               229.1   \n",
       "Mississippi              1058.0   2430.0  ...               278.5   \n",
       "Missouri                 2379.0   5592.0  ...               442.9   \n",
       "Montana                   541.0    203.0  ...               323.7   \n",
       "Nebraska                  862.0   1043.0  ...               280.4   \n",
       "Nevada                   1357.0   5954.0  ...               635.6   \n",
       "New_Hampshire             594.0    537.0  ...               196.1   \n",
       "New_Jersey               1274.0  10498.0  ...               261.2   \n",
       "New_Mexico               1475.0   2086.0  ...               597.4   \n",
       "New_York                 5433.0  24045.0  ...               381.8   \n",
       "North_Carolina           2420.0   8416.0  ...               329.5   \n",
       "North_Dakota              358.0    173.0  ...               265.1   \n",
       "Ohio                     5042.0  12753.0  ...               284.9   \n",
       "Oklahoma                 1777.0   3048.0  ...               406.0   \n",
       "Oregon                   1458.0   2093.0  ...               232.3   \n",
       "Pennsylvania             3827.0  13534.0  ...               314.1   \n",
       "Rhode_Island              361.0    529.0  ...               219.2   \n",
       "South_Carolina           2068.0   3997.0  ...               497.7   \n",
       "South_Dakota              470.0    200.0  ...               326.5   \n",
       "Tennessee                2531.0   7265.0  ...               608.4   \n",
       "Texas                   11393.0  31181.0  ...               405.9   \n",
       "Utah                     1454.0   1312.0  ...               215.6   \n",
       "Vermont                   110.0     70.0  ...                99.3   \n",
       "Virginia                 2310.0   4292.0  ...               196.2   \n",
       "Washington               2695.0   5640.0  ...               285.2   \n",
       "West_Virginia             505.0    651.0  ...               302.0   \n",
       "Wisconsin                1674.0   5066.0  ...               290.3   \n",
       "Wyoming                   174.0     53.0  ...               195.5   \n",
       "\n",
       "                Murder and nonnegligent manslaughter rate  \\\n",
       "State                                                       \n",
       "Alabama                                               5.7   \n",
       "Alaska                                                5.6   \n",
       "Arizona                                               4.7   \n",
       "Arkansas                                              5.6   \n",
       "California                                            4.4   \n",
       "Colorado                                              2.8   \n",
       "Connecticut                                           2.4   \n",
       "DC                                                   15.9   \n",
       "Delaware                                              5.8   \n",
       "Florida                                               5.8   \n",
       "Georgia                                               5.7   \n",
       "Hawaii                                                1.8   \n",
       "Idaho                                                 2.0   \n",
       "Illinois                                              5.3   \n",
       "Indiana                                               5.0   \n",
       "Iowa                                                  1.9   \n",
       "Kansas                                                3.1   \n",
       "Kentucky                                              3.6   \n",
       "Louisiana                                            10.3   \n",
       "Maine                                                 1.6   \n",
       "Maryland                                              6.1   \n",
       "Massachusetts                                         2.0   \n",
       "Michigan                                              5.4   \n",
       "Minnesota                                             1.6   \n",
       "Mississippi                                           8.6   \n",
       "Missouri                                              6.6   \n",
       "Montana                                               3.6   \n",
       "Nebraska                                              2.9   \n",
       "Nevada                                                6.0   \n",
       "New_Hampshire                                         0.9   \n",
       "New_Jersey                                            3.9   \n",
       "New_Mexico                                            4.8   \n",
       "New_York                                              3.1   \n",
       "North_Carolina                                        5.1   \n",
       "North_Dakota                                          3.0   \n",
       "Ohio                                                  4.0   \n",
       "Oklahoma                                              4.5   \n",
       "Oregon                                                2.0   \n",
       "Pennsylvania                                          4.8   \n",
       "Rhode_Island                                          2.4   \n",
       "South_Carolina                                        6.4   \n",
       "South_Dakota                                          2.3   \n",
       "Tennessee                                             5.7   \n",
       "Texas                                                 4.4   \n",
       "Utah                                                  2.3   \n",
       "Vermont                                               1.6   \n",
       "Virginia                                              4.1   \n",
       "Washington                                            2.5   \n",
       "West_Virginia                                         4.0   \n",
       "Wisconsin                                             2.9   \n",
       "Wyoming                                               2.7   \n",
       "\n",
       "                Legacy rape rate /1  Revised rape rate /2  Robbery rate  \\\n",
       "State                                                                     \n",
       "Alabama                        29.6                  41.3          96.9   \n",
       "Alaska                         75.3                 104.7          85.4   \n",
       "Arizona                        36.6                  50.2          92.8   \n",
       "Arkansas                       39.8                  59.4          69.1   \n",
       "California                     21.6                  29.7         125.5   \n",
       "Colorado                       39.6                  56.7          56.7   \n",
       "Connecticut                    15.9                  21.7          87.8   \n",
       "DC                             53.4                  71.6         530.7   \n",
       "Delaware                       26.6                  41.3         135.6   \n",
       "Florida                        30.4                  43.0         125.2   \n",
       "Georgia                        21.4                  30.2         123.0   \n",
       "Hawaii                         22.1                  31.3          78.0   \n",
       "Idaho                          28.6                  37.3          12.5   \n",
       "Illinois                       23.9                  32.3         118.8   \n",
       "Indiana                        24.5                  33.1         104.5   \n",
       "Iowa                           26.6                  36.3          33.6   \n",
       "Kansas                         37.0                  48.6          46.9   \n",
       "Kentucky                       20.0                  32.6          75.6   \n",
       "Louisiana                      21.3                  29.6         122.5   \n",
       "Maine                          27.1                  36.5          22.9   \n",
       "Maryland                       19.1                  27.1         159.7   \n",
       "Massachusetts                  24.1                  32.3          89.5   \n",
       "Michigan                       40.9                  63.3          80.9   \n",
       "Minnesota                      26.6                  36.7          67.6   \n",
       "Mississippi                    25.5                  35.3          81.2   \n",
       "Missouri                       28.1                  39.2          92.2   \n",
       "Montana                        42.0                  52.9          19.8   \n",
       "Nebraska                       33.0                  45.8          55.4   \n",
       "Nevada                         35.0                  47.8         209.7   \n",
       "New_Hampshire                  34.5                  44.8          40.5   \n",
       "New_Jersey                     10.7                  14.3         117.5   \n",
       "New_Mexico                     51.4                  70.7         100.0   \n",
       "New_York                       19.8                  27.5         121.8   \n",
       "North_Carolina                 17.5                  24.3          84.6   \n",
       "North_Dakota                   37.3                  48.4          23.4   \n",
       "Ohio                           35.3                  43.5         110.0   \n",
       "Oklahoma                       32.9                  45.8          78.6   \n",
       "Oregon                         26.5                  36.7          52.7   \n",
       "Pennsylvania                   21.8                  29.9         105.8   \n",
       "Rhode_Island                   24.0                  34.2          50.1   \n",
       "South_Carolina                 30.6                  42.8          82.7   \n",
       "South_Dakota                   48.4                  55.1          23.4   \n",
       "Tennessee                      28.4                  38.6         110.9   \n",
       "Texas                          30.6                  42.3         115.7   \n",
       "Utah                           32.1                  49.4          44.6   \n",
       "Vermont                        15.8                  17.6          11.2   \n",
       "Virginia                       17.2                  27.7          51.5   \n",
       "Washington                     30.7                  38.2          79.9   \n",
       "West_Virginia                  15.4                  27.3          35.2   \n",
       "Wisconsin                      20.3                  29.1          88.0   \n",
       "Wyoming                        21.6                  29.8           9.1   \n",
       "\n",
       "                Aggravated assault rate  Property crime rate  Burglary rate  \\\n",
       "State                                                                         \n",
       "Alabama                           283.4               3177.6          819.0   \n",
       "Alaska                            440.2               2760.0          427.6   \n",
       "Arizona                           252.1               3197.5          647.1   \n",
       "Arkansas                          346.0               3338.0          835.7   \n",
       "California                        236.6               2441.1          522.3   \n",
       "Colorado                          192.8               2530.1          438.2   \n",
       "Connecticut                       125.0               1920.4          332.4   \n",
       "DC                                626.1               5182.5          526.0   \n",
       "Delaware                          306.4               2982.0          616.5   \n",
       "Florida                           366.4               3415.5          719.9   \n",
       "Georgia                           218.4               3281.2          756.9   \n",
       "Hawaii                            148.1               3050.0          547.9   \n",
       "Idaho                             160.5               1854.8          393.3   \n",
       "Illinois                          213.7               2075.9          388.2   \n",
       "Indiana                           222.6               2649.4          559.3   \n",
       "Iowa                              201.6               2093.8          464.4   \n",
       "Kansas                            250.0               2735.2          545.0   \n",
       "Kentucky                           99.8               2246.9          526.7   \n",
       "Louisiana                         352.4               3458.8          824.5   \n",
       "Maine                              66.9               1986.4          378.2   \n",
       "Maryland                          253.2               2507.5          468.7   \n",
       "Massachusetts                     267.6               1857.1          370.1   \n",
       "Michigan                          277.7               2043.9          445.9   \n",
       "Minnesota                         123.3               2297.5          380.7   \n",
       "Mississippi                       153.4               2921.2          813.3   \n",
       "Missouri                          304.8               2906.5          581.5   \n",
       "Montana                           247.4               2472.9          351.2   \n",
       "Nebraska                          176.2               2523.5          422.5   \n",
       "Nevada                            372.1               2625.4          772.3   \n",
       "New_Hampshire                     110.0               1962.7          313.7   \n",
       "New_Jersey                        125.6               1734.1          354.8   \n",
       "New_Mexico                        421.8               3542.3          887.3   \n",
       "New_York                          229.4               1718.2          257.2   \n",
       "North_Carolina                    215.4               2873.1          798.2   \n",
       "North_Dakota                      190.3               2110.3          366.1   \n",
       "Ohio                              127.4               2799.1          680.0   \n",
       "Oklahoma                          277.0               2990.7          760.9   \n",
       "Oregon                            140.8               2879.0          434.0   \n",
       "Pennsylvania                      173.5               1931.7          357.5   \n",
       "Rhode_Island                      132.5               2173.6          457.1   \n",
       "South_Carolina                    365.8               3460.3          759.9   \n",
       "South_Dakota                      245.7               1863.9          330.3   \n",
       "Tennessee                         453.2               3060.6          712.2   \n",
       "Texas                             243.6               3019.4          627.8   \n",
       "Utah                              119.4               2878.5          391.4   \n",
       "Vermont                            68.9               1524.4          324.6   \n",
       "Virginia                          112.9               1930.3          277.7   \n",
       "Washington                        164.7               3706.1          783.0   \n",
       "West_Virginia                     235.5               2034.7          484.9   \n",
       "Wisconsin                         170.4               2088.3          368.5   \n",
       "Wyoming                           153.9               1964.7          289.1   \n",
       "\n",
       "                Larceny-theft rate  Motor vehicle theft rate  \n",
       "State                                                         \n",
       "Alabama                     2149.5                     209.1  \n",
       "Alaska                      2096.4                     236.0  \n",
       "Arizona                     2289.1                     261.3  \n",
       "Arkansas                    2313.5                     188.8  \n",
       "California                  1527.4                     391.3  \n",
       "Colorado                    1857.1                     234.8  \n",
       "Connecticut                 1418.1                     169.9  \n",
       "DC                          4082.3                     574.1  \n",
       "Delaware                    2230.1                     135.4  \n",
       "Florida                     2481.5                     214.0  \n",
       "Georgia                     2258.4                     266.0  \n",
       "Hawaii                      2228.9                     273.3  \n",
       "Idaho                       1359.9                     101.6  \n",
       "Illinois                    1552.2                     135.5  \n",
       "Indiana                     1880.0                     210.1  \n",
       "Iowa                        1495.8                     133.6  \n",
       "Kansas                      1952.4                     237.8  \n",
       "Kentucky                    1577.1                     143.2  \n",
       "Louisiana                   2421.6                     212.7  \n",
       "Maine                       1548.2                      60.1  \n",
       "Maryland                    1819.6                     219.2  \n",
       "Massachusetts               1364.5                     122.5  \n",
       "Michigan                    1384.5                     213.5  \n",
       "Minnesota                   1763.5                     153.3  \n",
       "Mississippi                 1956.9                     150.9  \n",
       "Missouri                    2055.3                     269.8  \n",
       "Montana                     1922.1                     199.6  \n",
       "Nebraska                    1864.1                     236.8  \n",
       "Nevada                      1494.3                     358.7  \n",
       "New_Hampshire               1584.4                      64.6  \n",
       "New_Jersey                  1248.3                     131.0  \n",
       "New_Mexico                  2353.4                     301.6  \n",
       "New_York                    1381.4                      79.7  \n",
       "North_Carolina              1937.8                     137.1  \n",
       "North_Dakota                1539.5                     204.7  \n",
       "Ohio                        1963.6                     155.4  \n",
       "Oklahoma                    1956.9                     272.9  \n",
       "Oregon                      2204.6                     240.5  \n",
       "Pennsylvania                1472.2                     102.0  \n",
       "Rhode_Island                1542.8                     173.7  \n",
       "South_Carolina              2433.4                     267.0  \n",
       "South_Dakota                1415.5                     118.0  \n",
       "Tennessee                   2156.0                     192.4  \n",
       "Texas                       2137.3                     254.3  \n",
       "Utah                        2239.1                     248.0  \n",
       "Vermont                     1160.8                      38.9  \n",
       "Virginia                    1560.5                      92.1  \n",
       "Washington                  2489.1                     434.0  \n",
       "West_Virginia               1447.3                     102.5  \n",
       "Wisconsin                   1547.6                     172.3  \n",
       "Wyoming                     1572.4                     103.2  \n",
       "\n",
       "[51 rows x 25 columns]"
      ]
     },
     "execution_count": 5,
     "metadata": {},
     "output_type": "execute_result"
    }
   ],
   "source": [
    "# dataPoints = ['Violent crime total']\n",
    "# for col in dataPoints:\n",
    "#     dat = []\n",
    "#     for stateName in gun_ownership_df.index:\n",
    "#         if stateName in crime_by_state:\n",
    "#             dat.append(crime_by_state[stateName].tail(1)[col].values[0])\n",
    "#         else:\n",
    "#             dat.append(None)\n",
    "#     gun_ownership_df[col] = dat\n",
    "gun_ownership_df.head(60)"
   ]
  },
  {
   "cell_type": "code",
   "execution_count": 6,
   "metadata": {},
   "outputs": [],
   "source": [
    "# Teammate 0 code ends here"
   ]
  },
  {
   "cell_type": "code",
   "execution_count": 7,
   "metadata": {},
   "outputs": [],
   "source": [
    "# Teammate 1 code begins here"
   ]
  },
  {
   "cell_type": "code",
   "execution_count": 8,
   "metadata": {},
   "outputs": [],
   "source": [
    "# Teammate 1 code ends here"
   ]
  },
  {
   "cell_type": "code",
   "execution_count": 9,
   "metadata": {},
   "outputs": [],
   "source": [
    "# Teammate 2 code begins here"
   ]
  },
  {
   "cell_type": "code",
   "execution_count": 10,
   "metadata": {},
   "outputs": [],
   "source": [
    "# Teammate 2 code ends here"
   ]
  },
  {
   "cell_type": "code",
   "execution_count": 11,
   "metadata": {},
   "outputs": [],
   "source": [
    "# Teammate Glenda code begins here"
   ]
  },
  {
   "cell_type": "code",
   "execution_count": 13,
   "metadata": {},
   "outputs": [
    {
     "data": {
      "text/html": [
       "<div>\n",
       "<style scoped>\n",
       "    .dataframe tbody tr th:only-of-type {\n",
       "        vertical-align: middle;\n",
       "    }\n",
       "\n",
       "    .dataframe tbody tr th {\n",
       "        vertical-align: top;\n",
       "    }\n",
       "\n",
       "    .dataframe thead th {\n",
       "        text-align: right;\n",
       "    }\n",
       "</style>\n",
       "<table border=\"1\" class=\"dataframe\">\n",
       "  <thead>\n",
       "    <tr style=\"text-align: right;\">\n",
       "      <th></th>\n",
       "      <th>State</th>\n",
       "      <th># of guns per capita</th>\n",
       "    </tr>\n",
       "  </thead>\n",
       "  <tbody>\n",
       "    <tr>\n",
       "      <th>0</th>\n",
       "      <td>Alabama</td>\n",
       "      <td>33.15</td>\n",
       "    </tr>\n",
       "    <tr>\n",
       "      <th>1</th>\n",
       "      <td>Alaska</td>\n",
       "      <td>21.38</td>\n",
       "    </tr>\n",
       "    <tr>\n",
       "      <th>2</th>\n",
       "      <td>Arizona</td>\n",
       "      <td>25.61</td>\n",
       "    </tr>\n",
       "    <tr>\n",
       "      <th>3</th>\n",
       "      <td>Arkansas</td>\n",
       "      <td>26.57</td>\n",
       "    </tr>\n",
       "    <tr>\n",
       "      <th>4</th>\n",
       "      <td>California</td>\n",
       "      <td>8.71</td>\n",
       "    </tr>\n",
       "  </tbody>\n",
       "</table>\n",
       "</div>"
      ],
      "text/plain": [
       "        State  # of guns per capita\n",
       "0     Alabama                 33.15\n",
       "1      Alaska                 21.38\n",
       "2     Arizona                 25.61\n",
       "3    Arkansas                 26.57\n",
       "4  California                  8.71"
      ]
     },
     "execution_count": 13,
     "metadata": {},
     "output_type": "execute_result"
    }
   ],
   "source": [
    "gun_ownership_per_capita_df = gun_ownership_df\n",
    "gun_ownership_per_capita_df = gun_ownership_per_capita_df.reset_index(drop=False)\n",
    "gun_ownership_per_capita_df = gun_ownership_per_capita_df[[\"State\",\"# of guns per capita\"]]\n",
    "gun_ownership_per_capita_df.head()"
   ]
  },
  {
   "cell_type": "code",
   "execution_count": 16,
   "metadata": {},
   "outputs": [
    {
     "data": {
      "text/html": [
       "<div>\n",
       "<style scoped>\n",
       "    .dataframe tbody tr th:only-of-type {\n",
       "        vertical-align: middle;\n",
       "    }\n",
       "\n",
       "    .dataframe tbody tr th {\n",
       "        vertical-align: top;\n",
       "    }\n",
       "\n",
       "    .dataframe thead th {\n",
       "        text-align: right;\n",
       "    }\n",
       "</style>\n",
       "<table border=\"1\" class=\"dataframe\">\n",
       "  <thead>\n",
       "    <tr style=\"text-align: right;\">\n",
       "      <th></th>\n",
       "      <th>State</th>\n",
       "      <th>Year</th>\n",
       "      <th>Population</th>\n",
       "      <th>Violent crime total</th>\n",
       "      <th>Murder and nonnegligent Manslaughter</th>\n",
       "      <th>Legacy rape /1</th>\n",
       "      <th>Revised rape /2</th>\n",
       "      <th>Robbery</th>\n",
       "      <th>Aggravated assault</th>\n",
       "      <th>Property crime total</th>\n",
       "      <th>...</th>\n",
       "      <th>Murder and nonnegligent manslaughter rate</th>\n",
       "      <th>Legacy rape rate /1</th>\n",
       "      <th>Revised rape rate /2</th>\n",
       "      <th>Robbery rate</th>\n",
       "      <th>Aggravated assault rate</th>\n",
       "      <th>Property crime rate</th>\n",
       "      <th>Burglary rate</th>\n",
       "      <th>Larceny-theft rate</th>\n",
       "      <th>Motor vehicle theft rate</th>\n",
       "      <th>Unnamed: 22</th>\n",
       "    </tr>\n",
       "  </thead>\n",
       "  <tbody>\n",
       "    <tr>\n",
       "      <th>0</th>\n",
       "      <td>Alabama</td>\n",
       "      <td>2014</td>\n",
       "      <td>4849377</td>\n",
       "      <td>20727</td>\n",
       "      <td>276.0</td>\n",
       "      <td>1436.0</td>\n",
       "      <td>2005.0</td>\n",
       "      <td>4701.0</td>\n",
       "      <td>13745.0</td>\n",
       "      <td>154094.0</td>\n",
       "      <td>...</td>\n",
       "      <td>5.7</td>\n",
       "      <td>29.6</td>\n",
       "      <td>41.3</td>\n",
       "      <td>96.9</td>\n",
       "      <td>283.4</td>\n",
       "      <td>3177.6</td>\n",
       "      <td>819.0</td>\n",
       "      <td>2149.5</td>\n",
       "      <td>209.1</td>\n",
       "      <td>NaN</td>\n",
       "    </tr>\n",
       "    <tr>\n",
       "      <th>1</th>\n",
       "      <td>Alaska</td>\n",
       "      <td>2014</td>\n",
       "      <td>736732</td>\n",
       "      <td>4684</td>\n",
       "      <td>41.0</td>\n",
       "      <td>555.0</td>\n",
       "      <td>771.0</td>\n",
       "      <td>629.0</td>\n",
       "      <td>3243.0</td>\n",
       "      <td>20334.0</td>\n",
       "      <td>...</td>\n",
       "      <td>5.6</td>\n",
       "      <td>75.3</td>\n",
       "      <td>104.7</td>\n",
       "      <td>85.4</td>\n",
       "      <td>440.2</td>\n",
       "      <td>2760.0</td>\n",
       "      <td>427.6</td>\n",
       "      <td>2096.4</td>\n",
       "      <td>236.0</td>\n",
       "      <td>NaN</td>\n",
       "    </tr>\n",
       "    <tr>\n",
       "      <th>2</th>\n",
       "      <td>Arizona</td>\n",
       "      <td>2014</td>\n",
       "      <td>6731484</td>\n",
       "      <td>26916</td>\n",
       "      <td>319.0</td>\n",
       "      <td>2464.0</td>\n",
       "      <td>3378.0</td>\n",
       "      <td>6249.0</td>\n",
       "      <td>16970.0</td>\n",
       "      <td>215240.0</td>\n",
       "      <td>...</td>\n",
       "      <td>4.7</td>\n",
       "      <td>36.6</td>\n",
       "      <td>50.2</td>\n",
       "      <td>92.8</td>\n",
       "      <td>252.1</td>\n",
       "      <td>3197.5</td>\n",
       "      <td>647.1</td>\n",
       "      <td>2289.1</td>\n",
       "      <td>261.3</td>\n",
       "      <td>NaN</td>\n",
       "    </tr>\n",
       "    <tr>\n",
       "      <th>3</th>\n",
       "      <td>Arkansas</td>\n",
       "      <td>2014</td>\n",
       "      <td>2966369</td>\n",
       "      <td>14243</td>\n",
       "      <td>165.0</td>\n",
       "      <td>1182.0</td>\n",
       "      <td>1763.0</td>\n",
       "      <td>2050.0</td>\n",
       "      <td>10265.0</td>\n",
       "      <td>99018.0</td>\n",
       "      <td>...</td>\n",
       "      <td>5.6</td>\n",
       "      <td>39.8</td>\n",
       "      <td>59.4</td>\n",
       "      <td>69.1</td>\n",
       "      <td>346.0</td>\n",
       "      <td>3338.0</td>\n",
       "      <td>835.7</td>\n",
       "      <td>2313.5</td>\n",
       "      <td>188.8</td>\n",
       "      <td>NaN</td>\n",
       "    </tr>\n",
       "    <tr>\n",
       "      <th>4</th>\n",
       "      <td>California</td>\n",
       "      <td>2014</td>\n",
       "      <td>38802500</td>\n",
       "      <td>153709</td>\n",
       "      <td>1699.0</td>\n",
       "      <td>8398.0</td>\n",
       "      <td>11527.0</td>\n",
       "      <td>48680.0</td>\n",
       "      <td>91803.0</td>\n",
       "      <td>947192.0</td>\n",
       "      <td>...</td>\n",
       "      <td>4.4</td>\n",
       "      <td>21.6</td>\n",
       "      <td>29.7</td>\n",
       "      <td>125.5</td>\n",
       "      <td>236.6</td>\n",
       "      <td>2441.1</td>\n",
       "      <td>522.3</td>\n",
       "      <td>1527.4</td>\n",
       "      <td>391.3</td>\n",
       "      <td>NaN</td>\n",
       "    </tr>\n",
       "  </tbody>\n",
       "</table>\n",
       "<p>5 rows × 24 columns</p>\n",
       "</div>"
      ],
      "text/plain": [
       "        State  Year   Population Violent crime total  \\\n",
       "0     Alabama  2014      4849377               20727   \n",
       "1      Alaska  2014       736732                4684   \n",
       "2     Arizona  2014      6731484               26916   \n",
       "3    Arkansas  2014      2966369               14243   \n",
       "4  California  2014     38802500              153709   \n",
       "\n",
       "   Murder and nonnegligent Manslaughter  Legacy rape /1  Revised rape /2  \\\n",
       "0                                 276.0          1436.0           2005.0   \n",
       "1                                  41.0           555.0            771.0   \n",
       "2                                 319.0          2464.0           3378.0   \n",
       "3                                 165.0          1182.0           1763.0   \n",
       "4                                1699.0          8398.0          11527.0   \n",
       "\n",
       "   Robbery  Aggravated assault  Property crime total  ...  \\\n",
       "0   4701.0             13745.0              154094.0  ...   \n",
       "1    629.0              3243.0               20334.0  ...   \n",
       "2   6249.0             16970.0              215240.0  ...   \n",
       "3   2050.0             10265.0               99018.0  ...   \n",
       "4  48680.0             91803.0              947192.0  ...   \n",
       "\n",
       "   Murder and nonnegligent manslaughter rate  Legacy rape rate /1  \\\n",
       "0                                        5.7                 29.6   \n",
       "1                                        5.6                 75.3   \n",
       "2                                        4.7                 36.6   \n",
       "3                                        5.6                 39.8   \n",
       "4                                        4.4                 21.6   \n",
       "\n",
       "   Revised rape rate /2  Robbery rate  Aggravated assault rate  \\\n",
       "0                  41.3          96.9                    283.4   \n",
       "1                 104.7          85.4                    440.2   \n",
       "2                  50.2          92.8                    252.1   \n",
       "3                  59.4          69.1                    346.0   \n",
       "4                  29.7         125.5                    236.6   \n",
       "\n",
       "   Property crime rate  Burglary rate  Larceny-theft rate  \\\n",
       "0               3177.6          819.0              2149.5   \n",
       "1               2760.0          427.6              2096.4   \n",
       "2               3197.5          647.1              2289.1   \n",
       "3               3338.0          835.7              2313.5   \n",
       "4               2441.1          522.3              1527.4   \n",
       "\n",
       "   Motor vehicle theft rate  Unnamed: 22  \n",
       "0                     209.1          NaN  \n",
       "1                     236.0          NaN  \n",
       "2                     261.3          NaN  \n",
       "3                     188.8          NaN  \n",
       "4                     391.3          NaN  \n",
       "\n",
       "[5 rows x 24 columns]"
      ]
     },
     "execution_count": 16,
     "metadata": {},
     "output_type": "execute_result"
    }
   ],
   "source": [
    "all_state_crime_2014_df = all_state_crime_2014\n",
    "all_state_crime_2014_df = all_state_crime_2014_df.reset_index(drop=False)\n",
    "all_state_crime_2014_df.head()"
   ]
  },
  {
   "cell_type": "code",
   "execution_count": 17,
   "metadata": {},
   "outputs": [
    {
     "data": {
      "text/html": [
       "<div>\n",
       "<style scoped>\n",
       "    .dataframe tbody tr th:only-of-type {\n",
       "        vertical-align: middle;\n",
       "    }\n",
       "\n",
       "    .dataframe tbody tr th {\n",
       "        vertical-align: top;\n",
       "    }\n",
       "\n",
       "    .dataframe thead th {\n",
       "        text-align: right;\n",
       "    }\n",
       "</style>\n",
       "<table border=\"1\" class=\"dataframe\">\n",
       "  <thead>\n",
       "    <tr style=\"text-align: right;\">\n",
       "      <th></th>\n",
       "      <th>State</th>\n",
       "      <th>Murder and nonnegligent manslaughter rate</th>\n",
       "    </tr>\n",
       "  </thead>\n",
       "  <tbody>\n",
       "    <tr>\n",
       "      <th>0</th>\n",
       "      <td>Alabama</td>\n",
       "      <td>5.7</td>\n",
       "    </tr>\n",
       "    <tr>\n",
       "      <th>1</th>\n",
       "      <td>Alaska</td>\n",
       "      <td>5.6</td>\n",
       "    </tr>\n",
       "    <tr>\n",
       "      <th>2</th>\n",
       "      <td>Arizona</td>\n",
       "      <td>4.7</td>\n",
       "    </tr>\n",
       "    <tr>\n",
       "      <th>3</th>\n",
       "      <td>Arkansas</td>\n",
       "      <td>5.6</td>\n",
       "    </tr>\n",
       "    <tr>\n",
       "      <th>4</th>\n",
       "      <td>California</td>\n",
       "      <td>4.4</td>\n",
       "    </tr>\n",
       "  </tbody>\n",
       "</table>\n",
       "</div>"
      ],
      "text/plain": [
       "        State  Murder and nonnegligent manslaughter rate\n",
       "0     Alabama                                        5.7\n",
       "1      Alaska                                        5.6\n",
       "2     Arizona                                        4.7\n",
       "3    Arkansas                                        5.6\n",
       "4  California                                        4.4"
      ]
     },
     "execution_count": 17,
     "metadata": {},
     "output_type": "execute_result"
    }
   ],
   "source": [
    "murder_manslaughter_2014_df = all_state_crime_2014_df[[\"State\",\"Murder and nonnegligent manslaughter rate\"]]\n",
    "murder_manslaughter_2014_df.head()"
   ]
  },
  {
   "cell_type": "code",
   "execution_count": 18,
   "metadata": {},
   "outputs": [
    {
     "data": {
      "text/html": [
       "<div>\n",
       "<style scoped>\n",
       "    .dataframe tbody tr th:only-of-type {\n",
       "        vertical-align: middle;\n",
       "    }\n",
       "\n",
       "    .dataframe tbody tr th {\n",
       "        vertical-align: top;\n",
       "    }\n",
       "\n",
       "    .dataframe thead th {\n",
       "        text-align: right;\n",
       "    }\n",
       "</style>\n",
       "<table border=\"1\" class=\"dataframe\">\n",
       "  <thead>\n",
       "    <tr style=\"text-align: right;\">\n",
       "      <th></th>\n",
       "      <th>State</th>\n",
       "      <th>Aggravated assault rate</th>\n",
       "    </tr>\n",
       "  </thead>\n",
       "  <tbody>\n",
       "    <tr>\n",
       "      <th>0</th>\n",
       "      <td>Alabama</td>\n",
       "      <td>283.4</td>\n",
       "    </tr>\n",
       "    <tr>\n",
       "      <th>1</th>\n",
       "      <td>Alaska</td>\n",
       "      <td>440.2</td>\n",
       "    </tr>\n",
       "    <tr>\n",
       "      <th>2</th>\n",
       "      <td>Arizona</td>\n",
       "      <td>252.1</td>\n",
       "    </tr>\n",
       "    <tr>\n",
       "      <th>3</th>\n",
       "      <td>Arkansas</td>\n",
       "      <td>346.0</td>\n",
       "    </tr>\n",
       "    <tr>\n",
       "      <th>4</th>\n",
       "      <td>California</td>\n",
       "      <td>236.6</td>\n",
       "    </tr>\n",
       "  </tbody>\n",
       "</table>\n",
       "</div>"
      ],
      "text/plain": [
       "        State  Aggravated assault rate\n",
       "0     Alabama                    283.4\n",
       "1      Alaska                    440.2\n",
       "2     Arizona                    252.1\n",
       "3    Arkansas                    346.0\n",
       "4  California                    236.6"
      ]
     },
     "execution_count": 18,
     "metadata": {},
     "output_type": "execute_result"
    }
   ],
   "source": [
    "aggravated_assault_2014_df = all_state_crime_2014_df[[\"State\",\"Aggravated assault rate\"]]\n",
    "aggravated_assault_2014_df.head()"
   ]
  },
  {
   "cell_type": "code",
   "execution_count": 19,
   "metadata": {},
   "outputs": [
    {
     "data": {
      "text/html": [
       "<div>\n",
       "<style scoped>\n",
       "    .dataframe tbody tr th:only-of-type {\n",
       "        vertical-align: middle;\n",
       "    }\n",
       "\n",
       "    .dataframe tbody tr th {\n",
       "        vertical-align: top;\n",
       "    }\n",
       "\n",
       "    .dataframe thead th {\n",
       "        text-align: right;\n",
       "    }\n",
       "</style>\n",
       "<table border=\"1\" class=\"dataframe\">\n",
       "  <thead>\n",
       "    <tr style=\"text-align: right;\">\n",
       "      <th></th>\n",
       "      <th>State</th>\n",
       "      <th>Motor vehicle theft rate</th>\n",
       "    </tr>\n",
       "  </thead>\n",
       "  <tbody>\n",
       "    <tr>\n",
       "      <th>0</th>\n",
       "      <td>Alabama</td>\n",
       "      <td>209.1</td>\n",
       "    </tr>\n",
       "    <tr>\n",
       "      <th>1</th>\n",
       "      <td>Alaska</td>\n",
       "      <td>236.0</td>\n",
       "    </tr>\n",
       "    <tr>\n",
       "      <th>2</th>\n",
       "      <td>Arizona</td>\n",
       "      <td>261.3</td>\n",
       "    </tr>\n",
       "    <tr>\n",
       "      <th>3</th>\n",
       "      <td>Arkansas</td>\n",
       "      <td>188.8</td>\n",
       "    </tr>\n",
       "    <tr>\n",
       "      <th>4</th>\n",
       "      <td>California</td>\n",
       "      <td>391.3</td>\n",
       "    </tr>\n",
       "  </tbody>\n",
       "</table>\n",
       "</div>"
      ],
      "text/plain": [
       "        State  Motor vehicle theft rate\n",
       "0     Alabama                     209.1\n",
       "1      Alaska                     236.0\n",
       "2     Arizona                     261.3\n",
       "3    Arkansas                     188.8\n",
       "4  California                     391.3"
      ]
     },
     "execution_count": 19,
     "metadata": {},
     "output_type": "execute_result"
    }
   ],
   "source": [
    "vehicle_theft_2014_df = all_state_crime_2014_df[[\"State\",\"Motor vehicle theft rate\"]]\n",
    "vehicle_theft_2014_df.head()"
   ]
  },
  {
   "cell_type": "code",
   "execution_count": 20,
   "metadata": {},
   "outputs": [
    {
     "data": {
      "text/html": [
       "<div>\n",
       "<style scoped>\n",
       "    .dataframe tbody tr th:only-of-type {\n",
       "        vertical-align: middle;\n",
       "    }\n",
       "\n",
       "    .dataframe tbody tr th {\n",
       "        vertical-align: top;\n",
       "    }\n",
       "\n",
       "    .dataframe thead th {\n",
       "        text-align: right;\n",
       "    }\n",
       "</style>\n",
       "<table border=\"1\" class=\"dataframe\">\n",
       "  <thead>\n",
       "    <tr style=\"text-align: right;\">\n",
       "      <th></th>\n",
       "      <th>State</th>\n",
       "      <th>Robbery rate</th>\n",
       "    </tr>\n",
       "  </thead>\n",
       "  <tbody>\n",
       "    <tr>\n",
       "      <th>0</th>\n",
       "      <td>Alabama</td>\n",
       "      <td>96.9</td>\n",
       "    </tr>\n",
       "    <tr>\n",
       "      <th>1</th>\n",
       "      <td>Alaska</td>\n",
       "      <td>85.4</td>\n",
       "    </tr>\n",
       "    <tr>\n",
       "      <th>2</th>\n",
       "      <td>Arizona</td>\n",
       "      <td>92.8</td>\n",
       "    </tr>\n",
       "    <tr>\n",
       "      <th>3</th>\n",
       "      <td>Arkansas</td>\n",
       "      <td>69.1</td>\n",
       "    </tr>\n",
       "    <tr>\n",
       "      <th>4</th>\n",
       "      <td>California</td>\n",
       "      <td>125.5</td>\n",
       "    </tr>\n",
       "  </tbody>\n",
       "</table>\n",
       "</div>"
      ],
      "text/plain": [
       "        State  Robbery rate\n",
       "0     Alabama          96.9\n",
       "1      Alaska          85.4\n",
       "2     Arizona          92.8\n",
       "3    Arkansas          69.1\n",
       "4  California         125.5"
      ]
     },
     "execution_count": 20,
     "metadata": {},
     "output_type": "execute_result"
    }
   ],
   "source": [
    "robbery_2014_df = all_state_crime_2014_df[[\"State\",\"Robbery rate\"]]\n",
    "robbery_2014_df.head()"
   ]
  },
  {
   "cell_type": "code",
   "execution_count": 64,
   "metadata": {},
   "outputs": [
    {
     "data": {
      "text/html": [
       "<div>\n",
       "<style scoped>\n",
       "    .dataframe tbody tr th:only-of-type {\n",
       "        vertical-align: middle;\n",
       "    }\n",
       "\n",
       "    .dataframe tbody tr th {\n",
       "        vertical-align: top;\n",
       "    }\n",
       "\n",
       "    .dataframe thead th {\n",
       "        text-align: right;\n",
       "    }\n",
       "</style>\n",
       "<table border=\"1\" class=\"dataframe\">\n",
       "  <thead>\n",
       "    <tr style=\"text-align: right;\">\n",
       "      <th></th>\n",
       "      <th>State</th>\n",
       "      <th>Burglary rate</th>\n",
       "    </tr>\n",
       "  </thead>\n",
       "  <tbody>\n",
       "    <tr>\n",
       "      <th>0</th>\n",
       "      <td>Alabama</td>\n",
       "      <td>819.0</td>\n",
       "    </tr>\n",
       "    <tr>\n",
       "      <th>1</th>\n",
       "      <td>Alaska</td>\n",
       "      <td>427.6</td>\n",
       "    </tr>\n",
       "    <tr>\n",
       "      <th>2</th>\n",
       "      <td>Arizona</td>\n",
       "      <td>647.1</td>\n",
       "    </tr>\n",
       "    <tr>\n",
       "      <th>3</th>\n",
       "      <td>Arkansas</td>\n",
       "      <td>835.7</td>\n",
       "    </tr>\n",
       "    <tr>\n",
       "      <th>4</th>\n",
       "      <td>California</td>\n",
       "      <td>522.3</td>\n",
       "    </tr>\n",
       "  </tbody>\n",
       "</table>\n",
       "</div>"
      ],
      "text/plain": [
       "        State  Burglary rate\n",
       "0     Alabama          819.0\n",
       "1      Alaska          427.6\n",
       "2     Arizona          647.1\n",
       "3    Arkansas          835.7\n",
       "4  California          522.3"
      ]
     },
     "execution_count": 64,
     "metadata": {},
     "output_type": "execute_result"
    }
   ],
   "source": [
    "burglary_2014_df = all_state_crime_2014_df[[\"State\",\"Burglary rate\"]]\n",
    "burglary_2014_df.head()"
   ]
  },
  {
   "cell_type": "code",
   "execution_count": 101,
   "metadata": {},
   "outputs": [
    {
     "data": {
      "application/vnd.plotly.v1+json": {
       "config": {
        "plotlyServerURL": "https://plot.ly"
       },
       "data": [
        {
         "hovertemplate": "<b>%{hovertext}</b><br><br>State=Alabama<br>Burglary rate=%{marker.size}<br># of guns per capita=%{y}<extra></extra>",
         "hovertext": [
          "Alabama"
         ],
         "legendgroup": "Alabama",
         "marker": {
          "color": "#636efa",
          "size": [
           819
          ],
          "sizemode": "area",
          "sizeref": 2.21825,
          "symbol": "circle"
         },
         "mode": "markers",
         "name": "Alabama",
         "orientation": "v",
         "showlegend": true,
         "type": "scatter",
         "x": [
          819
         ],
         "xaxis": "x",
         "y": [
          33.15
         ],
         "yaxis": "y"
        },
        {
         "hovertemplate": "<b>%{hovertext}</b><br><br>State=Alaska<br>Burglary rate=%{marker.size}<br># of guns per capita=%{y}<extra></extra>",
         "hovertext": [
          "Alaska"
         ],
         "legendgroup": "Alaska",
         "marker": {
          "color": "#EF553B",
          "size": [
           427.6
          ],
          "sizemode": "area",
          "sizeref": 2.21825,
          "symbol": "circle"
         },
         "mode": "markers",
         "name": "Alaska",
         "orientation": "v",
         "showlegend": true,
         "type": "scatter",
         "x": [
          427.6
         ],
         "xaxis": "x",
         "y": [
          21.38
         ],
         "yaxis": "y"
        },
        {
         "hovertemplate": "<b>%{hovertext}</b><br><br>State=Arizona<br>Burglary rate=%{marker.size}<br># of guns per capita=%{y}<extra></extra>",
         "hovertext": [
          "Arizona"
         ],
         "legendgroup": "Arizona",
         "marker": {
          "color": "#00cc96",
          "size": [
           647.1
          ],
          "sizemode": "area",
          "sizeref": 2.21825,
          "symbol": "circle"
         },
         "mode": "markers",
         "name": "Arizona",
         "orientation": "v",
         "showlegend": true,
         "type": "scatter",
         "x": [
          647.1
         ],
         "xaxis": "x",
         "y": [
          25.61
         ],
         "yaxis": "y"
        },
        {
         "hovertemplate": "<b>%{hovertext}</b><br><br>State=Arkansas<br>Burglary rate=%{marker.size}<br># of guns per capita=%{y}<extra></extra>",
         "hovertext": [
          "Arkansas"
         ],
         "legendgroup": "Arkansas",
         "marker": {
          "color": "#ab63fa",
          "size": [
           835.7
          ],
          "sizemode": "area",
          "sizeref": 2.21825,
          "symbol": "circle"
         },
         "mode": "markers",
         "name": "Arkansas",
         "orientation": "v",
         "showlegend": true,
         "type": "scatter",
         "x": [
          835.7
         ],
         "xaxis": "x",
         "y": [
          26.57
         ],
         "yaxis": "y"
        },
        {
         "hovertemplate": "<b>%{hovertext}</b><br><br>State=California<br>Burglary rate=%{marker.size}<br># of guns per capita=%{y}<extra></extra>",
         "hovertext": [
          "California"
         ],
         "legendgroup": "California",
         "marker": {
          "color": "#FFA15A",
          "size": [
           522.3
          ],
          "sizemode": "area",
          "sizeref": 2.21825,
          "symbol": "circle"
         },
         "mode": "markers",
         "name": "California",
         "orientation": "v",
         "showlegend": true,
         "type": "scatter",
         "x": [
          522.3
         ],
         "xaxis": "x",
         "y": [
          8.71
         ],
         "yaxis": "y"
        },
        {
         "hovertemplate": "<b>%{hovertext}</b><br><br>State=Colorado<br>Burglary rate=%{marker.size}<br># of guns per capita=%{y}<extra></extra>",
         "hovertext": [
          "Colorado"
         ],
         "legendgroup": "Colorado",
         "marker": {
          "color": "#19d3f3",
          "size": [
           438.2
          ],
          "sizemode": "area",
          "sizeref": 2.21825,
          "symbol": "circle"
         },
         "mode": "markers",
         "name": "Colorado",
         "orientation": "v",
         "showlegend": true,
         "type": "scatter",
         "x": [
          438.2
         ],
         "xaxis": "x",
         "y": [
          16.48
         ],
         "yaxis": "y"
        },
        {
         "hovertemplate": "<b>%{hovertext}</b><br><br>State=Connecticut<br>Burglary rate=%{marker.size}<br># of guns per capita=%{y}<extra></extra>",
         "hovertext": [
          "Connecticut"
         ],
         "legendgroup": "Connecticut",
         "marker": {
          "color": "#FF6692",
          "size": [
           332.4
          ],
          "sizemode": "area",
          "sizeref": 2.21825,
          "symbol": "circle"
         },
         "mode": "markers",
         "name": "Connecticut",
         "orientation": "v",
         "showlegend": true,
         "type": "scatter",
         "x": [
          332.4
         ],
         "xaxis": "x",
         "y": [
          22.96
         ],
         "yaxis": "y"
        },
        {
         "hovertemplate": "<b>%{hovertext}</b><br><br>State=DC<br>Burglary rate=%{marker.size}<br># of guns per capita=%{y}<extra></extra>",
         "hovertext": [
          "DC"
         ],
         "legendgroup": "DC",
         "marker": {
          "color": "#B6E880",
          "size": [
           526
          ],
          "sizemode": "area",
          "sizeref": 2.21825,
          "symbol": "circle"
         },
         "mode": "markers",
         "name": "DC",
         "orientation": "v",
         "showlegend": true,
         "type": "scatter",
         "x": [
          526
         ],
         "xaxis": "x",
         "y": [
          68.05
         ],
         "yaxis": "y"
        },
        {
         "hovertemplate": "<b>%{hovertext}</b><br><br>State=Delaware<br>Burglary rate=%{marker.size}<br># of guns per capita=%{y}<extra></extra>",
         "hovertext": [
          "Delaware"
         ],
         "legendgroup": "Delaware",
         "marker": {
          "color": "#FF97FF",
          "size": [
           616.5
          ],
          "sizemode": "area",
          "sizeref": 2.21825,
          "symbol": "circle"
         },
         "mode": "markers",
         "name": "Delaware",
         "orientation": "v",
         "showlegend": true,
         "type": "scatter",
         "x": [
          616.5
         ],
         "xaxis": "x",
         "y": [
          5.04
         ],
         "yaxis": "y"
        },
        {
         "hovertemplate": "<b>%{hovertext}</b><br><br>State=Florida<br>Burglary rate=%{marker.size}<br># of guns per capita=%{y}<extra></extra>",
         "hovertext": [
          "Florida"
         ],
         "legendgroup": "Florida",
         "marker": {
          "color": "#FECB52",
          "size": [
           719.9
          ],
          "sizemode": "area",
          "sizeref": 2.21825,
          "symbol": "circle"
         },
         "mode": "markers",
         "name": "Florida",
         "orientation": "v",
         "showlegend": true,
         "type": "scatter",
         "x": [
          719.9
         ],
         "xaxis": "x",
         "y": [
          16.35
         ],
         "yaxis": "y"
        },
        {
         "hovertemplate": "<b>%{hovertext}</b><br><br>State=Georgia<br>Burglary rate=%{marker.size}<br># of guns per capita=%{y}<extra></extra>",
         "hovertext": [
          "Georgia"
         ],
         "legendgroup": "Georgia",
         "marker": {
          "color": "#636efa",
          "size": [
           756.9
          ],
          "sizemode": "area",
          "sizeref": 2.21825,
          "symbol": "circle"
         },
         "mode": "markers",
         "name": "Georgia",
         "orientation": "v",
         "showlegend": true,
         "type": "scatter",
         "x": [
          756.9
         ],
         "xaxis": "x",
         "y": [
          18.22
         ],
         "yaxis": "y"
        },
        {
         "hovertemplate": "<b>%{hovertext}</b><br><br>State=Hawaii<br>Burglary rate=%{marker.size}<br># of guns per capita=%{y}<extra></extra>",
         "hovertext": [
          "Hawaii"
         ],
         "legendgroup": "Hawaii",
         "marker": {
          "color": "#EF553B",
          "size": [
           547.9
          ],
          "sizemode": "area",
          "sizeref": 2.21825,
          "symbol": "circle"
         },
         "mode": "markers",
         "name": "Hawaii",
         "orientation": "v",
         "showlegend": true,
         "type": "scatter",
         "x": [
          547.9
         ],
         "xaxis": "x",
         "y": [
          5.5
         ],
         "yaxis": "y"
        },
        {
         "hovertemplate": "<b>%{hovertext}</b><br><br>State=Idaho<br>Burglary rate=%{marker.size}<br># of guns per capita=%{y}<extra></extra>",
         "hovertext": [
          "Idaho"
         ],
         "legendgroup": "Idaho",
         "marker": {
          "color": "#00cc96",
          "size": [
           393.3
          ],
          "sizemode": "area",
          "sizeref": 2.21825,
          "symbol": "circle"
         },
         "mode": "markers",
         "name": "Idaho",
         "orientation": "v",
         "showlegend": true,
         "type": "scatter",
         "x": [
          393.3
         ],
         "xaxis": "x",
         "y": [
          28.86
         ],
         "yaxis": "y"
        },
        {
         "hovertemplate": "<b>%{hovertext}</b><br><br>State=Illinois<br>Burglary rate=%{marker.size}<br># of guns per capita=%{y}<extra></extra>",
         "hovertext": [
          "Illinois"
         ],
         "legendgroup": "Illinois",
         "marker": {
          "color": "#ab63fa",
          "size": [
           388.2
          ],
          "sizemode": "area",
          "sizeref": 2.21825,
          "symbol": "circle"
         },
         "mode": "markers",
         "name": "Illinois",
         "orientation": "v",
         "showlegend": true,
         "type": "scatter",
         "x": [
          388.2
         ],
         "xaxis": "x",
         "y": [
          11.44
         ],
         "yaxis": "y"
        },
        {
         "hovertemplate": "<b>%{hovertext}</b><br><br>State=Indiana<br>Burglary rate=%{marker.size}<br># of guns per capita=%{y}<extra></extra>",
         "hovertext": [
          "Indiana"
         ],
         "legendgroup": "Indiana",
         "marker": {
          "color": "#FFA15A",
          "size": [
           559.3
          ],
          "sizemode": "area",
          "sizeref": 2.21825,
          "symbol": "circle"
         },
         "mode": "markers",
         "name": "Indiana",
         "orientation": "v",
         "showlegend": true,
         "type": "scatter",
         "x": [
          559.3
         ],
         "xaxis": "x",
         "y": [
          17.1
         ],
         "yaxis": "y"
        },
        {
         "hovertemplate": "<b>%{hovertext}</b><br><br>State=Iowa<br>Burglary rate=%{marker.size}<br># of guns per capita=%{y}<extra></extra>",
         "hovertext": [
          "Iowa"
         ],
         "legendgroup": "Iowa",
         "marker": {
          "color": "#19d3f3",
          "size": [
           464.4
          ],
          "sizemode": "area",
          "sizeref": 2.21825,
          "symbol": "circle"
         },
         "mode": "markers",
         "name": "Iowa",
         "orientation": "v",
         "showlegend": true,
         "type": "scatter",
         "x": [
          464.4
         ],
         "xaxis": "x",
         "y": [
          9.05
         ],
         "yaxis": "y"
        },
        {
         "hovertemplate": "<b>%{hovertext}</b><br><br>State=Kansas<br>Burglary rate=%{marker.size}<br># of guns per capita=%{y}<extra></extra>",
         "hovertext": [
          "Kansas"
         ],
         "legendgroup": "Kansas",
         "marker": {
          "color": "#FF6692",
          "size": [
           545
          ],
          "sizemode": "area",
          "sizeref": 2.21825,
          "symbol": "circle"
         },
         "mode": "markers",
         "name": "Kansas",
         "orientation": "v",
         "showlegend": true,
         "type": "scatter",
         "x": [
          545
         ],
         "xaxis": "x",
         "y": [
          18.06
         ],
         "yaxis": "y"
        },
        {
         "hovertemplate": "<b>%{hovertext}</b><br><br>State=Kentucky<br>Burglary rate=%{marker.size}<br># of guns per capita=%{y}<extra></extra>",
         "hovertext": [
          "Kentucky"
         ],
         "legendgroup": "Kentucky",
         "marker": {
          "color": "#B6E880",
          "size": [
           526.7
          ],
          "sizemode": "area",
          "sizeref": 2.21825,
          "symbol": "circle"
         },
         "mode": "markers",
         "name": "Kentucky",
         "orientation": "v",
         "showlegend": true,
         "type": "scatter",
         "x": [
          526.7
         ],
         "xaxis": "x",
         "y": [
          18.2
         ],
         "yaxis": "y"
        },
        {
         "hovertemplate": "<b>%{hovertext}</b><br><br>State=Louisiana<br>Burglary rate=%{marker.size}<br># of guns per capita=%{y}<extra></extra>",
         "hovertext": [
          "Louisiana"
         ],
         "legendgroup": "Louisiana",
         "marker": {
          "color": "#FF97FF",
          "size": [
           824.5
          ],
          "sizemode": "area",
          "sizeref": 2.21825,
          "symbol": "circle"
         },
         "mode": "markers",
         "name": "Louisiana",
         "orientation": "v",
         "showlegend": true,
         "type": "scatter",
         "x": [
          824.5
         ],
         "xaxis": "x",
         "y": [
          24.94
         ],
         "yaxis": "y"
        },
        {
         "hovertemplate": "<b>%{hovertext}</b><br><br>State=Maine<br>Burglary rate=%{marker.size}<br># of guns per capita=%{y}<extra></extra>",
         "hovertext": [
          "Maine"
         ],
         "legendgroup": "Maine",
         "marker": {
          "color": "#FECB52",
          "size": [
           378.2
          ],
          "sizemode": "area",
          "sizeref": 2.21825,
          "symbol": "circle"
         },
         "mode": "markers",
         "name": "Maine",
         "orientation": "v",
         "showlegend": true,
         "type": "scatter",
         "x": [
          378.2
         ],
         "xaxis": "x",
         "y": [
          11.5
         ],
         "yaxis": "y"
        },
        {
         "hovertemplate": "<b>%{hovertext}</b><br><br>State=Maryland<br>Burglary rate=%{marker.size}<br># of guns per capita=%{y}<extra></extra>",
         "hovertext": [
          "Maryland"
         ],
         "legendgroup": "Maryland",
         "marker": {
          "color": "#636efa",
          "size": [
           468.7
          ],
          "sizemode": "area",
          "sizeref": 2.21825,
          "symbol": "circle"
         },
         "mode": "markers",
         "name": "Maryland",
         "orientation": "v",
         "showlegend": true,
         "type": "scatter",
         "x": [
          468.7
         ],
         "xaxis": "x",
         "y": [
          17.03
         ],
         "yaxis": "y"
        },
        {
         "hovertemplate": "<b>%{hovertext}</b><br><br>State=Massachusetts<br>Burglary rate=%{marker.size}<br># of guns per capita=%{y}<extra></extra>",
         "hovertext": [
          "Massachusetts"
         ],
         "legendgroup": "Massachusetts",
         "marker": {
          "color": "#EF553B",
          "size": [
           370.1
          ],
          "sizemode": "area",
          "sizeref": 2.21825,
          "symbol": "circle"
         },
         "mode": "markers",
         "name": "Massachusetts",
         "orientation": "v",
         "showlegend": true,
         "type": "scatter",
         "x": [
          370.1
         ],
         "xaxis": "x",
         "y": [
          5.41
         ],
         "yaxis": "y"
        },
        {
         "hovertemplate": "<b>%{hovertext}</b><br><br>State=Michigan<br>Burglary rate=%{marker.size}<br># of guns per capita=%{y}<extra></extra>",
         "hovertext": [
          "Michigan"
         ],
         "legendgroup": "Michigan",
         "marker": {
          "color": "#00cc96",
          "size": [
           445.9
          ],
          "sizemode": "area",
          "sizeref": 2.21825,
          "symbol": "circle"
         },
         "mode": "markers",
         "name": "Michigan",
         "orientation": "v",
         "showlegend": true,
         "type": "scatter",
         "x": [
          445.9
         ],
         "xaxis": "x",
         "y": [
          6.59
         ],
         "yaxis": "y"
        },
        {
         "hovertemplate": "<b>%{hovertext}</b><br><br>State=Minnesota<br>Burglary rate=%{marker.size}<br># of guns per capita=%{y}<extra></extra>",
         "hovertext": [
          "Minnesota"
         ],
         "legendgroup": "Minnesota",
         "marker": {
          "color": "#ab63fa",
          "size": [
           380.7
          ],
          "sizemode": "area",
          "sizeref": 2.21825,
          "symbol": "circle"
         },
         "mode": "markers",
         "name": "Minnesota",
         "orientation": "v",
         "showlegend": true,
         "type": "scatter",
         "x": [
          380.7
         ],
         "xaxis": "x",
         "y": [
          14.22
         ],
         "yaxis": "y"
        },
        {
         "hovertemplate": "<b>%{hovertext}</b><br><br>State=Mississippi<br>Burglary rate=%{marker.size}<br># of guns per capita=%{y}<extra></extra>",
         "hovertext": [
          "Mississippi"
         ],
         "legendgroup": "Mississippi",
         "marker": {
          "color": "#FFA15A",
          "size": [
           813.3
          ],
          "sizemode": "area",
          "sizeref": 2.21825,
          "symbol": "circle"
         },
         "mode": "markers",
         "name": "Mississippi",
         "orientation": "v",
         "showlegend": true,
         "type": "scatter",
         "x": [
          813.3
         ],
         "xaxis": "x",
         "y": [
          11.89
         ],
         "yaxis": "y"
        },
        {
         "hovertemplate": "<b>%{hovertext}</b><br><br>State=Missouri<br>Burglary rate=%{marker.size}<br># of guns per capita=%{y}<extra></extra>",
         "hovertext": [
          "Missouri"
         ],
         "legendgroup": "Missouri",
         "marker": {
          "color": "#19d3f3",
          "size": [
           581.5
          ],
          "sizemode": "area",
          "sizeref": 2.21825,
          "symbol": "circle"
         },
         "mode": "markers",
         "name": "Missouri",
         "orientation": "v",
         "showlegend": true,
         "type": "scatter",
         "x": [
          581.5
         ],
         "xaxis": "x",
         "y": [
          11.94
         ],
         "yaxis": "y"
        },
        {
         "hovertemplate": "<b>%{hovertext}</b><br><br>State=Montana<br>Burglary rate=%{marker.size}<br># of guns per capita=%{y}<extra></extra>",
         "hovertext": [
          "Montana"
         ],
         "legendgroup": "Montana",
         "marker": {
          "color": "#FF6692",
          "size": [
           351.2
          ],
          "sizemode": "area",
          "sizeref": 2.21825,
          "symbol": "circle"
         },
         "mode": "markers",
         "name": "Montana",
         "orientation": "v",
         "showlegend": true,
         "type": "scatter",
         "x": [
          351.2
         ],
         "xaxis": "x",
         "y": [
          21.06
         ],
         "yaxis": "y"
        },
        {
         "hovertemplate": "<b>%{hovertext}</b><br><br>State=Nebraska<br>Burglary rate=%{marker.size}<br># of guns per capita=%{y}<extra></extra>",
         "hovertext": [
          "Nebraska"
         ],
         "legendgroup": "Nebraska",
         "marker": {
          "color": "#B6E880",
          "size": [
           422.5
          ],
          "sizemode": "area",
          "sizeref": 2.21825,
          "symbol": "circle"
         },
         "mode": "markers",
         "name": "Nebraska",
         "orientation": "v",
         "showlegend": true,
         "type": "scatter",
         "x": [
          422.5
         ],
         "xaxis": "x",
         "y": [
          11.57
         ],
         "yaxis": "y"
        },
        {
         "hovertemplate": "<b>%{hovertext}</b><br><br>State=Nevada<br>Burglary rate=%{marker.size}<br># of guns per capita=%{y}<extra></extra>",
         "hovertext": [
          "Nevada"
         ],
         "legendgroup": "Nevada",
         "marker": {
          "color": "#FF97FF",
          "size": [
           772.3
          ],
          "sizemode": "area",
          "sizeref": 2.21825,
          "symbol": "circle"
         },
         "mode": "markers",
         "name": "Nevada",
         "orientation": "v",
         "showlegend": true,
         "type": "scatter",
         "x": [
          772.3
         ],
         "xaxis": "x",
         "y": [
          25.64
         ],
         "yaxis": "y"
        },
        {
         "hovertemplate": "<b>%{hovertext}</b><br><br>State=New_Hampshire<br>Burglary rate=%{marker.size}<br># of guns per capita=%{y}<extra></extra>",
         "hovertext": [
          "New_Hampshire"
         ],
         "legendgroup": "New_Hampshire",
         "marker": {
          "color": "#FECB52",
          "size": [
           313.7
          ],
          "sizemode": "area",
          "sizeref": 2.21825,
          "symbol": "circle"
         },
         "mode": "markers",
         "name": "New_Hampshire",
         "orientation": "v",
         "showlegend": true,
         "type": "scatter",
         "x": [
          313.7
         ],
         "xaxis": "x",
         "y": [
          46.76
         ],
         "yaxis": "y"
        },
        {
         "hovertemplate": "<b>%{hovertext}</b><br><br>State=New_Jersey<br>Burglary rate=%{marker.size}<br># of guns per capita=%{y}<extra></extra>",
         "hovertext": [
          "New_Jersey"
         ],
         "legendgroup": "New_Jersey",
         "marker": {
          "color": "#636efa",
          "size": [
           354.8
          ],
          "sizemode": "area",
          "sizeref": 2.21825,
          "symbol": "circle"
         },
         "mode": "markers",
         "name": "New_Jersey",
         "orientation": "v",
         "showlegend": true,
         "type": "scatter",
         "x": [
          354.8
         ],
         "xaxis": "x",
         "y": [
          6.38
         ],
         "yaxis": "y"
        },
        {
         "hovertemplate": "<b>%{hovertext}</b><br><br>State=New_Mexico<br>Burglary rate=%{marker.size}<br># of guns per capita=%{y}<extra></extra>",
         "hovertext": [
          "New_Mexico"
         ],
         "legendgroup": "New_Mexico",
         "marker": {
          "color": "#EF553B",
          "size": [
           887.3
          ],
          "sizemode": "area",
          "sizeref": 2.21825,
          "symbol": "circle"
         },
         "mode": "markers",
         "name": "New_Mexico",
         "orientation": "v",
         "showlegend": true,
         "type": "scatter",
         "x": [
          887.3
         ],
         "xaxis": "x",
         "y": [
          46.73
         ],
         "yaxis": "y"
        },
        {
         "hovertemplate": "<b>%{hovertext}</b><br><br>State=New_York<br>Burglary rate=%{marker.size}<br># of guns per capita=%{y}<extra></extra>",
         "hovertext": [
          "New_York"
         ],
         "legendgroup": "New_York",
         "marker": {
          "color": "#00cc96",
          "size": [
           257.2
          ],
          "sizemode": "area",
          "sizeref": 2.21825,
          "symbol": "circle"
         },
         "mode": "markers",
         "name": "New_York",
         "orientation": "v",
         "showlegend": true,
         "type": "scatter",
         "x": [
          257.2
         ],
         "xaxis": "x",
         "y": [
          3.83
         ],
         "yaxis": "y"
        },
        {
         "hovertemplate": "<b>%{hovertext}</b><br><br>State=North_Carolina<br>Burglary rate=%{marker.size}<br># of guns per capita=%{y}<extra></extra>",
         "hovertext": [
          "North_Carolina"
         ],
         "legendgroup": "North_Carolina",
         "marker": {
          "color": "#ab63fa",
          "size": [
           798.2
          ],
          "sizemode": "area",
          "sizeref": 2.21825,
          "symbol": "circle"
         },
         "mode": "markers",
         "name": "North_Carolina",
         "orientation": "v",
         "showlegend": true,
         "type": "scatter",
         "x": [
          798.2
         ],
         "xaxis": "x",
         "y": [
          14.818
         ],
         "yaxis": "y"
        },
        {
         "hovertemplate": "<b>%{hovertext}</b><br><br>State=North_Dakota<br>Burglary rate=%{marker.size}<br># of guns per capita=%{y}<extra></extra>",
         "hovertext": [
          "North_Dakota"
         ],
         "legendgroup": "North_Dakota",
         "marker": {
          "color": "#FFA15A",
          "size": [
           366.1
          ],
          "sizemode": "area",
          "sizeref": 2.21825,
          "symbol": "circle"
         },
         "mode": "markers",
         "name": "North_Dakota",
         "orientation": "v",
         "showlegend": true,
         "type": "scatter",
         "x": [
          366.1
         ],
         "xaxis": "x",
         "y": [
          17.56
         ],
         "yaxis": "y"
        },
        {
         "hovertemplate": "<b>%{hovertext}</b><br><br>State=Ohio<br>Burglary rate=%{marker.size}<br># of guns per capita=%{y}<extra></extra>",
         "hovertext": [
          "Ohio"
         ],
         "legendgroup": "Ohio",
         "marker": {
          "color": "#19d3f3",
          "size": [
           680
          ],
          "sizemode": "area",
          "sizeref": 2.21825,
          "symbol": "circle"
         },
         "mode": "markers",
         "name": "Ohio",
         "orientation": "v",
         "showlegend": true,
         "type": "scatter",
         "x": [
          680
         ],
         "xaxis": "x",
         "y": [
          14.87
         ],
         "yaxis": "y"
        },
        {
         "hovertemplate": "<b>%{hovertext}</b><br><br>State=Oklahoma<br>Burglary rate=%{marker.size}<br># of guns per capita=%{y}<extra></extra>",
         "hovertext": [
          "Oklahoma"
         ],
         "legendgroup": "Oklahoma",
         "marker": {
          "color": "#FF6692",
          "size": [
           760.9
          ],
          "sizemode": "area",
          "sizeref": 2.21825,
          "symbol": "circle"
         },
         "mode": "markers",
         "name": "Oklahoma",
         "orientation": "v",
         "showlegend": true,
         "type": "scatter",
         "x": [
          760.9
         ],
         "xaxis": "x",
         "y": [
          18.13
         ],
         "yaxis": "y"
        },
        {
         "hovertemplate": "<b>%{hovertext}</b><br><br>State=Oregon<br>Burglary rate=%{marker.size}<br># of guns per capita=%{y}<extra></extra>",
         "hovertext": [
          "Oregon"
         ],
         "legendgroup": "Oregon",
         "marker": {
          "color": "#B6E880",
          "size": [
           434
          ],
          "sizemode": "area",
          "sizeref": 2.21825,
          "symbol": "circle"
         },
         "mode": "markers",
         "name": "Oregon",
         "orientation": "v",
         "showlegend": true,
         "type": "scatter",
         "x": [
          434
         ],
         "xaxis": "x",
         "y": [
          14.815999999999999
         ],
         "yaxis": "y"
        },
        {
         "hovertemplate": "<b>%{hovertext}</b><br><br>State=Pennsylvania<br>Burglary rate=%{marker.size}<br># of guns per capita=%{y}<extra></extra>",
         "hovertext": [
          "Pennsylvania"
         ],
         "legendgroup": "Pennsylvania",
         "marker": {
          "color": "#FF97FF",
          "size": [
           357.5
          ],
          "sizemode": "area",
          "sizeref": 2.21825,
          "symbol": "circle"
         },
         "mode": "markers",
         "name": "Pennsylvania",
         "orientation": "v",
         "showlegend": true,
         "type": "scatter",
         "x": [
          357.5
         ],
         "xaxis": "x",
         "y": [
          18.45
         ],
         "yaxis": "y"
        },
        {
         "hovertemplate": "<b>%{hovertext}</b><br><br>State=Rhode_Island<br>Burglary rate=%{marker.size}<br># of guns per capita=%{y}<extra></extra>",
         "hovertext": [
          "Rhode_Island"
         ],
         "legendgroup": "Rhode_Island",
         "marker": {
          "color": "#FECB52",
          "size": [
           457.1
          ],
          "sizemode": "area",
          "sizeref": 2.21825,
          "symbol": "circle"
         },
         "mode": "markers",
         "name": "Rhode_Island",
         "orientation": "v",
         "showlegend": true,
         "type": "scatter",
         "x": [
          457.1
         ],
         "xaxis": "x",
         "y": [
          3.98
         ],
         "yaxis": "y"
        },
        {
         "hovertemplate": "<b>%{hovertext}</b><br><br>State=South_Carolina<br>Burglary rate=%{marker.size}<br># of guns per capita=%{y}<extra></extra>",
         "hovertext": [
          "South_Carolina"
         ],
         "legendgroup": "South_Carolina",
         "marker": {
          "color": "#636efa",
          "size": [
           759.9
          ],
          "sizemode": "area",
          "sizeref": 2.21825,
          "symbol": "circle"
         },
         "mode": "markers",
         "name": "South_Carolina",
         "orientation": "v",
         "showlegend": true,
         "type": "scatter",
         "x": [
          759.9
         ],
         "xaxis": "x",
         "y": [
          21.01
         ],
         "yaxis": "y"
        },
        {
         "hovertemplate": "<b>%{hovertext}</b><br><br>State=South_Dakota<br>Burglary rate=%{marker.size}<br># of guns per capita=%{y}<extra></extra>",
         "hovertext": [
          "South_Dakota"
         ],
         "legendgroup": "South_Dakota",
         "marker": {
          "color": "#EF553B",
          "size": [
           330.3
          ],
          "sizemode": "area",
          "sizeref": 2.21825,
          "symbol": "circle"
         },
         "mode": "markers",
         "name": "South_Dakota",
         "orientation": "v",
         "showlegend": true,
         "type": "scatter",
         "x": [
          330.3
         ],
         "xaxis": "x",
         "y": [
          24.29
         ],
         "yaxis": "y"
        },
        {
         "hovertemplate": "<b>%{hovertext}</b><br><br>State=Tennessee<br>Burglary rate=%{marker.size}<br># of guns per capita=%{y}<extra></extra>",
         "hovertext": [
          "Tennessee"
         ],
         "legendgroup": "Tennessee",
         "marker": {
          "color": "#00cc96",
          "size": [
           712.2
          ],
          "sizemode": "area",
          "sizeref": 2.21825,
          "symbol": "circle"
         },
         "mode": "markers",
         "name": "Tennessee",
         "orientation": "v",
         "showlegend": true,
         "type": "scatter",
         "x": [
          712.2
         ],
         "xaxis": "x",
         "y": [
          14.76
         ],
         "yaxis": "y"
        },
        {
         "hovertemplate": "<b>%{hovertext}</b><br><br>State=Texas<br>Burglary rate=%{marker.size}<br># of guns per capita=%{y}<extra></extra>",
         "hovertext": [
          "Texas"
         ],
         "legendgroup": "Texas",
         "marker": {
          "color": "#ab63fa",
          "size": [
           627.8
          ],
          "sizemode": "area",
          "sizeref": 2.21825,
          "symbol": "circle"
         },
         "mode": "markers",
         "name": "Texas",
         "orientation": "v",
         "showlegend": true,
         "type": "scatter",
         "x": [
          627.8
         ],
         "xaxis": "x",
         "y": [
          20.79
         ],
         "yaxis": "y"
        },
        {
         "hovertemplate": "<b>%{hovertext}</b><br><br>State=Utah<br>Burglary rate=%{marker.size}<br># of guns per capita=%{y}<extra></extra>",
         "hovertext": [
          "Utah"
         ],
         "legendgroup": "Utah",
         "marker": {
          "color": "#FFA15A",
          "size": [
           391.4
          ],
          "sizemode": "area",
          "sizeref": 2.21825,
          "symbol": "circle"
         },
         "mode": "markers",
         "name": "Utah",
         "orientation": "v",
         "showlegend": true,
         "type": "scatter",
         "x": [
          391.4
         ],
         "xaxis": "x",
         "y": [
          23.48
         ],
         "yaxis": "y"
        },
        {
         "hovertemplate": "<b>%{hovertext}</b><br><br>State=Vermont<br>Burglary rate=%{marker.size}<br># of guns per capita=%{y}<extra></extra>",
         "hovertext": [
          "Vermont"
         ],
         "legendgroup": "Vermont",
         "marker": {
          "color": "#19d3f3",
          "size": [
           324.6
          ],
          "sizemode": "area",
          "sizeref": 2.21825,
          "symbol": "circle"
         },
         "mode": "markers",
         "name": "Vermont",
         "orientation": "v",
         "showlegend": true,
         "type": "scatter",
         "x": [
          324.6
         ],
         "xaxis": "x",
         "y": [
          9.41
         ],
         "yaxis": "y"
        },
        {
         "hovertemplate": "<b>%{hovertext}</b><br><br>State=Virginia<br>Burglary rate=%{marker.size}<br># of guns per capita=%{y}<extra></extra>",
         "hovertext": [
          "Virginia"
         ],
         "legendgroup": "Virginia",
         "marker": {
          "color": "#FF6692",
          "size": [
           277.7
          ],
          "sizemode": "area",
          "sizeref": 2.21825,
          "symbol": "circle"
         },
         "mode": "markers",
         "name": "Virginia",
         "orientation": "v",
         "showlegend": true,
         "type": "scatter",
         "x": [
          277.7
         ],
         "xaxis": "x",
         "y": [
          36.34
         ],
         "yaxis": "y"
        },
        {
         "hovertemplate": "<b>%{hovertext}</b><br><br>State=Washington<br>Burglary rate=%{marker.size}<br># of guns per capita=%{y}<extra></extra>",
         "hovertext": [
          "Washington"
         ],
         "legendgroup": "Washington",
         "marker": {
          "color": "#B6E880",
          "size": [
           783
          ],
          "sizemode": "area",
          "sizeref": 2.21825,
          "symbol": "circle"
         },
         "mode": "markers",
         "name": "Washington",
         "orientation": "v",
         "showlegend": true,
         "type": "scatter",
         "x": [
          783
         ],
         "xaxis": "x",
         "y": [
          12.4
         ],
         "yaxis": "y"
        },
        {
         "hovertemplate": "<b>%{hovertext}</b><br><br>State=West_Virginia<br>Burglary rate=%{marker.size}<br># of guns per capita=%{y}<extra></extra>",
         "hovertext": [
          "West_Virginia"
         ],
         "legendgroup": "West_Virginia",
         "marker": {
          "color": "#FF97FF",
          "size": [
           484.9
          ],
          "sizemode": "area",
          "sizeref": 2.21825,
          "symbol": "circle"
         },
         "mode": "markers",
         "name": "West_Virginia",
         "orientation": "v",
         "showlegend": true,
         "type": "scatter",
         "x": [
          484.9
         ],
         "xaxis": "x",
         "y": [
          19.42
         ],
         "yaxis": "y"
        },
        {
         "hovertemplate": "<b>%{hovertext}</b><br><br>State=Wisconsin<br>Burglary rate=%{marker.size}<br># of guns per capita=%{y}<extra></extra>",
         "hovertext": [
          "Wisconsin"
         ],
         "legendgroup": "Wisconsin",
         "marker": {
          "color": "#FECB52",
          "size": [
           368.5
          ],
          "sizemode": "area",
          "sizeref": 2.21825,
          "symbol": "circle"
         },
         "mode": "markers",
         "name": "Wisconsin",
         "orientation": "v",
         "showlegend": true,
         "type": "scatter",
         "x": [
          368.5
         ],
         "xaxis": "x",
         "y": [
          11.19
         ],
         "yaxis": "y"
        },
        {
         "hovertemplate": "<b>%{hovertext}</b><br><br>State=Wyoming<br>Burglary rate=%{marker.size}<br># of guns per capita=%{y}<extra></extra>",
         "hovertext": [
          "Wyoming"
         ],
         "legendgroup": "Wyoming",
         "marker": {
          "color": "#636efa",
          "size": [
           289.1
          ],
          "sizemode": "area",
          "sizeref": 2.21825,
          "symbol": "circle"
         },
         "mode": "markers",
         "name": "Wyoming",
         "orientation": "v",
         "showlegend": true,
         "type": "scatter",
         "x": [
          289.1
         ],
         "xaxis": "x",
         "y": [
          229.24
         ],
         "yaxis": "y"
        }
       ],
       "layout": {
        "legend": {
         "itemsizing": "constant",
         "title": {
          "text": "State"
         },
         "tracegroupgap": 0
        },
        "template": {
         "data": {
          "bar": [
           {
            "error_x": {
             "color": "#2a3f5f"
            },
            "error_y": {
             "color": "#2a3f5f"
            },
            "marker": {
             "line": {
              "color": "#E5ECF6",
              "width": 0.5
             }
            },
            "type": "bar"
           }
          ],
          "barpolar": [
           {
            "marker": {
             "line": {
              "color": "#E5ECF6",
              "width": 0.5
             }
            },
            "type": "barpolar"
           }
          ],
          "carpet": [
           {
            "aaxis": {
             "endlinecolor": "#2a3f5f",
             "gridcolor": "white",
             "linecolor": "white",
             "minorgridcolor": "white",
             "startlinecolor": "#2a3f5f"
            },
            "baxis": {
             "endlinecolor": "#2a3f5f",
             "gridcolor": "white",
             "linecolor": "white",
             "minorgridcolor": "white",
             "startlinecolor": "#2a3f5f"
            },
            "type": "carpet"
           }
          ],
          "choropleth": [
           {
            "colorbar": {
             "outlinewidth": 0,
             "ticks": ""
            },
            "type": "choropleth"
           }
          ],
          "contour": [
           {
            "colorbar": {
             "outlinewidth": 0,
             "ticks": ""
            },
            "colorscale": [
             [
              0,
              "#0d0887"
             ],
             [
              0.1111111111111111,
              "#46039f"
             ],
             [
              0.2222222222222222,
              "#7201a8"
             ],
             [
              0.3333333333333333,
              "#9c179e"
             ],
             [
              0.4444444444444444,
              "#bd3786"
             ],
             [
              0.5555555555555556,
              "#d8576b"
             ],
             [
              0.6666666666666666,
              "#ed7953"
             ],
             [
              0.7777777777777778,
              "#fb9f3a"
             ],
             [
              0.8888888888888888,
              "#fdca26"
             ],
             [
              1,
              "#f0f921"
             ]
            ],
            "type": "contour"
           }
          ],
          "contourcarpet": [
           {
            "colorbar": {
             "outlinewidth": 0,
             "ticks": ""
            },
            "type": "contourcarpet"
           }
          ],
          "heatmap": [
           {
            "colorbar": {
             "outlinewidth": 0,
             "ticks": ""
            },
            "colorscale": [
             [
              0,
              "#0d0887"
             ],
             [
              0.1111111111111111,
              "#46039f"
             ],
             [
              0.2222222222222222,
              "#7201a8"
             ],
             [
              0.3333333333333333,
              "#9c179e"
             ],
             [
              0.4444444444444444,
              "#bd3786"
             ],
             [
              0.5555555555555556,
              "#d8576b"
             ],
             [
              0.6666666666666666,
              "#ed7953"
             ],
             [
              0.7777777777777778,
              "#fb9f3a"
             ],
             [
              0.8888888888888888,
              "#fdca26"
             ],
             [
              1,
              "#f0f921"
             ]
            ],
            "type": "heatmap"
           }
          ],
          "heatmapgl": [
           {
            "colorbar": {
             "outlinewidth": 0,
             "ticks": ""
            },
            "colorscale": [
             [
              0,
              "#0d0887"
             ],
             [
              0.1111111111111111,
              "#46039f"
             ],
             [
              0.2222222222222222,
              "#7201a8"
             ],
             [
              0.3333333333333333,
              "#9c179e"
             ],
             [
              0.4444444444444444,
              "#bd3786"
             ],
             [
              0.5555555555555556,
              "#d8576b"
             ],
             [
              0.6666666666666666,
              "#ed7953"
             ],
             [
              0.7777777777777778,
              "#fb9f3a"
             ],
             [
              0.8888888888888888,
              "#fdca26"
             ],
             [
              1,
              "#f0f921"
             ]
            ],
            "type": "heatmapgl"
           }
          ],
          "histogram": [
           {
            "marker": {
             "colorbar": {
              "outlinewidth": 0,
              "ticks": ""
             }
            },
            "type": "histogram"
           }
          ],
          "histogram2d": [
           {
            "colorbar": {
             "outlinewidth": 0,
             "ticks": ""
            },
            "colorscale": [
             [
              0,
              "#0d0887"
             ],
             [
              0.1111111111111111,
              "#46039f"
             ],
             [
              0.2222222222222222,
              "#7201a8"
             ],
             [
              0.3333333333333333,
              "#9c179e"
             ],
             [
              0.4444444444444444,
              "#bd3786"
             ],
             [
              0.5555555555555556,
              "#d8576b"
             ],
             [
              0.6666666666666666,
              "#ed7953"
             ],
             [
              0.7777777777777778,
              "#fb9f3a"
             ],
             [
              0.8888888888888888,
              "#fdca26"
             ],
             [
              1,
              "#f0f921"
             ]
            ],
            "type": "histogram2d"
           }
          ],
          "histogram2dcontour": [
           {
            "colorbar": {
             "outlinewidth": 0,
             "ticks": ""
            },
            "colorscale": [
             [
              0,
              "#0d0887"
             ],
             [
              0.1111111111111111,
              "#46039f"
             ],
             [
              0.2222222222222222,
              "#7201a8"
             ],
             [
              0.3333333333333333,
              "#9c179e"
             ],
             [
              0.4444444444444444,
              "#bd3786"
             ],
             [
              0.5555555555555556,
              "#d8576b"
             ],
             [
              0.6666666666666666,
              "#ed7953"
             ],
             [
              0.7777777777777778,
              "#fb9f3a"
             ],
             [
              0.8888888888888888,
              "#fdca26"
             ],
             [
              1,
              "#f0f921"
             ]
            ],
            "type": "histogram2dcontour"
           }
          ],
          "mesh3d": [
           {
            "colorbar": {
             "outlinewidth": 0,
             "ticks": ""
            },
            "type": "mesh3d"
           }
          ],
          "parcoords": [
           {
            "line": {
             "colorbar": {
              "outlinewidth": 0,
              "ticks": ""
             }
            },
            "type": "parcoords"
           }
          ],
          "pie": [
           {
            "automargin": true,
            "type": "pie"
           }
          ],
          "scatter": [
           {
            "marker": {
             "colorbar": {
              "outlinewidth": 0,
              "ticks": ""
             }
            },
            "type": "scatter"
           }
          ],
          "scatter3d": [
           {
            "line": {
             "colorbar": {
              "outlinewidth": 0,
              "ticks": ""
             }
            },
            "marker": {
             "colorbar": {
              "outlinewidth": 0,
              "ticks": ""
             }
            },
            "type": "scatter3d"
           }
          ],
          "scattercarpet": [
           {
            "marker": {
             "colorbar": {
              "outlinewidth": 0,
              "ticks": ""
             }
            },
            "type": "scattercarpet"
           }
          ],
          "scattergeo": [
           {
            "marker": {
             "colorbar": {
              "outlinewidth": 0,
              "ticks": ""
             }
            },
            "type": "scattergeo"
           }
          ],
          "scattergl": [
           {
            "marker": {
             "colorbar": {
              "outlinewidth": 0,
              "ticks": ""
             }
            },
            "type": "scattergl"
           }
          ],
          "scattermapbox": [
           {
            "marker": {
             "colorbar": {
              "outlinewidth": 0,
              "ticks": ""
             }
            },
            "type": "scattermapbox"
           }
          ],
          "scatterpolar": [
           {
            "marker": {
             "colorbar": {
              "outlinewidth": 0,
              "ticks": ""
             }
            },
            "type": "scatterpolar"
           }
          ],
          "scatterpolargl": [
           {
            "marker": {
             "colorbar": {
              "outlinewidth": 0,
              "ticks": ""
             }
            },
            "type": "scatterpolargl"
           }
          ],
          "scatterternary": [
           {
            "marker": {
             "colorbar": {
              "outlinewidth": 0,
              "ticks": ""
             }
            },
            "type": "scatterternary"
           }
          ],
          "surface": [
           {
            "colorbar": {
             "outlinewidth": 0,
             "ticks": ""
            },
            "colorscale": [
             [
              0,
              "#0d0887"
             ],
             [
              0.1111111111111111,
              "#46039f"
             ],
             [
              0.2222222222222222,
              "#7201a8"
             ],
             [
              0.3333333333333333,
              "#9c179e"
             ],
             [
              0.4444444444444444,
              "#bd3786"
             ],
             [
              0.5555555555555556,
              "#d8576b"
             ],
             [
              0.6666666666666666,
              "#ed7953"
             ],
             [
              0.7777777777777778,
              "#fb9f3a"
             ],
             [
              0.8888888888888888,
              "#fdca26"
             ],
             [
              1,
              "#f0f921"
             ]
            ],
            "type": "surface"
           }
          ],
          "table": [
           {
            "cells": {
             "fill": {
              "color": "#EBF0F8"
             },
             "line": {
              "color": "white"
             }
            },
            "header": {
             "fill": {
              "color": "#C8D4E3"
             },
             "line": {
              "color": "white"
             }
            },
            "type": "table"
           }
          ]
         },
         "layout": {
          "annotationdefaults": {
           "arrowcolor": "#2a3f5f",
           "arrowhead": 0,
           "arrowwidth": 1
          },
          "coloraxis": {
           "colorbar": {
            "outlinewidth": 0,
            "ticks": ""
           }
          },
          "colorscale": {
           "diverging": [
            [
             0,
             "#8e0152"
            ],
            [
             0.1,
             "#c51b7d"
            ],
            [
             0.2,
             "#de77ae"
            ],
            [
             0.3,
             "#f1b6da"
            ],
            [
             0.4,
             "#fde0ef"
            ],
            [
             0.5,
             "#f7f7f7"
            ],
            [
             0.6,
             "#e6f5d0"
            ],
            [
             0.7,
             "#b8e186"
            ],
            [
             0.8,
             "#7fbc41"
            ],
            [
             0.9,
             "#4d9221"
            ],
            [
             1,
             "#276419"
            ]
           ],
           "sequential": [
            [
             0,
             "#0d0887"
            ],
            [
             0.1111111111111111,
             "#46039f"
            ],
            [
             0.2222222222222222,
             "#7201a8"
            ],
            [
             0.3333333333333333,
             "#9c179e"
            ],
            [
             0.4444444444444444,
             "#bd3786"
            ],
            [
             0.5555555555555556,
             "#d8576b"
            ],
            [
             0.6666666666666666,
             "#ed7953"
            ],
            [
             0.7777777777777778,
             "#fb9f3a"
            ],
            [
             0.8888888888888888,
             "#fdca26"
            ],
            [
             1,
             "#f0f921"
            ]
           ],
           "sequentialminus": [
            [
             0,
             "#0d0887"
            ],
            [
             0.1111111111111111,
             "#46039f"
            ],
            [
             0.2222222222222222,
             "#7201a8"
            ],
            [
             0.3333333333333333,
             "#9c179e"
            ],
            [
             0.4444444444444444,
             "#bd3786"
            ],
            [
             0.5555555555555556,
             "#d8576b"
            ],
            [
             0.6666666666666666,
             "#ed7953"
            ],
            [
             0.7777777777777778,
             "#fb9f3a"
            ],
            [
             0.8888888888888888,
             "#fdca26"
            ],
            [
             1,
             "#f0f921"
            ]
           ]
          },
          "colorway": [
           "#636efa",
           "#EF553B",
           "#00cc96",
           "#ab63fa",
           "#FFA15A",
           "#19d3f3",
           "#FF6692",
           "#B6E880",
           "#FF97FF",
           "#FECB52"
          ],
          "font": {
           "color": "#2a3f5f"
          },
          "geo": {
           "bgcolor": "white",
           "lakecolor": "white",
           "landcolor": "#E5ECF6",
           "showlakes": true,
           "showland": true,
           "subunitcolor": "white"
          },
          "hoverlabel": {
           "align": "left"
          },
          "hovermode": "closest",
          "mapbox": {
           "style": "light"
          },
          "paper_bgcolor": "white",
          "plot_bgcolor": "#E5ECF6",
          "polar": {
           "angularaxis": {
            "gridcolor": "white",
            "linecolor": "white",
            "ticks": ""
           },
           "bgcolor": "#E5ECF6",
           "radialaxis": {
            "gridcolor": "white",
            "linecolor": "white",
            "ticks": ""
           }
          },
          "scene": {
           "xaxis": {
            "backgroundcolor": "#E5ECF6",
            "gridcolor": "white",
            "gridwidth": 2,
            "linecolor": "white",
            "showbackground": true,
            "ticks": "",
            "zerolinecolor": "white"
           },
           "yaxis": {
            "backgroundcolor": "#E5ECF6",
            "gridcolor": "white",
            "gridwidth": 2,
            "linecolor": "white",
            "showbackground": true,
            "ticks": "",
            "zerolinecolor": "white"
           },
           "zaxis": {
            "backgroundcolor": "#E5ECF6",
            "gridcolor": "white",
            "gridwidth": 2,
            "linecolor": "white",
            "showbackground": true,
            "ticks": "",
            "zerolinecolor": "white"
           }
          },
          "shapedefaults": {
           "line": {
            "color": "#2a3f5f"
           }
          },
          "ternary": {
           "aaxis": {
            "gridcolor": "white",
            "linecolor": "white",
            "ticks": ""
           },
           "baxis": {
            "gridcolor": "white",
            "linecolor": "white",
            "ticks": ""
           },
           "bgcolor": "#E5ECF6",
           "caxis": {
            "gridcolor": "white",
            "linecolor": "white",
            "ticks": ""
           }
          },
          "title": {
           "x": 0.05
          },
          "xaxis": {
           "automargin": true,
           "gridcolor": "white",
           "linecolor": "white",
           "ticks": "",
           "title": {
            "standoff": 15
           },
           "zerolinecolor": "white",
           "zerolinewidth": 2
          },
          "yaxis": {
           "automargin": true,
           "gridcolor": "white",
           "linecolor": "white",
           "ticks": "",
           "title": {
            "standoff": 15
           },
           "zerolinecolor": "white",
           "zerolinewidth": 2
          }
         }
        },
        "title": {
         "text": "Burglary Rate in the US"
        },
        "xaxis": {
         "anchor": "y",
         "domain": [
          0,
          1
         ],
         "title": {
          "text": "Burglary rate"
         }
        },
        "yaxis": {
         "anchor": "x",
         "domain": [
          0,
          1
         ],
         "title": {
          "text": "# of guns per capita"
         }
        }
       }
      },
      "text/html": [
       "<div>\n",
       "        \n",
       "        \n",
       "            <div id=\"923d1d20-fb0f-4420-9617-a3a93e7fe3ec\" class=\"plotly-graph-div\" style=\"height:525px; width:100%;\"></div>\n",
       "            <script type=\"text/javascript\">\n",
       "                require([\"plotly\"], function(Plotly) {\n",
       "                    window.PLOTLYENV=window.PLOTLYENV || {};\n",
       "                    \n",
       "                if (document.getElementById(\"923d1d20-fb0f-4420-9617-a3a93e7fe3ec\")) {\n",
       "                    Plotly.newPlot(\n",
       "                        '923d1d20-fb0f-4420-9617-a3a93e7fe3ec',\n",
       "                        [{\"hovertemplate\": \"<b>%{hovertext}</b><br><br>State=Alabama<br>Burglary rate=%{marker.size}<br># of guns per capita=%{y}<extra></extra>\", \"hovertext\": [\"Alabama\"], \"legendgroup\": \"Alabama\", \"marker\": {\"color\": \"#636efa\", \"size\": [819.0], \"sizemode\": \"area\", \"sizeref\": 2.21825, \"symbol\": \"circle\"}, \"mode\": \"markers\", \"name\": \"Alabama\", \"orientation\": \"v\", \"showlegend\": true, \"type\": \"scatter\", \"x\": [819.0], \"xaxis\": \"x\", \"y\": [33.15], \"yaxis\": \"y\"}, {\"hovertemplate\": \"<b>%{hovertext}</b><br><br>State=Alaska<br>Burglary rate=%{marker.size}<br># of guns per capita=%{y}<extra></extra>\", \"hovertext\": [\"Alaska\"], \"legendgroup\": \"Alaska\", \"marker\": {\"color\": \"#EF553B\", \"size\": [427.6], \"sizemode\": \"area\", \"sizeref\": 2.21825, \"symbol\": \"circle\"}, \"mode\": \"markers\", \"name\": \"Alaska\", \"orientation\": \"v\", \"showlegend\": true, \"type\": \"scatter\", \"x\": [427.6], \"xaxis\": \"x\", \"y\": [21.38], \"yaxis\": \"y\"}, {\"hovertemplate\": \"<b>%{hovertext}</b><br><br>State=Arizona<br>Burglary rate=%{marker.size}<br># of guns per capita=%{y}<extra></extra>\", \"hovertext\": [\"Arizona\"], \"legendgroup\": \"Arizona\", \"marker\": {\"color\": \"#00cc96\", \"size\": [647.1], \"sizemode\": \"area\", \"sizeref\": 2.21825, \"symbol\": \"circle\"}, \"mode\": \"markers\", \"name\": \"Arizona\", \"orientation\": \"v\", \"showlegend\": true, \"type\": \"scatter\", \"x\": [647.1], \"xaxis\": \"x\", \"y\": [25.61], \"yaxis\": \"y\"}, {\"hovertemplate\": \"<b>%{hovertext}</b><br><br>State=Arkansas<br>Burglary rate=%{marker.size}<br># of guns per capita=%{y}<extra></extra>\", \"hovertext\": [\"Arkansas\"], \"legendgroup\": \"Arkansas\", \"marker\": {\"color\": \"#ab63fa\", \"size\": [835.7], \"sizemode\": \"area\", \"sizeref\": 2.21825, \"symbol\": \"circle\"}, \"mode\": \"markers\", \"name\": \"Arkansas\", \"orientation\": \"v\", \"showlegend\": true, \"type\": \"scatter\", \"x\": [835.7], \"xaxis\": \"x\", \"y\": [26.57], \"yaxis\": \"y\"}, {\"hovertemplate\": \"<b>%{hovertext}</b><br><br>State=California<br>Burglary rate=%{marker.size}<br># of guns per capita=%{y}<extra></extra>\", \"hovertext\": [\"California\"], \"legendgroup\": \"California\", \"marker\": {\"color\": \"#FFA15A\", \"size\": [522.3], \"sizemode\": \"area\", \"sizeref\": 2.21825, \"symbol\": \"circle\"}, \"mode\": \"markers\", \"name\": \"California\", \"orientation\": \"v\", \"showlegend\": true, \"type\": \"scatter\", \"x\": [522.3], \"xaxis\": \"x\", \"y\": [8.71], \"yaxis\": \"y\"}, {\"hovertemplate\": \"<b>%{hovertext}</b><br><br>State=Colorado<br>Burglary rate=%{marker.size}<br># of guns per capita=%{y}<extra></extra>\", \"hovertext\": [\"Colorado\"], \"legendgroup\": \"Colorado\", \"marker\": {\"color\": \"#19d3f3\", \"size\": [438.2], \"sizemode\": \"area\", \"sizeref\": 2.21825, \"symbol\": \"circle\"}, \"mode\": \"markers\", \"name\": \"Colorado\", \"orientation\": \"v\", \"showlegend\": true, \"type\": \"scatter\", \"x\": [438.2], \"xaxis\": \"x\", \"y\": [16.48], \"yaxis\": \"y\"}, {\"hovertemplate\": \"<b>%{hovertext}</b><br><br>State=Connecticut<br>Burglary rate=%{marker.size}<br># of guns per capita=%{y}<extra></extra>\", \"hovertext\": [\"Connecticut\"], \"legendgroup\": \"Connecticut\", \"marker\": {\"color\": \"#FF6692\", \"size\": [332.4], \"sizemode\": \"area\", \"sizeref\": 2.21825, \"symbol\": \"circle\"}, \"mode\": \"markers\", \"name\": \"Connecticut\", \"orientation\": \"v\", \"showlegend\": true, \"type\": \"scatter\", \"x\": [332.4], \"xaxis\": \"x\", \"y\": [22.96], \"yaxis\": \"y\"}, {\"hovertemplate\": \"<b>%{hovertext}</b><br><br>State=DC<br>Burglary rate=%{marker.size}<br># of guns per capita=%{y}<extra></extra>\", \"hovertext\": [\"DC\"], \"legendgroup\": \"DC\", \"marker\": {\"color\": \"#B6E880\", \"size\": [526.0], \"sizemode\": \"area\", \"sizeref\": 2.21825, \"symbol\": \"circle\"}, \"mode\": \"markers\", \"name\": \"DC\", \"orientation\": \"v\", \"showlegend\": true, \"type\": \"scatter\", \"x\": [526.0], \"xaxis\": \"x\", \"y\": [68.05], \"yaxis\": \"y\"}, {\"hovertemplate\": \"<b>%{hovertext}</b><br><br>State=Delaware<br>Burglary rate=%{marker.size}<br># of guns per capita=%{y}<extra></extra>\", \"hovertext\": [\"Delaware\"], \"legendgroup\": \"Delaware\", \"marker\": {\"color\": \"#FF97FF\", \"size\": [616.5], \"sizemode\": \"area\", \"sizeref\": 2.21825, \"symbol\": \"circle\"}, \"mode\": \"markers\", \"name\": \"Delaware\", \"orientation\": \"v\", \"showlegend\": true, \"type\": \"scatter\", \"x\": [616.5], \"xaxis\": \"x\", \"y\": [5.04], \"yaxis\": \"y\"}, {\"hovertemplate\": \"<b>%{hovertext}</b><br><br>State=Florida<br>Burglary rate=%{marker.size}<br># of guns per capita=%{y}<extra></extra>\", \"hovertext\": [\"Florida\"], \"legendgroup\": \"Florida\", \"marker\": {\"color\": \"#FECB52\", \"size\": [719.9], \"sizemode\": \"area\", \"sizeref\": 2.21825, \"symbol\": \"circle\"}, \"mode\": \"markers\", \"name\": \"Florida\", \"orientation\": \"v\", \"showlegend\": true, \"type\": \"scatter\", \"x\": [719.9], \"xaxis\": \"x\", \"y\": [16.35], \"yaxis\": \"y\"}, {\"hovertemplate\": \"<b>%{hovertext}</b><br><br>State=Georgia<br>Burglary rate=%{marker.size}<br># of guns per capita=%{y}<extra></extra>\", \"hovertext\": [\"Georgia\"], \"legendgroup\": \"Georgia\", \"marker\": {\"color\": \"#636efa\", \"size\": [756.9], \"sizemode\": \"area\", \"sizeref\": 2.21825, \"symbol\": \"circle\"}, \"mode\": \"markers\", \"name\": \"Georgia\", \"orientation\": \"v\", \"showlegend\": true, \"type\": \"scatter\", \"x\": [756.9], \"xaxis\": \"x\", \"y\": [18.22], \"yaxis\": \"y\"}, {\"hovertemplate\": \"<b>%{hovertext}</b><br><br>State=Hawaii<br>Burglary rate=%{marker.size}<br># of guns per capita=%{y}<extra></extra>\", \"hovertext\": [\"Hawaii\"], \"legendgroup\": \"Hawaii\", \"marker\": {\"color\": \"#EF553B\", \"size\": [547.9], \"sizemode\": \"area\", \"sizeref\": 2.21825, \"symbol\": \"circle\"}, \"mode\": \"markers\", \"name\": \"Hawaii\", \"orientation\": \"v\", \"showlegend\": true, \"type\": \"scatter\", \"x\": [547.9], \"xaxis\": \"x\", \"y\": [5.5], \"yaxis\": \"y\"}, {\"hovertemplate\": \"<b>%{hovertext}</b><br><br>State=Idaho<br>Burglary rate=%{marker.size}<br># of guns per capita=%{y}<extra></extra>\", \"hovertext\": [\"Idaho\"], \"legendgroup\": \"Idaho\", \"marker\": {\"color\": \"#00cc96\", \"size\": [393.3], \"sizemode\": \"area\", \"sizeref\": 2.21825, \"symbol\": \"circle\"}, \"mode\": \"markers\", \"name\": \"Idaho\", \"orientation\": \"v\", \"showlegend\": true, \"type\": \"scatter\", \"x\": [393.3], \"xaxis\": \"x\", \"y\": [28.86], \"yaxis\": \"y\"}, {\"hovertemplate\": \"<b>%{hovertext}</b><br><br>State=Illinois<br>Burglary rate=%{marker.size}<br># of guns per capita=%{y}<extra></extra>\", \"hovertext\": [\"Illinois\"], \"legendgroup\": \"Illinois\", \"marker\": {\"color\": \"#ab63fa\", \"size\": [388.2], \"sizemode\": \"area\", \"sizeref\": 2.21825, \"symbol\": \"circle\"}, \"mode\": \"markers\", \"name\": \"Illinois\", \"orientation\": \"v\", \"showlegend\": true, \"type\": \"scatter\", \"x\": [388.2], \"xaxis\": \"x\", \"y\": [11.44], \"yaxis\": \"y\"}, {\"hovertemplate\": \"<b>%{hovertext}</b><br><br>State=Indiana<br>Burglary rate=%{marker.size}<br># of guns per capita=%{y}<extra></extra>\", \"hovertext\": [\"Indiana\"], \"legendgroup\": \"Indiana\", \"marker\": {\"color\": \"#FFA15A\", \"size\": [559.3], \"sizemode\": \"area\", \"sizeref\": 2.21825, \"symbol\": \"circle\"}, \"mode\": \"markers\", \"name\": \"Indiana\", \"orientation\": \"v\", \"showlegend\": true, \"type\": \"scatter\", \"x\": [559.3], \"xaxis\": \"x\", \"y\": [17.1], \"yaxis\": \"y\"}, {\"hovertemplate\": \"<b>%{hovertext}</b><br><br>State=Iowa<br>Burglary rate=%{marker.size}<br># of guns per capita=%{y}<extra></extra>\", \"hovertext\": [\"Iowa\"], \"legendgroup\": \"Iowa\", \"marker\": {\"color\": \"#19d3f3\", \"size\": [464.4], \"sizemode\": \"area\", \"sizeref\": 2.21825, \"symbol\": \"circle\"}, \"mode\": \"markers\", \"name\": \"Iowa\", \"orientation\": \"v\", \"showlegend\": true, \"type\": \"scatter\", \"x\": [464.4], \"xaxis\": \"x\", \"y\": [9.05], \"yaxis\": \"y\"}, {\"hovertemplate\": \"<b>%{hovertext}</b><br><br>State=Kansas<br>Burglary rate=%{marker.size}<br># of guns per capita=%{y}<extra></extra>\", \"hovertext\": [\"Kansas\"], \"legendgroup\": \"Kansas\", \"marker\": {\"color\": \"#FF6692\", \"size\": [545.0], \"sizemode\": \"area\", \"sizeref\": 2.21825, \"symbol\": \"circle\"}, \"mode\": \"markers\", \"name\": \"Kansas\", \"orientation\": \"v\", \"showlegend\": true, \"type\": \"scatter\", \"x\": [545.0], \"xaxis\": \"x\", \"y\": [18.06], \"yaxis\": \"y\"}, {\"hovertemplate\": \"<b>%{hovertext}</b><br><br>State=Kentucky<br>Burglary rate=%{marker.size}<br># of guns per capita=%{y}<extra></extra>\", \"hovertext\": [\"Kentucky\"], \"legendgroup\": \"Kentucky\", \"marker\": {\"color\": \"#B6E880\", \"size\": [526.7], \"sizemode\": \"area\", \"sizeref\": 2.21825, \"symbol\": \"circle\"}, \"mode\": \"markers\", \"name\": \"Kentucky\", \"orientation\": \"v\", \"showlegend\": true, \"type\": \"scatter\", \"x\": [526.7], \"xaxis\": \"x\", \"y\": [18.2], \"yaxis\": \"y\"}, {\"hovertemplate\": \"<b>%{hovertext}</b><br><br>State=Louisiana<br>Burglary rate=%{marker.size}<br># of guns per capita=%{y}<extra></extra>\", \"hovertext\": [\"Louisiana\"], \"legendgroup\": \"Louisiana\", \"marker\": {\"color\": \"#FF97FF\", \"size\": [824.5], \"sizemode\": \"area\", \"sizeref\": 2.21825, \"symbol\": \"circle\"}, \"mode\": \"markers\", \"name\": \"Louisiana\", \"orientation\": \"v\", \"showlegend\": true, \"type\": \"scatter\", \"x\": [824.5], \"xaxis\": \"x\", \"y\": [24.94], \"yaxis\": \"y\"}, {\"hovertemplate\": \"<b>%{hovertext}</b><br><br>State=Maine<br>Burglary rate=%{marker.size}<br># of guns per capita=%{y}<extra></extra>\", \"hovertext\": [\"Maine\"], \"legendgroup\": \"Maine\", \"marker\": {\"color\": \"#FECB52\", \"size\": [378.2], \"sizemode\": \"area\", \"sizeref\": 2.21825, \"symbol\": \"circle\"}, \"mode\": \"markers\", \"name\": \"Maine\", \"orientation\": \"v\", \"showlegend\": true, \"type\": \"scatter\", \"x\": [378.2], \"xaxis\": \"x\", \"y\": [11.5], \"yaxis\": \"y\"}, {\"hovertemplate\": \"<b>%{hovertext}</b><br><br>State=Maryland<br>Burglary rate=%{marker.size}<br># of guns per capita=%{y}<extra></extra>\", \"hovertext\": [\"Maryland\"], \"legendgroup\": \"Maryland\", \"marker\": {\"color\": \"#636efa\", \"size\": [468.7], \"sizemode\": \"area\", \"sizeref\": 2.21825, \"symbol\": \"circle\"}, \"mode\": \"markers\", \"name\": \"Maryland\", \"orientation\": \"v\", \"showlegend\": true, \"type\": \"scatter\", \"x\": [468.7], \"xaxis\": \"x\", \"y\": [17.03], \"yaxis\": \"y\"}, {\"hovertemplate\": \"<b>%{hovertext}</b><br><br>State=Massachusetts<br>Burglary rate=%{marker.size}<br># of guns per capita=%{y}<extra></extra>\", \"hovertext\": [\"Massachusetts\"], \"legendgroup\": \"Massachusetts\", \"marker\": {\"color\": \"#EF553B\", \"size\": [370.1], \"sizemode\": \"area\", \"sizeref\": 2.21825, \"symbol\": \"circle\"}, \"mode\": \"markers\", \"name\": \"Massachusetts\", \"orientation\": \"v\", \"showlegend\": true, \"type\": \"scatter\", \"x\": [370.1], \"xaxis\": \"x\", \"y\": [5.41], \"yaxis\": \"y\"}, {\"hovertemplate\": \"<b>%{hovertext}</b><br><br>State=Michigan<br>Burglary rate=%{marker.size}<br># of guns per capita=%{y}<extra></extra>\", \"hovertext\": [\"Michigan\"], \"legendgroup\": \"Michigan\", \"marker\": {\"color\": \"#00cc96\", \"size\": [445.9], \"sizemode\": \"area\", \"sizeref\": 2.21825, \"symbol\": \"circle\"}, \"mode\": \"markers\", \"name\": \"Michigan\", \"orientation\": \"v\", \"showlegend\": true, \"type\": \"scatter\", \"x\": [445.9], \"xaxis\": \"x\", \"y\": [6.59], \"yaxis\": \"y\"}, {\"hovertemplate\": \"<b>%{hovertext}</b><br><br>State=Minnesota<br>Burglary rate=%{marker.size}<br># of guns per capita=%{y}<extra></extra>\", \"hovertext\": [\"Minnesota\"], \"legendgroup\": \"Minnesota\", \"marker\": {\"color\": \"#ab63fa\", \"size\": [380.7], \"sizemode\": \"area\", \"sizeref\": 2.21825, \"symbol\": \"circle\"}, \"mode\": \"markers\", \"name\": \"Minnesota\", \"orientation\": \"v\", \"showlegend\": true, \"type\": \"scatter\", \"x\": [380.7], \"xaxis\": \"x\", \"y\": [14.22], \"yaxis\": \"y\"}, {\"hovertemplate\": \"<b>%{hovertext}</b><br><br>State=Mississippi<br>Burglary rate=%{marker.size}<br># of guns per capita=%{y}<extra></extra>\", \"hovertext\": [\"Mississippi\"], \"legendgroup\": \"Mississippi\", \"marker\": {\"color\": \"#FFA15A\", \"size\": [813.3], \"sizemode\": \"area\", \"sizeref\": 2.21825, \"symbol\": \"circle\"}, \"mode\": \"markers\", \"name\": \"Mississippi\", \"orientation\": \"v\", \"showlegend\": true, \"type\": \"scatter\", \"x\": [813.3], \"xaxis\": \"x\", \"y\": [11.89], \"yaxis\": \"y\"}, {\"hovertemplate\": \"<b>%{hovertext}</b><br><br>State=Missouri<br>Burglary rate=%{marker.size}<br># of guns per capita=%{y}<extra></extra>\", \"hovertext\": [\"Missouri\"], \"legendgroup\": \"Missouri\", \"marker\": {\"color\": \"#19d3f3\", \"size\": [581.5], \"sizemode\": \"area\", \"sizeref\": 2.21825, \"symbol\": \"circle\"}, \"mode\": \"markers\", \"name\": \"Missouri\", \"orientation\": \"v\", \"showlegend\": true, \"type\": \"scatter\", \"x\": [581.5], \"xaxis\": \"x\", \"y\": [11.94], \"yaxis\": \"y\"}, {\"hovertemplate\": \"<b>%{hovertext}</b><br><br>State=Montana<br>Burglary rate=%{marker.size}<br># of guns per capita=%{y}<extra></extra>\", \"hovertext\": [\"Montana\"], \"legendgroup\": \"Montana\", \"marker\": {\"color\": \"#FF6692\", \"size\": [351.2], \"sizemode\": \"area\", \"sizeref\": 2.21825, \"symbol\": \"circle\"}, \"mode\": \"markers\", \"name\": \"Montana\", \"orientation\": \"v\", \"showlegend\": true, \"type\": \"scatter\", \"x\": [351.2], \"xaxis\": \"x\", \"y\": [21.06], \"yaxis\": \"y\"}, {\"hovertemplate\": \"<b>%{hovertext}</b><br><br>State=Nebraska<br>Burglary rate=%{marker.size}<br># of guns per capita=%{y}<extra></extra>\", \"hovertext\": [\"Nebraska\"], \"legendgroup\": \"Nebraska\", \"marker\": {\"color\": \"#B6E880\", \"size\": [422.5], \"sizemode\": \"area\", \"sizeref\": 2.21825, \"symbol\": \"circle\"}, \"mode\": \"markers\", \"name\": \"Nebraska\", \"orientation\": \"v\", \"showlegend\": true, \"type\": \"scatter\", \"x\": [422.5], \"xaxis\": \"x\", \"y\": [11.57], \"yaxis\": \"y\"}, {\"hovertemplate\": \"<b>%{hovertext}</b><br><br>State=Nevada<br>Burglary rate=%{marker.size}<br># of guns per capita=%{y}<extra></extra>\", \"hovertext\": [\"Nevada\"], \"legendgroup\": \"Nevada\", \"marker\": {\"color\": \"#FF97FF\", \"size\": [772.3], \"sizemode\": \"area\", \"sizeref\": 2.21825, \"symbol\": \"circle\"}, \"mode\": \"markers\", \"name\": \"Nevada\", \"orientation\": \"v\", \"showlegend\": true, \"type\": \"scatter\", \"x\": [772.3], \"xaxis\": \"x\", \"y\": [25.64], \"yaxis\": \"y\"}, {\"hovertemplate\": \"<b>%{hovertext}</b><br><br>State=New_Hampshire<br>Burglary rate=%{marker.size}<br># of guns per capita=%{y}<extra></extra>\", \"hovertext\": [\"New_Hampshire\"], \"legendgroup\": \"New_Hampshire\", \"marker\": {\"color\": \"#FECB52\", \"size\": [313.7], \"sizemode\": \"area\", \"sizeref\": 2.21825, \"symbol\": \"circle\"}, \"mode\": \"markers\", \"name\": \"New_Hampshire\", \"orientation\": \"v\", \"showlegend\": true, \"type\": \"scatter\", \"x\": [313.7], \"xaxis\": \"x\", \"y\": [46.76], \"yaxis\": \"y\"}, {\"hovertemplate\": \"<b>%{hovertext}</b><br><br>State=New_Jersey<br>Burglary rate=%{marker.size}<br># of guns per capita=%{y}<extra></extra>\", \"hovertext\": [\"New_Jersey\"], \"legendgroup\": \"New_Jersey\", \"marker\": {\"color\": \"#636efa\", \"size\": [354.8], \"sizemode\": \"area\", \"sizeref\": 2.21825, \"symbol\": \"circle\"}, \"mode\": \"markers\", \"name\": \"New_Jersey\", \"orientation\": \"v\", \"showlegend\": true, \"type\": \"scatter\", \"x\": [354.8], \"xaxis\": \"x\", \"y\": [6.38], \"yaxis\": \"y\"}, {\"hovertemplate\": \"<b>%{hovertext}</b><br><br>State=New_Mexico<br>Burglary rate=%{marker.size}<br># of guns per capita=%{y}<extra></extra>\", \"hovertext\": [\"New_Mexico\"], \"legendgroup\": \"New_Mexico\", \"marker\": {\"color\": \"#EF553B\", \"size\": [887.3], \"sizemode\": \"area\", \"sizeref\": 2.21825, \"symbol\": \"circle\"}, \"mode\": \"markers\", \"name\": \"New_Mexico\", \"orientation\": \"v\", \"showlegend\": true, \"type\": \"scatter\", \"x\": [887.3], \"xaxis\": \"x\", \"y\": [46.73], \"yaxis\": \"y\"}, {\"hovertemplate\": \"<b>%{hovertext}</b><br><br>State=New_York<br>Burglary rate=%{marker.size}<br># of guns per capita=%{y}<extra></extra>\", \"hovertext\": [\"New_York\"], \"legendgroup\": \"New_York\", \"marker\": {\"color\": \"#00cc96\", \"size\": [257.2], \"sizemode\": \"area\", \"sizeref\": 2.21825, \"symbol\": \"circle\"}, \"mode\": \"markers\", \"name\": \"New_York\", \"orientation\": \"v\", \"showlegend\": true, \"type\": \"scatter\", \"x\": [257.2], \"xaxis\": \"x\", \"y\": [3.83], \"yaxis\": \"y\"}, {\"hovertemplate\": \"<b>%{hovertext}</b><br><br>State=North_Carolina<br>Burglary rate=%{marker.size}<br># of guns per capita=%{y}<extra></extra>\", \"hovertext\": [\"North_Carolina\"], \"legendgroup\": \"North_Carolina\", \"marker\": {\"color\": \"#ab63fa\", \"size\": [798.2], \"sizemode\": \"area\", \"sizeref\": 2.21825, \"symbol\": \"circle\"}, \"mode\": \"markers\", \"name\": \"North_Carolina\", \"orientation\": \"v\", \"showlegend\": true, \"type\": \"scatter\", \"x\": [798.2], \"xaxis\": \"x\", \"y\": [14.818], \"yaxis\": \"y\"}, {\"hovertemplate\": \"<b>%{hovertext}</b><br><br>State=North_Dakota<br>Burglary rate=%{marker.size}<br># of guns per capita=%{y}<extra></extra>\", \"hovertext\": [\"North_Dakota\"], \"legendgroup\": \"North_Dakota\", \"marker\": {\"color\": \"#FFA15A\", \"size\": [366.1], \"sizemode\": \"area\", \"sizeref\": 2.21825, \"symbol\": \"circle\"}, \"mode\": \"markers\", \"name\": \"North_Dakota\", \"orientation\": \"v\", \"showlegend\": true, \"type\": \"scatter\", \"x\": [366.1], \"xaxis\": \"x\", \"y\": [17.56], \"yaxis\": \"y\"}, {\"hovertemplate\": \"<b>%{hovertext}</b><br><br>State=Ohio<br>Burglary rate=%{marker.size}<br># of guns per capita=%{y}<extra></extra>\", \"hovertext\": [\"Ohio\"], \"legendgroup\": \"Ohio\", \"marker\": {\"color\": \"#19d3f3\", \"size\": [680.0], \"sizemode\": \"area\", \"sizeref\": 2.21825, \"symbol\": \"circle\"}, \"mode\": \"markers\", \"name\": \"Ohio\", \"orientation\": \"v\", \"showlegend\": true, \"type\": \"scatter\", \"x\": [680.0], \"xaxis\": \"x\", \"y\": [14.87], \"yaxis\": \"y\"}, {\"hovertemplate\": \"<b>%{hovertext}</b><br><br>State=Oklahoma<br>Burglary rate=%{marker.size}<br># of guns per capita=%{y}<extra></extra>\", \"hovertext\": [\"Oklahoma\"], \"legendgroup\": \"Oklahoma\", \"marker\": {\"color\": \"#FF6692\", \"size\": [760.9], \"sizemode\": \"area\", \"sizeref\": 2.21825, \"symbol\": \"circle\"}, \"mode\": \"markers\", \"name\": \"Oklahoma\", \"orientation\": \"v\", \"showlegend\": true, \"type\": \"scatter\", \"x\": [760.9], \"xaxis\": \"x\", \"y\": [18.13], \"yaxis\": \"y\"}, {\"hovertemplate\": \"<b>%{hovertext}</b><br><br>State=Oregon<br>Burglary rate=%{marker.size}<br># of guns per capita=%{y}<extra></extra>\", \"hovertext\": [\"Oregon\"], \"legendgroup\": \"Oregon\", \"marker\": {\"color\": \"#B6E880\", \"size\": [434.0], \"sizemode\": \"area\", \"sizeref\": 2.21825, \"symbol\": \"circle\"}, \"mode\": \"markers\", \"name\": \"Oregon\", \"orientation\": \"v\", \"showlegend\": true, \"type\": \"scatter\", \"x\": [434.0], \"xaxis\": \"x\", \"y\": [14.815999999999999], \"yaxis\": \"y\"}, {\"hovertemplate\": \"<b>%{hovertext}</b><br><br>State=Pennsylvania<br>Burglary rate=%{marker.size}<br># of guns per capita=%{y}<extra></extra>\", \"hovertext\": [\"Pennsylvania\"], \"legendgroup\": \"Pennsylvania\", \"marker\": {\"color\": \"#FF97FF\", \"size\": [357.5], \"sizemode\": \"area\", \"sizeref\": 2.21825, \"symbol\": \"circle\"}, \"mode\": \"markers\", \"name\": \"Pennsylvania\", \"orientation\": \"v\", \"showlegend\": true, \"type\": \"scatter\", \"x\": [357.5], \"xaxis\": \"x\", \"y\": [18.45], \"yaxis\": \"y\"}, {\"hovertemplate\": \"<b>%{hovertext}</b><br><br>State=Rhode_Island<br>Burglary rate=%{marker.size}<br># of guns per capita=%{y}<extra></extra>\", \"hovertext\": [\"Rhode_Island\"], \"legendgroup\": \"Rhode_Island\", \"marker\": {\"color\": \"#FECB52\", \"size\": [457.1], \"sizemode\": \"area\", \"sizeref\": 2.21825, \"symbol\": \"circle\"}, \"mode\": \"markers\", \"name\": \"Rhode_Island\", \"orientation\": \"v\", \"showlegend\": true, \"type\": \"scatter\", \"x\": [457.1], \"xaxis\": \"x\", \"y\": [3.98], \"yaxis\": \"y\"}, {\"hovertemplate\": \"<b>%{hovertext}</b><br><br>State=South_Carolina<br>Burglary rate=%{marker.size}<br># of guns per capita=%{y}<extra></extra>\", \"hovertext\": [\"South_Carolina\"], \"legendgroup\": \"South_Carolina\", \"marker\": {\"color\": \"#636efa\", \"size\": [759.9], \"sizemode\": \"area\", \"sizeref\": 2.21825, \"symbol\": \"circle\"}, \"mode\": \"markers\", \"name\": \"South_Carolina\", \"orientation\": \"v\", \"showlegend\": true, \"type\": \"scatter\", \"x\": [759.9], \"xaxis\": \"x\", \"y\": [21.01], \"yaxis\": \"y\"}, {\"hovertemplate\": \"<b>%{hovertext}</b><br><br>State=South_Dakota<br>Burglary rate=%{marker.size}<br># of guns per capita=%{y}<extra></extra>\", \"hovertext\": [\"South_Dakota\"], \"legendgroup\": \"South_Dakota\", \"marker\": {\"color\": \"#EF553B\", \"size\": [330.3], \"sizemode\": \"area\", \"sizeref\": 2.21825, \"symbol\": \"circle\"}, \"mode\": \"markers\", \"name\": \"South_Dakota\", \"orientation\": \"v\", \"showlegend\": true, \"type\": \"scatter\", \"x\": [330.3], \"xaxis\": \"x\", \"y\": [24.29], \"yaxis\": \"y\"}, {\"hovertemplate\": \"<b>%{hovertext}</b><br><br>State=Tennessee<br>Burglary rate=%{marker.size}<br># of guns per capita=%{y}<extra></extra>\", \"hovertext\": [\"Tennessee\"], \"legendgroup\": \"Tennessee\", \"marker\": {\"color\": \"#00cc96\", \"size\": [712.2], \"sizemode\": \"area\", \"sizeref\": 2.21825, \"symbol\": \"circle\"}, \"mode\": \"markers\", \"name\": \"Tennessee\", \"orientation\": \"v\", \"showlegend\": true, \"type\": \"scatter\", \"x\": [712.2], \"xaxis\": \"x\", \"y\": [14.76], \"yaxis\": \"y\"}, {\"hovertemplate\": \"<b>%{hovertext}</b><br><br>State=Texas<br>Burglary rate=%{marker.size}<br># of guns per capita=%{y}<extra></extra>\", \"hovertext\": [\"Texas\"], \"legendgroup\": \"Texas\", \"marker\": {\"color\": \"#ab63fa\", \"size\": [627.8], \"sizemode\": \"area\", \"sizeref\": 2.21825, \"symbol\": \"circle\"}, \"mode\": \"markers\", \"name\": \"Texas\", \"orientation\": \"v\", \"showlegend\": true, \"type\": \"scatter\", \"x\": [627.8], \"xaxis\": \"x\", \"y\": [20.79], \"yaxis\": \"y\"}, {\"hovertemplate\": \"<b>%{hovertext}</b><br><br>State=Utah<br>Burglary rate=%{marker.size}<br># of guns per capita=%{y}<extra></extra>\", \"hovertext\": [\"Utah\"], \"legendgroup\": \"Utah\", \"marker\": {\"color\": \"#FFA15A\", \"size\": [391.4], \"sizemode\": \"area\", \"sizeref\": 2.21825, \"symbol\": \"circle\"}, \"mode\": \"markers\", \"name\": \"Utah\", \"orientation\": \"v\", \"showlegend\": true, \"type\": \"scatter\", \"x\": [391.4], \"xaxis\": \"x\", \"y\": [23.48], \"yaxis\": \"y\"}, {\"hovertemplate\": \"<b>%{hovertext}</b><br><br>State=Vermont<br>Burglary rate=%{marker.size}<br># of guns per capita=%{y}<extra></extra>\", \"hovertext\": [\"Vermont\"], \"legendgroup\": \"Vermont\", \"marker\": {\"color\": \"#19d3f3\", \"size\": [324.6], \"sizemode\": \"area\", \"sizeref\": 2.21825, \"symbol\": \"circle\"}, \"mode\": \"markers\", \"name\": \"Vermont\", \"orientation\": \"v\", \"showlegend\": true, \"type\": \"scatter\", \"x\": [324.6], \"xaxis\": \"x\", \"y\": [9.41], \"yaxis\": \"y\"}, {\"hovertemplate\": \"<b>%{hovertext}</b><br><br>State=Virginia<br>Burglary rate=%{marker.size}<br># of guns per capita=%{y}<extra></extra>\", \"hovertext\": [\"Virginia\"], \"legendgroup\": \"Virginia\", \"marker\": {\"color\": \"#FF6692\", \"size\": [277.7], \"sizemode\": \"area\", \"sizeref\": 2.21825, \"symbol\": \"circle\"}, \"mode\": \"markers\", \"name\": \"Virginia\", \"orientation\": \"v\", \"showlegend\": true, \"type\": \"scatter\", \"x\": [277.7], \"xaxis\": \"x\", \"y\": [36.34], \"yaxis\": \"y\"}, {\"hovertemplate\": \"<b>%{hovertext}</b><br><br>State=Washington<br>Burglary rate=%{marker.size}<br># of guns per capita=%{y}<extra></extra>\", \"hovertext\": [\"Washington\"], \"legendgroup\": \"Washington\", \"marker\": {\"color\": \"#B6E880\", \"size\": [783.0], \"sizemode\": \"area\", \"sizeref\": 2.21825, \"symbol\": \"circle\"}, \"mode\": \"markers\", \"name\": \"Washington\", \"orientation\": \"v\", \"showlegend\": true, \"type\": \"scatter\", \"x\": [783.0], \"xaxis\": \"x\", \"y\": [12.4], \"yaxis\": \"y\"}, {\"hovertemplate\": \"<b>%{hovertext}</b><br><br>State=West_Virginia<br>Burglary rate=%{marker.size}<br># of guns per capita=%{y}<extra></extra>\", \"hovertext\": [\"West_Virginia\"], \"legendgroup\": \"West_Virginia\", \"marker\": {\"color\": \"#FF97FF\", \"size\": [484.9], \"sizemode\": \"area\", \"sizeref\": 2.21825, \"symbol\": \"circle\"}, \"mode\": \"markers\", \"name\": \"West_Virginia\", \"orientation\": \"v\", \"showlegend\": true, \"type\": \"scatter\", \"x\": [484.9], \"xaxis\": \"x\", \"y\": [19.42], \"yaxis\": \"y\"}, {\"hovertemplate\": \"<b>%{hovertext}</b><br><br>State=Wisconsin<br>Burglary rate=%{marker.size}<br># of guns per capita=%{y}<extra></extra>\", \"hovertext\": [\"Wisconsin\"], \"legendgroup\": \"Wisconsin\", \"marker\": {\"color\": \"#FECB52\", \"size\": [368.5], \"sizemode\": \"area\", \"sizeref\": 2.21825, \"symbol\": \"circle\"}, \"mode\": \"markers\", \"name\": \"Wisconsin\", \"orientation\": \"v\", \"showlegend\": true, \"type\": \"scatter\", \"x\": [368.5], \"xaxis\": \"x\", \"y\": [11.19], \"yaxis\": \"y\"}, {\"hovertemplate\": \"<b>%{hovertext}</b><br><br>State=Wyoming<br>Burglary rate=%{marker.size}<br># of guns per capita=%{y}<extra></extra>\", \"hovertext\": [\"Wyoming\"], \"legendgroup\": \"Wyoming\", \"marker\": {\"color\": \"#636efa\", \"size\": [289.1], \"sizemode\": \"area\", \"sizeref\": 2.21825, \"symbol\": \"circle\"}, \"mode\": \"markers\", \"name\": \"Wyoming\", \"orientation\": \"v\", \"showlegend\": true, \"type\": \"scatter\", \"x\": [289.1], \"xaxis\": \"x\", \"y\": [229.24], \"yaxis\": \"y\"}],\n",
       "                        {\"legend\": {\"itemsizing\": \"constant\", \"title\": {\"text\": \"State\"}, \"tracegroupgap\": 0}, \"template\": {\"data\": {\"bar\": [{\"error_x\": {\"color\": \"#2a3f5f\"}, \"error_y\": {\"color\": \"#2a3f5f\"}, \"marker\": {\"line\": {\"color\": \"#E5ECF6\", \"width\": 0.5}}, \"type\": \"bar\"}], \"barpolar\": [{\"marker\": {\"line\": {\"color\": \"#E5ECF6\", \"width\": 0.5}}, \"type\": \"barpolar\"}], \"carpet\": [{\"aaxis\": {\"endlinecolor\": \"#2a3f5f\", \"gridcolor\": \"white\", \"linecolor\": \"white\", \"minorgridcolor\": \"white\", \"startlinecolor\": \"#2a3f5f\"}, \"baxis\": {\"endlinecolor\": \"#2a3f5f\", \"gridcolor\": \"white\", \"linecolor\": \"white\", \"minorgridcolor\": \"white\", \"startlinecolor\": \"#2a3f5f\"}, \"type\": \"carpet\"}], \"choropleth\": [{\"colorbar\": {\"outlinewidth\": 0, \"ticks\": \"\"}, \"type\": \"choropleth\"}], \"contour\": [{\"colorbar\": {\"outlinewidth\": 0, \"ticks\": \"\"}, \"colorscale\": [[0.0, \"#0d0887\"], [0.1111111111111111, \"#46039f\"], [0.2222222222222222, \"#7201a8\"], [0.3333333333333333, \"#9c179e\"], [0.4444444444444444, \"#bd3786\"], [0.5555555555555556, \"#d8576b\"], [0.6666666666666666, \"#ed7953\"], [0.7777777777777778, \"#fb9f3a\"], [0.8888888888888888, \"#fdca26\"], [1.0, \"#f0f921\"]], \"type\": \"contour\"}], \"contourcarpet\": [{\"colorbar\": {\"outlinewidth\": 0, \"ticks\": \"\"}, \"type\": \"contourcarpet\"}], \"heatmap\": [{\"colorbar\": {\"outlinewidth\": 0, \"ticks\": \"\"}, \"colorscale\": [[0.0, \"#0d0887\"], [0.1111111111111111, \"#46039f\"], [0.2222222222222222, \"#7201a8\"], [0.3333333333333333, \"#9c179e\"], [0.4444444444444444, \"#bd3786\"], [0.5555555555555556, \"#d8576b\"], [0.6666666666666666, \"#ed7953\"], [0.7777777777777778, \"#fb9f3a\"], [0.8888888888888888, \"#fdca26\"], [1.0, \"#f0f921\"]], \"type\": \"heatmap\"}], \"heatmapgl\": [{\"colorbar\": {\"outlinewidth\": 0, \"ticks\": \"\"}, \"colorscale\": [[0.0, \"#0d0887\"], [0.1111111111111111, \"#46039f\"], [0.2222222222222222, \"#7201a8\"], [0.3333333333333333, \"#9c179e\"], [0.4444444444444444, \"#bd3786\"], [0.5555555555555556, \"#d8576b\"], [0.6666666666666666, \"#ed7953\"], [0.7777777777777778, \"#fb9f3a\"], [0.8888888888888888, \"#fdca26\"], [1.0, \"#f0f921\"]], \"type\": \"heatmapgl\"}], \"histogram\": [{\"marker\": {\"colorbar\": {\"outlinewidth\": 0, \"ticks\": \"\"}}, \"type\": \"histogram\"}], \"histogram2d\": [{\"colorbar\": {\"outlinewidth\": 0, \"ticks\": \"\"}, \"colorscale\": [[0.0, \"#0d0887\"], [0.1111111111111111, \"#46039f\"], [0.2222222222222222, \"#7201a8\"], [0.3333333333333333, \"#9c179e\"], [0.4444444444444444, \"#bd3786\"], [0.5555555555555556, \"#d8576b\"], [0.6666666666666666, \"#ed7953\"], [0.7777777777777778, \"#fb9f3a\"], [0.8888888888888888, \"#fdca26\"], [1.0, \"#f0f921\"]], \"type\": \"histogram2d\"}], \"histogram2dcontour\": [{\"colorbar\": {\"outlinewidth\": 0, \"ticks\": \"\"}, \"colorscale\": [[0.0, \"#0d0887\"], [0.1111111111111111, \"#46039f\"], [0.2222222222222222, \"#7201a8\"], [0.3333333333333333, \"#9c179e\"], [0.4444444444444444, \"#bd3786\"], [0.5555555555555556, \"#d8576b\"], [0.6666666666666666, \"#ed7953\"], [0.7777777777777778, \"#fb9f3a\"], [0.8888888888888888, \"#fdca26\"], [1.0, \"#f0f921\"]], \"type\": \"histogram2dcontour\"}], \"mesh3d\": [{\"colorbar\": {\"outlinewidth\": 0, \"ticks\": \"\"}, \"type\": \"mesh3d\"}], \"parcoords\": [{\"line\": {\"colorbar\": {\"outlinewidth\": 0, \"ticks\": \"\"}}, \"type\": \"parcoords\"}], \"pie\": [{\"automargin\": true, \"type\": \"pie\"}], \"scatter\": [{\"marker\": {\"colorbar\": {\"outlinewidth\": 0, \"ticks\": \"\"}}, \"type\": \"scatter\"}], \"scatter3d\": [{\"line\": {\"colorbar\": {\"outlinewidth\": 0, \"ticks\": \"\"}}, \"marker\": {\"colorbar\": {\"outlinewidth\": 0, \"ticks\": \"\"}}, \"type\": \"scatter3d\"}], \"scattercarpet\": [{\"marker\": {\"colorbar\": {\"outlinewidth\": 0, \"ticks\": \"\"}}, \"type\": \"scattercarpet\"}], \"scattergeo\": [{\"marker\": {\"colorbar\": {\"outlinewidth\": 0, \"ticks\": \"\"}}, \"type\": \"scattergeo\"}], \"scattergl\": [{\"marker\": {\"colorbar\": {\"outlinewidth\": 0, \"ticks\": \"\"}}, \"type\": \"scattergl\"}], \"scattermapbox\": [{\"marker\": {\"colorbar\": {\"outlinewidth\": 0, \"ticks\": \"\"}}, \"type\": \"scattermapbox\"}], \"scatterpolar\": [{\"marker\": {\"colorbar\": {\"outlinewidth\": 0, \"ticks\": \"\"}}, \"type\": \"scatterpolar\"}], \"scatterpolargl\": [{\"marker\": {\"colorbar\": {\"outlinewidth\": 0, \"ticks\": \"\"}}, \"type\": \"scatterpolargl\"}], \"scatterternary\": [{\"marker\": {\"colorbar\": {\"outlinewidth\": 0, \"ticks\": \"\"}}, \"type\": \"scatterternary\"}], \"surface\": [{\"colorbar\": {\"outlinewidth\": 0, \"ticks\": \"\"}, \"colorscale\": [[0.0, \"#0d0887\"], [0.1111111111111111, \"#46039f\"], [0.2222222222222222, \"#7201a8\"], [0.3333333333333333, \"#9c179e\"], [0.4444444444444444, \"#bd3786\"], [0.5555555555555556, \"#d8576b\"], [0.6666666666666666, \"#ed7953\"], [0.7777777777777778, \"#fb9f3a\"], [0.8888888888888888, \"#fdca26\"], [1.0, \"#f0f921\"]], \"type\": \"surface\"}], \"table\": [{\"cells\": {\"fill\": {\"color\": \"#EBF0F8\"}, \"line\": {\"color\": \"white\"}}, \"header\": {\"fill\": {\"color\": \"#C8D4E3\"}, \"line\": {\"color\": \"white\"}}, \"type\": \"table\"}]}, \"layout\": {\"annotationdefaults\": {\"arrowcolor\": \"#2a3f5f\", \"arrowhead\": 0, \"arrowwidth\": 1}, \"coloraxis\": {\"colorbar\": {\"outlinewidth\": 0, \"ticks\": \"\"}}, \"colorscale\": {\"diverging\": [[0, \"#8e0152\"], [0.1, \"#c51b7d\"], [0.2, \"#de77ae\"], [0.3, \"#f1b6da\"], [0.4, \"#fde0ef\"], [0.5, \"#f7f7f7\"], [0.6, \"#e6f5d0\"], [0.7, \"#b8e186\"], [0.8, \"#7fbc41\"], [0.9, \"#4d9221\"], [1, \"#276419\"]], \"sequential\": [[0.0, \"#0d0887\"], [0.1111111111111111, \"#46039f\"], [0.2222222222222222, \"#7201a8\"], [0.3333333333333333, \"#9c179e\"], [0.4444444444444444, \"#bd3786\"], [0.5555555555555556, \"#d8576b\"], [0.6666666666666666, \"#ed7953\"], [0.7777777777777778, \"#fb9f3a\"], [0.8888888888888888, \"#fdca26\"], [1.0, \"#f0f921\"]], \"sequentialminus\": [[0.0, \"#0d0887\"], [0.1111111111111111, \"#46039f\"], [0.2222222222222222, \"#7201a8\"], [0.3333333333333333, \"#9c179e\"], [0.4444444444444444, \"#bd3786\"], [0.5555555555555556, \"#d8576b\"], [0.6666666666666666, \"#ed7953\"], [0.7777777777777778, \"#fb9f3a\"], [0.8888888888888888, \"#fdca26\"], [1.0, \"#f0f921\"]]}, \"colorway\": [\"#636efa\", \"#EF553B\", \"#00cc96\", \"#ab63fa\", \"#FFA15A\", \"#19d3f3\", \"#FF6692\", \"#B6E880\", \"#FF97FF\", \"#FECB52\"], \"font\": {\"color\": \"#2a3f5f\"}, \"geo\": {\"bgcolor\": \"white\", \"lakecolor\": \"white\", \"landcolor\": \"#E5ECF6\", \"showlakes\": true, \"showland\": true, \"subunitcolor\": \"white\"}, \"hoverlabel\": {\"align\": \"left\"}, \"hovermode\": \"closest\", \"mapbox\": {\"style\": \"light\"}, \"paper_bgcolor\": \"white\", \"plot_bgcolor\": \"#E5ECF6\", \"polar\": {\"angularaxis\": {\"gridcolor\": \"white\", \"linecolor\": \"white\", \"ticks\": \"\"}, \"bgcolor\": \"#E5ECF6\", \"radialaxis\": {\"gridcolor\": \"white\", \"linecolor\": \"white\", \"ticks\": \"\"}}, \"scene\": {\"xaxis\": {\"backgroundcolor\": \"#E5ECF6\", \"gridcolor\": \"white\", \"gridwidth\": 2, \"linecolor\": \"white\", \"showbackground\": true, \"ticks\": \"\", \"zerolinecolor\": \"white\"}, \"yaxis\": {\"backgroundcolor\": \"#E5ECF6\", \"gridcolor\": \"white\", \"gridwidth\": 2, \"linecolor\": \"white\", \"showbackground\": true, \"ticks\": \"\", \"zerolinecolor\": \"white\"}, \"zaxis\": {\"backgroundcolor\": \"#E5ECF6\", \"gridcolor\": \"white\", \"gridwidth\": 2, \"linecolor\": \"white\", \"showbackground\": true, \"ticks\": \"\", \"zerolinecolor\": \"white\"}}, \"shapedefaults\": {\"line\": {\"color\": \"#2a3f5f\"}}, \"ternary\": {\"aaxis\": {\"gridcolor\": \"white\", \"linecolor\": \"white\", \"ticks\": \"\"}, \"baxis\": {\"gridcolor\": \"white\", \"linecolor\": \"white\", \"ticks\": \"\"}, \"bgcolor\": \"#E5ECF6\", \"caxis\": {\"gridcolor\": \"white\", \"linecolor\": \"white\", \"ticks\": \"\"}}, \"title\": {\"x\": 0.05}, \"xaxis\": {\"automargin\": true, \"gridcolor\": \"white\", \"linecolor\": \"white\", \"ticks\": \"\", \"title\": {\"standoff\": 15}, \"zerolinecolor\": \"white\", \"zerolinewidth\": 2}, \"yaxis\": {\"automargin\": true, \"gridcolor\": \"white\", \"linecolor\": \"white\", \"ticks\": \"\", \"title\": {\"standoff\": 15}, \"zerolinecolor\": \"white\", \"zerolinewidth\": 2}}}, \"title\": {\"text\": \"Burglary Rate in the US\"}, \"xaxis\": {\"anchor\": \"y\", \"domain\": [0.0, 1.0], \"title\": {\"text\": \"Burglary rate\"}}, \"yaxis\": {\"anchor\": \"x\", \"domain\": [0.0, 1.0], \"title\": {\"text\": \"# of guns per capita\"}}},\n",
       "                        {\"responsive\": true}\n",
       "                    ).then(function(){\n",
       "                            \n",
       "var gd = document.getElementById('923d1d20-fb0f-4420-9617-a3a93e7fe3ec');\n",
       "var x = new MutationObserver(function (mutations, observer) {{\n",
       "        var display = window.getComputedStyle(gd).display;\n",
       "        if (!display || display === 'none') {{\n",
       "            console.log([gd, 'removed!']);\n",
       "            Plotly.purge(gd);\n",
       "            observer.disconnect();\n",
       "        }}\n",
       "}});\n",
       "\n",
       "// Listen for the removal of the full notebook cells\n",
       "var notebookContainer = gd.closest('#notebook-container');\n",
       "if (notebookContainer) {{\n",
       "    x.observe(notebookContainer, {childList: true});\n",
       "}}\n",
       "\n",
       "// Listen for the clearing of the current output cell\n",
       "var outputEl = gd.closest('.output');\n",
       "if (outputEl) {{\n",
       "    x.observe(outputEl, {childList: true});\n",
       "}}\n",
       "\n",
       "                        })\n",
       "                };\n",
       "                });\n",
       "            </script>\n",
       "        </div>"
      ]
     },
     "metadata": {},
     "output_type": "display_data"
    }
   ],
   "source": [
    "import plotly.express as px\n",
    "\n",
    "combined_data_df = pd.merge(burglary_2014_df,gun_ownership_per_capita_df,on=\"State\")\n",
    "\n",
    "import plotly.express as px\n",
    "\n",
    "fig = px.scatter(combined_data_df,\n",
    "                 x=\"Burglary rate\", \n",
    "                 y=\"# of guns per capita\",\n",
    "                 size=\"Burglary rate\", \n",
    "                 color=\"State\",\n",
    "                 hover_name=\"State\",\n",
    "                 title=\"Burglary Rate in the US\"\n",
    "                )\n",
    "fig.show()"
   ]
  },
  {
   "cell_type": "code",
   "execution_count": 102,
   "metadata": {},
   "outputs": [
    {
     "data": {
      "application/vnd.plotly.v1+json": {
       "config": {
        "plotlyServerURL": "https://plot.ly"
       },
       "data": [
        {
         "hovertemplate": "<b>%{hovertext}</b><br><br>State=Alabama<br>Robbery rate=%{marker.size}<br># of guns per capita=%{y}<extra></extra>",
         "hovertext": [
          "Alabama"
         ],
         "legendgroup": "Alabama",
         "marker": {
          "color": "#636efa",
          "size": [
           96.9
          ],
          "sizemode": "area",
          "sizeref": 1.32675,
          "symbol": "circle"
         },
         "mode": "markers",
         "name": "Alabama",
         "orientation": "v",
         "showlegend": true,
         "type": "scatter",
         "x": [
          96.9
         ],
         "xaxis": "x",
         "y": [
          33.15
         ],
         "yaxis": "y"
        },
        {
         "hovertemplate": "<b>%{hovertext}</b><br><br>State=Alaska<br>Robbery rate=%{marker.size}<br># of guns per capita=%{y}<extra></extra>",
         "hovertext": [
          "Alaska"
         ],
         "legendgroup": "Alaska",
         "marker": {
          "color": "#EF553B",
          "size": [
           85.4
          ],
          "sizemode": "area",
          "sizeref": 1.32675,
          "symbol": "circle"
         },
         "mode": "markers",
         "name": "Alaska",
         "orientation": "v",
         "showlegend": true,
         "type": "scatter",
         "x": [
          85.4
         ],
         "xaxis": "x",
         "y": [
          21.38
         ],
         "yaxis": "y"
        },
        {
         "hovertemplate": "<b>%{hovertext}</b><br><br>State=Arizona<br>Robbery rate=%{marker.size}<br># of guns per capita=%{y}<extra></extra>",
         "hovertext": [
          "Arizona"
         ],
         "legendgroup": "Arizona",
         "marker": {
          "color": "#00cc96",
          "size": [
           92.8
          ],
          "sizemode": "area",
          "sizeref": 1.32675,
          "symbol": "circle"
         },
         "mode": "markers",
         "name": "Arizona",
         "orientation": "v",
         "showlegend": true,
         "type": "scatter",
         "x": [
          92.8
         ],
         "xaxis": "x",
         "y": [
          25.61
         ],
         "yaxis": "y"
        },
        {
         "hovertemplate": "<b>%{hovertext}</b><br><br>State=Arkansas<br>Robbery rate=%{marker.size}<br># of guns per capita=%{y}<extra></extra>",
         "hovertext": [
          "Arkansas"
         ],
         "legendgroup": "Arkansas",
         "marker": {
          "color": "#ab63fa",
          "size": [
           69.1
          ],
          "sizemode": "area",
          "sizeref": 1.32675,
          "symbol": "circle"
         },
         "mode": "markers",
         "name": "Arkansas",
         "orientation": "v",
         "showlegend": true,
         "type": "scatter",
         "x": [
          69.1
         ],
         "xaxis": "x",
         "y": [
          26.57
         ],
         "yaxis": "y"
        },
        {
         "hovertemplate": "<b>%{hovertext}</b><br><br>State=California<br>Robbery rate=%{marker.size}<br># of guns per capita=%{y}<extra></extra>",
         "hovertext": [
          "California"
         ],
         "legendgroup": "California",
         "marker": {
          "color": "#FFA15A",
          "size": [
           125.5
          ],
          "sizemode": "area",
          "sizeref": 1.32675,
          "symbol": "circle"
         },
         "mode": "markers",
         "name": "California",
         "orientation": "v",
         "showlegend": true,
         "type": "scatter",
         "x": [
          125.5
         ],
         "xaxis": "x",
         "y": [
          8.71
         ],
         "yaxis": "y"
        },
        {
         "hovertemplate": "<b>%{hovertext}</b><br><br>State=Colorado<br>Robbery rate=%{marker.size}<br># of guns per capita=%{y}<extra></extra>",
         "hovertext": [
          "Colorado"
         ],
         "legendgroup": "Colorado",
         "marker": {
          "color": "#19d3f3",
          "size": [
           56.7
          ],
          "sizemode": "area",
          "sizeref": 1.32675,
          "symbol": "circle"
         },
         "mode": "markers",
         "name": "Colorado",
         "orientation": "v",
         "showlegend": true,
         "type": "scatter",
         "x": [
          56.7
         ],
         "xaxis": "x",
         "y": [
          16.48
         ],
         "yaxis": "y"
        },
        {
         "hovertemplate": "<b>%{hovertext}</b><br><br>State=Connecticut<br>Robbery rate=%{marker.size}<br># of guns per capita=%{y}<extra></extra>",
         "hovertext": [
          "Connecticut"
         ],
         "legendgroup": "Connecticut",
         "marker": {
          "color": "#FF6692",
          "size": [
           87.8
          ],
          "sizemode": "area",
          "sizeref": 1.32675,
          "symbol": "circle"
         },
         "mode": "markers",
         "name": "Connecticut",
         "orientation": "v",
         "showlegend": true,
         "type": "scatter",
         "x": [
          87.8
         ],
         "xaxis": "x",
         "y": [
          22.96
         ],
         "yaxis": "y"
        },
        {
         "hovertemplate": "<b>%{hovertext}</b><br><br>State=DC<br>Robbery rate=%{marker.size}<br># of guns per capita=%{y}<extra></extra>",
         "hovertext": [
          "DC"
         ],
         "legendgroup": "DC",
         "marker": {
          "color": "#B6E880",
          "size": [
           530.7
          ],
          "sizemode": "area",
          "sizeref": 1.32675,
          "symbol": "circle"
         },
         "mode": "markers",
         "name": "DC",
         "orientation": "v",
         "showlegend": true,
         "type": "scatter",
         "x": [
          530.7
         ],
         "xaxis": "x",
         "y": [
          68.05
         ],
         "yaxis": "y"
        },
        {
         "hovertemplate": "<b>%{hovertext}</b><br><br>State=Delaware<br>Robbery rate=%{marker.size}<br># of guns per capita=%{y}<extra></extra>",
         "hovertext": [
          "Delaware"
         ],
         "legendgroup": "Delaware",
         "marker": {
          "color": "#FF97FF",
          "size": [
           135.6
          ],
          "sizemode": "area",
          "sizeref": 1.32675,
          "symbol": "circle"
         },
         "mode": "markers",
         "name": "Delaware",
         "orientation": "v",
         "showlegend": true,
         "type": "scatter",
         "x": [
          135.6
         ],
         "xaxis": "x",
         "y": [
          5.04
         ],
         "yaxis": "y"
        },
        {
         "hovertemplate": "<b>%{hovertext}</b><br><br>State=Florida<br>Robbery rate=%{marker.size}<br># of guns per capita=%{y}<extra></extra>",
         "hovertext": [
          "Florida"
         ],
         "legendgroup": "Florida",
         "marker": {
          "color": "#FECB52",
          "size": [
           125.2
          ],
          "sizemode": "area",
          "sizeref": 1.32675,
          "symbol": "circle"
         },
         "mode": "markers",
         "name": "Florida",
         "orientation": "v",
         "showlegend": true,
         "type": "scatter",
         "x": [
          125.2
         ],
         "xaxis": "x",
         "y": [
          16.35
         ],
         "yaxis": "y"
        },
        {
         "hovertemplate": "<b>%{hovertext}</b><br><br>State=Georgia<br>Robbery rate=%{marker.size}<br># of guns per capita=%{y}<extra></extra>",
         "hovertext": [
          "Georgia"
         ],
         "legendgroup": "Georgia",
         "marker": {
          "color": "#636efa",
          "size": [
           123
          ],
          "sizemode": "area",
          "sizeref": 1.32675,
          "symbol": "circle"
         },
         "mode": "markers",
         "name": "Georgia",
         "orientation": "v",
         "showlegend": true,
         "type": "scatter",
         "x": [
          123
         ],
         "xaxis": "x",
         "y": [
          18.22
         ],
         "yaxis": "y"
        },
        {
         "hovertemplate": "<b>%{hovertext}</b><br><br>State=Hawaii<br>Robbery rate=%{marker.size}<br># of guns per capita=%{y}<extra></extra>",
         "hovertext": [
          "Hawaii"
         ],
         "legendgroup": "Hawaii",
         "marker": {
          "color": "#EF553B",
          "size": [
           78
          ],
          "sizemode": "area",
          "sizeref": 1.32675,
          "symbol": "circle"
         },
         "mode": "markers",
         "name": "Hawaii",
         "orientation": "v",
         "showlegend": true,
         "type": "scatter",
         "x": [
          78
         ],
         "xaxis": "x",
         "y": [
          5.5
         ],
         "yaxis": "y"
        },
        {
         "hovertemplate": "<b>%{hovertext}</b><br><br>State=Idaho<br>Robbery rate=%{marker.size}<br># of guns per capita=%{y}<extra></extra>",
         "hovertext": [
          "Idaho"
         ],
         "legendgroup": "Idaho",
         "marker": {
          "color": "#00cc96",
          "size": [
           12.5
          ],
          "sizemode": "area",
          "sizeref": 1.32675,
          "symbol": "circle"
         },
         "mode": "markers",
         "name": "Idaho",
         "orientation": "v",
         "showlegend": true,
         "type": "scatter",
         "x": [
          12.5
         ],
         "xaxis": "x",
         "y": [
          28.86
         ],
         "yaxis": "y"
        },
        {
         "hovertemplate": "<b>%{hovertext}</b><br><br>State=Illinois<br>Robbery rate=%{marker.size}<br># of guns per capita=%{y}<extra></extra>",
         "hovertext": [
          "Illinois"
         ],
         "legendgroup": "Illinois",
         "marker": {
          "color": "#ab63fa",
          "size": [
           118.8
          ],
          "sizemode": "area",
          "sizeref": 1.32675,
          "symbol": "circle"
         },
         "mode": "markers",
         "name": "Illinois",
         "orientation": "v",
         "showlegend": true,
         "type": "scatter",
         "x": [
          118.8
         ],
         "xaxis": "x",
         "y": [
          11.44
         ],
         "yaxis": "y"
        },
        {
         "hovertemplate": "<b>%{hovertext}</b><br><br>State=Indiana<br>Robbery rate=%{marker.size}<br># of guns per capita=%{y}<extra></extra>",
         "hovertext": [
          "Indiana"
         ],
         "legendgroup": "Indiana",
         "marker": {
          "color": "#FFA15A",
          "size": [
           104.5
          ],
          "sizemode": "area",
          "sizeref": 1.32675,
          "symbol": "circle"
         },
         "mode": "markers",
         "name": "Indiana",
         "orientation": "v",
         "showlegend": true,
         "type": "scatter",
         "x": [
          104.5
         ],
         "xaxis": "x",
         "y": [
          17.1
         ],
         "yaxis": "y"
        },
        {
         "hovertemplate": "<b>%{hovertext}</b><br><br>State=Iowa<br>Robbery rate=%{marker.size}<br># of guns per capita=%{y}<extra></extra>",
         "hovertext": [
          "Iowa"
         ],
         "legendgroup": "Iowa",
         "marker": {
          "color": "#19d3f3",
          "size": [
           33.6
          ],
          "sizemode": "area",
          "sizeref": 1.32675,
          "symbol": "circle"
         },
         "mode": "markers",
         "name": "Iowa",
         "orientation": "v",
         "showlegend": true,
         "type": "scatter",
         "x": [
          33.6
         ],
         "xaxis": "x",
         "y": [
          9.05
         ],
         "yaxis": "y"
        },
        {
         "hovertemplate": "<b>%{hovertext}</b><br><br>State=Kansas<br>Robbery rate=%{marker.size}<br># of guns per capita=%{y}<extra></extra>",
         "hovertext": [
          "Kansas"
         ],
         "legendgroup": "Kansas",
         "marker": {
          "color": "#FF6692",
          "size": [
           46.9
          ],
          "sizemode": "area",
          "sizeref": 1.32675,
          "symbol": "circle"
         },
         "mode": "markers",
         "name": "Kansas",
         "orientation": "v",
         "showlegend": true,
         "type": "scatter",
         "x": [
          46.9
         ],
         "xaxis": "x",
         "y": [
          18.06
         ],
         "yaxis": "y"
        },
        {
         "hovertemplate": "<b>%{hovertext}</b><br><br>State=Kentucky<br>Robbery rate=%{marker.size}<br># of guns per capita=%{y}<extra></extra>",
         "hovertext": [
          "Kentucky"
         ],
         "legendgroup": "Kentucky",
         "marker": {
          "color": "#B6E880",
          "size": [
           75.6
          ],
          "sizemode": "area",
          "sizeref": 1.32675,
          "symbol": "circle"
         },
         "mode": "markers",
         "name": "Kentucky",
         "orientation": "v",
         "showlegend": true,
         "type": "scatter",
         "x": [
          75.6
         ],
         "xaxis": "x",
         "y": [
          18.2
         ],
         "yaxis": "y"
        },
        {
         "hovertemplate": "<b>%{hovertext}</b><br><br>State=Louisiana<br>Robbery rate=%{marker.size}<br># of guns per capita=%{y}<extra></extra>",
         "hovertext": [
          "Louisiana"
         ],
         "legendgroup": "Louisiana",
         "marker": {
          "color": "#FF97FF",
          "size": [
           122.5
          ],
          "sizemode": "area",
          "sizeref": 1.32675,
          "symbol": "circle"
         },
         "mode": "markers",
         "name": "Louisiana",
         "orientation": "v",
         "showlegend": true,
         "type": "scatter",
         "x": [
          122.5
         ],
         "xaxis": "x",
         "y": [
          24.94
         ],
         "yaxis": "y"
        },
        {
         "hovertemplate": "<b>%{hovertext}</b><br><br>State=Maine<br>Robbery rate=%{marker.size}<br># of guns per capita=%{y}<extra></extra>",
         "hovertext": [
          "Maine"
         ],
         "legendgroup": "Maine",
         "marker": {
          "color": "#FECB52",
          "size": [
           22.9
          ],
          "sizemode": "area",
          "sizeref": 1.32675,
          "symbol": "circle"
         },
         "mode": "markers",
         "name": "Maine",
         "orientation": "v",
         "showlegend": true,
         "type": "scatter",
         "x": [
          22.9
         ],
         "xaxis": "x",
         "y": [
          11.5
         ],
         "yaxis": "y"
        },
        {
         "hovertemplate": "<b>%{hovertext}</b><br><br>State=Maryland<br>Robbery rate=%{marker.size}<br># of guns per capita=%{y}<extra></extra>",
         "hovertext": [
          "Maryland"
         ],
         "legendgroup": "Maryland",
         "marker": {
          "color": "#636efa",
          "size": [
           159.7
          ],
          "sizemode": "area",
          "sizeref": 1.32675,
          "symbol": "circle"
         },
         "mode": "markers",
         "name": "Maryland",
         "orientation": "v",
         "showlegend": true,
         "type": "scatter",
         "x": [
          159.7
         ],
         "xaxis": "x",
         "y": [
          17.03
         ],
         "yaxis": "y"
        },
        {
         "hovertemplate": "<b>%{hovertext}</b><br><br>State=Massachusetts<br>Robbery rate=%{marker.size}<br># of guns per capita=%{y}<extra></extra>",
         "hovertext": [
          "Massachusetts"
         ],
         "legendgroup": "Massachusetts",
         "marker": {
          "color": "#EF553B",
          "size": [
           89.5
          ],
          "sizemode": "area",
          "sizeref": 1.32675,
          "symbol": "circle"
         },
         "mode": "markers",
         "name": "Massachusetts",
         "orientation": "v",
         "showlegend": true,
         "type": "scatter",
         "x": [
          89.5
         ],
         "xaxis": "x",
         "y": [
          5.41
         ],
         "yaxis": "y"
        },
        {
         "hovertemplate": "<b>%{hovertext}</b><br><br>State=Michigan<br>Robbery rate=%{marker.size}<br># of guns per capita=%{y}<extra></extra>",
         "hovertext": [
          "Michigan"
         ],
         "legendgroup": "Michigan",
         "marker": {
          "color": "#00cc96",
          "size": [
           80.9
          ],
          "sizemode": "area",
          "sizeref": 1.32675,
          "symbol": "circle"
         },
         "mode": "markers",
         "name": "Michigan",
         "orientation": "v",
         "showlegend": true,
         "type": "scatter",
         "x": [
          80.9
         ],
         "xaxis": "x",
         "y": [
          6.59
         ],
         "yaxis": "y"
        },
        {
         "hovertemplate": "<b>%{hovertext}</b><br><br>State=Minnesota<br>Robbery rate=%{marker.size}<br># of guns per capita=%{y}<extra></extra>",
         "hovertext": [
          "Minnesota"
         ],
         "legendgroup": "Minnesota",
         "marker": {
          "color": "#ab63fa",
          "size": [
           67.6
          ],
          "sizemode": "area",
          "sizeref": 1.32675,
          "symbol": "circle"
         },
         "mode": "markers",
         "name": "Minnesota",
         "orientation": "v",
         "showlegend": true,
         "type": "scatter",
         "x": [
          67.6
         ],
         "xaxis": "x",
         "y": [
          14.22
         ],
         "yaxis": "y"
        },
        {
         "hovertemplate": "<b>%{hovertext}</b><br><br>State=Mississippi<br>Robbery rate=%{marker.size}<br># of guns per capita=%{y}<extra></extra>",
         "hovertext": [
          "Mississippi"
         ],
         "legendgroup": "Mississippi",
         "marker": {
          "color": "#FFA15A",
          "size": [
           81.2
          ],
          "sizemode": "area",
          "sizeref": 1.32675,
          "symbol": "circle"
         },
         "mode": "markers",
         "name": "Mississippi",
         "orientation": "v",
         "showlegend": true,
         "type": "scatter",
         "x": [
          81.2
         ],
         "xaxis": "x",
         "y": [
          11.89
         ],
         "yaxis": "y"
        },
        {
         "hovertemplate": "<b>%{hovertext}</b><br><br>State=Missouri<br>Robbery rate=%{marker.size}<br># of guns per capita=%{y}<extra></extra>",
         "hovertext": [
          "Missouri"
         ],
         "legendgroup": "Missouri",
         "marker": {
          "color": "#19d3f3",
          "size": [
           92.2
          ],
          "sizemode": "area",
          "sizeref": 1.32675,
          "symbol": "circle"
         },
         "mode": "markers",
         "name": "Missouri",
         "orientation": "v",
         "showlegend": true,
         "type": "scatter",
         "x": [
          92.2
         ],
         "xaxis": "x",
         "y": [
          11.94
         ],
         "yaxis": "y"
        },
        {
         "hovertemplate": "<b>%{hovertext}</b><br><br>State=Montana<br>Robbery rate=%{marker.size}<br># of guns per capita=%{y}<extra></extra>",
         "hovertext": [
          "Montana"
         ],
         "legendgroup": "Montana",
         "marker": {
          "color": "#FF6692",
          "size": [
           19.8
          ],
          "sizemode": "area",
          "sizeref": 1.32675,
          "symbol": "circle"
         },
         "mode": "markers",
         "name": "Montana",
         "orientation": "v",
         "showlegend": true,
         "type": "scatter",
         "x": [
          19.8
         ],
         "xaxis": "x",
         "y": [
          21.06
         ],
         "yaxis": "y"
        },
        {
         "hovertemplate": "<b>%{hovertext}</b><br><br>State=Nebraska<br>Robbery rate=%{marker.size}<br># of guns per capita=%{y}<extra></extra>",
         "hovertext": [
          "Nebraska"
         ],
         "legendgroup": "Nebraska",
         "marker": {
          "color": "#B6E880",
          "size": [
           55.4
          ],
          "sizemode": "area",
          "sizeref": 1.32675,
          "symbol": "circle"
         },
         "mode": "markers",
         "name": "Nebraska",
         "orientation": "v",
         "showlegend": true,
         "type": "scatter",
         "x": [
          55.4
         ],
         "xaxis": "x",
         "y": [
          11.57
         ],
         "yaxis": "y"
        },
        {
         "hovertemplate": "<b>%{hovertext}</b><br><br>State=Nevada<br>Robbery rate=%{marker.size}<br># of guns per capita=%{y}<extra></extra>",
         "hovertext": [
          "Nevada"
         ],
         "legendgroup": "Nevada",
         "marker": {
          "color": "#FF97FF",
          "size": [
           209.7
          ],
          "sizemode": "area",
          "sizeref": 1.32675,
          "symbol": "circle"
         },
         "mode": "markers",
         "name": "Nevada",
         "orientation": "v",
         "showlegend": true,
         "type": "scatter",
         "x": [
          209.7
         ],
         "xaxis": "x",
         "y": [
          25.64
         ],
         "yaxis": "y"
        },
        {
         "hovertemplate": "<b>%{hovertext}</b><br><br>State=New_Hampshire<br>Robbery rate=%{marker.size}<br># of guns per capita=%{y}<extra></extra>",
         "hovertext": [
          "New_Hampshire"
         ],
         "legendgroup": "New_Hampshire",
         "marker": {
          "color": "#FECB52",
          "size": [
           40.5
          ],
          "sizemode": "area",
          "sizeref": 1.32675,
          "symbol": "circle"
         },
         "mode": "markers",
         "name": "New_Hampshire",
         "orientation": "v",
         "showlegend": true,
         "type": "scatter",
         "x": [
          40.5
         ],
         "xaxis": "x",
         "y": [
          46.76
         ],
         "yaxis": "y"
        },
        {
         "hovertemplate": "<b>%{hovertext}</b><br><br>State=New_Jersey<br>Robbery rate=%{marker.size}<br># of guns per capita=%{y}<extra></extra>",
         "hovertext": [
          "New_Jersey"
         ],
         "legendgroup": "New_Jersey",
         "marker": {
          "color": "#636efa",
          "size": [
           117.5
          ],
          "sizemode": "area",
          "sizeref": 1.32675,
          "symbol": "circle"
         },
         "mode": "markers",
         "name": "New_Jersey",
         "orientation": "v",
         "showlegend": true,
         "type": "scatter",
         "x": [
          117.5
         ],
         "xaxis": "x",
         "y": [
          6.38
         ],
         "yaxis": "y"
        },
        {
         "hovertemplate": "<b>%{hovertext}</b><br><br>State=New_Mexico<br>Robbery rate=%{marker.size}<br># of guns per capita=%{y}<extra></extra>",
         "hovertext": [
          "New_Mexico"
         ],
         "legendgroup": "New_Mexico",
         "marker": {
          "color": "#EF553B",
          "size": [
           100
          ],
          "sizemode": "area",
          "sizeref": 1.32675,
          "symbol": "circle"
         },
         "mode": "markers",
         "name": "New_Mexico",
         "orientation": "v",
         "showlegend": true,
         "type": "scatter",
         "x": [
          100
         ],
         "xaxis": "x",
         "y": [
          46.73
         ],
         "yaxis": "y"
        },
        {
         "hovertemplate": "<b>%{hovertext}</b><br><br>State=New_York<br>Robbery rate=%{marker.size}<br># of guns per capita=%{y}<extra></extra>",
         "hovertext": [
          "New_York"
         ],
         "legendgroup": "New_York",
         "marker": {
          "color": "#00cc96",
          "size": [
           121.8
          ],
          "sizemode": "area",
          "sizeref": 1.32675,
          "symbol": "circle"
         },
         "mode": "markers",
         "name": "New_York",
         "orientation": "v",
         "showlegend": true,
         "type": "scatter",
         "x": [
          121.8
         ],
         "xaxis": "x",
         "y": [
          3.83
         ],
         "yaxis": "y"
        },
        {
         "hovertemplate": "<b>%{hovertext}</b><br><br>State=North_Carolina<br>Robbery rate=%{marker.size}<br># of guns per capita=%{y}<extra></extra>",
         "hovertext": [
          "North_Carolina"
         ],
         "legendgroup": "North_Carolina",
         "marker": {
          "color": "#ab63fa",
          "size": [
           84.6
          ],
          "sizemode": "area",
          "sizeref": 1.32675,
          "symbol": "circle"
         },
         "mode": "markers",
         "name": "North_Carolina",
         "orientation": "v",
         "showlegend": true,
         "type": "scatter",
         "x": [
          84.6
         ],
         "xaxis": "x",
         "y": [
          14.818
         ],
         "yaxis": "y"
        },
        {
         "hovertemplate": "<b>%{hovertext}</b><br><br>State=North_Dakota<br>Robbery rate=%{marker.size}<br># of guns per capita=%{y}<extra></extra>",
         "hovertext": [
          "North_Dakota"
         ],
         "legendgroup": "North_Dakota",
         "marker": {
          "color": "#FFA15A",
          "size": [
           23.4
          ],
          "sizemode": "area",
          "sizeref": 1.32675,
          "symbol": "circle"
         },
         "mode": "markers",
         "name": "North_Dakota",
         "orientation": "v",
         "showlegend": true,
         "type": "scatter",
         "x": [
          23.4
         ],
         "xaxis": "x",
         "y": [
          17.56
         ],
         "yaxis": "y"
        },
        {
         "hovertemplate": "<b>%{hovertext}</b><br><br>State=Ohio<br>Robbery rate=%{marker.size}<br># of guns per capita=%{y}<extra></extra>",
         "hovertext": [
          "Ohio"
         ],
         "legendgroup": "Ohio",
         "marker": {
          "color": "#19d3f3",
          "size": [
           110
          ],
          "sizemode": "area",
          "sizeref": 1.32675,
          "symbol": "circle"
         },
         "mode": "markers",
         "name": "Ohio",
         "orientation": "v",
         "showlegend": true,
         "type": "scatter",
         "x": [
          110
         ],
         "xaxis": "x",
         "y": [
          14.87
         ],
         "yaxis": "y"
        },
        {
         "hovertemplate": "<b>%{hovertext}</b><br><br>State=Oklahoma<br>Robbery rate=%{marker.size}<br># of guns per capita=%{y}<extra></extra>",
         "hovertext": [
          "Oklahoma"
         ],
         "legendgroup": "Oklahoma",
         "marker": {
          "color": "#FF6692",
          "size": [
           78.6
          ],
          "sizemode": "area",
          "sizeref": 1.32675,
          "symbol": "circle"
         },
         "mode": "markers",
         "name": "Oklahoma",
         "orientation": "v",
         "showlegend": true,
         "type": "scatter",
         "x": [
          78.6
         ],
         "xaxis": "x",
         "y": [
          18.13
         ],
         "yaxis": "y"
        },
        {
         "hovertemplate": "<b>%{hovertext}</b><br><br>State=Oregon<br>Robbery rate=%{marker.size}<br># of guns per capita=%{y}<extra></extra>",
         "hovertext": [
          "Oregon"
         ],
         "legendgroup": "Oregon",
         "marker": {
          "color": "#B6E880",
          "size": [
           52.7
          ],
          "sizemode": "area",
          "sizeref": 1.32675,
          "symbol": "circle"
         },
         "mode": "markers",
         "name": "Oregon",
         "orientation": "v",
         "showlegend": true,
         "type": "scatter",
         "x": [
          52.7
         ],
         "xaxis": "x",
         "y": [
          14.815999999999999
         ],
         "yaxis": "y"
        },
        {
         "hovertemplate": "<b>%{hovertext}</b><br><br>State=Pennsylvania<br>Robbery rate=%{marker.size}<br># of guns per capita=%{y}<extra></extra>",
         "hovertext": [
          "Pennsylvania"
         ],
         "legendgroup": "Pennsylvania",
         "marker": {
          "color": "#FF97FF",
          "size": [
           105.8
          ],
          "sizemode": "area",
          "sizeref": 1.32675,
          "symbol": "circle"
         },
         "mode": "markers",
         "name": "Pennsylvania",
         "orientation": "v",
         "showlegend": true,
         "type": "scatter",
         "x": [
          105.8
         ],
         "xaxis": "x",
         "y": [
          18.45
         ],
         "yaxis": "y"
        },
        {
         "hovertemplate": "<b>%{hovertext}</b><br><br>State=Rhode_Island<br>Robbery rate=%{marker.size}<br># of guns per capita=%{y}<extra></extra>",
         "hovertext": [
          "Rhode_Island"
         ],
         "legendgroup": "Rhode_Island",
         "marker": {
          "color": "#FECB52",
          "size": [
           50.1
          ],
          "sizemode": "area",
          "sizeref": 1.32675,
          "symbol": "circle"
         },
         "mode": "markers",
         "name": "Rhode_Island",
         "orientation": "v",
         "showlegend": true,
         "type": "scatter",
         "x": [
          50.1
         ],
         "xaxis": "x",
         "y": [
          3.98
         ],
         "yaxis": "y"
        },
        {
         "hovertemplate": "<b>%{hovertext}</b><br><br>State=South_Carolina<br>Robbery rate=%{marker.size}<br># of guns per capita=%{y}<extra></extra>",
         "hovertext": [
          "South_Carolina"
         ],
         "legendgroup": "South_Carolina",
         "marker": {
          "color": "#636efa",
          "size": [
           82.7
          ],
          "sizemode": "area",
          "sizeref": 1.32675,
          "symbol": "circle"
         },
         "mode": "markers",
         "name": "South_Carolina",
         "orientation": "v",
         "showlegend": true,
         "type": "scatter",
         "x": [
          82.7
         ],
         "xaxis": "x",
         "y": [
          21.01
         ],
         "yaxis": "y"
        },
        {
         "hovertemplate": "<b>%{hovertext}</b><br><br>State=South_Dakota<br>Robbery rate=%{marker.size}<br># of guns per capita=%{y}<extra></extra>",
         "hovertext": [
          "South_Dakota"
         ],
         "legendgroup": "South_Dakota",
         "marker": {
          "color": "#EF553B",
          "size": [
           23.4
          ],
          "sizemode": "area",
          "sizeref": 1.32675,
          "symbol": "circle"
         },
         "mode": "markers",
         "name": "South_Dakota",
         "orientation": "v",
         "showlegend": true,
         "type": "scatter",
         "x": [
          23.4
         ],
         "xaxis": "x",
         "y": [
          24.29
         ],
         "yaxis": "y"
        },
        {
         "hovertemplate": "<b>%{hovertext}</b><br><br>State=Tennessee<br>Robbery rate=%{marker.size}<br># of guns per capita=%{y}<extra></extra>",
         "hovertext": [
          "Tennessee"
         ],
         "legendgroup": "Tennessee",
         "marker": {
          "color": "#00cc96",
          "size": [
           110.9
          ],
          "sizemode": "area",
          "sizeref": 1.32675,
          "symbol": "circle"
         },
         "mode": "markers",
         "name": "Tennessee",
         "orientation": "v",
         "showlegend": true,
         "type": "scatter",
         "x": [
          110.9
         ],
         "xaxis": "x",
         "y": [
          14.76
         ],
         "yaxis": "y"
        },
        {
         "hovertemplate": "<b>%{hovertext}</b><br><br>State=Texas<br>Robbery rate=%{marker.size}<br># of guns per capita=%{y}<extra></extra>",
         "hovertext": [
          "Texas"
         ],
         "legendgroup": "Texas",
         "marker": {
          "color": "#ab63fa",
          "size": [
           115.7
          ],
          "sizemode": "area",
          "sizeref": 1.32675,
          "symbol": "circle"
         },
         "mode": "markers",
         "name": "Texas",
         "orientation": "v",
         "showlegend": true,
         "type": "scatter",
         "x": [
          115.7
         ],
         "xaxis": "x",
         "y": [
          20.79
         ],
         "yaxis": "y"
        },
        {
         "hovertemplate": "<b>%{hovertext}</b><br><br>State=Utah<br>Robbery rate=%{marker.size}<br># of guns per capita=%{y}<extra></extra>",
         "hovertext": [
          "Utah"
         ],
         "legendgroup": "Utah",
         "marker": {
          "color": "#FFA15A",
          "size": [
           44.6
          ],
          "sizemode": "area",
          "sizeref": 1.32675,
          "symbol": "circle"
         },
         "mode": "markers",
         "name": "Utah",
         "orientation": "v",
         "showlegend": true,
         "type": "scatter",
         "x": [
          44.6
         ],
         "xaxis": "x",
         "y": [
          23.48
         ],
         "yaxis": "y"
        },
        {
         "hovertemplate": "<b>%{hovertext}</b><br><br>State=Vermont<br>Robbery rate=%{marker.size}<br># of guns per capita=%{y}<extra></extra>",
         "hovertext": [
          "Vermont"
         ],
         "legendgroup": "Vermont",
         "marker": {
          "color": "#19d3f3",
          "size": [
           11.2
          ],
          "sizemode": "area",
          "sizeref": 1.32675,
          "symbol": "circle"
         },
         "mode": "markers",
         "name": "Vermont",
         "orientation": "v",
         "showlegend": true,
         "type": "scatter",
         "x": [
          11.2
         ],
         "xaxis": "x",
         "y": [
          9.41
         ],
         "yaxis": "y"
        },
        {
         "hovertemplate": "<b>%{hovertext}</b><br><br>State=Virginia<br>Robbery rate=%{marker.size}<br># of guns per capita=%{y}<extra></extra>",
         "hovertext": [
          "Virginia"
         ],
         "legendgroup": "Virginia",
         "marker": {
          "color": "#FF6692",
          "size": [
           51.5
          ],
          "sizemode": "area",
          "sizeref": 1.32675,
          "symbol": "circle"
         },
         "mode": "markers",
         "name": "Virginia",
         "orientation": "v",
         "showlegend": true,
         "type": "scatter",
         "x": [
          51.5
         ],
         "xaxis": "x",
         "y": [
          36.34
         ],
         "yaxis": "y"
        },
        {
         "hovertemplate": "<b>%{hovertext}</b><br><br>State=Washington<br>Robbery rate=%{marker.size}<br># of guns per capita=%{y}<extra></extra>",
         "hovertext": [
          "Washington"
         ],
         "legendgroup": "Washington",
         "marker": {
          "color": "#B6E880",
          "size": [
           79.9
          ],
          "sizemode": "area",
          "sizeref": 1.32675,
          "symbol": "circle"
         },
         "mode": "markers",
         "name": "Washington",
         "orientation": "v",
         "showlegend": true,
         "type": "scatter",
         "x": [
          79.9
         ],
         "xaxis": "x",
         "y": [
          12.4
         ],
         "yaxis": "y"
        },
        {
         "hovertemplate": "<b>%{hovertext}</b><br><br>State=West_Virginia<br>Robbery rate=%{marker.size}<br># of guns per capita=%{y}<extra></extra>",
         "hovertext": [
          "West_Virginia"
         ],
         "legendgroup": "West_Virginia",
         "marker": {
          "color": "#FF97FF",
          "size": [
           35.2
          ],
          "sizemode": "area",
          "sizeref": 1.32675,
          "symbol": "circle"
         },
         "mode": "markers",
         "name": "West_Virginia",
         "orientation": "v",
         "showlegend": true,
         "type": "scatter",
         "x": [
          35.2
         ],
         "xaxis": "x",
         "y": [
          19.42
         ],
         "yaxis": "y"
        },
        {
         "hovertemplate": "<b>%{hovertext}</b><br><br>State=Wisconsin<br>Robbery rate=%{marker.size}<br># of guns per capita=%{y}<extra></extra>",
         "hovertext": [
          "Wisconsin"
         ],
         "legendgroup": "Wisconsin",
         "marker": {
          "color": "#FECB52",
          "size": [
           88
          ],
          "sizemode": "area",
          "sizeref": 1.32675,
          "symbol": "circle"
         },
         "mode": "markers",
         "name": "Wisconsin",
         "orientation": "v",
         "showlegend": true,
         "type": "scatter",
         "x": [
          88
         ],
         "xaxis": "x",
         "y": [
          11.19
         ],
         "yaxis": "y"
        },
        {
         "hovertemplate": "<b>%{hovertext}</b><br><br>State=Wyoming<br>Robbery rate=%{marker.size}<br># of guns per capita=%{y}<extra></extra>",
         "hovertext": [
          "Wyoming"
         ],
         "legendgroup": "Wyoming",
         "marker": {
          "color": "#636efa",
          "size": [
           9.1
          ],
          "sizemode": "area",
          "sizeref": 1.32675,
          "symbol": "circle"
         },
         "mode": "markers",
         "name": "Wyoming",
         "orientation": "v",
         "showlegend": true,
         "type": "scatter",
         "x": [
          9.1
         ],
         "xaxis": "x",
         "y": [
          229.24
         ],
         "yaxis": "y"
        }
       ],
       "layout": {
        "legend": {
         "itemsizing": "constant",
         "title": {
          "text": "State"
         },
         "tracegroupgap": 0
        },
        "template": {
         "data": {
          "bar": [
           {
            "error_x": {
             "color": "#2a3f5f"
            },
            "error_y": {
             "color": "#2a3f5f"
            },
            "marker": {
             "line": {
              "color": "#E5ECF6",
              "width": 0.5
             }
            },
            "type": "bar"
           }
          ],
          "barpolar": [
           {
            "marker": {
             "line": {
              "color": "#E5ECF6",
              "width": 0.5
             }
            },
            "type": "barpolar"
           }
          ],
          "carpet": [
           {
            "aaxis": {
             "endlinecolor": "#2a3f5f",
             "gridcolor": "white",
             "linecolor": "white",
             "minorgridcolor": "white",
             "startlinecolor": "#2a3f5f"
            },
            "baxis": {
             "endlinecolor": "#2a3f5f",
             "gridcolor": "white",
             "linecolor": "white",
             "minorgridcolor": "white",
             "startlinecolor": "#2a3f5f"
            },
            "type": "carpet"
           }
          ],
          "choropleth": [
           {
            "colorbar": {
             "outlinewidth": 0,
             "ticks": ""
            },
            "type": "choropleth"
           }
          ],
          "contour": [
           {
            "colorbar": {
             "outlinewidth": 0,
             "ticks": ""
            },
            "colorscale": [
             [
              0,
              "#0d0887"
             ],
             [
              0.1111111111111111,
              "#46039f"
             ],
             [
              0.2222222222222222,
              "#7201a8"
             ],
             [
              0.3333333333333333,
              "#9c179e"
             ],
             [
              0.4444444444444444,
              "#bd3786"
             ],
             [
              0.5555555555555556,
              "#d8576b"
             ],
             [
              0.6666666666666666,
              "#ed7953"
             ],
             [
              0.7777777777777778,
              "#fb9f3a"
             ],
             [
              0.8888888888888888,
              "#fdca26"
             ],
             [
              1,
              "#f0f921"
             ]
            ],
            "type": "contour"
           }
          ],
          "contourcarpet": [
           {
            "colorbar": {
             "outlinewidth": 0,
             "ticks": ""
            },
            "type": "contourcarpet"
           }
          ],
          "heatmap": [
           {
            "colorbar": {
             "outlinewidth": 0,
             "ticks": ""
            },
            "colorscale": [
             [
              0,
              "#0d0887"
             ],
             [
              0.1111111111111111,
              "#46039f"
             ],
             [
              0.2222222222222222,
              "#7201a8"
             ],
             [
              0.3333333333333333,
              "#9c179e"
             ],
             [
              0.4444444444444444,
              "#bd3786"
             ],
             [
              0.5555555555555556,
              "#d8576b"
             ],
             [
              0.6666666666666666,
              "#ed7953"
             ],
             [
              0.7777777777777778,
              "#fb9f3a"
             ],
             [
              0.8888888888888888,
              "#fdca26"
             ],
             [
              1,
              "#f0f921"
             ]
            ],
            "type": "heatmap"
           }
          ],
          "heatmapgl": [
           {
            "colorbar": {
             "outlinewidth": 0,
             "ticks": ""
            },
            "colorscale": [
             [
              0,
              "#0d0887"
             ],
             [
              0.1111111111111111,
              "#46039f"
             ],
             [
              0.2222222222222222,
              "#7201a8"
             ],
             [
              0.3333333333333333,
              "#9c179e"
             ],
             [
              0.4444444444444444,
              "#bd3786"
             ],
             [
              0.5555555555555556,
              "#d8576b"
             ],
             [
              0.6666666666666666,
              "#ed7953"
             ],
             [
              0.7777777777777778,
              "#fb9f3a"
             ],
             [
              0.8888888888888888,
              "#fdca26"
             ],
             [
              1,
              "#f0f921"
             ]
            ],
            "type": "heatmapgl"
           }
          ],
          "histogram": [
           {
            "marker": {
             "colorbar": {
              "outlinewidth": 0,
              "ticks": ""
             }
            },
            "type": "histogram"
           }
          ],
          "histogram2d": [
           {
            "colorbar": {
             "outlinewidth": 0,
             "ticks": ""
            },
            "colorscale": [
             [
              0,
              "#0d0887"
             ],
             [
              0.1111111111111111,
              "#46039f"
             ],
             [
              0.2222222222222222,
              "#7201a8"
             ],
             [
              0.3333333333333333,
              "#9c179e"
             ],
             [
              0.4444444444444444,
              "#bd3786"
             ],
             [
              0.5555555555555556,
              "#d8576b"
             ],
             [
              0.6666666666666666,
              "#ed7953"
             ],
             [
              0.7777777777777778,
              "#fb9f3a"
             ],
             [
              0.8888888888888888,
              "#fdca26"
             ],
             [
              1,
              "#f0f921"
             ]
            ],
            "type": "histogram2d"
           }
          ],
          "histogram2dcontour": [
           {
            "colorbar": {
             "outlinewidth": 0,
             "ticks": ""
            },
            "colorscale": [
             [
              0,
              "#0d0887"
             ],
             [
              0.1111111111111111,
              "#46039f"
             ],
             [
              0.2222222222222222,
              "#7201a8"
             ],
             [
              0.3333333333333333,
              "#9c179e"
             ],
             [
              0.4444444444444444,
              "#bd3786"
             ],
             [
              0.5555555555555556,
              "#d8576b"
             ],
             [
              0.6666666666666666,
              "#ed7953"
             ],
             [
              0.7777777777777778,
              "#fb9f3a"
             ],
             [
              0.8888888888888888,
              "#fdca26"
             ],
             [
              1,
              "#f0f921"
             ]
            ],
            "type": "histogram2dcontour"
           }
          ],
          "mesh3d": [
           {
            "colorbar": {
             "outlinewidth": 0,
             "ticks": ""
            },
            "type": "mesh3d"
           }
          ],
          "parcoords": [
           {
            "line": {
             "colorbar": {
              "outlinewidth": 0,
              "ticks": ""
             }
            },
            "type": "parcoords"
           }
          ],
          "pie": [
           {
            "automargin": true,
            "type": "pie"
           }
          ],
          "scatter": [
           {
            "marker": {
             "colorbar": {
              "outlinewidth": 0,
              "ticks": ""
             }
            },
            "type": "scatter"
           }
          ],
          "scatter3d": [
           {
            "line": {
             "colorbar": {
              "outlinewidth": 0,
              "ticks": ""
             }
            },
            "marker": {
             "colorbar": {
              "outlinewidth": 0,
              "ticks": ""
             }
            },
            "type": "scatter3d"
           }
          ],
          "scattercarpet": [
           {
            "marker": {
             "colorbar": {
              "outlinewidth": 0,
              "ticks": ""
             }
            },
            "type": "scattercarpet"
           }
          ],
          "scattergeo": [
           {
            "marker": {
             "colorbar": {
              "outlinewidth": 0,
              "ticks": ""
             }
            },
            "type": "scattergeo"
           }
          ],
          "scattergl": [
           {
            "marker": {
             "colorbar": {
              "outlinewidth": 0,
              "ticks": ""
             }
            },
            "type": "scattergl"
           }
          ],
          "scattermapbox": [
           {
            "marker": {
             "colorbar": {
              "outlinewidth": 0,
              "ticks": ""
             }
            },
            "type": "scattermapbox"
           }
          ],
          "scatterpolar": [
           {
            "marker": {
             "colorbar": {
              "outlinewidth": 0,
              "ticks": ""
             }
            },
            "type": "scatterpolar"
           }
          ],
          "scatterpolargl": [
           {
            "marker": {
             "colorbar": {
              "outlinewidth": 0,
              "ticks": ""
             }
            },
            "type": "scatterpolargl"
           }
          ],
          "scatterternary": [
           {
            "marker": {
             "colorbar": {
              "outlinewidth": 0,
              "ticks": ""
             }
            },
            "type": "scatterternary"
           }
          ],
          "surface": [
           {
            "colorbar": {
             "outlinewidth": 0,
             "ticks": ""
            },
            "colorscale": [
             [
              0,
              "#0d0887"
             ],
             [
              0.1111111111111111,
              "#46039f"
             ],
             [
              0.2222222222222222,
              "#7201a8"
             ],
             [
              0.3333333333333333,
              "#9c179e"
             ],
             [
              0.4444444444444444,
              "#bd3786"
             ],
             [
              0.5555555555555556,
              "#d8576b"
             ],
             [
              0.6666666666666666,
              "#ed7953"
             ],
             [
              0.7777777777777778,
              "#fb9f3a"
             ],
             [
              0.8888888888888888,
              "#fdca26"
             ],
             [
              1,
              "#f0f921"
             ]
            ],
            "type": "surface"
           }
          ],
          "table": [
           {
            "cells": {
             "fill": {
              "color": "#EBF0F8"
             },
             "line": {
              "color": "white"
             }
            },
            "header": {
             "fill": {
              "color": "#C8D4E3"
             },
             "line": {
              "color": "white"
             }
            },
            "type": "table"
           }
          ]
         },
         "layout": {
          "annotationdefaults": {
           "arrowcolor": "#2a3f5f",
           "arrowhead": 0,
           "arrowwidth": 1
          },
          "coloraxis": {
           "colorbar": {
            "outlinewidth": 0,
            "ticks": ""
           }
          },
          "colorscale": {
           "diverging": [
            [
             0,
             "#8e0152"
            ],
            [
             0.1,
             "#c51b7d"
            ],
            [
             0.2,
             "#de77ae"
            ],
            [
             0.3,
             "#f1b6da"
            ],
            [
             0.4,
             "#fde0ef"
            ],
            [
             0.5,
             "#f7f7f7"
            ],
            [
             0.6,
             "#e6f5d0"
            ],
            [
             0.7,
             "#b8e186"
            ],
            [
             0.8,
             "#7fbc41"
            ],
            [
             0.9,
             "#4d9221"
            ],
            [
             1,
             "#276419"
            ]
           ],
           "sequential": [
            [
             0,
             "#0d0887"
            ],
            [
             0.1111111111111111,
             "#46039f"
            ],
            [
             0.2222222222222222,
             "#7201a8"
            ],
            [
             0.3333333333333333,
             "#9c179e"
            ],
            [
             0.4444444444444444,
             "#bd3786"
            ],
            [
             0.5555555555555556,
             "#d8576b"
            ],
            [
             0.6666666666666666,
             "#ed7953"
            ],
            [
             0.7777777777777778,
             "#fb9f3a"
            ],
            [
             0.8888888888888888,
             "#fdca26"
            ],
            [
             1,
             "#f0f921"
            ]
           ],
           "sequentialminus": [
            [
             0,
             "#0d0887"
            ],
            [
             0.1111111111111111,
             "#46039f"
            ],
            [
             0.2222222222222222,
             "#7201a8"
            ],
            [
             0.3333333333333333,
             "#9c179e"
            ],
            [
             0.4444444444444444,
             "#bd3786"
            ],
            [
             0.5555555555555556,
             "#d8576b"
            ],
            [
             0.6666666666666666,
             "#ed7953"
            ],
            [
             0.7777777777777778,
             "#fb9f3a"
            ],
            [
             0.8888888888888888,
             "#fdca26"
            ],
            [
             1,
             "#f0f921"
            ]
           ]
          },
          "colorway": [
           "#636efa",
           "#EF553B",
           "#00cc96",
           "#ab63fa",
           "#FFA15A",
           "#19d3f3",
           "#FF6692",
           "#B6E880",
           "#FF97FF",
           "#FECB52"
          ],
          "font": {
           "color": "#2a3f5f"
          },
          "geo": {
           "bgcolor": "white",
           "lakecolor": "white",
           "landcolor": "#E5ECF6",
           "showlakes": true,
           "showland": true,
           "subunitcolor": "white"
          },
          "hoverlabel": {
           "align": "left"
          },
          "hovermode": "closest",
          "mapbox": {
           "style": "light"
          },
          "paper_bgcolor": "white",
          "plot_bgcolor": "#E5ECF6",
          "polar": {
           "angularaxis": {
            "gridcolor": "white",
            "linecolor": "white",
            "ticks": ""
           },
           "bgcolor": "#E5ECF6",
           "radialaxis": {
            "gridcolor": "white",
            "linecolor": "white",
            "ticks": ""
           }
          },
          "scene": {
           "xaxis": {
            "backgroundcolor": "#E5ECF6",
            "gridcolor": "white",
            "gridwidth": 2,
            "linecolor": "white",
            "showbackground": true,
            "ticks": "",
            "zerolinecolor": "white"
           },
           "yaxis": {
            "backgroundcolor": "#E5ECF6",
            "gridcolor": "white",
            "gridwidth": 2,
            "linecolor": "white",
            "showbackground": true,
            "ticks": "",
            "zerolinecolor": "white"
           },
           "zaxis": {
            "backgroundcolor": "#E5ECF6",
            "gridcolor": "white",
            "gridwidth": 2,
            "linecolor": "white",
            "showbackground": true,
            "ticks": "",
            "zerolinecolor": "white"
           }
          },
          "shapedefaults": {
           "line": {
            "color": "#2a3f5f"
           }
          },
          "ternary": {
           "aaxis": {
            "gridcolor": "white",
            "linecolor": "white",
            "ticks": ""
           },
           "baxis": {
            "gridcolor": "white",
            "linecolor": "white",
            "ticks": ""
           },
           "bgcolor": "#E5ECF6",
           "caxis": {
            "gridcolor": "white",
            "linecolor": "white",
            "ticks": ""
           }
          },
          "title": {
           "x": 0.05
          },
          "xaxis": {
           "automargin": true,
           "gridcolor": "white",
           "linecolor": "white",
           "ticks": "",
           "title": {
            "standoff": 15
           },
           "zerolinecolor": "white",
           "zerolinewidth": 2
          },
          "yaxis": {
           "automargin": true,
           "gridcolor": "white",
           "linecolor": "white",
           "ticks": "",
           "title": {
            "standoff": 15
           },
           "zerolinecolor": "white",
           "zerolinewidth": 2
          }
         }
        },
        "title": {
         "text": "Robbery Rate in the US"
        },
        "xaxis": {
         "anchor": "y",
         "domain": [
          0,
          1
         ],
         "title": {
          "text": "Robbery rate"
         }
        },
        "yaxis": {
         "anchor": "x",
         "domain": [
          0,
          1
         ],
         "title": {
          "text": "# of guns per capita"
         }
        }
       }
      },
      "text/html": [
       "<div>\n",
       "        \n",
       "        \n",
       "            <div id=\"aedfe339-f789-47d2-84f3-3c6415e20342\" class=\"plotly-graph-div\" style=\"height:525px; width:100%;\"></div>\n",
       "            <script type=\"text/javascript\">\n",
       "                require([\"plotly\"], function(Plotly) {\n",
       "                    window.PLOTLYENV=window.PLOTLYENV || {};\n",
       "                    \n",
       "                if (document.getElementById(\"aedfe339-f789-47d2-84f3-3c6415e20342\")) {\n",
       "                    Plotly.newPlot(\n",
       "                        'aedfe339-f789-47d2-84f3-3c6415e20342',\n",
       "                        [{\"hovertemplate\": \"<b>%{hovertext}</b><br><br>State=Alabama<br>Robbery rate=%{marker.size}<br># of guns per capita=%{y}<extra></extra>\", \"hovertext\": [\"Alabama\"], \"legendgroup\": \"Alabama\", \"marker\": {\"color\": \"#636efa\", \"size\": [96.9], \"sizemode\": \"area\", \"sizeref\": 1.32675, \"symbol\": \"circle\"}, \"mode\": \"markers\", \"name\": \"Alabama\", \"orientation\": \"v\", \"showlegend\": true, \"type\": \"scatter\", \"x\": [96.9], \"xaxis\": \"x\", \"y\": [33.15], \"yaxis\": \"y\"}, {\"hovertemplate\": \"<b>%{hovertext}</b><br><br>State=Alaska<br>Robbery rate=%{marker.size}<br># of guns per capita=%{y}<extra></extra>\", \"hovertext\": [\"Alaska\"], \"legendgroup\": \"Alaska\", \"marker\": {\"color\": \"#EF553B\", \"size\": [85.4], \"sizemode\": \"area\", \"sizeref\": 1.32675, \"symbol\": \"circle\"}, \"mode\": \"markers\", \"name\": \"Alaska\", \"orientation\": \"v\", \"showlegend\": true, \"type\": \"scatter\", \"x\": [85.4], \"xaxis\": \"x\", \"y\": [21.38], \"yaxis\": \"y\"}, {\"hovertemplate\": \"<b>%{hovertext}</b><br><br>State=Arizona<br>Robbery rate=%{marker.size}<br># of guns per capita=%{y}<extra></extra>\", \"hovertext\": [\"Arizona\"], \"legendgroup\": \"Arizona\", \"marker\": {\"color\": \"#00cc96\", \"size\": [92.8], \"sizemode\": \"area\", \"sizeref\": 1.32675, \"symbol\": \"circle\"}, \"mode\": \"markers\", \"name\": \"Arizona\", \"orientation\": \"v\", \"showlegend\": true, \"type\": \"scatter\", \"x\": [92.8], \"xaxis\": \"x\", \"y\": [25.61], \"yaxis\": \"y\"}, {\"hovertemplate\": \"<b>%{hovertext}</b><br><br>State=Arkansas<br>Robbery rate=%{marker.size}<br># of guns per capita=%{y}<extra></extra>\", \"hovertext\": [\"Arkansas\"], \"legendgroup\": \"Arkansas\", \"marker\": {\"color\": \"#ab63fa\", \"size\": [69.1], \"sizemode\": \"area\", \"sizeref\": 1.32675, \"symbol\": \"circle\"}, \"mode\": \"markers\", \"name\": \"Arkansas\", \"orientation\": \"v\", \"showlegend\": true, \"type\": \"scatter\", \"x\": [69.1], \"xaxis\": \"x\", \"y\": [26.57], \"yaxis\": \"y\"}, {\"hovertemplate\": \"<b>%{hovertext}</b><br><br>State=California<br>Robbery rate=%{marker.size}<br># of guns per capita=%{y}<extra></extra>\", \"hovertext\": [\"California\"], \"legendgroup\": \"California\", \"marker\": {\"color\": \"#FFA15A\", \"size\": [125.5], \"sizemode\": \"area\", \"sizeref\": 1.32675, \"symbol\": \"circle\"}, \"mode\": \"markers\", \"name\": \"California\", \"orientation\": \"v\", \"showlegend\": true, \"type\": \"scatter\", \"x\": [125.5], \"xaxis\": \"x\", \"y\": [8.71], \"yaxis\": \"y\"}, {\"hovertemplate\": \"<b>%{hovertext}</b><br><br>State=Colorado<br>Robbery rate=%{marker.size}<br># of guns per capita=%{y}<extra></extra>\", \"hovertext\": [\"Colorado\"], \"legendgroup\": \"Colorado\", \"marker\": {\"color\": \"#19d3f3\", \"size\": [56.7], \"sizemode\": \"area\", \"sizeref\": 1.32675, \"symbol\": \"circle\"}, \"mode\": \"markers\", \"name\": \"Colorado\", \"orientation\": \"v\", \"showlegend\": true, \"type\": \"scatter\", \"x\": [56.7], \"xaxis\": \"x\", \"y\": [16.48], \"yaxis\": \"y\"}, {\"hovertemplate\": \"<b>%{hovertext}</b><br><br>State=Connecticut<br>Robbery rate=%{marker.size}<br># of guns per capita=%{y}<extra></extra>\", \"hovertext\": [\"Connecticut\"], \"legendgroup\": \"Connecticut\", \"marker\": {\"color\": \"#FF6692\", \"size\": [87.8], \"sizemode\": \"area\", \"sizeref\": 1.32675, \"symbol\": \"circle\"}, \"mode\": \"markers\", \"name\": \"Connecticut\", \"orientation\": \"v\", \"showlegend\": true, \"type\": \"scatter\", \"x\": [87.8], \"xaxis\": \"x\", \"y\": [22.96], \"yaxis\": \"y\"}, {\"hovertemplate\": \"<b>%{hovertext}</b><br><br>State=DC<br>Robbery rate=%{marker.size}<br># of guns per capita=%{y}<extra></extra>\", \"hovertext\": [\"DC\"], \"legendgroup\": \"DC\", \"marker\": {\"color\": \"#B6E880\", \"size\": [530.7], \"sizemode\": \"area\", \"sizeref\": 1.32675, \"symbol\": \"circle\"}, \"mode\": \"markers\", \"name\": \"DC\", \"orientation\": \"v\", \"showlegend\": true, \"type\": \"scatter\", \"x\": [530.7], \"xaxis\": \"x\", \"y\": [68.05], \"yaxis\": \"y\"}, {\"hovertemplate\": \"<b>%{hovertext}</b><br><br>State=Delaware<br>Robbery rate=%{marker.size}<br># of guns per capita=%{y}<extra></extra>\", \"hovertext\": [\"Delaware\"], \"legendgroup\": \"Delaware\", \"marker\": {\"color\": \"#FF97FF\", \"size\": [135.6], \"sizemode\": \"area\", \"sizeref\": 1.32675, \"symbol\": \"circle\"}, \"mode\": \"markers\", \"name\": \"Delaware\", \"orientation\": \"v\", \"showlegend\": true, \"type\": \"scatter\", \"x\": [135.6], \"xaxis\": \"x\", \"y\": [5.04], \"yaxis\": \"y\"}, {\"hovertemplate\": \"<b>%{hovertext}</b><br><br>State=Florida<br>Robbery rate=%{marker.size}<br># of guns per capita=%{y}<extra></extra>\", \"hovertext\": [\"Florida\"], \"legendgroup\": \"Florida\", \"marker\": {\"color\": \"#FECB52\", \"size\": [125.2], \"sizemode\": \"area\", \"sizeref\": 1.32675, \"symbol\": \"circle\"}, \"mode\": \"markers\", \"name\": \"Florida\", \"orientation\": \"v\", \"showlegend\": true, \"type\": \"scatter\", \"x\": [125.2], \"xaxis\": \"x\", \"y\": [16.35], \"yaxis\": \"y\"}, {\"hovertemplate\": \"<b>%{hovertext}</b><br><br>State=Georgia<br>Robbery rate=%{marker.size}<br># of guns per capita=%{y}<extra></extra>\", \"hovertext\": [\"Georgia\"], \"legendgroup\": \"Georgia\", \"marker\": {\"color\": \"#636efa\", \"size\": [123.0], \"sizemode\": \"area\", \"sizeref\": 1.32675, \"symbol\": \"circle\"}, \"mode\": \"markers\", \"name\": \"Georgia\", \"orientation\": \"v\", \"showlegend\": true, \"type\": \"scatter\", \"x\": [123.0], \"xaxis\": \"x\", \"y\": [18.22], \"yaxis\": \"y\"}, {\"hovertemplate\": \"<b>%{hovertext}</b><br><br>State=Hawaii<br>Robbery rate=%{marker.size}<br># of guns per capita=%{y}<extra></extra>\", \"hovertext\": [\"Hawaii\"], \"legendgroup\": \"Hawaii\", \"marker\": {\"color\": \"#EF553B\", \"size\": [78.0], \"sizemode\": \"area\", \"sizeref\": 1.32675, \"symbol\": \"circle\"}, \"mode\": \"markers\", \"name\": \"Hawaii\", \"orientation\": \"v\", \"showlegend\": true, \"type\": \"scatter\", \"x\": [78.0], \"xaxis\": \"x\", \"y\": [5.5], \"yaxis\": \"y\"}, {\"hovertemplate\": \"<b>%{hovertext}</b><br><br>State=Idaho<br>Robbery rate=%{marker.size}<br># of guns per capita=%{y}<extra></extra>\", \"hovertext\": [\"Idaho\"], \"legendgroup\": \"Idaho\", \"marker\": {\"color\": \"#00cc96\", \"size\": [12.5], \"sizemode\": \"area\", \"sizeref\": 1.32675, \"symbol\": \"circle\"}, \"mode\": \"markers\", \"name\": \"Idaho\", \"orientation\": \"v\", \"showlegend\": true, \"type\": \"scatter\", \"x\": [12.5], \"xaxis\": \"x\", \"y\": [28.86], \"yaxis\": \"y\"}, {\"hovertemplate\": \"<b>%{hovertext}</b><br><br>State=Illinois<br>Robbery rate=%{marker.size}<br># of guns per capita=%{y}<extra></extra>\", \"hovertext\": [\"Illinois\"], \"legendgroup\": \"Illinois\", \"marker\": {\"color\": \"#ab63fa\", \"size\": [118.8], \"sizemode\": \"area\", \"sizeref\": 1.32675, \"symbol\": \"circle\"}, \"mode\": \"markers\", \"name\": \"Illinois\", \"orientation\": \"v\", \"showlegend\": true, \"type\": \"scatter\", \"x\": [118.8], \"xaxis\": \"x\", \"y\": [11.44], \"yaxis\": \"y\"}, {\"hovertemplate\": \"<b>%{hovertext}</b><br><br>State=Indiana<br>Robbery rate=%{marker.size}<br># of guns per capita=%{y}<extra></extra>\", \"hovertext\": [\"Indiana\"], \"legendgroup\": \"Indiana\", \"marker\": {\"color\": \"#FFA15A\", \"size\": [104.5], \"sizemode\": \"area\", \"sizeref\": 1.32675, \"symbol\": \"circle\"}, \"mode\": \"markers\", \"name\": \"Indiana\", \"orientation\": \"v\", \"showlegend\": true, \"type\": \"scatter\", \"x\": [104.5], \"xaxis\": \"x\", \"y\": [17.1], \"yaxis\": \"y\"}, {\"hovertemplate\": \"<b>%{hovertext}</b><br><br>State=Iowa<br>Robbery rate=%{marker.size}<br># of guns per capita=%{y}<extra></extra>\", \"hovertext\": [\"Iowa\"], \"legendgroup\": \"Iowa\", \"marker\": {\"color\": \"#19d3f3\", \"size\": [33.6], \"sizemode\": \"area\", \"sizeref\": 1.32675, \"symbol\": \"circle\"}, \"mode\": \"markers\", \"name\": \"Iowa\", \"orientation\": \"v\", \"showlegend\": true, \"type\": \"scatter\", \"x\": [33.6], \"xaxis\": \"x\", \"y\": [9.05], \"yaxis\": \"y\"}, {\"hovertemplate\": \"<b>%{hovertext}</b><br><br>State=Kansas<br>Robbery rate=%{marker.size}<br># of guns per capita=%{y}<extra></extra>\", \"hovertext\": [\"Kansas\"], \"legendgroup\": \"Kansas\", \"marker\": {\"color\": \"#FF6692\", \"size\": [46.9], \"sizemode\": \"area\", \"sizeref\": 1.32675, \"symbol\": \"circle\"}, \"mode\": \"markers\", \"name\": \"Kansas\", \"orientation\": \"v\", \"showlegend\": true, \"type\": \"scatter\", \"x\": [46.9], \"xaxis\": \"x\", \"y\": [18.06], \"yaxis\": \"y\"}, {\"hovertemplate\": \"<b>%{hovertext}</b><br><br>State=Kentucky<br>Robbery rate=%{marker.size}<br># of guns per capita=%{y}<extra></extra>\", \"hovertext\": [\"Kentucky\"], \"legendgroup\": \"Kentucky\", \"marker\": {\"color\": \"#B6E880\", \"size\": [75.6], \"sizemode\": \"area\", \"sizeref\": 1.32675, \"symbol\": \"circle\"}, \"mode\": \"markers\", \"name\": \"Kentucky\", \"orientation\": \"v\", \"showlegend\": true, \"type\": \"scatter\", \"x\": [75.6], \"xaxis\": \"x\", \"y\": [18.2], \"yaxis\": \"y\"}, {\"hovertemplate\": \"<b>%{hovertext}</b><br><br>State=Louisiana<br>Robbery rate=%{marker.size}<br># of guns per capita=%{y}<extra></extra>\", \"hovertext\": [\"Louisiana\"], \"legendgroup\": \"Louisiana\", \"marker\": {\"color\": \"#FF97FF\", \"size\": [122.5], \"sizemode\": \"area\", \"sizeref\": 1.32675, \"symbol\": \"circle\"}, \"mode\": \"markers\", \"name\": \"Louisiana\", \"orientation\": \"v\", \"showlegend\": true, \"type\": \"scatter\", \"x\": [122.5], \"xaxis\": \"x\", \"y\": [24.94], \"yaxis\": \"y\"}, {\"hovertemplate\": \"<b>%{hovertext}</b><br><br>State=Maine<br>Robbery rate=%{marker.size}<br># of guns per capita=%{y}<extra></extra>\", \"hovertext\": [\"Maine\"], \"legendgroup\": \"Maine\", \"marker\": {\"color\": \"#FECB52\", \"size\": [22.9], \"sizemode\": \"area\", \"sizeref\": 1.32675, \"symbol\": \"circle\"}, \"mode\": \"markers\", \"name\": \"Maine\", \"orientation\": \"v\", \"showlegend\": true, \"type\": \"scatter\", \"x\": [22.9], \"xaxis\": \"x\", \"y\": [11.5], \"yaxis\": \"y\"}, {\"hovertemplate\": \"<b>%{hovertext}</b><br><br>State=Maryland<br>Robbery rate=%{marker.size}<br># of guns per capita=%{y}<extra></extra>\", \"hovertext\": [\"Maryland\"], \"legendgroup\": \"Maryland\", \"marker\": {\"color\": \"#636efa\", \"size\": [159.7], \"sizemode\": \"area\", \"sizeref\": 1.32675, \"symbol\": \"circle\"}, \"mode\": \"markers\", \"name\": \"Maryland\", \"orientation\": \"v\", \"showlegend\": true, \"type\": \"scatter\", \"x\": [159.7], \"xaxis\": \"x\", \"y\": [17.03], \"yaxis\": \"y\"}, {\"hovertemplate\": \"<b>%{hovertext}</b><br><br>State=Massachusetts<br>Robbery rate=%{marker.size}<br># of guns per capita=%{y}<extra></extra>\", \"hovertext\": [\"Massachusetts\"], \"legendgroup\": \"Massachusetts\", \"marker\": {\"color\": \"#EF553B\", \"size\": [89.5], \"sizemode\": \"area\", \"sizeref\": 1.32675, \"symbol\": \"circle\"}, \"mode\": \"markers\", \"name\": \"Massachusetts\", \"orientation\": \"v\", \"showlegend\": true, \"type\": \"scatter\", \"x\": [89.5], \"xaxis\": \"x\", \"y\": [5.41], \"yaxis\": \"y\"}, {\"hovertemplate\": \"<b>%{hovertext}</b><br><br>State=Michigan<br>Robbery rate=%{marker.size}<br># of guns per capita=%{y}<extra></extra>\", \"hovertext\": [\"Michigan\"], \"legendgroup\": \"Michigan\", \"marker\": {\"color\": \"#00cc96\", \"size\": [80.9], \"sizemode\": \"area\", \"sizeref\": 1.32675, \"symbol\": \"circle\"}, \"mode\": \"markers\", \"name\": \"Michigan\", \"orientation\": \"v\", \"showlegend\": true, \"type\": \"scatter\", \"x\": [80.9], \"xaxis\": \"x\", \"y\": [6.59], \"yaxis\": \"y\"}, {\"hovertemplate\": \"<b>%{hovertext}</b><br><br>State=Minnesota<br>Robbery rate=%{marker.size}<br># of guns per capita=%{y}<extra></extra>\", \"hovertext\": [\"Minnesota\"], \"legendgroup\": \"Minnesota\", \"marker\": {\"color\": \"#ab63fa\", \"size\": [67.6], \"sizemode\": \"area\", \"sizeref\": 1.32675, \"symbol\": \"circle\"}, \"mode\": \"markers\", \"name\": \"Minnesota\", \"orientation\": \"v\", \"showlegend\": true, \"type\": \"scatter\", \"x\": [67.6], \"xaxis\": \"x\", \"y\": [14.22], \"yaxis\": \"y\"}, {\"hovertemplate\": \"<b>%{hovertext}</b><br><br>State=Mississippi<br>Robbery rate=%{marker.size}<br># of guns per capita=%{y}<extra></extra>\", \"hovertext\": [\"Mississippi\"], \"legendgroup\": \"Mississippi\", \"marker\": {\"color\": \"#FFA15A\", \"size\": [81.2], \"sizemode\": \"area\", \"sizeref\": 1.32675, \"symbol\": \"circle\"}, \"mode\": \"markers\", \"name\": \"Mississippi\", \"orientation\": \"v\", \"showlegend\": true, \"type\": \"scatter\", \"x\": [81.2], \"xaxis\": \"x\", \"y\": [11.89], \"yaxis\": \"y\"}, {\"hovertemplate\": \"<b>%{hovertext}</b><br><br>State=Missouri<br>Robbery rate=%{marker.size}<br># of guns per capita=%{y}<extra></extra>\", \"hovertext\": [\"Missouri\"], \"legendgroup\": \"Missouri\", \"marker\": {\"color\": \"#19d3f3\", \"size\": [92.2], \"sizemode\": \"area\", \"sizeref\": 1.32675, \"symbol\": \"circle\"}, \"mode\": \"markers\", \"name\": \"Missouri\", \"orientation\": \"v\", \"showlegend\": true, \"type\": \"scatter\", \"x\": [92.2], \"xaxis\": \"x\", \"y\": [11.94], \"yaxis\": \"y\"}, {\"hovertemplate\": \"<b>%{hovertext}</b><br><br>State=Montana<br>Robbery rate=%{marker.size}<br># of guns per capita=%{y}<extra></extra>\", \"hovertext\": [\"Montana\"], \"legendgroup\": \"Montana\", \"marker\": {\"color\": \"#FF6692\", \"size\": [19.8], \"sizemode\": \"area\", \"sizeref\": 1.32675, \"symbol\": \"circle\"}, \"mode\": \"markers\", \"name\": \"Montana\", \"orientation\": \"v\", \"showlegend\": true, \"type\": \"scatter\", \"x\": [19.8], \"xaxis\": \"x\", \"y\": [21.06], \"yaxis\": \"y\"}, {\"hovertemplate\": \"<b>%{hovertext}</b><br><br>State=Nebraska<br>Robbery rate=%{marker.size}<br># of guns per capita=%{y}<extra></extra>\", \"hovertext\": [\"Nebraska\"], \"legendgroup\": \"Nebraska\", \"marker\": {\"color\": \"#B6E880\", \"size\": [55.4], \"sizemode\": \"area\", \"sizeref\": 1.32675, \"symbol\": \"circle\"}, \"mode\": \"markers\", \"name\": \"Nebraska\", \"orientation\": \"v\", \"showlegend\": true, \"type\": \"scatter\", \"x\": [55.4], \"xaxis\": \"x\", \"y\": [11.57], \"yaxis\": \"y\"}, {\"hovertemplate\": \"<b>%{hovertext}</b><br><br>State=Nevada<br>Robbery rate=%{marker.size}<br># of guns per capita=%{y}<extra></extra>\", \"hovertext\": [\"Nevada\"], \"legendgroup\": \"Nevada\", \"marker\": {\"color\": \"#FF97FF\", \"size\": [209.7], \"sizemode\": \"area\", \"sizeref\": 1.32675, \"symbol\": \"circle\"}, \"mode\": \"markers\", \"name\": \"Nevada\", \"orientation\": \"v\", \"showlegend\": true, \"type\": \"scatter\", \"x\": [209.7], \"xaxis\": \"x\", \"y\": [25.64], \"yaxis\": \"y\"}, {\"hovertemplate\": \"<b>%{hovertext}</b><br><br>State=New_Hampshire<br>Robbery rate=%{marker.size}<br># of guns per capita=%{y}<extra></extra>\", \"hovertext\": [\"New_Hampshire\"], \"legendgroup\": \"New_Hampshire\", \"marker\": {\"color\": \"#FECB52\", \"size\": [40.5], \"sizemode\": \"area\", \"sizeref\": 1.32675, \"symbol\": \"circle\"}, \"mode\": \"markers\", \"name\": \"New_Hampshire\", \"orientation\": \"v\", \"showlegend\": true, \"type\": \"scatter\", \"x\": [40.5], \"xaxis\": \"x\", \"y\": [46.76], \"yaxis\": \"y\"}, {\"hovertemplate\": \"<b>%{hovertext}</b><br><br>State=New_Jersey<br>Robbery rate=%{marker.size}<br># of guns per capita=%{y}<extra></extra>\", \"hovertext\": [\"New_Jersey\"], \"legendgroup\": \"New_Jersey\", \"marker\": {\"color\": \"#636efa\", \"size\": [117.5], \"sizemode\": \"area\", \"sizeref\": 1.32675, \"symbol\": \"circle\"}, \"mode\": \"markers\", \"name\": \"New_Jersey\", \"orientation\": \"v\", \"showlegend\": true, \"type\": \"scatter\", \"x\": [117.5], \"xaxis\": \"x\", \"y\": [6.38], \"yaxis\": \"y\"}, {\"hovertemplate\": \"<b>%{hovertext}</b><br><br>State=New_Mexico<br>Robbery rate=%{marker.size}<br># of guns per capita=%{y}<extra></extra>\", \"hovertext\": [\"New_Mexico\"], \"legendgroup\": \"New_Mexico\", \"marker\": {\"color\": \"#EF553B\", \"size\": [100.0], \"sizemode\": \"area\", \"sizeref\": 1.32675, \"symbol\": \"circle\"}, \"mode\": \"markers\", \"name\": \"New_Mexico\", \"orientation\": \"v\", \"showlegend\": true, \"type\": \"scatter\", \"x\": [100.0], \"xaxis\": \"x\", \"y\": [46.73], \"yaxis\": \"y\"}, {\"hovertemplate\": \"<b>%{hovertext}</b><br><br>State=New_York<br>Robbery rate=%{marker.size}<br># of guns per capita=%{y}<extra></extra>\", \"hovertext\": [\"New_York\"], \"legendgroup\": \"New_York\", \"marker\": {\"color\": \"#00cc96\", \"size\": [121.8], \"sizemode\": \"area\", \"sizeref\": 1.32675, \"symbol\": \"circle\"}, \"mode\": \"markers\", \"name\": \"New_York\", \"orientation\": \"v\", \"showlegend\": true, \"type\": \"scatter\", \"x\": [121.8], \"xaxis\": \"x\", \"y\": [3.83], \"yaxis\": \"y\"}, {\"hovertemplate\": \"<b>%{hovertext}</b><br><br>State=North_Carolina<br>Robbery rate=%{marker.size}<br># of guns per capita=%{y}<extra></extra>\", \"hovertext\": [\"North_Carolina\"], \"legendgroup\": \"North_Carolina\", \"marker\": {\"color\": \"#ab63fa\", \"size\": [84.6], \"sizemode\": \"area\", \"sizeref\": 1.32675, \"symbol\": \"circle\"}, \"mode\": \"markers\", \"name\": \"North_Carolina\", \"orientation\": \"v\", \"showlegend\": true, \"type\": \"scatter\", \"x\": [84.6], \"xaxis\": \"x\", \"y\": [14.818], \"yaxis\": \"y\"}, {\"hovertemplate\": \"<b>%{hovertext}</b><br><br>State=North_Dakota<br>Robbery rate=%{marker.size}<br># of guns per capita=%{y}<extra></extra>\", \"hovertext\": [\"North_Dakota\"], \"legendgroup\": \"North_Dakota\", \"marker\": {\"color\": \"#FFA15A\", \"size\": [23.4], \"sizemode\": \"area\", \"sizeref\": 1.32675, \"symbol\": \"circle\"}, \"mode\": \"markers\", \"name\": \"North_Dakota\", \"orientation\": \"v\", \"showlegend\": true, \"type\": \"scatter\", \"x\": [23.4], \"xaxis\": \"x\", \"y\": [17.56], \"yaxis\": \"y\"}, {\"hovertemplate\": \"<b>%{hovertext}</b><br><br>State=Ohio<br>Robbery rate=%{marker.size}<br># of guns per capita=%{y}<extra></extra>\", \"hovertext\": [\"Ohio\"], \"legendgroup\": \"Ohio\", \"marker\": {\"color\": \"#19d3f3\", \"size\": [110.0], \"sizemode\": \"area\", \"sizeref\": 1.32675, \"symbol\": \"circle\"}, \"mode\": \"markers\", \"name\": \"Ohio\", \"orientation\": \"v\", \"showlegend\": true, \"type\": \"scatter\", \"x\": [110.0], \"xaxis\": \"x\", \"y\": [14.87], \"yaxis\": \"y\"}, {\"hovertemplate\": \"<b>%{hovertext}</b><br><br>State=Oklahoma<br>Robbery rate=%{marker.size}<br># of guns per capita=%{y}<extra></extra>\", \"hovertext\": [\"Oklahoma\"], \"legendgroup\": \"Oklahoma\", \"marker\": {\"color\": \"#FF6692\", \"size\": [78.6], \"sizemode\": \"area\", \"sizeref\": 1.32675, \"symbol\": \"circle\"}, \"mode\": \"markers\", \"name\": \"Oklahoma\", \"orientation\": \"v\", \"showlegend\": true, \"type\": \"scatter\", \"x\": [78.6], \"xaxis\": \"x\", \"y\": [18.13], \"yaxis\": \"y\"}, {\"hovertemplate\": \"<b>%{hovertext}</b><br><br>State=Oregon<br>Robbery rate=%{marker.size}<br># of guns per capita=%{y}<extra></extra>\", \"hovertext\": [\"Oregon\"], \"legendgroup\": \"Oregon\", \"marker\": {\"color\": \"#B6E880\", \"size\": [52.7], \"sizemode\": \"area\", \"sizeref\": 1.32675, \"symbol\": \"circle\"}, \"mode\": \"markers\", \"name\": \"Oregon\", \"orientation\": \"v\", \"showlegend\": true, \"type\": \"scatter\", \"x\": [52.7], \"xaxis\": \"x\", \"y\": [14.815999999999999], \"yaxis\": \"y\"}, {\"hovertemplate\": \"<b>%{hovertext}</b><br><br>State=Pennsylvania<br>Robbery rate=%{marker.size}<br># of guns per capita=%{y}<extra></extra>\", \"hovertext\": [\"Pennsylvania\"], \"legendgroup\": \"Pennsylvania\", \"marker\": {\"color\": \"#FF97FF\", \"size\": [105.8], \"sizemode\": \"area\", \"sizeref\": 1.32675, \"symbol\": \"circle\"}, \"mode\": \"markers\", \"name\": \"Pennsylvania\", \"orientation\": \"v\", \"showlegend\": true, \"type\": \"scatter\", \"x\": [105.8], \"xaxis\": \"x\", \"y\": [18.45], \"yaxis\": \"y\"}, {\"hovertemplate\": \"<b>%{hovertext}</b><br><br>State=Rhode_Island<br>Robbery rate=%{marker.size}<br># of guns per capita=%{y}<extra></extra>\", \"hovertext\": [\"Rhode_Island\"], \"legendgroup\": \"Rhode_Island\", \"marker\": {\"color\": \"#FECB52\", \"size\": [50.1], \"sizemode\": \"area\", \"sizeref\": 1.32675, \"symbol\": \"circle\"}, \"mode\": \"markers\", \"name\": \"Rhode_Island\", \"orientation\": \"v\", \"showlegend\": true, \"type\": \"scatter\", \"x\": [50.1], \"xaxis\": \"x\", \"y\": [3.98], \"yaxis\": \"y\"}, {\"hovertemplate\": \"<b>%{hovertext}</b><br><br>State=South_Carolina<br>Robbery rate=%{marker.size}<br># of guns per capita=%{y}<extra></extra>\", \"hovertext\": [\"South_Carolina\"], \"legendgroup\": \"South_Carolina\", \"marker\": {\"color\": \"#636efa\", \"size\": [82.7], \"sizemode\": \"area\", \"sizeref\": 1.32675, \"symbol\": \"circle\"}, \"mode\": \"markers\", \"name\": \"South_Carolina\", \"orientation\": \"v\", \"showlegend\": true, \"type\": \"scatter\", \"x\": [82.7], \"xaxis\": \"x\", \"y\": [21.01], \"yaxis\": \"y\"}, {\"hovertemplate\": \"<b>%{hovertext}</b><br><br>State=South_Dakota<br>Robbery rate=%{marker.size}<br># of guns per capita=%{y}<extra></extra>\", \"hovertext\": [\"South_Dakota\"], \"legendgroup\": \"South_Dakota\", \"marker\": {\"color\": \"#EF553B\", \"size\": [23.4], \"sizemode\": \"area\", \"sizeref\": 1.32675, \"symbol\": \"circle\"}, \"mode\": \"markers\", \"name\": \"South_Dakota\", \"orientation\": \"v\", \"showlegend\": true, \"type\": \"scatter\", \"x\": [23.4], \"xaxis\": \"x\", \"y\": [24.29], \"yaxis\": \"y\"}, {\"hovertemplate\": \"<b>%{hovertext}</b><br><br>State=Tennessee<br>Robbery rate=%{marker.size}<br># of guns per capita=%{y}<extra></extra>\", \"hovertext\": [\"Tennessee\"], \"legendgroup\": \"Tennessee\", \"marker\": {\"color\": \"#00cc96\", \"size\": [110.9], \"sizemode\": \"area\", \"sizeref\": 1.32675, \"symbol\": \"circle\"}, \"mode\": \"markers\", \"name\": \"Tennessee\", \"orientation\": \"v\", \"showlegend\": true, \"type\": \"scatter\", \"x\": [110.9], \"xaxis\": \"x\", \"y\": [14.76], \"yaxis\": \"y\"}, {\"hovertemplate\": \"<b>%{hovertext}</b><br><br>State=Texas<br>Robbery rate=%{marker.size}<br># of guns per capita=%{y}<extra></extra>\", \"hovertext\": [\"Texas\"], \"legendgroup\": \"Texas\", \"marker\": {\"color\": \"#ab63fa\", \"size\": [115.7], \"sizemode\": \"area\", \"sizeref\": 1.32675, \"symbol\": \"circle\"}, \"mode\": \"markers\", \"name\": \"Texas\", \"orientation\": \"v\", \"showlegend\": true, \"type\": \"scatter\", \"x\": [115.7], \"xaxis\": \"x\", \"y\": [20.79], \"yaxis\": \"y\"}, {\"hovertemplate\": \"<b>%{hovertext}</b><br><br>State=Utah<br>Robbery rate=%{marker.size}<br># of guns per capita=%{y}<extra></extra>\", \"hovertext\": [\"Utah\"], \"legendgroup\": \"Utah\", \"marker\": {\"color\": \"#FFA15A\", \"size\": [44.6], \"sizemode\": \"area\", \"sizeref\": 1.32675, \"symbol\": \"circle\"}, \"mode\": \"markers\", \"name\": \"Utah\", \"orientation\": \"v\", \"showlegend\": true, \"type\": \"scatter\", \"x\": [44.6], \"xaxis\": \"x\", \"y\": [23.48], \"yaxis\": \"y\"}, {\"hovertemplate\": \"<b>%{hovertext}</b><br><br>State=Vermont<br>Robbery rate=%{marker.size}<br># of guns per capita=%{y}<extra></extra>\", \"hovertext\": [\"Vermont\"], \"legendgroup\": \"Vermont\", \"marker\": {\"color\": \"#19d3f3\", \"size\": [11.2], \"sizemode\": \"area\", \"sizeref\": 1.32675, \"symbol\": \"circle\"}, \"mode\": \"markers\", \"name\": \"Vermont\", \"orientation\": \"v\", \"showlegend\": true, \"type\": \"scatter\", \"x\": [11.2], \"xaxis\": \"x\", \"y\": [9.41], \"yaxis\": \"y\"}, {\"hovertemplate\": \"<b>%{hovertext}</b><br><br>State=Virginia<br>Robbery rate=%{marker.size}<br># of guns per capita=%{y}<extra></extra>\", \"hovertext\": [\"Virginia\"], \"legendgroup\": \"Virginia\", \"marker\": {\"color\": \"#FF6692\", \"size\": [51.5], \"sizemode\": \"area\", \"sizeref\": 1.32675, \"symbol\": \"circle\"}, \"mode\": \"markers\", \"name\": \"Virginia\", \"orientation\": \"v\", \"showlegend\": true, \"type\": \"scatter\", \"x\": [51.5], \"xaxis\": \"x\", \"y\": [36.34], \"yaxis\": \"y\"}, {\"hovertemplate\": \"<b>%{hovertext}</b><br><br>State=Washington<br>Robbery rate=%{marker.size}<br># of guns per capita=%{y}<extra></extra>\", \"hovertext\": [\"Washington\"], \"legendgroup\": \"Washington\", \"marker\": {\"color\": \"#B6E880\", \"size\": [79.9], \"sizemode\": \"area\", \"sizeref\": 1.32675, \"symbol\": \"circle\"}, \"mode\": \"markers\", \"name\": \"Washington\", \"orientation\": \"v\", \"showlegend\": true, \"type\": \"scatter\", \"x\": [79.9], \"xaxis\": \"x\", \"y\": [12.4], \"yaxis\": \"y\"}, {\"hovertemplate\": \"<b>%{hovertext}</b><br><br>State=West_Virginia<br>Robbery rate=%{marker.size}<br># of guns per capita=%{y}<extra></extra>\", \"hovertext\": [\"West_Virginia\"], \"legendgroup\": \"West_Virginia\", \"marker\": {\"color\": \"#FF97FF\", \"size\": [35.2], \"sizemode\": \"area\", \"sizeref\": 1.32675, \"symbol\": \"circle\"}, \"mode\": \"markers\", \"name\": \"West_Virginia\", \"orientation\": \"v\", \"showlegend\": true, \"type\": \"scatter\", \"x\": [35.2], \"xaxis\": \"x\", \"y\": [19.42], \"yaxis\": \"y\"}, {\"hovertemplate\": \"<b>%{hovertext}</b><br><br>State=Wisconsin<br>Robbery rate=%{marker.size}<br># of guns per capita=%{y}<extra></extra>\", \"hovertext\": [\"Wisconsin\"], \"legendgroup\": \"Wisconsin\", \"marker\": {\"color\": \"#FECB52\", \"size\": [88.0], \"sizemode\": \"area\", \"sizeref\": 1.32675, \"symbol\": \"circle\"}, \"mode\": \"markers\", \"name\": \"Wisconsin\", \"orientation\": \"v\", \"showlegend\": true, \"type\": \"scatter\", \"x\": [88.0], \"xaxis\": \"x\", \"y\": [11.19], \"yaxis\": \"y\"}, {\"hovertemplate\": \"<b>%{hovertext}</b><br><br>State=Wyoming<br>Robbery rate=%{marker.size}<br># of guns per capita=%{y}<extra></extra>\", \"hovertext\": [\"Wyoming\"], \"legendgroup\": \"Wyoming\", \"marker\": {\"color\": \"#636efa\", \"size\": [9.1], \"sizemode\": \"area\", \"sizeref\": 1.32675, \"symbol\": \"circle\"}, \"mode\": \"markers\", \"name\": \"Wyoming\", \"orientation\": \"v\", \"showlegend\": true, \"type\": \"scatter\", \"x\": [9.1], \"xaxis\": \"x\", \"y\": [229.24], \"yaxis\": \"y\"}],\n",
       "                        {\"legend\": {\"itemsizing\": \"constant\", \"title\": {\"text\": \"State\"}, \"tracegroupgap\": 0}, \"template\": {\"data\": {\"bar\": [{\"error_x\": {\"color\": \"#2a3f5f\"}, \"error_y\": {\"color\": \"#2a3f5f\"}, \"marker\": {\"line\": {\"color\": \"#E5ECF6\", \"width\": 0.5}}, \"type\": \"bar\"}], \"barpolar\": [{\"marker\": {\"line\": {\"color\": \"#E5ECF6\", \"width\": 0.5}}, \"type\": \"barpolar\"}], \"carpet\": [{\"aaxis\": {\"endlinecolor\": \"#2a3f5f\", \"gridcolor\": \"white\", \"linecolor\": \"white\", \"minorgridcolor\": \"white\", \"startlinecolor\": \"#2a3f5f\"}, \"baxis\": {\"endlinecolor\": \"#2a3f5f\", \"gridcolor\": \"white\", \"linecolor\": \"white\", \"minorgridcolor\": \"white\", \"startlinecolor\": \"#2a3f5f\"}, \"type\": \"carpet\"}], \"choropleth\": [{\"colorbar\": {\"outlinewidth\": 0, \"ticks\": \"\"}, \"type\": \"choropleth\"}], \"contour\": [{\"colorbar\": {\"outlinewidth\": 0, \"ticks\": \"\"}, \"colorscale\": [[0.0, \"#0d0887\"], [0.1111111111111111, \"#46039f\"], [0.2222222222222222, \"#7201a8\"], [0.3333333333333333, \"#9c179e\"], [0.4444444444444444, \"#bd3786\"], [0.5555555555555556, \"#d8576b\"], [0.6666666666666666, \"#ed7953\"], [0.7777777777777778, \"#fb9f3a\"], [0.8888888888888888, \"#fdca26\"], [1.0, \"#f0f921\"]], \"type\": \"contour\"}], \"contourcarpet\": [{\"colorbar\": {\"outlinewidth\": 0, \"ticks\": \"\"}, \"type\": \"contourcarpet\"}], \"heatmap\": [{\"colorbar\": {\"outlinewidth\": 0, \"ticks\": \"\"}, \"colorscale\": [[0.0, \"#0d0887\"], [0.1111111111111111, \"#46039f\"], [0.2222222222222222, \"#7201a8\"], [0.3333333333333333, \"#9c179e\"], [0.4444444444444444, \"#bd3786\"], [0.5555555555555556, \"#d8576b\"], [0.6666666666666666, \"#ed7953\"], [0.7777777777777778, \"#fb9f3a\"], [0.8888888888888888, \"#fdca26\"], [1.0, \"#f0f921\"]], \"type\": \"heatmap\"}], \"heatmapgl\": [{\"colorbar\": {\"outlinewidth\": 0, \"ticks\": \"\"}, \"colorscale\": [[0.0, \"#0d0887\"], [0.1111111111111111, \"#46039f\"], [0.2222222222222222, \"#7201a8\"], [0.3333333333333333, \"#9c179e\"], [0.4444444444444444, \"#bd3786\"], [0.5555555555555556, \"#d8576b\"], [0.6666666666666666, \"#ed7953\"], [0.7777777777777778, \"#fb9f3a\"], [0.8888888888888888, \"#fdca26\"], [1.0, \"#f0f921\"]], \"type\": \"heatmapgl\"}], \"histogram\": [{\"marker\": {\"colorbar\": {\"outlinewidth\": 0, \"ticks\": \"\"}}, \"type\": \"histogram\"}], \"histogram2d\": [{\"colorbar\": {\"outlinewidth\": 0, \"ticks\": \"\"}, \"colorscale\": [[0.0, \"#0d0887\"], [0.1111111111111111, \"#46039f\"], [0.2222222222222222, \"#7201a8\"], [0.3333333333333333, \"#9c179e\"], [0.4444444444444444, \"#bd3786\"], [0.5555555555555556, \"#d8576b\"], [0.6666666666666666, \"#ed7953\"], [0.7777777777777778, \"#fb9f3a\"], [0.8888888888888888, \"#fdca26\"], [1.0, \"#f0f921\"]], \"type\": \"histogram2d\"}], \"histogram2dcontour\": [{\"colorbar\": {\"outlinewidth\": 0, \"ticks\": \"\"}, \"colorscale\": [[0.0, \"#0d0887\"], [0.1111111111111111, \"#46039f\"], [0.2222222222222222, \"#7201a8\"], [0.3333333333333333, \"#9c179e\"], [0.4444444444444444, \"#bd3786\"], [0.5555555555555556, \"#d8576b\"], [0.6666666666666666, \"#ed7953\"], [0.7777777777777778, \"#fb9f3a\"], [0.8888888888888888, \"#fdca26\"], [1.0, \"#f0f921\"]], \"type\": \"histogram2dcontour\"}], \"mesh3d\": [{\"colorbar\": {\"outlinewidth\": 0, \"ticks\": \"\"}, \"type\": \"mesh3d\"}], \"parcoords\": [{\"line\": {\"colorbar\": {\"outlinewidth\": 0, \"ticks\": \"\"}}, \"type\": \"parcoords\"}], \"pie\": [{\"automargin\": true, \"type\": \"pie\"}], \"scatter\": [{\"marker\": {\"colorbar\": {\"outlinewidth\": 0, \"ticks\": \"\"}}, \"type\": \"scatter\"}], \"scatter3d\": [{\"line\": {\"colorbar\": {\"outlinewidth\": 0, \"ticks\": \"\"}}, \"marker\": {\"colorbar\": {\"outlinewidth\": 0, \"ticks\": \"\"}}, \"type\": \"scatter3d\"}], \"scattercarpet\": [{\"marker\": {\"colorbar\": {\"outlinewidth\": 0, \"ticks\": \"\"}}, \"type\": \"scattercarpet\"}], \"scattergeo\": [{\"marker\": {\"colorbar\": {\"outlinewidth\": 0, \"ticks\": \"\"}}, \"type\": \"scattergeo\"}], \"scattergl\": [{\"marker\": {\"colorbar\": {\"outlinewidth\": 0, \"ticks\": \"\"}}, \"type\": \"scattergl\"}], \"scattermapbox\": [{\"marker\": {\"colorbar\": {\"outlinewidth\": 0, \"ticks\": \"\"}}, \"type\": \"scattermapbox\"}], \"scatterpolar\": [{\"marker\": {\"colorbar\": {\"outlinewidth\": 0, \"ticks\": \"\"}}, \"type\": \"scatterpolar\"}], \"scatterpolargl\": [{\"marker\": {\"colorbar\": {\"outlinewidth\": 0, \"ticks\": \"\"}}, \"type\": \"scatterpolargl\"}], \"scatterternary\": [{\"marker\": {\"colorbar\": {\"outlinewidth\": 0, \"ticks\": \"\"}}, \"type\": \"scatterternary\"}], \"surface\": [{\"colorbar\": {\"outlinewidth\": 0, \"ticks\": \"\"}, \"colorscale\": [[0.0, \"#0d0887\"], [0.1111111111111111, \"#46039f\"], [0.2222222222222222, \"#7201a8\"], [0.3333333333333333, \"#9c179e\"], [0.4444444444444444, \"#bd3786\"], [0.5555555555555556, \"#d8576b\"], [0.6666666666666666, \"#ed7953\"], [0.7777777777777778, \"#fb9f3a\"], [0.8888888888888888, \"#fdca26\"], [1.0, \"#f0f921\"]], \"type\": \"surface\"}], \"table\": [{\"cells\": {\"fill\": {\"color\": \"#EBF0F8\"}, \"line\": {\"color\": \"white\"}}, \"header\": {\"fill\": {\"color\": \"#C8D4E3\"}, \"line\": {\"color\": \"white\"}}, \"type\": \"table\"}]}, \"layout\": {\"annotationdefaults\": {\"arrowcolor\": \"#2a3f5f\", \"arrowhead\": 0, \"arrowwidth\": 1}, \"coloraxis\": {\"colorbar\": {\"outlinewidth\": 0, \"ticks\": \"\"}}, \"colorscale\": {\"diverging\": [[0, \"#8e0152\"], [0.1, \"#c51b7d\"], [0.2, \"#de77ae\"], [0.3, \"#f1b6da\"], [0.4, \"#fde0ef\"], [0.5, \"#f7f7f7\"], [0.6, \"#e6f5d0\"], [0.7, \"#b8e186\"], [0.8, \"#7fbc41\"], [0.9, \"#4d9221\"], [1, \"#276419\"]], \"sequential\": [[0.0, \"#0d0887\"], [0.1111111111111111, \"#46039f\"], [0.2222222222222222, \"#7201a8\"], [0.3333333333333333, \"#9c179e\"], [0.4444444444444444, \"#bd3786\"], [0.5555555555555556, \"#d8576b\"], [0.6666666666666666, \"#ed7953\"], [0.7777777777777778, \"#fb9f3a\"], [0.8888888888888888, \"#fdca26\"], [1.0, \"#f0f921\"]], \"sequentialminus\": [[0.0, \"#0d0887\"], [0.1111111111111111, \"#46039f\"], [0.2222222222222222, \"#7201a8\"], [0.3333333333333333, \"#9c179e\"], [0.4444444444444444, \"#bd3786\"], [0.5555555555555556, \"#d8576b\"], [0.6666666666666666, \"#ed7953\"], [0.7777777777777778, \"#fb9f3a\"], [0.8888888888888888, \"#fdca26\"], [1.0, \"#f0f921\"]]}, \"colorway\": [\"#636efa\", \"#EF553B\", \"#00cc96\", \"#ab63fa\", \"#FFA15A\", \"#19d3f3\", \"#FF6692\", \"#B6E880\", \"#FF97FF\", \"#FECB52\"], \"font\": {\"color\": \"#2a3f5f\"}, \"geo\": {\"bgcolor\": \"white\", \"lakecolor\": \"white\", \"landcolor\": \"#E5ECF6\", \"showlakes\": true, \"showland\": true, \"subunitcolor\": \"white\"}, \"hoverlabel\": {\"align\": \"left\"}, \"hovermode\": \"closest\", \"mapbox\": {\"style\": \"light\"}, \"paper_bgcolor\": \"white\", \"plot_bgcolor\": \"#E5ECF6\", \"polar\": {\"angularaxis\": {\"gridcolor\": \"white\", \"linecolor\": \"white\", \"ticks\": \"\"}, \"bgcolor\": \"#E5ECF6\", \"radialaxis\": {\"gridcolor\": \"white\", \"linecolor\": \"white\", \"ticks\": \"\"}}, \"scene\": {\"xaxis\": {\"backgroundcolor\": \"#E5ECF6\", \"gridcolor\": \"white\", \"gridwidth\": 2, \"linecolor\": \"white\", \"showbackground\": true, \"ticks\": \"\", \"zerolinecolor\": \"white\"}, \"yaxis\": {\"backgroundcolor\": \"#E5ECF6\", \"gridcolor\": \"white\", \"gridwidth\": 2, \"linecolor\": \"white\", \"showbackground\": true, \"ticks\": \"\", \"zerolinecolor\": \"white\"}, \"zaxis\": {\"backgroundcolor\": \"#E5ECF6\", \"gridcolor\": \"white\", \"gridwidth\": 2, \"linecolor\": \"white\", \"showbackground\": true, \"ticks\": \"\", \"zerolinecolor\": \"white\"}}, \"shapedefaults\": {\"line\": {\"color\": \"#2a3f5f\"}}, \"ternary\": {\"aaxis\": {\"gridcolor\": \"white\", \"linecolor\": \"white\", \"ticks\": \"\"}, \"baxis\": {\"gridcolor\": \"white\", \"linecolor\": \"white\", \"ticks\": \"\"}, \"bgcolor\": \"#E5ECF6\", \"caxis\": {\"gridcolor\": \"white\", \"linecolor\": \"white\", \"ticks\": \"\"}}, \"title\": {\"x\": 0.05}, \"xaxis\": {\"automargin\": true, \"gridcolor\": \"white\", \"linecolor\": \"white\", \"ticks\": \"\", \"title\": {\"standoff\": 15}, \"zerolinecolor\": \"white\", \"zerolinewidth\": 2}, \"yaxis\": {\"automargin\": true, \"gridcolor\": \"white\", \"linecolor\": \"white\", \"ticks\": \"\", \"title\": {\"standoff\": 15}, \"zerolinecolor\": \"white\", \"zerolinewidth\": 2}}}, \"title\": {\"text\": \"Robbery Rate in the US\"}, \"xaxis\": {\"anchor\": \"y\", \"domain\": [0.0, 1.0], \"title\": {\"text\": \"Robbery rate\"}}, \"yaxis\": {\"anchor\": \"x\", \"domain\": [0.0, 1.0], \"title\": {\"text\": \"# of guns per capita\"}}},\n",
       "                        {\"responsive\": true}\n",
       "                    ).then(function(){\n",
       "                            \n",
       "var gd = document.getElementById('aedfe339-f789-47d2-84f3-3c6415e20342');\n",
       "var x = new MutationObserver(function (mutations, observer) {{\n",
       "        var display = window.getComputedStyle(gd).display;\n",
       "        if (!display || display === 'none') {{\n",
       "            console.log([gd, 'removed!']);\n",
       "            Plotly.purge(gd);\n",
       "            observer.disconnect();\n",
       "        }}\n",
       "}});\n",
       "\n",
       "// Listen for the removal of the full notebook cells\n",
       "var notebookContainer = gd.closest('#notebook-container');\n",
       "if (notebookContainer) {{\n",
       "    x.observe(notebookContainer, {childList: true});\n",
       "}}\n",
       "\n",
       "// Listen for the clearing of the current output cell\n",
       "var outputEl = gd.closest('.output');\n",
       "if (outputEl) {{\n",
       "    x.observe(outputEl, {childList: true});\n",
       "}}\n",
       "\n",
       "                        })\n",
       "                };\n",
       "                });\n",
       "            </script>\n",
       "        </div>"
      ]
     },
     "metadata": {},
     "output_type": "display_data"
    }
   ],
   "source": [
    "import plotly.express as px\n",
    "\n",
    "combined_data_df = pd.merge(robbery_2014_df,gun_ownership_per_capita_df,on=\"State\")\n",
    "\n",
    "import plotly.express as px\n",
    "\n",
    "fig = px.scatter(combined_data_df,\n",
    "                 x=\"Robbery rate\", \n",
    "                 y=\"# of guns per capita\",\n",
    "                 size=\"Robbery rate\", \n",
    "                 color=\"State\",\n",
    "                 hover_name=\"State\",\n",
    "                 title=\"Robbery Rate in the US\"\n",
    "                )\n",
    "fig.show()"
   ]
  },
  {
   "cell_type": "code",
   "execution_count": 103,
   "metadata": {},
   "outputs": [
    {
     "data": {
      "application/vnd.plotly.v1+json": {
       "config": {
        "plotlyServerURL": "https://plot.ly"
       },
       "data": [
        {
         "hovertemplate": "<b>%{hovertext}</b><br><br>State=Alabama<br>Motor vehicle theft rate=%{marker.size}<br># of guns per capita=%{y}<extra></extra>",
         "hovertext": [
          "Alabama"
         ],
         "legendgroup": "Alabama",
         "marker": {
          "color": "#636efa",
          "size": [
           209.1
          ],
          "sizemode": "area",
          "sizeref": 1.4352500000000001,
          "symbol": "circle"
         },
         "mode": "markers",
         "name": "Alabama",
         "orientation": "v",
         "showlegend": true,
         "type": "scatter",
         "x": [
          209.1
         ],
         "xaxis": "x",
         "y": [
          33.15
         ],
         "yaxis": "y"
        },
        {
         "hovertemplate": "<b>%{hovertext}</b><br><br>State=Alaska<br>Motor vehicle theft rate=%{marker.size}<br># of guns per capita=%{y}<extra></extra>",
         "hovertext": [
          "Alaska"
         ],
         "legendgroup": "Alaska",
         "marker": {
          "color": "#EF553B",
          "size": [
           236
          ],
          "sizemode": "area",
          "sizeref": 1.4352500000000001,
          "symbol": "circle"
         },
         "mode": "markers",
         "name": "Alaska",
         "orientation": "v",
         "showlegend": true,
         "type": "scatter",
         "x": [
          236
         ],
         "xaxis": "x",
         "y": [
          21.38
         ],
         "yaxis": "y"
        },
        {
         "hovertemplate": "<b>%{hovertext}</b><br><br>State=Arizona<br>Motor vehicle theft rate=%{marker.size}<br># of guns per capita=%{y}<extra></extra>",
         "hovertext": [
          "Arizona"
         ],
         "legendgroup": "Arizona",
         "marker": {
          "color": "#00cc96",
          "size": [
           261.3
          ],
          "sizemode": "area",
          "sizeref": 1.4352500000000001,
          "symbol": "circle"
         },
         "mode": "markers",
         "name": "Arizona",
         "orientation": "v",
         "showlegend": true,
         "type": "scatter",
         "x": [
          261.3
         ],
         "xaxis": "x",
         "y": [
          25.61
         ],
         "yaxis": "y"
        },
        {
         "hovertemplate": "<b>%{hovertext}</b><br><br>State=Arkansas<br>Motor vehicle theft rate=%{marker.size}<br># of guns per capita=%{y}<extra></extra>",
         "hovertext": [
          "Arkansas"
         ],
         "legendgroup": "Arkansas",
         "marker": {
          "color": "#ab63fa",
          "size": [
           188.8
          ],
          "sizemode": "area",
          "sizeref": 1.4352500000000001,
          "symbol": "circle"
         },
         "mode": "markers",
         "name": "Arkansas",
         "orientation": "v",
         "showlegend": true,
         "type": "scatter",
         "x": [
          188.8
         ],
         "xaxis": "x",
         "y": [
          26.57
         ],
         "yaxis": "y"
        },
        {
         "hovertemplate": "<b>%{hovertext}</b><br><br>State=California<br>Motor vehicle theft rate=%{marker.size}<br># of guns per capita=%{y}<extra></extra>",
         "hovertext": [
          "California"
         ],
         "legendgroup": "California",
         "marker": {
          "color": "#FFA15A",
          "size": [
           391.3
          ],
          "sizemode": "area",
          "sizeref": 1.4352500000000001,
          "symbol": "circle"
         },
         "mode": "markers",
         "name": "California",
         "orientation": "v",
         "showlegend": true,
         "type": "scatter",
         "x": [
          391.3
         ],
         "xaxis": "x",
         "y": [
          8.71
         ],
         "yaxis": "y"
        },
        {
         "hovertemplate": "<b>%{hovertext}</b><br><br>State=Colorado<br>Motor vehicle theft rate=%{marker.size}<br># of guns per capita=%{y}<extra></extra>",
         "hovertext": [
          "Colorado"
         ],
         "legendgroup": "Colorado",
         "marker": {
          "color": "#19d3f3",
          "size": [
           234.8
          ],
          "sizemode": "area",
          "sizeref": 1.4352500000000001,
          "symbol": "circle"
         },
         "mode": "markers",
         "name": "Colorado",
         "orientation": "v",
         "showlegend": true,
         "type": "scatter",
         "x": [
          234.8
         ],
         "xaxis": "x",
         "y": [
          16.48
         ],
         "yaxis": "y"
        },
        {
         "hovertemplate": "<b>%{hovertext}</b><br><br>State=Connecticut<br>Motor vehicle theft rate=%{marker.size}<br># of guns per capita=%{y}<extra></extra>",
         "hovertext": [
          "Connecticut"
         ],
         "legendgroup": "Connecticut",
         "marker": {
          "color": "#FF6692",
          "size": [
           169.9
          ],
          "sizemode": "area",
          "sizeref": 1.4352500000000001,
          "symbol": "circle"
         },
         "mode": "markers",
         "name": "Connecticut",
         "orientation": "v",
         "showlegend": true,
         "type": "scatter",
         "x": [
          169.9
         ],
         "xaxis": "x",
         "y": [
          22.96
         ],
         "yaxis": "y"
        },
        {
         "hovertemplate": "<b>%{hovertext}</b><br><br>State=DC<br>Motor vehicle theft rate=%{marker.size}<br># of guns per capita=%{y}<extra></extra>",
         "hovertext": [
          "DC"
         ],
         "legendgroup": "DC",
         "marker": {
          "color": "#B6E880",
          "size": [
           574.1
          ],
          "sizemode": "area",
          "sizeref": 1.4352500000000001,
          "symbol": "circle"
         },
         "mode": "markers",
         "name": "DC",
         "orientation": "v",
         "showlegend": true,
         "type": "scatter",
         "x": [
          574.1
         ],
         "xaxis": "x",
         "y": [
          68.05
         ],
         "yaxis": "y"
        },
        {
         "hovertemplate": "<b>%{hovertext}</b><br><br>State=Delaware<br>Motor vehicle theft rate=%{marker.size}<br># of guns per capita=%{y}<extra></extra>",
         "hovertext": [
          "Delaware"
         ],
         "legendgroup": "Delaware",
         "marker": {
          "color": "#FF97FF",
          "size": [
           135.4
          ],
          "sizemode": "area",
          "sizeref": 1.4352500000000001,
          "symbol": "circle"
         },
         "mode": "markers",
         "name": "Delaware",
         "orientation": "v",
         "showlegend": true,
         "type": "scatter",
         "x": [
          135.4
         ],
         "xaxis": "x",
         "y": [
          5.04
         ],
         "yaxis": "y"
        },
        {
         "hovertemplate": "<b>%{hovertext}</b><br><br>State=Florida<br>Motor vehicle theft rate=%{marker.size}<br># of guns per capita=%{y}<extra></extra>",
         "hovertext": [
          "Florida"
         ],
         "legendgroup": "Florida",
         "marker": {
          "color": "#FECB52",
          "size": [
           214
          ],
          "sizemode": "area",
          "sizeref": 1.4352500000000001,
          "symbol": "circle"
         },
         "mode": "markers",
         "name": "Florida",
         "orientation": "v",
         "showlegend": true,
         "type": "scatter",
         "x": [
          214
         ],
         "xaxis": "x",
         "y": [
          16.35
         ],
         "yaxis": "y"
        },
        {
         "hovertemplate": "<b>%{hovertext}</b><br><br>State=Georgia<br>Motor vehicle theft rate=%{marker.size}<br># of guns per capita=%{y}<extra></extra>",
         "hovertext": [
          "Georgia"
         ],
         "legendgroup": "Georgia",
         "marker": {
          "color": "#636efa",
          "size": [
           266
          ],
          "sizemode": "area",
          "sizeref": 1.4352500000000001,
          "symbol": "circle"
         },
         "mode": "markers",
         "name": "Georgia",
         "orientation": "v",
         "showlegend": true,
         "type": "scatter",
         "x": [
          266
         ],
         "xaxis": "x",
         "y": [
          18.22
         ],
         "yaxis": "y"
        },
        {
         "hovertemplate": "<b>%{hovertext}</b><br><br>State=Hawaii<br>Motor vehicle theft rate=%{marker.size}<br># of guns per capita=%{y}<extra></extra>",
         "hovertext": [
          "Hawaii"
         ],
         "legendgroup": "Hawaii",
         "marker": {
          "color": "#EF553B",
          "size": [
           273.3
          ],
          "sizemode": "area",
          "sizeref": 1.4352500000000001,
          "symbol": "circle"
         },
         "mode": "markers",
         "name": "Hawaii",
         "orientation": "v",
         "showlegend": true,
         "type": "scatter",
         "x": [
          273.3
         ],
         "xaxis": "x",
         "y": [
          5.5
         ],
         "yaxis": "y"
        },
        {
         "hovertemplate": "<b>%{hovertext}</b><br><br>State=Idaho<br>Motor vehicle theft rate=%{marker.size}<br># of guns per capita=%{y}<extra></extra>",
         "hovertext": [
          "Idaho"
         ],
         "legendgroup": "Idaho",
         "marker": {
          "color": "#00cc96",
          "size": [
           101.6
          ],
          "sizemode": "area",
          "sizeref": 1.4352500000000001,
          "symbol": "circle"
         },
         "mode": "markers",
         "name": "Idaho",
         "orientation": "v",
         "showlegend": true,
         "type": "scatter",
         "x": [
          101.6
         ],
         "xaxis": "x",
         "y": [
          28.86
         ],
         "yaxis": "y"
        },
        {
         "hovertemplate": "<b>%{hovertext}</b><br><br>State=Illinois<br>Motor vehicle theft rate=%{marker.size}<br># of guns per capita=%{y}<extra></extra>",
         "hovertext": [
          "Illinois"
         ],
         "legendgroup": "Illinois",
         "marker": {
          "color": "#ab63fa",
          "size": [
           135.5
          ],
          "sizemode": "area",
          "sizeref": 1.4352500000000001,
          "symbol": "circle"
         },
         "mode": "markers",
         "name": "Illinois",
         "orientation": "v",
         "showlegend": true,
         "type": "scatter",
         "x": [
          135.5
         ],
         "xaxis": "x",
         "y": [
          11.44
         ],
         "yaxis": "y"
        },
        {
         "hovertemplate": "<b>%{hovertext}</b><br><br>State=Indiana<br>Motor vehicle theft rate=%{marker.size}<br># of guns per capita=%{y}<extra></extra>",
         "hovertext": [
          "Indiana"
         ],
         "legendgroup": "Indiana",
         "marker": {
          "color": "#FFA15A",
          "size": [
           210.1
          ],
          "sizemode": "area",
          "sizeref": 1.4352500000000001,
          "symbol": "circle"
         },
         "mode": "markers",
         "name": "Indiana",
         "orientation": "v",
         "showlegend": true,
         "type": "scatter",
         "x": [
          210.1
         ],
         "xaxis": "x",
         "y": [
          17.1
         ],
         "yaxis": "y"
        },
        {
         "hovertemplate": "<b>%{hovertext}</b><br><br>State=Iowa<br>Motor vehicle theft rate=%{marker.size}<br># of guns per capita=%{y}<extra></extra>",
         "hovertext": [
          "Iowa"
         ],
         "legendgroup": "Iowa",
         "marker": {
          "color": "#19d3f3",
          "size": [
           133.6
          ],
          "sizemode": "area",
          "sizeref": 1.4352500000000001,
          "symbol": "circle"
         },
         "mode": "markers",
         "name": "Iowa",
         "orientation": "v",
         "showlegend": true,
         "type": "scatter",
         "x": [
          133.6
         ],
         "xaxis": "x",
         "y": [
          9.05
         ],
         "yaxis": "y"
        },
        {
         "hovertemplate": "<b>%{hovertext}</b><br><br>State=Kansas<br>Motor vehicle theft rate=%{marker.size}<br># of guns per capita=%{y}<extra></extra>",
         "hovertext": [
          "Kansas"
         ],
         "legendgroup": "Kansas",
         "marker": {
          "color": "#FF6692",
          "size": [
           237.8
          ],
          "sizemode": "area",
          "sizeref": 1.4352500000000001,
          "symbol": "circle"
         },
         "mode": "markers",
         "name": "Kansas",
         "orientation": "v",
         "showlegend": true,
         "type": "scatter",
         "x": [
          237.8
         ],
         "xaxis": "x",
         "y": [
          18.06
         ],
         "yaxis": "y"
        },
        {
         "hovertemplate": "<b>%{hovertext}</b><br><br>State=Kentucky<br>Motor vehicle theft rate=%{marker.size}<br># of guns per capita=%{y}<extra></extra>",
         "hovertext": [
          "Kentucky"
         ],
         "legendgroup": "Kentucky",
         "marker": {
          "color": "#B6E880",
          "size": [
           143.2
          ],
          "sizemode": "area",
          "sizeref": 1.4352500000000001,
          "symbol": "circle"
         },
         "mode": "markers",
         "name": "Kentucky",
         "orientation": "v",
         "showlegend": true,
         "type": "scatter",
         "x": [
          143.2
         ],
         "xaxis": "x",
         "y": [
          18.2
         ],
         "yaxis": "y"
        },
        {
         "hovertemplate": "<b>%{hovertext}</b><br><br>State=Louisiana<br>Motor vehicle theft rate=%{marker.size}<br># of guns per capita=%{y}<extra></extra>",
         "hovertext": [
          "Louisiana"
         ],
         "legendgroup": "Louisiana",
         "marker": {
          "color": "#FF97FF",
          "size": [
           212.7
          ],
          "sizemode": "area",
          "sizeref": 1.4352500000000001,
          "symbol": "circle"
         },
         "mode": "markers",
         "name": "Louisiana",
         "orientation": "v",
         "showlegend": true,
         "type": "scatter",
         "x": [
          212.7
         ],
         "xaxis": "x",
         "y": [
          24.94
         ],
         "yaxis": "y"
        },
        {
         "hovertemplate": "<b>%{hovertext}</b><br><br>State=Maine<br>Motor vehicle theft rate=%{marker.size}<br># of guns per capita=%{y}<extra></extra>",
         "hovertext": [
          "Maine"
         ],
         "legendgroup": "Maine",
         "marker": {
          "color": "#FECB52",
          "size": [
           60.1
          ],
          "sizemode": "area",
          "sizeref": 1.4352500000000001,
          "symbol": "circle"
         },
         "mode": "markers",
         "name": "Maine",
         "orientation": "v",
         "showlegend": true,
         "type": "scatter",
         "x": [
          60.1
         ],
         "xaxis": "x",
         "y": [
          11.5
         ],
         "yaxis": "y"
        },
        {
         "hovertemplate": "<b>%{hovertext}</b><br><br>State=Maryland<br>Motor vehicle theft rate=%{marker.size}<br># of guns per capita=%{y}<extra></extra>",
         "hovertext": [
          "Maryland"
         ],
         "legendgroup": "Maryland",
         "marker": {
          "color": "#636efa",
          "size": [
           219.2
          ],
          "sizemode": "area",
          "sizeref": 1.4352500000000001,
          "symbol": "circle"
         },
         "mode": "markers",
         "name": "Maryland",
         "orientation": "v",
         "showlegend": true,
         "type": "scatter",
         "x": [
          219.2
         ],
         "xaxis": "x",
         "y": [
          17.03
         ],
         "yaxis": "y"
        },
        {
         "hovertemplate": "<b>%{hovertext}</b><br><br>State=Massachusetts<br>Motor vehicle theft rate=%{marker.size}<br># of guns per capita=%{y}<extra></extra>",
         "hovertext": [
          "Massachusetts"
         ],
         "legendgroup": "Massachusetts",
         "marker": {
          "color": "#EF553B",
          "size": [
           122.5
          ],
          "sizemode": "area",
          "sizeref": 1.4352500000000001,
          "symbol": "circle"
         },
         "mode": "markers",
         "name": "Massachusetts",
         "orientation": "v",
         "showlegend": true,
         "type": "scatter",
         "x": [
          122.5
         ],
         "xaxis": "x",
         "y": [
          5.41
         ],
         "yaxis": "y"
        },
        {
         "hovertemplate": "<b>%{hovertext}</b><br><br>State=Michigan<br>Motor vehicle theft rate=%{marker.size}<br># of guns per capita=%{y}<extra></extra>",
         "hovertext": [
          "Michigan"
         ],
         "legendgroup": "Michigan",
         "marker": {
          "color": "#00cc96",
          "size": [
           213.5
          ],
          "sizemode": "area",
          "sizeref": 1.4352500000000001,
          "symbol": "circle"
         },
         "mode": "markers",
         "name": "Michigan",
         "orientation": "v",
         "showlegend": true,
         "type": "scatter",
         "x": [
          213.5
         ],
         "xaxis": "x",
         "y": [
          6.59
         ],
         "yaxis": "y"
        },
        {
         "hovertemplate": "<b>%{hovertext}</b><br><br>State=Minnesota<br>Motor vehicle theft rate=%{marker.size}<br># of guns per capita=%{y}<extra></extra>",
         "hovertext": [
          "Minnesota"
         ],
         "legendgroup": "Minnesota",
         "marker": {
          "color": "#ab63fa",
          "size": [
           153.3
          ],
          "sizemode": "area",
          "sizeref": 1.4352500000000001,
          "symbol": "circle"
         },
         "mode": "markers",
         "name": "Minnesota",
         "orientation": "v",
         "showlegend": true,
         "type": "scatter",
         "x": [
          153.3
         ],
         "xaxis": "x",
         "y": [
          14.22
         ],
         "yaxis": "y"
        },
        {
         "hovertemplate": "<b>%{hovertext}</b><br><br>State=Mississippi<br>Motor vehicle theft rate=%{marker.size}<br># of guns per capita=%{y}<extra></extra>",
         "hovertext": [
          "Mississippi"
         ],
         "legendgroup": "Mississippi",
         "marker": {
          "color": "#FFA15A",
          "size": [
           150.9
          ],
          "sizemode": "area",
          "sizeref": 1.4352500000000001,
          "symbol": "circle"
         },
         "mode": "markers",
         "name": "Mississippi",
         "orientation": "v",
         "showlegend": true,
         "type": "scatter",
         "x": [
          150.9
         ],
         "xaxis": "x",
         "y": [
          11.89
         ],
         "yaxis": "y"
        },
        {
         "hovertemplate": "<b>%{hovertext}</b><br><br>State=Missouri<br>Motor vehicle theft rate=%{marker.size}<br># of guns per capita=%{y}<extra></extra>",
         "hovertext": [
          "Missouri"
         ],
         "legendgroup": "Missouri",
         "marker": {
          "color": "#19d3f3",
          "size": [
           269.8
          ],
          "sizemode": "area",
          "sizeref": 1.4352500000000001,
          "symbol": "circle"
         },
         "mode": "markers",
         "name": "Missouri",
         "orientation": "v",
         "showlegend": true,
         "type": "scatter",
         "x": [
          269.8
         ],
         "xaxis": "x",
         "y": [
          11.94
         ],
         "yaxis": "y"
        },
        {
         "hovertemplate": "<b>%{hovertext}</b><br><br>State=Montana<br>Motor vehicle theft rate=%{marker.size}<br># of guns per capita=%{y}<extra></extra>",
         "hovertext": [
          "Montana"
         ],
         "legendgroup": "Montana",
         "marker": {
          "color": "#FF6692",
          "size": [
           199.6
          ],
          "sizemode": "area",
          "sizeref": 1.4352500000000001,
          "symbol": "circle"
         },
         "mode": "markers",
         "name": "Montana",
         "orientation": "v",
         "showlegend": true,
         "type": "scatter",
         "x": [
          199.6
         ],
         "xaxis": "x",
         "y": [
          21.06
         ],
         "yaxis": "y"
        },
        {
         "hovertemplate": "<b>%{hovertext}</b><br><br>State=Nebraska<br>Motor vehicle theft rate=%{marker.size}<br># of guns per capita=%{y}<extra></extra>",
         "hovertext": [
          "Nebraska"
         ],
         "legendgroup": "Nebraska",
         "marker": {
          "color": "#B6E880",
          "size": [
           236.8
          ],
          "sizemode": "area",
          "sizeref": 1.4352500000000001,
          "symbol": "circle"
         },
         "mode": "markers",
         "name": "Nebraska",
         "orientation": "v",
         "showlegend": true,
         "type": "scatter",
         "x": [
          236.8
         ],
         "xaxis": "x",
         "y": [
          11.57
         ],
         "yaxis": "y"
        },
        {
         "hovertemplate": "<b>%{hovertext}</b><br><br>State=Nevada<br>Motor vehicle theft rate=%{marker.size}<br># of guns per capita=%{y}<extra></extra>",
         "hovertext": [
          "Nevada"
         ],
         "legendgroup": "Nevada",
         "marker": {
          "color": "#FF97FF",
          "size": [
           358.7
          ],
          "sizemode": "area",
          "sizeref": 1.4352500000000001,
          "symbol": "circle"
         },
         "mode": "markers",
         "name": "Nevada",
         "orientation": "v",
         "showlegend": true,
         "type": "scatter",
         "x": [
          358.7
         ],
         "xaxis": "x",
         "y": [
          25.64
         ],
         "yaxis": "y"
        },
        {
         "hovertemplate": "<b>%{hovertext}</b><br><br>State=New_Hampshire<br>Motor vehicle theft rate=%{marker.size}<br># of guns per capita=%{y}<extra></extra>",
         "hovertext": [
          "New_Hampshire"
         ],
         "legendgroup": "New_Hampshire",
         "marker": {
          "color": "#FECB52",
          "size": [
           64.6
          ],
          "sizemode": "area",
          "sizeref": 1.4352500000000001,
          "symbol": "circle"
         },
         "mode": "markers",
         "name": "New_Hampshire",
         "orientation": "v",
         "showlegend": true,
         "type": "scatter",
         "x": [
          64.6
         ],
         "xaxis": "x",
         "y": [
          46.76
         ],
         "yaxis": "y"
        },
        {
         "hovertemplate": "<b>%{hovertext}</b><br><br>State=New_Jersey<br>Motor vehicle theft rate=%{marker.size}<br># of guns per capita=%{y}<extra></extra>",
         "hovertext": [
          "New_Jersey"
         ],
         "legendgroup": "New_Jersey",
         "marker": {
          "color": "#636efa",
          "size": [
           131
          ],
          "sizemode": "area",
          "sizeref": 1.4352500000000001,
          "symbol": "circle"
         },
         "mode": "markers",
         "name": "New_Jersey",
         "orientation": "v",
         "showlegend": true,
         "type": "scatter",
         "x": [
          131
         ],
         "xaxis": "x",
         "y": [
          6.38
         ],
         "yaxis": "y"
        },
        {
         "hovertemplate": "<b>%{hovertext}</b><br><br>State=New_Mexico<br>Motor vehicle theft rate=%{marker.size}<br># of guns per capita=%{y}<extra></extra>",
         "hovertext": [
          "New_Mexico"
         ],
         "legendgroup": "New_Mexico",
         "marker": {
          "color": "#EF553B",
          "size": [
           301.6
          ],
          "sizemode": "area",
          "sizeref": 1.4352500000000001,
          "symbol": "circle"
         },
         "mode": "markers",
         "name": "New_Mexico",
         "orientation": "v",
         "showlegend": true,
         "type": "scatter",
         "x": [
          301.6
         ],
         "xaxis": "x",
         "y": [
          46.73
         ],
         "yaxis": "y"
        },
        {
         "hovertemplate": "<b>%{hovertext}</b><br><br>State=New_York<br>Motor vehicle theft rate=%{marker.size}<br># of guns per capita=%{y}<extra></extra>",
         "hovertext": [
          "New_York"
         ],
         "legendgroup": "New_York",
         "marker": {
          "color": "#00cc96",
          "size": [
           79.7
          ],
          "sizemode": "area",
          "sizeref": 1.4352500000000001,
          "symbol": "circle"
         },
         "mode": "markers",
         "name": "New_York",
         "orientation": "v",
         "showlegend": true,
         "type": "scatter",
         "x": [
          79.7
         ],
         "xaxis": "x",
         "y": [
          3.83
         ],
         "yaxis": "y"
        },
        {
         "hovertemplate": "<b>%{hovertext}</b><br><br>State=North_Carolina<br>Motor vehicle theft rate=%{marker.size}<br># of guns per capita=%{y}<extra></extra>",
         "hovertext": [
          "North_Carolina"
         ],
         "legendgroup": "North_Carolina",
         "marker": {
          "color": "#ab63fa",
          "size": [
           137.1
          ],
          "sizemode": "area",
          "sizeref": 1.4352500000000001,
          "symbol": "circle"
         },
         "mode": "markers",
         "name": "North_Carolina",
         "orientation": "v",
         "showlegend": true,
         "type": "scatter",
         "x": [
          137.1
         ],
         "xaxis": "x",
         "y": [
          14.818
         ],
         "yaxis": "y"
        },
        {
         "hovertemplate": "<b>%{hovertext}</b><br><br>State=North_Dakota<br>Motor vehicle theft rate=%{marker.size}<br># of guns per capita=%{y}<extra></extra>",
         "hovertext": [
          "North_Dakota"
         ],
         "legendgroup": "North_Dakota",
         "marker": {
          "color": "#FFA15A",
          "size": [
           204.7
          ],
          "sizemode": "area",
          "sizeref": 1.4352500000000001,
          "symbol": "circle"
         },
         "mode": "markers",
         "name": "North_Dakota",
         "orientation": "v",
         "showlegend": true,
         "type": "scatter",
         "x": [
          204.7
         ],
         "xaxis": "x",
         "y": [
          17.56
         ],
         "yaxis": "y"
        },
        {
         "hovertemplate": "<b>%{hovertext}</b><br><br>State=Ohio<br>Motor vehicle theft rate=%{marker.size}<br># of guns per capita=%{y}<extra></extra>",
         "hovertext": [
          "Ohio"
         ],
         "legendgroup": "Ohio",
         "marker": {
          "color": "#19d3f3",
          "size": [
           155.4
          ],
          "sizemode": "area",
          "sizeref": 1.4352500000000001,
          "symbol": "circle"
         },
         "mode": "markers",
         "name": "Ohio",
         "orientation": "v",
         "showlegend": true,
         "type": "scatter",
         "x": [
          155.4
         ],
         "xaxis": "x",
         "y": [
          14.87
         ],
         "yaxis": "y"
        },
        {
         "hovertemplate": "<b>%{hovertext}</b><br><br>State=Oklahoma<br>Motor vehicle theft rate=%{marker.size}<br># of guns per capita=%{y}<extra></extra>",
         "hovertext": [
          "Oklahoma"
         ],
         "legendgroup": "Oklahoma",
         "marker": {
          "color": "#FF6692",
          "size": [
           272.9
          ],
          "sizemode": "area",
          "sizeref": 1.4352500000000001,
          "symbol": "circle"
         },
         "mode": "markers",
         "name": "Oklahoma",
         "orientation": "v",
         "showlegend": true,
         "type": "scatter",
         "x": [
          272.9
         ],
         "xaxis": "x",
         "y": [
          18.13
         ],
         "yaxis": "y"
        },
        {
         "hovertemplate": "<b>%{hovertext}</b><br><br>State=Oregon<br>Motor vehicle theft rate=%{marker.size}<br># of guns per capita=%{y}<extra></extra>",
         "hovertext": [
          "Oregon"
         ],
         "legendgroup": "Oregon",
         "marker": {
          "color": "#B6E880",
          "size": [
           240.5
          ],
          "sizemode": "area",
          "sizeref": 1.4352500000000001,
          "symbol": "circle"
         },
         "mode": "markers",
         "name": "Oregon",
         "orientation": "v",
         "showlegend": true,
         "type": "scatter",
         "x": [
          240.5
         ],
         "xaxis": "x",
         "y": [
          14.815999999999999
         ],
         "yaxis": "y"
        },
        {
         "hovertemplate": "<b>%{hovertext}</b><br><br>State=Pennsylvania<br>Motor vehicle theft rate=%{marker.size}<br># of guns per capita=%{y}<extra></extra>",
         "hovertext": [
          "Pennsylvania"
         ],
         "legendgroup": "Pennsylvania",
         "marker": {
          "color": "#FF97FF",
          "size": [
           102
          ],
          "sizemode": "area",
          "sizeref": 1.4352500000000001,
          "symbol": "circle"
         },
         "mode": "markers",
         "name": "Pennsylvania",
         "orientation": "v",
         "showlegend": true,
         "type": "scatter",
         "x": [
          102
         ],
         "xaxis": "x",
         "y": [
          18.45
         ],
         "yaxis": "y"
        },
        {
         "hovertemplate": "<b>%{hovertext}</b><br><br>State=Rhode_Island<br>Motor vehicle theft rate=%{marker.size}<br># of guns per capita=%{y}<extra></extra>",
         "hovertext": [
          "Rhode_Island"
         ],
         "legendgroup": "Rhode_Island",
         "marker": {
          "color": "#FECB52",
          "size": [
           173.7
          ],
          "sizemode": "area",
          "sizeref": 1.4352500000000001,
          "symbol": "circle"
         },
         "mode": "markers",
         "name": "Rhode_Island",
         "orientation": "v",
         "showlegend": true,
         "type": "scatter",
         "x": [
          173.7
         ],
         "xaxis": "x",
         "y": [
          3.98
         ],
         "yaxis": "y"
        },
        {
         "hovertemplate": "<b>%{hovertext}</b><br><br>State=South_Carolina<br>Motor vehicle theft rate=%{marker.size}<br># of guns per capita=%{y}<extra></extra>",
         "hovertext": [
          "South_Carolina"
         ],
         "legendgroup": "South_Carolina",
         "marker": {
          "color": "#636efa",
          "size": [
           267
          ],
          "sizemode": "area",
          "sizeref": 1.4352500000000001,
          "symbol": "circle"
         },
         "mode": "markers",
         "name": "South_Carolina",
         "orientation": "v",
         "showlegend": true,
         "type": "scatter",
         "x": [
          267
         ],
         "xaxis": "x",
         "y": [
          21.01
         ],
         "yaxis": "y"
        },
        {
         "hovertemplate": "<b>%{hovertext}</b><br><br>State=South_Dakota<br>Motor vehicle theft rate=%{marker.size}<br># of guns per capita=%{y}<extra></extra>",
         "hovertext": [
          "South_Dakota"
         ],
         "legendgroup": "South_Dakota",
         "marker": {
          "color": "#EF553B",
          "size": [
           118
          ],
          "sizemode": "area",
          "sizeref": 1.4352500000000001,
          "symbol": "circle"
         },
         "mode": "markers",
         "name": "South_Dakota",
         "orientation": "v",
         "showlegend": true,
         "type": "scatter",
         "x": [
          118
         ],
         "xaxis": "x",
         "y": [
          24.29
         ],
         "yaxis": "y"
        },
        {
         "hovertemplate": "<b>%{hovertext}</b><br><br>State=Tennessee<br>Motor vehicle theft rate=%{marker.size}<br># of guns per capita=%{y}<extra></extra>",
         "hovertext": [
          "Tennessee"
         ],
         "legendgroup": "Tennessee",
         "marker": {
          "color": "#00cc96",
          "size": [
           192.4
          ],
          "sizemode": "area",
          "sizeref": 1.4352500000000001,
          "symbol": "circle"
         },
         "mode": "markers",
         "name": "Tennessee",
         "orientation": "v",
         "showlegend": true,
         "type": "scatter",
         "x": [
          192.4
         ],
         "xaxis": "x",
         "y": [
          14.76
         ],
         "yaxis": "y"
        },
        {
         "hovertemplate": "<b>%{hovertext}</b><br><br>State=Texas<br>Motor vehicle theft rate=%{marker.size}<br># of guns per capita=%{y}<extra></extra>",
         "hovertext": [
          "Texas"
         ],
         "legendgroup": "Texas",
         "marker": {
          "color": "#ab63fa",
          "size": [
           254.3
          ],
          "sizemode": "area",
          "sizeref": 1.4352500000000001,
          "symbol": "circle"
         },
         "mode": "markers",
         "name": "Texas",
         "orientation": "v",
         "showlegend": true,
         "type": "scatter",
         "x": [
          254.3
         ],
         "xaxis": "x",
         "y": [
          20.79
         ],
         "yaxis": "y"
        },
        {
         "hovertemplate": "<b>%{hovertext}</b><br><br>State=Utah<br>Motor vehicle theft rate=%{marker.size}<br># of guns per capita=%{y}<extra></extra>",
         "hovertext": [
          "Utah"
         ],
         "legendgroup": "Utah",
         "marker": {
          "color": "#FFA15A",
          "size": [
           248
          ],
          "sizemode": "area",
          "sizeref": 1.4352500000000001,
          "symbol": "circle"
         },
         "mode": "markers",
         "name": "Utah",
         "orientation": "v",
         "showlegend": true,
         "type": "scatter",
         "x": [
          248
         ],
         "xaxis": "x",
         "y": [
          23.48
         ],
         "yaxis": "y"
        },
        {
         "hovertemplate": "<b>%{hovertext}</b><br><br>State=Vermont<br>Motor vehicle theft rate=%{marker.size}<br># of guns per capita=%{y}<extra></extra>",
         "hovertext": [
          "Vermont"
         ],
         "legendgroup": "Vermont",
         "marker": {
          "color": "#19d3f3",
          "size": [
           38.9
          ],
          "sizemode": "area",
          "sizeref": 1.4352500000000001,
          "symbol": "circle"
         },
         "mode": "markers",
         "name": "Vermont",
         "orientation": "v",
         "showlegend": true,
         "type": "scatter",
         "x": [
          38.9
         ],
         "xaxis": "x",
         "y": [
          9.41
         ],
         "yaxis": "y"
        },
        {
         "hovertemplate": "<b>%{hovertext}</b><br><br>State=Virginia<br>Motor vehicle theft rate=%{marker.size}<br># of guns per capita=%{y}<extra></extra>",
         "hovertext": [
          "Virginia"
         ],
         "legendgroup": "Virginia",
         "marker": {
          "color": "#FF6692",
          "size": [
           92.1
          ],
          "sizemode": "area",
          "sizeref": 1.4352500000000001,
          "symbol": "circle"
         },
         "mode": "markers",
         "name": "Virginia",
         "orientation": "v",
         "showlegend": true,
         "type": "scatter",
         "x": [
          92.1
         ],
         "xaxis": "x",
         "y": [
          36.34
         ],
         "yaxis": "y"
        },
        {
         "hovertemplate": "<b>%{hovertext}</b><br><br>State=Washington<br>Motor vehicle theft rate=%{marker.size}<br># of guns per capita=%{y}<extra></extra>",
         "hovertext": [
          "Washington"
         ],
         "legendgroup": "Washington",
         "marker": {
          "color": "#B6E880",
          "size": [
           434
          ],
          "sizemode": "area",
          "sizeref": 1.4352500000000001,
          "symbol": "circle"
         },
         "mode": "markers",
         "name": "Washington",
         "orientation": "v",
         "showlegend": true,
         "type": "scatter",
         "x": [
          434
         ],
         "xaxis": "x",
         "y": [
          12.4
         ],
         "yaxis": "y"
        },
        {
         "hovertemplate": "<b>%{hovertext}</b><br><br>State=West_Virginia<br>Motor vehicle theft rate=%{marker.size}<br># of guns per capita=%{y}<extra></extra>",
         "hovertext": [
          "West_Virginia"
         ],
         "legendgroup": "West_Virginia",
         "marker": {
          "color": "#FF97FF",
          "size": [
           102.5
          ],
          "sizemode": "area",
          "sizeref": 1.4352500000000001,
          "symbol": "circle"
         },
         "mode": "markers",
         "name": "West_Virginia",
         "orientation": "v",
         "showlegend": true,
         "type": "scatter",
         "x": [
          102.5
         ],
         "xaxis": "x",
         "y": [
          19.42
         ],
         "yaxis": "y"
        },
        {
         "hovertemplate": "<b>%{hovertext}</b><br><br>State=Wisconsin<br>Motor vehicle theft rate=%{marker.size}<br># of guns per capita=%{y}<extra></extra>",
         "hovertext": [
          "Wisconsin"
         ],
         "legendgroup": "Wisconsin",
         "marker": {
          "color": "#FECB52",
          "size": [
           172.3
          ],
          "sizemode": "area",
          "sizeref": 1.4352500000000001,
          "symbol": "circle"
         },
         "mode": "markers",
         "name": "Wisconsin",
         "orientation": "v",
         "showlegend": true,
         "type": "scatter",
         "x": [
          172.3
         ],
         "xaxis": "x",
         "y": [
          11.19
         ],
         "yaxis": "y"
        },
        {
         "hovertemplate": "<b>%{hovertext}</b><br><br>State=Wyoming<br>Motor vehicle theft rate=%{marker.size}<br># of guns per capita=%{y}<extra></extra>",
         "hovertext": [
          "Wyoming"
         ],
         "legendgroup": "Wyoming",
         "marker": {
          "color": "#636efa",
          "size": [
           103.2
          ],
          "sizemode": "area",
          "sizeref": 1.4352500000000001,
          "symbol": "circle"
         },
         "mode": "markers",
         "name": "Wyoming",
         "orientation": "v",
         "showlegend": true,
         "type": "scatter",
         "x": [
          103.2
         ],
         "xaxis": "x",
         "y": [
          229.24
         ],
         "yaxis": "y"
        }
       ],
       "layout": {
        "legend": {
         "itemsizing": "constant",
         "title": {
          "text": "State"
         },
         "tracegroupgap": 0
        },
        "template": {
         "data": {
          "bar": [
           {
            "error_x": {
             "color": "#2a3f5f"
            },
            "error_y": {
             "color": "#2a3f5f"
            },
            "marker": {
             "line": {
              "color": "#E5ECF6",
              "width": 0.5
             }
            },
            "type": "bar"
           }
          ],
          "barpolar": [
           {
            "marker": {
             "line": {
              "color": "#E5ECF6",
              "width": 0.5
             }
            },
            "type": "barpolar"
           }
          ],
          "carpet": [
           {
            "aaxis": {
             "endlinecolor": "#2a3f5f",
             "gridcolor": "white",
             "linecolor": "white",
             "minorgridcolor": "white",
             "startlinecolor": "#2a3f5f"
            },
            "baxis": {
             "endlinecolor": "#2a3f5f",
             "gridcolor": "white",
             "linecolor": "white",
             "minorgridcolor": "white",
             "startlinecolor": "#2a3f5f"
            },
            "type": "carpet"
           }
          ],
          "choropleth": [
           {
            "colorbar": {
             "outlinewidth": 0,
             "ticks": ""
            },
            "type": "choropleth"
           }
          ],
          "contour": [
           {
            "colorbar": {
             "outlinewidth": 0,
             "ticks": ""
            },
            "colorscale": [
             [
              0,
              "#0d0887"
             ],
             [
              0.1111111111111111,
              "#46039f"
             ],
             [
              0.2222222222222222,
              "#7201a8"
             ],
             [
              0.3333333333333333,
              "#9c179e"
             ],
             [
              0.4444444444444444,
              "#bd3786"
             ],
             [
              0.5555555555555556,
              "#d8576b"
             ],
             [
              0.6666666666666666,
              "#ed7953"
             ],
             [
              0.7777777777777778,
              "#fb9f3a"
             ],
             [
              0.8888888888888888,
              "#fdca26"
             ],
             [
              1,
              "#f0f921"
             ]
            ],
            "type": "contour"
           }
          ],
          "contourcarpet": [
           {
            "colorbar": {
             "outlinewidth": 0,
             "ticks": ""
            },
            "type": "contourcarpet"
           }
          ],
          "heatmap": [
           {
            "colorbar": {
             "outlinewidth": 0,
             "ticks": ""
            },
            "colorscale": [
             [
              0,
              "#0d0887"
             ],
             [
              0.1111111111111111,
              "#46039f"
             ],
             [
              0.2222222222222222,
              "#7201a8"
             ],
             [
              0.3333333333333333,
              "#9c179e"
             ],
             [
              0.4444444444444444,
              "#bd3786"
             ],
             [
              0.5555555555555556,
              "#d8576b"
             ],
             [
              0.6666666666666666,
              "#ed7953"
             ],
             [
              0.7777777777777778,
              "#fb9f3a"
             ],
             [
              0.8888888888888888,
              "#fdca26"
             ],
             [
              1,
              "#f0f921"
             ]
            ],
            "type": "heatmap"
           }
          ],
          "heatmapgl": [
           {
            "colorbar": {
             "outlinewidth": 0,
             "ticks": ""
            },
            "colorscale": [
             [
              0,
              "#0d0887"
             ],
             [
              0.1111111111111111,
              "#46039f"
             ],
             [
              0.2222222222222222,
              "#7201a8"
             ],
             [
              0.3333333333333333,
              "#9c179e"
             ],
             [
              0.4444444444444444,
              "#bd3786"
             ],
             [
              0.5555555555555556,
              "#d8576b"
             ],
             [
              0.6666666666666666,
              "#ed7953"
             ],
             [
              0.7777777777777778,
              "#fb9f3a"
             ],
             [
              0.8888888888888888,
              "#fdca26"
             ],
             [
              1,
              "#f0f921"
             ]
            ],
            "type": "heatmapgl"
           }
          ],
          "histogram": [
           {
            "marker": {
             "colorbar": {
              "outlinewidth": 0,
              "ticks": ""
             }
            },
            "type": "histogram"
           }
          ],
          "histogram2d": [
           {
            "colorbar": {
             "outlinewidth": 0,
             "ticks": ""
            },
            "colorscale": [
             [
              0,
              "#0d0887"
             ],
             [
              0.1111111111111111,
              "#46039f"
             ],
             [
              0.2222222222222222,
              "#7201a8"
             ],
             [
              0.3333333333333333,
              "#9c179e"
             ],
             [
              0.4444444444444444,
              "#bd3786"
             ],
             [
              0.5555555555555556,
              "#d8576b"
             ],
             [
              0.6666666666666666,
              "#ed7953"
             ],
             [
              0.7777777777777778,
              "#fb9f3a"
             ],
             [
              0.8888888888888888,
              "#fdca26"
             ],
             [
              1,
              "#f0f921"
             ]
            ],
            "type": "histogram2d"
           }
          ],
          "histogram2dcontour": [
           {
            "colorbar": {
             "outlinewidth": 0,
             "ticks": ""
            },
            "colorscale": [
             [
              0,
              "#0d0887"
             ],
             [
              0.1111111111111111,
              "#46039f"
             ],
             [
              0.2222222222222222,
              "#7201a8"
             ],
             [
              0.3333333333333333,
              "#9c179e"
             ],
             [
              0.4444444444444444,
              "#bd3786"
             ],
             [
              0.5555555555555556,
              "#d8576b"
             ],
             [
              0.6666666666666666,
              "#ed7953"
             ],
             [
              0.7777777777777778,
              "#fb9f3a"
             ],
             [
              0.8888888888888888,
              "#fdca26"
             ],
             [
              1,
              "#f0f921"
             ]
            ],
            "type": "histogram2dcontour"
           }
          ],
          "mesh3d": [
           {
            "colorbar": {
             "outlinewidth": 0,
             "ticks": ""
            },
            "type": "mesh3d"
           }
          ],
          "parcoords": [
           {
            "line": {
             "colorbar": {
              "outlinewidth": 0,
              "ticks": ""
             }
            },
            "type": "parcoords"
           }
          ],
          "pie": [
           {
            "automargin": true,
            "type": "pie"
           }
          ],
          "scatter": [
           {
            "marker": {
             "colorbar": {
              "outlinewidth": 0,
              "ticks": ""
             }
            },
            "type": "scatter"
           }
          ],
          "scatter3d": [
           {
            "line": {
             "colorbar": {
              "outlinewidth": 0,
              "ticks": ""
             }
            },
            "marker": {
             "colorbar": {
              "outlinewidth": 0,
              "ticks": ""
             }
            },
            "type": "scatter3d"
           }
          ],
          "scattercarpet": [
           {
            "marker": {
             "colorbar": {
              "outlinewidth": 0,
              "ticks": ""
             }
            },
            "type": "scattercarpet"
           }
          ],
          "scattergeo": [
           {
            "marker": {
             "colorbar": {
              "outlinewidth": 0,
              "ticks": ""
             }
            },
            "type": "scattergeo"
           }
          ],
          "scattergl": [
           {
            "marker": {
             "colorbar": {
              "outlinewidth": 0,
              "ticks": ""
             }
            },
            "type": "scattergl"
           }
          ],
          "scattermapbox": [
           {
            "marker": {
             "colorbar": {
              "outlinewidth": 0,
              "ticks": ""
             }
            },
            "type": "scattermapbox"
           }
          ],
          "scatterpolar": [
           {
            "marker": {
             "colorbar": {
              "outlinewidth": 0,
              "ticks": ""
             }
            },
            "type": "scatterpolar"
           }
          ],
          "scatterpolargl": [
           {
            "marker": {
             "colorbar": {
              "outlinewidth": 0,
              "ticks": ""
             }
            },
            "type": "scatterpolargl"
           }
          ],
          "scatterternary": [
           {
            "marker": {
             "colorbar": {
              "outlinewidth": 0,
              "ticks": ""
             }
            },
            "type": "scatterternary"
           }
          ],
          "surface": [
           {
            "colorbar": {
             "outlinewidth": 0,
             "ticks": ""
            },
            "colorscale": [
             [
              0,
              "#0d0887"
             ],
             [
              0.1111111111111111,
              "#46039f"
             ],
             [
              0.2222222222222222,
              "#7201a8"
             ],
             [
              0.3333333333333333,
              "#9c179e"
             ],
             [
              0.4444444444444444,
              "#bd3786"
             ],
             [
              0.5555555555555556,
              "#d8576b"
             ],
             [
              0.6666666666666666,
              "#ed7953"
             ],
             [
              0.7777777777777778,
              "#fb9f3a"
             ],
             [
              0.8888888888888888,
              "#fdca26"
             ],
             [
              1,
              "#f0f921"
             ]
            ],
            "type": "surface"
           }
          ],
          "table": [
           {
            "cells": {
             "fill": {
              "color": "#EBF0F8"
             },
             "line": {
              "color": "white"
             }
            },
            "header": {
             "fill": {
              "color": "#C8D4E3"
             },
             "line": {
              "color": "white"
             }
            },
            "type": "table"
           }
          ]
         },
         "layout": {
          "annotationdefaults": {
           "arrowcolor": "#2a3f5f",
           "arrowhead": 0,
           "arrowwidth": 1
          },
          "coloraxis": {
           "colorbar": {
            "outlinewidth": 0,
            "ticks": ""
           }
          },
          "colorscale": {
           "diverging": [
            [
             0,
             "#8e0152"
            ],
            [
             0.1,
             "#c51b7d"
            ],
            [
             0.2,
             "#de77ae"
            ],
            [
             0.3,
             "#f1b6da"
            ],
            [
             0.4,
             "#fde0ef"
            ],
            [
             0.5,
             "#f7f7f7"
            ],
            [
             0.6,
             "#e6f5d0"
            ],
            [
             0.7,
             "#b8e186"
            ],
            [
             0.8,
             "#7fbc41"
            ],
            [
             0.9,
             "#4d9221"
            ],
            [
             1,
             "#276419"
            ]
           ],
           "sequential": [
            [
             0,
             "#0d0887"
            ],
            [
             0.1111111111111111,
             "#46039f"
            ],
            [
             0.2222222222222222,
             "#7201a8"
            ],
            [
             0.3333333333333333,
             "#9c179e"
            ],
            [
             0.4444444444444444,
             "#bd3786"
            ],
            [
             0.5555555555555556,
             "#d8576b"
            ],
            [
             0.6666666666666666,
             "#ed7953"
            ],
            [
             0.7777777777777778,
             "#fb9f3a"
            ],
            [
             0.8888888888888888,
             "#fdca26"
            ],
            [
             1,
             "#f0f921"
            ]
           ],
           "sequentialminus": [
            [
             0,
             "#0d0887"
            ],
            [
             0.1111111111111111,
             "#46039f"
            ],
            [
             0.2222222222222222,
             "#7201a8"
            ],
            [
             0.3333333333333333,
             "#9c179e"
            ],
            [
             0.4444444444444444,
             "#bd3786"
            ],
            [
             0.5555555555555556,
             "#d8576b"
            ],
            [
             0.6666666666666666,
             "#ed7953"
            ],
            [
             0.7777777777777778,
             "#fb9f3a"
            ],
            [
             0.8888888888888888,
             "#fdca26"
            ],
            [
             1,
             "#f0f921"
            ]
           ]
          },
          "colorway": [
           "#636efa",
           "#EF553B",
           "#00cc96",
           "#ab63fa",
           "#FFA15A",
           "#19d3f3",
           "#FF6692",
           "#B6E880",
           "#FF97FF",
           "#FECB52"
          ],
          "font": {
           "color": "#2a3f5f"
          },
          "geo": {
           "bgcolor": "white",
           "lakecolor": "white",
           "landcolor": "#E5ECF6",
           "showlakes": true,
           "showland": true,
           "subunitcolor": "white"
          },
          "hoverlabel": {
           "align": "left"
          },
          "hovermode": "closest",
          "mapbox": {
           "style": "light"
          },
          "paper_bgcolor": "white",
          "plot_bgcolor": "#E5ECF6",
          "polar": {
           "angularaxis": {
            "gridcolor": "white",
            "linecolor": "white",
            "ticks": ""
           },
           "bgcolor": "#E5ECF6",
           "radialaxis": {
            "gridcolor": "white",
            "linecolor": "white",
            "ticks": ""
           }
          },
          "scene": {
           "xaxis": {
            "backgroundcolor": "#E5ECF6",
            "gridcolor": "white",
            "gridwidth": 2,
            "linecolor": "white",
            "showbackground": true,
            "ticks": "",
            "zerolinecolor": "white"
           },
           "yaxis": {
            "backgroundcolor": "#E5ECF6",
            "gridcolor": "white",
            "gridwidth": 2,
            "linecolor": "white",
            "showbackground": true,
            "ticks": "",
            "zerolinecolor": "white"
           },
           "zaxis": {
            "backgroundcolor": "#E5ECF6",
            "gridcolor": "white",
            "gridwidth": 2,
            "linecolor": "white",
            "showbackground": true,
            "ticks": "",
            "zerolinecolor": "white"
           }
          },
          "shapedefaults": {
           "line": {
            "color": "#2a3f5f"
           }
          },
          "ternary": {
           "aaxis": {
            "gridcolor": "white",
            "linecolor": "white",
            "ticks": ""
           },
           "baxis": {
            "gridcolor": "white",
            "linecolor": "white",
            "ticks": ""
           },
           "bgcolor": "#E5ECF6",
           "caxis": {
            "gridcolor": "white",
            "linecolor": "white",
            "ticks": ""
           }
          },
          "title": {
           "x": 0.05
          },
          "xaxis": {
           "automargin": true,
           "gridcolor": "white",
           "linecolor": "white",
           "ticks": "",
           "title": {
            "standoff": 15
           },
           "zerolinecolor": "white",
           "zerolinewidth": 2
          },
          "yaxis": {
           "automargin": true,
           "gridcolor": "white",
           "linecolor": "white",
           "ticks": "",
           "title": {
            "standoff": 15
           },
           "zerolinecolor": "white",
           "zerolinewidth": 2
          }
         }
        },
        "title": {
         "text": "Motor Behicle Theft Rate in the US"
        },
        "xaxis": {
         "anchor": "y",
         "domain": [
          0,
          1
         ],
         "title": {
          "text": "Motor vehicle theft rate"
         }
        },
        "yaxis": {
         "anchor": "x",
         "domain": [
          0,
          1
         ],
         "title": {
          "text": "# of guns per capita"
         }
        }
       }
      },
      "text/html": [
       "<div>\n",
       "        \n",
       "        \n",
       "            <div id=\"5d250303-caf5-43c1-bb0e-39198eb3f9d8\" class=\"plotly-graph-div\" style=\"height:525px; width:100%;\"></div>\n",
       "            <script type=\"text/javascript\">\n",
       "                require([\"plotly\"], function(Plotly) {\n",
       "                    window.PLOTLYENV=window.PLOTLYENV || {};\n",
       "                    \n",
       "                if (document.getElementById(\"5d250303-caf5-43c1-bb0e-39198eb3f9d8\")) {\n",
       "                    Plotly.newPlot(\n",
       "                        '5d250303-caf5-43c1-bb0e-39198eb3f9d8',\n",
       "                        [{\"hovertemplate\": \"<b>%{hovertext}</b><br><br>State=Alabama<br>Motor vehicle theft rate=%{marker.size}<br># of guns per capita=%{y}<extra></extra>\", \"hovertext\": [\"Alabama\"], \"legendgroup\": \"Alabama\", \"marker\": {\"color\": \"#636efa\", \"size\": [209.1], \"sizemode\": \"area\", \"sizeref\": 1.4352500000000001, \"symbol\": \"circle\"}, \"mode\": \"markers\", \"name\": \"Alabama\", \"orientation\": \"v\", \"showlegend\": true, \"type\": \"scatter\", \"x\": [209.1], \"xaxis\": \"x\", \"y\": [33.15], \"yaxis\": \"y\"}, {\"hovertemplate\": \"<b>%{hovertext}</b><br><br>State=Alaska<br>Motor vehicle theft rate=%{marker.size}<br># of guns per capita=%{y}<extra></extra>\", \"hovertext\": [\"Alaska\"], \"legendgroup\": \"Alaska\", \"marker\": {\"color\": \"#EF553B\", \"size\": [236.0], \"sizemode\": \"area\", \"sizeref\": 1.4352500000000001, \"symbol\": \"circle\"}, \"mode\": \"markers\", \"name\": \"Alaska\", \"orientation\": \"v\", \"showlegend\": true, \"type\": \"scatter\", \"x\": [236.0], \"xaxis\": \"x\", \"y\": [21.38], \"yaxis\": \"y\"}, {\"hovertemplate\": \"<b>%{hovertext}</b><br><br>State=Arizona<br>Motor vehicle theft rate=%{marker.size}<br># of guns per capita=%{y}<extra></extra>\", \"hovertext\": [\"Arizona\"], \"legendgroup\": \"Arizona\", \"marker\": {\"color\": \"#00cc96\", \"size\": [261.3], \"sizemode\": \"area\", \"sizeref\": 1.4352500000000001, \"symbol\": \"circle\"}, \"mode\": \"markers\", \"name\": \"Arizona\", \"orientation\": \"v\", \"showlegend\": true, \"type\": \"scatter\", \"x\": [261.3], \"xaxis\": \"x\", \"y\": [25.61], \"yaxis\": \"y\"}, {\"hovertemplate\": \"<b>%{hovertext}</b><br><br>State=Arkansas<br>Motor vehicle theft rate=%{marker.size}<br># of guns per capita=%{y}<extra></extra>\", \"hovertext\": [\"Arkansas\"], \"legendgroup\": \"Arkansas\", \"marker\": {\"color\": \"#ab63fa\", \"size\": [188.8], \"sizemode\": \"area\", \"sizeref\": 1.4352500000000001, \"symbol\": \"circle\"}, \"mode\": \"markers\", \"name\": \"Arkansas\", \"orientation\": \"v\", \"showlegend\": true, \"type\": \"scatter\", \"x\": [188.8], \"xaxis\": \"x\", \"y\": [26.57], \"yaxis\": \"y\"}, {\"hovertemplate\": \"<b>%{hovertext}</b><br><br>State=California<br>Motor vehicle theft rate=%{marker.size}<br># of guns per capita=%{y}<extra></extra>\", \"hovertext\": [\"California\"], \"legendgroup\": \"California\", \"marker\": {\"color\": \"#FFA15A\", \"size\": [391.3], \"sizemode\": \"area\", \"sizeref\": 1.4352500000000001, \"symbol\": \"circle\"}, \"mode\": \"markers\", \"name\": \"California\", \"orientation\": \"v\", \"showlegend\": true, \"type\": \"scatter\", \"x\": [391.3], \"xaxis\": \"x\", \"y\": [8.71], \"yaxis\": \"y\"}, {\"hovertemplate\": \"<b>%{hovertext}</b><br><br>State=Colorado<br>Motor vehicle theft rate=%{marker.size}<br># of guns per capita=%{y}<extra></extra>\", \"hovertext\": [\"Colorado\"], \"legendgroup\": \"Colorado\", \"marker\": {\"color\": \"#19d3f3\", \"size\": [234.8], \"sizemode\": \"area\", \"sizeref\": 1.4352500000000001, \"symbol\": \"circle\"}, \"mode\": \"markers\", \"name\": \"Colorado\", \"orientation\": \"v\", \"showlegend\": true, \"type\": \"scatter\", \"x\": [234.8], \"xaxis\": \"x\", \"y\": [16.48], \"yaxis\": \"y\"}, {\"hovertemplate\": \"<b>%{hovertext}</b><br><br>State=Connecticut<br>Motor vehicle theft rate=%{marker.size}<br># of guns per capita=%{y}<extra></extra>\", \"hovertext\": [\"Connecticut\"], \"legendgroup\": \"Connecticut\", \"marker\": {\"color\": \"#FF6692\", \"size\": [169.9], \"sizemode\": \"area\", \"sizeref\": 1.4352500000000001, \"symbol\": \"circle\"}, \"mode\": \"markers\", \"name\": \"Connecticut\", \"orientation\": \"v\", \"showlegend\": true, \"type\": \"scatter\", \"x\": [169.9], \"xaxis\": \"x\", \"y\": [22.96], \"yaxis\": \"y\"}, {\"hovertemplate\": \"<b>%{hovertext}</b><br><br>State=DC<br>Motor vehicle theft rate=%{marker.size}<br># of guns per capita=%{y}<extra></extra>\", \"hovertext\": [\"DC\"], \"legendgroup\": \"DC\", \"marker\": {\"color\": \"#B6E880\", \"size\": [574.1], \"sizemode\": \"area\", \"sizeref\": 1.4352500000000001, \"symbol\": \"circle\"}, \"mode\": \"markers\", \"name\": \"DC\", \"orientation\": \"v\", \"showlegend\": true, \"type\": \"scatter\", \"x\": [574.1], \"xaxis\": \"x\", \"y\": [68.05], \"yaxis\": \"y\"}, {\"hovertemplate\": \"<b>%{hovertext}</b><br><br>State=Delaware<br>Motor vehicle theft rate=%{marker.size}<br># of guns per capita=%{y}<extra></extra>\", \"hovertext\": [\"Delaware\"], \"legendgroup\": \"Delaware\", \"marker\": {\"color\": \"#FF97FF\", \"size\": [135.4], \"sizemode\": \"area\", \"sizeref\": 1.4352500000000001, \"symbol\": \"circle\"}, \"mode\": \"markers\", \"name\": \"Delaware\", \"orientation\": \"v\", \"showlegend\": true, \"type\": \"scatter\", \"x\": [135.4], \"xaxis\": \"x\", \"y\": [5.04], \"yaxis\": \"y\"}, {\"hovertemplate\": \"<b>%{hovertext}</b><br><br>State=Florida<br>Motor vehicle theft rate=%{marker.size}<br># of guns per capita=%{y}<extra></extra>\", \"hovertext\": [\"Florida\"], \"legendgroup\": \"Florida\", \"marker\": {\"color\": \"#FECB52\", \"size\": [214.0], \"sizemode\": \"area\", \"sizeref\": 1.4352500000000001, \"symbol\": \"circle\"}, \"mode\": \"markers\", \"name\": \"Florida\", \"orientation\": \"v\", \"showlegend\": true, \"type\": \"scatter\", \"x\": [214.0], \"xaxis\": \"x\", \"y\": [16.35], \"yaxis\": \"y\"}, {\"hovertemplate\": \"<b>%{hovertext}</b><br><br>State=Georgia<br>Motor vehicle theft rate=%{marker.size}<br># of guns per capita=%{y}<extra></extra>\", \"hovertext\": [\"Georgia\"], \"legendgroup\": \"Georgia\", \"marker\": {\"color\": \"#636efa\", \"size\": [266.0], \"sizemode\": \"area\", \"sizeref\": 1.4352500000000001, \"symbol\": \"circle\"}, \"mode\": \"markers\", \"name\": \"Georgia\", \"orientation\": \"v\", \"showlegend\": true, \"type\": \"scatter\", \"x\": [266.0], \"xaxis\": \"x\", \"y\": [18.22], \"yaxis\": \"y\"}, {\"hovertemplate\": \"<b>%{hovertext}</b><br><br>State=Hawaii<br>Motor vehicle theft rate=%{marker.size}<br># of guns per capita=%{y}<extra></extra>\", \"hovertext\": [\"Hawaii\"], \"legendgroup\": \"Hawaii\", \"marker\": {\"color\": \"#EF553B\", \"size\": [273.3], \"sizemode\": \"area\", \"sizeref\": 1.4352500000000001, \"symbol\": \"circle\"}, \"mode\": \"markers\", \"name\": \"Hawaii\", \"orientation\": \"v\", \"showlegend\": true, \"type\": \"scatter\", \"x\": [273.3], \"xaxis\": \"x\", \"y\": [5.5], \"yaxis\": \"y\"}, {\"hovertemplate\": \"<b>%{hovertext}</b><br><br>State=Idaho<br>Motor vehicle theft rate=%{marker.size}<br># of guns per capita=%{y}<extra></extra>\", \"hovertext\": [\"Idaho\"], \"legendgroup\": \"Idaho\", \"marker\": {\"color\": \"#00cc96\", \"size\": [101.6], \"sizemode\": \"area\", \"sizeref\": 1.4352500000000001, \"symbol\": \"circle\"}, \"mode\": \"markers\", \"name\": \"Idaho\", \"orientation\": \"v\", \"showlegend\": true, \"type\": \"scatter\", \"x\": [101.6], \"xaxis\": \"x\", \"y\": [28.86], \"yaxis\": \"y\"}, {\"hovertemplate\": \"<b>%{hovertext}</b><br><br>State=Illinois<br>Motor vehicle theft rate=%{marker.size}<br># of guns per capita=%{y}<extra></extra>\", \"hovertext\": [\"Illinois\"], \"legendgroup\": \"Illinois\", \"marker\": {\"color\": \"#ab63fa\", \"size\": [135.5], \"sizemode\": \"area\", \"sizeref\": 1.4352500000000001, \"symbol\": \"circle\"}, \"mode\": \"markers\", \"name\": \"Illinois\", \"orientation\": \"v\", \"showlegend\": true, \"type\": \"scatter\", \"x\": [135.5], \"xaxis\": \"x\", \"y\": [11.44], \"yaxis\": \"y\"}, {\"hovertemplate\": \"<b>%{hovertext}</b><br><br>State=Indiana<br>Motor vehicle theft rate=%{marker.size}<br># of guns per capita=%{y}<extra></extra>\", \"hovertext\": [\"Indiana\"], \"legendgroup\": \"Indiana\", \"marker\": {\"color\": \"#FFA15A\", \"size\": [210.1], \"sizemode\": \"area\", \"sizeref\": 1.4352500000000001, \"symbol\": \"circle\"}, \"mode\": \"markers\", \"name\": \"Indiana\", \"orientation\": \"v\", \"showlegend\": true, \"type\": \"scatter\", \"x\": [210.1], \"xaxis\": \"x\", \"y\": [17.1], \"yaxis\": \"y\"}, {\"hovertemplate\": \"<b>%{hovertext}</b><br><br>State=Iowa<br>Motor vehicle theft rate=%{marker.size}<br># of guns per capita=%{y}<extra></extra>\", \"hovertext\": [\"Iowa\"], \"legendgroup\": \"Iowa\", \"marker\": {\"color\": \"#19d3f3\", \"size\": [133.6], \"sizemode\": \"area\", \"sizeref\": 1.4352500000000001, \"symbol\": \"circle\"}, \"mode\": \"markers\", \"name\": \"Iowa\", \"orientation\": \"v\", \"showlegend\": true, \"type\": \"scatter\", \"x\": [133.6], \"xaxis\": \"x\", \"y\": [9.05], \"yaxis\": \"y\"}, {\"hovertemplate\": \"<b>%{hovertext}</b><br><br>State=Kansas<br>Motor vehicle theft rate=%{marker.size}<br># of guns per capita=%{y}<extra></extra>\", \"hovertext\": [\"Kansas\"], \"legendgroup\": \"Kansas\", \"marker\": {\"color\": \"#FF6692\", \"size\": [237.8], \"sizemode\": \"area\", \"sizeref\": 1.4352500000000001, \"symbol\": \"circle\"}, \"mode\": \"markers\", \"name\": \"Kansas\", \"orientation\": \"v\", \"showlegend\": true, \"type\": \"scatter\", \"x\": [237.8], \"xaxis\": \"x\", \"y\": [18.06], \"yaxis\": \"y\"}, {\"hovertemplate\": \"<b>%{hovertext}</b><br><br>State=Kentucky<br>Motor vehicle theft rate=%{marker.size}<br># of guns per capita=%{y}<extra></extra>\", \"hovertext\": [\"Kentucky\"], \"legendgroup\": \"Kentucky\", \"marker\": {\"color\": \"#B6E880\", \"size\": [143.2], \"sizemode\": \"area\", \"sizeref\": 1.4352500000000001, \"symbol\": \"circle\"}, \"mode\": \"markers\", \"name\": \"Kentucky\", \"orientation\": \"v\", \"showlegend\": true, \"type\": \"scatter\", \"x\": [143.2], \"xaxis\": \"x\", \"y\": [18.2], \"yaxis\": \"y\"}, {\"hovertemplate\": \"<b>%{hovertext}</b><br><br>State=Louisiana<br>Motor vehicle theft rate=%{marker.size}<br># of guns per capita=%{y}<extra></extra>\", \"hovertext\": [\"Louisiana\"], \"legendgroup\": \"Louisiana\", \"marker\": {\"color\": \"#FF97FF\", \"size\": [212.7], \"sizemode\": \"area\", \"sizeref\": 1.4352500000000001, \"symbol\": \"circle\"}, \"mode\": \"markers\", \"name\": \"Louisiana\", \"orientation\": \"v\", \"showlegend\": true, \"type\": \"scatter\", \"x\": [212.7], \"xaxis\": \"x\", \"y\": [24.94], \"yaxis\": \"y\"}, {\"hovertemplate\": \"<b>%{hovertext}</b><br><br>State=Maine<br>Motor vehicle theft rate=%{marker.size}<br># of guns per capita=%{y}<extra></extra>\", \"hovertext\": [\"Maine\"], \"legendgroup\": \"Maine\", \"marker\": {\"color\": \"#FECB52\", \"size\": [60.1], \"sizemode\": \"area\", \"sizeref\": 1.4352500000000001, \"symbol\": \"circle\"}, \"mode\": \"markers\", \"name\": \"Maine\", \"orientation\": \"v\", \"showlegend\": true, \"type\": \"scatter\", \"x\": [60.1], \"xaxis\": \"x\", \"y\": [11.5], \"yaxis\": \"y\"}, {\"hovertemplate\": \"<b>%{hovertext}</b><br><br>State=Maryland<br>Motor vehicle theft rate=%{marker.size}<br># of guns per capita=%{y}<extra></extra>\", \"hovertext\": [\"Maryland\"], \"legendgroup\": \"Maryland\", \"marker\": {\"color\": \"#636efa\", \"size\": [219.2], \"sizemode\": \"area\", \"sizeref\": 1.4352500000000001, \"symbol\": \"circle\"}, \"mode\": \"markers\", \"name\": \"Maryland\", \"orientation\": \"v\", \"showlegend\": true, \"type\": \"scatter\", \"x\": [219.2], \"xaxis\": \"x\", \"y\": [17.03], \"yaxis\": \"y\"}, {\"hovertemplate\": \"<b>%{hovertext}</b><br><br>State=Massachusetts<br>Motor vehicle theft rate=%{marker.size}<br># of guns per capita=%{y}<extra></extra>\", \"hovertext\": [\"Massachusetts\"], \"legendgroup\": \"Massachusetts\", \"marker\": {\"color\": \"#EF553B\", \"size\": [122.5], \"sizemode\": \"area\", \"sizeref\": 1.4352500000000001, \"symbol\": \"circle\"}, \"mode\": \"markers\", \"name\": \"Massachusetts\", \"orientation\": \"v\", \"showlegend\": true, \"type\": \"scatter\", \"x\": [122.5], \"xaxis\": \"x\", \"y\": [5.41], \"yaxis\": \"y\"}, {\"hovertemplate\": \"<b>%{hovertext}</b><br><br>State=Michigan<br>Motor vehicle theft rate=%{marker.size}<br># of guns per capita=%{y}<extra></extra>\", \"hovertext\": [\"Michigan\"], \"legendgroup\": \"Michigan\", \"marker\": {\"color\": \"#00cc96\", \"size\": [213.5], \"sizemode\": \"area\", \"sizeref\": 1.4352500000000001, \"symbol\": \"circle\"}, \"mode\": \"markers\", \"name\": \"Michigan\", \"orientation\": \"v\", \"showlegend\": true, \"type\": \"scatter\", \"x\": [213.5], \"xaxis\": \"x\", \"y\": [6.59], \"yaxis\": \"y\"}, {\"hovertemplate\": \"<b>%{hovertext}</b><br><br>State=Minnesota<br>Motor vehicle theft rate=%{marker.size}<br># of guns per capita=%{y}<extra></extra>\", \"hovertext\": [\"Minnesota\"], \"legendgroup\": \"Minnesota\", \"marker\": {\"color\": \"#ab63fa\", \"size\": [153.3], \"sizemode\": \"area\", \"sizeref\": 1.4352500000000001, \"symbol\": \"circle\"}, \"mode\": \"markers\", \"name\": \"Minnesota\", \"orientation\": \"v\", \"showlegend\": true, \"type\": \"scatter\", \"x\": [153.3], \"xaxis\": \"x\", \"y\": [14.22], \"yaxis\": \"y\"}, {\"hovertemplate\": \"<b>%{hovertext}</b><br><br>State=Mississippi<br>Motor vehicle theft rate=%{marker.size}<br># of guns per capita=%{y}<extra></extra>\", \"hovertext\": [\"Mississippi\"], \"legendgroup\": \"Mississippi\", \"marker\": {\"color\": \"#FFA15A\", \"size\": [150.9], \"sizemode\": \"area\", \"sizeref\": 1.4352500000000001, \"symbol\": \"circle\"}, \"mode\": \"markers\", \"name\": \"Mississippi\", \"orientation\": \"v\", \"showlegend\": true, \"type\": \"scatter\", \"x\": [150.9], \"xaxis\": \"x\", \"y\": [11.89], \"yaxis\": \"y\"}, {\"hovertemplate\": \"<b>%{hovertext}</b><br><br>State=Missouri<br>Motor vehicle theft rate=%{marker.size}<br># of guns per capita=%{y}<extra></extra>\", \"hovertext\": [\"Missouri\"], \"legendgroup\": \"Missouri\", \"marker\": {\"color\": \"#19d3f3\", \"size\": [269.8], \"sizemode\": \"area\", \"sizeref\": 1.4352500000000001, \"symbol\": \"circle\"}, \"mode\": \"markers\", \"name\": \"Missouri\", \"orientation\": \"v\", \"showlegend\": true, \"type\": \"scatter\", \"x\": [269.8], \"xaxis\": \"x\", \"y\": [11.94], \"yaxis\": \"y\"}, {\"hovertemplate\": \"<b>%{hovertext}</b><br><br>State=Montana<br>Motor vehicle theft rate=%{marker.size}<br># of guns per capita=%{y}<extra></extra>\", \"hovertext\": [\"Montana\"], \"legendgroup\": \"Montana\", \"marker\": {\"color\": \"#FF6692\", \"size\": [199.6], \"sizemode\": \"area\", \"sizeref\": 1.4352500000000001, \"symbol\": \"circle\"}, \"mode\": \"markers\", \"name\": \"Montana\", \"orientation\": \"v\", \"showlegend\": true, \"type\": \"scatter\", \"x\": [199.6], \"xaxis\": \"x\", \"y\": [21.06], \"yaxis\": \"y\"}, {\"hovertemplate\": \"<b>%{hovertext}</b><br><br>State=Nebraska<br>Motor vehicle theft rate=%{marker.size}<br># of guns per capita=%{y}<extra></extra>\", \"hovertext\": [\"Nebraska\"], \"legendgroup\": \"Nebraska\", \"marker\": {\"color\": \"#B6E880\", \"size\": [236.8], \"sizemode\": \"area\", \"sizeref\": 1.4352500000000001, \"symbol\": \"circle\"}, \"mode\": \"markers\", \"name\": \"Nebraska\", \"orientation\": \"v\", \"showlegend\": true, \"type\": \"scatter\", \"x\": [236.8], \"xaxis\": \"x\", \"y\": [11.57], \"yaxis\": \"y\"}, {\"hovertemplate\": \"<b>%{hovertext}</b><br><br>State=Nevada<br>Motor vehicle theft rate=%{marker.size}<br># of guns per capita=%{y}<extra></extra>\", \"hovertext\": [\"Nevada\"], \"legendgroup\": \"Nevada\", \"marker\": {\"color\": \"#FF97FF\", \"size\": [358.7], \"sizemode\": \"area\", \"sizeref\": 1.4352500000000001, \"symbol\": \"circle\"}, \"mode\": \"markers\", \"name\": \"Nevada\", \"orientation\": \"v\", \"showlegend\": true, \"type\": \"scatter\", \"x\": [358.7], \"xaxis\": \"x\", \"y\": [25.64], \"yaxis\": \"y\"}, {\"hovertemplate\": \"<b>%{hovertext}</b><br><br>State=New_Hampshire<br>Motor vehicle theft rate=%{marker.size}<br># of guns per capita=%{y}<extra></extra>\", \"hovertext\": [\"New_Hampshire\"], \"legendgroup\": \"New_Hampshire\", \"marker\": {\"color\": \"#FECB52\", \"size\": [64.6], \"sizemode\": \"area\", \"sizeref\": 1.4352500000000001, \"symbol\": \"circle\"}, \"mode\": \"markers\", \"name\": \"New_Hampshire\", \"orientation\": \"v\", \"showlegend\": true, \"type\": \"scatter\", \"x\": [64.6], \"xaxis\": \"x\", \"y\": [46.76], \"yaxis\": \"y\"}, {\"hovertemplate\": \"<b>%{hovertext}</b><br><br>State=New_Jersey<br>Motor vehicle theft rate=%{marker.size}<br># of guns per capita=%{y}<extra></extra>\", \"hovertext\": [\"New_Jersey\"], \"legendgroup\": \"New_Jersey\", \"marker\": {\"color\": \"#636efa\", \"size\": [131.0], \"sizemode\": \"area\", \"sizeref\": 1.4352500000000001, \"symbol\": \"circle\"}, \"mode\": \"markers\", \"name\": \"New_Jersey\", \"orientation\": \"v\", \"showlegend\": true, \"type\": \"scatter\", \"x\": [131.0], \"xaxis\": \"x\", \"y\": [6.38], \"yaxis\": \"y\"}, {\"hovertemplate\": \"<b>%{hovertext}</b><br><br>State=New_Mexico<br>Motor vehicle theft rate=%{marker.size}<br># of guns per capita=%{y}<extra></extra>\", \"hovertext\": [\"New_Mexico\"], \"legendgroup\": \"New_Mexico\", \"marker\": {\"color\": \"#EF553B\", \"size\": [301.6], \"sizemode\": \"area\", \"sizeref\": 1.4352500000000001, \"symbol\": \"circle\"}, \"mode\": \"markers\", \"name\": \"New_Mexico\", \"orientation\": \"v\", \"showlegend\": true, \"type\": \"scatter\", \"x\": [301.6], \"xaxis\": \"x\", \"y\": [46.73], \"yaxis\": \"y\"}, {\"hovertemplate\": \"<b>%{hovertext}</b><br><br>State=New_York<br>Motor vehicle theft rate=%{marker.size}<br># of guns per capita=%{y}<extra></extra>\", \"hovertext\": [\"New_York\"], \"legendgroup\": \"New_York\", \"marker\": {\"color\": \"#00cc96\", \"size\": [79.7], \"sizemode\": \"area\", \"sizeref\": 1.4352500000000001, \"symbol\": \"circle\"}, \"mode\": \"markers\", \"name\": \"New_York\", \"orientation\": \"v\", \"showlegend\": true, \"type\": \"scatter\", \"x\": [79.7], \"xaxis\": \"x\", \"y\": [3.83], \"yaxis\": \"y\"}, {\"hovertemplate\": \"<b>%{hovertext}</b><br><br>State=North_Carolina<br>Motor vehicle theft rate=%{marker.size}<br># of guns per capita=%{y}<extra></extra>\", \"hovertext\": [\"North_Carolina\"], \"legendgroup\": \"North_Carolina\", \"marker\": {\"color\": \"#ab63fa\", \"size\": [137.1], \"sizemode\": \"area\", \"sizeref\": 1.4352500000000001, \"symbol\": \"circle\"}, \"mode\": \"markers\", \"name\": \"North_Carolina\", \"orientation\": \"v\", \"showlegend\": true, \"type\": \"scatter\", \"x\": [137.1], \"xaxis\": \"x\", \"y\": [14.818], \"yaxis\": \"y\"}, {\"hovertemplate\": \"<b>%{hovertext}</b><br><br>State=North_Dakota<br>Motor vehicle theft rate=%{marker.size}<br># of guns per capita=%{y}<extra></extra>\", \"hovertext\": [\"North_Dakota\"], \"legendgroup\": \"North_Dakota\", \"marker\": {\"color\": \"#FFA15A\", \"size\": [204.7], \"sizemode\": \"area\", \"sizeref\": 1.4352500000000001, \"symbol\": \"circle\"}, \"mode\": \"markers\", \"name\": \"North_Dakota\", \"orientation\": \"v\", \"showlegend\": true, \"type\": \"scatter\", \"x\": [204.7], \"xaxis\": \"x\", \"y\": [17.56], \"yaxis\": \"y\"}, {\"hovertemplate\": \"<b>%{hovertext}</b><br><br>State=Ohio<br>Motor vehicle theft rate=%{marker.size}<br># of guns per capita=%{y}<extra></extra>\", \"hovertext\": [\"Ohio\"], \"legendgroup\": \"Ohio\", \"marker\": {\"color\": \"#19d3f3\", \"size\": [155.4], \"sizemode\": \"area\", \"sizeref\": 1.4352500000000001, \"symbol\": \"circle\"}, \"mode\": \"markers\", \"name\": \"Ohio\", \"orientation\": \"v\", \"showlegend\": true, \"type\": \"scatter\", \"x\": [155.4], \"xaxis\": \"x\", \"y\": [14.87], \"yaxis\": \"y\"}, {\"hovertemplate\": \"<b>%{hovertext}</b><br><br>State=Oklahoma<br>Motor vehicle theft rate=%{marker.size}<br># of guns per capita=%{y}<extra></extra>\", \"hovertext\": [\"Oklahoma\"], \"legendgroup\": \"Oklahoma\", \"marker\": {\"color\": \"#FF6692\", \"size\": [272.9], \"sizemode\": \"area\", \"sizeref\": 1.4352500000000001, \"symbol\": \"circle\"}, \"mode\": \"markers\", \"name\": \"Oklahoma\", \"orientation\": \"v\", \"showlegend\": true, \"type\": \"scatter\", \"x\": [272.9], \"xaxis\": \"x\", \"y\": [18.13], \"yaxis\": \"y\"}, {\"hovertemplate\": \"<b>%{hovertext}</b><br><br>State=Oregon<br>Motor vehicle theft rate=%{marker.size}<br># of guns per capita=%{y}<extra></extra>\", \"hovertext\": [\"Oregon\"], \"legendgroup\": \"Oregon\", \"marker\": {\"color\": \"#B6E880\", \"size\": [240.5], \"sizemode\": \"area\", \"sizeref\": 1.4352500000000001, \"symbol\": \"circle\"}, \"mode\": \"markers\", \"name\": \"Oregon\", \"orientation\": \"v\", \"showlegend\": true, \"type\": \"scatter\", \"x\": [240.5], \"xaxis\": \"x\", \"y\": [14.815999999999999], \"yaxis\": \"y\"}, {\"hovertemplate\": \"<b>%{hovertext}</b><br><br>State=Pennsylvania<br>Motor vehicle theft rate=%{marker.size}<br># of guns per capita=%{y}<extra></extra>\", \"hovertext\": [\"Pennsylvania\"], \"legendgroup\": \"Pennsylvania\", \"marker\": {\"color\": \"#FF97FF\", \"size\": [102.0], \"sizemode\": \"area\", \"sizeref\": 1.4352500000000001, \"symbol\": \"circle\"}, \"mode\": \"markers\", \"name\": \"Pennsylvania\", \"orientation\": \"v\", \"showlegend\": true, \"type\": \"scatter\", \"x\": [102.0], \"xaxis\": \"x\", \"y\": [18.45], \"yaxis\": \"y\"}, {\"hovertemplate\": \"<b>%{hovertext}</b><br><br>State=Rhode_Island<br>Motor vehicle theft rate=%{marker.size}<br># of guns per capita=%{y}<extra></extra>\", \"hovertext\": [\"Rhode_Island\"], \"legendgroup\": \"Rhode_Island\", \"marker\": {\"color\": \"#FECB52\", \"size\": [173.7], \"sizemode\": \"area\", \"sizeref\": 1.4352500000000001, \"symbol\": \"circle\"}, \"mode\": \"markers\", \"name\": \"Rhode_Island\", \"orientation\": \"v\", \"showlegend\": true, \"type\": \"scatter\", \"x\": [173.7], \"xaxis\": \"x\", \"y\": [3.98], \"yaxis\": \"y\"}, {\"hovertemplate\": \"<b>%{hovertext}</b><br><br>State=South_Carolina<br>Motor vehicle theft rate=%{marker.size}<br># of guns per capita=%{y}<extra></extra>\", \"hovertext\": [\"South_Carolina\"], \"legendgroup\": \"South_Carolina\", \"marker\": {\"color\": \"#636efa\", \"size\": [267.0], \"sizemode\": \"area\", \"sizeref\": 1.4352500000000001, \"symbol\": \"circle\"}, \"mode\": \"markers\", \"name\": \"South_Carolina\", \"orientation\": \"v\", \"showlegend\": true, \"type\": \"scatter\", \"x\": [267.0], \"xaxis\": \"x\", \"y\": [21.01], \"yaxis\": \"y\"}, {\"hovertemplate\": \"<b>%{hovertext}</b><br><br>State=South_Dakota<br>Motor vehicle theft rate=%{marker.size}<br># of guns per capita=%{y}<extra></extra>\", \"hovertext\": [\"South_Dakota\"], \"legendgroup\": \"South_Dakota\", \"marker\": {\"color\": \"#EF553B\", \"size\": [118.0], \"sizemode\": \"area\", \"sizeref\": 1.4352500000000001, \"symbol\": \"circle\"}, \"mode\": \"markers\", \"name\": \"South_Dakota\", \"orientation\": \"v\", \"showlegend\": true, \"type\": \"scatter\", \"x\": [118.0], \"xaxis\": \"x\", \"y\": [24.29], \"yaxis\": \"y\"}, {\"hovertemplate\": \"<b>%{hovertext}</b><br><br>State=Tennessee<br>Motor vehicle theft rate=%{marker.size}<br># of guns per capita=%{y}<extra></extra>\", \"hovertext\": [\"Tennessee\"], \"legendgroup\": \"Tennessee\", \"marker\": {\"color\": \"#00cc96\", \"size\": [192.4], \"sizemode\": \"area\", \"sizeref\": 1.4352500000000001, \"symbol\": \"circle\"}, \"mode\": \"markers\", \"name\": \"Tennessee\", \"orientation\": \"v\", \"showlegend\": true, \"type\": \"scatter\", \"x\": [192.4], \"xaxis\": \"x\", \"y\": [14.76], \"yaxis\": \"y\"}, {\"hovertemplate\": \"<b>%{hovertext}</b><br><br>State=Texas<br>Motor vehicle theft rate=%{marker.size}<br># of guns per capita=%{y}<extra></extra>\", \"hovertext\": [\"Texas\"], \"legendgroup\": \"Texas\", \"marker\": {\"color\": \"#ab63fa\", \"size\": [254.3], \"sizemode\": \"area\", \"sizeref\": 1.4352500000000001, \"symbol\": \"circle\"}, \"mode\": \"markers\", \"name\": \"Texas\", \"orientation\": \"v\", \"showlegend\": true, \"type\": \"scatter\", \"x\": [254.3], \"xaxis\": \"x\", \"y\": [20.79], \"yaxis\": \"y\"}, {\"hovertemplate\": \"<b>%{hovertext}</b><br><br>State=Utah<br>Motor vehicle theft rate=%{marker.size}<br># of guns per capita=%{y}<extra></extra>\", \"hovertext\": [\"Utah\"], \"legendgroup\": \"Utah\", \"marker\": {\"color\": \"#FFA15A\", \"size\": [248.0], \"sizemode\": \"area\", \"sizeref\": 1.4352500000000001, \"symbol\": \"circle\"}, \"mode\": \"markers\", \"name\": \"Utah\", \"orientation\": \"v\", \"showlegend\": true, \"type\": \"scatter\", \"x\": [248.0], \"xaxis\": \"x\", \"y\": [23.48], \"yaxis\": \"y\"}, {\"hovertemplate\": \"<b>%{hovertext}</b><br><br>State=Vermont<br>Motor vehicle theft rate=%{marker.size}<br># of guns per capita=%{y}<extra></extra>\", \"hovertext\": [\"Vermont\"], \"legendgroup\": \"Vermont\", \"marker\": {\"color\": \"#19d3f3\", \"size\": [38.9], \"sizemode\": \"area\", \"sizeref\": 1.4352500000000001, \"symbol\": \"circle\"}, \"mode\": \"markers\", \"name\": \"Vermont\", \"orientation\": \"v\", \"showlegend\": true, \"type\": \"scatter\", \"x\": [38.9], \"xaxis\": \"x\", \"y\": [9.41], \"yaxis\": \"y\"}, {\"hovertemplate\": \"<b>%{hovertext}</b><br><br>State=Virginia<br>Motor vehicle theft rate=%{marker.size}<br># of guns per capita=%{y}<extra></extra>\", \"hovertext\": [\"Virginia\"], \"legendgroup\": \"Virginia\", \"marker\": {\"color\": \"#FF6692\", \"size\": [92.1], \"sizemode\": \"area\", \"sizeref\": 1.4352500000000001, \"symbol\": \"circle\"}, \"mode\": \"markers\", \"name\": \"Virginia\", \"orientation\": \"v\", \"showlegend\": true, \"type\": \"scatter\", \"x\": [92.1], \"xaxis\": \"x\", \"y\": [36.34], \"yaxis\": \"y\"}, {\"hovertemplate\": \"<b>%{hovertext}</b><br><br>State=Washington<br>Motor vehicle theft rate=%{marker.size}<br># of guns per capita=%{y}<extra></extra>\", \"hovertext\": [\"Washington\"], \"legendgroup\": \"Washington\", \"marker\": {\"color\": \"#B6E880\", \"size\": [434.0], \"sizemode\": \"area\", \"sizeref\": 1.4352500000000001, \"symbol\": \"circle\"}, \"mode\": \"markers\", \"name\": \"Washington\", \"orientation\": \"v\", \"showlegend\": true, \"type\": \"scatter\", \"x\": [434.0], \"xaxis\": \"x\", \"y\": [12.4], \"yaxis\": \"y\"}, {\"hovertemplate\": \"<b>%{hovertext}</b><br><br>State=West_Virginia<br>Motor vehicle theft rate=%{marker.size}<br># of guns per capita=%{y}<extra></extra>\", \"hovertext\": [\"West_Virginia\"], \"legendgroup\": \"West_Virginia\", \"marker\": {\"color\": \"#FF97FF\", \"size\": [102.5], \"sizemode\": \"area\", \"sizeref\": 1.4352500000000001, \"symbol\": \"circle\"}, \"mode\": \"markers\", \"name\": \"West_Virginia\", \"orientation\": \"v\", \"showlegend\": true, \"type\": \"scatter\", \"x\": [102.5], \"xaxis\": \"x\", \"y\": [19.42], \"yaxis\": \"y\"}, {\"hovertemplate\": \"<b>%{hovertext}</b><br><br>State=Wisconsin<br>Motor vehicle theft rate=%{marker.size}<br># of guns per capita=%{y}<extra></extra>\", \"hovertext\": [\"Wisconsin\"], \"legendgroup\": \"Wisconsin\", \"marker\": {\"color\": \"#FECB52\", \"size\": [172.3], \"sizemode\": \"area\", \"sizeref\": 1.4352500000000001, \"symbol\": \"circle\"}, \"mode\": \"markers\", \"name\": \"Wisconsin\", \"orientation\": \"v\", \"showlegend\": true, \"type\": \"scatter\", \"x\": [172.3], \"xaxis\": \"x\", \"y\": [11.19], \"yaxis\": \"y\"}, {\"hovertemplate\": \"<b>%{hovertext}</b><br><br>State=Wyoming<br>Motor vehicle theft rate=%{marker.size}<br># of guns per capita=%{y}<extra></extra>\", \"hovertext\": [\"Wyoming\"], \"legendgroup\": \"Wyoming\", \"marker\": {\"color\": \"#636efa\", \"size\": [103.2], \"sizemode\": \"area\", \"sizeref\": 1.4352500000000001, \"symbol\": \"circle\"}, \"mode\": \"markers\", \"name\": \"Wyoming\", \"orientation\": \"v\", \"showlegend\": true, \"type\": \"scatter\", \"x\": [103.2], \"xaxis\": \"x\", \"y\": [229.24], \"yaxis\": \"y\"}],\n",
       "                        {\"legend\": {\"itemsizing\": \"constant\", \"title\": {\"text\": \"State\"}, \"tracegroupgap\": 0}, \"template\": {\"data\": {\"bar\": [{\"error_x\": {\"color\": \"#2a3f5f\"}, \"error_y\": {\"color\": \"#2a3f5f\"}, \"marker\": {\"line\": {\"color\": \"#E5ECF6\", \"width\": 0.5}}, \"type\": \"bar\"}], \"barpolar\": [{\"marker\": {\"line\": {\"color\": \"#E5ECF6\", \"width\": 0.5}}, \"type\": \"barpolar\"}], \"carpet\": [{\"aaxis\": {\"endlinecolor\": \"#2a3f5f\", \"gridcolor\": \"white\", \"linecolor\": \"white\", \"minorgridcolor\": \"white\", \"startlinecolor\": \"#2a3f5f\"}, \"baxis\": {\"endlinecolor\": \"#2a3f5f\", \"gridcolor\": \"white\", \"linecolor\": \"white\", \"minorgridcolor\": \"white\", \"startlinecolor\": \"#2a3f5f\"}, \"type\": \"carpet\"}], \"choropleth\": [{\"colorbar\": {\"outlinewidth\": 0, \"ticks\": \"\"}, \"type\": \"choropleth\"}], \"contour\": [{\"colorbar\": {\"outlinewidth\": 0, \"ticks\": \"\"}, \"colorscale\": [[0.0, \"#0d0887\"], [0.1111111111111111, \"#46039f\"], [0.2222222222222222, \"#7201a8\"], [0.3333333333333333, \"#9c179e\"], [0.4444444444444444, \"#bd3786\"], [0.5555555555555556, \"#d8576b\"], [0.6666666666666666, \"#ed7953\"], [0.7777777777777778, \"#fb9f3a\"], [0.8888888888888888, \"#fdca26\"], [1.0, \"#f0f921\"]], \"type\": \"contour\"}], \"contourcarpet\": [{\"colorbar\": {\"outlinewidth\": 0, \"ticks\": \"\"}, \"type\": \"contourcarpet\"}], \"heatmap\": [{\"colorbar\": {\"outlinewidth\": 0, \"ticks\": \"\"}, \"colorscale\": [[0.0, \"#0d0887\"], [0.1111111111111111, \"#46039f\"], [0.2222222222222222, \"#7201a8\"], [0.3333333333333333, \"#9c179e\"], [0.4444444444444444, \"#bd3786\"], [0.5555555555555556, \"#d8576b\"], [0.6666666666666666, \"#ed7953\"], [0.7777777777777778, \"#fb9f3a\"], [0.8888888888888888, \"#fdca26\"], [1.0, \"#f0f921\"]], \"type\": \"heatmap\"}], \"heatmapgl\": [{\"colorbar\": {\"outlinewidth\": 0, \"ticks\": \"\"}, \"colorscale\": [[0.0, \"#0d0887\"], [0.1111111111111111, \"#46039f\"], [0.2222222222222222, \"#7201a8\"], [0.3333333333333333, \"#9c179e\"], [0.4444444444444444, \"#bd3786\"], [0.5555555555555556, \"#d8576b\"], [0.6666666666666666, \"#ed7953\"], [0.7777777777777778, \"#fb9f3a\"], [0.8888888888888888, \"#fdca26\"], [1.0, \"#f0f921\"]], \"type\": \"heatmapgl\"}], \"histogram\": [{\"marker\": {\"colorbar\": {\"outlinewidth\": 0, \"ticks\": \"\"}}, \"type\": \"histogram\"}], \"histogram2d\": [{\"colorbar\": {\"outlinewidth\": 0, \"ticks\": \"\"}, \"colorscale\": [[0.0, \"#0d0887\"], [0.1111111111111111, \"#46039f\"], [0.2222222222222222, \"#7201a8\"], [0.3333333333333333, \"#9c179e\"], [0.4444444444444444, \"#bd3786\"], [0.5555555555555556, \"#d8576b\"], [0.6666666666666666, \"#ed7953\"], [0.7777777777777778, \"#fb9f3a\"], [0.8888888888888888, \"#fdca26\"], [1.0, \"#f0f921\"]], \"type\": \"histogram2d\"}], \"histogram2dcontour\": [{\"colorbar\": {\"outlinewidth\": 0, \"ticks\": \"\"}, \"colorscale\": [[0.0, \"#0d0887\"], [0.1111111111111111, \"#46039f\"], [0.2222222222222222, \"#7201a8\"], [0.3333333333333333, \"#9c179e\"], [0.4444444444444444, \"#bd3786\"], [0.5555555555555556, \"#d8576b\"], [0.6666666666666666, \"#ed7953\"], [0.7777777777777778, \"#fb9f3a\"], [0.8888888888888888, \"#fdca26\"], [1.0, \"#f0f921\"]], \"type\": \"histogram2dcontour\"}], \"mesh3d\": [{\"colorbar\": {\"outlinewidth\": 0, \"ticks\": \"\"}, \"type\": \"mesh3d\"}], \"parcoords\": [{\"line\": {\"colorbar\": {\"outlinewidth\": 0, \"ticks\": \"\"}}, \"type\": \"parcoords\"}], \"pie\": [{\"automargin\": true, \"type\": \"pie\"}], \"scatter\": [{\"marker\": {\"colorbar\": {\"outlinewidth\": 0, \"ticks\": \"\"}}, \"type\": \"scatter\"}], \"scatter3d\": [{\"line\": {\"colorbar\": {\"outlinewidth\": 0, \"ticks\": \"\"}}, \"marker\": {\"colorbar\": {\"outlinewidth\": 0, \"ticks\": \"\"}}, \"type\": \"scatter3d\"}], \"scattercarpet\": [{\"marker\": {\"colorbar\": {\"outlinewidth\": 0, \"ticks\": \"\"}}, \"type\": \"scattercarpet\"}], \"scattergeo\": [{\"marker\": {\"colorbar\": {\"outlinewidth\": 0, \"ticks\": \"\"}}, \"type\": \"scattergeo\"}], \"scattergl\": [{\"marker\": {\"colorbar\": {\"outlinewidth\": 0, \"ticks\": \"\"}}, \"type\": \"scattergl\"}], \"scattermapbox\": [{\"marker\": {\"colorbar\": {\"outlinewidth\": 0, \"ticks\": \"\"}}, \"type\": \"scattermapbox\"}], \"scatterpolar\": [{\"marker\": {\"colorbar\": {\"outlinewidth\": 0, \"ticks\": \"\"}}, \"type\": \"scatterpolar\"}], \"scatterpolargl\": [{\"marker\": {\"colorbar\": {\"outlinewidth\": 0, \"ticks\": \"\"}}, \"type\": \"scatterpolargl\"}], \"scatterternary\": [{\"marker\": {\"colorbar\": {\"outlinewidth\": 0, \"ticks\": \"\"}}, \"type\": \"scatterternary\"}], \"surface\": [{\"colorbar\": {\"outlinewidth\": 0, \"ticks\": \"\"}, \"colorscale\": [[0.0, \"#0d0887\"], [0.1111111111111111, \"#46039f\"], [0.2222222222222222, \"#7201a8\"], [0.3333333333333333, \"#9c179e\"], [0.4444444444444444, \"#bd3786\"], [0.5555555555555556, \"#d8576b\"], [0.6666666666666666, \"#ed7953\"], [0.7777777777777778, \"#fb9f3a\"], [0.8888888888888888, \"#fdca26\"], [1.0, \"#f0f921\"]], \"type\": \"surface\"}], \"table\": [{\"cells\": {\"fill\": {\"color\": \"#EBF0F8\"}, \"line\": {\"color\": \"white\"}}, \"header\": {\"fill\": {\"color\": \"#C8D4E3\"}, \"line\": {\"color\": \"white\"}}, \"type\": \"table\"}]}, \"layout\": {\"annotationdefaults\": {\"arrowcolor\": \"#2a3f5f\", \"arrowhead\": 0, \"arrowwidth\": 1}, \"coloraxis\": {\"colorbar\": {\"outlinewidth\": 0, \"ticks\": \"\"}}, \"colorscale\": {\"diverging\": [[0, \"#8e0152\"], [0.1, \"#c51b7d\"], [0.2, \"#de77ae\"], [0.3, \"#f1b6da\"], [0.4, \"#fde0ef\"], [0.5, \"#f7f7f7\"], [0.6, \"#e6f5d0\"], [0.7, \"#b8e186\"], [0.8, \"#7fbc41\"], [0.9, \"#4d9221\"], [1, \"#276419\"]], \"sequential\": [[0.0, \"#0d0887\"], [0.1111111111111111, \"#46039f\"], [0.2222222222222222, \"#7201a8\"], [0.3333333333333333, \"#9c179e\"], [0.4444444444444444, \"#bd3786\"], [0.5555555555555556, \"#d8576b\"], [0.6666666666666666, \"#ed7953\"], [0.7777777777777778, \"#fb9f3a\"], [0.8888888888888888, \"#fdca26\"], [1.0, \"#f0f921\"]], \"sequentialminus\": [[0.0, \"#0d0887\"], [0.1111111111111111, \"#46039f\"], [0.2222222222222222, \"#7201a8\"], [0.3333333333333333, \"#9c179e\"], [0.4444444444444444, \"#bd3786\"], [0.5555555555555556, \"#d8576b\"], [0.6666666666666666, \"#ed7953\"], [0.7777777777777778, \"#fb9f3a\"], [0.8888888888888888, \"#fdca26\"], [1.0, \"#f0f921\"]]}, \"colorway\": [\"#636efa\", \"#EF553B\", \"#00cc96\", \"#ab63fa\", \"#FFA15A\", \"#19d3f3\", \"#FF6692\", \"#B6E880\", \"#FF97FF\", \"#FECB52\"], \"font\": {\"color\": \"#2a3f5f\"}, \"geo\": {\"bgcolor\": \"white\", \"lakecolor\": \"white\", \"landcolor\": \"#E5ECF6\", \"showlakes\": true, \"showland\": true, \"subunitcolor\": \"white\"}, \"hoverlabel\": {\"align\": \"left\"}, \"hovermode\": \"closest\", \"mapbox\": {\"style\": \"light\"}, \"paper_bgcolor\": \"white\", \"plot_bgcolor\": \"#E5ECF6\", \"polar\": {\"angularaxis\": {\"gridcolor\": \"white\", \"linecolor\": \"white\", \"ticks\": \"\"}, \"bgcolor\": \"#E5ECF6\", \"radialaxis\": {\"gridcolor\": \"white\", \"linecolor\": \"white\", \"ticks\": \"\"}}, \"scene\": {\"xaxis\": {\"backgroundcolor\": \"#E5ECF6\", \"gridcolor\": \"white\", \"gridwidth\": 2, \"linecolor\": \"white\", \"showbackground\": true, \"ticks\": \"\", \"zerolinecolor\": \"white\"}, \"yaxis\": {\"backgroundcolor\": \"#E5ECF6\", \"gridcolor\": \"white\", \"gridwidth\": 2, \"linecolor\": \"white\", \"showbackground\": true, \"ticks\": \"\", \"zerolinecolor\": \"white\"}, \"zaxis\": {\"backgroundcolor\": \"#E5ECF6\", \"gridcolor\": \"white\", \"gridwidth\": 2, \"linecolor\": \"white\", \"showbackground\": true, \"ticks\": \"\", \"zerolinecolor\": \"white\"}}, \"shapedefaults\": {\"line\": {\"color\": \"#2a3f5f\"}}, \"ternary\": {\"aaxis\": {\"gridcolor\": \"white\", \"linecolor\": \"white\", \"ticks\": \"\"}, \"baxis\": {\"gridcolor\": \"white\", \"linecolor\": \"white\", \"ticks\": \"\"}, \"bgcolor\": \"#E5ECF6\", \"caxis\": {\"gridcolor\": \"white\", \"linecolor\": \"white\", \"ticks\": \"\"}}, \"title\": {\"x\": 0.05}, \"xaxis\": {\"automargin\": true, \"gridcolor\": \"white\", \"linecolor\": \"white\", \"ticks\": \"\", \"title\": {\"standoff\": 15}, \"zerolinecolor\": \"white\", \"zerolinewidth\": 2}, \"yaxis\": {\"automargin\": true, \"gridcolor\": \"white\", \"linecolor\": \"white\", \"ticks\": \"\", \"title\": {\"standoff\": 15}, \"zerolinecolor\": \"white\", \"zerolinewidth\": 2}}}, \"title\": {\"text\": \"Motor Behicle Theft Rate in the US\"}, \"xaxis\": {\"anchor\": \"y\", \"domain\": [0.0, 1.0], \"title\": {\"text\": \"Motor vehicle theft rate\"}}, \"yaxis\": {\"anchor\": \"x\", \"domain\": [0.0, 1.0], \"title\": {\"text\": \"# of guns per capita\"}}},\n",
       "                        {\"responsive\": true}\n",
       "                    ).then(function(){\n",
       "                            \n",
       "var gd = document.getElementById('5d250303-caf5-43c1-bb0e-39198eb3f9d8');\n",
       "var x = new MutationObserver(function (mutations, observer) {{\n",
       "        var display = window.getComputedStyle(gd).display;\n",
       "        if (!display || display === 'none') {{\n",
       "            console.log([gd, 'removed!']);\n",
       "            Plotly.purge(gd);\n",
       "            observer.disconnect();\n",
       "        }}\n",
       "}});\n",
       "\n",
       "// Listen for the removal of the full notebook cells\n",
       "var notebookContainer = gd.closest('#notebook-container');\n",
       "if (notebookContainer) {{\n",
       "    x.observe(notebookContainer, {childList: true});\n",
       "}}\n",
       "\n",
       "// Listen for the clearing of the current output cell\n",
       "var outputEl = gd.closest('.output');\n",
       "if (outputEl) {{\n",
       "    x.observe(outputEl, {childList: true});\n",
       "}}\n",
       "\n",
       "                        })\n",
       "                };\n",
       "                });\n",
       "            </script>\n",
       "        </div>"
      ]
     },
     "metadata": {},
     "output_type": "display_data"
    }
   ],
   "source": [
    "import plotly.express as px\n",
    "\n",
    "combined_data_df = pd.merge(vehicle_theft_2014_df,gun_ownership_per_capita_df,on=\"State\")\n",
    "\n",
    "import plotly.express as px\n",
    "\n",
    "fig = px.scatter(combined_data_df,\n",
    "                 x=\"Motor vehicle theft rate\", \n",
    "                 y=\"# of guns per capita\",\n",
    "                 size=\"Motor vehicle theft rate\", \n",
    "                 color=\"State\",\n",
    "                 hover_name=\"State\",\n",
    "                 title=\"Motor Behicle Theft Rate in the US\"\n",
    "                )\n",
    "fig.show()"
   ]
  },
  {
   "cell_type": "code",
   "execution_count": 104,
   "metadata": {},
   "outputs": [
    {
     "data": {
      "application/vnd.plotly.v1+json": {
       "config": {
        "plotlyServerURL": "https://plot.ly"
       },
       "data": [
        {
         "hovertemplate": "<b>%{hovertext}</b><br><br>State=Alabama<br>Aggravated assault rate=%{marker.size}<br># of guns per capita=%{y}<extra></extra>",
         "hovertext": [
          "Alabama"
         ],
         "legendgroup": "Alabama",
         "marker": {
          "color": "#636efa",
          "size": [
           283.4
          ],
          "sizemode": "area",
          "sizeref": 1.56525,
          "symbol": "circle"
         },
         "mode": "markers",
         "name": "Alabama",
         "orientation": "v",
         "showlegend": true,
         "type": "scatter",
         "x": [
          283.4
         ],
         "xaxis": "x",
         "y": [
          33.15
         ],
         "yaxis": "y"
        },
        {
         "hovertemplate": "<b>%{hovertext}</b><br><br>State=Alaska<br>Aggravated assault rate=%{marker.size}<br># of guns per capita=%{y}<extra></extra>",
         "hovertext": [
          "Alaska"
         ],
         "legendgroup": "Alaska",
         "marker": {
          "color": "#EF553B",
          "size": [
           440.2
          ],
          "sizemode": "area",
          "sizeref": 1.56525,
          "symbol": "circle"
         },
         "mode": "markers",
         "name": "Alaska",
         "orientation": "v",
         "showlegend": true,
         "type": "scatter",
         "x": [
          440.2
         ],
         "xaxis": "x",
         "y": [
          21.38
         ],
         "yaxis": "y"
        },
        {
         "hovertemplate": "<b>%{hovertext}</b><br><br>State=Arizona<br>Aggravated assault rate=%{marker.size}<br># of guns per capita=%{y}<extra></extra>",
         "hovertext": [
          "Arizona"
         ],
         "legendgroup": "Arizona",
         "marker": {
          "color": "#00cc96",
          "size": [
           252.1
          ],
          "sizemode": "area",
          "sizeref": 1.56525,
          "symbol": "circle"
         },
         "mode": "markers",
         "name": "Arizona",
         "orientation": "v",
         "showlegend": true,
         "type": "scatter",
         "x": [
          252.1
         ],
         "xaxis": "x",
         "y": [
          25.61
         ],
         "yaxis": "y"
        },
        {
         "hovertemplate": "<b>%{hovertext}</b><br><br>State=Arkansas<br>Aggravated assault rate=%{marker.size}<br># of guns per capita=%{y}<extra></extra>",
         "hovertext": [
          "Arkansas"
         ],
         "legendgroup": "Arkansas",
         "marker": {
          "color": "#ab63fa",
          "size": [
           346
          ],
          "sizemode": "area",
          "sizeref": 1.56525,
          "symbol": "circle"
         },
         "mode": "markers",
         "name": "Arkansas",
         "orientation": "v",
         "showlegend": true,
         "type": "scatter",
         "x": [
          346
         ],
         "xaxis": "x",
         "y": [
          26.57
         ],
         "yaxis": "y"
        },
        {
         "hovertemplate": "<b>%{hovertext}</b><br><br>State=California<br>Aggravated assault rate=%{marker.size}<br># of guns per capita=%{y}<extra></extra>",
         "hovertext": [
          "California"
         ],
         "legendgroup": "California",
         "marker": {
          "color": "#FFA15A",
          "size": [
           236.6
          ],
          "sizemode": "area",
          "sizeref": 1.56525,
          "symbol": "circle"
         },
         "mode": "markers",
         "name": "California",
         "orientation": "v",
         "showlegend": true,
         "type": "scatter",
         "x": [
          236.6
         ],
         "xaxis": "x",
         "y": [
          8.71
         ],
         "yaxis": "y"
        },
        {
         "hovertemplate": "<b>%{hovertext}</b><br><br>State=Colorado<br>Aggravated assault rate=%{marker.size}<br># of guns per capita=%{y}<extra></extra>",
         "hovertext": [
          "Colorado"
         ],
         "legendgroup": "Colorado",
         "marker": {
          "color": "#19d3f3",
          "size": [
           192.8
          ],
          "sizemode": "area",
          "sizeref": 1.56525,
          "symbol": "circle"
         },
         "mode": "markers",
         "name": "Colorado",
         "orientation": "v",
         "showlegend": true,
         "type": "scatter",
         "x": [
          192.8
         ],
         "xaxis": "x",
         "y": [
          16.48
         ],
         "yaxis": "y"
        },
        {
         "hovertemplate": "<b>%{hovertext}</b><br><br>State=Connecticut<br>Aggravated assault rate=%{marker.size}<br># of guns per capita=%{y}<extra></extra>",
         "hovertext": [
          "Connecticut"
         ],
         "legendgroup": "Connecticut",
         "marker": {
          "color": "#FF6692",
          "size": [
           125
          ],
          "sizemode": "area",
          "sizeref": 1.56525,
          "symbol": "circle"
         },
         "mode": "markers",
         "name": "Connecticut",
         "orientation": "v",
         "showlegend": true,
         "type": "scatter",
         "x": [
          125
         ],
         "xaxis": "x",
         "y": [
          22.96
         ],
         "yaxis": "y"
        },
        {
         "hovertemplate": "<b>%{hovertext}</b><br><br>State=DC<br>Aggravated assault rate=%{marker.size}<br># of guns per capita=%{y}<extra></extra>",
         "hovertext": [
          "DC"
         ],
         "legendgroup": "DC",
         "marker": {
          "color": "#B6E880",
          "size": [
           626.1
          ],
          "sizemode": "area",
          "sizeref": 1.56525,
          "symbol": "circle"
         },
         "mode": "markers",
         "name": "DC",
         "orientation": "v",
         "showlegend": true,
         "type": "scatter",
         "x": [
          626.1
         ],
         "xaxis": "x",
         "y": [
          68.05
         ],
         "yaxis": "y"
        },
        {
         "hovertemplate": "<b>%{hovertext}</b><br><br>State=Delaware<br>Aggravated assault rate=%{marker.size}<br># of guns per capita=%{y}<extra></extra>",
         "hovertext": [
          "Delaware"
         ],
         "legendgroup": "Delaware",
         "marker": {
          "color": "#FF97FF",
          "size": [
           306.4
          ],
          "sizemode": "area",
          "sizeref": 1.56525,
          "symbol": "circle"
         },
         "mode": "markers",
         "name": "Delaware",
         "orientation": "v",
         "showlegend": true,
         "type": "scatter",
         "x": [
          306.4
         ],
         "xaxis": "x",
         "y": [
          5.04
         ],
         "yaxis": "y"
        },
        {
         "hovertemplate": "<b>%{hovertext}</b><br><br>State=Florida<br>Aggravated assault rate=%{marker.size}<br># of guns per capita=%{y}<extra></extra>",
         "hovertext": [
          "Florida"
         ],
         "legendgroup": "Florida",
         "marker": {
          "color": "#FECB52",
          "size": [
           366.4
          ],
          "sizemode": "area",
          "sizeref": 1.56525,
          "symbol": "circle"
         },
         "mode": "markers",
         "name": "Florida",
         "orientation": "v",
         "showlegend": true,
         "type": "scatter",
         "x": [
          366.4
         ],
         "xaxis": "x",
         "y": [
          16.35
         ],
         "yaxis": "y"
        },
        {
         "hovertemplate": "<b>%{hovertext}</b><br><br>State=Georgia<br>Aggravated assault rate=%{marker.size}<br># of guns per capita=%{y}<extra></extra>",
         "hovertext": [
          "Georgia"
         ],
         "legendgroup": "Georgia",
         "marker": {
          "color": "#636efa",
          "size": [
           218.4
          ],
          "sizemode": "area",
          "sizeref": 1.56525,
          "symbol": "circle"
         },
         "mode": "markers",
         "name": "Georgia",
         "orientation": "v",
         "showlegend": true,
         "type": "scatter",
         "x": [
          218.4
         ],
         "xaxis": "x",
         "y": [
          18.22
         ],
         "yaxis": "y"
        },
        {
         "hovertemplate": "<b>%{hovertext}</b><br><br>State=Hawaii<br>Aggravated assault rate=%{marker.size}<br># of guns per capita=%{y}<extra></extra>",
         "hovertext": [
          "Hawaii"
         ],
         "legendgroup": "Hawaii",
         "marker": {
          "color": "#EF553B",
          "size": [
           148.1
          ],
          "sizemode": "area",
          "sizeref": 1.56525,
          "symbol": "circle"
         },
         "mode": "markers",
         "name": "Hawaii",
         "orientation": "v",
         "showlegend": true,
         "type": "scatter",
         "x": [
          148.1
         ],
         "xaxis": "x",
         "y": [
          5.5
         ],
         "yaxis": "y"
        },
        {
         "hovertemplate": "<b>%{hovertext}</b><br><br>State=Idaho<br>Aggravated assault rate=%{marker.size}<br># of guns per capita=%{y}<extra></extra>",
         "hovertext": [
          "Idaho"
         ],
         "legendgroup": "Idaho",
         "marker": {
          "color": "#00cc96",
          "size": [
           160.5
          ],
          "sizemode": "area",
          "sizeref": 1.56525,
          "symbol": "circle"
         },
         "mode": "markers",
         "name": "Idaho",
         "orientation": "v",
         "showlegend": true,
         "type": "scatter",
         "x": [
          160.5
         ],
         "xaxis": "x",
         "y": [
          28.86
         ],
         "yaxis": "y"
        },
        {
         "hovertemplate": "<b>%{hovertext}</b><br><br>State=Illinois<br>Aggravated assault rate=%{marker.size}<br># of guns per capita=%{y}<extra></extra>",
         "hovertext": [
          "Illinois"
         ],
         "legendgroup": "Illinois",
         "marker": {
          "color": "#ab63fa",
          "size": [
           213.7
          ],
          "sizemode": "area",
          "sizeref": 1.56525,
          "symbol": "circle"
         },
         "mode": "markers",
         "name": "Illinois",
         "orientation": "v",
         "showlegend": true,
         "type": "scatter",
         "x": [
          213.7
         ],
         "xaxis": "x",
         "y": [
          11.44
         ],
         "yaxis": "y"
        },
        {
         "hovertemplate": "<b>%{hovertext}</b><br><br>State=Indiana<br>Aggravated assault rate=%{marker.size}<br># of guns per capita=%{y}<extra></extra>",
         "hovertext": [
          "Indiana"
         ],
         "legendgroup": "Indiana",
         "marker": {
          "color": "#FFA15A",
          "size": [
           222.6
          ],
          "sizemode": "area",
          "sizeref": 1.56525,
          "symbol": "circle"
         },
         "mode": "markers",
         "name": "Indiana",
         "orientation": "v",
         "showlegend": true,
         "type": "scatter",
         "x": [
          222.6
         ],
         "xaxis": "x",
         "y": [
          17.1
         ],
         "yaxis": "y"
        },
        {
         "hovertemplate": "<b>%{hovertext}</b><br><br>State=Iowa<br>Aggravated assault rate=%{marker.size}<br># of guns per capita=%{y}<extra></extra>",
         "hovertext": [
          "Iowa"
         ],
         "legendgroup": "Iowa",
         "marker": {
          "color": "#19d3f3",
          "size": [
           201.6
          ],
          "sizemode": "area",
          "sizeref": 1.56525,
          "symbol": "circle"
         },
         "mode": "markers",
         "name": "Iowa",
         "orientation": "v",
         "showlegend": true,
         "type": "scatter",
         "x": [
          201.6
         ],
         "xaxis": "x",
         "y": [
          9.05
         ],
         "yaxis": "y"
        },
        {
         "hovertemplate": "<b>%{hovertext}</b><br><br>State=Kansas<br>Aggravated assault rate=%{marker.size}<br># of guns per capita=%{y}<extra></extra>",
         "hovertext": [
          "Kansas"
         ],
         "legendgroup": "Kansas",
         "marker": {
          "color": "#FF6692",
          "size": [
           250
          ],
          "sizemode": "area",
          "sizeref": 1.56525,
          "symbol": "circle"
         },
         "mode": "markers",
         "name": "Kansas",
         "orientation": "v",
         "showlegend": true,
         "type": "scatter",
         "x": [
          250
         ],
         "xaxis": "x",
         "y": [
          18.06
         ],
         "yaxis": "y"
        },
        {
         "hovertemplate": "<b>%{hovertext}</b><br><br>State=Kentucky<br>Aggravated assault rate=%{marker.size}<br># of guns per capita=%{y}<extra></extra>",
         "hovertext": [
          "Kentucky"
         ],
         "legendgroup": "Kentucky",
         "marker": {
          "color": "#B6E880",
          "size": [
           99.8
          ],
          "sizemode": "area",
          "sizeref": 1.56525,
          "symbol": "circle"
         },
         "mode": "markers",
         "name": "Kentucky",
         "orientation": "v",
         "showlegend": true,
         "type": "scatter",
         "x": [
          99.8
         ],
         "xaxis": "x",
         "y": [
          18.2
         ],
         "yaxis": "y"
        },
        {
         "hovertemplate": "<b>%{hovertext}</b><br><br>State=Louisiana<br>Aggravated assault rate=%{marker.size}<br># of guns per capita=%{y}<extra></extra>",
         "hovertext": [
          "Louisiana"
         ],
         "legendgroup": "Louisiana",
         "marker": {
          "color": "#FF97FF",
          "size": [
           352.4
          ],
          "sizemode": "area",
          "sizeref": 1.56525,
          "symbol": "circle"
         },
         "mode": "markers",
         "name": "Louisiana",
         "orientation": "v",
         "showlegend": true,
         "type": "scatter",
         "x": [
          352.4
         ],
         "xaxis": "x",
         "y": [
          24.94
         ],
         "yaxis": "y"
        },
        {
         "hovertemplate": "<b>%{hovertext}</b><br><br>State=Maine<br>Aggravated assault rate=%{marker.size}<br># of guns per capita=%{y}<extra></extra>",
         "hovertext": [
          "Maine"
         ],
         "legendgroup": "Maine",
         "marker": {
          "color": "#FECB52",
          "size": [
           66.9
          ],
          "sizemode": "area",
          "sizeref": 1.56525,
          "symbol": "circle"
         },
         "mode": "markers",
         "name": "Maine",
         "orientation": "v",
         "showlegend": true,
         "type": "scatter",
         "x": [
          66.9
         ],
         "xaxis": "x",
         "y": [
          11.5
         ],
         "yaxis": "y"
        },
        {
         "hovertemplate": "<b>%{hovertext}</b><br><br>State=Maryland<br>Aggravated assault rate=%{marker.size}<br># of guns per capita=%{y}<extra></extra>",
         "hovertext": [
          "Maryland"
         ],
         "legendgroup": "Maryland",
         "marker": {
          "color": "#636efa",
          "size": [
           253.2
          ],
          "sizemode": "area",
          "sizeref": 1.56525,
          "symbol": "circle"
         },
         "mode": "markers",
         "name": "Maryland",
         "orientation": "v",
         "showlegend": true,
         "type": "scatter",
         "x": [
          253.2
         ],
         "xaxis": "x",
         "y": [
          17.03
         ],
         "yaxis": "y"
        },
        {
         "hovertemplate": "<b>%{hovertext}</b><br><br>State=Massachusetts<br>Aggravated assault rate=%{marker.size}<br># of guns per capita=%{y}<extra></extra>",
         "hovertext": [
          "Massachusetts"
         ],
         "legendgroup": "Massachusetts",
         "marker": {
          "color": "#EF553B",
          "size": [
           267.6
          ],
          "sizemode": "area",
          "sizeref": 1.56525,
          "symbol": "circle"
         },
         "mode": "markers",
         "name": "Massachusetts",
         "orientation": "v",
         "showlegend": true,
         "type": "scatter",
         "x": [
          267.6
         ],
         "xaxis": "x",
         "y": [
          5.41
         ],
         "yaxis": "y"
        },
        {
         "hovertemplate": "<b>%{hovertext}</b><br><br>State=Michigan<br>Aggravated assault rate=%{marker.size}<br># of guns per capita=%{y}<extra></extra>",
         "hovertext": [
          "Michigan"
         ],
         "legendgroup": "Michigan",
         "marker": {
          "color": "#00cc96",
          "size": [
           277.7
          ],
          "sizemode": "area",
          "sizeref": 1.56525,
          "symbol": "circle"
         },
         "mode": "markers",
         "name": "Michigan",
         "orientation": "v",
         "showlegend": true,
         "type": "scatter",
         "x": [
          277.7
         ],
         "xaxis": "x",
         "y": [
          6.59
         ],
         "yaxis": "y"
        },
        {
         "hovertemplate": "<b>%{hovertext}</b><br><br>State=Minnesota<br>Aggravated assault rate=%{marker.size}<br># of guns per capita=%{y}<extra></extra>",
         "hovertext": [
          "Minnesota"
         ],
         "legendgroup": "Minnesota",
         "marker": {
          "color": "#ab63fa",
          "size": [
           123.3
          ],
          "sizemode": "area",
          "sizeref": 1.56525,
          "symbol": "circle"
         },
         "mode": "markers",
         "name": "Minnesota",
         "orientation": "v",
         "showlegend": true,
         "type": "scatter",
         "x": [
          123.3
         ],
         "xaxis": "x",
         "y": [
          14.22
         ],
         "yaxis": "y"
        },
        {
         "hovertemplate": "<b>%{hovertext}</b><br><br>State=Mississippi<br>Aggravated assault rate=%{marker.size}<br># of guns per capita=%{y}<extra></extra>",
         "hovertext": [
          "Mississippi"
         ],
         "legendgroup": "Mississippi",
         "marker": {
          "color": "#FFA15A",
          "size": [
           153.4
          ],
          "sizemode": "area",
          "sizeref": 1.56525,
          "symbol": "circle"
         },
         "mode": "markers",
         "name": "Mississippi",
         "orientation": "v",
         "showlegend": true,
         "type": "scatter",
         "x": [
          153.4
         ],
         "xaxis": "x",
         "y": [
          11.89
         ],
         "yaxis": "y"
        },
        {
         "hovertemplate": "<b>%{hovertext}</b><br><br>State=Missouri<br>Aggravated assault rate=%{marker.size}<br># of guns per capita=%{y}<extra></extra>",
         "hovertext": [
          "Missouri"
         ],
         "legendgroup": "Missouri",
         "marker": {
          "color": "#19d3f3",
          "size": [
           304.8
          ],
          "sizemode": "area",
          "sizeref": 1.56525,
          "symbol": "circle"
         },
         "mode": "markers",
         "name": "Missouri",
         "orientation": "v",
         "showlegend": true,
         "type": "scatter",
         "x": [
          304.8
         ],
         "xaxis": "x",
         "y": [
          11.94
         ],
         "yaxis": "y"
        },
        {
         "hovertemplate": "<b>%{hovertext}</b><br><br>State=Montana<br>Aggravated assault rate=%{marker.size}<br># of guns per capita=%{y}<extra></extra>",
         "hovertext": [
          "Montana"
         ],
         "legendgroup": "Montana",
         "marker": {
          "color": "#FF6692",
          "size": [
           247.4
          ],
          "sizemode": "area",
          "sizeref": 1.56525,
          "symbol": "circle"
         },
         "mode": "markers",
         "name": "Montana",
         "orientation": "v",
         "showlegend": true,
         "type": "scatter",
         "x": [
          247.4
         ],
         "xaxis": "x",
         "y": [
          21.06
         ],
         "yaxis": "y"
        },
        {
         "hovertemplate": "<b>%{hovertext}</b><br><br>State=Nebraska<br>Aggravated assault rate=%{marker.size}<br># of guns per capita=%{y}<extra></extra>",
         "hovertext": [
          "Nebraska"
         ],
         "legendgroup": "Nebraska",
         "marker": {
          "color": "#B6E880",
          "size": [
           176.2
          ],
          "sizemode": "area",
          "sizeref": 1.56525,
          "symbol": "circle"
         },
         "mode": "markers",
         "name": "Nebraska",
         "orientation": "v",
         "showlegend": true,
         "type": "scatter",
         "x": [
          176.2
         ],
         "xaxis": "x",
         "y": [
          11.57
         ],
         "yaxis": "y"
        },
        {
         "hovertemplate": "<b>%{hovertext}</b><br><br>State=Nevada<br>Aggravated assault rate=%{marker.size}<br># of guns per capita=%{y}<extra></extra>",
         "hovertext": [
          "Nevada"
         ],
         "legendgroup": "Nevada",
         "marker": {
          "color": "#FF97FF",
          "size": [
           372.1
          ],
          "sizemode": "area",
          "sizeref": 1.56525,
          "symbol": "circle"
         },
         "mode": "markers",
         "name": "Nevada",
         "orientation": "v",
         "showlegend": true,
         "type": "scatter",
         "x": [
          372.1
         ],
         "xaxis": "x",
         "y": [
          25.64
         ],
         "yaxis": "y"
        },
        {
         "hovertemplate": "<b>%{hovertext}</b><br><br>State=New_Hampshire<br>Aggravated assault rate=%{marker.size}<br># of guns per capita=%{y}<extra></extra>",
         "hovertext": [
          "New_Hampshire"
         ],
         "legendgroup": "New_Hampshire",
         "marker": {
          "color": "#FECB52",
          "size": [
           110
          ],
          "sizemode": "area",
          "sizeref": 1.56525,
          "symbol": "circle"
         },
         "mode": "markers",
         "name": "New_Hampshire",
         "orientation": "v",
         "showlegend": true,
         "type": "scatter",
         "x": [
          110
         ],
         "xaxis": "x",
         "y": [
          46.76
         ],
         "yaxis": "y"
        },
        {
         "hovertemplate": "<b>%{hovertext}</b><br><br>State=New_Jersey<br>Aggravated assault rate=%{marker.size}<br># of guns per capita=%{y}<extra></extra>",
         "hovertext": [
          "New_Jersey"
         ],
         "legendgroup": "New_Jersey",
         "marker": {
          "color": "#636efa",
          "size": [
           125.6
          ],
          "sizemode": "area",
          "sizeref": 1.56525,
          "symbol": "circle"
         },
         "mode": "markers",
         "name": "New_Jersey",
         "orientation": "v",
         "showlegend": true,
         "type": "scatter",
         "x": [
          125.6
         ],
         "xaxis": "x",
         "y": [
          6.38
         ],
         "yaxis": "y"
        },
        {
         "hovertemplate": "<b>%{hovertext}</b><br><br>State=New_Mexico<br>Aggravated assault rate=%{marker.size}<br># of guns per capita=%{y}<extra></extra>",
         "hovertext": [
          "New_Mexico"
         ],
         "legendgroup": "New_Mexico",
         "marker": {
          "color": "#EF553B",
          "size": [
           421.8
          ],
          "sizemode": "area",
          "sizeref": 1.56525,
          "symbol": "circle"
         },
         "mode": "markers",
         "name": "New_Mexico",
         "orientation": "v",
         "showlegend": true,
         "type": "scatter",
         "x": [
          421.8
         ],
         "xaxis": "x",
         "y": [
          46.73
         ],
         "yaxis": "y"
        },
        {
         "hovertemplate": "<b>%{hovertext}</b><br><br>State=New_York<br>Aggravated assault rate=%{marker.size}<br># of guns per capita=%{y}<extra></extra>",
         "hovertext": [
          "New_York"
         ],
         "legendgroup": "New_York",
         "marker": {
          "color": "#00cc96",
          "size": [
           229.4
          ],
          "sizemode": "area",
          "sizeref": 1.56525,
          "symbol": "circle"
         },
         "mode": "markers",
         "name": "New_York",
         "orientation": "v",
         "showlegend": true,
         "type": "scatter",
         "x": [
          229.4
         ],
         "xaxis": "x",
         "y": [
          3.83
         ],
         "yaxis": "y"
        },
        {
         "hovertemplate": "<b>%{hovertext}</b><br><br>State=North_Carolina<br>Aggravated assault rate=%{marker.size}<br># of guns per capita=%{y}<extra></extra>",
         "hovertext": [
          "North_Carolina"
         ],
         "legendgroup": "North_Carolina",
         "marker": {
          "color": "#ab63fa",
          "size": [
           215.4
          ],
          "sizemode": "area",
          "sizeref": 1.56525,
          "symbol": "circle"
         },
         "mode": "markers",
         "name": "North_Carolina",
         "orientation": "v",
         "showlegend": true,
         "type": "scatter",
         "x": [
          215.4
         ],
         "xaxis": "x",
         "y": [
          14.818
         ],
         "yaxis": "y"
        },
        {
         "hovertemplate": "<b>%{hovertext}</b><br><br>State=North_Dakota<br>Aggravated assault rate=%{marker.size}<br># of guns per capita=%{y}<extra></extra>",
         "hovertext": [
          "North_Dakota"
         ],
         "legendgroup": "North_Dakota",
         "marker": {
          "color": "#FFA15A",
          "size": [
           190.3
          ],
          "sizemode": "area",
          "sizeref": 1.56525,
          "symbol": "circle"
         },
         "mode": "markers",
         "name": "North_Dakota",
         "orientation": "v",
         "showlegend": true,
         "type": "scatter",
         "x": [
          190.3
         ],
         "xaxis": "x",
         "y": [
          17.56
         ],
         "yaxis": "y"
        },
        {
         "hovertemplate": "<b>%{hovertext}</b><br><br>State=Ohio<br>Aggravated assault rate=%{marker.size}<br># of guns per capita=%{y}<extra></extra>",
         "hovertext": [
          "Ohio"
         ],
         "legendgroup": "Ohio",
         "marker": {
          "color": "#19d3f3",
          "size": [
           127.4
          ],
          "sizemode": "area",
          "sizeref": 1.56525,
          "symbol": "circle"
         },
         "mode": "markers",
         "name": "Ohio",
         "orientation": "v",
         "showlegend": true,
         "type": "scatter",
         "x": [
          127.4
         ],
         "xaxis": "x",
         "y": [
          14.87
         ],
         "yaxis": "y"
        },
        {
         "hovertemplate": "<b>%{hovertext}</b><br><br>State=Oklahoma<br>Aggravated assault rate=%{marker.size}<br># of guns per capita=%{y}<extra></extra>",
         "hovertext": [
          "Oklahoma"
         ],
         "legendgroup": "Oklahoma",
         "marker": {
          "color": "#FF6692",
          "size": [
           277
          ],
          "sizemode": "area",
          "sizeref": 1.56525,
          "symbol": "circle"
         },
         "mode": "markers",
         "name": "Oklahoma",
         "orientation": "v",
         "showlegend": true,
         "type": "scatter",
         "x": [
          277
         ],
         "xaxis": "x",
         "y": [
          18.13
         ],
         "yaxis": "y"
        },
        {
         "hovertemplate": "<b>%{hovertext}</b><br><br>State=Oregon<br>Aggravated assault rate=%{marker.size}<br># of guns per capita=%{y}<extra></extra>",
         "hovertext": [
          "Oregon"
         ],
         "legendgroup": "Oregon",
         "marker": {
          "color": "#B6E880",
          "size": [
           140.8
          ],
          "sizemode": "area",
          "sizeref": 1.56525,
          "symbol": "circle"
         },
         "mode": "markers",
         "name": "Oregon",
         "orientation": "v",
         "showlegend": true,
         "type": "scatter",
         "x": [
          140.8
         ],
         "xaxis": "x",
         "y": [
          14.815999999999999
         ],
         "yaxis": "y"
        },
        {
         "hovertemplate": "<b>%{hovertext}</b><br><br>State=Pennsylvania<br>Aggravated assault rate=%{marker.size}<br># of guns per capita=%{y}<extra></extra>",
         "hovertext": [
          "Pennsylvania"
         ],
         "legendgroup": "Pennsylvania",
         "marker": {
          "color": "#FF97FF",
          "size": [
           173.5
          ],
          "sizemode": "area",
          "sizeref": 1.56525,
          "symbol": "circle"
         },
         "mode": "markers",
         "name": "Pennsylvania",
         "orientation": "v",
         "showlegend": true,
         "type": "scatter",
         "x": [
          173.5
         ],
         "xaxis": "x",
         "y": [
          18.45
         ],
         "yaxis": "y"
        },
        {
         "hovertemplate": "<b>%{hovertext}</b><br><br>State=Rhode_Island<br>Aggravated assault rate=%{marker.size}<br># of guns per capita=%{y}<extra></extra>",
         "hovertext": [
          "Rhode_Island"
         ],
         "legendgroup": "Rhode_Island",
         "marker": {
          "color": "#FECB52",
          "size": [
           132.5
          ],
          "sizemode": "area",
          "sizeref": 1.56525,
          "symbol": "circle"
         },
         "mode": "markers",
         "name": "Rhode_Island",
         "orientation": "v",
         "showlegend": true,
         "type": "scatter",
         "x": [
          132.5
         ],
         "xaxis": "x",
         "y": [
          3.98
         ],
         "yaxis": "y"
        },
        {
         "hovertemplate": "<b>%{hovertext}</b><br><br>State=South_Carolina<br>Aggravated assault rate=%{marker.size}<br># of guns per capita=%{y}<extra></extra>",
         "hovertext": [
          "South_Carolina"
         ],
         "legendgroup": "South_Carolina",
         "marker": {
          "color": "#636efa",
          "size": [
           365.8
          ],
          "sizemode": "area",
          "sizeref": 1.56525,
          "symbol": "circle"
         },
         "mode": "markers",
         "name": "South_Carolina",
         "orientation": "v",
         "showlegend": true,
         "type": "scatter",
         "x": [
          365.8
         ],
         "xaxis": "x",
         "y": [
          21.01
         ],
         "yaxis": "y"
        },
        {
         "hovertemplate": "<b>%{hovertext}</b><br><br>State=South_Dakota<br>Aggravated assault rate=%{marker.size}<br># of guns per capita=%{y}<extra></extra>",
         "hovertext": [
          "South_Dakota"
         ],
         "legendgroup": "South_Dakota",
         "marker": {
          "color": "#EF553B",
          "size": [
           245.7
          ],
          "sizemode": "area",
          "sizeref": 1.56525,
          "symbol": "circle"
         },
         "mode": "markers",
         "name": "South_Dakota",
         "orientation": "v",
         "showlegend": true,
         "type": "scatter",
         "x": [
          245.7
         ],
         "xaxis": "x",
         "y": [
          24.29
         ],
         "yaxis": "y"
        },
        {
         "hovertemplate": "<b>%{hovertext}</b><br><br>State=Tennessee<br>Aggravated assault rate=%{marker.size}<br># of guns per capita=%{y}<extra></extra>",
         "hovertext": [
          "Tennessee"
         ],
         "legendgroup": "Tennessee",
         "marker": {
          "color": "#00cc96",
          "size": [
           453.2
          ],
          "sizemode": "area",
          "sizeref": 1.56525,
          "symbol": "circle"
         },
         "mode": "markers",
         "name": "Tennessee",
         "orientation": "v",
         "showlegend": true,
         "type": "scatter",
         "x": [
          453.2
         ],
         "xaxis": "x",
         "y": [
          14.76
         ],
         "yaxis": "y"
        },
        {
         "hovertemplate": "<b>%{hovertext}</b><br><br>State=Texas<br>Aggravated assault rate=%{marker.size}<br># of guns per capita=%{y}<extra></extra>",
         "hovertext": [
          "Texas"
         ],
         "legendgroup": "Texas",
         "marker": {
          "color": "#ab63fa",
          "size": [
           243.6
          ],
          "sizemode": "area",
          "sizeref": 1.56525,
          "symbol": "circle"
         },
         "mode": "markers",
         "name": "Texas",
         "orientation": "v",
         "showlegend": true,
         "type": "scatter",
         "x": [
          243.6
         ],
         "xaxis": "x",
         "y": [
          20.79
         ],
         "yaxis": "y"
        },
        {
         "hovertemplate": "<b>%{hovertext}</b><br><br>State=Utah<br>Aggravated assault rate=%{marker.size}<br># of guns per capita=%{y}<extra></extra>",
         "hovertext": [
          "Utah"
         ],
         "legendgroup": "Utah",
         "marker": {
          "color": "#FFA15A",
          "size": [
           119.4
          ],
          "sizemode": "area",
          "sizeref": 1.56525,
          "symbol": "circle"
         },
         "mode": "markers",
         "name": "Utah",
         "orientation": "v",
         "showlegend": true,
         "type": "scatter",
         "x": [
          119.4
         ],
         "xaxis": "x",
         "y": [
          23.48
         ],
         "yaxis": "y"
        },
        {
         "hovertemplate": "<b>%{hovertext}</b><br><br>State=Vermont<br>Aggravated assault rate=%{marker.size}<br># of guns per capita=%{y}<extra></extra>",
         "hovertext": [
          "Vermont"
         ],
         "legendgroup": "Vermont",
         "marker": {
          "color": "#19d3f3",
          "size": [
           68.9
          ],
          "sizemode": "area",
          "sizeref": 1.56525,
          "symbol": "circle"
         },
         "mode": "markers",
         "name": "Vermont",
         "orientation": "v",
         "showlegend": true,
         "type": "scatter",
         "x": [
          68.9
         ],
         "xaxis": "x",
         "y": [
          9.41
         ],
         "yaxis": "y"
        },
        {
         "hovertemplate": "<b>%{hovertext}</b><br><br>State=Virginia<br>Aggravated assault rate=%{marker.size}<br># of guns per capita=%{y}<extra></extra>",
         "hovertext": [
          "Virginia"
         ],
         "legendgroup": "Virginia",
         "marker": {
          "color": "#FF6692",
          "size": [
           112.9
          ],
          "sizemode": "area",
          "sizeref": 1.56525,
          "symbol": "circle"
         },
         "mode": "markers",
         "name": "Virginia",
         "orientation": "v",
         "showlegend": true,
         "type": "scatter",
         "x": [
          112.9
         ],
         "xaxis": "x",
         "y": [
          36.34
         ],
         "yaxis": "y"
        },
        {
         "hovertemplate": "<b>%{hovertext}</b><br><br>State=Washington<br>Aggravated assault rate=%{marker.size}<br># of guns per capita=%{y}<extra></extra>",
         "hovertext": [
          "Washington"
         ],
         "legendgroup": "Washington",
         "marker": {
          "color": "#B6E880",
          "size": [
           164.7
          ],
          "sizemode": "area",
          "sizeref": 1.56525,
          "symbol": "circle"
         },
         "mode": "markers",
         "name": "Washington",
         "orientation": "v",
         "showlegend": true,
         "type": "scatter",
         "x": [
          164.7
         ],
         "xaxis": "x",
         "y": [
          12.4
         ],
         "yaxis": "y"
        },
        {
         "hovertemplate": "<b>%{hovertext}</b><br><br>State=West_Virginia<br>Aggravated assault rate=%{marker.size}<br># of guns per capita=%{y}<extra></extra>",
         "hovertext": [
          "West_Virginia"
         ],
         "legendgroup": "West_Virginia",
         "marker": {
          "color": "#FF97FF",
          "size": [
           235.5
          ],
          "sizemode": "area",
          "sizeref": 1.56525,
          "symbol": "circle"
         },
         "mode": "markers",
         "name": "West_Virginia",
         "orientation": "v",
         "showlegend": true,
         "type": "scatter",
         "x": [
          235.5
         ],
         "xaxis": "x",
         "y": [
          19.42
         ],
         "yaxis": "y"
        },
        {
         "hovertemplate": "<b>%{hovertext}</b><br><br>State=Wisconsin<br>Aggravated assault rate=%{marker.size}<br># of guns per capita=%{y}<extra></extra>",
         "hovertext": [
          "Wisconsin"
         ],
         "legendgroup": "Wisconsin",
         "marker": {
          "color": "#FECB52",
          "size": [
           170.4
          ],
          "sizemode": "area",
          "sizeref": 1.56525,
          "symbol": "circle"
         },
         "mode": "markers",
         "name": "Wisconsin",
         "orientation": "v",
         "showlegend": true,
         "type": "scatter",
         "x": [
          170.4
         ],
         "xaxis": "x",
         "y": [
          11.19
         ],
         "yaxis": "y"
        },
        {
         "hovertemplate": "<b>%{hovertext}</b><br><br>State=Wyoming<br>Aggravated assault rate=%{marker.size}<br># of guns per capita=%{y}<extra></extra>",
         "hovertext": [
          "Wyoming"
         ],
         "legendgroup": "Wyoming",
         "marker": {
          "color": "#636efa",
          "size": [
           153.9
          ],
          "sizemode": "area",
          "sizeref": 1.56525,
          "symbol": "circle"
         },
         "mode": "markers",
         "name": "Wyoming",
         "orientation": "v",
         "showlegend": true,
         "type": "scatter",
         "x": [
          153.9
         ],
         "xaxis": "x",
         "y": [
          229.24
         ],
         "yaxis": "y"
        }
       ],
       "layout": {
        "legend": {
         "itemsizing": "constant",
         "title": {
          "text": "State"
         },
         "tracegroupgap": 0
        },
        "template": {
         "data": {
          "bar": [
           {
            "error_x": {
             "color": "#2a3f5f"
            },
            "error_y": {
             "color": "#2a3f5f"
            },
            "marker": {
             "line": {
              "color": "#E5ECF6",
              "width": 0.5
             }
            },
            "type": "bar"
           }
          ],
          "barpolar": [
           {
            "marker": {
             "line": {
              "color": "#E5ECF6",
              "width": 0.5
             }
            },
            "type": "barpolar"
           }
          ],
          "carpet": [
           {
            "aaxis": {
             "endlinecolor": "#2a3f5f",
             "gridcolor": "white",
             "linecolor": "white",
             "minorgridcolor": "white",
             "startlinecolor": "#2a3f5f"
            },
            "baxis": {
             "endlinecolor": "#2a3f5f",
             "gridcolor": "white",
             "linecolor": "white",
             "minorgridcolor": "white",
             "startlinecolor": "#2a3f5f"
            },
            "type": "carpet"
           }
          ],
          "choropleth": [
           {
            "colorbar": {
             "outlinewidth": 0,
             "ticks": ""
            },
            "type": "choropleth"
           }
          ],
          "contour": [
           {
            "colorbar": {
             "outlinewidth": 0,
             "ticks": ""
            },
            "colorscale": [
             [
              0,
              "#0d0887"
             ],
             [
              0.1111111111111111,
              "#46039f"
             ],
             [
              0.2222222222222222,
              "#7201a8"
             ],
             [
              0.3333333333333333,
              "#9c179e"
             ],
             [
              0.4444444444444444,
              "#bd3786"
             ],
             [
              0.5555555555555556,
              "#d8576b"
             ],
             [
              0.6666666666666666,
              "#ed7953"
             ],
             [
              0.7777777777777778,
              "#fb9f3a"
             ],
             [
              0.8888888888888888,
              "#fdca26"
             ],
             [
              1,
              "#f0f921"
             ]
            ],
            "type": "contour"
           }
          ],
          "contourcarpet": [
           {
            "colorbar": {
             "outlinewidth": 0,
             "ticks": ""
            },
            "type": "contourcarpet"
           }
          ],
          "heatmap": [
           {
            "colorbar": {
             "outlinewidth": 0,
             "ticks": ""
            },
            "colorscale": [
             [
              0,
              "#0d0887"
             ],
             [
              0.1111111111111111,
              "#46039f"
             ],
             [
              0.2222222222222222,
              "#7201a8"
             ],
             [
              0.3333333333333333,
              "#9c179e"
             ],
             [
              0.4444444444444444,
              "#bd3786"
             ],
             [
              0.5555555555555556,
              "#d8576b"
             ],
             [
              0.6666666666666666,
              "#ed7953"
             ],
             [
              0.7777777777777778,
              "#fb9f3a"
             ],
             [
              0.8888888888888888,
              "#fdca26"
             ],
             [
              1,
              "#f0f921"
             ]
            ],
            "type": "heatmap"
           }
          ],
          "heatmapgl": [
           {
            "colorbar": {
             "outlinewidth": 0,
             "ticks": ""
            },
            "colorscale": [
             [
              0,
              "#0d0887"
             ],
             [
              0.1111111111111111,
              "#46039f"
             ],
             [
              0.2222222222222222,
              "#7201a8"
             ],
             [
              0.3333333333333333,
              "#9c179e"
             ],
             [
              0.4444444444444444,
              "#bd3786"
             ],
             [
              0.5555555555555556,
              "#d8576b"
             ],
             [
              0.6666666666666666,
              "#ed7953"
             ],
             [
              0.7777777777777778,
              "#fb9f3a"
             ],
             [
              0.8888888888888888,
              "#fdca26"
             ],
             [
              1,
              "#f0f921"
             ]
            ],
            "type": "heatmapgl"
           }
          ],
          "histogram": [
           {
            "marker": {
             "colorbar": {
              "outlinewidth": 0,
              "ticks": ""
             }
            },
            "type": "histogram"
           }
          ],
          "histogram2d": [
           {
            "colorbar": {
             "outlinewidth": 0,
             "ticks": ""
            },
            "colorscale": [
             [
              0,
              "#0d0887"
             ],
             [
              0.1111111111111111,
              "#46039f"
             ],
             [
              0.2222222222222222,
              "#7201a8"
             ],
             [
              0.3333333333333333,
              "#9c179e"
             ],
             [
              0.4444444444444444,
              "#bd3786"
             ],
             [
              0.5555555555555556,
              "#d8576b"
             ],
             [
              0.6666666666666666,
              "#ed7953"
             ],
             [
              0.7777777777777778,
              "#fb9f3a"
             ],
             [
              0.8888888888888888,
              "#fdca26"
             ],
             [
              1,
              "#f0f921"
             ]
            ],
            "type": "histogram2d"
           }
          ],
          "histogram2dcontour": [
           {
            "colorbar": {
             "outlinewidth": 0,
             "ticks": ""
            },
            "colorscale": [
             [
              0,
              "#0d0887"
             ],
             [
              0.1111111111111111,
              "#46039f"
             ],
             [
              0.2222222222222222,
              "#7201a8"
             ],
             [
              0.3333333333333333,
              "#9c179e"
             ],
             [
              0.4444444444444444,
              "#bd3786"
             ],
             [
              0.5555555555555556,
              "#d8576b"
             ],
             [
              0.6666666666666666,
              "#ed7953"
             ],
             [
              0.7777777777777778,
              "#fb9f3a"
             ],
             [
              0.8888888888888888,
              "#fdca26"
             ],
             [
              1,
              "#f0f921"
             ]
            ],
            "type": "histogram2dcontour"
           }
          ],
          "mesh3d": [
           {
            "colorbar": {
             "outlinewidth": 0,
             "ticks": ""
            },
            "type": "mesh3d"
           }
          ],
          "parcoords": [
           {
            "line": {
             "colorbar": {
              "outlinewidth": 0,
              "ticks": ""
             }
            },
            "type": "parcoords"
           }
          ],
          "pie": [
           {
            "automargin": true,
            "type": "pie"
           }
          ],
          "scatter": [
           {
            "marker": {
             "colorbar": {
              "outlinewidth": 0,
              "ticks": ""
             }
            },
            "type": "scatter"
           }
          ],
          "scatter3d": [
           {
            "line": {
             "colorbar": {
              "outlinewidth": 0,
              "ticks": ""
             }
            },
            "marker": {
             "colorbar": {
              "outlinewidth": 0,
              "ticks": ""
             }
            },
            "type": "scatter3d"
           }
          ],
          "scattercarpet": [
           {
            "marker": {
             "colorbar": {
              "outlinewidth": 0,
              "ticks": ""
             }
            },
            "type": "scattercarpet"
           }
          ],
          "scattergeo": [
           {
            "marker": {
             "colorbar": {
              "outlinewidth": 0,
              "ticks": ""
             }
            },
            "type": "scattergeo"
           }
          ],
          "scattergl": [
           {
            "marker": {
             "colorbar": {
              "outlinewidth": 0,
              "ticks": ""
             }
            },
            "type": "scattergl"
           }
          ],
          "scattermapbox": [
           {
            "marker": {
             "colorbar": {
              "outlinewidth": 0,
              "ticks": ""
             }
            },
            "type": "scattermapbox"
           }
          ],
          "scatterpolar": [
           {
            "marker": {
             "colorbar": {
              "outlinewidth": 0,
              "ticks": ""
             }
            },
            "type": "scatterpolar"
           }
          ],
          "scatterpolargl": [
           {
            "marker": {
             "colorbar": {
              "outlinewidth": 0,
              "ticks": ""
             }
            },
            "type": "scatterpolargl"
           }
          ],
          "scatterternary": [
           {
            "marker": {
             "colorbar": {
              "outlinewidth": 0,
              "ticks": ""
             }
            },
            "type": "scatterternary"
           }
          ],
          "surface": [
           {
            "colorbar": {
             "outlinewidth": 0,
             "ticks": ""
            },
            "colorscale": [
             [
              0,
              "#0d0887"
             ],
             [
              0.1111111111111111,
              "#46039f"
             ],
             [
              0.2222222222222222,
              "#7201a8"
             ],
             [
              0.3333333333333333,
              "#9c179e"
             ],
             [
              0.4444444444444444,
              "#bd3786"
             ],
             [
              0.5555555555555556,
              "#d8576b"
             ],
             [
              0.6666666666666666,
              "#ed7953"
             ],
             [
              0.7777777777777778,
              "#fb9f3a"
             ],
             [
              0.8888888888888888,
              "#fdca26"
             ],
             [
              1,
              "#f0f921"
             ]
            ],
            "type": "surface"
           }
          ],
          "table": [
           {
            "cells": {
             "fill": {
              "color": "#EBF0F8"
             },
             "line": {
              "color": "white"
             }
            },
            "header": {
             "fill": {
              "color": "#C8D4E3"
             },
             "line": {
              "color": "white"
             }
            },
            "type": "table"
           }
          ]
         },
         "layout": {
          "annotationdefaults": {
           "arrowcolor": "#2a3f5f",
           "arrowhead": 0,
           "arrowwidth": 1
          },
          "coloraxis": {
           "colorbar": {
            "outlinewidth": 0,
            "ticks": ""
           }
          },
          "colorscale": {
           "diverging": [
            [
             0,
             "#8e0152"
            ],
            [
             0.1,
             "#c51b7d"
            ],
            [
             0.2,
             "#de77ae"
            ],
            [
             0.3,
             "#f1b6da"
            ],
            [
             0.4,
             "#fde0ef"
            ],
            [
             0.5,
             "#f7f7f7"
            ],
            [
             0.6,
             "#e6f5d0"
            ],
            [
             0.7,
             "#b8e186"
            ],
            [
             0.8,
             "#7fbc41"
            ],
            [
             0.9,
             "#4d9221"
            ],
            [
             1,
             "#276419"
            ]
           ],
           "sequential": [
            [
             0,
             "#0d0887"
            ],
            [
             0.1111111111111111,
             "#46039f"
            ],
            [
             0.2222222222222222,
             "#7201a8"
            ],
            [
             0.3333333333333333,
             "#9c179e"
            ],
            [
             0.4444444444444444,
             "#bd3786"
            ],
            [
             0.5555555555555556,
             "#d8576b"
            ],
            [
             0.6666666666666666,
             "#ed7953"
            ],
            [
             0.7777777777777778,
             "#fb9f3a"
            ],
            [
             0.8888888888888888,
             "#fdca26"
            ],
            [
             1,
             "#f0f921"
            ]
           ],
           "sequentialminus": [
            [
             0,
             "#0d0887"
            ],
            [
             0.1111111111111111,
             "#46039f"
            ],
            [
             0.2222222222222222,
             "#7201a8"
            ],
            [
             0.3333333333333333,
             "#9c179e"
            ],
            [
             0.4444444444444444,
             "#bd3786"
            ],
            [
             0.5555555555555556,
             "#d8576b"
            ],
            [
             0.6666666666666666,
             "#ed7953"
            ],
            [
             0.7777777777777778,
             "#fb9f3a"
            ],
            [
             0.8888888888888888,
             "#fdca26"
            ],
            [
             1,
             "#f0f921"
            ]
           ]
          },
          "colorway": [
           "#636efa",
           "#EF553B",
           "#00cc96",
           "#ab63fa",
           "#FFA15A",
           "#19d3f3",
           "#FF6692",
           "#B6E880",
           "#FF97FF",
           "#FECB52"
          ],
          "font": {
           "color": "#2a3f5f"
          },
          "geo": {
           "bgcolor": "white",
           "lakecolor": "white",
           "landcolor": "#E5ECF6",
           "showlakes": true,
           "showland": true,
           "subunitcolor": "white"
          },
          "hoverlabel": {
           "align": "left"
          },
          "hovermode": "closest",
          "mapbox": {
           "style": "light"
          },
          "paper_bgcolor": "white",
          "plot_bgcolor": "#E5ECF6",
          "polar": {
           "angularaxis": {
            "gridcolor": "white",
            "linecolor": "white",
            "ticks": ""
           },
           "bgcolor": "#E5ECF6",
           "radialaxis": {
            "gridcolor": "white",
            "linecolor": "white",
            "ticks": ""
           }
          },
          "scene": {
           "xaxis": {
            "backgroundcolor": "#E5ECF6",
            "gridcolor": "white",
            "gridwidth": 2,
            "linecolor": "white",
            "showbackground": true,
            "ticks": "",
            "zerolinecolor": "white"
           },
           "yaxis": {
            "backgroundcolor": "#E5ECF6",
            "gridcolor": "white",
            "gridwidth": 2,
            "linecolor": "white",
            "showbackground": true,
            "ticks": "",
            "zerolinecolor": "white"
           },
           "zaxis": {
            "backgroundcolor": "#E5ECF6",
            "gridcolor": "white",
            "gridwidth": 2,
            "linecolor": "white",
            "showbackground": true,
            "ticks": "",
            "zerolinecolor": "white"
           }
          },
          "shapedefaults": {
           "line": {
            "color": "#2a3f5f"
           }
          },
          "ternary": {
           "aaxis": {
            "gridcolor": "white",
            "linecolor": "white",
            "ticks": ""
           },
           "baxis": {
            "gridcolor": "white",
            "linecolor": "white",
            "ticks": ""
           },
           "bgcolor": "#E5ECF6",
           "caxis": {
            "gridcolor": "white",
            "linecolor": "white",
            "ticks": ""
           }
          },
          "title": {
           "x": 0.05
          },
          "xaxis": {
           "automargin": true,
           "gridcolor": "white",
           "linecolor": "white",
           "ticks": "",
           "title": {
            "standoff": 15
           },
           "zerolinecolor": "white",
           "zerolinewidth": 2
          },
          "yaxis": {
           "automargin": true,
           "gridcolor": "white",
           "linecolor": "white",
           "ticks": "",
           "title": {
            "standoff": 15
           },
           "zerolinecolor": "white",
           "zerolinewidth": 2
          }
         }
        },
        "title": {
         "text": "Agravated Assault Rate in the US"
        },
        "xaxis": {
         "anchor": "y",
         "domain": [
          0,
          1
         ],
         "title": {
          "text": "Aggravated assault rate"
         }
        },
        "yaxis": {
         "anchor": "x",
         "domain": [
          0,
          1
         ],
         "title": {
          "text": "# of guns per capita"
         }
        }
       }
      },
      "text/html": [
       "<div>\n",
       "        \n",
       "        \n",
       "            <div id=\"2900c580-4ced-4966-b154-2f3bf36776ba\" class=\"plotly-graph-div\" style=\"height:525px; width:100%;\"></div>\n",
       "            <script type=\"text/javascript\">\n",
       "                require([\"plotly\"], function(Plotly) {\n",
       "                    window.PLOTLYENV=window.PLOTLYENV || {};\n",
       "                    \n",
       "                if (document.getElementById(\"2900c580-4ced-4966-b154-2f3bf36776ba\")) {\n",
       "                    Plotly.newPlot(\n",
       "                        '2900c580-4ced-4966-b154-2f3bf36776ba',\n",
       "                        [{\"hovertemplate\": \"<b>%{hovertext}</b><br><br>State=Alabama<br>Aggravated assault rate=%{marker.size}<br># of guns per capita=%{y}<extra></extra>\", \"hovertext\": [\"Alabama\"], \"legendgroup\": \"Alabama\", \"marker\": {\"color\": \"#636efa\", \"size\": [283.4], \"sizemode\": \"area\", \"sizeref\": 1.56525, \"symbol\": \"circle\"}, \"mode\": \"markers\", \"name\": \"Alabama\", \"orientation\": \"v\", \"showlegend\": true, \"type\": \"scatter\", \"x\": [283.4], \"xaxis\": \"x\", \"y\": [33.15], \"yaxis\": \"y\"}, {\"hovertemplate\": \"<b>%{hovertext}</b><br><br>State=Alaska<br>Aggravated assault rate=%{marker.size}<br># of guns per capita=%{y}<extra></extra>\", \"hovertext\": [\"Alaska\"], \"legendgroup\": \"Alaska\", \"marker\": {\"color\": \"#EF553B\", \"size\": [440.2], \"sizemode\": \"area\", \"sizeref\": 1.56525, \"symbol\": \"circle\"}, \"mode\": \"markers\", \"name\": \"Alaska\", \"orientation\": \"v\", \"showlegend\": true, \"type\": \"scatter\", \"x\": [440.2], \"xaxis\": \"x\", \"y\": [21.38], \"yaxis\": \"y\"}, {\"hovertemplate\": \"<b>%{hovertext}</b><br><br>State=Arizona<br>Aggravated assault rate=%{marker.size}<br># of guns per capita=%{y}<extra></extra>\", \"hovertext\": [\"Arizona\"], \"legendgroup\": \"Arizona\", \"marker\": {\"color\": \"#00cc96\", \"size\": [252.1], \"sizemode\": \"area\", \"sizeref\": 1.56525, \"symbol\": \"circle\"}, \"mode\": \"markers\", \"name\": \"Arizona\", \"orientation\": \"v\", \"showlegend\": true, \"type\": \"scatter\", \"x\": [252.1], \"xaxis\": \"x\", \"y\": [25.61], \"yaxis\": \"y\"}, {\"hovertemplate\": \"<b>%{hovertext}</b><br><br>State=Arkansas<br>Aggravated assault rate=%{marker.size}<br># of guns per capita=%{y}<extra></extra>\", \"hovertext\": [\"Arkansas\"], \"legendgroup\": \"Arkansas\", \"marker\": {\"color\": \"#ab63fa\", \"size\": [346.0], \"sizemode\": \"area\", \"sizeref\": 1.56525, \"symbol\": \"circle\"}, \"mode\": \"markers\", \"name\": \"Arkansas\", \"orientation\": \"v\", \"showlegend\": true, \"type\": \"scatter\", \"x\": [346.0], \"xaxis\": \"x\", \"y\": [26.57], \"yaxis\": \"y\"}, {\"hovertemplate\": \"<b>%{hovertext}</b><br><br>State=California<br>Aggravated assault rate=%{marker.size}<br># of guns per capita=%{y}<extra></extra>\", \"hovertext\": [\"California\"], \"legendgroup\": \"California\", \"marker\": {\"color\": \"#FFA15A\", \"size\": [236.6], \"sizemode\": \"area\", \"sizeref\": 1.56525, \"symbol\": \"circle\"}, \"mode\": \"markers\", \"name\": \"California\", \"orientation\": \"v\", \"showlegend\": true, \"type\": \"scatter\", \"x\": [236.6], \"xaxis\": \"x\", \"y\": [8.71], \"yaxis\": \"y\"}, {\"hovertemplate\": \"<b>%{hovertext}</b><br><br>State=Colorado<br>Aggravated assault rate=%{marker.size}<br># of guns per capita=%{y}<extra></extra>\", \"hovertext\": [\"Colorado\"], \"legendgroup\": \"Colorado\", \"marker\": {\"color\": \"#19d3f3\", \"size\": [192.8], \"sizemode\": \"area\", \"sizeref\": 1.56525, \"symbol\": \"circle\"}, \"mode\": \"markers\", \"name\": \"Colorado\", \"orientation\": \"v\", \"showlegend\": true, \"type\": \"scatter\", \"x\": [192.8], \"xaxis\": \"x\", \"y\": [16.48], \"yaxis\": \"y\"}, {\"hovertemplate\": \"<b>%{hovertext}</b><br><br>State=Connecticut<br>Aggravated assault rate=%{marker.size}<br># of guns per capita=%{y}<extra></extra>\", \"hovertext\": [\"Connecticut\"], \"legendgroup\": \"Connecticut\", \"marker\": {\"color\": \"#FF6692\", \"size\": [125.0], \"sizemode\": \"area\", \"sizeref\": 1.56525, \"symbol\": \"circle\"}, \"mode\": \"markers\", \"name\": \"Connecticut\", \"orientation\": \"v\", \"showlegend\": true, \"type\": \"scatter\", \"x\": [125.0], \"xaxis\": \"x\", \"y\": [22.96], \"yaxis\": \"y\"}, {\"hovertemplate\": \"<b>%{hovertext}</b><br><br>State=DC<br>Aggravated assault rate=%{marker.size}<br># of guns per capita=%{y}<extra></extra>\", \"hovertext\": [\"DC\"], \"legendgroup\": \"DC\", \"marker\": {\"color\": \"#B6E880\", \"size\": [626.1], \"sizemode\": \"area\", \"sizeref\": 1.56525, \"symbol\": \"circle\"}, \"mode\": \"markers\", \"name\": \"DC\", \"orientation\": \"v\", \"showlegend\": true, \"type\": \"scatter\", \"x\": [626.1], \"xaxis\": \"x\", \"y\": [68.05], \"yaxis\": \"y\"}, {\"hovertemplate\": \"<b>%{hovertext}</b><br><br>State=Delaware<br>Aggravated assault rate=%{marker.size}<br># of guns per capita=%{y}<extra></extra>\", \"hovertext\": [\"Delaware\"], \"legendgroup\": \"Delaware\", \"marker\": {\"color\": \"#FF97FF\", \"size\": [306.4], \"sizemode\": \"area\", \"sizeref\": 1.56525, \"symbol\": \"circle\"}, \"mode\": \"markers\", \"name\": \"Delaware\", \"orientation\": \"v\", \"showlegend\": true, \"type\": \"scatter\", \"x\": [306.4], \"xaxis\": \"x\", \"y\": [5.04], \"yaxis\": \"y\"}, {\"hovertemplate\": \"<b>%{hovertext}</b><br><br>State=Florida<br>Aggravated assault rate=%{marker.size}<br># of guns per capita=%{y}<extra></extra>\", \"hovertext\": [\"Florida\"], \"legendgroup\": \"Florida\", \"marker\": {\"color\": \"#FECB52\", \"size\": [366.4], \"sizemode\": \"area\", \"sizeref\": 1.56525, \"symbol\": \"circle\"}, \"mode\": \"markers\", \"name\": \"Florida\", \"orientation\": \"v\", \"showlegend\": true, \"type\": \"scatter\", \"x\": [366.4], \"xaxis\": \"x\", \"y\": [16.35], \"yaxis\": \"y\"}, {\"hovertemplate\": \"<b>%{hovertext}</b><br><br>State=Georgia<br>Aggravated assault rate=%{marker.size}<br># of guns per capita=%{y}<extra></extra>\", \"hovertext\": [\"Georgia\"], \"legendgroup\": \"Georgia\", \"marker\": {\"color\": \"#636efa\", \"size\": [218.4], \"sizemode\": \"area\", \"sizeref\": 1.56525, \"symbol\": \"circle\"}, \"mode\": \"markers\", \"name\": \"Georgia\", \"orientation\": \"v\", \"showlegend\": true, \"type\": \"scatter\", \"x\": [218.4], \"xaxis\": \"x\", \"y\": [18.22], \"yaxis\": \"y\"}, {\"hovertemplate\": \"<b>%{hovertext}</b><br><br>State=Hawaii<br>Aggravated assault rate=%{marker.size}<br># of guns per capita=%{y}<extra></extra>\", \"hovertext\": [\"Hawaii\"], \"legendgroup\": \"Hawaii\", \"marker\": {\"color\": \"#EF553B\", \"size\": [148.1], \"sizemode\": \"area\", \"sizeref\": 1.56525, \"symbol\": \"circle\"}, \"mode\": \"markers\", \"name\": \"Hawaii\", \"orientation\": \"v\", \"showlegend\": true, \"type\": \"scatter\", \"x\": [148.1], \"xaxis\": \"x\", \"y\": [5.5], \"yaxis\": \"y\"}, {\"hovertemplate\": \"<b>%{hovertext}</b><br><br>State=Idaho<br>Aggravated assault rate=%{marker.size}<br># of guns per capita=%{y}<extra></extra>\", \"hovertext\": [\"Idaho\"], \"legendgroup\": \"Idaho\", \"marker\": {\"color\": \"#00cc96\", \"size\": [160.5], \"sizemode\": \"area\", \"sizeref\": 1.56525, \"symbol\": \"circle\"}, \"mode\": \"markers\", \"name\": \"Idaho\", \"orientation\": \"v\", \"showlegend\": true, \"type\": \"scatter\", \"x\": [160.5], \"xaxis\": \"x\", \"y\": [28.86], \"yaxis\": \"y\"}, {\"hovertemplate\": \"<b>%{hovertext}</b><br><br>State=Illinois<br>Aggravated assault rate=%{marker.size}<br># of guns per capita=%{y}<extra></extra>\", \"hovertext\": [\"Illinois\"], \"legendgroup\": \"Illinois\", \"marker\": {\"color\": \"#ab63fa\", \"size\": [213.7], \"sizemode\": \"area\", \"sizeref\": 1.56525, \"symbol\": \"circle\"}, \"mode\": \"markers\", \"name\": \"Illinois\", \"orientation\": \"v\", \"showlegend\": true, \"type\": \"scatter\", \"x\": [213.7], \"xaxis\": \"x\", \"y\": [11.44], \"yaxis\": \"y\"}, {\"hovertemplate\": \"<b>%{hovertext}</b><br><br>State=Indiana<br>Aggravated assault rate=%{marker.size}<br># of guns per capita=%{y}<extra></extra>\", \"hovertext\": [\"Indiana\"], \"legendgroup\": \"Indiana\", \"marker\": {\"color\": \"#FFA15A\", \"size\": [222.6], \"sizemode\": \"area\", \"sizeref\": 1.56525, \"symbol\": \"circle\"}, \"mode\": \"markers\", \"name\": \"Indiana\", \"orientation\": \"v\", \"showlegend\": true, \"type\": \"scatter\", \"x\": [222.6], \"xaxis\": \"x\", \"y\": [17.1], \"yaxis\": \"y\"}, {\"hovertemplate\": \"<b>%{hovertext}</b><br><br>State=Iowa<br>Aggravated assault rate=%{marker.size}<br># of guns per capita=%{y}<extra></extra>\", \"hovertext\": [\"Iowa\"], \"legendgroup\": \"Iowa\", \"marker\": {\"color\": \"#19d3f3\", \"size\": [201.6], \"sizemode\": \"area\", \"sizeref\": 1.56525, \"symbol\": \"circle\"}, \"mode\": \"markers\", \"name\": \"Iowa\", \"orientation\": \"v\", \"showlegend\": true, \"type\": \"scatter\", \"x\": [201.6], \"xaxis\": \"x\", \"y\": [9.05], \"yaxis\": \"y\"}, {\"hovertemplate\": \"<b>%{hovertext}</b><br><br>State=Kansas<br>Aggravated assault rate=%{marker.size}<br># of guns per capita=%{y}<extra></extra>\", \"hovertext\": [\"Kansas\"], \"legendgroup\": \"Kansas\", \"marker\": {\"color\": \"#FF6692\", \"size\": [250.0], \"sizemode\": \"area\", \"sizeref\": 1.56525, \"symbol\": \"circle\"}, \"mode\": \"markers\", \"name\": \"Kansas\", \"orientation\": \"v\", \"showlegend\": true, \"type\": \"scatter\", \"x\": [250.0], \"xaxis\": \"x\", \"y\": [18.06], \"yaxis\": \"y\"}, {\"hovertemplate\": \"<b>%{hovertext}</b><br><br>State=Kentucky<br>Aggravated assault rate=%{marker.size}<br># of guns per capita=%{y}<extra></extra>\", \"hovertext\": [\"Kentucky\"], \"legendgroup\": \"Kentucky\", \"marker\": {\"color\": \"#B6E880\", \"size\": [99.8], \"sizemode\": \"area\", \"sizeref\": 1.56525, \"symbol\": \"circle\"}, \"mode\": \"markers\", \"name\": \"Kentucky\", \"orientation\": \"v\", \"showlegend\": true, \"type\": \"scatter\", \"x\": [99.8], \"xaxis\": \"x\", \"y\": [18.2], \"yaxis\": \"y\"}, {\"hovertemplate\": \"<b>%{hovertext}</b><br><br>State=Louisiana<br>Aggravated assault rate=%{marker.size}<br># of guns per capita=%{y}<extra></extra>\", \"hovertext\": [\"Louisiana\"], \"legendgroup\": \"Louisiana\", \"marker\": {\"color\": \"#FF97FF\", \"size\": [352.4], \"sizemode\": \"area\", \"sizeref\": 1.56525, \"symbol\": \"circle\"}, \"mode\": \"markers\", \"name\": \"Louisiana\", \"orientation\": \"v\", \"showlegend\": true, \"type\": \"scatter\", \"x\": [352.4], \"xaxis\": \"x\", \"y\": [24.94], \"yaxis\": \"y\"}, {\"hovertemplate\": \"<b>%{hovertext}</b><br><br>State=Maine<br>Aggravated assault rate=%{marker.size}<br># of guns per capita=%{y}<extra></extra>\", \"hovertext\": [\"Maine\"], \"legendgroup\": \"Maine\", \"marker\": {\"color\": \"#FECB52\", \"size\": [66.9], \"sizemode\": \"area\", \"sizeref\": 1.56525, \"symbol\": \"circle\"}, \"mode\": \"markers\", \"name\": \"Maine\", \"orientation\": \"v\", \"showlegend\": true, \"type\": \"scatter\", \"x\": [66.9], \"xaxis\": \"x\", \"y\": [11.5], \"yaxis\": \"y\"}, {\"hovertemplate\": \"<b>%{hovertext}</b><br><br>State=Maryland<br>Aggravated assault rate=%{marker.size}<br># of guns per capita=%{y}<extra></extra>\", \"hovertext\": [\"Maryland\"], \"legendgroup\": \"Maryland\", \"marker\": {\"color\": \"#636efa\", \"size\": [253.2], \"sizemode\": \"area\", \"sizeref\": 1.56525, \"symbol\": \"circle\"}, \"mode\": \"markers\", \"name\": \"Maryland\", \"orientation\": \"v\", \"showlegend\": true, \"type\": \"scatter\", \"x\": [253.2], \"xaxis\": \"x\", \"y\": [17.03], \"yaxis\": \"y\"}, {\"hovertemplate\": \"<b>%{hovertext}</b><br><br>State=Massachusetts<br>Aggravated assault rate=%{marker.size}<br># of guns per capita=%{y}<extra></extra>\", \"hovertext\": [\"Massachusetts\"], \"legendgroup\": \"Massachusetts\", \"marker\": {\"color\": \"#EF553B\", \"size\": [267.6], \"sizemode\": \"area\", \"sizeref\": 1.56525, \"symbol\": \"circle\"}, \"mode\": \"markers\", \"name\": \"Massachusetts\", \"orientation\": \"v\", \"showlegend\": true, \"type\": \"scatter\", \"x\": [267.6], \"xaxis\": \"x\", \"y\": [5.41], \"yaxis\": \"y\"}, {\"hovertemplate\": \"<b>%{hovertext}</b><br><br>State=Michigan<br>Aggravated assault rate=%{marker.size}<br># of guns per capita=%{y}<extra></extra>\", \"hovertext\": [\"Michigan\"], \"legendgroup\": \"Michigan\", \"marker\": {\"color\": \"#00cc96\", \"size\": [277.7], \"sizemode\": \"area\", \"sizeref\": 1.56525, \"symbol\": \"circle\"}, \"mode\": \"markers\", \"name\": \"Michigan\", \"orientation\": \"v\", \"showlegend\": true, \"type\": \"scatter\", \"x\": [277.7], \"xaxis\": \"x\", \"y\": [6.59], \"yaxis\": \"y\"}, {\"hovertemplate\": \"<b>%{hovertext}</b><br><br>State=Minnesota<br>Aggravated assault rate=%{marker.size}<br># of guns per capita=%{y}<extra></extra>\", \"hovertext\": [\"Minnesota\"], \"legendgroup\": \"Minnesota\", \"marker\": {\"color\": \"#ab63fa\", \"size\": [123.3], \"sizemode\": \"area\", \"sizeref\": 1.56525, \"symbol\": \"circle\"}, \"mode\": \"markers\", \"name\": \"Minnesota\", \"orientation\": \"v\", \"showlegend\": true, \"type\": \"scatter\", \"x\": [123.3], \"xaxis\": \"x\", \"y\": [14.22], \"yaxis\": \"y\"}, {\"hovertemplate\": \"<b>%{hovertext}</b><br><br>State=Mississippi<br>Aggravated assault rate=%{marker.size}<br># of guns per capita=%{y}<extra></extra>\", \"hovertext\": [\"Mississippi\"], \"legendgroup\": \"Mississippi\", \"marker\": {\"color\": \"#FFA15A\", \"size\": [153.4], \"sizemode\": \"area\", \"sizeref\": 1.56525, \"symbol\": \"circle\"}, \"mode\": \"markers\", \"name\": \"Mississippi\", \"orientation\": \"v\", \"showlegend\": true, \"type\": \"scatter\", \"x\": [153.4], \"xaxis\": \"x\", \"y\": [11.89], \"yaxis\": \"y\"}, {\"hovertemplate\": \"<b>%{hovertext}</b><br><br>State=Missouri<br>Aggravated assault rate=%{marker.size}<br># of guns per capita=%{y}<extra></extra>\", \"hovertext\": [\"Missouri\"], \"legendgroup\": \"Missouri\", \"marker\": {\"color\": \"#19d3f3\", \"size\": [304.8], \"sizemode\": \"area\", \"sizeref\": 1.56525, \"symbol\": \"circle\"}, \"mode\": \"markers\", \"name\": \"Missouri\", \"orientation\": \"v\", \"showlegend\": true, \"type\": \"scatter\", \"x\": [304.8], \"xaxis\": \"x\", \"y\": [11.94], \"yaxis\": \"y\"}, {\"hovertemplate\": \"<b>%{hovertext}</b><br><br>State=Montana<br>Aggravated assault rate=%{marker.size}<br># of guns per capita=%{y}<extra></extra>\", \"hovertext\": [\"Montana\"], \"legendgroup\": \"Montana\", \"marker\": {\"color\": \"#FF6692\", \"size\": [247.4], \"sizemode\": \"area\", \"sizeref\": 1.56525, \"symbol\": \"circle\"}, \"mode\": \"markers\", \"name\": \"Montana\", \"orientation\": \"v\", \"showlegend\": true, \"type\": \"scatter\", \"x\": [247.4], \"xaxis\": \"x\", \"y\": [21.06], \"yaxis\": \"y\"}, {\"hovertemplate\": \"<b>%{hovertext}</b><br><br>State=Nebraska<br>Aggravated assault rate=%{marker.size}<br># of guns per capita=%{y}<extra></extra>\", \"hovertext\": [\"Nebraska\"], \"legendgroup\": \"Nebraska\", \"marker\": {\"color\": \"#B6E880\", \"size\": [176.2], \"sizemode\": \"area\", \"sizeref\": 1.56525, \"symbol\": \"circle\"}, \"mode\": \"markers\", \"name\": \"Nebraska\", \"orientation\": \"v\", \"showlegend\": true, \"type\": \"scatter\", \"x\": [176.2], \"xaxis\": \"x\", \"y\": [11.57], \"yaxis\": \"y\"}, {\"hovertemplate\": \"<b>%{hovertext}</b><br><br>State=Nevada<br>Aggravated assault rate=%{marker.size}<br># of guns per capita=%{y}<extra></extra>\", \"hovertext\": [\"Nevada\"], \"legendgroup\": \"Nevada\", \"marker\": {\"color\": \"#FF97FF\", \"size\": [372.1], \"sizemode\": \"area\", \"sizeref\": 1.56525, \"symbol\": \"circle\"}, \"mode\": \"markers\", \"name\": \"Nevada\", \"orientation\": \"v\", \"showlegend\": true, \"type\": \"scatter\", \"x\": [372.1], \"xaxis\": \"x\", \"y\": [25.64], \"yaxis\": \"y\"}, {\"hovertemplate\": \"<b>%{hovertext}</b><br><br>State=New_Hampshire<br>Aggravated assault rate=%{marker.size}<br># of guns per capita=%{y}<extra></extra>\", \"hovertext\": [\"New_Hampshire\"], \"legendgroup\": \"New_Hampshire\", \"marker\": {\"color\": \"#FECB52\", \"size\": [110.0], \"sizemode\": \"area\", \"sizeref\": 1.56525, \"symbol\": \"circle\"}, \"mode\": \"markers\", \"name\": \"New_Hampshire\", \"orientation\": \"v\", \"showlegend\": true, \"type\": \"scatter\", \"x\": [110.0], \"xaxis\": \"x\", \"y\": [46.76], \"yaxis\": \"y\"}, {\"hovertemplate\": \"<b>%{hovertext}</b><br><br>State=New_Jersey<br>Aggravated assault rate=%{marker.size}<br># of guns per capita=%{y}<extra></extra>\", \"hovertext\": [\"New_Jersey\"], \"legendgroup\": \"New_Jersey\", \"marker\": {\"color\": \"#636efa\", \"size\": [125.6], \"sizemode\": \"area\", \"sizeref\": 1.56525, \"symbol\": \"circle\"}, \"mode\": \"markers\", \"name\": \"New_Jersey\", \"orientation\": \"v\", \"showlegend\": true, \"type\": \"scatter\", \"x\": [125.6], \"xaxis\": \"x\", \"y\": [6.38], \"yaxis\": \"y\"}, {\"hovertemplate\": \"<b>%{hovertext}</b><br><br>State=New_Mexico<br>Aggravated assault rate=%{marker.size}<br># of guns per capita=%{y}<extra></extra>\", \"hovertext\": [\"New_Mexico\"], \"legendgroup\": \"New_Mexico\", \"marker\": {\"color\": \"#EF553B\", \"size\": [421.8], \"sizemode\": \"area\", \"sizeref\": 1.56525, \"symbol\": \"circle\"}, \"mode\": \"markers\", \"name\": \"New_Mexico\", \"orientation\": \"v\", \"showlegend\": true, \"type\": \"scatter\", \"x\": [421.8], \"xaxis\": \"x\", \"y\": [46.73], \"yaxis\": \"y\"}, {\"hovertemplate\": \"<b>%{hovertext}</b><br><br>State=New_York<br>Aggravated assault rate=%{marker.size}<br># of guns per capita=%{y}<extra></extra>\", \"hovertext\": [\"New_York\"], \"legendgroup\": \"New_York\", \"marker\": {\"color\": \"#00cc96\", \"size\": [229.4], \"sizemode\": \"area\", \"sizeref\": 1.56525, \"symbol\": \"circle\"}, \"mode\": \"markers\", \"name\": \"New_York\", \"orientation\": \"v\", \"showlegend\": true, \"type\": \"scatter\", \"x\": [229.4], \"xaxis\": \"x\", \"y\": [3.83], \"yaxis\": \"y\"}, {\"hovertemplate\": \"<b>%{hovertext}</b><br><br>State=North_Carolina<br>Aggravated assault rate=%{marker.size}<br># of guns per capita=%{y}<extra></extra>\", \"hovertext\": [\"North_Carolina\"], \"legendgroup\": \"North_Carolina\", \"marker\": {\"color\": \"#ab63fa\", \"size\": [215.4], \"sizemode\": \"area\", \"sizeref\": 1.56525, \"symbol\": \"circle\"}, \"mode\": \"markers\", \"name\": \"North_Carolina\", \"orientation\": \"v\", \"showlegend\": true, \"type\": \"scatter\", \"x\": [215.4], \"xaxis\": \"x\", \"y\": [14.818], \"yaxis\": \"y\"}, {\"hovertemplate\": \"<b>%{hovertext}</b><br><br>State=North_Dakota<br>Aggravated assault rate=%{marker.size}<br># of guns per capita=%{y}<extra></extra>\", \"hovertext\": [\"North_Dakota\"], \"legendgroup\": \"North_Dakota\", \"marker\": {\"color\": \"#FFA15A\", \"size\": [190.3], \"sizemode\": \"area\", \"sizeref\": 1.56525, \"symbol\": \"circle\"}, \"mode\": \"markers\", \"name\": \"North_Dakota\", \"orientation\": \"v\", \"showlegend\": true, \"type\": \"scatter\", \"x\": [190.3], \"xaxis\": \"x\", \"y\": [17.56], \"yaxis\": \"y\"}, {\"hovertemplate\": \"<b>%{hovertext}</b><br><br>State=Ohio<br>Aggravated assault rate=%{marker.size}<br># of guns per capita=%{y}<extra></extra>\", \"hovertext\": [\"Ohio\"], \"legendgroup\": \"Ohio\", \"marker\": {\"color\": \"#19d3f3\", \"size\": [127.4], \"sizemode\": \"area\", \"sizeref\": 1.56525, \"symbol\": \"circle\"}, \"mode\": \"markers\", \"name\": \"Ohio\", \"orientation\": \"v\", \"showlegend\": true, \"type\": \"scatter\", \"x\": [127.4], \"xaxis\": \"x\", \"y\": [14.87], \"yaxis\": \"y\"}, {\"hovertemplate\": \"<b>%{hovertext}</b><br><br>State=Oklahoma<br>Aggravated assault rate=%{marker.size}<br># of guns per capita=%{y}<extra></extra>\", \"hovertext\": [\"Oklahoma\"], \"legendgroup\": \"Oklahoma\", \"marker\": {\"color\": \"#FF6692\", \"size\": [277.0], \"sizemode\": \"area\", \"sizeref\": 1.56525, \"symbol\": \"circle\"}, \"mode\": \"markers\", \"name\": \"Oklahoma\", \"orientation\": \"v\", \"showlegend\": true, \"type\": \"scatter\", \"x\": [277.0], \"xaxis\": \"x\", \"y\": [18.13], \"yaxis\": \"y\"}, {\"hovertemplate\": \"<b>%{hovertext}</b><br><br>State=Oregon<br>Aggravated assault rate=%{marker.size}<br># of guns per capita=%{y}<extra></extra>\", \"hovertext\": [\"Oregon\"], \"legendgroup\": \"Oregon\", \"marker\": {\"color\": \"#B6E880\", \"size\": [140.8], \"sizemode\": \"area\", \"sizeref\": 1.56525, \"symbol\": \"circle\"}, \"mode\": \"markers\", \"name\": \"Oregon\", \"orientation\": \"v\", \"showlegend\": true, \"type\": \"scatter\", \"x\": [140.8], \"xaxis\": \"x\", \"y\": [14.815999999999999], \"yaxis\": \"y\"}, {\"hovertemplate\": \"<b>%{hovertext}</b><br><br>State=Pennsylvania<br>Aggravated assault rate=%{marker.size}<br># of guns per capita=%{y}<extra></extra>\", \"hovertext\": [\"Pennsylvania\"], \"legendgroup\": \"Pennsylvania\", \"marker\": {\"color\": \"#FF97FF\", \"size\": [173.5], \"sizemode\": \"area\", \"sizeref\": 1.56525, \"symbol\": \"circle\"}, \"mode\": \"markers\", \"name\": \"Pennsylvania\", \"orientation\": \"v\", \"showlegend\": true, \"type\": \"scatter\", \"x\": [173.5], \"xaxis\": \"x\", \"y\": [18.45], \"yaxis\": \"y\"}, {\"hovertemplate\": \"<b>%{hovertext}</b><br><br>State=Rhode_Island<br>Aggravated assault rate=%{marker.size}<br># of guns per capita=%{y}<extra></extra>\", \"hovertext\": [\"Rhode_Island\"], \"legendgroup\": \"Rhode_Island\", \"marker\": {\"color\": \"#FECB52\", \"size\": [132.5], \"sizemode\": \"area\", \"sizeref\": 1.56525, \"symbol\": \"circle\"}, \"mode\": \"markers\", \"name\": \"Rhode_Island\", \"orientation\": \"v\", \"showlegend\": true, \"type\": \"scatter\", \"x\": [132.5], \"xaxis\": \"x\", \"y\": [3.98], \"yaxis\": \"y\"}, {\"hovertemplate\": \"<b>%{hovertext}</b><br><br>State=South_Carolina<br>Aggravated assault rate=%{marker.size}<br># of guns per capita=%{y}<extra></extra>\", \"hovertext\": [\"South_Carolina\"], \"legendgroup\": \"South_Carolina\", \"marker\": {\"color\": \"#636efa\", \"size\": [365.8], \"sizemode\": \"area\", \"sizeref\": 1.56525, \"symbol\": \"circle\"}, \"mode\": \"markers\", \"name\": \"South_Carolina\", \"orientation\": \"v\", \"showlegend\": true, \"type\": \"scatter\", \"x\": [365.8], \"xaxis\": \"x\", \"y\": [21.01], \"yaxis\": \"y\"}, {\"hovertemplate\": \"<b>%{hovertext}</b><br><br>State=South_Dakota<br>Aggravated assault rate=%{marker.size}<br># of guns per capita=%{y}<extra></extra>\", \"hovertext\": [\"South_Dakota\"], \"legendgroup\": \"South_Dakota\", \"marker\": {\"color\": \"#EF553B\", \"size\": [245.7], \"sizemode\": \"area\", \"sizeref\": 1.56525, \"symbol\": \"circle\"}, \"mode\": \"markers\", \"name\": \"South_Dakota\", \"orientation\": \"v\", \"showlegend\": true, \"type\": \"scatter\", \"x\": [245.7], \"xaxis\": \"x\", \"y\": [24.29], \"yaxis\": \"y\"}, {\"hovertemplate\": \"<b>%{hovertext}</b><br><br>State=Tennessee<br>Aggravated assault rate=%{marker.size}<br># of guns per capita=%{y}<extra></extra>\", \"hovertext\": [\"Tennessee\"], \"legendgroup\": \"Tennessee\", \"marker\": {\"color\": \"#00cc96\", \"size\": [453.2], \"sizemode\": \"area\", \"sizeref\": 1.56525, \"symbol\": \"circle\"}, \"mode\": \"markers\", \"name\": \"Tennessee\", \"orientation\": \"v\", \"showlegend\": true, \"type\": \"scatter\", \"x\": [453.2], \"xaxis\": \"x\", \"y\": [14.76], \"yaxis\": \"y\"}, {\"hovertemplate\": \"<b>%{hovertext}</b><br><br>State=Texas<br>Aggravated assault rate=%{marker.size}<br># of guns per capita=%{y}<extra></extra>\", \"hovertext\": [\"Texas\"], \"legendgroup\": \"Texas\", \"marker\": {\"color\": \"#ab63fa\", \"size\": [243.6], \"sizemode\": \"area\", \"sizeref\": 1.56525, \"symbol\": \"circle\"}, \"mode\": \"markers\", \"name\": \"Texas\", \"orientation\": \"v\", \"showlegend\": true, \"type\": \"scatter\", \"x\": [243.6], \"xaxis\": \"x\", \"y\": [20.79], \"yaxis\": \"y\"}, {\"hovertemplate\": \"<b>%{hovertext}</b><br><br>State=Utah<br>Aggravated assault rate=%{marker.size}<br># of guns per capita=%{y}<extra></extra>\", \"hovertext\": [\"Utah\"], \"legendgroup\": \"Utah\", \"marker\": {\"color\": \"#FFA15A\", \"size\": [119.4], \"sizemode\": \"area\", \"sizeref\": 1.56525, \"symbol\": \"circle\"}, \"mode\": \"markers\", \"name\": \"Utah\", \"orientation\": \"v\", \"showlegend\": true, \"type\": \"scatter\", \"x\": [119.4], \"xaxis\": \"x\", \"y\": [23.48], \"yaxis\": \"y\"}, {\"hovertemplate\": \"<b>%{hovertext}</b><br><br>State=Vermont<br>Aggravated assault rate=%{marker.size}<br># of guns per capita=%{y}<extra></extra>\", \"hovertext\": [\"Vermont\"], \"legendgroup\": \"Vermont\", \"marker\": {\"color\": \"#19d3f3\", \"size\": [68.9], \"sizemode\": \"area\", \"sizeref\": 1.56525, \"symbol\": \"circle\"}, \"mode\": \"markers\", \"name\": \"Vermont\", \"orientation\": \"v\", \"showlegend\": true, \"type\": \"scatter\", \"x\": [68.9], \"xaxis\": \"x\", \"y\": [9.41], \"yaxis\": \"y\"}, {\"hovertemplate\": \"<b>%{hovertext}</b><br><br>State=Virginia<br>Aggravated assault rate=%{marker.size}<br># of guns per capita=%{y}<extra></extra>\", \"hovertext\": [\"Virginia\"], \"legendgroup\": \"Virginia\", \"marker\": {\"color\": \"#FF6692\", \"size\": [112.9], \"sizemode\": \"area\", \"sizeref\": 1.56525, \"symbol\": \"circle\"}, \"mode\": \"markers\", \"name\": \"Virginia\", \"orientation\": \"v\", \"showlegend\": true, \"type\": \"scatter\", \"x\": [112.9], \"xaxis\": \"x\", \"y\": [36.34], \"yaxis\": \"y\"}, {\"hovertemplate\": \"<b>%{hovertext}</b><br><br>State=Washington<br>Aggravated assault rate=%{marker.size}<br># of guns per capita=%{y}<extra></extra>\", \"hovertext\": [\"Washington\"], \"legendgroup\": \"Washington\", \"marker\": {\"color\": \"#B6E880\", \"size\": [164.7], \"sizemode\": \"area\", \"sizeref\": 1.56525, \"symbol\": \"circle\"}, \"mode\": \"markers\", \"name\": \"Washington\", \"orientation\": \"v\", \"showlegend\": true, \"type\": \"scatter\", \"x\": [164.7], \"xaxis\": \"x\", \"y\": [12.4], \"yaxis\": \"y\"}, {\"hovertemplate\": \"<b>%{hovertext}</b><br><br>State=West_Virginia<br>Aggravated assault rate=%{marker.size}<br># of guns per capita=%{y}<extra></extra>\", \"hovertext\": [\"West_Virginia\"], \"legendgroup\": \"West_Virginia\", \"marker\": {\"color\": \"#FF97FF\", \"size\": [235.5], \"sizemode\": \"area\", \"sizeref\": 1.56525, \"symbol\": \"circle\"}, \"mode\": \"markers\", \"name\": \"West_Virginia\", \"orientation\": \"v\", \"showlegend\": true, \"type\": \"scatter\", \"x\": [235.5], \"xaxis\": \"x\", \"y\": [19.42], \"yaxis\": \"y\"}, {\"hovertemplate\": \"<b>%{hovertext}</b><br><br>State=Wisconsin<br>Aggravated assault rate=%{marker.size}<br># of guns per capita=%{y}<extra></extra>\", \"hovertext\": [\"Wisconsin\"], \"legendgroup\": \"Wisconsin\", \"marker\": {\"color\": \"#FECB52\", \"size\": [170.4], \"sizemode\": \"area\", \"sizeref\": 1.56525, \"symbol\": \"circle\"}, \"mode\": \"markers\", \"name\": \"Wisconsin\", \"orientation\": \"v\", \"showlegend\": true, \"type\": \"scatter\", \"x\": [170.4], \"xaxis\": \"x\", \"y\": [11.19], \"yaxis\": \"y\"}, {\"hovertemplate\": \"<b>%{hovertext}</b><br><br>State=Wyoming<br>Aggravated assault rate=%{marker.size}<br># of guns per capita=%{y}<extra></extra>\", \"hovertext\": [\"Wyoming\"], \"legendgroup\": \"Wyoming\", \"marker\": {\"color\": \"#636efa\", \"size\": [153.9], \"sizemode\": \"area\", \"sizeref\": 1.56525, \"symbol\": \"circle\"}, \"mode\": \"markers\", \"name\": \"Wyoming\", \"orientation\": \"v\", \"showlegend\": true, \"type\": \"scatter\", \"x\": [153.9], \"xaxis\": \"x\", \"y\": [229.24], \"yaxis\": \"y\"}],\n",
       "                        {\"legend\": {\"itemsizing\": \"constant\", \"title\": {\"text\": \"State\"}, \"tracegroupgap\": 0}, \"template\": {\"data\": {\"bar\": [{\"error_x\": {\"color\": \"#2a3f5f\"}, \"error_y\": {\"color\": \"#2a3f5f\"}, \"marker\": {\"line\": {\"color\": \"#E5ECF6\", \"width\": 0.5}}, \"type\": \"bar\"}], \"barpolar\": [{\"marker\": {\"line\": {\"color\": \"#E5ECF6\", \"width\": 0.5}}, \"type\": \"barpolar\"}], \"carpet\": [{\"aaxis\": {\"endlinecolor\": \"#2a3f5f\", \"gridcolor\": \"white\", \"linecolor\": \"white\", \"minorgridcolor\": \"white\", \"startlinecolor\": \"#2a3f5f\"}, \"baxis\": {\"endlinecolor\": \"#2a3f5f\", \"gridcolor\": \"white\", \"linecolor\": \"white\", \"minorgridcolor\": \"white\", \"startlinecolor\": \"#2a3f5f\"}, \"type\": \"carpet\"}], \"choropleth\": [{\"colorbar\": {\"outlinewidth\": 0, \"ticks\": \"\"}, \"type\": \"choropleth\"}], \"contour\": [{\"colorbar\": {\"outlinewidth\": 0, \"ticks\": \"\"}, \"colorscale\": [[0.0, \"#0d0887\"], [0.1111111111111111, \"#46039f\"], [0.2222222222222222, \"#7201a8\"], [0.3333333333333333, \"#9c179e\"], [0.4444444444444444, \"#bd3786\"], [0.5555555555555556, \"#d8576b\"], [0.6666666666666666, \"#ed7953\"], [0.7777777777777778, \"#fb9f3a\"], [0.8888888888888888, \"#fdca26\"], [1.0, \"#f0f921\"]], \"type\": \"contour\"}], \"contourcarpet\": [{\"colorbar\": {\"outlinewidth\": 0, \"ticks\": \"\"}, \"type\": \"contourcarpet\"}], \"heatmap\": [{\"colorbar\": {\"outlinewidth\": 0, \"ticks\": \"\"}, \"colorscale\": [[0.0, \"#0d0887\"], [0.1111111111111111, \"#46039f\"], [0.2222222222222222, \"#7201a8\"], [0.3333333333333333, \"#9c179e\"], [0.4444444444444444, \"#bd3786\"], [0.5555555555555556, \"#d8576b\"], [0.6666666666666666, \"#ed7953\"], [0.7777777777777778, \"#fb9f3a\"], [0.8888888888888888, \"#fdca26\"], [1.0, \"#f0f921\"]], \"type\": \"heatmap\"}], \"heatmapgl\": [{\"colorbar\": {\"outlinewidth\": 0, \"ticks\": \"\"}, \"colorscale\": [[0.0, \"#0d0887\"], [0.1111111111111111, \"#46039f\"], [0.2222222222222222, \"#7201a8\"], [0.3333333333333333, \"#9c179e\"], [0.4444444444444444, \"#bd3786\"], [0.5555555555555556, \"#d8576b\"], [0.6666666666666666, \"#ed7953\"], [0.7777777777777778, \"#fb9f3a\"], [0.8888888888888888, \"#fdca26\"], [1.0, \"#f0f921\"]], \"type\": \"heatmapgl\"}], \"histogram\": [{\"marker\": {\"colorbar\": {\"outlinewidth\": 0, \"ticks\": \"\"}}, \"type\": \"histogram\"}], \"histogram2d\": [{\"colorbar\": {\"outlinewidth\": 0, \"ticks\": \"\"}, \"colorscale\": [[0.0, \"#0d0887\"], [0.1111111111111111, \"#46039f\"], [0.2222222222222222, \"#7201a8\"], [0.3333333333333333, \"#9c179e\"], [0.4444444444444444, \"#bd3786\"], [0.5555555555555556, \"#d8576b\"], [0.6666666666666666, \"#ed7953\"], [0.7777777777777778, \"#fb9f3a\"], [0.8888888888888888, \"#fdca26\"], [1.0, \"#f0f921\"]], \"type\": \"histogram2d\"}], \"histogram2dcontour\": [{\"colorbar\": {\"outlinewidth\": 0, \"ticks\": \"\"}, \"colorscale\": [[0.0, \"#0d0887\"], [0.1111111111111111, \"#46039f\"], [0.2222222222222222, \"#7201a8\"], [0.3333333333333333, \"#9c179e\"], [0.4444444444444444, \"#bd3786\"], [0.5555555555555556, \"#d8576b\"], [0.6666666666666666, \"#ed7953\"], [0.7777777777777778, \"#fb9f3a\"], [0.8888888888888888, \"#fdca26\"], [1.0, \"#f0f921\"]], \"type\": \"histogram2dcontour\"}], \"mesh3d\": [{\"colorbar\": {\"outlinewidth\": 0, \"ticks\": \"\"}, \"type\": \"mesh3d\"}], \"parcoords\": [{\"line\": {\"colorbar\": {\"outlinewidth\": 0, \"ticks\": \"\"}}, \"type\": \"parcoords\"}], \"pie\": [{\"automargin\": true, \"type\": \"pie\"}], \"scatter\": [{\"marker\": {\"colorbar\": {\"outlinewidth\": 0, \"ticks\": \"\"}}, \"type\": \"scatter\"}], \"scatter3d\": [{\"line\": {\"colorbar\": {\"outlinewidth\": 0, \"ticks\": \"\"}}, \"marker\": {\"colorbar\": {\"outlinewidth\": 0, \"ticks\": \"\"}}, \"type\": \"scatter3d\"}], \"scattercarpet\": [{\"marker\": {\"colorbar\": {\"outlinewidth\": 0, \"ticks\": \"\"}}, \"type\": \"scattercarpet\"}], \"scattergeo\": [{\"marker\": {\"colorbar\": {\"outlinewidth\": 0, \"ticks\": \"\"}}, \"type\": \"scattergeo\"}], \"scattergl\": [{\"marker\": {\"colorbar\": {\"outlinewidth\": 0, \"ticks\": \"\"}}, \"type\": \"scattergl\"}], \"scattermapbox\": [{\"marker\": {\"colorbar\": {\"outlinewidth\": 0, \"ticks\": \"\"}}, \"type\": \"scattermapbox\"}], \"scatterpolar\": [{\"marker\": {\"colorbar\": {\"outlinewidth\": 0, \"ticks\": \"\"}}, \"type\": \"scatterpolar\"}], \"scatterpolargl\": [{\"marker\": {\"colorbar\": {\"outlinewidth\": 0, \"ticks\": \"\"}}, \"type\": \"scatterpolargl\"}], \"scatterternary\": [{\"marker\": {\"colorbar\": {\"outlinewidth\": 0, \"ticks\": \"\"}}, \"type\": \"scatterternary\"}], \"surface\": [{\"colorbar\": {\"outlinewidth\": 0, \"ticks\": \"\"}, \"colorscale\": [[0.0, \"#0d0887\"], [0.1111111111111111, \"#46039f\"], [0.2222222222222222, \"#7201a8\"], [0.3333333333333333, \"#9c179e\"], [0.4444444444444444, \"#bd3786\"], [0.5555555555555556, \"#d8576b\"], [0.6666666666666666, \"#ed7953\"], [0.7777777777777778, \"#fb9f3a\"], [0.8888888888888888, \"#fdca26\"], [1.0, \"#f0f921\"]], \"type\": \"surface\"}], \"table\": [{\"cells\": {\"fill\": {\"color\": \"#EBF0F8\"}, \"line\": {\"color\": \"white\"}}, \"header\": {\"fill\": {\"color\": \"#C8D4E3\"}, \"line\": {\"color\": \"white\"}}, \"type\": \"table\"}]}, \"layout\": {\"annotationdefaults\": {\"arrowcolor\": \"#2a3f5f\", \"arrowhead\": 0, \"arrowwidth\": 1}, \"coloraxis\": {\"colorbar\": {\"outlinewidth\": 0, \"ticks\": \"\"}}, \"colorscale\": {\"diverging\": [[0, \"#8e0152\"], [0.1, \"#c51b7d\"], [0.2, \"#de77ae\"], [0.3, \"#f1b6da\"], [0.4, \"#fde0ef\"], [0.5, \"#f7f7f7\"], [0.6, \"#e6f5d0\"], [0.7, \"#b8e186\"], [0.8, \"#7fbc41\"], [0.9, \"#4d9221\"], [1, \"#276419\"]], \"sequential\": [[0.0, \"#0d0887\"], [0.1111111111111111, \"#46039f\"], [0.2222222222222222, \"#7201a8\"], [0.3333333333333333, \"#9c179e\"], [0.4444444444444444, \"#bd3786\"], [0.5555555555555556, \"#d8576b\"], [0.6666666666666666, \"#ed7953\"], [0.7777777777777778, \"#fb9f3a\"], [0.8888888888888888, \"#fdca26\"], [1.0, \"#f0f921\"]], \"sequentialminus\": [[0.0, \"#0d0887\"], [0.1111111111111111, \"#46039f\"], [0.2222222222222222, \"#7201a8\"], [0.3333333333333333, \"#9c179e\"], [0.4444444444444444, \"#bd3786\"], [0.5555555555555556, \"#d8576b\"], [0.6666666666666666, \"#ed7953\"], [0.7777777777777778, \"#fb9f3a\"], [0.8888888888888888, \"#fdca26\"], [1.0, \"#f0f921\"]]}, \"colorway\": [\"#636efa\", \"#EF553B\", \"#00cc96\", \"#ab63fa\", \"#FFA15A\", \"#19d3f3\", \"#FF6692\", \"#B6E880\", \"#FF97FF\", \"#FECB52\"], \"font\": {\"color\": \"#2a3f5f\"}, \"geo\": {\"bgcolor\": \"white\", \"lakecolor\": \"white\", \"landcolor\": \"#E5ECF6\", \"showlakes\": true, \"showland\": true, \"subunitcolor\": \"white\"}, \"hoverlabel\": {\"align\": \"left\"}, \"hovermode\": \"closest\", \"mapbox\": {\"style\": \"light\"}, \"paper_bgcolor\": \"white\", \"plot_bgcolor\": \"#E5ECF6\", \"polar\": {\"angularaxis\": {\"gridcolor\": \"white\", \"linecolor\": \"white\", \"ticks\": \"\"}, \"bgcolor\": \"#E5ECF6\", \"radialaxis\": {\"gridcolor\": \"white\", \"linecolor\": \"white\", \"ticks\": \"\"}}, \"scene\": {\"xaxis\": {\"backgroundcolor\": \"#E5ECF6\", \"gridcolor\": \"white\", \"gridwidth\": 2, \"linecolor\": \"white\", \"showbackground\": true, \"ticks\": \"\", \"zerolinecolor\": \"white\"}, \"yaxis\": {\"backgroundcolor\": \"#E5ECF6\", \"gridcolor\": \"white\", \"gridwidth\": 2, \"linecolor\": \"white\", \"showbackground\": true, \"ticks\": \"\", \"zerolinecolor\": \"white\"}, \"zaxis\": {\"backgroundcolor\": \"#E5ECF6\", \"gridcolor\": \"white\", \"gridwidth\": 2, \"linecolor\": \"white\", \"showbackground\": true, \"ticks\": \"\", \"zerolinecolor\": \"white\"}}, \"shapedefaults\": {\"line\": {\"color\": \"#2a3f5f\"}}, \"ternary\": {\"aaxis\": {\"gridcolor\": \"white\", \"linecolor\": \"white\", \"ticks\": \"\"}, \"baxis\": {\"gridcolor\": \"white\", \"linecolor\": \"white\", \"ticks\": \"\"}, \"bgcolor\": \"#E5ECF6\", \"caxis\": {\"gridcolor\": \"white\", \"linecolor\": \"white\", \"ticks\": \"\"}}, \"title\": {\"x\": 0.05}, \"xaxis\": {\"automargin\": true, \"gridcolor\": \"white\", \"linecolor\": \"white\", \"ticks\": \"\", \"title\": {\"standoff\": 15}, \"zerolinecolor\": \"white\", \"zerolinewidth\": 2}, \"yaxis\": {\"automargin\": true, \"gridcolor\": \"white\", \"linecolor\": \"white\", \"ticks\": \"\", \"title\": {\"standoff\": 15}, \"zerolinecolor\": \"white\", \"zerolinewidth\": 2}}}, \"title\": {\"text\": \"Agravated Assault Rate in the US\"}, \"xaxis\": {\"anchor\": \"y\", \"domain\": [0.0, 1.0], \"title\": {\"text\": \"Aggravated assault rate\"}}, \"yaxis\": {\"anchor\": \"x\", \"domain\": [0.0, 1.0], \"title\": {\"text\": \"# of guns per capita\"}}},\n",
       "                        {\"responsive\": true}\n",
       "                    ).then(function(){\n",
       "                            \n",
       "var gd = document.getElementById('2900c580-4ced-4966-b154-2f3bf36776ba');\n",
       "var x = new MutationObserver(function (mutations, observer) {{\n",
       "        var display = window.getComputedStyle(gd).display;\n",
       "        if (!display || display === 'none') {{\n",
       "            console.log([gd, 'removed!']);\n",
       "            Plotly.purge(gd);\n",
       "            observer.disconnect();\n",
       "        }}\n",
       "}});\n",
       "\n",
       "// Listen for the removal of the full notebook cells\n",
       "var notebookContainer = gd.closest('#notebook-container');\n",
       "if (notebookContainer) {{\n",
       "    x.observe(notebookContainer, {childList: true});\n",
       "}}\n",
       "\n",
       "// Listen for the clearing of the current output cell\n",
       "var outputEl = gd.closest('.output');\n",
       "if (outputEl) {{\n",
       "    x.observe(outputEl, {childList: true});\n",
       "}}\n",
       "\n",
       "                        })\n",
       "                };\n",
       "                });\n",
       "            </script>\n",
       "        </div>"
      ]
     },
     "metadata": {},
     "output_type": "display_data"
    }
   ],
   "source": [
    "import plotly.express as px\n",
    "\n",
    "combined_data_df = pd.merge(aggravated_assault_2014_df,gun_ownership_per_capita_df,on=\"State\")\n",
    "\n",
    "import plotly.express as px\n",
    "\n",
    "fig = px.scatter(combined_data_df,\n",
    "                 x=\"Aggravated assault rate\", \n",
    "                 y=\"# of guns per capita\",\n",
    "                 size=\"Aggravated assault rate\", \n",
    "                 color=\"State\",\n",
    "                 hover_name=\"State\",\n",
    "                 title=\"Agravated Assault Rate in the US\"\n",
    "                )\n",
    "fig.show()"
   ]
  },
  {
   "cell_type": "code",
   "execution_count": 106,
   "metadata": {},
   "outputs": [
    {
     "data": {
      "application/vnd.plotly.v1+json": {
       "config": {
        "plotlyServerURL": "https://plot.ly"
       },
       "data": [
        {
         "hovertemplate": "<b>%{hovertext}</b><br><br>State=Alabama<br>Murder and nonnegligent manslaughter rate=%{marker.size}<br># of guns per capita=%{y}<extra></extra>",
         "hovertext": [
          "Alabama"
         ],
         "legendgroup": "Alabama",
         "marker": {
          "color": "#636efa",
          "size": [
           5.7
          ],
          "sizemode": "area",
          "sizeref": 0.03975,
          "symbol": "circle"
         },
         "mode": "markers",
         "name": "Alabama",
         "orientation": "v",
         "showlegend": true,
         "type": "scatter",
         "x": [
          5.7
         ],
         "xaxis": "x",
         "y": [
          33.15
         ],
         "yaxis": "y"
        },
        {
         "hovertemplate": "<b>%{hovertext}</b><br><br>State=Alaska<br>Murder and nonnegligent manslaughter rate=%{marker.size}<br># of guns per capita=%{y}<extra></extra>",
         "hovertext": [
          "Alaska"
         ],
         "legendgroup": "Alaska",
         "marker": {
          "color": "#EF553B",
          "size": [
           5.6
          ],
          "sizemode": "area",
          "sizeref": 0.03975,
          "symbol": "circle"
         },
         "mode": "markers",
         "name": "Alaska",
         "orientation": "v",
         "showlegend": true,
         "type": "scatter",
         "x": [
          5.6
         ],
         "xaxis": "x",
         "y": [
          21.38
         ],
         "yaxis": "y"
        },
        {
         "hovertemplate": "<b>%{hovertext}</b><br><br>State=Arizona<br>Murder and nonnegligent manslaughter rate=%{marker.size}<br># of guns per capita=%{y}<extra></extra>",
         "hovertext": [
          "Arizona"
         ],
         "legendgroup": "Arizona",
         "marker": {
          "color": "#00cc96",
          "size": [
           4.7
          ],
          "sizemode": "area",
          "sizeref": 0.03975,
          "symbol": "circle"
         },
         "mode": "markers",
         "name": "Arizona",
         "orientation": "v",
         "showlegend": true,
         "type": "scatter",
         "x": [
          4.7
         ],
         "xaxis": "x",
         "y": [
          25.61
         ],
         "yaxis": "y"
        },
        {
         "hovertemplate": "<b>%{hovertext}</b><br><br>State=Arkansas<br>Murder and nonnegligent manslaughter rate=%{marker.size}<br># of guns per capita=%{y}<extra></extra>",
         "hovertext": [
          "Arkansas"
         ],
         "legendgroup": "Arkansas",
         "marker": {
          "color": "#ab63fa",
          "size": [
           5.6
          ],
          "sizemode": "area",
          "sizeref": 0.03975,
          "symbol": "circle"
         },
         "mode": "markers",
         "name": "Arkansas",
         "orientation": "v",
         "showlegend": true,
         "type": "scatter",
         "x": [
          5.6
         ],
         "xaxis": "x",
         "y": [
          26.57
         ],
         "yaxis": "y"
        },
        {
         "hovertemplate": "<b>%{hovertext}</b><br><br>State=California<br>Murder and nonnegligent manslaughter rate=%{marker.size}<br># of guns per capita=%{y}<extra></extra>",
         "hovertext": [
          "California"
         ],
         "legendgroup": "California",
         "marker": {
          "color": "#FFA15A",
          "size": [
           4.4
          ],
          "sizemode": "area",
          "sizeref": 0.03975,
          "symbol": "circle"
         },
         "mode": "markers",
         "name": "California",
         "orientation": "v",
         "showlegend": true,
         "type": "scatter",
         "x": [
          4.4
         ],
         "xaxis": "x",
         "y": [
          8.71
         ],
         "yaxis": "y"
        },
        {
         "hovertemplate": "<b>%{hovertext}</b><br><br>State=Colorado<br>Murder and nonnegligent manslaughter rate=%{marker.size}<br># of guns per capita=%{y}<extra></extra>",
         "hovertext": [
          "Colorado"
         ],
         "legendgroup": "Colorado",
         "marker": {
          "color": "#19d3f3",
          "size": [
           2.8
          ],
          "sizemode": "area",
          "sizeref": 0.03975,
          "symbol": "circle"
         },
         "mode": "markers",
         "name": "Colorado",
         "orientation": "v",
         "showlegend": true,
         "type": "scatter",
         "x": [
          2.8
         ],
         "xaxis": "x",
         "y": [
          16.48
         ],
         "yaxis": "y"
        },
        {
         "hovertemplate": "<b>%{hovertext}</b><br><br>State=Connecticut<br>Murder and nonnegligent manslaughter rate=%{marker.size}<br># of guns per capita=%{y}<extra></extra>",
         "hovertext": [
          "Connecticut"
         ],
         "legendgroup": "Connecticut",
         "marker": {
          "color": "#FF6692",
          "size": [
           2.4
          ],
          "sizemode": "area",
          "sizeref": 0.03975,
          "symbol": "circle"
         },
         "mode": "markers",
         "name": "Connecticut",
         "orientation": "v",
         "showlegend": true,
         "type": "scatter",
         "x": [
          2.4
         ],
         "xaxis": "x",
         "y": [
          22.96
         ],
         "yaxis": "y"
        },
        {
         "hovertemplate": "<b>%{hovertext}</b><br><br>State=DC<br>Murder and nonnegligent manslaughter rate=%{marker.size}<br># of guns per capita=%{y}<extra></extra>",
         "hovertext": [
          "DC"
         ],
         "legendgroup": "DC",
         "marker": {
          "color": "#B6E880",
          "size": [
           15.9
          ],
          "sizemode": "area",
          "sizeref": 0.03975,
          "symbol": "circle"
         },
         "mode": "markers",
         "name": "DC",
         "orientation": "v",
         "showlegend": true,
         "type": "scatter",
         "x": [
          15.9
         ],
         "xaxis": "x",
         "y": [
          68.05
         ],
         "yaxis": "y"
        },
        {
         "hovertemplate": "<b>%{hovertext}</b><br><br>State=Delaware<br>Murder and nonnegligent manslaughter rate=%{marker.size}<br># of guns per capita=%{y}<extra></extra>",
         "hovertext": [
          "Delaware"
         ],
         "legendgroup": "Delaware",
         "marker": {
          "color": "#FF97FF",
          "size": [
           5.8
          ],
          "sizemode": "area",
          "sizeref": 0.03975,
          "symbol": "circle"
         },
         "mode": "markers",
         "name": "Delaware",
         "orientation": "v",
         "showlegend": true,
         "type": "scatter",
         "x": [
          5.8
         ],
         "xaxis": "x",
         "y": [
          5.04
         ],
         "yaxis": "y"
        },
        {
         "hovertemplate": "<b>%{hovertext}</b><br><br>State=Florida<br>Murder and nonnegligent manslaughter rate=%{marker.size}<br># of guns per capita=%{y}<extra></extra>",
         "hovertext": [
          "Florida"
         ],
         "legendgroup": "Florida",
         "marker": {
          "color": "#FECB52",
          "size": [
           5.8
          ],
          "sizemode": "area",
          "sizeref": 0.03975,
          "symbol": "circle"
         },
         "mode": "markers",
         "name": "Florida",
         "orientation": "v",
         "showlegend": true,
         "type": "scatter",
         "x": [
          5.8
         ],
         "xaxis": "x",
         "y": [
          16.35
         ],
         "yaxis": "y"
        },
        {
         "hovertemplate": "<b>%{hovertext}</b><br><br>State=Georgia<br>Murder and nonnegligent manslaughter rate=%{marker.size}<br># of guns per capita=%{y}<extra></extra>",
         "hovertext": [
          "Georgia"
         ],
         "legendgroup": "Georgia",
         "marker": {
          "color": "#636efa",
          "size": [
           5.7
          ],
          "sizemode": "area",
          "sizeref": 0.03975,
          "symbol": "circle"
         },
         "mode": "markers",
         "name": "Georgia",
         "orientation": "v",
         "showlegend": true,
         "type": "scatter",
         "x": [
          5.7
         ],
         "xaxis": "x",
         "y": [
          18.22
         ],
         "yaxis": "y"
        },
        {
         "hovertemplate": "<b>%{hovertext}</b><br><br>State=Hawaii<br>Murder and nonnegligent manslaughter rate=%{marker.size}<br># of guns per capita=%{y}<extra></extra>",
         "hovertext": [
          "Hawaii"
         ],
         "legendgroup": "Hawaii",
         "marker": {
          "color": "#EF553B",
          "size": [
           1.8
          ],
          "sizemode": "area",
          "sizeref": 0.03975,
          "symbol": "circle"
         },
         "mode": "markers",
         "name": "Hawaii",
         "orientation": "v",
         "showlegend": true,
         "type": "scatter",
         "x": [
          1.8
         ],
         "xaxis": "x",
         "y": [
          5.5
         ],
         "yaxis": "y"
        },
        {
         "hovertemplate": "<b>%{hovertext}</b><br><br>State=Idaho<br>Murder and nonnegligent manslaughter rate=%{marker.size}<br># of guns per capita=%{y}<extra></extra>",
         "hovertext": [
          "Idaho"
         ],
         "legendgroup": "Idaho",
         "marker": {
          "color": "#00cc96",
          "size": [
           2
          ],
          "sizemode": "area",
          "sizeref": 0.03975,
          "symbol": "circle"
         },
         "mode": "markers",
         "name": "Idaho",
         "orientation": "v",
         "showlegend": true,
         "type": "scatter",
         "x": [
          2
         ],
         "xaxis": "x",
         "y": [
          28.86
         ],
         "yaxis": "y"
        },
        {
         "hovertemplate": "<b>%{hovertext}</b><br><br>State=Illinois<br>Murder and nonnegligent manslaughter rate=%{marker.size}<br># of guns per capita=%{y}<extra></extra>",
         "hovertext": [
          "Illinois"
         ],
         "legendgroup": "Illinois",
         "marker": {
          "color": "#ab63fa",
          "size": [
           5.3
          ],
          "sizemode": "area",
          "sizeref": 0.03975,
          "symbol": "circle"
         },
         "mode": "markers",
         "name": "Illinois",
         "orientation": "v",
         "showlegend": true,
         "type": "scatter",
         "x": [
          5.3
         ],
         "xaxis": "x",
         "y": [
          11.44
         ],
         "yaxis": "y"
        },
        {
         "hovertemplate": "<b>%{hovertext}</b><br><br>State=Indiana<br>Murder and nonnegligent manslaughter rate=%{marker.size}<br># of guns per capita=%{y}<extra></extra>",
         "hovertext": [
          "Indiana"
         ],
         "legendgroup": "Indiana",
         "marker": {
          "color": "#FFA15A",
          "size": [
           5
          ],
          "sizemode": "area",
          "sizeref": 0.03975,
          "symbol": "circle"
         },
         "mode": "markers",
         "name": "Indiana",
         "orientation": "v",
         "showlegend": true,
         "type": "scatter",
         "x": [
          5
         ],
         "xaxis": "x",
         "y": [
          17.1
         ],
         "yaxis": "y"
        },
        {
         "hovertemplate": "<b>%{hovertext}</b><br><br>State=Iowa<br>Murder and nonnegligent manslaughter rate=%{marker.size}<br># of guns per capita=%{y}<extra></extra>",
         "hovertext": [
          "Iowa"
         ],
         "legendgroup": "Iowa",
         "marker": {
          "color": "#19d3f3",
          "size": [
           1.9
          ],
          "sizemode": "area",
          "sizeref": 0.03975,
          "symbol": "circle"
         },
         "mode": "markers",
         "name": "Iowa",
         "orientation": "v",
         "showlegend": true,
         "type": "scatter",
         "x": [
          1.9
         ],
         "xaxis": "x",
         "y": [
          9.05
         ],
         "yaxis": "y"
        },
        {
         "hovertemplate": "<b>%{hovertext}</b><br><br>State=Kansas<br>Murder and nonnegligent manslaughter rate=%{marker.size}<br># of guns per capita=%{y}<extra></extra>",
         "hovertext": [
          "Kansas"
         ],
         "legendgroup": "Kansas",
         "marker": {
          "color": "#FF6692",
          "size": [
           3.1
          ],
          "sizemode": "area",
          "sizeref": 0.03975,
          "symbol": "circle"
         },
         "mode": "markers",
         "name": "Kansas",
         "orientation": "v",
         "showlegend": true,
         "type": "scatter",
         "x": [
          3.1
         ],
         "xaxis": "x",
         "y": [
          18.06
         ],
         "yaxis": "y"
        },
        {
         "hovertemplate": "<b>%{hovertext}</b><br><br>State=Kentucky<br>Murder and nonnegligent manslaughter rate=%{marker.size}<br># of guns per capita=%{y}<extra></extra>",
         "hovertext": [
          "Kentucky"
         ],
         "legendgroup": "Kentucky",
         "marker": {
          "color": "#B6E880",
          "size": [
           3.6
          ],
          "sizemode": "area",
          "sizeref": 0.03975,
          "symbol": "circle"
         },
         "mode": "markers",
         "name": "Kentucky",
         "orientation": "v",
         "showlegend": true,
         "type": "scatter",
         "x": [
          3.6
         ],
         "xaxis": "x",
         "y": [
          18.2
         ],
         "yaxis": "y"
        },
        {
         "hovertemplate": "<b>%{hovertext}</b><br><br>State=Louisiana<br>Murder and nonnegligent manslaughter rate=%{marker.size}<br># of guns per capita=%{y}<extra></extra>",
         "hovertext": [
          "Louisiana"
         ],
         "legendgroup": "Louisiana",
         "marker": {
          "color": "#FF97FF",
          "size": [
           10.3
          ],
          "sizemode": "area",
          "sizeref": 0.03975,
          "symbol": "circle"
         },
         "mode": "markers",
         "name": "Louisiana",
         "orientation": "v",
         "showlegend": true,
         "type": "scatter",
         "x": [
          10.3
         ],
         "xaxis": "x",
         "y": [
          24.94
         ],
         "yaxis": "y"
        },
        {
         "hovertemplate": "<b>%{hovertext}</b><br><br>State=Maine<br>Murder and nonnegligent manslaughter rate=%{marker.size}<br># of guns per capita=%{y}<extra></extra>",
         "hovertext": [
          "Maine"
         ],
         "legendgroup": "Maine",
         "marker": {
          "color": "#FECB52",
          "size": [
           1.6
          ],
          "sizemode": "area",
          "sizeref": 0.03975,
          "symbol": "circle"
         },
         "mode": "markers",
         "name": "Maine",
         "orientation": "v",
         "showlegend": true,
         "type": "scatter",
         "x": [
          1.6
         ],
         "xaxis": "x",
         "y": [
          11.5
         ],
         "yaxis": "y"
        },
        {
         "hovertemplate": "<b>%{hovertext}</b><br><br>State=Maryland<br>Murder and nonnegligent manslaughter rate=%{marker.size}<br># of guns per capita=%{y}<extra></extra>",
         "hovertext": [
          "Maryland"
         ],
         "legendgroup": "Maryland",
         "marker": {
          "color": "#636efa",
          "size": [
           6.1
          ],
          "sizemode": "area",
          "sizeref": 0.03975,
          "symbol": "circle"
         },
         "mode": "markers",
         "name": "Maryland",
         "orientation": "v",
         "showlegend": true,
         "type": "scatter",
         "x": [
          6.1
         ],
         "xaxis": "x",
         "y": [
          17.03
         ],
         "yaxis": "y"
        },
        {
         "hovertemplate": "<b>%{hovertext}</b><br><br>State=Massachusetts<br>Murder and nonnegligent manslaughter rate=%{marker.size}<br># of guns per capita=%{y}<extra></extra>",
         "hovertext": [
          "Massachusetts"
         ],
         "legendgroup": "Massachusetts",
         "marker": {
          "color": "#EF553B",
          "size": [
           2
          ],
          "sizemode": "area",
          "sizeref": 0.03975,
          "symbol": "circle"
         },
         "mode": "markers",
         "name": "Massachusetts",
         "orientation": "v",
         "showlegend": true,
         "type": "scatter",
         "x": [
          2
         ],
         "xaxis": "x",
         "y": [
          5.41
         ],
         "yaxis": "y"
        },
        {
         "hovertemplate": "<b>%{hovertext}</b><br><br>State=Michigan<br>Murder and nonnegligent manslaughter rate=%{marker.size}<br># of guns per capita=%{y}<extra></extra>",
         "hovertext": [
          "Michigan"
         ],
         "legendgroup": "Michigan",
         "marker": {
          "color": "#00cc96",
          "size": [
           5.4
          ],
          "sizemode": "area",
          "sizeref": 0.03975,
          "symbol": "circle"
         },
         "mode": "markers",
         "name": "Michigan",
         "orientation": "v",
         "showlegend": true,
         "type": "scatter",
         "x": [
          5.4
         ],
         "xaxis": "x",
         "y": [
          6.59
         ],
         "yaxis": "y"
        },
        {
         "hovertemplate": "<b>%{hovertext}</b><br><br>State=Minnesota<br>Murder and nonnegligent manslaughter rate=%{marker.size}<br># of guns per capita=%{y}<extra></extra>",
         "hovertext": [
          "Minnesota"
         ],
         "legendgroup": "Minnesota",
         "marker": {
          "color": "#ab63fa",
          "size": [
           1.6
          ],
          "sizemode": "area",
          "sizeref": 0.03975,
          "symbol": "circle"
         },
         "mode": "markers",
         "name": "Minnesota",
         "orientation": "v",
         "showlegend": true,
         "type": "scatter",
         "x": [
          1.6
         ],
         "xaxis": "x",
         "y": [
          14.22
         ],
         "yaxis": "y"
        },
        {
         "hovertemplate": "<b>%{hovertext}</b><br><br>State=Mississippi<br>Murder and nonnegligent manslaughter rate=%{marker.size}<br># of guns per capita=%{y}<extra></extra>",
         "hovertext": [
          "Mississippi"
         ],
         "legendgroup": "Mississippi",
         "marker": {
          "color": "#FFA15A",
          "size": [
           8.6
          ],
          "sizemode": "area",
          "sizeref": 0.03975,
          "symbol": "circle"
         },
         "mode": "markers",
         "name": "Mississippi",
         "orientation": "v",
         "showlegend": true,
         "type": "scatter",
         "x": [
          8.6
         ],
         "xaxis": "x",
         "y": [
          11.89
         ],
         "yaxis": "y"
        },
        {
         "hovertemplate": "<b>%{hovertext}</b><br><br>State=Missouri<br>Murder and nonnegligent manslaughter rate=%{marker.size}<br># of guns per capita=%{y}<extra></extra>",
         "hovertext": [
          "Missouri"
         ],
         "legendgroup": "Missouri",
         "marker": {
          "color": "#19d3f3",
          "size": [
           6.6
          ],
          "sizemode": "area",
          "sizeref": 0.03975,
          "symbol": "circle"
         },
         "mode": "markers",
         "name": "Missouri",
         "orientation": "v",
         "showlegend": true,
         "type": "scatter",
         "x": [
          6.6
         ],
         "xaxis": "x",
         "y": [
          11.94
         ],
         "yaxis": "y"
        },
        {
         "hovertemplate": "<b>%{hovertext}</b><br><br>State=Montana<br>Murder and nonnegligent manslaughter rate=%{marker.size}<br># of guns per capita=%{y}<extra></extra>",
         "hovertext": [
          "Montana"
         ],
         "legendgroup": "Montana",
         "marker": {
          "color": "#FF6692",
          "size": [
           3.6
          ],
          "sizemode": "area",
          "sizeref": 0.03975,
          "symbol": "circle"
         },
         "mode": "markers",
         "name": "Montana",
         "orientation": "v",
         "showlegend": true,
         "type": "scatter",
         "x": [
          3.6
         ],
         "xaxis": "x",
         "y": [
          21.06
         ],
         "yaxis": "y"
        },
        {
         "hovertemplate": "<b>%{hovertext}</b><br><br>State=Nebraska<br>Murder and nonnegligent manslaughter rate=%{marker.size}<br># of guns per capita=%{y}<extra></extra>",
         "hovertext": [
          "Nebraska"
         ],
         "legendgroup": "Nebraska",
         "marker": {
          "color": "#B6E880",
          "size": [
           2.9
          ],
          "sizemode": "area",
          "sizeref": 0.03975,
          "symbol": "circle"
         },
         "mode": "markers",
         "name": "Nebraska",
         "orientation": "v",
         "showlegend": true,
         "type": "scatter",
         "x": [
          2.9
         ],
         "xaxis": "x",
         "y": [
          11.57
         ],
         "yaxis": "y"
        },
        {
         "hovertemplate": "<b>%{hovertext}</b><br><br>State=Nevada<br>Murder and nonnegligent manslaughter rate=%{marker.size}<br># of guns per capita=%{y}<extra></extra>",
         "hovertext": [
          "Nevada"
         ],
         "legendgroup": "Nevada",
         "marker": {
          "color": "#FF97FF",
          "size": [
           6
          ],
          "sizemode": "area",
          "sizeref": 0.03975,
          "symbol": "circle"
         },
         "mode": "markers",
         "name": "Nevada",
         "orientation": "v",
         "showlegend": true,
         "type": "scatter",
         "x": [
          6
         ],
         "xaxis": "x",
         "y": [
          25.64
         ],
         "yaxis": "y"
        },
        {
         "hovertemplate": "<b>%{hovertext}</b><br><br>State=New_Hampshire<br>Murder and nonnegligent manslaughter rate=%{marker.size}<br># of guns per capita=%{y}<extra></extra>",
         "hovertext": [
          "New_Hampshire"
         ],
         "legendgroup": "New_Hampshire",
         "marker": {
          "color": "#FECB52",
          "size": [
           0.9
          ],
          "sizemode": "area",
          "sizeref": 0.03975,
          "symbol": "circle"
         },
         "mode": "markers",
         "name": "New_Hampshire",
         "orientation": "v",
         "showlegend": true,
         "type": "scatter",
         "x": [
          0.9
         ],
         "xaxis": "x",
         "y": [
          46.76
         ],
         "yaxis": "y"
        },
        {
         "hovertemplate": "<b>%{hovertext}</b><br><br>State=New_Jersey<br>Murder and nonnegligent manslaughter rate=%{marker.size}<br># of guns per capita=%{y}<extra></extra>",
         "hovertext": [
          "New_Jersey"
         ],
         "legendgroup": "New_Jersey",
         "marker": {
          "color": "#636efa",
          "size": [
           3.9
          ],
          "sizemode": "area",
          "sizeref": 0.03975,
          "symbol": "circle"
         },
         "mode": "markers",
         "name": "New_Jersey",
         "orientation": "v",
         "showlegend": true,
         "type": "scatter",
         "x": [
          3.9
         ],
         "xaxis": "x",
         "y": [
          6.38
         ],
         "yaxis": "y"
        },
        {
         "hovertemplate": "<b>%{hovertext}</b><br><br>State=New_Mexico<br>Murder and nonnegligent manslaughter rate=%{marker.size}<br># of guns per capita=%{y}<extra></extra>",
         "hovertext": [
          "New_Mexico"
         ],
         "legendgroup": "New_Mexico",
         "marker": {
          "color": "#EF553B",
          "size": [
           4.8
          ],
          "sizemode": "area",
          "sizeref": 0.03975,
          "symbol": "circle"
         },
         "mode": "markers",
         "name": "New_Mexico",
         "orientation": "v",
         "showlegend": true,
         "type": "scatter",
         "x": [
          4.8
         ],
         "xaxis": "x",
         "y": [
          46.73
         ],
         "yaxis": "y"
        },
        {
         "hovertemplate": "<b>%{hovertext}</b><br><br>State=New_York<br>Murder and nonnegligent manslaughter rate=%{marker.size}<br># of guns per capita=%{y}<extra></extra>",
         "hovertext": [
          "New_York"
         ],
         "legendgroup": "New_York",
         "marker": {
          "color": "#00cc96",
          "size": [
           3.1
          ],
          "sizemode": "area",
          "sizeref": 0.03975,
          "symbol": "circle"
         },
         "mode": "markers",
         "name": "New_York",
         "orientation": "v",
         "showlegend": true,
         "type": "scatter",
         "x": [
          3.1
         ],
         "xaxis": "x",
         "y": [
          3.83
         ],
         "yaxis": "y"
        },
        {
         "hovertemplate": "<b>%{hovertext}</b><br><br>State=North_Carolina<br>Murder and nonnegligent manslaughter rate=%{marker.size}<br># of guns per capita=%{y}<extra></extra>",
         "hovertext": [
          "North_Carolina"
         ],
         "legendgroup": "North_Carolina",
         "marker": {
          "color": "#ab63fa",
          "size": [
           5.1
          ],
          "sizemode": "area",
          "sizeref": 0.03975,
          "symbol": "circle"
         },
         "mode": "markers",
         "name": "North_Carolina",
         "orientation": "v",
         "showlegend": true,
         "type": "scatter",
         "x": [
          5.1
         ],
         "xaxis": "x",
         "y": [
          14.818
         ],
         "yaxis": "y"
        },
        {
         "hovertemplate": "<b>%{hovertext}</b><br><br>State=North_Dakota<br>Murder and nonnegligent manslaughter rate=%{marker.size}<br># of guns per capita=%{y}<extra></extra>",
         "hovertext": [
          "North_Dakota"
         ],
         "legendgroup": "North_Dakota",
         "marker": {
          "color": "#FFA15A",
          "size": [
           3
          ],
          "sizemode": "area",
          "sizeref": 0.03975,
          "symbol": "circle"
         },
         "mode": "markers",
         "name": "North_Dakota",
         "orientation": "v",
         "showlegend": true,
         "type": "scatter",
         "x": [
          3
         ],
         "xaxis": "x",
         "y": [
          17.56
         ],
         "yaxis": "y"
        },
        {
         "hovertemplate": "<b>%{hovertext}</b><br><br>State=Ohio<br>Murder and nonnegligent manslaughter rate=%{marker.size}<br># of guns per capita=%{y}<extra></extra>",
         "hovertext": [
          "Ohio"
         ],
         "legendgroup": "Ohio",
         "marker": {
          "color": "#19d3f3",
          "size": [
           4
          ],
          "sizemode": "area",
          "sizeref": 0.03975,
          "symbol": "circle"
         },
         "mode": "markers",
         "name": "Ohio",
         "orientation": "v",
         "showlegend": true,
         "type": "scatter",
         "x": [
          4
         ],
         "xaxis": "x",
         "y": [
          14.87
         ],
         "yaxis": "y"
        },
        {
         "hovertemplate": "<b>%{hovertext}</b><br><br>State=Oklahoma<br>Murder and nonnegligent manslaughter rate=%{marker.size}<br># of guns per capita=%{y}<extra></extra>",
         "hovertext": [
          "Oklahoma"
         ],
         "legendgroup": "Oklahoma",
         "marker": {
          "color": "#FF6692",
          "size": [
           4.5
          ],
          "sizemode": "area",
          "sizeref": 0.03975,
          "symbol": "circle"
         },
         "mode": "markers",
         "name": "Oklahoma",
         "orientation": "v",
         "showlegend": true,
         "type": "scatter",
         "x": [
          4.5
         ],
         "xaxis": "x",
         "y": [
          18.13
         ],
         "yaxis": "y"
        },
        {
         "hovertemplate": "<b>%{hovertext}</b><br><br>State=Oregon<br>Murder and nonnegligent manslaughter rate=%{marker.size}<br># of guns per capita=%{y}<extra></extra>",
         "hovertext": [
          "Oregon"
         ],
         "legendgroup": "Oregon",
         "marker": {
          "color": "#B6E880",
          "size": [
           2
          ],
          "sizemode": "area",
          "sizeref": 0.03975,
          "symbol": "circle"
         },
         "mode": "markers",
         "name": "Oregon",
         "orientation": "v",
         "showlegend": true,
         "type": "scatter",
         "x": [
          2
         ],
         "xaxis": "x",
         "y": [
          14.815999999999999
         ],
         "yaxis": "y"
        },
        {
         "hovertemplate": "<b>%{hovertext}</b><br><br>State=Pennsylvania<br>Murder and nonnegligent manslaughter rate=%{marker.size}<br># of guns per capita=%{y}<extra></extra>",
         "hovertext": [
          "Pennsylvania"
         ],
         "legendgroup": "Pennsylvania",
         "marker": {
          "color": "#FF97FF",
          "size": [
           4.8
          ],
          "sizemode": "area",
          "sizeref": 0.03975,
          "symbol": "circle"
         },
         "mode": "markers",
         "name": "Pennsylvania",
         "orientation": "v",
         "showlegend": true,
         "type": "scatter",
         "x": [
          4.8
         ],
         "xaxis": "x",
         "y": [
          18.45
         ],
         "yaxis": "y"
        },
        {
         "hovertemplate": "<b>%{hovertext}</b><br><br>State=Rhode_Island<br>Murder and nonnegligent manslaughter rate=%{marker.size}<br># of guns per capita=%{y}<extra></extra>",
         "hovertext": [
          "Rhode_Island"
         ],
         "legendgroup": "Rhode_Island",
         "marker": {
          "color": "#FECB52",
          "size": [
           2.4
          ],
          "sizemode": "area",
          "sizeref": 0.03975,
          "symbol": "circle"
         },
         "mode": "markers",
         "name": "Rhode_Island",
         "orientation": "v",
         "showlegend": true,
         "type": "scatter",
         "x": [
          2.4
         ],
         "xaxis": "x",
         "y": [
          3.98
         ],
         "yaxis": "y"
        },
        {
         "hovertemplate": "<b>%{hovertext}</b><br><br>State=South_Carolina<br>Murder and nonnegligent manslaughter rate=%{marker.size}<br># of guns per capita=%{y}<extra></extra>",
         "hovertext": [
          "South_Carolina"
         ],
         "legendgroup": "South_Carolina",
         "marker": {
          "color": "#636efa",
          "size": [
           6.4
          ],
          "sizemode": "area",
          "sizeref": 0.03975,
          "symbol": "circle"
         },
         "mode": "markers",
         "name": "South_Carolina",
         "orientation": "v",
         "showlegend": true,
         "type": "scatter",
         "x": [
          6.4
         ],
         "xaxis": "x",
         "y": [
          21.01
         ],
         "yaxis": "y"
        },
        {
         "hovertemplate": "<b>%{hovertext}</b><br><br>State=South_Dakota<br>Murder and nonnegligent manslaughter rate=%{marker.size}<br># of guns per capita=%{y}<extra></extra>",
         "hovertext": [
          "South_Dakota"
         ],
         "legendgroup": "South_Dakota",
         "marker": {
          "color": "#EF553B",
          "size": [
           2.3
          ],
          "sizemode": "area",
          "sizeref": 0.03975,
          "symbol": "circle"
         },
         "mode": "markers",
         "name": "South_Dakota",
         "orientation": "v",
         "showlegend": true,
         "type": "scatter",
         "x": [
          2.3
         ],
         "xaxis": "x",
         "y": [
          24.29
         ],
         "yaxis": "y"
        },
        {
         "hovertemplate": "<b>%{hovertext}</b><br><br>State=Tennessee<br>Murder and nonnegligent manslaughter rate=%{marker.size}<br># of guns per capita=%{y}<extra></extra>",
         "hovertext": [
          "Tennessee"
         ],
         "legendgroup": "Tennessee",
         "marker": {
          "color": "#00cc96",
          "size": [
           5.7
          ],
          "sizemode": "area",
          "sizeref": 0.03975,
          "symbol": "circle"
         },
         "mode": "markers",
         "name": "Tennessee",
         "orientation": "v",
         "showlegend": true,
         "type": "scatter",
         "x": [
          5.7
         ],
         "xaxis": "x",
         "y": [
          14.76
         ],
         "yaxis": "y"
        },
        {
         "hovertemplate": "<b>%{hovertext}</b><br><br>State=Texas<br>Murder and nonnegligent manslaughter rate=%{marker.size}<br># of guns per capita=%{y}<extra></extra>",
         "hovertext": [
          "Texas"
         ],
         "legendgroup": "Texas",
         "marker": {
          "color": "#ab63fa",
          "size": [
           4.4
          ],
          "sizemode": "area",
          "sizeref": 0.03975,
          "symbol": "circle"
         },
         "mode": "markers",
         "name": "Texas",
         "orientation": "v",
         "showlegend": true,
         "type": "scatter",
         "x": [
          4.4
         ],
         "xaxis": "x",
         "y": [
          20.79
         ],
         "yaxis": "y"
        },
        {
         "hovertemplate": "<b>%{hovertext}</b><br><br>State=Utah<br>Murder and nonnegligent manslaughter rate=%{marker.size}<br># of guns per capita=%{y}<extra></extra>",
         "hovertext": [
          "Utah"
         ],
         "legendgroup": "Utah",
         "marker": {
          "color": "#FFA15A",
          "size": [
           2.3
          ],
          "sizemode": "area",
          "sizeref": 0.03975,
          "symbol": "circle"
         },
         "mode": "markers",
         "name": "Utah",
         "orientation": "v",
         "showlegend": true,
         "type": "scatter",
         "x": [
          2.3
         ],
         "xaxis": "x",
         "y": [
          23.48
         ],
         "yaxis": "y"
        },
        {
         "hovertemplate": "<b>%{hovertext}</b><br><br>State=Vermont<br>Murder and nonnegligent manslaughter rate=%{marker.size}<br># of guns per capita=%{y}<extra></extra>",
         "hovertext": [
          "Vermont"
         ],
         "legendgroup": "Vermont",
         "marker": {
          "color": "#19d3f3",
          "size": [
           1.6
          ],
          "sizemode": "area",
          "sizeref": 0.03975,
          "symbol": "circle"
         },
         "mode": "markers",
         "name": "Vermont",
         "orientation": "v",
         "showlegend": true,
         "type": "scatter",
         "x": [
          1.6
         ],
         "xaxis": "x",
         "y": [
          9.41
         ],
         "yaxis": "y"
        },
        {
         "hovertemplate": "<b>%{hovertext}</b><br><br>State=Virginia<br>Murder and nonnegligent manslaughter rate=%{marker.size}<br># of guns per capita=%{y}<extra></extra>",
         "hovertext": [
          "Virginia"
         ],
         "legendgroup": "Virginia",
         "marker": {
          "color": "#FF6692",
          "size": [
           4.1
          ],
          "sizemode": "area",
          "sizeref": 0.03975,
          "symbol": "circle"
         },
         "mode": "markers",
         "name": "Virginia",
         "orientation": "v",
         "showlegend": true,
         "type": "scatter",
         "x": [
          4.1
         ],
         "xaxis": "x",
         "y": [
          36.34
         ],
         "yaxis": "y"
        },
        {
         "hovertemplate": "<b>%{hovertext}</b><br><br>State=Washington<br>Murder and nonnegligent manslaughter rate=%{marker.size}<br># of guns per capita=%{y}<extra></extra>",
         "hovertext": [
          "Washington"
         ],
         "legendgroup": "Washington",
         "marker": {
          "color": "#B6E880",
          "size": [
           2.5
          ],
          "sizemode": "area",
          "sizeref": 0.03975,
          "symbol": "circle"
         },
         "mode": "markers",
         "name": "Washington",
         "orientation": "v",
         "showlegend": true,
         "type": "scatter",
         "x": [
          2.5
         ],
         "xaxis": "x",
         "y": [
          12.4
         ],
         "yaxis": "y"
        },
        {
         "hovertemplate": "<b>%{hovertext}</b><br><br>State=West_Virginia<br>Murder and nonnegligent manslaughter rate=%{marker.size}<br># of guns per capita=%{y}<extra></extra>",
         "hovertext": [
          "West_Virginia"
         ],
         "legendgroup": "West_Virginia",
         "marker": {
          "color": "#FF97FF",
          "size": [
           4
          ],
          "sizemode": "area",
          "sizeref": 0.03975,
          "symbol": "circle"
         },
         "mode": "markers",
         "name": "West_Virginia",
         "orientation": "v",
         "showlegend": true,
         "type": "scatter",
         "x": [
          4
         ],
         "xaxis": "x",
         "y": [
          19.42
         ],
         "yaxis": "y"
        },
        {
         "hovertemplate": "<b>%{hovertext}</b><br><br>State=Wisconsin<br>Murder and nonnegligent manslaughter rate=%{marker.size}<br># of guns per capita=%{y}<extra></extra>",
         "hovertext": [
          "Wisconsin"
         ],
         "legendgroup": "Wisconsin",
         "marker": {
          "color": "#FECB52",
          "size": [
           2.9
          ],
          "sizemode": "area",
          "sizeref": 0.03975,
          "symbol": "circle"
         },
         "mode": "markers",
         "name": "Wisconsin",
         "orientation": "v",
         "showlegend": true,
         "type": "scatter",
         "x": [
          2.9
         ],
         "xaxis": "x",
         "y": [
          11.19
         ],
         "yaxis": "y"
        },
        {
         "hovertemplate": "<b>%{hovertext}</b><br><br>State=Wyoming<br>Murder and nonnegligent manslaughter rate=%{marker.size}<br># of guns per capita=%{y}<extra></extra>",
         "hovertext": [
          "Wyoming"
         ],
         "legendgroup": "Wyoming",
         "marker": {
          "color": "#636efa",
          "size": [
           2.7
          ],
          "sizemode": "area",
          "sizeref": 0.03975,
          "symbol": "circle"
         },
         "mode": "markers",
         "name": "Wyoming",
         "orientation": "v",
         "showlegend": true,
         "type": "scatter",
         "x": [
          2.7
         ],
         "xaxis": "x",
         "y": [
          229.24
         ],
         "yaxis": "y"
        }
       ],
       "layout": {
        "legend": {
         "itemsizing": "constant",
         "title": {
          "text": "State"
         },
         "tracegroupgap": 0
        },
        "template": {
         "data": {
          "bar": [
           {
            "error_x": {
             "color": "#2a3f5f"
            },
            "error_y": {
             "color": "#2a3f5f"
            },
            "marker": {
             "line": {
              "color": "#E5ECF6",
              "width": 0.5
             }
            },
            "type": "bar"
           }
          ],
          "barpolar": [
           {
            "marker": {
             "line": {
              "color": "#E5ECF6",
              "width": 0.5
             }
            },
            "type": "barpolar"
           }
          ],
          "carpet": [
           {
            "aaxis": {
             "endlinecolor": "#2a3f5f",
             "gridcolor": "white",
             "linecolor": "white",
             "minorgridcolor": "white",
             "startlinecolor": "#2a3f5f"
            },
            "baxis": {
             "endlinecolor": "#2a3f5f",
             "gridcolor": "white",
             "linecolor": "white",
             "minorgridcolor": "white",
             "startlinecolor": "#2a3f5f"
            },
            "type": "carpet"
           }
          ],
          "choropleth": [
           {
            "colorbar": {
             "outlinewidth": 0,
             "ticks": ""
            },
            "type": "choropleth"
           }
          ],
          "contour": [
           {
            "colorbar": {
             "outlinewidth": 0,
             "ticks": ""
            },
            "colorscale": [
             [
              0,
              "#0d0887"
             ],
             [
              0.1111111111111111,
              "#46039f"
             ],
             [
              0.2222222222222222,
              "#7201a8"
             ],
             [
              0.3333333333333333,
              "#9c179e"
             ],
             [
              0.4444444444444444,
              "#bd3786"
             ],
             [
              0.5555555555555556,
              "#d8576b"
             ],
             [
              0.6666666666666666,
              "#ed7953"
             ],
             [
              0.7777777777777778,
              "#fb9f3a"
             ],
             [
              0.8888888888888888,
              "#fdca26"
             ],
             [
              1,
              "#f0f921"
             ]
            ],
            "type": "contour"
           }
          ],
          "contourcarpet": [
           {
            "colorbar": {
             "outlinewidth": 0,
             "ticks": ""
            },
            "type": "contourcarpet"
           }
          ],
          "heatmap": [
           {
            "colorbar": {
             "outlinewidth": 0,
             "ticks": ""
            },
            "colorscale": [
             [
              0,
              "#0d0887"
             ],
             [
              0.1111111111111111,
              "#46039f"
             ],
             [
              0.2222222222222222,
              "#7201a8"
             ],
             [
              0.3333333333333333,
              "#9c179e"
             ],
             [
              0.4444444444444444,
              "#bd3786"
             ],
             [
              0.5555555555555556,
              "#d8576b"
             ],
             [
              0.6666666666666666,
              "#ed7953"
             ],
             [
              0.7777777777777778,
              "#fb9f3a"
             ],
             [
              0.8888888888888888,
              "#fdca26"
             ],
             [
              1,
              "#f0f921"
             ]
            ],
            "type": "heatmap"
           }
          ],
          "heatmapgl": [
           {
            "colorbar": {
             "outlinewidth": 0,
             "ticks": ""
            },
            "colorscale": [
             [
              0,
              "#0d0887"
             ],
             [
              0.1111111111111111,
              "#46039f"
             ],
             [
              0.2222222222222222,
              "#7201a8"
             ],
             [
              0.3333333333333333,
              "#9c179e"
             ],
             [
              0.4444444444444444,
              "#bd3786"
             ],
             [
              0.5555555555555556,
              "#d8576b"
             ],
             [
              0.6666666666666666,
              "#ed7953"
             ],
             [
              0.7777777777777778,
              "#fb9f3a"
             ],
             [
              0.8888888888888888,
              "#fdca26"
             ],
             [
              1,
              "#f0f921"
             ]
            ],
            "type": "heatmapgl"
           }
          ],
          "histogram": [
           {
            "marker": {
             "colorbar": {
              "outlinewidth": 0,
              "ticks": ""
             }
            },
            "type": "histogram"
           }
          ],
          "histogram2d": [
           {
            "colorbar": {
             "outlinewidth": 0,
             "ticks": ""
            },
            "colorscale": [
             [
              0,
              "#0d0887"
             ],
             [
              0.1111111111111111,
              "#46039f"
             ],
             [
              0.2222222222222222,
              "#7201a8"
             ],
             [
              0.3333333333333333,
              "#9c179e"
             ],
             [
              0.4444444444444444,
              "#bd3786"
             ],
             [
              0.5555555555555556,
              "#d8576b"
             ],
             [
              0.6666666666666666,
              "#ed7953"
             ],
             [
              0.7777777777777778,
              "#fb9f3a"
             ],
             [
              0.8888888888888888,
              "#fdca26"
             ],
             [
              1,
              "#f0f921"
             ]
            ],
            "type": "histogram2d"
           }
          ],
          "histogram2dcontour": [
           {
            "colorbar": {
             "outlinewidth": 0,
             "ticks": ""
            },
            "colorscale": [
             [
              0,
              "#0d0887"
             ],
             [
              0.1111111111111111,
              "#46039f"
             ],
             [
              0.2222222222222222,
              "#7201a8"
             ],
             [
              0.3333333333333333,
              "#9c179e"
             ],
             [
              0.4444444444444444,
              "#bd3786"
             ],
             [
              0.5555555555555556,
              "#d8576b"
             ],
             [
              0.6666666666666666,
              "#ed7953"
             ],
             [
              0.7777777777777778,
              "#fb9f3a"
             ],
             [
              0.8888888888888888,
              "#fdca26"
             ],
             [
              1,
              "#f0f921"
             ]
            ],
            "type": "histogram2dcontour"
           }
          ],
          "mesh3d": [
           {
            "colorbar": {
             "outlinewidth": 0,
             "ticks": ""
            },
            "type": "mesh3d"
           }
          ],
          "parcoords": [
           {
            "line": {
             "colorbar": {
              "outlinewidth": 0,
              "ticks": ""
             }
            },
            "type": "parcoords"
           }
          ],
          "pie": [
           {
            "automargin": true,
            "type": "pie"
           }
          ],
          "scatter": [
           {
            "marker": {
             "colorbar": {
              "outlinewidth": 0,
              "ticks": ""
             }
            },
            "type": "scatter"
           }
          ],
          "scatter3d": [
           {
            "line": {
             "colorbar": {
              "outlinewidth": 0,
              "ticks": ""
             }
            },
            "marker": {
             "colorbar": {
              "outlinewidth": 0,
              "ticks": ""
             }
            },
            "type": "scatter3d"
           }
          ],
          "scattercarpet": [
           {
            "marker": {
             "colorbar": {
              "outlinewidth": 0,
              "ticks": ""
             }
            },
            "type": "scattercarpet"
           }
          ],
          "scattergeo": [
           {
            "marker": {
             "colorbar": {
              "outlinewidth": 0,
              "ticks": ""
             }
            },
            "type": "scattergeo"
           }
          ],
          "scattergl": [
           {
            "marker": {
             "colorbar": {
              "outlinewidth": 0,
              "ticks": ""
             }
            },
            "type": "scattergl"
           }
          ],
          "scattermapbox": [
           {
            "marker": {
             "colorbar": {
              "outlinewidth": 0,
              "ticks": ""
             }
            },
            "type": "scattermapbox"
           }
          ],
          "scatterpolar": [
           {
            "marker": {
             "colorbar": {
              "outlinewidth": 0,
              "ticks": ""
             }
            },
            "type": "scatterpolar"
           }
          ],
          "scatterpolargl": [
           {
            "marker": {
             "colorbar": {
              "outlinewidth": 0,
              "ticks": ""
             }
            },
            "type": "scatterpolargl"
           }
          ],
          "scatterternary": [
           {
            "marker": {
             "colorbar": {
              "outlinewidth": 0,
              "ticks": ""
             }
            },
            "type": "scatterternary"
           }
          ],
          "surface": [
           {
            "colorbar": {
             "outlinewidth": 0,
             "ticks": ""
            },
            "colorscale": [
             [
              0,
              "#0d0887"
             ],
             [
              0.1111111111111111,
              "#46039f"
             ],
             [
              0.2222222222222222,
              "#7201a8"
             ],
             [
              0.3333333333333333,
              "#9c179e"
             ],
             [
              0.4444444444444444,
              "#bd3786"
             ],
             [
              0.5555555555555556,
              "#d8576b"
             ],
             [
              0.6666666666666666,
              "#ed7953"
             ],
             [
              0.7777777777777778,
              "#fb9f3a"
             ],
             [
              0.8888888888888888,
              "#fdca26"
             ],
             [
              1,
              "#f0f921"
             ]
            ],
            "type": "surface"
           }
          ],
          "table": [
           {
            "cells": {
             "fill": {
              "color": "#EBF0F8"
             },
             "line": {
              "color": "white"
             }
            },
            "header": {
             "fill": {
              "color": "#C8D4E3"
             },
             "line": {
              "color": "white"
             }
            },
            "type": "table"
           }
          ]
         },
         "layout": {
          "annotationdefaults": {
           "arrowcolor": "#2a3f5f",
           "arrowhead": 0,
           "arrowwidth": 1
          },
          "coloraxis": {
           "colorbar": {
            "outlinewidth": 0,
            "ticks": ""
           }
          },
          "colorscale": {
           "diverging": [
            [
             0,
             "#8e0152"
            ],
            [
             0.1,
             "#c51b7d"
            ],
            [
             0.2,
             "#de77ae"
            ],
            [
             0.3,
             "#f1b6da"
            ],
            [
             0.4,
             "#fde0ef"
            ],
            [
             0.5,
             "#f7f7f7"
            ],
            [
             0.6,
             "#e6f5d0"
            ],
            [
             0.7,
             "#b8e186"
            ],
            [
             0.8,
             "#7fbc41"
            ],
            [
             0.9,
             "#4d9221"
            ],
            [
             1,
             "#276419"
            ]
           ],
           "sequential": [
            [
             0,
             "#0d0887"
            ],
            [
             0.1111111111111111,
             "#46039f"
            ],
            [
             0.2222222222222222,
             "#7201a8"
            ],
            [
             0.3333333333333333,
             "#9c179e"
            ],
            [
             0.4444444444444444,
             "#bd3786"
            ],
            [
             0.5555555555555556,
             "#d8576b"
            ],
            [
             0.6666666666666666,
             "#ed7953"
            ],
            [
             0.7777777777777778,
             "#fb9f3a"
            ],
            [
             0.8888888888888888,
             "#fdca26"
            ],
            [
             1,
             "#f0f921"
            ]
           ],
           "sequentialminus": [
            [
             0,
             "#0d0887"
            ],
            [
             0.1111111111111111,
             "#46039f"
            ],
            [
             0.2222222222222222,
             "#7201a8"
            ],
            [
             0.3333333333333333,
             "#9c179e"
            ],
            [
             0.4444444444444444,
             "#bd3786"
            ],
            [
             0.5555555555555556,
             "#d8576b"
            ],
            [
             0.6666666666666666,
             "#ed7953"
            ],
            [
             0.7777777777777778,
             "#fb9f3a"
            ],
            [
             0.8888888888888888,
             "#fdca26"
            ],
            [
             1,
             "#f0f921"
            ]
           ]
          },
          "colorway": [
           "#636efa",
           "#EF553B",
           "#00cc96",
           "#ab63fa",
           "#FFA15A",
           "#19d3f3",
           "#FF6692",
           "#B6E880",
           "#FF97FF",
           "#FECB52"
          ],
          "font": {
           "color": "#2a3f5f"
          },
          "geo": {
           "bgcolor": "white",
           "lakecolor": "white",
           "landcolor": "#E5ECF6",
           "showlakes": true,
           "showland": true,
           "subunitcolor": "white"
          },
          "hoverlabel": {
           "align": "left"
          },
          "hovermode": "closest",
          "mapbox": {
           "style": "light"
          },
          "paper_bgcolor": "white",
          "plot_bgcolor": "#E5ECF6",
          "polar": {
           "angularaxis": {
            "gridcolor": "white",
            "linecolor": "white",
            "ticks": ""
           },
           "bgcolor": "#E5ECF6",
           "radialaxis": {
            "gridcolor": "white",
            "linecolor": "white",
            "ticks": ""
           }
          },
          "scene": {
           "xaxis": {
            "backgroundcolor": "#E5ECF6",
            "gridcolor": "white",
            "gridwidth": 2,
            "linecolor": "white",
            "showbackground": true,
            "ticks": "",
            "zerolinecolor": "white"
           },
           "yaxis": {
            "backgroundcolor": "#E5ECF6",
            "gridcolor": "white",
            "gridwidth": 2,
            "linecolor": "white",
            "showbackground": true,
            "ticks": "",
            "zerolinecolor": "white"
           },
           "zaxis": {
            "backgroundcolor": "#E5ECF6",
            "gridcolor": "white",
            "gridwidth": 2,
            "linecolor": "white",
            "showbackground": true,
            "ticks": "",
            "zerolinecolor": "white"
           }
          },
          "shapedefaults": {
           "line": {
            "color": "#2a3f5f"
           }
          },
          "ternary": {
           "aaxis": {
            "gridcolor": "white",
            "linecolor": "white",
            "ticks": ""
           },
           "baxis": {
            "gridcolor": "white",
            "linecolor": "white",
            "ticks": ""
           },
           "bgcolor": "#E5ECF6",
           "caxis": {
            "gridcolor": "white",
            "linecolor": "white",
            "ticks": ""
           }
          },
          "title": {
           "x": 0.05
          },
          "xaxis": {
           "automargin": true,
           "gridcolor": "white",
           "linecolor": "white",
           "ticks": "",
           "title": {
            "standoff": 15
           },
           "zerolinecolor": "white",
           "zerolinewidth": 2
          },
          "yaxis": {
           "automargin": true,
           "gridcolor": "white",
           "linecolor": "white",
           "ticks": "",
           "title": {
            "standoff": 15
           },
           "zerolinecolor": "white",
           "zerolinewidth": 2
          }
         }
        },
        "title": {
         "text": "Murder and Manslaughter Rate in the US"
        },
        "xaxis": {
         "anchor": "y",
         "domain": [
          0,
          1
         ],
         "title": {
          "text": "Murder and nonnegligent manslaughter rate"
         }
        },
        "yaxis": {
         "anchor": "x",
         "domain": [
          0,
          1
         ],
         "title": {
          "text": "# of guns per capita"
         }
        }
       }
      },
      "text/html": [
       "<div>\n",
       "        \n",
       "        \n",
       "            <div id=\"46aecea2-372b-4082-ba50-66e70e95c5f3\" class=\"plotly-graph-div\" style=\"height:525px; width:100%;\"></div>\n",
       "            <script type=\"text/javascript\">\n",
       "                require([\"plotly\"], function(Plotly) {\n",
       "                    window.PLOTLYENV=window.PLOTLYENV || {};\n",
       "                    \n",
       "                if (document.getElementById(\"46aecea2-372b-4082-ba50-66e70e95c5f3\")) {\n",
       "                    Plotly.newPlot(\n",
       "                        '46aecea2-372b-4082-ba50-66e70e95c5f3',\n",
       "                        [{\"hovertemplate\": \"<b>%{hovertext}</b><br><br>State=Alabama<br>Murder and nonnegligent manslaughter rate=%{marker.size}<br># of guns per capita=%{y}<extra></extra>\", \"hovertext\": [\"Alabama\"], \"legendgroup\": \"Alabama\", \"marker\": {\"color\": \"#636efa\", \"size\": [5.7], \"sizemode\": \"area\", \"sizeref\": 0.03975, \"symbol\": \"circle\"}, \"mode\": \"markers\", \"name\": \"Alabama\", \"orientation\": \"v\", \"showlegend\": true, \"type\": \"scatter\", \"x\": [5.7], \"xaxis\": \"x\", \"y\": [33.15], \"yaxis\": \"y\"}, {\"hovertemplate\": \"<b>%{hovertext}</b><br><br>State=Alaska<br>Murder and nonnegligent manslaughter rate=%{marker.size}<br># of guns per capita=%{y}<extra></extra>\", \"hovertext\": [\"Alaska\"], \"legendgroup\": \"Alaska\", \"marker\": {\"color\": \"#EF553B\", \"size\": [5.6], \"sizemode\": \"area\", \"sizeref\": 0.03975, \"symbol\": \"circle\"}, \"mode\": \"markers\", \"name\": \"Alaska\", \"orientation\": \"v\", \"showlegend\": true, \"type\": \"scatter\", \"x\": [5.6], \"xaxis\": \"x\", \"y\": [21.38], \"yaxis\": \"y\"}, {\"hovertemplate\": \"<b>%{hovertext}</b><br><br>State=Arizona<br>Murder and nonnegligent manslaughter rate=%{marker.size}<br># of guns per capita=%{y}<extra></extra>\", \"hovertext\": [\"Arizona\"], \"legendgroup\": \"Arizona\", \"marker\": {\"color\": \"#00cc96\", \"size\": [4.7], \"sizemode\": \"area\", \"sizeref\": 0.03975, \"symbol\": \"circle\"}, \"mode\": \"markers\", \"name\": \"Arizona\", \"orientation\": \"v\", \"showlegend\": true, \"type\": \"scatter\", \"x\": [4.7], \"xaxis\": \"x\", \"y\": [25.61], \"yaxis\": \"y\"}, {\"hovertemplate\": \"<b>%{hovertext}</b><br><br>State=Arkansas<br>Murder and nonnegligent manslaughter rate=%{marker.size}<br># of guns per capita=%{y}<extra></extra>\", \"hovertext\": [\"Arkansas\"], \"legendgroup\": \"Arkansas\", \"marker\": {\"color\": \"#ab63fa\", \"size\": [5.6], \"sizemode\": \"area\", \"sizeref\": 0.03975, \"symbol\": \"circle\"}, \"mode\": \"markers\", \"name\": \"Arkansas\", \"orientation\": \"v\", \"showlegend\": true, \"type\": \"scatter\", \"x\": [5.6], \"xaxis\": \"x\", \"y\": [26.57], \"yaxis\": \"y\"}, {\"hovertemplate\": \"<b>%{hovertext}</b><br><br>State=California<br>Murder and nonnegligent manslaughter rate=%{marker.size}<br># of guns per capita=%{y}<extra></extra>\", \"hovertext\": [\"California\"], \"legendgroup\": \"California\", \"marker\": {\"color\": \"#FFA15A\", \"size\": [4.4], \"sizemode\": \"area\", \"sizeref\": 0.03975, \"symbol\": \"circle\"}, \"mode\": \"markers\", \"name\": \"California\", \"orientation\": \"v\", \"showlegend\": true, \"type\": \"scatter\", \"x\": [4.4], \"xaxis\": \"x\", \"y\": [8.71], \"yaxis\": \"y\"}, {\"hovertemplate\": \"<b>%{hovertext}</b><br><br>State=Colorado<br>Murder and nonnegligent manslaughter rate=%{marker.size}<br># of guns per capita=%{y}<extra></extra>\", \"hovertext\": [\"Colorado\"], \"legendgroup\": \"Colorado\", \"marker\": {\"color\": \"#19d3f3\", \"size\": [2.8], \"sizemode\": \"area\", \"sizeref\": 0.03975, \"symbol\": \"circle\"}, \"mode\": \"markers\", \"name\": \"Colorado\", \"orientation\": \"v\", \"showlegend\": true, \"type\": \"scatter\", \"x\": [2.8], \"xaxis\": \"x\", \"y\": [16.48], \"yaxis\": \"y\"}, {\"hovertemplate\": \"<b>%{hovertext}</b><br><br>State=Connecticut<br>Murder and nonnegligent manslaughter rate=%{marker.size}<br># of guns per capita=%{y}<extra></extra>\", \"hovertext\": [\"Connecticut\"], \"legendgroup\": \"Connecticut\", \"marker\": {\"color\": \"#FF6692\", \"size\": [2.4], \"sizemode\": \"area\", \"sizeref\": 0.03975, \"symbol\": \"circle\"}, \"mode\": \"markers\", \"name\": \"Connecticut\", \"orientation\": \"v\", \"showlegend\": true, \"type\": \"scatter\", \"x\": [2.4], \"xaxis\": \"x\", \"y\": [22.96], \"yaxis\": \"y\"}, {\"hovertemplate\": \"<b>%{hovertext}</b><br><br>State=DC<br>Murder and nonnegligent manslaughter rate=%{marker.size}<br># of guns per capita=%{y}<extra></extra>\", \"hovertext\": [\"DC\"], \"legendgroup\": \"DC\", \"marker\": {\"color\": \"#B6E880\", \"size\": [15.9], \"sizemode\": \"area\", \"sizeref\": 0.03975, \"symbol\": \"circle\"}, \"mode\": \"markers\", \"name\": \"DC\", \"orientation\": \"v\", \"showlegend\": true, \"type\": \"scatter\", \"x\": [15.9], \"xaxis\": \"x\", \"y\": [68.05], \"yaxis\": \"y\"}, {\"hovertemplate\": \"<b>%{hovertext}</b><br><br>State=Delaware<br>Murder and nonnegligent manslaughter rate=%{marker.size}<br># of guns per capita=%{y}<extra></extra>\", \"hovertext\": [\"Delaware\"], \"legendgroup\": \"Delaware\", \"marker\": {\"color\": \"#FF97FF\", \"size\": [5.8], \"sizemode\": \"area\", \"sizeref\": 0.03975, \"symbol\": \"circle\"}, \"mode\": \"markers\", \"name\": \"Delaware\", \"orientation\": \"v\", \"showlegend\": true, \"type\": \"scatter\", \"x\": [5.8], \"xaxis\": \"x\", \"y\": [5.04], \"yaxis\": \"y\"}, {\"hovertemplate\": \"<b>%{hovertext}</b><br><br>State=Florida<br>Murder and nonnegligent manslaughter rate=%{marker.size}<br># of guns per capita=%{y}<extra></extra>\", \"hovertext\": [\"Florida\"], \"legendgroup\": \"Florida\", \"marker\": {\"color\": \"#FECB52\", \"size\": [5.8], \"sizemode\": \"area\", \"sizeref\": 0.03975, \"symbol\": \"circle\"}, \"mode\": \"markers\", \"name\": \"Florida\", \"orientation\": \"v\", \"showlegend\": true, \"type\": \"scatter\", \"x\": [5.8], \"xaxis\": \"x\", \"y\": [16.35], \"yaxis\": \"y\"}, {\"hovertemplate\": \"<b>%{hovertext}</b><br><br>State=Georgia<br>Murder and nonnegligent manslaughter rate=%{marker.size}<br># of guns per capita=%{y}<extra></extra>\", \"hovertext\": [\"Georgia\"], \"legendgroup\": \"Georgia\", \"marker\": {\"color\": \"#636efa\", \"size\": [5.7], \"sizemode\": \"area\", \"sizeref\": 0.03975, \"symbol\": \"circle\"}, \"mode\": \"markers\", \"name\": \"Georgia\", \"orientation\": \"v\", \"showlegend\": true, \"type\": \"scatter\", \"x\": [5.7], \"xaxis\": \"x\", \"y\": [18.22], \"yaxis\": \"y\"}, {\"hovertemplate\": \"<b>%{hovertext}</b><br><br>State=Hawaii<br>Murder and nonnegligent manslaughter rate=%{marker.size}<br># of guns per capita=%{y}<extra></extra>\", \"hovertext\": [\"Hawaii\"], \"legendgroup\": \"Hawaii\", \"marker\": {\"color\": \"#EF553B\", \"size\": [1.8], \"sizemode\": \"area\", \"sizeref\": 0.03975, \"symbol\": \"circle\"}, \"mode\": \"markers\", \"name\": \"Hawaii\", \"orientation\": \"v\", \"showlegend\": true, \"type\": \"scatter\", \"x\": [1.8], \"xaxis\": \"x\", \"y\": [5.5], \"yaxis\": \"y\"}, {\"hovertemplate\": \"<b>%{hovertext}</b><br><br>State=Idaho<br>Murder and nonnegligent manslaughter rate=%{marker.size}<br># of guns per capita=%{y}<extra></extra>\", \"hovertext\": [\"Idaho\"], \"legendgroup\": \"Idaho\", \"marker\": {\"color\": \"#00cc96\", \"size\": [2.0], \"sizemode\": \"area\", \"sizeref\": 0.03975, \"symbol\": \"circle\"}, \"mode\": \"markers\", \"name\": \"Idaho\", \"orientation\": \"v\", \"showlegend\": true, \"type\": \"scatter\", \"x\": [2.0], \"xaxis\": \"x\", \"y\": [28.86], \"yaxis\": \"y\"}, {\"hovertemplate\": \"<b>%{hovertext}</b><br><br>State=Illinois<br>Murder and nonnegligent manslaughter rate=%{marker.size}<br># of guns per capita=%{y}<extra></extra>\", \"hovertext\": [\"Illinois\"], \"legendgroup\": \"Illinois\", \"marker\": {\"color\": \"#ab63fa\", \"size\": [5.3], \"sizemode\": \"area\", \"sizeref\": 0.03975, \"symbol\": \"circle\"}, \"mode\": \"markers\", \"name\": \"Illinois\", \"orientation\": \"v\", \"showlegend\": true, \"type\": \"scatter\", \"x\": [5.3], \"xaxis\": \"x\", \"y\": [11.44], \"yaxis\": \"y\"}, {\"hovertemplate\": \"<b>%{hovertext}</b><br><br>State=Indiana<br>Murder and nonnegligent manslaughter rate=%{marker.size}<br># of guns per capita=%{y}<extra></extra>\", \"hovertext\": [\"Indiana\"], \"legendgroup\": \"Indiana\", \"marker\": {\"color\": \"#FFA15A\", \"size\": [5.0], \"sizemode\": \"area\", \"sizeref\": 0.03975, \"symbol\": \"circle\"}, \"mode\": \"markers\", \"name\": \"Indiana\", \"orientation\": \"v\", \"showlegend\": true, \"type\": \"scatter\", \"x\": [5.0], \"xaxis\": \"x\", \"y\": [17.1], \"yaxis\": \"y\"}, {\"hovertemplate\": \"<b>%{hovertext}</b><br><br>State=Iowa<br>Murder and nonnegligent manslaughter rate=%{marker.size}<br># of guns per capita=%{y}<extra></extra>\", \"hovertext\": [\"Iowa\"], \"legendgroup\": \"Iowa\", \"marker\": {\"color\": \"#19d3f3\", \"size\": [1.9], \"sizemode\": \"area\", \"sizeref\": 0.03975, \"symbol\": \"circle\"}, \"mode\": \"markers\", \"name\": \"Iowa\", \"orientation\": \"v\", \"showlegend\": true, \"type\": \"scatter\", \"x\": [1.9], \"xaxis\": \"x\", \"y\": [9.05], \"yaxis\": \"y\"}, {\"hovertemplate\": \"<b>%{hovertext}</b><br><br>State=Kansas<br>Murder and nonnegligent manslaughter rate=%{marker.size}<br># of guns per capita=%{y}<extra></extra>\", \"hovertext\": [\"Kansas\"], \"legendgroup\": \"Kansas\", \"marker\": {\"color\": \"#FF6692\", \"size\": [3.1], \"sizemode\": \"area\", \"sizeref\": 0.03975, \"symbol\": \"circle\"}, \"mode\": \"markers\", \"name\": \"Kansas\", \"orientation\": \"v\", \"showlegend\": true, \"type\": \"scatter\", \"x\": [3.1], \"xaxis\": \"x\", \"y\": [18.06], \"yaxis\": \"y\"}, {\"hovertemplate\": \"<b>%{hovertext}</b><br><br>State=Kentucky<br>Murder and nonnegligent manslaughter rate=%{marker.size}<br># of guns per capita=%{y}<extra></extra>\", \"hovertext\": [\"Kentucky\"], \"legendgroup\": \"Kentucky\", \"marker\": {\"color\": \"#B6E880\", \"size\": [3.6], \"sizemode\": \"area\", \"sizeref\": 0.03975, \"symbol\": \"circle\"}, \"mode\": \"markers\", \"name\": \"Kentucky\", \"orientation\": \"v\", \"showlegend\": true, \"type\": \"scatter\", \"x\": [3.6], \"xaxis\": \"x\", \"y\": [18.2], \"yaxis\": \"y\"}, {\"hovertemplate\": \"<b>%{hovertext}</b><br><br>State=Louisiana<br>Murder and nonnegligent manslaughter rate=%{marker.size}<br># of guns per capita=%{y}<extra></extra>\", \"hovertext\": [\"Louisiana\"], \"legendgroup\": \"Louisiana\", \"marker\": {\"color\": \"#FF97FF\", \"size\": [10.3], \"sizemode\": \"area\", \"sizeref\": 0.03975, \"symbol\": \"circle\"}, \"mode\": \"markers\", \"name\": \"Louisiana\", \"orientation\": \"v\", \"showlegend\": true, \"type\": \"scatter\", \"x\": [10.3], \"xaxis\": \"x\", \"y\": [24.94], \"yaxis\": \"y\"}, {\"hovertemplate\": \"<b>%{hovertext}</b><br><br>State=Maine<br>Murder and nonnegligent manslaughter rate=%{marker.size}<br># of guns per capita=%{y}<extra></extra>\", \"hovertext\": [\"Maine\"], \"legendgroup\": \"Maine\", \"marker\": {\"color\": \"#FECB52\", \"size\": [1.6], \"sizemode\": \"area\", \"sizeref\": 0.03975, \"symbol\": \"circle\"}, \"mode\": \"markers\", \"name\": \"Maine\", \"orientation\": \"v\", \"showlegend\": true, \"type\": \"scatter\", \"x\": [1.6], \"xaxis\": \"x\", \"y\": [11.5], \"yaxis\": \"y\"}, {\"hovertemplate\": \"<b>%{hovertext}</b><br><br>State=Maryland<br>Murder and nonnegligent manslaughter rate=%{marker.size}<br># of guns per capita=%{y}<extra></extra>\", \"hovertext\": [\"Maryland\"], \"legendgroup\": \"Maryland\", \"marker\": {\"color\": \"#636efa\", \"size\": [6.1], \"sizemode\": \"area\", \"sizeref\": 0.03975, \"symbol\": \"circle\"}, \"mode\": \"markers\", \"name\": \"Maryland\", \"orientation\": \"v\", \"showlegend\": true, \"type\": \"scatter\", \"x\": [6.1], \"xaxis\": \"x\", \"y\": [17.03], \"yaxis\": \"y\"}, {\"hovertemplate\": \"<b>%{hovertext}</b><br><br>State=Massachusetts<br>Murder and nonnegligent manslaughter rate=%{marker.size}<br># of guns per capita=%{y}<extra></extra>\", \"hovertext\": [\"Massachusetts\"], \"legendgroup\": \"Massachusetts\", \"marker\": {\"color\": \"#EF553B\", \"size\": [2.0], \"sizemode\": \"area\", \"sizeref\": 0.03975, \"symbol\": \"circle\"}, \"mode\": \"markers\", \"name\": \"Massachusetts\", \"orientation\": \"v\", \"showlegend\": true, \"type\": \"scatter\", \"x\": [2.0], \"xaxis\": \"x\", \"y\": [5.41], \"yaxis\": \"y\"}, {\"hovertemplate\": \"<b>%{hovertext}</b><br><br>State=Michigan<br>Murder and nonnegligent manslaughter rate=%{marker.size}<br># of guns per capita=%{y}<extra></extra>\", \"hovertext\": [\"Michigan\"], \"legendgroup\": \"Michigan\", \"marker\": {\"color\": \"#00cc96\", \"size\": [5.4], \"sizemode\": \"area\", \"sizeref\": 0.03975, \"symbol\": \"circle\"}, \"mode\": \"markers\", \"name\": \"Michigan\", \"orientation\": \"v\", \"showlegend\": true, \"type\": \"scatter\", \"x\": [5.4], \"xaxis\": \"x\", \"y\": [6.59], \"yaxis\": \"y\"}, {\"hovertemplate\": \"<b>%{hovertext}</b><br><br>State=Minnesota<br>Murder and nonnegligent manslaughter rate=%{marker.size}<br># of guns per capita=%{y}<extra></extra>\", \"hovertext\": [\"Minnesota\"], \"legendgroup\": \"Minnesota\", \"marker\": {\"color\": \"#ab63fa\", \"size\": [1.6], \"sizemode\": \"area\", \"sizeref\": 0.03975, \"symbol\": \"circle\"}, \"mode\": \"markers\", \"name\": \"Minnesota\", \"orientation\": \"v\", \"showlegend\": true, \"type\": \"scatter\", \"x\": [1.6], \"xaxis\": \"x\", \"y\": [14.22], \"yaxis\": \"y\"}, {\"hovertemplate\": \"<b>%{hovertext}</b><br><br>State=Mississippi<br>Murder and nonnegligent manslaughter rate=%{marker.size}<br># of guns per capita=%{y}<extra></extra>\", \"hovertext\": [\"Mississippi\"], \"legendgroup\": \"Mississippi\", \"marker\": {\"color\": \"#FFA15A\", \"size\": [8.6], \"sizemode\": \"area\", \"sizeref\": 0.03975, \"symbol\": \"circle\"}, \"mode\": \"markers\", \"name\": \"Mississippi\", \"orientation\": \"v\", \"showlegend\": true, \"type\": \"scatter\", \"x\": [8.6], \"xaxis\": \"x\", \"y\": [11.89], \"yaxis\": \"y\"}, {\"hovertemplate\": \"<b>%{hovertext}</b><br><br>State=Missouri<br>Murder and nonnegligent manslaughter rate=%{marker.size}<br># of guns per capita=%{y}<extra></extra>\", \"hovertext\": [\"Missouri\"], \"legendgroup\": \"Missouri\", \"marker\": {\"color\": \"#19d3f3\", \"size\": [6.6], \"sizemode\": \"area\", \"sizeref\": 0.03975, \"symbol\": \"circle\"}, \"mode\": \"markers\", \"name\": \"Missouri\", \"orientation\": \"v\", \"showlegend\": true, \"type\": \"scatter\", \"x\": [6.6], \"xaxis\": \"x\", \"y\": [11.94], \"yaxis\": \"y\"}, {\"hovertemplate\": \"<b>%{hovertext}</b><br><br>State=Montana<br>Murder and nonnegligent manslaughter rate=%{marker.size}<br># of guns per capita=%{y}<extra></extra>\", \"hovertext\": [\"Montana\"], \"legendgroup\": \"Montana\", \"marker\": {\"color\": \"#FF6692\", \"size\": [3.6], \"sizemode\": \"area\", \"sizeref\": 0.03975, \"symbol\": \"circle\"}, \"mode\": \"markers\", \"name\": \"Montana\", \"orientation\": \"v\", \"showlegend\": true, \"type\": \"scatter\", \"x\": [3.6], \"xaxis\": \"x\", \"y\": [21.06], \"yaxis\": \"y\"}, {\"hovertemplate\": \"<b>%{hovertext}</b><br><br>State=Nebraska<br>Murder and nonnegligent manslaughter rate=%{marker.size}<br># of guns per capita=%{y}<extra></extra>\", \"hovertext\": [\"Nebraska\"], \"legendgroup\": \"Nebraska\", \"marker\": {\"color\": \"#B6E880\", \"size\": [2.9], \"sizemode\": \"area\", \"sizeref\": 0.03975, \"symbol\": \"circle\"}, \"mode\": \"markers\", \"name\": \"Nebraska\", \"orientation\": \"v\", \"showlegend\": true, \"type\": \"scatter\", \"x\": [2.9], \"xaxis\": \"x\", \"y\": [11.57], \"yaxis\": \"y\"}, {\"hovertemplate\": \"<b>%{hovertext}</b><br><br>State=Nevada<br>Murder and nonnegligent manslaughter rate=%{marker.size}<br># of guns per capita=%{y}<extra></extra>\", \"hovertext\": [\"Nevada\"], \"legendgroup\": \"Nevada\", \"marker\": {\"color\": \"#FF97FF\", \"size\": [6.0], \"sizemode\": \"area\", \"sizeref\": 0.03975, \"symbol\": \"circle\"}, \"mode\": \"markers\", \"name\": \"Nevada\", \"orientation\": \"v\", \"showlegend\": true, \"type\": \"scatter\", \"x\": [6.0], \"xaxis\": \"x\", \"y\": [25.64], \"yaxis\": \"y\"}, {\"hovertemplate\": \"<b>%{hovertext}</b><br><br>State=New_Hampshire<br>Murder and nonnegligent manslaughter rate=%{marker.size}<br># of guns per capita=%{y}<extra></extra>\", \"hovertext\": [\"New_Hampshire\"], \"legendgroup\": \"New_Hampshire\", \"marker\": {\"color\": \"#FECB52\", \"size\": [0.9], \"sizemode\": \"area\", \"sizeref\": 0.03975, \"symbol\": \"circle\"}, \"mode\": \"markers\", \"name\": \"New_Hampshire\", \"orientation\": \"v\", \"showlegend\": true, \"type\": \"scatter\", \"x\": [0.9], \"xaxis\": \"x\", \"y\": [46.76], \"yaxis\": \"y\"}, {\"hovertemplate\": \"<b>%{hovertext}</b><br><br>State=New_Jersey<br>Murder and nonnegligent manslaughter rate=%{marker.size}<br># of guns per capita=%{y}<extra></extra>\", \"hovertext\": [\"New_Jersey\"], \"legendgroup\": \"New_Jersey\", \"marker\": {\"color\": \"#636efa\", \"size\": [3.9], \"sizemode\": \"area\", \"sizeref\": 0.03975, \"symbol\": \"circle\"}, \"mode\": \"markers\", \"name\": \"New_Jersey\", \"orientation\": \"v\", \"showlegend\": true, \"type\": \"scatter\", \"x\": [3.9], \"xaxis\": \"x\", \"y\": [6.38], \"yaxis\": \"y\"}, {\"hovertemplate\": \"<b>%{hovertext}</b><br><br>State=New_Mexico<br>Murder and nonnegligent manslaughter rate=%{marker.size}<br># of guns per capita=%{y}<extra></extra>\", \"hovertext\": [\"New_Mexico\"], \"legendgroup\": \"New_Mexico\", \"marker\": {\"color\": \"#EF553B\", \"size\": [4.8], \"sizemode\": \"area\", \"sizeref\": 0.03975, \"symbol\": \"circle\"}, \"mode\": \"markers\", \"name\": \"New_Mexico\", \"orientation\": \"v\", \"showlegend\": true, \"type\": \"scatter\", \"x\": [4.8], \"xaxis\": \"x\", \"y\": [46.73], \"yaxis\": \"y\"}, {\"hovertemplate\": \"<b>%{hovertext}</b><br><br>State=New_York<br>Murder and nonnegligent manslaughter rate=%{marker.size}<br># of guns per capita=%{y}<extra></extra>\", \"hovertext\": [\"New_York\"], \"legendgroup\": \"New_York\", \"marker\": {\"color\": \"#00cc96\", \"size\": [3.1], \"sizemode\": \"area\", \"sizeref\": 0.03975, \"symbol\": \"circle\"}, \"mode\": \"markers\", \"name\": \"New_York\", \"orientation\": \"v\", \"showlegend\": true, \"type\": \"scatter\", \"x\": [3.1], \"xaxis\": \"x\", \"y\": [3.83], \"yaxis\": \"y\"}, {\"hovertemplate\": \"<b>%{hovertext}</b><br><br>State=North_Carolina<br>Murder and nonnegligent manslaughter rate=%{marker.size}<br># of guns per capita=%{y}<extra></extra>\", \"hovertext\": [\"North_Carolina\"], \"legendgroup\": \"North_Carolina\", \"marker\": {\"color\": \"#ab63fa\", \"size\": [5.1], \"sizemode\": \"area\", \"sizeref\": 0.03975, \"symbol\": \"circle\"}, \"mode\": \"markers\", \"name\": \"North_Carolina\", \"orientation\": \"v\", \"showlegend\": true, \"type\": \"scatter\", \"x\": [5.1], \"xaxis\": \"x\", \"y\": [14.818], \"yaxis\": \"y\"}, {\"hovertemplate\": \"<b>%{hovertext}</b><br><br>State=North_Dakota<br>Murder and nonnegligent manslaughter rate=%{marker.size}<br># of guns per capita=%{y}<extra></extra>\", \"hovertext\": [\"North_Dakota\"], \"legendgroup\": \"North_Dakota\", \"marker\": {\"color\": \"#FFA15A\", \"size\": [3.0], \"sizemode\": \"area\", \"sizeref\": 0.03975, \"symbol\": \"circle\"}, \"mode\": \"markers\", \"name\": \"North_Dakota\", \"orientation\": \"v\", \"showlegend\": true, \"type\": \"scatter\", \"x\": [3.0], \"xaxis\": \"x\", \"y\": [17.56], \"yaxis\": \"y\"}, {\"hovertemplate\": \"<b>%{hovertext}</b><br><br>State=Ohio<br>Murder and nonnegligent manslaughter rate=%{marker.size}<br># of guns per capita=%{y}<extra></extra>\", \"hovertext\": [\"Ohio\"], \"legendgroup\": \"Ohio\", \"marker\": {\"color\": \"#19d3f3\", \"size\": [4.0], \"sizemode\": \"area\", \"sizeref\": 0.03975, \"symbol\": \"circle\"}, \"mode\": \"markers\", \"name\": \"Ohio\", \"orientation\": \"v\", \"showlegend\": true, \"type\": \"scatter\", \"x\": [4.0], \"xaxis\": \"x\", \"y\": [14.87], \"yaxis\": \"y\"}, {\"hovertemplate\": \"<b>%{hovertext}</b><br><br>State=Oklahoma<br>Murder and nonnegligent manslaughter rate=%{marker.size}<br># of guns per capita=%{y}<extra></extra>\", \"hovertext\": [\"Oklahoma\"], \"legendgroup\": \"Oklahoma\", \"marker\": {\"color\": \"#FF6692\", \"size\": [4.5], \"sizemode\": \"area\", \"sizeref\": 0.03975, \"symbol\": \"circle\"}, \"mode\": \"markers\", \"name\": \"Oklahoma\", \"orientation\": \"v\", \"showlegend\": true, \"type\": \"scatter\", \"x\": [4.5], \"xaxis\": \"x\", \"y\": [18.13], \"yaxis\": \"y\"}, {\"hovertemplate\": \"<b>%{hovertext}</b><br><br>State=Oregon<br>Murder and nonnegligent manslaughter rate=%{marker.size}<br># of guns per capita=%{y}<extra></extra>\", \"hovertext\": [\"Oregon\"], \"legendgroup\": \"Oregon\", \"marker\": {\"color\": \"#B6E880\", \"size\": [2.0], \"sizemode\": \"area\", \"sizeref\": 0.03975, \"symbol\": \"circle\"}, \"mode\": \"markers\", \"name\": \"Oregon\", \"orientation\": \"v\", \"showlegend\": true, \"type\": \"scatter\", \"x\": [2.0], \"xaxis\": \"x\", \"y\": [14.815999999999999], \"yaxis\": \"y\"}, {\"hovertemplate\": \"<b>%{hovertext}</b><br><br>State=Pennsylvania<br>Murder and nonnegligent manslaughter rate=%{marker.size}<br># of guns per capita=%{y}<extra></extra>\", \"hovertext\": [\"Pennsylvania\"], \"legendgroup\": \"Pennsylvania\", \"marker\": {\"color\": \"#FF97FF\", \"size\": [4.8], \"sizemode\": \"area\", \"sizeref\": 0.03975, \"symbol\": \"circle\"}, \"mode\": \"markers\", \"name\": \"Pennsylvania\", \"orientation\": \"v\", \"showlegend\": true, \"type\": \"scatter\", \"x\": [4.8], \"xaxis\": \"x\", \"y\": [18.45], \"yaxis\": \"y\"}, {\"hovertemplate\": \"<b>%{hovertext}</b><br><br>State=Rhode_Island<br>Murder and nonnegligent manslaughter rate=%{marker.size}<br># of guns per capita=%{y}<extra></extra>\", \"hovertext\": [\"Rhode_Island\"], \"legendgroup\": \"Rhode_Island\", \"marker\": {\"color\": \"#FECB52\", \"size\": [2.4], \"sizemode\": \"area\", \"sizeref\": 0.03975, \"symbol\": \"circle\"}, \"mode\": \"markers\", \"name\": \"Rhode_Island\", \"orientation\": \"v\", \"showlegend\": true, \"type\": \"scatter\", \"x\": [2.4], \"xaxis\": \"x\", \"y\": [3.98], \"yaxis\": \"y\"}, {\"hovertemplate\": \"<b>%{hovertext}</b><br><br>State=South_Carolina<br>Murder and nonnegligent manslaughter rate=%{marker.size}<br># of guns per capita=%{y}<extra></extra>\", \"hovertext\": [\"South_Carolina\"], \"legendgroup\": \"South_Carolina\", \"marker\": {\"color\": \"#636efa\", \"size\": [6.4], \"sizemode\": \"area\", \"sizeref\": 0.03975, \"symbol\": \"circle\"}, \"mode\": \"markers\", \"name\": \"South_Carolina\", \"orientation\": \"v\", \"showlegend\": true, \"type\": \"scatter\", \"x\": [6.4], \"xaxis\": \"x\", \"y\": [21.01], \"yaxis\": \"y\"}, {\"hovertemplate\": \"<b>%{hovertext}</b><br><br>State=South_Dakota<br>Murder and nonnegligent manslaughter rate=%{marker.size}<br># of guns per capita=%{y}<extra></extra>\", \"hovertext\": [\"South_Dakota\"], \"legendgroup\": \"South_Dakota\", \"marker\": {\"color\": \"#EF553B\", \"size\": [2.3], \"sizemode\": \"area\", \"sizeref\": 0.03975, \"symbol\": \"circle\"}, \"mode\": \"markers\", \"name\": \"South_Dakota\", \"orientation\": \"v\", \"showlegend\": true, \"type\": \"scatter\", \"x\": [2.3], \"xaxis\": \"x\", \"y\": [24.29], \"yaxis\": \"y\"}, {\"hovertemplate\": \"<b>%{hovertext}</b><br><br>State=Tennessee<br>Murder and nonnegligent manslaughter rate=%{marker.size}<br># of guns per capita=%{y}<extra></extra>\", \"hovertext\": [\"Tennessee\"], \"legendgroup\": \"Tennessee\", \"marker\": {\"color\": \"#00cc96\", \"size\": [5.7], \"sizemode\": \"area\", \"sizeref\": 0.03975, \"symbol\": \"circle\"}, \"mode\": \"markers\", \"name\": \"Tennessee\", \"orientation\": \"v\", \"showlegend\": true, \"type\": \"scatter\", \"x\": [5.7], \"xaxis\": \"x\", \"y\": [14.76], \"yaxis\": \"y\"}, {\"hovertemplate\": \"<b>%{hovertext}</b><br><br>State=Texas<br>Murder and nonnegligent manslaughter rate=%{marker.size}<br># of guns per capita=%{y}<extra></extra>\", \"hovertext\": [\"Texas\"], \"legendgroup\": \"Texas\", \"marker\": {\"color\": \"#ab63fa\", \"size\": [4.4], \"sizemode\": \"area\", \"sizeref\": 0.03975, \"symbol\": \"circle\"}, \"mode\": \"markers\", \"name\": \"Texas\", \"orientation\": \"v\", \"showlegend\": true, \"type\": \"scatter\", \"x\": [4.4], \"xaxis\": \"x\", \"y\": [20.79], \"yaxis\": \"y\"}, {\"hovertemplate\": \"<b>%{hovertext}</b><br><br>State=Utah<br>Murder and nonnegligent manslaughter rate=%{marker.size}<br># of guns per capita=%{y}<extra></extra>\", \"hovertext\": [\"Utah\"], \"legendgroup\": \"Utah\", \"marker\": {\"color\": \"#FFA15A\", \"size\": [2.3], \"sizemode\": \"area\", \"sizeref\": 0.03975, \"symbol\": \"circle\"}, \"mode\": \"markers\", \"name\": \"Utah\", \"orientation\": \"v\", \"showlegend\": true, \"type\": \"scatter\", \"x\": [2.3], \"xaxis\": \"x\", \"y\": [23.48], \"yaxis\": \"y\"}, {\"hovertemplate\": \"<b>%{hovertext}</b><br><br>State=Vermont<br>Murder and nonnegligent manslaughter rate=%{marker.size}<br># of guns per capita=%{y}<extra></extra>\", \"hovertext\": [\"Vermont\"], \"legendgroup\": \"Vermont\", \"marker\": {\"color\": \"#19d3f3\", \"size\": [1.6], \"sizemode\": \"area\", \"sizeref\": 0.03975, \"symbol\": \"circle\"}, \"mode\": \"markers\", \"name\": \"Vermont\", \"orientation\": \"v\", \"showlegend\": true, \"type\": \"scatter\", \"x\": [1.6], \"xaxis\": \"x\", \"y\": [9.41], \"yaxis\": \"y\"}, {\"hovertemplate\": \"<b>%{hovertext}</b><br><br>State=Virginia<br>Murder and nonnegligent manslaughter rate=%{marker.size}<br># of guns per capita=%{y}<extra></extra>\", \"hovertext\": [\"Virginia\"], \"legendgroup\": \"Virginia\", \"marker\": {\"color\": \"#FF6692\", \"size\": [4.1], \"sizemode\": \"area\", \"sizeref\": 0.03975, \"symbol\": \"circle\"}, \"mode\": \"markers\", \"name\": \"Virginia\", \"orientation\": \"v\", \"showlegend\": true, \"type\": \"scatter\", \"x\": [4.1], \"xaxis\": \"x\", \"y\": [36.34], \"yaxis\": \"y\"}, {\"hovertemplate\": \"<b>%{hovertext}</b><br><br>State=Washington<br>Murder and nonnegligent manslaughter rate=%{marker.size}<br># of guns per capita=%{y}<extra></extra>\", \"hovertext\": [\"Washington\"], \"legendgroup\": \"Washington\", \"marker\": {\"color\": \"#B6E880\", \"size\": [2.5], \"sizemode\": \"area\", \"sizeref\": 0.03975, \"symbol\": \"circle\"}, \"mode\": \"markers\", \"name\": \"Washington\", \"orientation\": \"v\", \"showlegend\": true, \"type\": \"scatter\", \"x\": [2.5], \"xaxis\": \"x\", \"y\": [12.4], \"yaxis\": \"y\"}, {\"hovertemplate\": \"<b>%{hovertext}</b><br><br>State=West_Virginia<br>Murder and nonnegligent manslaughter rate=%{marker.size}<br># of guns per capita=%{y}<extra></extra>\", \"hovertext\": [\"West_Virginia\"], \"legendgroup\": \"West_Virginia\", \"marker\": {\"color\": \"#FF97FF\", \"size\": [4.0], \"sizemode\": \"area\", \"sizeref\": 0.03975, \"symbol\": \"circle\"}, \"mode\": \"markers\", \"name\": \"West_Virginia\", \"orientation\": \"v\", \"showlegend\": true, \"type\": \"scatter\", \"x\": [4.0], \"xaxis\": \"x\", \"y\": [19.42], \"yaxis\": \"y\"}, {\"hovertemplate\": \"<b>%{hovertext}</b><br><br>State=Wisconsin<br>Murder and nonnegligent manslaughter rate=%{marker.size}<br># of guns per capita=%{y}<extra></extra>\", \"hovertext\": [\"Wisconsin\"], \"legendgroup\": \"Wisconsin\", \"marker\": {\"color\": \"#FECB52\", \"size\": [2.9], \"sizemode\": \"area\", \"sizeref\": 0.03975, \"symbol\": \"circle\"}, \"mode\": \"markers\", \"name\": \"Wisconsin\", \"orientation\": \"v\", \"showlegend\": true, \"type\": \"scatter\", \"x\": [2.9], \"xaxis\": \"x\", \"y\": [11.19], \"yaxis\": \"y\"}, {\"hovertemplate\": \"<b>%{hovertext}</b><br><br>State=Wyoming<br>Murder and nonnegligent manslaughter rate=%{marker.size}<br># of guns per capita=%{y}<extra></extra>\", \"hovertext\": [\"Wyoming\"], \"legendgroup\": \"Wyoming\", \"marker\": {\"color\": \"#636efa\", \"size\": [2.7], \"sizemode\": \"area\", \"sizeref\": 0.03975, \"symbol\": \"circle\"}, \"mode\": \"markers\", \"name\": \"Wyoming\", \"orientation\": \"v\", \"showlegend\": true, \"type\": \"scatter\", \"x\": [2.7], \"xaxis\": \"x\", \"y\": [229.24], \"yaxis\": \"y\"}],\n",
       "                        {\"legend\": {\"itemsizing\": \"constant\", \"title\": {\"text\": \"State\"}, \"tracegroupgap\": 0}, \"template\": {\"data\": {\"bar\": [{\"error_x\": {\"color\": \"#2a3f5f\"}, \"error_y\": {\"color\": \"#2a3f5f\"}, \"marker\": {\"line\": {\"color\": \"#E5ECF6\", \"width\": 0.5}}, \"type\": \"bar\"}], \"barpolar\": [{\"marker\": {\"line\": {\"color\": \"#E5ECF6\", \"width\": 0.5}}, \"type\": \"barpolar\"}], \"carpet\": [{\"aaxis\": {\"endlinecolor\": \"#2a3f5f\", \"gridcolor\": \"white\", \"linecolor\": \"white\", \"minorgridcolor\": \"white\", \"startlinecolor\": \"#2a3f5f\"}, \"baxis\": {\"endlinecolor\": \"#2a3f5f\", \"gridcolor\": \"white\", \"linecolor\": \"white\", \"minorgridcolor\": \"white\", \"startlinecolor\": \"#2a3f5f\"}, \"type\": \"carpet\"}], \"choropleth\": [{\"colorbar\": {\"outlinewidth\": 0, \"ticks\": \"\"}, \"type\": \"choropleth\"}], \"contour\": [{\"colorbar\": {\"outlinewidth\": 0, \"ticks\": \"\"}, \"colorscale\": [[0.0, \"#0d0887\"], [0.1111111111111111, \"#46039f\"], [0.2222222222222222, \"#7201a8\"], [0.3333333333333333, \"#9c179e\"], [0.4444444444444444, \"#bd3786\"], [0.5555555555555556, \"#d8576b\"], [0.6666666666666666, \"#ed7953\"], [0.7777777777777778, \"#fb9f3a\"], [0.8888888888888888, \"#fdca26\"], [1.0, \"#f0f921\"]], \"type\": \"contour\"}], \"contourcarpet\": [{\"colorbar\": {\"outlinewidth\": 0, \"ticks\": \"\"}, \"type\": \"contourcarpet\"}], \"heatmap\": [{\"colorbar\": {\"outlinewidth\": 0, \"ticks\": \"\"}, \"colorscale\": [[0.0, \"#0d0887\"], [0.1111111111111111, \"#46039f\"], [0.2222222222222222, \"#7201a8\"], [0.3333333333333333, \"#9c179e\"], [0.4444444444444444, \"#bd3786\"], [0.5555555555555556, \"#d8576b\"], [0.6666666666666666, \"#ed7953\"], [0.7777777777777778, \"#fb9f3a\"], [0.8888888888888888, \"#fdca26\"], [1.0, \"#f0f921\"]], \"type\": \"heatmap\"}], \"heatmapgl\": [{\"colorbar\": {\"outlinewidth\": 0, \"ticks\": \"\"}, \"colorscale\": [[0.0, \"#0d0887\"], [0.1111111111111111, \"#46039f\"], [0.2222222222222222, \"#7201a8\"], [0.3333333333333333, \"#9c179e\"], [0.4444444444444444, \"#bd3786\"], [0.5555555555555556, \"#d8576b\"], [0.6666666666666666, \"#ed7953\"], [0.7777777777777778, \"#fb9f3a\"], [0.8888888888888888, \"#fdca26\"], [1.0, \"#f0f921\"]], \"type\": \"heatmapgl\"}], \"histogram\": [{\"marker\": {\"colorbar\": {\"outlinewidth\": 0, \"ticks\": \"\"}}, \"type\": \"histogram\"}], \"histogram2d\": [{\"colorbar\": {\"outlinewidth\": 0, \"ticks\": \"\"}, \"colorscale\": [[0.0, \"#0d0887\"], [0.1111111111111111, \"#46039f\"], [0.2222222222222222, \"#7201a8\"], [0.3333333333333333, \"#9c179e\"], [0.4444444444444444, \"#bd3786\"], [0.5555555555555556, \"#d8576b\"], [0.6666666666666666, \"#ed7953\"], [0.7777777777777778, \"#fb9f3a\"], [0.8888888888888888, \"#fdca26\"], [1.0, \"#f0f921\"]], \"type\": \"histogram2d\"}], \"histogram2dcontour\": [{\"colorbar\": {\"outlinewidth\": 0, \"ticks\": \"\"}, \"colorscale\": [[0.0, \"#0d0887\"], [0.1111111111111111, \"#46039f\"], [0.2222222222222222, \"#7201a8\"], [0.3333333333333333, \"#9c179e\"], [0.4444444444444444, \"#bd3786\"], [0.5555555555555556, \"#d8576b\"], [0.6666666666666666, \"#ed7953\"], [0.7777777777777778, \"#fb9f3a\"], [0.8888888888888888, \"#fdca26\"], [1.0, \"#f0f921\"]], \"type\": \"histogram2dcontour\"}], \"mesh3d\": [{\"colorbar\": {\"outlinewidth\": 0, \"ticks\": \"\"}, \"type\": \"mesh3d\"}], \"parcoords\": [{\"line\": {\"colorbar\": {\"outlinewidth\": 0, \"ticks\": \"\"}}, \"type\": \"parcoords\"}], \"pie\": [{\"automargin\": true, \"type\": \"pie\"}], \"scatter\": [{\"marker\": {\"colorbar\": {\"outlinewidth\": 0, \"ticks\": \"\"}}, \"type\": \"scatter\"}], \"scatter3d\": [{\"line\": {\"colorbar\": {\"outlinewidth\": 0, \"ticks\": \"\"}}, \"marker\": {\"colorbar\": {\"outlinewidth\": 0, \"ticks\": \"\"}}, \"type\": \"scatter3d\"}], \"scattercarpet\": [{\"marker\": {\"colorbar\": {\"outlinewidth\": 0, \"ticks\": \"\"}}, \"type\": \"scattercarpet\"}], \"scattergeo\": [{\"marker\": {\"colorbar\": {\"outlinewidth\": 0, \"ticks\": \"\"}}, \"type\": \"scattergeo\"}], \"scattergl\": [{\"marker\": {\"colorbar\": {\"outlinewidth\": 0, \"ticks\": \"\"}}, \"type\": \"scattergl\"}], \"scattermapbox\": [{\"marker\": {\"colorbar\": {\"outlinewidth\": 0, \"ticks\": \"\"}}, \"type\": \"scattermapbox\"}], \"scatterpolar\": [{\"marker\": {\"colorbar\": {\"outlinewidth\": 0, \"ticks\": \"\"}}, \"type\": \"scatterpolar\"}], \"scatterpolargl\": [{\"marker\": {\"colorbar\": {\"outlinewidth\": 0, \"ticks\": \"\"}}, \"type\": \"scatterpolargl\"}], \"scatterternary\": [{\"marker\": {\"colorbar\": {\"outlinewidth\": 0, \"ticks\": \"\"}}, \"type\": \"scatterternary\"}], \"surface\": [{\"colorbar\": {\"outlinewidth\": 0, \"ticks\": \"\"}, \"colorscale\": [[0.0, \"#0d0887\"], [0.1111111111111111, \"#46039f\"], [0.2222222222222222, \"#7201a8\"], [0.3333333333333333, \"#9c179e\"], [0.4444444444444444, \"#bd3786\"], [0.5555555555555556, \"#d8576b\"], [0.6666666666666666, \"#ed7953\"], [0.7777777777777778, \"#fb9f3a\"], [0.8888888888888888, \"#fdca26\"], [1.0, \"#f0f921\"]], \"type\": \"surface\"}], \"table\": [{\"cells\": {\"fill\": {\"color\": \"#EBF0F8\"}, \"line\": {\"color\": \"white\"}}, \"header\": {\"fill\": {\"color\": \"#C8D4E3\"}, \"line\": {\"color\": \"white\"}}, \"type\": \"table\"}]}, \"layout\": {\"annotationdefaults\": {\"arrowcolor\": \"#2a3f5f\", \"arrowhead\": 0, \"arrowwidth\": 1}, \"coloraxis\": {\"colorbar\": {\"outlinewidth\": 0, \"ticks\": \"\"}}, \"colorscale\": {\"diverging\": [[0, \"#8e0152\"], [0.1, \"#c51b7d\"], [0.2, \"#de77ae\"], [0.3, \"#f1b6da\"], [0.4, \"#fde0ef\"], [0.5, \"#f7f7f7\"], [0.6, \"#e6f5d0\"], [0.7, \"#b8e186\"], [0.8, \"#7fbc41\"], [0.9, \"#4d9221\"], [1, \"#276419\"]], \"sequential\": [[0.0, \"#0d0887\"], [0.1111111111111111, \"#46039f\"], [0.2222222222222222, \"#7201a8\"], [0.3333333333333333, \"#9c179e\"], [0.4444444444444444, \"#bd3786\"], [0.5555555555555556, \"#d8576b\"], [0.6666666666666666, \"#ed7953\"], [0.7777777777777778, \"#fb9f3a\"], [0.8888888888888888, \"#fdca26\"], [1.0, \"#f0f921\"]], \"sequentialminus\": [[0.0, \"#0d0887\"], [0.1111111111111111, \"#46039f\"], [0.2222222222222222, \"#7201a8\"], [0.3333333333333333, \"#9c179e\"], [0.4444444444444444, \"#bd3786\"], [0.5555555555555556, \"#d8576b\"], [0.6666666666666666, \"#ed7953\"], [0.7777777777777778, \"#fb9f3a\"], [0.8888888888888888, \"#fdca26\"], [1.0, \"#f0f921\"]]}, \"colorway\": [\"#636efa\", \"#EF553B\", \"#00cc96\", \"#ab63fa\", \"#FFA15A\", \"#19d3f3\", \"#FF6692\", \"#B6E880\", \"#FF97FF\", \"#FECB52\"], \"font\": {\"color\": \"#2a3f5f\"}, \"geo\": {\"bgcolor\": \"white\", \"lakecolor\": \"white\", \"landcolor\": \"#E5ECF6\", \"showlakes\": true, \"showland\": true, \"subunitcolor\": \"white\"}, \"hoverlabel\": {\"align\": \"left\"}, \"hovermode\": \"closest\", \"mapbox\": {\"style\": \"light\"}, \"paper_bgcolor\": \"white\", \"plot_bgcolor\": \"#E5ECF6\", \"polar\": {\"angularaxis\": {\"gridcolor\": \"white\", \"linecolor\": \"white\", \"ticks\": \"\"}, \"bgcolor\": \"#E5ECF6\", \"radialaxis\": {\"gridcolor\": \"white\", \"linecolor\": \"white\", \"ticks\": \"\"}}, \"scene\": {\"xaxis\": {\"backgroundcolor\": \"#E5ECF6\", \"gridcolor\": \"white\", \"gridwidth\": 2, \"linecolor\": \"white\", \"showbackground\": true, \"ticks\": \"\", \"zerolinecolor\": \"white\"}, \"yaxis\": {\"backgroundcolor\": \"#E5ECF6\", \"gridcolor\": \"white\", \"gridwidth\": 2, \"linecolor\": \"white\", \"showbackground\": true, \"ticks\": \"\", \"zerolinecolor\": \"white\"}, \"zaxis\": {\"backgroundcolor\": \"#E5ECF6\", \"gridcolor\": \"white\", \"gridwidth\": 2, \"linecolor\": \"white\", \"showbackground\": true, \"ticks\": \"\", \"zerolinecolor\": \"white\"}}, \"shapedefaults\": {\"line\": {\"color\": \"#2a3f5f\"}}, \"ternary\": {\"aaxis\": {\"gridcolor\": \"white\", \"linecolor\": \"white\", \"ticks\": \"\"}, \"baxis\": {\"gridcolor\": \"white\", \"linecolor\": \"white\", \"ticks\": \"\"}, \"bgcolor\": \"#E5ECF6\", \"caxis\": {\"gridcolor\": \"white\", \"linecolor\": \"white\", \"ticks\": \"\"}}, \"title\": {\"x\": 0.05}, \"xaxis\": {\"automargin\": true, \"gridcolor\": \"white\", \"linecolor\": \"white\", \"ticks\": \"\", \"title\": {\"standoff\": 15}, \"zerolinecolor\": \"white\", \"zerolinewidth\": 2}, \"yaxis\": {\"automargin\": true, \"gridcolor\": \"white\", \"linecolor\": \"white\", \"ticks\": \"\", \"title\": {\"standoff\": 15}, \"zerolinecolor\": \"white\", \"zerolinewidth\": 2}}}, \"title\": {\"text\": \"Murder and Manslaughter Rate in the US\"}, \"xaxis\": {\"anchor\": \"y\", \"domain\": [0.0, 1.0], \"title\": {\"text\": \"Murder and nonnegligent manslaughter rate\"}}, \"yaxis\": {\"anchor\": \"x\", \"domain\": [0.0, 1.0], \"title\": {\"text\": \"# of guns per capita\"}}},\n",
       "                        {\"responsive\": true}\n",
       "                    ).then(function(){\n",
       "                            \n",
       "var gd = document.getElementById('46aecea2-372b-4082-ba50-66e70e95c5f3');\n",
       "var x = new MutationObserver(function (mutations, observer) {{\n",
       "        var display = window.getComputedStyle(gd).display;\n",
       "        if (!display || display === 'none') {{\n",
       "            console.log([gd, 'removed!']);\n",
       "            Plotly.purge(gd);\n",
       "            observer.disconnect();\n",
       "        }}\n",
       "}});\n",
       "\n",
       "// Listen for the removal of the full notebook cells\n",
       "var notebookContainer = gd.closest('#notebook-container');\n",
       "if (notebookContainer) {{\n",
       "    x.observe(notebookContainer, {childList: true});\n",
       "}}\n",
       "\n",
       "// Listen for the clearing of the current output cell\n",
       "var outputEl = gd.closest('.output');\n",
       "if (outputEl) {{\n",
       "    x.observe(outputEl, {childList: true});\n",
       "}}\n",
       "\n",
       "                        })\n",
       "                };\n",
       "                });\n",
       "            </script>\n",
       "        </div>"
      ]
     },
     "metadata": {},
     "output_type": "display_data"
    }
   ],
   "source": [
    "import plotly.express as px\n",
    "\n",
    "combined_data_df = pd.merge(murder_manslaughter_2014_df,gun_ownership_per_capita_df,on=\"State\")\n",
    "\n",
    "import plotly.express as px\n",
    "\n",
    "fig = px.scatter(combined_data_df,\n",
    "                 x=\"Murder and nonnegligent manslaughter rate\", \n",
    "                 y=\"# of guns per capita\",\n",
    "                 size=\"Murder and nonnegligent manslaughter rate\", \n",
    "                 color=\"State\",\n",
    "                 hover_name=\"State\",\n",
    "                 title=\"Murder and Manslaughter Rate in the US\"\n",
    "                )\n",
    "fig.show()"
   ]
  },
  {
   "cell_type": "code",
   "execution_count": 97,
   "metadata": {},
   "outputs": [
    {
     "data": {
      "text/html": [
       "<div>\n",
       "<style scoped>\n",
       "    .dataframe tbody tr th:only-of-type {\n",
       "        vertical-align: middle;\n",
       "    }\n",
       "\n",
       "    .dataframe tbody tr th {\n",
       "        vertical-align: top;\n",
       "    }\n",
       "\n",
       "    .dataframe thead th {\n",
       "        text-align: right;\n",
       "    }\n",
       "</style>\n",
       "<table border=\"1\" class=\"dataframe\">\n",
       "  <thead>\n",
       "    <tr style=\"text-align: right;\">\n",
       "      <th></th>\n",
       "      <th>State</th>\n",
       "      <th>Murder and nonnegligent manslaughter rate</th>\n",
       "    </tr>\n",
       "  </thead>\n",
       "  <tbody>\n",
       "    <tr>\n",
       "      <th>0</th>\n",
       "      <td>Alabama</td>\n",
       "      <td>5.7</td>\n",
       "    </tr>\n",
       "    <tr>\n",
       "      <th>1</th>\n",
       "      <td>Alaska</td>\n",
       "      <td>5.6</td>\n",
       "    </tr>\n",
       "    <tr>\n",
       "      <th>2</th>\n",
       "      <td>Arizona</td>\n",
       "      <td>4.7</td>\n",
       "    </tr>\n",
       "    <tr>\n",
       "      <th>3</th>\n",
       "      <td>Arkansas</td>\n",
       "      <td>5.6</td>\n",
       "    </tr>\n",
       "    <tr>\n",
       "      <th>4</th>\n",
       "      <td>California</td>\n",
       "      <td>4.4</td>\n",
       "    </tr>\n",
       "  </tbody>\n",
       "</table>\n",
       "</div>"
      ],
      "text/plain": [
       "        State  Murder and nonnegligent manslaughter rate\n",
       "0     Alabama                                        5.7\n",
       "1      Alaska                                        5.6\n",
       "2     Arizona                                        4.7\n",
       "3    Arkansas                                        5.6\n",
       "4  California                                        4.4"
      ]
     },
     "execution_count": 97,
     "metadata": {},
     "output_type": "execute_result"
    }
   ],
   "source": [
    "murder_manslaughter_2014_df.head()"
   ]
  },
  {
   "cell_type": "code",
   "execution_count": null,
   "metadata": {},
   "outputs": [],
   "source": [
    "# Teammate Glenda code ends here"
   ]
  }
 ],
 "metadata": {
  "kernelspec": {
   "display_name": "Python 3",
   "language": "python",
   "name": "python3"
  },
  "language_info": {
   "codemirror_mode": {
    "name": "ipython",
    "version": 3
   },
   "file_extension": ".py",
   "mimetype": "text/x-python",
   "name": "python",
   "nbconvert_exporter": "python",
   "pygments_lexer": "ipython3",
   "version": "3.6.10"
  }
 },
 "nbformat": 4,
 "nbformat_minor": 4
}
