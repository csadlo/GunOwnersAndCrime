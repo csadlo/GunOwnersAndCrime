{
 "cells": [
  {
   "cell_type": "code",
   "execution_count": null,
   "metadata": {},
   "outputs": [],
   "source": [
    "import pandas as pd\n",
    "import numpy as py\n",
    "import seaborn as sns \n",
    "import matplotlib.pyplot as plt\n",
    "import cartopy.crs as ccrs\n",
    "import cartopy.io.shapereader as shpreader\n",
    "import math\n",
    "from scipy import stats\n"
   ]
  },
  {
   "cell_type": "code",
   "execution_count": null,
   "metadata": {},
   "outputs": [],
   "source": [
    "# Teammate Chris code begins here\n",
    "# changes here\n",
    "state_name_list = [ \"Alabama\", \"Alaska\", \"Arizona\", \"Arkansas\", \"California\",\n",
    "                    \"Colorado\", \"Connecticut\", \"DC\", \"Delaware\", \"Florida\",\n",
    "                    \"Georgia\", \"Hawaii\", \"Idaho\", \"Illinois\", \"Indiana\",\n",
    "                    \"Iowa\", \"Kansas\", \"Kentucky\", \"Louisiana\", \"Maine\",\n",
    "                    \"Maryland\", \"Massachusetts\", \"Michigan\", \"Minnesota\", \n",
    "                    \"Mississippi\", \"Missouri\", \"Montana\", \"Nebraska\", \"Nevada\",\n",
    "                    \"New_Hampshire\", \"New_Jersey\", \"New_Mexico\", \"New_York\", \"North_Carolina\",\n",
    "                    \"North_Dakota\", \"Ohio\", \"Oklahoma\", \"Oregon\", \"Pennsylvania\",\n",
    "                    \"Rhode_Island\", \"South_Carolina\", \"South_Dakota\", \"Tennessee\", \"Texas\",\n",
    "                    \"Utah\", \"Vermont\", \"Virginia\", \"Washington\", \"West_Virginia\", \n",
    "                    \"Wisconsin\", \"Wyoming\"\n",
    "                  ]\n",
    "\n",
    "# An empty collection of dataframes\n",
    "crime_by_state = {}\n",
    "\n",
    "\n",
    "debug = False\n",
    "\n",
    "\n",
    "print(\"Importing *.csv files...\")\n",
    "\n",
    "# Base file path we will use for reusable code\n",
    "base_file_path = \"Raw_Data/CrimeStateByState_\"\n",
    "\n",
    "# Import the U.S. crime data totals\n",
    "file_path = base_file_path + \"US\" + \".csv\"\n",
    "if (debug):\n",
    "    print(f\"Importing file: {file_path}\")\n",
    "us_totals_df = pd.read_csv(file_path, header=5)\n",
    "\n",
    "# Iterate over and import the state-by-state crime data\n",
    "for state in state_name_list:\n",
    "    file_path = base_file_path + state + \".csv\"\n",
    "    if (debug):\n",
    "        print(f\"Importing file: {file_path}\")\n",
    "    crime_by_state[state] = pd.read_csv(file_path, header=5)\n",
    "\n",
    "# Import the gun ownership data\n",
    "file_path = \"Raw_Data/gun_ownership_by_state.csv\"\n",
    "if (debug):\n",
    "    print(f\"Importing file: {file_path}\")\n",
    "gun_ownership_df = pd.read_csv(file_path)\n",
    "\n",
    "print(\"File import complete.\")\n",
    "\n",
    "# Clean up the footer information that was at the bottom of each crime data .csv file\n",
    "if debug:\n",
    "    print(\"Cleaning up the .csv files...\")\n",
    "    \n",
    "for state in state_name_list:\n",
    "    if debug:\n",
    "        print(f\"The current state is {state}...\")\n",
    "    crime_by_state[state] = crime_by_state[state][crime_by_state[state][\"Year\"].astype(str).str.isnumeric()]\n",
    "    \n",
    "if debug:\n",
    "    print(f\"The current state is {state}...\")\n",
    "us_totals_df = us_totals_df[us_totals_df[\"Year\"].astype(str).str.isnumeric()]\n",
    "\n",
    "if debug:\n",
    "    print(\"Cleanup of .csv files is complete.\")"
   ]
  },
  {
   "cell_type": "code",
   "execution_count": null,
   "metadata": {},
   "outputs": [],
   "source": [
    "# Reindex the gun ownership data\n",
    "try:\n",
    "    gun_ownership_df.set_index(\"State\", inplace=True)\n",
    "except:\n",
    "    pass\n"
   ]
  },
  {
   "cell_type": "code",
   "execution_count": null,
   "metadata": {},
   "outputs": [],
   "source": [
    "all_state_crime_2014 = pd.DataFrame()\n",
    "\n",
    "# Build a dataframe of the 2014 crime data of all the states and index it to the state name\n",
    "for state in state_name_list:\n",
    "\n",
    "    if debug:\n",
    "        print(f\"The current state is {state}...\")\n",
    "    # Give each row the state name so that it can be used as an index later\n",
    "    crime_by_state[state][\"State\"] = state\n",
    "    # Use \"this_state\" as short-hand\n",
    "    this_state = crime_by_state[state]\n",
    "    # Grab the specific row we want\n",
    "    this_state_crime_2014 = this_state[this_state[\"Year\"] == \"2014\"]\n",
    "    # We do this because .append() doesn't support \"inplace\"\n",
    "    all_state_crime_2014 = all_state_crime_2014.append(this_state_crime_2014)\n",
    "    \n",
    "\n",
    "all_state_crime_2014.set_index([\"State\"], inplace=True)\n",
    "\n",
    "try:\n",
    "    gun_ownership_df = gun_ownership_df.join(all_state_crime_2014, how=\"outer\")\n",
    "except:\n",
    "    pass\n",
    "\n",
    "# Remove bad columns\n",
    "gun_ownership_df = gun_ownership_df.loc[:, ~gun_ownership_df.columns.str.contains('^Unnamed')]\n"
   ]
  },
  {
   "cell_type": "code",
   "execution_count": null,
   "metadata": {},
   "outputs": [],
   "source": [
    "# dataPoints = ['Violent crime total']\n",
    "# for col in dataPoints:\n",
    "#     dat = []\n",
    "#     for stateName in gun_ownership_df.index:\n",
    "#         if stateName in crime_by_state:\n",
    "#             dat.append(crime_by_state[stateName].tail(1)[col].values[0])\n",
    "#         else:\n",
    "#             dat.append(None)\n",
    "#     gun_ownership_df[col] = dat\n",
    "gun_ownership_df.head()\n",
    "#gun_ownership_df = gun_ownership_df.reset_index()\n",
    "#all_state_crime_2014 = all_state_crime_2014.reset_index()\n",
    "\n",
    "\n",
    "\n"
   ]
  },
  {
   "cell_type": "code",
   "execution_count": null,
   "metadata": {},
   "outputs": [],
   "source": [
    "# Teammate Chris code ends here"
   ]
  },
  {
   "cell_type": "code",
   "execution_count": null,
   "metadata": {},
   "outputs": [],
   "source": [
    "# Teammate Carrie code begins here- Making Heat Maps "
   ]
  },
  {
   "cell_type": "code",
   "execution_count": null,
   "metadata": {},
   "outputs": [],
   "source": [
    "#import gun ownership data, create dataframe\n",
    "gun_ownership_df=pd.read_csv(\"Raw_Data/gun_ownership_by_state.csv\")\n",
    "gun_ownership_df.set_index(\"State\",inplace=True)\n",
    "gun_ownership_df\n",
    "\n"
   ]
  },
  {
   "cell_type": "code",
   "execution_count": null,
   "metadata": {},
   "outputs": [],
   "source": [
    "#create dataframe of just state and guns \n",
    "df2= gun_ownership_df[[ \"# of guns per capita\"]]\n",
    "df2\n",
    "gun_ownership_dict=df2.to_dict(\"dict\")\n",
    "gun_ownership_dict2={key: float(value) for (key, value) in gun_ownership_dict[\"# of guns per capita\"].items() if key != \"North\"}\n"
   ]
  },
  {
   "cell_type": "code",
   "execution_count": null,
   "metadata": {},
   "outputs": [],
   "source": [
    "gun_ownership_dict[\"# of guns per capita\"]"
   ]
  },
  {
   "cell_type": "code",
   "execution_count": null,
   "metadata": {},
   "outputs": [],
   "source": [
    "\n",
    "# Create HeatMap \n",
    "\n",
    "fig = plt.figure()\n",
    "ax = fig.add_axes([0, 0, 1, 1], projection=ccrs.LambertConformal())\n",
    "\n",
    "ax.set_extent([-125, -66.5, 20, 50], ccrs.Geodetic())\n",
    "\n",
    "shapename = 'admin_1_states_provinces_lakes_shp'\n",
    "states_shp = shpreader.natural_earth(resolution='110m',\n",
    "                                     category='cultural', name=shapename)\n",
    "\n",
    "gun_ownership_dict2\n",
    "  \n",
    "\n",
    "ax.background_patch.set_visible(False)\n",
    "ax.outline_patch.set_visible(False)\n",
    "\n",
    "ax.set_title('Gun Ownership Per Capita Density ')\n",
    "\n",
    "#for state in shpreader.Reader(states_shp).geometries():\n",
    "for astate in shpreader.Reader(states_shp).records():\n",
    "\n",
    "    ### You want to replace the following code with code that sets the\n",
    "    ### facecolor as a gradient based on the population density above\n",
    "    #facecolor = [0.9375, 0.9375, 0.859375]\n",
    "\n",
    "    edgecolor = 'black'\n",
    "\n",
    "    try:\n",
    "        # use the name of this state to get pop_density\n",
    "        state_dens = gun_ownership_dict2[ astate.attributes['name'] ]\n",
    "    except:\n",
    "        state_dens = 0\n",
    "    #print(state_dens)\n",
    "\n",
    "    # simple scheme to assign color to each state\n",
    "    scaled_state_dens=math.sqrt(state_dens)\n",
    "    scaling_factor=1.0/math.sqrt(229.24)\n",
    "    \n",
    "    facecolor= (scaling_factor*scaled_state_dens, scaling_factor*scaled_state_dens,scaling_factor*scaled_state_dens)\n",
    "\n",
    "    # `astate.geometry` is the polygon to plot\n",
    "    ax.add_geometries([astate.geometry], ccrs.PlateCarree(),\n",
    "                      facecolor=facecolor, edgecolor=edgecolor)\n",
    "\n",
    "plt.show()\n"
   ]
  },
  {
   "cell_type": "code",
   "execution_count": null,
   "metadata": {},
   "outputs": [],
   "source": []
  },
  {
   "cell_type": "code",
   "execution_count": null,
   "metadata": {},
   "outputs": [],
   "source": [
    "crime_by_state_df=pd.read_csv(\"Raw_Data/CrimeStatebyState_US.csv\")\n",
    "crime_by_state_df.head()"
   ]
  },
  {
   "cell_type": "code",
   "execution_count": null,
   "metadata": {},
   "outputs": [],
   "source": [
    "# Heat map, robbery by state"
   ]
  },
  {
   "cell_type": "code",
   "execution_count": null,
   "metadata": {},
   "outputs": [],
   "source": []
  },
  {
   "cell_type": "code",
   "execution_count": null,
   "metadata": {},
   "outputs": [],
   "source": [
    "# Heat map, motor vechile theft by state "
   ]
  },
  {
   "cell_type": "code",
   "execution_count": null,
   "metadata": {},
   "outputs": [],
   "source": [
    "# Teammate Carrie code begins here- Making Heat Maps "
   ]
  },
  {
   "cell_type": "code",
   "execution_count": null,
   "metadata": {},
   "outputs": [],
   "source": [
    "gun_ownership_by_state.txt=\"gun_ownership_by_state.txt\"\n",
    "gun_ownership_by_state.txt.head()\n"
   ]
  },
  {
   "cell_type": "code",
   "execution_count": null,
   "metadata": {},
   "outputs": [],
   "source": [
    "with open (\"gun_ownership_by_state.txt\", \"r\") as myfile:\n",
    "    gun_ownership=myfile.readlines()"
   ]
  },
  {
   "cell_type": "code",
   "execution_count": null,
   "metadata": {},
   "outputs": [],
   "source": [
    "# Teammate Carrie code ends here"
   ]
  },
  {
   "cell_type": "code",
   "execution_count": null,
   "metadata": {},
   "outputs": [],
   "source": [
    "# Teammate Matt code begins here"
   ]
  },
  {
   "cell_type": "markdown",
   "metadata": {},
   "source": [
    "# Question 1: Is there a relationship between gun ownership and the murder/nonnegligent manslaughter rate?"
   ]
  },
  {
   "cell_type": "code",
   "execution_count": null,
   "metadata": {},
   "outputs": [],
   "source": [
    "# create figure and axis objects with subplots()\n",
    "fig,ax = plt.subplots(figsize=(20, 10))\n",
    "\n",
    "# make a plot\n",
    "ax.plot(gun_ownership_df[\"State\"], gun_ownership_df[\"Murder and nonnegligent manslaughter rate\"], color=\"red\", marker=\"o\")\n",
    "# set x-axis label\n",
    "ax.set_xlabel(\"State\", color = \"purple\", fontsize=22)\n",
    "# set y-axis label\n",
    "ax.set_ylabel(\"Murder and manslaughter rate\",color=\"red\",fontsize=22)\n",
    "plt.xticks(gun_ownership_df[\"State\"], rotation=90, fontsize = 16)\n",
    "\n",
    "# twin object for two different y-axis on the sample plot\n",
    "ax2=ax.twinx()\n",
    "# make a plot with different y-axis using second axis object\n",
    "ax2.plot(gun_ownership_df[\"State\"], gun_ownership_df[\"# of guns per capita\"], color=\"blue\",marker=\"o\")\n",
    "ax2.set_ylabel(\"# of guns per capita\",color=\"blue\",fontsize=22)\n",
    "plt.xticks(gun_ownership_df[\"State\"], rotation=90, )\n",
    "\n",
    "\n",
    "\n",
    "plt.show()\n",
    "# save the plot as a file\n",
    "fig.savefig('two_different_y_axis_for_single_python_plot_with_twinx.jpg',\n",
    "            format='jpeg',\n",
    "            dpi=100,\n",
    "            bbox_inches='tight')\n",
    "\n",
    "plt.show()"
   ]
  },
  {
   "cell_type": "markdown",
   "metadata": {},
   "source": [
    "# Question 2: Is there a relationship between gun ownership and aggravated assault? \n"
   ]
  },
  {
   "cell_type": "code",
   "execution_count": null,
   "metadata": {},
   "outputs": [],
   "source": [
    "    \n",
    "fig,ax = plt.subplots(figsize=(20, 10))\n",
    "# make a plot\n",
    "ax.plot(gun_ownership_df[\"State\"], gun_ownership_df[\"Aggravated assault rate\"], color=\"red\", marker=\"o\")\n",
    "# set x-axis label\n",
    "ax.set_xlabel(\"State\",color = \"purple\", fontsize=22)\n",
    "# set y-axis label\n",
    "ax.set_ylabel(\"Aggravated assault rate\",color=\"red\",fontsize=22)\n",
    "plt.xticks(gun_ownership_df[\"State\"], rotation=90, fontsize = 16)\n",
    "\n",
    "# twin object for two different y-axis on the sample plot\n",
    "ax2=ax.twinx()\n",
    "# make a plot with different y-axis using second axis object\n",
    "ax2.plot(gun_ownership_df[\"State\"], gun_ownership_df[\"# of guns per capita\"], color=\"blue\",marker=\"o\")\n",
    "ax2.set_ylabel(\"# of guns per capita\",color=\"blue\",fontsize=22)\n",
    "plt.xticks(gun_ownership_df[\"State\"], rotation=90, )\n",
    "\n",
    "\n",
    "plt.show()\n",
    "# save the plot as a file\n",
    "fig.savefig('two_different_y_axis_for_single_python_plot_with_twinx.jpg',\n",
    "            format='jpeg',\n",
    "            dpi=100,\n",
    "            bbox_inches='tight')\n",
    "\n",
    "plt.show()"
   ]
  },
  {
   "cell_type": "markdown",
   "metadata": {},
   "source": [
    "# Question 2: Is there a relationship between robbery and gun ownership? "
   ]
  },
  {
   "cell_type": "code",
   "execution_count": null,
   "metadata": {},
   "outputs": [],
   "source": [
    "\n",
    "# create figure and axis objects with subplots()\n",
    "fig,ax = plt.subplots(figsize=(20, 10))\n",
    "# make a plot\n",
    "ax.plot(gun_ownership_df[\"State\"], gun_ownership_df[\"Robbery rate\"], color=\"red\", marker=\"o\")\n",
    "# set x-axis label\n",
    "ax.set_xlabel(\"State\",color = \"purple\", fontsize=22)\n",
    "# set y-axis label\n",
    "ax.set_ylabel(\"Robbery rate\",color=\"red\",fontsize=22)\n",
    "plt.xticks(gun_ownership_df[\"State\"], rotation=90, fontsize = 16)\n",
    "\n",
    "# twin object for two different y-axis on the sample plot\n",
    "ax2=ax.twinx()\n",
    "# make a plot with different y-axis using second axis object\n",
    "ax2.plot(gun_ownership_df[\"State\"], gun_ownership_df[\"# of guns per capita\"], color=\"blue\",marker=\"o\")\n",
    "ax2.set_ylabel(\"# of guns per capita\",color=\"blue\",fontsize=22)\n",
    "plt.xticks(gun_ownership_df[\"State\"], rotation=90, )\n",
    "\n",
    "\n",
    "plt.show()\n",
    "# save the plot as a file\n",
    "fig.savefig('two_different_y_axis_for_single_python_plot_with_twinx.jpg',\n",
    "            format='jpeg',\n",
    "            dpi=100,\n",
    "            bbox_inches='tight')\n",
    "\n",
    "plt.show()"
   ]
  },
  {
   "cell_type": "markdown",
   "metadata": {},
   "source": [
    "# Question 3: Is there a relationship between motor vehicle theft and gun ownership?\n"
   ]
  },
  {
   "cell_type": "code",
   "execution_count": null,
   "metadata": {},
   "outputs": [],
   "source": [
    "# create figure and axis objects with subplots()\n",
    "fig,ax = plt.subplots(figsize=(20, 10))\n",
    "# make a plot\n",
    "ax.plot(gun_ownership_df[\"State\"], gun_ownership_df[\"Motor vehicle theft rate\"], color=\"red\", marker=\"o\")\n",
    "# set x-axis label\n",
    "ax.set_xlabel(\"State\", color = \"purple\", fontsize=22)\n",
    "# set y-axis label\n",
    "ax.set_ylabel(\"Motor vehicle theft rate\",color=\"red\",fontsize=22)\n",
    "plt.xticks(gun_ownership_df[\"State\"], rotation=90, fontsize = 16)\n",
    "\n",
    "# twin object for two different y-axis on the sample plot\n",
    "ax2=ax.twinx()\n",
    "# make a plot with different y-axis using second axis object\n",
    "ax2.plot(gun_ownership_df[\"State\"], gun_ownership_df[\"# of guns per capita\"], color=\"blue\",marker=\"o\")\n",
    "ax2.set_ylabel(\"# of guns per capita\",color=\"blue\",fontsize=22)\n",
    "plt.xticks(gun_ownership_df[\"State\"], rotation=90, )\n",
    "\n",
    "\n",
    "plt.show()\n",
    "# save the plot as a file\n",
    "fig.savefig('two_different_y_axis_for_single_python_plot_with_twinx.jpg',\n",
    "            format='jpeg',\n",
    "            dpi=100,\n",
    "            bbox_inches='tight')\n",
    "\n",
    "plt.show()"
   ]
  },
  {
   "cell_type": "markdown",
   "metadata": {},
   "source": [
    "# Question 4: Is there a relationship between burglary and gun ownership? "
   ]
  },
  {
   "cell_type": "code",
   "execution_count": null,
   "metadata": {},
   "outputs": [],
   "source": [
    "\n",
    "# create figure and axis objects with subplots()\n",
    "fig,ax = plt.subplots(figsize=(20, 10))\n",
    "# make a plot\n",
    "ax.plot(gun_ownership_df[\"State\"], gun_ownership_df[\"Burglary rate\"], color=\"red\", marker=\"o\")\n",
    "# set x-axis label\n",
    "ax.set_xlabel(\"State\", color = \"purple\", fontsize=22)\n",
    "# set y-axis label\n",
    "ax.set_ylabel(\"Burglary rate\",color=\"red\",fontsize=22)\n",
    "plt.xticks(gun_ownership_df[\"State\"], rotation=90, fontsize = 16)\n",
    "\n",
    "# twin object for two different y-axis on the sample plot\n",
    "ax2=ax.twinx()\n",
    "# make a plot with different y-axis using second axis object\n",
    "ax2.plot(gun_ownership_df[\"State\"], gun_ownership_df[\"# of guns per capita\"], color=\"blue\",marker=\"o\")\n",
    "ax2.set_ylabel(\"# of guns per capita\",color=\"blue\",fontsize=22)\n",
    "plt.xticks(gun_ownership_df[\"State\"], rotation=90, )\n",
    "\n",
    "\n",
    "plt.show()\n",
    "# save the plot as a file\n",
    "fig.savefig('two_different_y_axis_for_single_python_plot_with_twinx.jpg',\n",
    "            format='jpeg',\n",
    "            dpi=100,\n",
    "            bbox_inches='tight')\n",
    "\n",
    "plt.show()"
   ]
  },
  {
   "cell_type": "code",
   "execution_count": null,
   "metadata": {},
   "outputs": [],
   "source": [
    "gun_ownership_df.to_csv(\"data.csv\")"
   ]
  },
  {
   "cell_type": "code",
   "execution_count": null,
   "metadata": {},
   "outputs": [],
   "source": [
    "# Teammate Matt code ends here"
   ]
  },
  {
   "cell_type": "code",
   "execution_count": null,
   "metadata": {},
   "outputs": [],
   "source": [
    "# Teammate 3 code begins here"
   ]
  },
  {
   "cell_type": "code",
   "execution_count": null,
   "metadata": {},
   "outputs": [],
   "source": [
    "# Teammate 3 code ends here"
   ]
  }
 ],
 "metadata": {
  "kernelspec": {
   "display_name": "Python 3",
   "language": "python",
   "name": "python3"
  },
  "language_info": {
   "codemirror_mode": {
    "name": "ipython",
    "version": 3
   },
   "file_extension": ".py",
   "mimetype": "text/x-python",
   "name": "python",
   "nbconvert_exporter": "python",
   "pygments_lexer": "ipython3",
   "version": "3.6.10"
  }
 },
 "nbformat": 4,
 "nbformat_minor": 4
}
