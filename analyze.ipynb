{
 "cells": [
  {
   "cell_type": "code",
   "execution_count": null,
   "metadata": {},
   "outputs": [],
   "source": [
    "import pandas as pd\n",
    "import numpy as py\n",
    "import seaborn as sns \n",
    "import matplotlib.pyplot as plt\n",
    "import math\n",
    "import scipy.stats as st\n",
    "import cartopy.crs as ccrs\n",
    "import cartopy.io.shapereader as shpreader\n"
   ]
  },
  {
   "cell_type": "code",
   "execution_count": null,
   "metadata": {},
   "outputs": [],
   "source": [
    "# Teammate Chris code begins here\n",
    "# changes here\n",
    "state_name_list = [ \"Alabama\", \"Alaska\", \"Arizona\", \"Arkansas\", \"California\",\n",
    "                    \"Colorado\", \"Connecticut\", \"DC\", \"Delaware\", \"Florida\",\n",
    "                    \"Georgia\", \"Hawaii\", \"Idaho\", \"Illinois\", \"Indiana\",\n",
    "                    \"Iowa\", \"Kansas\", \"Kentucky\", \"Louisiana\", \"Maine\",\n",
    "                    \"Maryland\", \"Massachusetts\", \"Michigan\", \"Minnesota\", \n",
    "                    \"Mississippi\", \"Missouri\", \"Montana\", \"Nebraska\", \"Nevada\",\n",
    "                    \"New_Hampshire\", \"New_Jersey\", \"New_Mexico\", \"New_York\", \"North_Carolina\",\n",
    "                    \"North_Dakota\", \"Ohio\", \"Oklahoma\", \"Oregon\", \"Pennsylvania\",\n",
    "                    \"Rhode_Island\", \"South_Carolina\", \"South_Dakota\", \"Tennessee\", \"Texas\",\n",
    "                    \"Utah\", \"Vermont\", \"Virginia\", \"Washington\", \"West_Virginia\", \n",
    "                    \"Wisconsin\", \"Wyoming\"\n",
    "                  ]\n",
    "\n",
    "# An empty collection of dataframes\n",
    "crime_by_state = {}\n",
    "\n",
    "\n",
    "debug = False\n",
    "\n",
    "\n",
    "print(\"Importing *.csv files...\")\n",
    "\n",
    "# Base file path we will use for reusable code\n",
    "base_file_path = \"Raw_Data/CrimeStateByState_\"\n",
    "\n",
    "# Import the U.S. crime data totals\n",
    "file_path = base_file_path + \"US\" + \".csv\"\n",
    "if (debug):\n",
    "    print(f\"Importing file: {file_path}\")\n",
    "us_totals_df = pd.read_csv(file_path, header=5)\n",
    "\n",
    "# Iterate over and import the state-by-state crime data\n",
    "for state in state_name_list:\n",
    "    file_path = base_file_path + state + \".csv\"\n",
    "    if (debug):\n",
    "        print(f\"Importing file: {file_path}\")\n",
    "    crime_by_state[state] = pd.read_csv(file_path, header=5)\n",
    "\n",
    "# Import the gun ownership data\n",
    "file_path = \"Raw_Data/gun_ownership_by_state.csv\"\n",
    "if (debug):\n",
    "    print(f\"Importing file: {file_path}\")\n",
    "gun_ownership_df = pd.read_csv(file_path)\n",
    "\n",
    "# Import the gun ownership data\n",
    "file_path = \"Raw_Data/State_by_State_Poverty_Rate.csv\"\n",
    "if (debug):\n",
    "    print(f\"Importing file: {file_path}\")\n",
    "poverty_rate_df = pd.read_csv(file_path, header=2)\n",
    "\n",
    "print(\"File import complete.\")\n",
    "\n",
    "# Clean up the footer information that was at the bottom of each crime data .csv file\n",
    "if debug:\n",
    "    print(\"Cleaning up the .csv files...\")\n",
    "    \n",
    "for state in state_name_list:\n",
    "    if debug:\n",
    "        print(f\"The current state is {state}...\")\n",
    "    crime_by_state[state] = crime_by_state[state][crime_by_state[state][\"Year\"].astype(str).str.isnumeric()]\n",
    "    \n",
    "if debug:\n",
    "    print(f\"The current state is {state}...\")\n",
    "us_totals_df = us_totals_df[us_totals_df[\"Year\"].astype(str).str.isnumeric()]\n",
    "\n",
    "# Clean up the poverty data\n",
    "poverty_rate_df[\"2018 Poverty Rate\"] = poverty_rate_df[\"2018 Poverty Rate\"].str.rstrip('%').apply(pd.to_numeric, errors=\"coerce\")\n",
    "poverty_rate_df[\"2014 Poverty Rate\"] = poverty_rate_df[\"2014 Poverty Rate\"].str.rstrip('%').apply(pd.to_numeric, errors=\"coerce\")\n",
    "poverty_rate_df[\"Supplemental Poverty Measure\"] = poverty_rate_df[\"Supplemental Poverty Measure\"].str.rstrip('%').apply(pd.to_numeric, errors=\"coerce\")\n",
    "\n",
    "if debug:\n",
    "    print(\"Cleanup of .csv files is complete.\")\n"
   ]
  },
  {
   "cell_type": "code",
   "execution_count": null,
   "metadata": {},
   "outputs": [],
   "source": [
    "# Reindex the gun ownership data\n",
    "try:\n",
    "    gun_ownership_df.set_index(\"State\", inplace=True, drop=False)\n",
    "    poverty_rate_df.set_index(\"State\", inplace=True)\n",
    "    poverty_rate_df = poverty_rate_df.drop(columns=[\"Rank\"], axis=1)\n",
    "except:\n",
    "    pass"
   ]
  },
  {
   "cell_type": "code",
   "execution_count": null,
   "metadata": {},
   "outputs": [],
   "source": [
    "all_state_crime_2014 = pd.DataFrame()\n",
    "\n",
    "# Build a dataframe of the 2014 crime data of all the states and index it to the state name\n",
    "for state in state_name_list:\n",
    "\n",
    "    if debug:\n",
    "        print(f\"The current state is {state}...\")\n",
    "    # Give each row the state name so that it can be used as an index later\n",
    "    crime_by_state[state][\"State\"] = state\n",
    "    # Use \"this_state\" as short-hand\n",
    "    this_state = crime_by_state[state]\n",
    "    # Grab the specific row we want\n",
    "    this_state_crime_2014 = this_state[this_state[\"Year\"] == \"2014\"]\n",
    "    # We do this because .append() doesn't support \"inplace\"\n",
    "    all_state_crime_2014 = all_state_crime_2014.append(this_state_crime_2014)\n",
    "    \n",
    "\n",
    "all_state_crime_2014.set_index([\"State\"], inplace=True)\n",
    "# Remove bad columns\n",
    "all_state_crime_2014 = all_state_crime_2014.loc[:, ~all_state_crime_2014.columns.str.contains('^Unnamed')]\n",
    "\n",
    "try:\n",
    "    gun_ownership_df = gun_ownership_df.join(all_state_crime_2014, how=\"outer\")\n",
    "    gun_ownership_df = gun_ownership_df.join(poverty_rate_df, how=\"outer\")\n",
    "    \n",
    "except:\n",
    "    pass\n",
    "\n",
    "# Remove bad columns\n",
    "# gun_ownership_df = gun_ownership_df.loc[:, ~gun_ownership_df.columns.str.contains('^Unnamed')]\n",
    "\n",
    "# Drop data for US, Puerto Rico, and American Samoa\n",
    "gun_ownership_df = gun_ownership_df.dropna(thresh=5)"
   ]
  },
  {
   "cell_type": "code",
   "execution_count": null,
   "metadata": {},
   "outputs": [],
   "source": [
    "# dataPoints = ['Violent crime total']\n",
    "# for col in dataPoints:\n",
    "#     dat = []\n",
    "#     for stateName in gun_ownership_df.index:\n",
    "#         if stateName in crime_by_state:\n",
    "#             dat.append(crime_by_state[stateName].tail(1)[col].values[0])\n",
    "#         else:\n",
    "#             dat.append(None)\n",
    "#     gun_ownership_df[col] = dat\n",
    "\n",
    "gun_ownership_df.head(60)\n"
   ]
  },
  {
   "cell_type": "code",
   "execution_count": null,
   "metadata": {},
   "outputs": [],
   "source": [
    "# Teammate Chris code ends here"
   ]
  },
  {
   "cell_type": "code",
   "execution_count": null,
   "metadata": {},
   "outputs": [],
   "source": [
    "# Teammate Carrie code begins here- Making Heat Maps "
   ]
  },
  {
   "cell_type": "code",
   "execution_count": null,
   "metadata": {},
   "outputs": [],
   "source": [
    "#import gun ownership data, create dataframe\n",
    "gun_ownership_df=pd.read_csv(\"Raw_Data/gun_ownership_by_state.csv\")\n",
    "gun_ownership_df.set_index(\"State\",inplace=True)\n",
    "gun_ownership_df\n",
    "\n"
   ]
  },
  {
   "cell_type": "code",
   "execution_count": null,
   "metadata": {},
   "outputs": [],
   "source": [
    "#create dataframe of just state and guns \n",
    "df2= gun_ownership_df[[ \"# of guns per capita\"]]\n",
    "df2\n",
    "gun_ownership_dict=df2.to_dict(\"dict\")\n",
    "gun_ownership_dict2={key: float(value) for (key, value) in gun_ownership_dict[\"# of guns per capita\"].items() if key != \"North\"}\n"
   ]
  },
  {
   "cell_type": "code",
   "execution_count": null,
   "metadata": {},
   "outputs": [],
   "source": [
    "gun_ownership_dict[\"# of guns per capita\"]"
   ]
  },
  {
   "cell_type": "code",
   "execution_count": null,
   "metadata": {},
   "outputs": [],
   "source": [
    "\n",
    "# Create HeatMap \n",
    "\n",
    "fig = plt.figure()\n",
    "ax = fig.add_axes([0, 0, 1, 1], projection=ccrs.LambertConformal())\n",
    "\n",
    "ax.set_extent([-125, -66.5, 20, 50], ccrs.Geodetic())\n",
    "\n",
    "shapename = 'admin_1_states_provinces_lakes_shp'\n",
    "states_shp = shpreader.natural_earth(resolution='110m',\n",
    "                                     category='cultural', name=shapename)\n",
    "\n",
    "gun_ownership_dict2\n",
    "  \n",
    "\n",
    "ax.background_patch.set_visible(False)\n",
    "ax.outline_patch.set_visible(False)\n",
    "\n",
    "ax.set_title('Gun Ownership Per Capita Density ')\n",
    "\n",
    "#for state in shpreader.Reader(states_shp).geometries():\n",
    "for astate in shpreader.Reader(states_shp).records():\n",
    "\n",
    "    ### You want to replace the following code with code that sets the\n",
    "    ### facecolor as a gradient based on the population density above\n",
    "    #facecolor = [0.9375, 0.9375, 0.859375]\n",
    "\n",
    "    edgecolor = 'black'\n",
    "\n",
    "    try:\n",
    "        # use the name of this state to get pop_density\n",
    "        state_dens = gun_ownership_dict2[ astate.attributes['name'] ]\n",
    "    except:\n",
    "        state_dens = 0\n",
    "    #print(state_dens)\n",
    "\n",
    "    # simple scheme to assign color to each state\n",
    "    scaled_state_dens=math.sqrt(state_dens)\n",
    "    scaling_factor=1.0/math.sqrt(229.24)\n",
    "    \n",
    "    facecolor= (scaling_factor*scaled_state_dens, scaling_factor*scaled_state_dens,scaling_factor*scaled_state_dens)\n",
    "\n",
    "    # `astate.geometry` is the polygon to plot\n",
    "    ax.add_geometries([astate.geometry], ccrs.PlateCarree(),\n",
    "                      facecolor=facecolor, edgecolor=edgecolor)\n",
    "\n",
    "plt.show()\n"
   ]
  },
  {
   "cell_type": "code",
   "execution_count": null,
   "metadata": {},
   "outputs": [],
   "source": []
  },
  {
   "cell_type": "code",
   "execution_count": null,
   "metadata": {},
   "outputs": [],
   "source": [
    "crime_by_state_df=pd.read_csv(\"Raw_Data/CrimeStatebyState_US.csv\")\n",
    "crime_by_state_df.head()"
   ]
  },
  {
   "cell_type": "code",
   "execution_count": null,
   "metadata": {},
   "outputs": [],
   "source": [
    "# Heat map, robbery by state"
   ]
  },
  {
   "cell_type": "code",
   "execution_count": null,
   "metadata": {},
   "outputs": [],
   "source": []
  },
  {
   "cell_type": "code",
   "execution_count": null,
   "metadata": {},
   "outputs": [],
   "source": [
    "# Heat map, motor vehicle theft by state "
   ]
  },
  {
   "cell_type": "code",
   "execution_count": null,
   "metadata": {},
   "outputs": [],
   "source": [
    "# Teammate Carrie code begins here- Making Heat Maps "
   ]
  },
  {
   "cell_type": "code",
   "execution_count": null,
   "metadata": {},
   "outputs": [],
   "source": [
    "gun_ownership_by_state.txt=\"gun_ownership_by_state.txt\"\n",
    "gun_ownership_by_state.txt.head()\n"
   ]
  },
  {
   "cell_type": "code",
   "execution_count": null,
   "metadata": {},
   "outputs": [],
   "source": [
    "with open (\"gun_ownership_by_state.txt\", \"r\") as myfile:\n",
    "    gun_ownership=myfile.readlines()"
   ]
  },
  {
   "cell_type": "code",
   "execution_count": null,
   "metadata": {},
   "outputs": [],
   "source": [
    "# Teammate Carrie code ends here"
   ]
  },
  {
   "cell_type": "code",
   "execution_count": null,
   "metadata": {},
   "outputs": [],
   "source": [
    "# Teammate Matt code begins here"
   ]
  },
  {
   "cell_type": "markdown",
   "metadata": {},
   "source": [
    "# Question 1: Is there a relationship between gun ownership and the murder/nonnegligent manslaughter rate?"
   ]
  },
  {
   "cell_type": "code",
   "execution_count": null,
   "metadata": {},
   "outputs": [],
   "source": [
    "# create figure and axis objects with subplots()\n",
    "fig,ax = plt.subplots(figsize=(20, 10))\n",
    "\n",
    "# make a plot\n",
    "ax.plot(gun_ownership_df[\"State\"], gun_ownership_df[\"Murder and nonnegligent manslaughter rate\"], color=\"red\", marker=\"o\")\n",
    "# set x-axis label\n",
    "ax.set_xlabel(\"State\", color = \"purple\", fontsize=22)\n",
    "# set y-axis label\n",
    "ax.set_ylabel(\"Murder and manslaughter rate\",color=\"red\",fontsize=22)\n",
    "plt.xticks(gun_ownership_df[\"State\"], rotation=90, fontsize = 16)\n",
    "\n",
    "# twin object for two different y-axis on the sample plot\n",
    "ax2=ax.twinx()\n",
    "# make a plot with different y-axis using second axis object\n",
    "ax2.plot(gun_ownership_df[\"State\"], gun_ownership_df[\"# of guns per capita\"], color=\"blue\",marker=\"o\")\n",
    "ax2.set_ylabel(\"# of guns per capita\",color=\"blue\",fontsize=22)\n",
    "plt.xticks(gun_ownership_df[\"State\"], rotation=90, )\n",
    "\n",
    "\n",
    "\n",
    "plt.show()\n",
    "# save the plot as a file\n",
    "fig.savefig('two_different_y_axis_for_single_python_plot_with_twinx.jpg',\n",
    "            format='jpeg',\n",
    "            dpi=100,\n",
    "            bbox_inches='tight')\n",
    "\n",
    "plt.show()"
   ]
  },
  {
   "cell_type": "markdown",
   "metadata": {},
   "source": [
    "# Question 2: Is there a relationship between gun ownership and aggravated assault? \n"
   ]
  },
  {
   "cell_type": "code",
   "execution_count": null,
   "metadata": {},
   "outputs": [],
   "source": [
    "    \n",
    "fig,ax = plt.subplots(figsize=(20, 10))\n",
    "# make a plot\n",
    "ax.plot(gun_ownership_df[\"State\"], gun_ownership_df[\"Aggravated assault rate\"], color=\"red\", marker=\"o\")\n",
    "# set x-axis label\n",
    "ax.set_xlabel(\"State\",color = \"purple\", fontsize=22)\n",
    "# set y-axis label\n",
    "ax.set_ylabel(\"Aggravated assault rate\",color=\"red\",fontsize=22)\n",
    "plt.xticks(gun_ownership_df[\"State\"], rotation=90, fontsize = 16)\n",
    "\n",
    "# twin object for two different y-axis on the sample plot\n",
    "ax2=ax.twinx()\n",
    "# make a plot with different y-axis using second axis object\n",
    "ax2.plot(gun_ownership_df[\"State\"], gun_ownership_df[\"# of guns per capita\"], color=\"blue\",marker=\"o\")\n",
    "ax2.set_ylabel(\"# of guns per capita\",color=\"blue\",fontsize=22)\n",
    "plt.xticks(gun_ownership_df[\"State\"], rotation=90, )\n",
    "\n",
    "\n",
    "plt.show()\n",
    "# save the plot as a file\n",
    "fig.savefig('two_different_y_axis_for_single_python_plot_with_twinx.jpg',\n",
    "            format='jpeg',\n",
    "            dpi=100,\n",
    "            bbox_inches='tight')\n",
    "\n",
    "plt.show()"
   ]
  },
  {
   "cell_type": "markdown",
   "metadata": {},
   "source": [
    "# Question 2: Is there a relationship between robbery and gun ownership? "
   ]
  },
  {
   "cell_type": "code",
   "execution_count": null,
   "metadata": {},
   "outputs": [],
   "source": [
    "\n",
    "# create figure and axis objects with subplots()\n",
    "fig,ax = plt.subplots(figsize=(20, 10))\n",
    "# make a plot\n",
    "ax.plot(gun_ownership_df[\"State\"], gun_ownership_df[\"Robbery rate\"], color=\"red\", marker=\"o\")\n",
    "# set x-axis label\n",
    "ax.set_xlabel(\"State\",color = \"purple\", fontsize=22)\n",
    "# set y-axis label\n",
    "ax.set_ylabel(\"Robbery rate\",color=\"red\",fontsize=22)\n",
    "plt.xticks(gun_ownership_df[\"State\"], rotation=90, fontsize = 16)\n",
    "\n",
    "# twin object for two different y-axis on the sample plot\n",
    "ax2=ax.twinx()\n",
    "# make a plot with different y-axis using second axis object\n",
    "ax2.plot(gun_ownership_df[\"State\"], gun_ownership_df[\"# of guns per capita\"], color=\"blue\",marker=\"o\")\n",
    "ax2.set_ylabel(\"# of guns per capita\",color=\"blue\",fontsize=22)\n",
    "plt.xticks(gun_ownership_df[\"State\"], rotation=90, )\n",
    "\n",
    "\n",
    "plt.show()\n",
    "# save the plot as a file\n",
    "fig.savefig('two_different_y_axis_for_single_python_plot_with_twinx.jpg',\n",
    "            format='jpeg',\n",
    "            dpi=100,\n",
    "            bbox_inches='tight')\n",
    "\n",
    "plt.show()"
   ]
  },
  {
   "cell_type": "markdown",
   "metadata": {},
   "source": [
    "# Question 3: Is there a relationship between motor vehicle theft and gun ownership?\n"
   ]
  },
  {
   "cell_type": "code",
   "execution_count": null,
   "metadata": {},
   "outputs": [],
   "source": [
    "# create figure and axis objects with subplots()\n",
    "fig,ax = plt.subplots(figsize=(20, 10))\n",
    "# make a plot\n",
    "ax.plot(gun_ownership_df[\"State\"], gun_ownership_df[\"Motor vehicle theft rate\"], color=\"red\", marker=\"o\")\n",
    "# set x-axis label\n",
    "ax.set_xlabel(\"State\", color = \"purple\", fontsize=22)\n",
    "# set y-axis label\n",
    "ax.set_ylabel(\"Motor vehicle theft rate\",color=\"red\",fontsize=22)\n",
    "plt.xticks(gun_ownership_df[\"State\"], rotation=90, fontsize = 16)\n",
    "\n",
    "# twin object for two different y-axis on the sample plot\n",
    "ax2=ax.twinx()\n",
    "# make a plot with different y-axis using second axis object\n",
    "ax2.plot(gun_ownership_df[\"State\"], gun_ownership_df[\"# of guns per capita\"], color=\"blue\",marker=\"o\")\n",
    "ax2.set_ylabel(\"# of guns per capita\",color=\"blue\",fontsize=22)\n",
    "plt.xticks(gun_ownership_df[\"State\"], rotation=90, )\n",
    "\n",
    "\n",
    "plt.show()\n",
    "# save the plot as a file\n",
    "fig.savefig('two_different_y_axis_for_single_python_plot_with_twinx.jpg',\n",
    "            format='jpeg',\n",
    "            dpi=100,\n",
    "            bbox_inches='tight')\n",
    "\n",
    "plt.show()"
   ]
  },
  {
   "cell_type": "markdown",
   "metadata": {},
   "source": [
    "# Question 4: Is there a relationship between burglary and gun ownership? "
   ]
  },
  {
   "cell_type": "code",
   "execution_count": null,
   "metadata": {},
   "outputs": [],
   "source": [
    "\n",
    "# create figure and axis objects with subplots()\n",
    "fig,ax = plt.subplots(figsize=(20, 10))\n",
    "# make a plot\n",
    "ax.plot(gun_ownership_df[\"State\"], gun_ownership_df[\"Burglary rate\"], color=\"red\", marker=\"o\")\n",
    "# set x-axis label\n",
    "ax.set_xlabel(\"State\", color = \"purple\", fontsize=22)\n",
    "# set y-axis label\n",
    "ax.set_ylabel(\"Burglary rate\",color=\"red\",fontsize=22)\n",
    "plt.xticks(gun_ownership_df[\"State\"], rotation=90, fontsize = 16)\n",
    "\n",
    "# twin object for two different y-axis on the sample plot\n",
    "ax2=ax.twinx()\n",
    "# make a plot with different y-axis using second axis object\n",
    "ax2.plot(gun_ownership_df[\"State\"], gun_ownership_df[\"# of guns per capita\"], color=\"blue\",marker=\"o\")\n",
    "ax2.set_ylabel(\"# of guns per capita\",color=\"blue\",fontsize=22)\n",
    "plt.xticks(gun_ownership_df[\"State\"], rotation=90, )\n",
    "\n",
    "\n",
    "plt.show()\n",
    "# save the plot as a file\n",
    "fig.savefig('two_different_y_axis_for_single_python_plot_with_twinx.jpg',\n",
    "            format='jpeg',\n",
    "            dpi=100,\n",
    "            bbox_inches='tight')\n",
    "\n",
    "plt.show()"
   ]
  },
  {
   "cell_type": "code",
   "execution_count": null,
   "metadata": {},
   "outputs": [],
   "source": [
    "# Teammate 2 code begins here"
   ]
  },
  {
   "cell_type": "code",
   "execution_count": null,
   "metadata": {},
   "outputs": [],
   "source": [
    "# Teammate 2 code ends here"
   ]
  },
  {
   "cell_type": "code",
   "execution_count": null,
   "metadata": {},
   "outputs": [],
   "source": [
    "# Teammate 3 code begins here"
   ]
  },
  {
   "cell_type": "code",
   "execution_count": null,
   "metadata": {},
   "outputs": [],
   "source": [
    "gun_ownership_per_capita_df = gun_ownership_df\n",
    "gun_ownership_per_capita_df = gun_ownership_per_capita_df.reset_index(drop=True)\n",
    "gun_ownership_per_capita_df = gun_ownership_per_capita_df[[\"State\",\"# of guns per capita\"]]\n",
    "\n",
    "all_state_crime_2014_df = all_state_crime_2014\n",
    "all_state_crime_2014_df = all_state_crime_2014_df.reset_index(drop=False)\n",
    "\n",
    "murder_manslaughter_2014_df = all_state_crime_2014_df[[\"State\",\"Murder and nonnegligent manslaughter rate\"]]\n",
    "aggravated_assault_2014_df = all_state_crime_2014_df[[\"State\",\"Aggravated assault rate\"]]\n",
    "vehicle_theft_2014_df = all_state_crime_2014_df[[\"State\",\"Motor vehicle theft rate\"]]\n",
    "robbery_2014_df = all_state_crime_2014_df[[\"State\",\"Robbery rate\"]]\n",
    "burglary_2014_df = all_state_crime_2014_df[[\"State\",\"Burglary rate\"]]\n"
   ]
  },
  {
   "cell_type": "code",
   "execution_count": null,
   "metadata": {},
   "outputs": [],
   "source": [
    "import plotly.express as px\n",
    "fig = px.scatter(gun_ownership_df,\n",
    "                 x=\"2014 Poverty Rate\",\n",
    "                 y=\"Burglary rate\",\n",
    "                 size=\"2014 Poverty Rate\",\n",
    "                 color=\"State\",\n",
    "                 hover_name=\"State\",\n",
    "                 title=\"Poverty Rate in the US\"\n",
    "                )\n",
    "fig.show()"
   ]
  },
  {
   "cell_type": "code",
   "execution_count": null,
   "metadata": {},
   "outputs": [],
   "source": [
    "import plotly.express as px\n",
    "combined_data_df = pd.merge(burglary_2014_df,gun_ownership_per_capita_df,on=\"State\")\n",
    "fig = px.scatter(combined_data_df,\n",
    "                 x=\"Burglary rate\",\n",
    "                 y=\"# of guns per capita\",\n",
    "                 size=\"Burglary rate\",\n",
    "                 color=\"State\",\n",
    "                 hover_name=\"State\",\n",
    "                 title=\"Burglary Rate in the US\"\n",
    "                )\n",
    "fig.show()"
   ]
  },
  {
   "cell_type": "code",
   "execution_count": null,
   "metadata": {},
   "outputs": [],
   "source": [
    "combined_data_df = pd.merge(robbery_2014_df,gun_ownership_per_capita_df,on=\"State\")\n",
    "fig = px.scatter(combined_data_df,\n",
    "                 x=\"Robbery rate\",\n",
    "                 y=\"# of guns per capita\",\n",
    "                 size=\"Robbery rate\",\n",
    "                 color=\"State\",\n",
    "                 hover_name=\"State\",\n",
    "                 title=\"Robbery Rate in the US\"\n",
    "                )\n",
    "fig.show()"
   ]
  },
  {
   "cell_type": "code",
   "execution_count": null,
   "metadata": {},
   "outputs": [],
   "source": [
    "combined_data_df = pd.merge(vehicle_theft_2014_df,gun_ownership_per_capita_df,on=\"State\")\n",
    "fig = px.scatter(combined_data_df,\n",
    "                 x=\"Motor vehicle theft rate\",\n",
    "                 y=\"# of guns per capita\",\n",
    "                 size=\"Motor vehicle theft rate\",\n",
    "                 color=\"State\",\n",
    "                 hover_name=\"State\",\n",
    "                 title=\"Motor Vehicle Theft Rate in the US\"\n",
    "                )\n",
    "fig.show()"
   ]
  },
  {
   "cell_type": "code",
   "execution_count": null,
   "metadata": {},
   "outputs": [],
   "source": [
    "combined_data_df = pd.merge(aggravated_assault_2014_df,gun_ownership_per_capita_df,on=\"State\")\n",
    "fig = px.scatter(combined_data_df,\n",
    "                 x=\"Aggravated assault rate\",\n",
    "                 y=\"# of guns per capita\",\n",
    "                 size=\"Aggravated assault rate\",\n",
    "                 color=\"State\",\n",
    "                 hover_name=\"State\",\n",
    "                 title=\"Aggravated Assault Rate in the US\"\n",
    "                )\n",
    "fig.show()"
   ]
  },
  {
   "cell_type": "code",
   "execution_count": null,
   "metadata": {},
   "outputs": [],
   "source": [
    "combined_data_df = pd.merge(murder_manslaughter_2014_df,gun_ownership_per_capita_df,on=\"State\")\n",
    "fig = px.scatter(combined_data_df,\n",
    "                 x=\"Murder and nonnegligent manslaughter rate\",\n",
    "                 y=\"# of guns per capita\",\n",
    "                 size=\"Murder and nonnegligent manslaughter rate\",\n",
    "                 color=\"State\",\n",
    "                 hover_name=\"State\",\n",
    "                 title=\"Murder and Manslaughter Rate in the US\"\n",
    "                )\n",
    "fig.show()"
   ]
  },
  {
   "cell_type": "code",
   "execution_count": null,
   "metadata": {},
   "outputs": [],
   "source": [
    "# Teammate 3 code ends here"
   ]
  },
  {
   "cell_type": "code",
   "execution_count": null,
   "metadata": {
    "scrolled": true
   },
   "outputs": [],
   "source": [
    "# Teammate Chris code resumes here\n",
    "from scipy.stats import linregress\n",
    "\n",
    "murder_rate = gun_ownership_df[\"Murder and nonnegligent manslaughter rate\"]\n",
    "assault_rate = gun_ownership_df[\"Aggravated assault rate\"]\n",
    "GTA_rate = gun_ownership_df[\"Motor vehicle theft rate\"]\n",
    "robbery_rate = gun_ownership_df[\"Robbery rate\"]\n",
    "burglary_rate = gun_ownership_df[\"Burglary rate\"]\n",
    "\n",
    "gun_ownership_rate = gun_ownership_df[\"# of guns per capita\"]\n",
    "poverty_rate_2014 = gun_ownership_df[\"2014 Poverty Rate\"]\n",
    "\n",
    "# Calculate the correlation coefficient and linear regression model\n",
    "correlation = st.pearsonr(gun_ownership_rate, murder_rate)\n",
    "print(f\"The correlation between State gun ownership rate and murder/manslaughter rate is {round(correlation[0],2)}\")\n",
    "correlation = st.pearsonr(gun_ownership_rate, assault_rate)\n",
    "print(f\"The correlation between State gun ownership rate and aggravated assault rate is {round(correlation[0],2)}\")\n",
    "correlation = st.pearsonr(gun_ownership_rate, GTA_rate)\n",
    "print(f\"The correlation between State gun ownership rate and motor vehicle theft rate is {round(correlation[0],2)}\")\n",
    "correlation = st.pearsonr(gun_ownership_rate, robbery_rate)\n",
    "print(f\"The correlation between State gun ownership rate and robbery rate is {round(correlation[0],2)}\")\n",
    "correlation = st.pearsonr(gun_ownership_rate, burglary_rate)\n",
    "print(f\"The correlation between State gun ownership rate and burglary rate is {round(correlation[0],2)}\")\n",
    "print(f\"\")\n",
    "correlation = st.pearsonr(poverty_rate_2014, murder_rate)\n",
    "print(f\"The correlation between State poverty rate and murder/manslaughter rate is {round(correlation[0],2)}\")\n",
    "correlation = st.pearsonr(poverty_rate_2014, assault_rate)\n",
    "print(f\"The correlation between State poverty rate and aggravated assault rate is {round(correlation[0],2)}\")\n",
    "correlation = st.pearsonr(poverty_rate_2014, GTA_rate)\n",
    "print(f\"The correlation between State poverty rate and motor vehicle theft rate is {round(correlation[0],2)}\")\n",
    "correlation = st.pearsonr(poverty_rate_2014, robbery_rate)\n",
    "print(f\"The correlation between State poverty rate and robbery rate is {round(correlation[0],2)}\")\n",
    "correlation = st.pearsonr(poverty_rate_2014, burglary_rate)\n",
    "print(f\"The correlation between State poverty rate and burglary rate is {round(correlation[0],2)}\")"
   ]
  },
  {
   "cell_type": "code",
   "execution_count": null,
   "metadata": {},
   "outputs": [],
   "source": [
    "(slope, intercept, rvalue, pvalue, stderr) = linregress(gun_ownership_rate, murder_rate)\n",
    "regress_values = gun_ownership_rate * slope + intercept\n",
    "line_eq = \"y = \" + str(round(slope,2)) + \"x + \" + str(round(intercept,2))\n",
    "\n",
    "fig, (ax1,ax2) = plt.subplots(1,2, figsize=(10,4))  # 1 row, 2 columns\n",
    "\n",
    "ax1.scatter(gun_ownership_rate, murder_rate)\n",
    "ax1.plot(gun_ownership_rate,regress_values,\"r-\")\n",
    "# plt.annotate(line_eq,(1,1),fontsize=15,color=\"red\")\n",
    "\n",
    "# plot a new line with outliers removed\n",
    "(slope, intercept, rvalue, new_pvalue, stderr) = linregress(gun_ownership_rate.drop(index=[\"Wyoming\"]), murder_rate.drop(index=[\"Wyoming\"]))\n",
    "regress_values = gun_ownership_rate.drop(index=[\"Wyoming\"]) * slope + intercept\n",
    "line_eq = \"y = \" + str(round(slope,2)) + \"x + \" + str(round(intercept,2))\n",
    "ax2.scatter(gun_ownership_rate.drop(index=[\"Wyoming\"]), murder_rate.drop(index=[\"Wyoming\"]))\n",
    "ax2.plot(gun_ownership_rate.drop(index=[\"Wyoming\"]),regress_values,\"r-\")\n",
    "\n",
    "plt.title(\"Gun Ownership Rate vs Murder and Non-Negligent Manslaughter Rate\")\n",
    "plt.ylabel(\"Murder and Non-Negligent Manslaughter Rate\")\n",
    "plt.xlabel(\"Gun Ownership Rate\")\n",
    "\n",
    "print(f\"The p-value is {pvalue}\")\n",
    "print(f\"The p-value with Wyoming (outlier) removed is {new_pvalue}\")"
   ]
  },
  {
   "cell_type": "code",
   "execution_count": null,
   "metadata": {},
   "outputs": [],
   "source": [
    "(slope, intercept, rvalue, pvalue, stderr) = linregress(gun_ownership_rate, assault_rate)\n",
    "regress_values = gun_ownership_rate * slope + intercept\n",
    "line_eq = \"y = \" + str(round(slope,2)) + \"x + \" + str(round(intercept,2))\n",
    "\n",
    "fig, (ax1,ax2) = plt.subplots(1,2, figsize=(10,4))  # 1 row, 2 columns\n",
    "\n",
    "ax1.scatter(gun_ownership_rate, assault_rate)\n",
    "ax1.plot(gun_ownership_rate,regress_values,\"r-\")\n",
    "# plt.annotate(line_eq,(1,1),fontsize=15,color=\"red\")\n",
    "\n",
    "# plot a new line with outliers removed\n",
    "(slope, intercept, rvalue, new_pvalue, stderr) = linregress(gun_ownership_rate.drop(index=[\"Wyoming\"]), assault_rate.drop(index=[\"Wyoming\"]))\n",
    "regress_values = gun_ownership_rate.drop(index=[\"Wyoming\"]) * slope + intercept\n",
    "line_eq = \"y = \" + str(round(slope,2)) + \"x + \" + str(round(intercept,2))\n",
    "ax2.scatter(gun_ownership_rate.drop(index=[\"Wyoming\"]), assault_rate.drop(index=[\"Wyoming\"]))\n",
    "ax2.plot(gun_ownership_rate.drop(index=[\"Wyoming\"]),regress_values,\"r-\")\n",
    "\n",
    "plt.title(\"Gun Ownership Rate vs Aggravated Assault Rate\")\n",
    "plt.ylabel(\"Aggravated Assault Rate\")\n",
    "plt.xlabel(\"Gun Ownership Rate\")\n",
    "print(f\"The p-value is {pvalue}\")\n",
    "print(f\"The p-value with Wyoming (outlier) removed is {new_pvalue}\")"
   ]
  },
  {
   "cell_type": "code",
   "execution_count": null,
   "metadata": {},
   "outputs": [],
   "source": [
    "(slope, intercept, rvalue, pvalue, stderr) = linregress(gun_ownership_rate, GTA_rate)\n",
    "regress_values = gun_ownership_rate * slope + intercept\n",
    "line_eq = \"y = \" + str(round(slope,2)) + \"x + \" + str(round(intercept,2))\n",
    "\n",
    "fig, (ax1,ax2) = plt.subplots(1,2, figsize=(10,4))  # 1 row, 2 columns\n",
    "\n",
    "ax1.scatter(gun_ownership_rate, GTA_rate)\n",
    "ax1.plot(gun_ownership_rate,regress_values,\"r-\")\n",
    "# plt.annotate(line_eq,(1,1),fontsize=15,color=\"red\")\n",
    "\n",
    "# plot a new line with outliers removed\n",
    "(slope, intercept, rvalue, new_pvalue, stderr) = linregress(gun_ownership_rate.drop(index=[\"Wyoming\"]), GTA_rate.drop(index=[\"Wyoming\"]))\n",
    "regress_values = gun_ownership_rate.drop(index=[\"Wyoming\"]) * slope + intercept\n",
    "line_eq = \"y = \" + str(round(slope,2)) + \"x + \" + str(round(intercept,2))\n",
    "ax2.scatter(gun_ownership_rate.drop(index=[\"Wyoming\"]), GTA_rate.drop(index=[\"Wyoming\"]))\n",
    "ax2.plot(gun_ownership_rate.drop(index=[\"Wyoming\"]),regress_values,\"r-\")\n",
    "\n",
    "plt.title(\"Gun Ownership Rate vs Motor Vehicle Theft Rate\")\n",
    "plt.ylabel(\"Motor Vehicle Theft Rate\")\n",
    "plt.xlabel(\"Gun Ownership Rate\")\n",
    "print(f\"The p-value is {pvalue}\")\n",
    "print(f\"The p-value with Wyoming (outlier) removed is {new_pvalue}\")"
   ]
  },
  {
   "cell_type": "code",
   "execution_count": null,
   "metadata": {},
   "outputs": [],
   "source": [
    "(slope, intercept, rvalue, pvalue, stderr) = linregress(gun_ownership_rate, robbery_rate)\n",
    "regress_values = gun_ownership_rate * slope + intercept\n",
    "line_eq = \"y = \" + str(round(slope,2)) + \"x + \" + str(round(intercept,2))\n",
    "\n",
    "fig, (ax1,ax2) = plt.subplots(1,2, figsize=(10,4))  # 1 row, 2 columns\n",
    "\n",
    "ax1.scatter(gun_ownership_rate, robbery_rate)\n",
    "ax1.plot(gun_ownership_rate,regress_values,\"r-\")\n",
    "# plt.annotate(line_eq,(1,1),fontsize=15,color=\"red\")\n",
    "\n",
    "# plot a new line with outliers removed\n",
    "(slope, intercept, rvalue, new_pvalue, stderr) = linregress(gun_ownership_rate.drop(index=[\"Wyoming\"]), robbery_rate.drop(index=[\"Wyoming\"]))\n",
    "regress_values = gun_ownership_rate.drop(index=[\"Wyoming\"]) * slope + intercept\n",
    "line_eq = \"y = \" + str(round(slope,2)) + \"x + \" + str(round(intercept,2))\n",
    "ax2.scatter(gun_ownership_rate.drop(index=[\"Wyoming\"]), robbery_rate.drop(index=[\"Wyoming\"]))\n",
    "ax2.plot(gun_ownership_rate.drop(index=[\"Wyoming\"]),regress_values,\"r-\")\n",
    "\n",
    "plt.title(\"Gun Ownership Rate vs Robbery Rate\")\n",
    "plt.ylabel(\"Robbery Rate\")\n",
    "plt.xlabel(\"Gun Ownership Rate\")\n",
    "print(f\"The p-value is {pvalue}\")\n",
    "print(f\"The p-value with Wyoming (outlier) removed is {new_pvalue}\")"
   ]
  },
  {
   "cell_type": "code",
   "execution_count": null,
   "metadata": {},
   "outputs": [],
   "source": [
    "(slope, intercept, rvalue, pvalue, stderr) = linregress(gun_ownership_rate, burglary_rate)\n",
    "regress_values = gun_ownership_rate * slope + intercept\n",
    "line_eq = \"y = \" + str(round(slope,2)) + \"x + \" + str(round(intercept,2))\n",
    "\n",
    "fig, (ax1,ax2) = plt.subplots(1,2, figsize=(10,4))  # 1 row, 2 columns\n",
    "\n",
    "ax1.scatter(gun_ownership_rate, burglary_rate)\n",
    "ax1.plot(gun_ownership_rate,regress_values,\"r-\")\n",
    "# plt.annotate(line_eq,(1,1),fontsize=15,color=\"red\")\n",
    "\n",
    "# plot a new line with outliers removed\n",
    "(slope, intercept, rvalue, new_pvalue, stderr) = linregress(gun_ownership_rate.drop(index=[\"Wyoming\"]), burglary_rate.drop(index=[\"Wyoming\"]))\n",
    "regress_values = gun_ownership_rate.drop(index=[\"Wyoming\"]) * slope + intercept\n",
    "line_eq = \"y = \" + str(round(slope,2)) + \"x + \" + str(round(intercept,2))\n",
    "ax2.scatter(gun_ownership_rate.drop(index=[\"Wyoming\"]), burglary_rate.drop(index=[\"Wyoming\"]))\n",
    "ax2.plot(gun_ownership_rate.drop(index=[\"Wyoming\"]),regress_values,\"r-\")\n",
    "\n",
    "plt.title(\"Gun Ownership Rate vs Burglary Rate\")\n",
    "plt.ylabel(\"Burglary Rate\")\n",
    "plt.xlabel(\"Gun Ownership Rate\")\n",
    "print(f\"The p-value is {pvalue}\")\n",
    "print(f\"The p-value with Wyoming (outlier) removed is {new_pvalue}\")"
   ]
  },
  {
   "cell_type": "code",
   "execution_count": null,
   "metadata": {},
   "outputs": [],
   "source": [
    "(slope, intercept, rvalue, pvalue, stderr) = linregress(poverty_rate, murder_rate)\n",
    "regress_values = poverty_rate * slope + intercept\n",
    "line_eq = \"y = \" + str(round(slope,2)) + \"x + \" + str(round(intercept,2))\n",
    "\n",
    "plt.scatter(poverty_rate, murder_rate)\n",
    "plt.plot(poverty_rate,regress_values,\"r-\")\n",
    "# plt.annotate(line_eq,(1,1),fontsize=15,color=\"red\")\n",
    "\n",
    "plt.title(\"Poverty Rate vs Murder Rate\")\n",
    "plt.ylabel(\"Murder and Non-Negligent Manslaughter Rate\")\n",
    "plt.xlabel(\"2014 Poverty Rate\")\n",
    "print(f\"The p-value is {pvalue}\")"
   ]
  },
  {
   "cell_type": "code",
   "execution_count": null,
   "metadata": {},
   "outputs": [],
   "source": [
    "(slope, intercept, rvalue, pvalue, stderr) = linregress(poverty_rate, assault_rate)\n",
    "regress_values = poverty_rate * slope + intercept\n",
    "line_eq = \"y = \" + str(round(slope,2)) + \"x + \" + str(round(intercept,2))\n",
    "\n",
    "plt.scatter(poverty_rate, assault_rate)\n",
    "plt.plot(poverty_rate,regress_values,\"r-\")\n",
    "# plt.annotate(line_eq,(1,1),fontsize=15,color=\"red\")\n",
    "\n",
    "plt.title(\"Poverty Rate vs Aggravated Assault Rate\")\n",
    "plt.ylabel(\"Aggravated Assault Rate\")\n",
    "plt.xlabel(\"2014 Poverty Rate\")\n",
    "print(f\"The p-value is {pvalue}\")"
   ]
  },
  {
   "cell_type": "code",
   "execution_count": null,
   "metadata": {},
   "outputs": [],
   "source": [
    "(slope, intercept, rvalue, pvalue, stderr) = linregress(poverty_rate, GTA_rate)\n",
    "regress_values = poverty_rate * slope + intercept\n",
    "line_eq = \"y = \" + str(round(slope,2)) + \"x + \" + str(round(intercept,2))\n",
    "\n",
    "plt.scatter(poverty_rate, GTA_rate)\n",
    "plt.plot(poverty_rate,regress_values,\"r-\")\n",
    "# plt.annotate(line_eq,(1,1),fontsize=15,color=\"red\")\n",
    "\n",
    "plt.title(\"Poverty Rate vs Motor Vehicle Theft Rate\")\n",
    "plt.ylabel(\"Motor Vehicle Theft Rate\")\n",
    "plt.xlabel(\"2014 Poverty Rate\")\n",
    "print(f\"The p-value is {pvalue}\")"
   ]
  },
  {
   "cell_type": "code",
   "execution_count": null,
   "metadata": {},
   "outputs": [],
   "source": [
    "(slope, intercept, rvalue, pvalue, stderr) = linregress(poverty_rate, robbery_rate)\n",
    "regress_values = poverty_rate * slope + intercept\n",
    "line_eq = \"y = \" + str(round(slope,2)) + \"x + \" + str(round(intercept,2))\n",
    "\n",
    "plt.scatter(poverty_rate, robbery_rate)\n",
    "plt.plot(poverty_rate,regress_values,\"r-\")\n",
    "# plt.annotate(line_eq,(1,1),fontsize=15,color=\"red\")\n",
    "\n",
    "plt.title(\"Poverty Rate vs Robbery Rate\")\n",
    "plt.ylabel(\"Robbery Rate\")\n",
    "plt.xlabel(\"2014 Poverty Rate\")\n",
    "print(f\"The p-value is {pvalue}\")"
   ]
  },
  {
   "cell_type": "code",
   "execution_count": null,
   "metadata": {},
   "outputs": [],
   "source": [
    "(slope, intercept, rvalue, pvalue, stderr) = linregress(poverty_rate, burglary_rate)\n",
    "regress_values = poverty_rate * slope + intercept\n",
    "line_eq = \"y = \" + str(round(slope,2)) + \"x + \" + str(round(intercept,2))\n",
    "\n",
    "plt.scatter(poverty_rate, burglary_rate)\n",
    "plt.plot(poverty_rate,regress_values,\"r-\")\n",
    "# plt.annotate(line_eq,(1,1),fontsize=15,color=\"red\")\n",
    "\n",
    "plt.title(\"Poverty Rate vs Burglary Rate\")\n",
    "plt.ylabel(\"Burglary Rate\")\n",
    "plt.xlabel(\"2014 Poverty Rate\")\n",
    "print(f\"The p-value is {pvalue}\")"
   ]
  },
  {
   "cell_type": "code",
   "execution_count": null,
   "metadata": {},
   "outputs": [],
   "source": []
  }
 ],
 "metadata": {
  "kernelspec": {
   "display_name": "Python 3",
   "language": "python",
   "name": "python3"
  },
  "language_info": {
   "codemirror_mode": {
    "name": "ipython",
    "version": 3
   },
   "file_extension": ".py",
   "mimetype": "text/x-python",
   "name": "python",
   "nbconvert_exporter": "python",
   "pygments_lexer": "ipython3",
   "version": "3.6.10"
  }
 },
 "nbformat": 4,
 "nbformat_minor": 4
}
