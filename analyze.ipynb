{
 "cells": [
  {
   "cell_type": "code",
   "execution_count": null,
   "metadata": {},
   "outputs": [],
   "source": [
    "import pandas as pd\n",
    "import numpy as py\n",
    "import matplotlib.pyplot as plt\n"
   ]
  },
  {
   "cell_type": "code",
   "execution_count": null,
   "metadata": {},
   "outputs": [],
   "source": [
    "# Teammate 0 code begins here\n",
    "# changes here\n",
    "state_name_list = [ \"Alabama\", \"Alaska\", \"Arizona\", \"Arkansas\", \"California\",\n",
    "                    \"Colorado\", \"Connecticut\", \"DC\", \"Delaware\", \"Florida\",\n",
    "                    \"Georgia\", \"Hawaii\", \"Idaho\", \"Illinois\", \"Indiana\",\n",
    "                    \"Iowa\", \"Kansas\", \"Kentucky\", \"Louisiana\", \"Maine\",\n",
    "                    \"Maryland\", \"Massachusetts\", \"Michigan\", \"Minnesota\", \n",
    "                    \"Mississippi\", \"Missouri\", \"Montana\", \"Nebraska\", \"Nevada\",\n",
    "                    \"New_Hampshire\", \"New_Jersey\", \"New_Mexico\", \"New_York\", \"North_Carolina\",\n",
    "                    \"North_Dakota\", \"Ohio\", \"Oklahoma\", \"Oregon\", \"Pennsylvania\",\n",
    "                    \"Rhode_Island\", \"South_Carolina\", \"South_Dakota\", \"Tennessee\", \"Texas\",\n",
    "                    \"Utah\", \"Vermont\", \"Virginia\", \"Washington\", \"West_Virginia\", \n",
    "                    \"Wisconsin\", \"Wyoming\"\n",
    "                  ]\n",
    "\n",
    "# An empty collection of dataframes\n",
    "crime_by_state = {}\n",
    "\n",
    "\n",
    "debug = False\n",
    "\n",
    "\n",
    "print(\"Importing *.csv files...\")\n",
    "\n",
    "# Base file path we will use for reusable code\n",
    "base_file_path = \"Raw_Data/CrimeStateByState_\"\n",
    "\n",
    "# Import the U.S. crime data totals\n",
    "file_path = base_file_path + \"US\" + \".csv\"\n",
    "if (debug):\n",
    "    print(f\"Importing file: {file_path}\")\n",
    "us_totals_df = pd.read_csv(file_path, header=5)\n",
    "\n",
    "# Iterate over and import the state-by-state crime data\n",
    "for state in state_name_list:\n",
    "    file_path = base_file_path + state + \".csv\"\n",
    "    if (debug):\n",
    "        print(f\"Importing file: {file_path}\")\n",
    "    crime_by_state[state] = pd.read_csv(file_path, header=5)\n",
    "\n",
    "# Import the gun ownership data\n",
    "file_path = \"Raw_Data/gun_ownership_by_state.csv\"\n",
    "if (debug):\n",
    "    print(f\"Importing file: {file_path}\")\n",
    "gun_ownership_df = pd.read_csv(file_path)\n",
    "\n",
    "print(\"File import complete.\")\n",
    "\n",
    "# Clean up the footer information that was at the bottom of each crime data .csv file\n",
    "if debug:\n",
    "    print(\"Cleaning up the .csv files...\")\n",
    "    \n",
    "for state in state_name_list:\n",
    "    if debug:\n",
    "        print(f\"The current state is {state}...\")\n",
    "    crime_by_state[state] = crime_by_state[state][crime_by_state[state][\"Year\"].astype(str).str.isnumeric()]\n",
    "    \n",
    "if debug:\n",
    "    print(f\"The current state is {state}...\")\n",
    "us_totals_df = us_totals_df[us_totals_df[\"Year\"].astype(str).str.isnumeric()]\n",
    "\n",
    "if debug:\n",
    "    print(\"Cleanup of .csv files is complete.\")"
   ]
  },
  {
   "cell_type": "code",
   "execution_count": null,
   "metadata": {},
   "outputs": [],
   "source": [
    "# Reindex the gun ownership data\n",
    "try:\n",
    "    gun_ownership_df.set_index(\"State\", inplace=True, drop=False)\n",
    "except:\n",
    "    pass\n"
   ]
  },
  {
   "cell_type": "code",
   "execution_count": null,
   "metadata": {},
   "outputs": [],
   "source": [
    "all_state_crime_2014 = pd.DataFrame()\n",
    "\n",
    "# Build a dataframe of the 2014 crime data of all the states and index it to the state name\n",
    "for state in state_name_list:\n",
    "\n",
    "    if debug:\n",
    "        print(f\"The current state is {state}...\")\n",
    "    # Give each row the state name so that it can be used as an index later\n",
    "    crime_by_state[state][\"State\"] = state\n",
    "    # Use \"this_state\" as short-hand\n",
    "    this_state = crime_by_state[state]\n",
    "    # Grab the specific row we want\n",
    "    this_state_crime_2014 = this_state[this_state[\"Year\"] == \"2014\"]\n",
    "    # We do this because .append() doesn't support \"inplace\"\n",
    "    all_state_crime_2014 = all_state_crime_2014.append(this_state_crime_2014)\n",
    "    \n",
    "\n",
    "all_state_crime_2014.set_index([\"State\"], inplace=True)\n",
    "\n",
    "try:\n",
    "    gun_ownership_df = gun_ownership_df.join(all_state_crime_2014, how=\"outer\")\n",
    "except:\n",
    "    pass\n",
    "\n",
    "# Remove bad columns\n",
    "gun_ownership_df = gun_ownership_df.loc[:, ~gun_ownership_df.columns.str.contains('^Unnamed')]\n"
   ]
  },
  {
   "cell_type": "code",
   "execution_count": null,
   "metadata": {},
   "outputs": [],
   "source": [
    "# dataPoints = ['Violent crime total']\n",
    "# for col in dataPoints:\n",
    "#     dat = []\n",
    "#     for stateName in gun_ownership_df.index:\n",
    "#         if stateName in crime_by_state:\n",
    "#             dat.append(crime_by_state[stateName].tail(1)[col].values[0])\n",
    "#         else:\n",
    "#             dat.append(None)\n",
    "#     gun_ownership_df[col] = dat\n",
    "gun_ownership_df.head(60)"
   ]
  },
  {
   "cell_type": "code",
   "execution_count": null,
   "metadata": {},
   "outputs": [],
   "source": [
    "# Teammate Chris code ends here"
   ]
  },
  {
   "cell_type": "code",
   "execution_count": null,
   "metadata": {},
   "outputs": [],
   "source": [
    "# Teammate Matt code begins here"
   ]
  },
  {
   "cell_type": "code",
   "execution_count": null,
   "metadata": {},
   "outputs": [],
   "source": [
    "# Teammate Matt code ends here"
   ]
  },
  {
   "cell_type": "code",
   "execution_count": null,
   "metadata": {},
   "outputs": [],
   "source": [
    "# Teammate Carrie code begins here"
   ]
  },
  {
   "cell_type": "code",
   "execution_count": null,
   "metadata": {},
   "outputs": [],
   "source": [
    "# Teammate Carrie code ends here"
   ]
  },
  {
   "cell_type": "code",
   "execution_count": null,
   "metadata": {},
   "outputs": [],
   "source": [
    "# Teammate Glenda code begins here"
   ]
  },
  {
   "cell_type": "code",
   "execution_count": null,
   "metadata": {},
   "outputs": [],
   "source": [
    "gun_ownership_per_capita_df = gun_ownership_df\n",
    "gun_ownership_per_capita_df = gun_ownership_per_capita_df.reset_index(drop=False)\n",
    "gun_ownership_per_capita_df = gun_ownership_per_capita_df[[\"State\",\"# of guns per capita\"]]\n",
    "gun_ownership_per_capita_df.head()"
   ]
  },
  {
   "cell_type": "code",
   "execution_count": null,
   "metadata": {},
   "outputs": [],
   "source": [
    "all_state_crime_2014_df = all_state_crime_2014\n",
    "all_state_crime_2014_df = all_state_crime_2014_df.reset_index(drop=False)\n",
    "all_state_crime_2014_df.head()"
   ]
  },
  {
   "cell_type": "code",
   "execution_count": null,
   "metadata": {},
   "outputs": [],
   "source": [
    "murder_manslaughter_2014_df = all_state_crime_2014_df[[\"State\",\"Murder and nonnegligent manslaughter rate\"]]\n",
    "murder_manslaughter_2014_df.head()"
   ]
  },
  {
   "cell_type": "code",
   "execution_count": null,
   "metadata": {},
   "outputs": [],
   "source": [
    "aggravated_assault_2014_df = all_state_crime_2014_df[[\"State\",\"Aggravated assault rate\"]]\n",
    "aggravated_assault_2014_df.head()"
   ]
  },
  {
   "cell_type": "code",
   "execution_count": null,
   "metadata": {},
   "outputs": [],
   "source": [
    "vehicle_theft_2014_df = all_state_crime_2014_df[[\"State\",\"Motor vehicle theft rate\"]]\n",
    "vehicle_theft_2014_df.head()"
   ]
  },
  {
   "cell_type": "code",
   "execution_count": null,
   "metadata": {},
   "outputs": [],
   "source": [
    "robbery_2014_df = all_state_crime_2014_df[[\"State\",\"Robbery rate\"]]\n",
    "robbery_2014_df.head()"
   ]
  },
  {
   "cell_type": "code",
   "execution_count": null,
   "metadata": {},
   "outputs": [],
   "source": [
    "burglary_2014_df = all_state_crime_2014_df[[\"State\",\"Burglary rate\"]]\n",
    "burglary_2014_df.head()"
   ]
  },
  {
   "cell_type": "code",
   "execution_count": null,
   "metadata": {},
   "outputs": [],
   "source": [
    "import plotly.express as px\n",
    "\n",
    "combined_data_df = pd.merge(burglary_2014_df,gun_ownership_per_capita_df,on=\"State\")\n",
    "\n",
    "import plotly.express as px\n",
    "\n",
    "fig = px.scatter(combined_data_df,\n",
    "                 x=\"Burglary rate\", \n",
    "                 y=\"# of guns per capita\",\n",
    "                 size=\"Burglary rate\", \n",
    "                 color=\"State\",\n",
    "                 hover_name=\"State\",\n",
    "                 title=\"Burglary Rate in the US\"\n",
    "                )\n",
    "fig.show()"
   ]
  },
  {
   "cell_type": "code",
   "execution_count": null,
   "metadata": {},
   "outputs": [],
   "source": [
    "import plotly.express as px\n",
    "\n",
    "combined_data_df = pd.merge(robbery_2014_df,gun_ownership_per_capita_df,on=\"State\")\n",
    "\n",
    "import plotly.express as px\n",
    "\n",
    "fig = px.scatter(combined_data_df,\n",
    "                 x=\"Robbery rate\", \n",
    "                 y=\"# of guns per capita\",\n",
    "                 size=\"Robbery rate\", \n",
    "                 color=\"State\",\n",
    "                 hover_name=\"State\",\n",
    "                 title=\"Robbery Rate in the US\"\n",
    "                )\n",
    "fig.show()"
   ]
  },
  {
   "cell_type": "code",
   "execution_count": null,
   "metadata": {},
   "outputs": [],
   "source": [
    "import plotly.express as px\n",
    "\n",
    "combined_data_df = pd.merge(vehicle_theft_2014_df,gun_ownership_per_capita_df,on=\"State\")\n",
    "\n",
    "import plotly.express as px\n",
    "\n",
    "fig = px.scatter(combined_data_df,\n",
    "                 x=\"Motor vehicle theft rate\", \n",
    "                 y=\"# of guns per capita\",\n",
    "                 size=\"Motor vehicle theft rate\", \n",
    "                 color=\"State\",\n",
    "                 hover_name=\"State\",\n",
    "                 title=\"Motor Behicle Theft Rate in the US\"\n",
    "                )\n",
    "fig.show()"
   ]
  },
  {
   "cell_type": "code",
   "execution_count": null,
   "metadata": {},
   "outputs": [],
   "source": [
    "import plotly.express as px\n",
    "\n",
    "combined_data_df = pd.merge(aggravated_assault_2014_df,gun_ownership_per_capita_df,on=\"State\")\n",
    "\n",
    "import plotly.express as px\n",
    "\n",
    "fig = px.scatter(combined_data_df,\n",
    "                 x=\"Aggravated assault rate\", \n",
    "                 y=\"# of guns per capita\",\n",
    "                 size=\"Aggravated assault rate\", \n",
    "                 color=\"State\",\n",
    "                 hover_name=\"State\",\n",
    "                 title=\"Agravated Assault Rate in the US\"\n",
    "                )\n",
    "fig.show()"
   ]
  },
  {
   "cell_type": "code",
   "execution_count": null,
   "metadata": {},
   "outputs": [],
   "source": [
    "import plotly.express as px\n",
    "\n",
    "combined_data_df = pd.merge(murder_manslaughter_2014_df,gun_ownership_per_capita_df,on=\"State\")\n",
    "\n",
    "import plotly.express as px\n",
    "\n",
    "fig = px.scatter(combined_data_df,\n",
    "                 x=\"Murder and nonnegligent manslaughter rate\", \n",
    "                 y=\"# of guns per capita\",\n",
    "                 size=\"Murder and nonnegligent manslaughter rate\", \n",
    "                 color=\"State\",\n",
    "                 hover_name=\"State\",\n",
    "                 title=\"Murder and Manslaughter Rate in the US\"\n",
    "                )\n",
    "fig.show()"
   ]
  },
  {
   "cell_type": "code",
   "execution_count": null,
   "metadata": {},
   "outputs": [],
   "source": [
    "murder_manslaughter_2014_df.head()"
   ]
  },
  {
   "cell_type": "code",
   "execution_count": null,
   "metadata": {},
   "outputs": [],
   "source": [
    "# Teammate Glenda code ends here"
   ]
  }
 ],
 "metadata": {
  "kernelspec": {
   "display_name": "Python 3",
   "language": "python",
   "name": "python3"
  },
  "language_info": {
   "codemirror_mode": {
    "name": "ipython",
    "version": 3
   },
   "file_extension": ".py",
   "mimetype": "text/x-python",
   "name": "python",
   "nbconvert_exporter": "python",
   "pygments_lexer": "ipython3",
   "version": "3.6.10"
  }
 },
 "nbformat": 4,
 "nbformat_minor": 4
}
