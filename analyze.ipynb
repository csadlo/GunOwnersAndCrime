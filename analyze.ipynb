{
 "cells": [
  {
   "cell_type": "code",
   "execution_count": null,
   "metadata": {},
   "outputs": [],
   "source": [
    "import pandas as pd\n",
    "import numpy as py\n",
    "import matplotlib.pyplot as plt\n"
   ]
  },
  {
   "cell_type": "code",
   "execution_count": null,
   "metadata": {},
   "outputs": [],
   "source": [
    "# Teammate 0 code begins here\n",
    "state_name_list = [ \"Alabama\", \"Alaska\", \"Arizona\", \"Arkansas\", \"California\",\n",
    "                    \"Colorado\", \"Connecticut\", \"DC\", \"Delaware\", \"Florida\",\n",
    "                    \"Georgia\", \"Hawaii\", \"Idaho\", \"Illinois\", \"Indiana\",\n",
    "                    \"Iowa\", \"Kansas\", \"Kentucky\", \"Louisiana\", \"Maine\",\n",
    "                    \"Maryland\", \"Massachusetts\", \"Michigan\", \"Minnesota\", \n",
    "                    \"Mississippi\", \"Missouri\", \"Montana\", \"Nebraska\", \"Nevada\",\n",
    "                    \"New_Hampshire\", \"New_Jersey\", \"New_Mexico\", \"New_York\", \"North_Carolina\",\n",
    "                    \"North_Dakota\", \"Ohio\", \"Oklahoma\", \"Oregon\", \"Pennsylvania\",\n",
    "                    \"Rhode_Island\", \"South_Carolina\", \"South_Dakota\", \"Tennessee\", \"Texas\",\n",
    "                    \"Utah\", \"Vermont\", \"Virginia\", \"West_Virginia\", \"Wisconsin\", \n",
    "                    \"Wyoming\"\n",
    "                  ]\n",
    "\n",
    "# An empty collection of dataframes\n",
    "crime_by_state = {}\n",
    "\n",
    "\n",
    "debug = False\n",
    "\n",
    "\n",
    "print(\"Importing *.csv files...\")\n",
    "\n",
    "# Base file path we will use for reusable code\n",
    "base_file_path = \"Raw_Data/CrimeStateByState_\"\n",
    "\n",
    "# Import the U.S. crime data totals\n",
    "file_path = base_file_path + \"US\" + \".csv\"\n",
    "if (debug):\n",
    "    print(f\"Importing file: {file_path}\")\n",
    "us_totals_df = pd.read_csv(file_path, header=5)\n",
    "\n",
    "# Iterate over and import the state-by-state crime data\n",
    "for state in state_name_list:\n",
    "    file_path = base_file_path + state + \".csv\"\n",
    "    if (debug):\n",
    "        print(f\"Importing file: {file_path}\")\n",
    "    crime_by_state[state] = pd.read_csv(file_path, header=5)\n",
    "\n",
    "# Import the gun ownership data\n",
    "file_path = \"Raw_Data/gun_ownership_by_state.csv\"\n",
    "if (debug):\n",
    "    print(f\"Importing file: {file_path}\")\n",
    "gun_ownership_df = pd.read_csv(file_path)\n",
    "\n",
    "print(\"File import complete.\")\n",
    "\n",
    "# Clean up the footer information that was at the bottom of each crime data .csv file\n",
    "if debug:\n",
    "    print(\"Cleaning up the .csv files...\")\n",
    "    \n",
    "for state in state_name_list:\n",
    "    if debug:\n",
    "        print(f\"The current state is {state}...\")\n",
    "    crime_by_state[state] = crime_by_state[state][crime_by_state[state][\"Year\"].astype(str).str.isnumeric()]\n",
    "    \n",
    "if debug:\n",
    "    print(f\"The current state is {state}...\")\n",
    "us_totals_df = us_totals_df[us_totals_df[\"Year\"].astype(str).str.isnumeric()]\n",
    "\n",
    "if debug:\n",
    "    print(\"Cleanup of .csv files is complete.\")"
   ]
  },
  {
   "cell_type": "code",
   "execution_count": null,
   "metadata": {},
   "outputs": [],
   "source": [
    "# Reindex the gun ownership data\n",
    "gun_ownership_df.set_index(\"State\", inplace=True)\n",
    "\n",
    "gun_ownership_df.head()"
   ]
  },
  {
   "cell_type": "code",
   "execution_count": null,
   "metadata": {},
   "outputs": [],
   "source": [
    "# for state in state_name_list:\n",
    "#     if debug:\n",
    "#         print(f\"The current state is {state}...\")\n",
    "#     this_state = crime_by_state[state]\n",
    "#     this_state[this_state[\"Year\"] == \"2014\"]\n",
    "#     this_state.head()\n",
    "#     #gun_ownership_df[state].append()"
   ]
  },
  {
   "cell_type": "code",
   "execution_count": null,
   "metadata": {},
   "outputs": [],
   "source": [
    "# Teammate 0 code ends here"
   ]
  },
  {
   "cell_type": "code",
   "execution_count": null,
   "metadata": {},
   "outputs": [],
   "source": [
    "# Teammate 1 code begins here"
   ]
  },
  {
   "cell_type": "code",
   "execution_count": null,
   "metadata": {},
   "outputs": [],
   "source": [
    "# Teammate 1 code ends here"
   ]
  },
  {
   "cell_type": "code",
   "execution_count": null,
   "metadata": {},
   "outputs": [],
   "source": [
    "# Teammate 2 code begins here"
   ]
  },
  {
   "cell_type": "code",
   "execution_count": null,
   "metadata": {},
   "outputs": [],
   "source": [
    "# Teammate 2 code ends here"
   ]
  },
  {
   "cell_type": "code",
   "execution_count": null,
   "metadata": {},
   "outputs": [],
   "source": [
    "# Teammate 3 code begins here"
   ]
  },
  {
   "cell_type": "code",
   "execution_count": null,
   "metadata": {},
   "outputs": [],
   "source": [
    "# Teammate 3 code ends here"
   ]
  }
 ],
 "metadata": {
  "kernelspec": {
   "display_name": "Python 3",
   "language": "python",
   "name": "python3"
  },
  "language_info": {
   "codemirror_mode": {
    "name": "ipython",
    "version": 3
   },
   "file_extension": ".py",
   "mimetype": "text/x-python",
   "name": "python",
   "nbconvert_exporter": "python",
   "pygments_lexer": "ipython3",
   "version": "3.6.10"
  }
 },
 "nbformat": 4,
 "nbformat_minor": 4
}
