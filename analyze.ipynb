{
 "cells": [
  {
   "cell_type": "code",
   "execution_count": 58,
   "metadata": {},
   "outputs": [],
   "source": [
    "import pandas as pd\n",
    "import numpy as py\n",
    "import seaborn as sns \n",
    "import matplotlib.pyplot as plt\n",
    "#import cartopy.crs as ccrs\n",
    "#import cartopy.io.shapereader as shpreader\n",
    "import math\n",
    "import scipy.stats as st\n"
   ]
  },
  {
   "cell_type": "code",
   "execution_count": 28,
   "metadata": {},
   "outputs": [
    {
     "name": "stdout",
     "output_type": "stream",
     "text": [
      "Importing *.csv files...\n",
      "File import complete.\n"
     ]
    }
   ],
   "source": [
    "# Teammate Chris code begins here\n",
    "# changes here\n",
    "state_name_list = [ \"Alabama\", \"Alaska\", \"Arizona\", \"Arkansas\", \"California\",\n",
    "                    \"Colorado\", \"Connecticut\", \"DC\", \"Delaware\", \"Florida\",\n",
    "                    \"Georgia\", \"Hawaii\", \"Idaho\", \"Illinois\", \"Indiana\",\n",
    "                    \"Iowa\", \"Kansas\", \"Kentucky\", \"Louisiana\", \"Maine\",\n",
    "                    \"Maryland\", \"Massachusetts\", \"Michigan\", \"Minnesota\", \n",
    "                    \"Mississippi\", \"Missouri\", \"Montana\", \"Nebraska\", \"Nevada\",\n",
    "                    \"New_Hampshire\", \"New_Jersey\", \"New_Mexico\", \"New_York\", \"North_Carolina\",\n",
    "                    \"North_Dakota\", \"Ohio\", \"Oklahoma\", \"Oregon\", \"Pennsylvania\",\n",
    "                    \"Rhode_Island\", \"South_Carolina\", \"South_Dakota\", \"Tennessee\", \"Texas\",\n",
    "                    \"Utah\", \"Vermont\", \"Virginia\", \"Washington\", \"West_Virginia\", \n",
    "                    \"Wisconsin\", \"Wyoming\"\n",
    "                  ]\n",
    "\n",
    "# An empty collection of dataframes\n",
    "crime_by_state = {}\n",
    "\n",
    "\n",
    "debug = False\n",
    "\n",
    "\n",
    "print(\"Importing *.csv files...\")\n",
    "\n",
    "# Base file path we will use for reusable code\n",
    "base_file_path = \"Raw_Data/CrimeStateByState_\"\n",
    "\n",
    "# Import the U.S. crime data totals\n",
    "file_path = base_file_path + \"US\" + \".csv\"\n",
    "if (debug):\n",
    "    print(f\"Importing file: {file_path}\")\n",
    "us_totals_df = pd.read_csv(file_path, header=5)\n",
    "\n",
    "# Iterate over and import the state-by-state crime data\n",
    "for state in state_name_list:\n",
    "    file_path = base_file_path + state + \".csv\"\n",
    "    if (debug):\n",
    "        print(f\"Importing file: {file_path}\")\n",
    "    crime_by_state[state] = pd.read_csv(file_path, header=5)\n",
    "\n",
    "# Import the gun ownership data\n",
    "file_path = \"Raw_Data/gun_ownership_by_state.csv\"\n",
    "if (debug):\n",
    "    print(f\"Importing file: {file_path}\")\n",
    "gun_ownership_df = pd.read_csv(file_path)\n",
    "\n",
    "# Import the gun ownership data\n",
    "file_path = \"Raw_Data/State_by_State_Poverty_Rate.csv\"\n",
    "if (debug):\n",
    "    print(f\"Importing file: {file_path}\")\n",
    "poverty_rate_df = pd.read_csv(file_path, header=2)\n",
    "\n",
    "print(\"File import complete.\")\n",
    "\n",
    "# Clean up the footer information that was at the bottom of each crime data .csv file\n",
    "if debug:\n",
    "    print(\"Cleaning up the .csv files...\")\n",
    "    \n",
    "for state in state_name_list:\n",
    "    if debug:\n",
    "        print(f\"The current state is {state}...\")\n",
    "    crime_by_state[state] = crime_by_state[state][crime_by_state[state][\"Year\"].astype(str).str.isnumeric()]\n",
    "    \n",
    "if debug:\n",
    "    print(f\"The current state is {state}...\")\n",
    "us_totals_df = us_totals_df[us_totals_df[\"Year\"].astype(str).str.isnumeric()]\n",
    "\n",
    "# Clean up the poverty data\n",
    "poverty_rate_df[\"2018 Poverty Rate\"] = poverty_rate_df[\"2018 Poverty Rate\"].str.rstrip('%').apply(pd.to_numeric, errors=\"coerce\")\n",
    "poverty_rate_df[\"2014 Poverty Rate\"] = poverty_rate_df[\"2014 Poverty Rate\"].str.rstrip('%').apply(pd.to_numeric, errors=\"coerce\")\n",
    "poverty_rate_df[\"Supplemental Poverty Measure\"] = poverty_rate_df[\"Supplemental Poverty Measure\"].str.rstrip('%').apply(pd.to_numeric, errors=\"coerce\")\n",
    "\n",
    "if debug:\n",
    "    print(\"Cleanup of .csv files is complete.\")\n"
   ]
  },
  {
   "cell_type": "code",
   "execution_count": 29,
   "metadata": {},
   "outputs": [],
   "source": [
    "# Reindex the gun ownership data\n",
    "try:\n",
    "    gun_ownership_df.set_index(\"State\", inplace=True, drop=False)\n",
    "    poverty_rate_df.set_index(\"State\", inplace=True)\n",
    "    poverty_rate_df = poverty_rate_df.drop(columns=[\"Rank\"], axis=1)\n",
    "except:\n",
    "    pass"
   ]
  },
  {
   "cell_type": "code",
   "execution_count": 30,
   "metadata": {},
   "outputs": [],
   "source": [
    "all_state_crime_2014 = pd.DataFrame()\n",
    "\n",
    "# Build a dataframe of the 2014 crime data of all the states and index it to the state name\n",
    "for state in state_name_list:\n",
    "\n",
    "    if debug:\n",
    "        print(f\"The current state is {state}...\")\n",
    "    # Give each row the state name so that it can be used as an index later\n",
    "    crime_by_state[state][\"State\"] = state\n",
    "    # Use \"this_state\" as short-hand\n",
    "    this_state = crime_by_state[state]\n",
    "    # Grab the specific row we want\n",
    "    this_state_crime_2014 = this_state[this_state[\"Year\"] == \"2014\"]\n",
    "    # We do this because .append() doesn't support \"inplace\"\n",
    "    all_state_crime_2014 = all_state_crime_2014.append(this_state_crime_2014)\n",
    "    \n",
    "\n",
    "all_state_crime_2014.set_index([\"State\"], inplace=True)\n",
    "# Remove bad columns\n",
    "all_state_crime_2014 = all_state_crime_2014.loc[:, ~all_state_crime_2014.columns.str.contains('^Unnamed')]\n",
    "\n",
    "try:\n",
    "    gun_ownership_df = gun_ownership_df.join(all_state_crime_2014, how=\"outer\")\n",
    "    gun_ownership_df = gun_ownership_df.join(poverty_rate_df, how=\"outer\")\n",
    "    \n",
    "except:\n",
    "    pass\n",
    "\n",
    "# Remove bad columns\n",
    "# gun_ownership_df = gun_ownership_df.loc[:, ~gun_ownership_df.columns.str.contains('^Unnamed')]\n",
    "\n",
    "# Drop data for US, Puerto Rico, and American Samoa\n",
    "gun_ownership_df = gun_ownership_df.dropna(thresh=5)"
   ]
  },
  {
   "cell_type": "code",
   "execution_count": 31,
   "metadata": {},
   "outputs": [
    {
     "data": {
      "text/html": [
       "<div>\n",
       "<style scoped>\n",
       "    .dataframe tbody tr th:only-of-type {\n",
       "        vertical-align: middle;\n",
       "    }\n",
       "\n",
       "    .dataframe tbody tr th {\n",
       "        vertical-align: top;\n",
       "    }\n",
       "\n",
       "    .dataframe thead th {\n",
       "        text-align: right;\n",
       "    }\n",
       "</style>\n",
       "<table border=\"1\" class=\"dataframe\">\n",
       "  <thead>\n",
       "    <tr style=\"text-align: right;\">\n",
       "      <th></th>\n",
       "      <th>Rank</th>\n",
       "      <th>State</th>\n",
       "      <th># of guns per capita</th>\n",
       "      <th># of guns registered</th>\n",
       "      <th>Year</th>\n",
       "      <th>Population</th>\n",
       "      <th>Violent crime total</th>\n",
       "      <th>Murder and nonnegligent Manslaughter</th>\n",
       "      <th>Legacy rape /1</th>\n",
       "      <th>Revised rape /2</th>\n",
       "      <th>...</th>\n",
       "      <th>Revised rape rate /2</th>\n",
       "      <th>Robbery rate</th>\n",
       "      <th>Aggravated assault rate</th>\n",
       "      <th>Property crime rate</th>\n",
       "      <th>Burglary rate</th>\n",
       "      <th>Larceny-theft rate</th>\n",
       "      <th>Motor vehicle theft rate</th>\n",
       "      <th>2018 Poverty Rate</th>\n",
       "      <th>2014 Poverty Rate</th>\n",
       "      <th>Supplemental Poverty Measure</th>\n",
       "    </tr>\n",
       "    <tr>\n",
       "      <th>State</th>\n",
       "      <th></th>\n",
       "      <th></th>\n",
       "      <th></th>\n",
       "      <th></th>\n",
       "      <th></th>\n",
       "      <th></th>\n",
       "      <th></th>\n",
       "      <th></th>\n",
       "      <th></th>\n",
       "      <th></th>\n",
       "      <th></th>\n",
       "      <th></th>\n",
       "      <th></th>\n",
       "      <th></th>\n",
       "      <th></th>\n",
       "      <th></th>\n",
       "      <th></th>\n",
       "      <th></th>\n",
       "      <th></th>\n",
       "      <th></th>\n",
       "      <th></th>\n",
       "    </tr>\n",
       "  </thead>\n",
       "  <tbody>\n",
       "    <tr>\n",
       "      <th>Oregon</th>\n",
       "      <td>32.0</td>\n",
       "      <td>Oregon</td>\n",
       "      <td>14.816</td>\n",
       "      <td>61383.0</td>\n",
       "      <td>2014</td>\n",
       "      <td>3970239</td>\n",
       "      <td>9224</td>\n",
       "      <td>81.0</td>\n",
       "      <td>1052.0</td>\n",
       "      <td>1458.0</td>\n",
       "      <td>...</td>\n",
       "      <td>36.7</td>\n",
       "      <td>52.7</td>\n",
       "      <td>140.8</td>\n",
       "      <td>2879.0</td>\n",
       "      <td>434.0</td>\n",
       "      <td>2204.6</td>\n",
       "      <td>240.5</td>\n",
       "      <td>12.6</td>\n",
       "      <td>7.11</td>\n",
       "      <td>10.3</td>\n",
       "    </tr>\n",
       "    <tr>\n",
       "      <th>Wyoming</th>\n",
       "      <td>1.0</td>\n",
       "      <td>Wyoming</td>\n",
       "      <td>229.240</td>\n",
       "      <td>132806.0</td>\n",
       "      <td>2014</td>\n",
       "      <td>584153</td>\n",
       "      <td>1142</td>\n",
       "      <td>16.0</td>\n",
       "      <td>126.0</td>\n",
       "      <td>174.0</td>\n",
       "      <td>...</td>\n",
       "      <td>29.8</td>\n",
       "      <td>9.1</td>\n",
       "      <td>153.9</td>\n",
       "      <td>1964.7</td>\n",
       "      <td>289.1</td>\n",
       "      <td>1572.4</td>\n",
       "      <td>103.2</td>\n",
       "      <td>11.1</td>\n",
       "      <td>9.30</td>\n",
       "      <td>9.3</td>\n",
       "    </tr>\n",
       "    <tr>\n",
       "      <th>New_Hampshire</th>\n",
       "      <td>3.0</td>\n",
       "      <td>New_Hampshire</td>\n",
       "      <td>46.760</td>\n",
       "      <td>64135.0</td>\n",
       "      <td>2014</td>\n",
       "      <td>1326813</td>\n",
       "      <td>2602</td>\n",
       "      <td>12.0</td>\n",
       "      <td>458.0</td>\n",
       "      <td>594.0</td>\n",
       "      <td>...</td>\n",
       "      <td>44.8</td>\n",
       "      <td>40.5</td>\n",
       "      <td>110.0</td>\n",
       "      <td>1962.7</td>\n",
       "      <td>313.7</td>\n",
       "      <td>1584.4</td>\n",
       "      <td>64.6</td>\n",
       "      <td>7.6</td>\n",
       "      <td>9.50</td>\n",
       "      <td>15.5</td>\n",
       "    </tr>\n",
       "    <tr>\n",
       "      <th>Maryland</th>\n",
       "      <td>27.0</td>\n",
       "      <td>Maryland</td>\n",
       "      <td>17.030</td>\n",
       "      <td>103109.0</td>\n",
       "      <td>2014</td>\n",
       "      <td>5976407</td>\n",
       "      <td>26661</td>\n",
       "      <td>365.0</td>\n",
       "      <td>1144.0</td>\n",
       "      <td>1619.0</td>\n",
       "      <td>...</td>\n",
       "      <td>27.1</td>\n",
       "      <td>159.7</td>\n",
       "      <td>253.2</td>\n",
       "      <td>2507.5</td>\n",
       "      <td>468.7</td>\n",
       "      <td>1819.6</td>\n",
       "      <td>219.2</td>\n",
       "      <td>9.0</td>\n",
       "      <td>9.60</td>\n",
       "      <td>10.1</td>\n",
       "    </tr>\n",
       "    <tr>\n",
       "      <th>Vermont</th>\n",
       "      <td>42.0</td>\n",
       "      <td>Vermont</td>\n",
       "      <td>9.410</td>\n",
       "      <td>5872.0</td>\n",
       "      <td>2014</td>\n",
       "      <td>626562</td>\n",
       "      <td>622</td>\n",
       "      <td>10.0</td>\n",
       "      <td>99.0</td>\n",
       "      <td>110.0</td>\n",
       "      <td>...</td>\n",
       "      <td>17.6</td>\n",
       "      <td>11.2</td>\n",
       "      <td>68.9</td>\n",
       "      <td>1524.4</td>\n",
       "      <td>324.6</td>\n",
       "      <td>1160.8</td>\n",
       "      <td>38.9</td>\n",
       "      <td>11.0</td>\n",
       "      <td>9.70</td>\n",
       "      <td>13.4</td>\n",
       "    </tr>\n",
       "    <tr>\n",
       "      <th>Utah</th>\n",
       "      <td>13.0</td>\n",
       "      <td>Utah</td>\n",
       "      <td>23.480</td>\n",
       "      <td>72856.0</td>\n",
       "      <td>2014</td>\n",
       "      <td>2942902</td>\n",
       "      <td>6346</td>\n",
       "      <td>67.0</td>\n",
       "      <td>945.0</td>\n",
       "      <td>1454.0</td>\n",
       "      <td>...</td>\n",
       "      <td>49.4</td>\n",
       "      <td>44.6</td>\n",
       "      <td>119.4</td>\n",
       "      <td>2878.5</td>\n",
       "      <td>391.4</td>\n",
       "      <td>2239.1</td>\n",
       "      <td>248.0</td>\n",
       "      <td>9.0</td>\n",
       "      <td>9.80</td>\n",
       "      <td>11.6</td>\n",
       "    </tr>\n",
       "    <tr>\n",
       "      <th>Nebraska</th>\n",
       "      <td>38.0</td>\n",
       "      <td>Nebraska</td>\n",
       "      <td>11.570</td>\n",
       "      <td>22234.0</td>\n",
       "      <td>2014</td>\n",
       "      <td>1881503</td>\n",
       "      <td>5275</td>\n",
       "      <td>54.0</td>\n",
       "      <td>620.0</td>\n",
       "      <td>862.0</td>\n",
       "      <td>...</td>\n",
       "      <td>45.8</td>\n",
       "      <td>55.4</td>\n",
       "      <td>176.2</td>\n",
       "      <td>2523.5</td>\n",
       "      <td>422.5</td>\n",
       "      <td>1864.1</td>\n",
       "      <td>236.8</td>\n",
       "      <td>11.0</td>\n",
       "      <td>10.00</td>\n",
       "      <td>9.8</td>\n",
       "    </tr>\n",
       "    <tr>\n",
       "      <th>Connecticut</th>\n",
       "      <td>14.0</td>\n",
       "      <td>Connecticut</td>\n",
       "      <td>22.960</td>\n",
       "      <td>82400.0</td>\n",
       "      <td>2014</td>\n",
       "      <td>3596677</td>\n",
       "      <td>8522</td>\n",
       "      <td>86.0</td>\n",
       "      <td>571.0</td>\n",
       "      <td>782.0</td>\n",
       "      <td>...</td>\n",
       "      <td>21.7</td>\n",
       "      <td>87.8</td>\n",
       "      <td>125.0</td>\n",
       "      <td>1920.4</td>\n",
       "      <td>332.4</td>\n",
       "      <td>1418.1</td>\n",
       "      <td>169.9</td>\n",
       "      <td>10.4</td>\n",
       "      <td>10.60</td>\n",
       "      <td>12.5</td>\n",
       "    </tr>\n",
       "    <tr>\n",
       "      <th>Virginia</th>\n",
       "      <td>5.0</td>\n",
       "      <td>Virginia</td>\n",
       "      <td>36.340</td>\n",
       "      <td>307822.0</td>\n",
       "      <td>2014</td>\n",
       "      <td>8326289</td>\n",
       "      <td>16340</td>\n",
       "      <td>338.0</td>\n",
       "      <td>1432.0</td>\n",
       "      <td>2310.0</td>\n",
       "      <td>...</td>\n",
       "      <td>27.7</td>\n",
       "      <td>51.5</td>\n",
       "      <td>112.9</td>\n",
       "      <td>1930.3</td>\n",
       "      <td>277.7</td>\n",
       "      <td>1560.5</td>\n",
       "      <td>92.1</td>\n",
       "      <td>10.7</td>\n",
       "      <td>10.80</td>\n",
       "      <td>13.3</td>\n",
       "    </tr>\n",
       "    <tr>\n",
       "      <th>Massachusetts</th>\n",
       "      <td>48.0</td>\n",
       "      <td>Massachusetts</td>\n",
       "      <td>5.410</td>\n",
       "      <td>37152.0</td>\n",
       "      <td>2014</td>\n",
       "      <td>6745408</td>\n",
       "      <td>26399</td>\n",
       "      <td>132.0</td>\n",
       "      <td>1629.0</td>\n",
       "      <td>2180.0</td>\n",
       "      <td>...</td>\n",
       "      <td>32.3</td>\n",
       "      <td>89.5</td>\n",
       "      <td>267.6</td>\n",
       "      <td>1857.1</td>\n",
       "      <td>370.1</td>\n",
       "      <td>1364.5</td>\n",
       "      <td>122.5</td>\n",
       "      <td>10.0</td>\n",
       "      <td>10.90</td>\n",
       "      <td>13.8</td>\n",
       "    </tr>\n",
       "    <tr>\n",
       "      <th>Iowa</th>\n",
       "      <td>43.0</td>\n",
       "      <td>Iowa</td>\n",
       "      <td>9.050</td>\n",
       "      <td>28494.0</td>\n",
       "      <td>2014</td>\n",
       "      <td>3107126</td>\n",
       "      <td>8497</td>\n",
       "      <td>60.0</td>\n",
       "      <td>828.0</td>\n",
       "      <td>1128.0</td>\n",
       "      <td>...</td>\n",
       "      <td>36.3</td>\n",
       "      <td>33.6</td>\n",
       "      <td>201.6</td>\n",
       "      <td>2093.8</td>\n",
       "      <td>464.4</td>\n",
       "      <td>1495.8</td>\n",
       "      <td>133.6</td>\n",
       "      <td>11.2</td>\n",
       "      <td>10.90</td>\n",
       "      <td>8.6</td>\n",
       "    </tr>\n",
       "    <tr>\n",
       "      <th>North_Dakota</th>\n",
       "      <td>25.0</td>\n",
       "      <td>North_Dakota</td>\n",
       "      <td>17.560</td>\n",
       "      <td>13272.0</td>\n",
       "      <td>2014</td>\n",
       "      <td>739482</td>\n",
       "      <td>1960</td>\n",
       "      <td>22.0</td>\n",
       "      <td>276.0</td>\n",
       "      <td>358.0</td>\n",
       "      <td>...</td>\n",
       "      <td>48.4</td>\n",
       "      <td>23.4</td>\n",
       "      <td>190.3</td>\n",
       "      <td>2110.3</td>\n",
       "      <td>366.1</td>\n",
       "      <td>1539.5</td>\n",
       "      <td>204.7</td>\n",
       "      <td>10.7</td>\n",
       "      <td>11.00</td>\n",
       "      <td>9.2</td>\n",
       "    </tr>\n",
       "    <tr>\n",
       "      <th>Wisconsin</th>\n",
       "      <td>41.0</td>\n",
       "      <td>Wisconsin</td>\n",
       "      <td>11.190</td>\n",
       "      <td>64878.0</td>\n",
       "      <td>2014</td>\n",
       "      <td>5757564</td>\n",
       "      <td>16714</td>\n",
       "      <td>165.0</td>\n",
       "      <td>1168.0</td>\n",
       "      <td>1674.0</td>\n",
       "      <td>...</td>\n",
       "      <td>29.1</td>\n",
       "      <td>88.0</td>\n",
       "      <td>170.4</td>\n",
       "      <td>2088.3</td>\n",
       "      <td>368.5</td>\n",
       "      <td>1547.6</td>\n",
       "      <td>172.3</td>\n",
       "      <td>11.0</td>\n",
       "      <td>11.10</td>\n",
       "      <td>10.8</td>\n",
       "    </tr>\n",
       "    <tr>\n",
       "      <th>Pennsylvania</th>\n",
       "      <td>20.0</td>\n",
       "      <td>Pennsylvania</td>\n",
       "      <td>18.450</td>\n",
       "      <td>236377.0</td>\n",
       "      <td>2014</td>\n",
       "      <td>12787209</td>\n",
       "      <td>40164</td>\n",
       "      <td>614.0</td>\n",
       "      <td>2787.0</td>\n",
       "      <td>3827.0</td>\n",
       "      <td>...</td>\n",
       "      <td>29.9</td>\n",
       "      <td>105.8</td>\n",
       "      <td>173.5</td>\n",
       "      <td>1931.7</td>\n",
       "      <td>357.5</td>\n",
       "      <td>1472.2</td>\n",
       "      <td>102.0</td>\n",
       "      <td>12.2</td>\n",
       "      <td>11.20</td>\n",
       "      <td>12.6</td>\n",
       "    </tr>\n",
       "    <tr>\n",
       "      <th>Maine</th>\n",
       "      <td>39.0</td>\n",
       "      <td>Maine</td>\n",
       "      <td>11.500</td>\n",
       "      <td>15371.0</td>\n",
       "      <td>2014</td>\n",
       "      <td>1330089</td>\n",
       "      <td>1700</td>\n",
       "      <td>21.0</td>\n",
       "      <td>360.0</td>\n",
       "      <td>485.0</td>\n",
       "      <td>...</td>\n",
       "      <td>36.5</td>\n",
       "      <td>22.9</td>\n",
       "      <td>66.9</td>\n",
       "      <td>1986.4</td>\n",
       "      <td>378.2</td>\n",
       "      <td>1548.2</td>\n",
       "      <td>60.1</td>\n",
       "      <td>11.6</td>\n",
       "      <td>11.60</td>\n",
       "      <td>11.2</td>\n",
       "    </tr>\n",
       "    <tr>\n",
       "      <th>Washington</th>\n",
       "      <td>35.0</td>\n",
       "      <td>Washington</td>\n",
       "      <td>12.400</td>\n",
       "      <td>91835.0</td>\n",
       "      <td>2014</td>\n",
       "      <td>7061530</td>\n",
       "      <td>20136</td>\n",
       "      <td>174.0</td>\n",
       "      <td>2171.0</td>\n",
       "      <td>2695.0</td>\n",
       "      <td>...</td>\n",
       "      <td>38.2</td>\n",
       "      <td>79.9</td>\n",
       "      <td>164.7</td>\n",
       "      <td>3706.1</td>\n",
       "      <td>783.0</td>\n",
       "      <td>2489.1</td>\n",
       "      <td>434.0</td>\n",
       "      <td>10.3</td>\n",
       "      <td>11.90</td>\n",
       "      <td>12.2</td>\n",
       "    </tr>\n",
       "    <tr>\n",
       "      <th>Minnesota</th>\n",
       "      <td>34.0</td>\n",
       "      <td>Minnesota</td>\n",
       "      <td>14.220</td>\n",
       "      <td>79307.0</td>\n",
       "      <td>2014</td>\n",
       "      <td>5457173</td>\n",
       "      <td>12505</td>\n",
       "      <td>88.0</td>\n",
       "      <td>1452.0</td>\n",
       "      <td>2001.0</td>\n",
       "      <td>...</td>\n",
       "      <td>36.7</td>\n",
       "      <td>67.6</td>\n",
       "      <td>123.3</td>\n",
       "      <td>2297.5</td>\n",
       "      <td>380.7</td>\n",
       "      <td>1763.5</td>\n",
       "      <td>153.3</td>\n",
       "      <td>9.6</td>\n",
       "      <td>12.10</td>\n",
       "      <td>9.7</td>\n",
       "    </tr>\n",
       "    <tr>\n",
       "      <th>Alaska</th>\n",
       "      <td>15.0</td>\n",
       "      <td>Alaska</td>\n",
       "      <td>21.380</td>\n",
       "      <td>15824.0</td>\n",
       "      <td>2014</td>\n",
       "      <td>736732</td>\n",
       "      <td>4684</td>\n",
       "      <td>41.0</td>\n",
       "      <td>555.0</td>\n",
       "      <td>771.0</td>\n",
       "      <td>...</td>\n",
       "      <td>104.7</td>\n",
       "      <td>85.4</td>\n",
       "      <td>440.2</td>\n",
       "      <td>2760.0</td>\n",
       "      <td>427.6</td>\n",
       "      <td>2096.4</td>\n",
       "      <td>236.0</td>\n",
       "      <td>10.9</td>\n",
       "      <td>12.10</td>\n",
       "      <td>12.5</td>\n",
       "    </tr>\n",
       "    <tr>\n",
       "      <th>Delaware</th>\n",
       "      <td>49.0</td>\n",
       "      <td>Delaware</td>\n",
       "      <td>5.040</td>\n",
       "      <td>4852.0</td>\n",
       "      <td>2014</td>\n",
       "      <td>935614</td>\n",
       "      <td>4576</td>\n",
       "      <td>54.0</td>\n",
       "      <td>249.0</td>\n",
       "      <td>386.0</td>\n",
       "      <td>...</td>\n",
       "      <td>41.3</td>\n",
       "      <td>135.6</td>\n",
       "      <td>306.4</td>\n",
       "      <td>2982.0</td>\n",
       "      <td>616.5</td>\n",
       "      <td>2230.1</td>\n",
       "      <td>135.4</td>\n",
       "      <td>12.5</td>\n",
       "      <td>12.40</td>\n",
       "      <td>13.9</td>\n",
       "    </tr>\n",
       "    <tr>\n",
       "      <th>Colorado</th>\n",
       "      <td>28.0</td>\n",
       "      <td>Colorado</td>\n",
       "      <td>16.480</td>\n",
       "      <td>92435.0</td>\n",
       "      <td>2014</td>\n",
       "      <td>5355866</td>\n",
       "      <td>16554</td>\n",
       "      <td>151.0</td>\n",
       "      <td>2121.0</td>\n",
       "      <td>3039.0</td>\n",
       "      <td>...</td>\n",
       "      <td>56.7</td>\n",
       "      <td>56.7</td>\n",
       "      <td>192.8</td>\n",
       "      <td>2530.1</td>\n",
       "      <td>438.2</td>\n",
       "      <td>1857.1</td>\n",
       "      <td>234.8</td>\n",
       "      <td>9.6</td>\n",
       "      <td>12.40</td>\n",
       "      <td>13.7</td>\n",
       "    </tr>\n",
       "    <tr>\n",
       "      <th>Hawaii</th>\n",
       "      <td>47.0</td>\n",
       "      <td>Hawaii</td>\n",
       "      <td>5.500</td>\n",
       "      <td>7859.0</td>\n",
       "      <td>2014</td>\n",
       "      <td>1419561</td>\n",
       "      <td>3680</td>\n",
       "      <td>26.0</td>\n",
       "      <td>314.0</td>\n",
       "      <td>445.0</td>\n",
       "      <td>...</td>\n",
       "      <td>31.3</td>\n",
       "      <td>78.0</td>\n",
       "      <td>148.1</td>\n",
       "      <td>3050.0</td>\n",
       "      <td>547.9</td>\n",
       "      <td>2228.9</td>\n",
       "      <td>273.3</td>\n",
       "      <td>8.8</td>\n",
       "      <td>12.60</td>\n",
       "      <td>17.3</td>\n",
       "    </tr>\n",
       "    <tr>\n",
       "      <th>Oklahoma</th>\n",
       "      <td>23.0</td>\n",
       "      <td>Oklahoma</td>\n",
       "      <td>18.130</td>\n",
       "      <td>71269.0</td>\n",
       "      <td>2014</td>\n",
       "      <td>3878051</td>\n",
       "      <td>15744</td>\n",
       "      <td>175.0</td>\n",
       "      <td>1277.0</td>\n",
       "      <td>1777.0</td>\n",
       "      <td>...</td>\n",
       "      <td>45.8</td>\n",
       "      <td>78.6</td>\n",
       "      <td>277.0</td>\n",
       "      <td>2990.7</td>\n",
       "      <td>760.9</td>\n",
       "      <td>1956.9</td>\n",
       "      <td>272.9</td>\n",
       "      <td>15.6</td>\n",
       "      <td>13.00</td>\n",
       "      <td>13.4</td>\n",
       "    </tr>\n",
       "    <tr>\n",
       "      <th>Nevada</th>\n",
       "      <td>9.0</td>\n",
       "      <td>Nevada</td>\n",
       "      <td>25.640</td>\n",
       "      <td>76888.0</td>\n",
       "      <td>2014</td>\n",
       "      <td>2839099</td>\n",
       "      <td>18045</td>\n",
       "      <td>170.0</td>\n",
       "      <td>995.0</td>\n",
       "      <td>1357.0</td>\n",
       "      <td>...</td>\n",
       "      <td>47.8</td>\n",
       "      <td>209.7</td>\n",
       "      <td>372.1</td>\n",
       "      <td>2625.4</td>\n",
       "      <td>772.3</td>\n",
       "      <td>1494.3</td>\n",
       "      <td>358.7</td>\n",
       "      <td>12.9</td>\n",
       "      <td>13.10</td>\n",
       "      <td>19.8</td>\n",
       "    </tr>\n",
       "    <tr>\n",
       "      <th>Rhode_Island</th>\n",
       "      <td>50.0</td>\n",
       "      <td>Rhode_Island</td>\n",
       "      <td>3.980</td>\n",
       "      <td>37152.0</td>\n",
       "      <td>2014</td>\n",
       "      <td>1055173</td>\n",
       "      <td>2313</td>\n",
       "      <td>25.0</td>\n",
       "      <td>253.0</td>\n",
       "      <td>361.0</td>\n",
       "      <td>...</td>\n",
       "      <td>34.2</td>\n",
       "      <td>50.1</td>\n",
       "      <td>132.5</td>\n",
       "      <td>2173.6</td>\n",
       "      <td>457.1</td>\n",
       "      <td>1542.8</td>\n",
       "      <td>173.7</td>\n",
       "      <td>12.9</td>\n",
       "      <td>13.20</td>\n",
       "      <td>13.6</td>\n",
       "    </tr>\n",
       "    <tr>\n",
       "      <th>Illinois</th>\n",
       "      <td>40.0</td>\n",
       "      <td>Illinois</td>\n",
       "      <td>11.440</td>\n",
       "      <td>146487.0</td>\n",
       "      <td>2014</td>\n",
       "      <td>12880580</td>\n",
       "      <td>47663</td>\n",
       "      <td>685.0</td>\n",
       "      <td>3081.0</td>\n",
       "      <td>4159.0</td>\n",
       "      <td>...</td>\n",
       "      <td>32.3</td>\n",
       "      <td>118.8</td>\n",
       "      <td>213.7</td>\n",
       "      <td>2075.9</td>\n",
       "      <td>388.2</td>\n",
       "      <td>1552.2</td>\n",
       "      <td>135.5</td>\n",
       "      <td>12.1</td>\n",
       "      <td>13.30</td>\n",
       "      <td>15.2</td>\n",
       "    </tr>\n",
       "    <tr>\n",
       "      <th>Ohio</th>\n",
       "      <td>30.0</td>\n",
       "      <td>Ohio</td>\n",
       "      <td>14.870</td>\n",
       "      <td>173405.0</td>\n",
       "      <td>2014</td>\n",
       "      <td>11594163</td>\n",
       "      <td>33030</td>\n",
       "      <td>464.0</td>\n",
       "      <td>4097.0</td>\n",
       "      <td>5042.0</td>\n",
       "      <td>...</td>\n",
       "      <td>43.5</td>\n",
       "      <td>110.0</td>\n",
       "      <td>127.4</td>\n",
       "      <td>2799.1</td>\n",
       "      <td>680.0</td>\n",
       "      <td>1963.6</td>\n",
       "      <td>155.4</td>\n",
       "      <td>13.9</td>\n",
       "      <td>13.50</td>\n",
       "      <td>13.2</td>\n",
       "    </tr>\n",
       "    <tr>\n",
       "      <th>Montana</th>\n",
       "      <td>16.0</td>\n",
       "      <td>Montana</td>\n",
       "      <td>21.060</td>\n",
       "      <td>22133.0</td>\n",
       "      <td>2014</td>\n",
       "      <td>1023579</td>\n",
       "      <td>3313</td>\n",
       "      <td>37.0</td>\n",
       "      <td>430.0</td>\n",
       "      <td>541.0</td>\n",
       "      <td>...</td>\n",
       "      <td>52.9</td>\n",
       "      <td>19.8</td>\n",
       "      <td>247.4</td>\n",
       "      <td>2472.9</td>\n",
       "      <td>351.2</td>\n",
       "      <td>1922.1</td>\n",
       "      <td>199.6</td>\n",
       "      <td>13.0</td>\n",
       "      <td>13.50</td>\n",
       "      <td>12.1</td>\n",
       "    </tr>\n",
       "    <tr>\n",
       "      <th>New_Jersey</th>\n",
       "      <td>46.0</td>\n",
       "      <td>New_Jersey</td>\n",
       "      <td>6.380</td>\n",
       "      <td>57507.0</td>\n",
       "      <td>2014</td>\n",
       "      <td>8938175</td>\n",
       "      <td>23346</td>\n",
       "      <td>349.0</td>\n",
       "      <td>953.0</td>\n",
       "      <td>1274.0</td>\n",
       "      <td>...</td>\n",
       "      <td>14.3</td>\n",
       "      <td>117.5</td>\n",
       "      <td>125.6</td>\n",
       "      <td>1734.1</td>\n",
       "      <td>354.8</td>\n",
       "      <td>1248.3</td>\n",
       "      <td>131.0</td>\n",
       "      <td>9.5</td>\n",
       "      <td>13.70</td>\n",
       "      <td>13.9</td>\n",
       "    </tr>\n",
       "    <tr>\n",
       "      <th>South_Carolina</th>\n",
       "      <td>17.0</td>\n",
       "      <td>South_Carolina</td>\n",
       "      <td>21.010</td>\n",
       "      <td>105601.0</td>\n",
       "      <td>2014</td>\n",
       "      <td>4832482</td>\n",
       "      <td>24052</td>\n",
       "      <td>311.0</td>\n",
       "      <td>1480.0</td>\n",
       "      <td>2068.0</td>\n",
       "      <td>...</td>\n",
       "      <td>42.8</td>\n",
       "      <td>82.7</td>\n",
       "      <td>365.8</td>\n",
       "      <td>3460.3</td>\n",
       "      <td>759.9</td>\n",
       "      <td>2433.4</td>\n",
       "      <td>267.0</td>\n",
       "      <td>15.3</td>\n",
       "      <td>13.80</td>\n",
       "      <td>15.8</td>\n",
       "    </tr>\n",
       "    <tr>\n",
       "      <th>Kansas</th>\n",
       "      <td>24.0</td>\n",
       "      <td>Kansas</td>\n",
       "      <td>18.060</td>\n",
       "      <td>52634.0</td>\n",
       "      <td>2014</td>\n",
       "      <td>2904021</td>\n",
       "      <td>10123</td>\n",
       "      <td>91.0</td>\n",
       "      <td>1075.0</td>\n",
       "      <td>1411.0</td>\n",
       "      <td>...</td>\n",
       "      <td>48.6</td>\n",
       "      <td>46.9</td>\n",
       "      <td>250.0</td>\n",
       "      <td>2735.2</td>\n",
       "      <td>545.0</td>\n",
       "      <td>1952.4</td>\n",
       "      <td>237.8</td>\n",
       "      <td>12.0</td>\n",
       "      <td>13.90</td>\n",
       "      <td>11.5</td>\n",
       "    </tr>\n",
       "    <tr>\n",
       "      <th>Idaho</th>\n",
       "      <td>7.0</td>\n",
       "      <td>Idaho</td>\n",
       "      <td>28.860</td>\n",
       "      <td>49566.0</td>\n",
       "      <td>2014</td>\n",
       "      <td>1634464</td>\n",
       "      <td>3468</td>\n",
       "      <td>32.0</td>\n",
       "      <td>468.0</td>\n",
       "      <td>609.0</td>\n",
       "      <td>...</td>\n",
       "      <td>37.3</td>\n",
       "      <td>12.5</td>\n",
       "      <td>160.5</td>\n",
       "      <td>1854.8</td>\n",
       "      <td>393.3</td>\n",
       "      <td>1359.9</td>\n",
       "      <td>101.6</td>\n",
       "      <td>11.8</td>\n",
       "      <td>13.90</td>\n",
       "      <td>11.8</td>\n",
       "    </tr>\n",
       "    <tr>\n",
       "      <th>Louisiana</th>\n",
       "      <td>11.0</td>\n",
       "      <td>Louisiana</td>\n",
       "      <td>24.940</td>\n",
       "      <td>116831.0</td>\n",
       "      <td>2014</td>\n",
       "      <td>4649676</td>\n",
       "      <td>23934</td>\n",
       "      <td>477.0</td>\n",
       "      <td>992.0</td>\n",
       "      <td>1375.0</td>\n",
       "      <td>...</td>\n",
       "      <td>29.6</td>\n",
       "      <td>122.5</td>\n",
       "      <td>352.4</td>\n",
       "      <td>3458.8</td>\n",
       "      <td>824.5</td>\n",
       "      <td>2421.6</td>\n",
       "      <td>212.7</td>\n",
       "      <td>18.6</td>\n",
       "      <td>14.30</td>\n",
       "      <td>18.5</td>\n",
       "    </tr>\n",
       "    <tr>\n",
       "      <th>South_Dakota</th>\n",
       "      <td>12.0</td>\n",
       "      <td>South_Dakota</td>\n",
       "      <td>24.290</td>\n",
       "      <td>21130.0</td>\n",
       "      <td>2014</td>\n",
       "      <td>853175</td>\n",
       "      <td>2786</td>\n",
       "      <td>20.0</td>\n",
       "      <td>413.0</td>\n",
       "      <td>470.0</td>\n",
       "      <td>...</td>\n",
       "      <td>55.1</td>\n",
       "      <td>23.4</td>\n",
       "      <td>245.7</td>\n",
       "      <td>1863.9</td>\n",
       "      <td>330.3</td>\n",
       "      <td>1415.5</td>\n",
       "      <td>118.0</td>\n",
       "      <td>13.1</td>\n",
       "      <td>14.30</td>\n",
       "      <td>10.6</td>\n",
       "    </tr>\n",
       "    <tr>\n",
       "      <th>Florida</th>\n",
       "      <td>29.0</td>\n",
       "      <td>Florida</td>\n",
       "      <td>16.350</td>\n",
       "      <td>343288.0</td>\n",
       "      <td>2014</td>\n",
       "      <td>19893297</td>\n",
       "      <td>107521</td>\n",
       "      <td>1149.0</td>\n",
       "      <td>6051.0</td>\n",
       "      <td>8563.0</td>\n",
       "      <td>...</td>\n",
       "      <td>43.0</td>\n",
       "      <td>125.2</td>\n",
       "      <td>366.4</td>\n",
       "      <td>3415.5</td>\n",
       "      <td>719.9</td>\n",
       "      <td>2481.5</td>\n",
       "      <td>214.0</td>\n",
       "      <td>13.6</td>\n",
       "      <td>14.60</td>\n",
       "      <td>19.5</td>\n",
       "    </tr>\n",
       "    <tr>\n",
       "      <th>California</th>\n",
       "      <td>44.0</td>\n",
       "      <td>California</td>\n",
       "      <td>8.710</td>\n",
       "      <td>344622.0</td>\n",
       "      <td>2014</td>\n",
       "      <td>38802500</td>\n",
       "      <td>153709</td>\n",
       "      <td>1699.0</td>\n",
       "      <td>8398.0</td>\n",
       "      <td>11527.0</td>\n",
       "      <td>...</td>\n",
       "      <td>29.7</td>\n",
       "      <td>125.5</td>\n",
       "      <td>236.6</td>\n",
       "      <td>2441.1</td>\n",
       "      <td>522.3</td>\n",
       "      <td>1527.4</td>\n",
       "      <td>391.3</td>\n",
       "      <td>12.8</td>\n",
       "      <td>15.50</td>\n",
       "      <td>23.8</td>\n",
       "    </tr>\n",
       "    <tr>\n",
       "      <th>Missouri</th>\n",
       "      <td>36.0</td>\n",
       "      <td>Missouri</td>\n",
       "      <td>11.940</td>\n",
       "      <td>72996.0</td>\n",
       "      <td>2014</td>\n",
       "      <td>6063589</td>\n",
       "      <td>26856</td>\n",
       "      <td>403.0</td>\n",
       "      <td>1706.0</td>\n",
       "      <td>2379.0</td>\n",
       "      <td>...</td>\n",
       "      <td>39.2</td>\n",
       "      <td>92.2</td>\n",
       "      <td>304.8</td>\n",
       "      <td>2906.5</td>\n",
       "      <td>581.5</td>\n",
       "      <td>2055.3</td>\n",
       "      <td>269.8</td>\n",
       "      <td>13.2</td>\n",
       "      <td>15.60</td>\n",
       "      <td>12.4</td>\n",
       "    </tr>\n",
       "    <tr>\n",
       "      <th>New_York</th>\n",
       "      <td>51.0</td>\n",
       "      <td>New_York</td>\n",
       "      <td>3.830</td>\n",
       "      <td>76207.0</td>\n",
       "      <td>2014</td>\n",
       "      <td>19746227</td>\n",
       "      <td>75398</td>\n",
       "      <td>617.0</td>\n",
       "      <td>3918.0</td>\n",
       "      <td>5433.0</td>\n",
       "      <td>...</td>\n",
       "      <td>27.5</td>\n",
       "      <td>121.8</td>\n",
       "      <td>229.4</td>\n",
       "      <td>1718.2</td>\n",
       "      <td>257.2</td>\n",
       "      <td>1381.4</td>\n",
       "      <td>79.7</td>\n",
       "      <td>13.6</td>\n",
       "      <td>15.90</td>\n",
       "      <td>18.1</td>\n",
       "    </tr>\n",
       "    <tr>\n",
       "      <th>West_Virginia</th>\n",
       "      <td>19.0</td>\n",
       "      <td>West_Virginia</td>\n",
       "      <td>19.420</td>\n",
       "      <td>35264.0</td>\n",
       "      <td>2014</td>\n",
       "      <td>1850326</td>\n",
       "      <td>5588</td>\n",
       "      <td>74.0</td>\n",
       "      <td>285.0</td>\n",
       "      <td>505.0</td>\n",
       "      <td>...</td>\n",
       "      <td>27.3</td>\n",
       "      <td>35.2</td>\n",
       "      <td>235.5</td>\n",
       "      <td>2034.7</td>\n",
       "      <td>484.9</td>\n",
       "      <td>1447.3</td>\n",
       "      <td>102.5</td>\n",
       "      <td>17.8</td>\n",
       "      <td>16.00</td>\n",
       "      <td>12.9</td>\n",
       "    </tr>\n",
       "    <tr>\n",
       "      <th>Indiana</th>\n",
       "      <td>26.0</td>\n",
       "      <td>Indiana</td>\n",
       "      <td>17.100</td>\n",
       "      <td>114019.0</td>\n",
       "      <td>2014</td>\n",
       "      <td>6596855</td>\n",
       "      <td>24099</td>\n",
       "      <td>330.0</td>\n",
       "      <td>1615.0</td>\n",
       "      <td>2186.0</td>\n",
       "      <td>...</td>\n",
       "      <td>33.1</td>\n",
       "      <td>104.5</td>\n",
       "      <td>222.6</td>\n",
       "      <td>2649.4</td>\n",
       "      <td>559.3</td>\n",
       "      <td>1880.0</td>\n",
       "      <td>210.1</td>\n",
       "      <td>13.1</td>\n",
       "      <td>16.40</td>\n",
       "      <td>14.2</td>\n",
       "    </tr>\n",
       "    <tr>\n",
       "      <th>Tennessee</th>\n",
       "      <td>33.0</td>\n",
       "      <td>Tennessee</td>\n",
       "      <td>14.760</td>\n",
       "      <td>99159.0</td>\n",
       "      <td>2014</td>\n",
       "      <td>6549352</td>\n",
       "      <td>39848</td>\n",
       "      <td>371.0</td>\n",
       "      <td>1861.0</td>\n",
       "      <td>2531.0</td>\n",
       "      <td>...</td>\n",
       "      <td>38.6</td>\n",
       "      <td>110.9</td>\n",
       "      <td>453.2</td>\n",
       "      <td>3060.6</td>\n",
       "      <td>712.2</td>\n",
       "      <td>2156.0</td>\n",
       "      <td>192.4</td>\n",
       "      <td>15.3</td>\n",
       "      <td>16.70</td>\n",
       "      <td>15.5</td>\n",
       "    </tr>\n",
       "    <tr>\n",
       "      <th>Alabama</th>\n",
       "      <td>6.0</td>\n",
       "      <td>Alabama</td>\n",
       "      <td>33.150</td>\n",
       "      <td>161641.0</td>\n",
       "      <td>2014</td>\n",
       "      <td>4849377</td>\n",
       "      <td>20727</td>\n",
       "      <td>276.0</td>\n",
       "      <td>1436.0</td>\n",
       "      <td>2005.0</td>\n",
       "      <td>...</td>\n",
       "      <td>41.3</td>\n",
       "      <td>96.9</td>\n",
       "      <td>283.4</td>\n",
       "      <td>3177.6</td>\n",
       "      <td>819.0</td>\n",
       "      <td>2149.5</td>\n",
       "      <td>209.1</td>\n",
       "      <td>16.8</td>\n",
       "      <td>16.80</td>\n",
       "      <td>13.5</td>\n",
       "    </tr>\n",
       "    <tr>\n",
       "      <th>North_Carolina</th>\n",
       "      <td>31.0</td>\n",
       "      <td>North_Carolina</td>\n",
       "      <td>14.818</td>\n",
       "      <td>152238.0</td>\n",
       "      <td>2014</td>\n",
       "      <td>9943964</td>\n",
       "      <td>32767</td>\n",
       "      <td>510.0</td>\n",
       "      <td>1740.0</td>\n",
       "      <td>2420.0</td>\n",
       "      <td>...</td>\n",
       "      <td>24.3</td>\n",
       "      <td>84.6</td>\n",
       "      <td>215.4</td>\n",
       "      <td>2873.1</td>\n",
       "      <td>798.2</td>\n",
       "      <td>1937.8</td>\n",
       "      <td>137.1</td>\n",
       "      <td>14.0</td>\n",
       "      <td>17.00</td>\n",
       "      <td>14.2</td>\n",
       "    </tr>\n",
       "    <tr>\n",
       "      <th>Kentucky</th>\n",
       "      <td>22.0</td>\n",
       "      <td>Kentucky</td>\n",
       "      <td>18.200</td>\n",
       "      <td>81068.0</td>\n",
       "      <td>2014</td>\n",
       "      <td>4413457</td>\n",
       "      <td>9340</td>\n",
       "      <td>160.0</td>\n",
       "      <td>883.0</td>\n",
       "      <td>1440.0</td>\n",
       "      <td>...</td>\n",
       "      <td>32.6</td>\n",
       "      <td>75.6</td>\n",
       "      <td>99.8</td>\n",
       "      <td>2246.9</td>\n",
       "      <td>526.7</td>\n",
       "      <td>1577.1</td>\n",
       "      <td>143.2</td>\n",
       "      <td>16.9</td>\n",
       "      <td>17.10</td>\n",
       "      <td>13.6</td>\n",
       "    </tr>\n",
       "    <tr>\n",
       "      <th>Texas</th>\n",
       "      <td>18.0</td>\n",
       "      <td>Texas</td>\n",
       "      <td>20.790</td>\n",
       "      <td>588696.0</td>\n",
       "      <td>2014</td>\n",
       "      <td>26956958</td>\n",
       "      <td>109414</td>\n",
       "      <td>1184.0</td>\n",
       "      <td>8236.0</td>\n",
       "      <td>11393.0</td>\n",
       "      <td>...</td>\n",
       "      <td>42.3</td>\n",
       "      <td>115.7</td>\n",
       "      <td>243.6</td>\n",
       "      <td>3019.4</td>\n",
       "      <td>627.8</td>\n",
       "      <td>2137.3</td>\n",
       "      <td>254.3</td>\n",
       "      <td>14.9</td>\n",
       "      <td>17.40</td>\n",
       "      <td>16.4</td>\n",
       "    </tr>\n",
       "    <tr>\n",
       "      <th>DC</th>\n",
       "      <td>2.0</td>\n",
       "      <td>DC</td>\n",
       "      <td>68.050</td>\n",
       "      <td>47228.0</td>\n",
       "      <td>2014</td>\n",
       "      <td>658893</td>\n",
       "      <td>8199</td>\n",
       "      <td>105.0</td>\n",
       "      <td>352.0</td>\n",
       "      <td>472.0</td>\n",
       "      <td>...</td>\n",
       "      <td>71.6</td>\n",
       "      <td>530.7</td>\n",
       "      <td>626.1</td>\n",
       "      <td>5182.5</td>\n",
       "      <td>526.0</td>\n",
       "      <td>4082.3</td>\n",
       "      <td>574.1</td>\n",
       "      <td>16.2</td>\n",
       "      <td>18.00</td>\n",
       "      <td>22.7</td>\n",
       "    </tr>\n",
       "    <tr>\n",
       "      <th>Georgia</th>\n",
       "      <td>21.0</td>\n",
       "      <td>Georgia</td>\n",
       "      <td>18.220</td>\n",
       "      <td>190050.0</td>\n",
       "      <td>2014</td>\n",
       "      <td>10097343</td>\n",
       "      <td>38097</td>\n",
       "      <td>580.0</td>\n",
       "      <td>2159.0</td>\n",
       "      <td>3048.0</td>\n",
       "      <td>...</td>\n",
       "      <td>30.2</td>\n",
       "      <td>123.0</td>\n",
       "      <td>218.4</td>\n",
       "      <td>3281.2</td>\n",
       "      <td>756.9</td>\n",
       "      <td>2258.4</td>\n",
       "      <td>266.0</td>\n",
       "      <td>14.3</td>\n",
       "      <td>18.50</td>\n",
       "      <td>18.2</td>\n",
       "    </tr>\n",
       "    <tr>\n",
       "      <th>Arkansas</th>\n",
       "      <td>8.0</td>\n",
       "      <td>Arkansas</td>\n",
       "      <td>26.570</td>\n",
       "      <td>79841.0</td>\n",
       "      <td>2014</td>\n",
       "      <td>2966369</td>\n",
       "      <td>14243</td>\n",
       "      <td>165.0</td>\n",
       "      <td>1182.0</td>\n",
       "      <td>1763.0</td>\n",
       "      <td>...</td>\n",
       "      <td>59.4</td>\n",
       "      <td>69.1</td>\n",
       "      <td>346.0</td>\n",
       "      <td>3338.0</td>\n",
       "      <td>835.7</td>\n",
       "      <td>2313.5</td>\n",
       "      <td>188.8</td>\n",
       "      <td>17.2</td>\n",
       "      <td>19.10</td>\n",
       "      <td>16.5</td>\n",
       "    </tr>\n",
       "    <tr>\n",
       "      <th>New_Mexico</th>\n",
       "      <td>4.0</td>\n",
       "      <td>New_Mexico</td>\n",
       "      <td>46.730</td>\n",
       "      <td>97580.0</td>\n",
       "      <td>2014</td>\n",
       "      <td>2085572</td>\n",
       "      <td>12459</td>\n",
       "      <td>101.0</td>\n",
       "      <td>1071.0</td>\n",
       "      <td>1475.0</td>\n",
       "      <td>...</td>\n",
       "      <td>70.7</td>\n",
       "      <td>100.0</td>\n",
       "      <td>421.8</td>\n",
       "      <td>3542.3</td>\n",
       "      <td>887.3</td>\n",
       "      <td>2353.4</td>\n",
       "      <td>301.6</td>\n",
       "      <td>19.5</td>\n",
       "      <td>19.60</td>\n",
       "      <td>16.1</td>\n",
       "    </tr>\n",
       "    <tr>\n",
       "      <th>Arizona</th>\n",
       "      <td>10.0</td>\n",
       "      <td>Arizona</td>\n",
       "      <td>25.610</td>\n",
       "      <td>179738.0</td>\n",
       "      <td>2014</td>\n",
       "      <td>6731484</td>\n",
       "      <td>26916</td>\n",
       "      <td>319.0</td>\n",
       "      <td>2464.0</td>\n",
       "      <td>3378.0</td>\n",
       "      <td>...</td>\n",
       "      <td>50.2</td>\n",
       "      <td>92.8</td>\n",
       "      <td>252.1</td>\n",
       "      <td>3197.5</td>\n",
       "      <td>647.1</td>\n",
       "      <td>2289.1</td>\n",
       "      <td>261.3</td>\n",
       "      <td>14.0</td>\n",
       "      <td>21.30</td>\n",
       "      <td>18.8</td>\n",
       "    </tr>\n",
       "    <tr>\n",
       "      <th>Mississippi</th>\n",
       "      <td>37.0</td>\n",
       "      <td>Mississippi</td>\n",
       "      <td>11.890</td>\n",
       "      <td>35494.0</td>\n",
       "      <td>2014</td>\n",
       "      <td>2994079</td>\n",
       "      <td>8338</td>\n",
       "      <td>258.0</td>\n",
       "      <td>764.0</td>\n",
       "      <td>1058.0</td>\n",
       "      <td>...</td>\n",
       "      <td>35.3</td>\n",
       "      <td>81.2</td>\n",
       "      <td>153.4</td>\n",
       "      <td>2921.2</td>\n",
       "      <td>813.3</td>\n",
       "      <td>1956.9</td>\n",
       "      <td>150.9</td>\n",
       "      <td>19.7</td>\n",
       "      <td>23.20</td>\n",
       "      <td>16.1</td>\n",
       "    </tr>\n",
       "    <tr>\n",
       "      <th>Michigan</th>\n",
       "      <td>45.0</td>\n",
       "      <td>Michigan</td>\n",
       "      <td>6.590</td>\n",
       "      <td>65742.0</td>\n",
       "      <td>2014</td>\n",
       "      <td>9909877</td>\n",
       "      <td>42348</td>\n",
       "      <td>535.0</td>\n",
       "      <td>4049.0</td>\n",
       "      <td>6273.0</td>\n",
       "      <td>...</td>\n",
       "      <td>63.3</td>\n",
       "      <td>80.9</td>\n",
       "      <td>277.7</td>\n",
       "      <td>2043.9</td>\n",
       "      <td>445.9</td>\n",
       "      <td>1384.5</td>\n",
       "      <td>213.5</td>\n",
       "      <td>14.1</td>\n",
       "      <td>27.60</td>\n",
       "      <td>13.5</td>\n",
       "    </tr>\n",
       "  </tbody>\n",
       "</table>\n",
       "<p>51 rows × 29 columns</p>\n",
       "</div>"
      ],
      "text/plain": [
       "                Rank           State  # of guns per capita  \\\n",
       "State                                                        \n",
       "Oregon          32.0          Oregon                14.816   \n",
       "Wyoming          1.0         Wyoming               229.240   \n",
       "New_Hampshire    3.0   New_Hampshire                46.760   \n",
       "Maryland        27.0        Maryland                17.030   \n",
       "Vermont         42.0         Vermont                 9.410   \n",
       "Utah            13.0            Utah                23.480   \n",
       "Nebraska        38.0        Nebraska                11.570   \n",
       "Connecticut     14.0     Connecticut                22.960   \n",
       "Virginia         5.0        Virginia                36.340   \n",
       "Massachusetts   48.0   Massachusetts                 5.410   \n",
       "Iowa            43.0            Iowa                 9.050   \n",
       "North_Dakota    25.0    North_Dakota                17.560   \n",
       "Wisconsin       41.0       Wisconsin                11.190   \n",
       "Pennsylvania    20.0    Pennsylvania                18.450   \n",
       "Maine           39.0           Maine                11.500   \n",
       "Washington      35.0      Washington                12.400   \n",
       "Minnesota       34.0       Minnesota                14.220   \n",
       "Alaska          15.0          Alaska                21.380   \n",
       "Delaware        49.0        Delaware                 5.040   \n",
       "Colorado        28.0        Colorado                16.480   \n",
       "Hawaii          47.0          Hawaii                 5.500   \n",
       "Oklahoma        23.0        Oklahoma                18.130   \n",
       "Nevada           9.0          Nevada                25.640   \n",
       "Rhode_Island    50.0    Rhode_Island                 3.980   \n",
       "Illinois        40.0        Illinois                11.440   \n",
       "Ohio            30.0            Ohio                14.870   \n",
       "Montana         16.0         Montana                21.060   \n",
       "New_Jersey      46.0      New_Jersey                 6.380   \n",
       "South_Carolina  17.0  South_Carolina                21.010   \n",
       "Kansas          24.0          Kansas                18.060   \n",
       "Idaho            7.0           Idaho                28.860   \n",
       "Louisiana       11.0       Louisiana                24.940   \n",
       "South_Dakota    12.0    South_Dakota                24.290   \n",
       "Florida         29.0         Florida                16.350   \n",
       "California      44.0      California                 8.710   \n",
       "Missouri        36.0        Missouri                11.940   \n",
       "New_York        51.0        New_York                 3.830   \n",
       "West_Virginia   19.0   West_Virginia                19.420   \n",
       "Indiana         26.0         Indiana                17.100   \n",
       "Tennessee       33.0       Tennessee                14.760   \n",
       "Alabama          6.0         Alabama                33.150   \n",
       "North_Carolina  31.0  North_Carolina                14.818   \n",
       "Kentucky        22.0        Kentucky                18.200   \n",
       "Texas           18.0           Texas                20.790   \n",
       "DC               2.0              DC                68.050   \n",
       "Georgia         21.0         Georgia                18.220   \n",
       "Arkansas         8.0        Arkansas                26.570   \n",
       "New_Mexico       4.0      New_Mexico                46.730   \n",
       "Arizona         10.0         Arizona                25.610   \n",
       "Mississippi     37.0     Mississippi                11.890   \n",
       "Michigan        45.0        Michigan                 6.590   \n",
       "\n",
       "                # of guns registered  Year   Population Violent crime total  \\\n",
       "State                                                                         \n",
       "Oregon                       61383.0  2014      3970239                9224   \n",
       "Wyoming                     132806.0  2014       584153                1142   \n",
       "New_Hampshire                64135.0  2014      1326813                2602   \n",
       "Maryland                    103109.0  2014      5976407               26661   \n",
       "Vermont                       5872.0  2014       626562                 622   \n",
       "Utah                         72856.0  2014      2942902                6346   \n",
       "Nebraska                     22234.0  2014      1881503                5275   \n",
       "Connecticut                  82400.0  2014      3596677                8522   \n",
       "Virginia                    307822.0  2014      8326289               16340   \n",
       "Massachusetts                37152.0  2014      6745408               26399   \n",
       "Iowa                         28494.0  2014      3107126                8497   \n",
       "North_Dakota                 13272.0  2014       739482                1960   \n",
       "Wisconsin                    64878.0  2014      5757564               16714   \n",
       "Pennsylvania                236377.0  2014     12787209               40164   \n",
       "Maine                        15371.0  2014      1330089                1700   \n",
       "Washington                   91835.0  2014      7061530               20136   \n",
       "Minnesota                    79307.0  2014      5457173               12505   \n",
       "Alaska                       15824.0  2014       736732                4684   \n",
       "Delaware                      4852.0  2014       935614                4576   \n",
       "Colorado                     92435.0  2014      5355866               16554   \n",
       "Hawaii                        7859.0  2014      1419561                3680   \n",
       "Oklahoma                     71269.0  2014      3878051               15744   \n",
       "Nevada                       76888.0  2014      2839099               18045   \n",
       "Rhode_Island                 37152.0  2014      1055173                2313   \n",
       "Illinois                    146487.0  2014     12880580               47663   \n",
       "Ohio                        173405.0  2014     11594163               33030   \n",
       "Montana                      22133.0  2014      1023579                3313   \n",
       "New_Jersey                   57507.0  2014      8938175               23346   \n",
       "South_Carolina              105601.0  2014      4832482               24052   \n",
       "Kansas                       52634.0  2014      2904021               10123   \n",
       "Idaho                        49566.0  2014      1634464                3468   \n",
       "Louisiana                   116831.0  2014      4649676               23934   \n",
       "South_Dakota                 21130.0  2014       853175                2786   \n",
       "Florida                     343288.0  2014     19893297              107521   \n",
       "California                  344622.0  2014     38802500              153709   \n",
       "Missouri                     72996.0  2014      6063589               26856   \n",
       "New_York                     76207.0  2014     19746227               75398   \n",
       "West_Virginia                35264.0  2014      1850326                5588   \n",
       "Indiana                     114019.0  2014      6596855               24099   \n",
       "Tennessee                    99159.0  2014      6549352               39848   \n",
       "Alabama                     161641.0  2014      4849377               20727   \n",
       "North_Carolina              152238.0  2014      9943964               32767   \n",
       "Kentucky                     81068.0  2014      4413457                9340   \n",
       "Texas                       588696.0  2014     26956958              109414   \n",
       "DC                           47228.0  2014       658893                8199   \n",
       "Georgia                     190050.0  2014     10097343               38097   \n",
       "Arkansas                     79841.0  2014      2966369               14243   \n",
       "New_Mexico                   97580.0  2014      2085572               12459   \n",
       "Arizona                     179738.0  2014      6731484               26916   \n",
       "Mississippi                  35494.0  2014      2994079                8338   \n",
       "Michigan                     65742.0  2014      9909877               42348   \n",
       "\n",
       "                Murder and nonnegligent Manslaughter  Legacy rape /1  \\\n",
       "State                                                                  \n",
       "Oregon                                          81.0          1052.0   \n",
       "Wyoming                                         16.0           126.0   \n",
       "New_Hampshire                                   12.0           458.0   \n",
       "Maryland                                       365.0          1144.0   \n",
       "Vermont                                         10.0            99.0   \n",
       "Utah                                            67.0           945.0   \n",
       "Nebraska                                        54.0           620.0   \n",
       "Connecticut                                     86.0           571.0   \n",
       "Virginia                                       338.0          1432.0   \n",
       "Massachusetts                                  132.0          1629.0   \n",
       "Iowa                                            60.0           828.0   \n",
       "North_Dakota                                    22.0           276.0   \n",
       "Wisconsin                                      165.0          1168.0   \n",
       "Pennsylvania                                   614.0          2787.0   \n",
       "Maine                                           21.0           360.0   \n",
       "Washington                                     174.0          2171.0   \n",
       "Minnesota                                       88.0          1452.0   \n",
       "Alaska                                          41.0           555.0   \n",
       "Delaware                                        54.0           249.0   \n",
       "Colorado                                       151.0          2121.0   \n",
       "Hawaii                                          26.0           314.0   \n",
       "Oklahoma                                       175.0          1277.0   \n",
       "Nevada                                         170.0           995.0   \n",
       "Rhode_Island                                    25.0           253.0   \n",
       "Illinois                                       685.0          3081.0   \n",
       "Ohio                                           464.0          4097.0   \n",
       "Montana                                         37.0           430.0   \n",
       "New_Jersey                                     349.0           953.0   \n",
       "South_Carolina                                 311.0          1480.0   \n",
       "Kansas                                          91.0          1075.0   \n",
       "Idaho                                           32.0           468.0   \n",
       "Louisiana                                      477.0           992.0   \n",
       "South_Dakota                                    20.0           413.0   \n",
       "Florida                                       1149.0          6051.0   \n",
       "California                                    1699.0          8398.0   \n",
       "Missouri                                       403.0          1706.0   \n",
       "New_York                                       617.0          3918.0   \n",
       "West_Virginia                                   74.0           285.0   \n",
       "Indiana                                        330.0          1615.0   \n",
       "Tennessee                                      371.0          1861.0   \n",
       "Alabama                                        276.0          1436.0   \n",
       "North_Carolina                                 510.0          1740.0   \n",
       "Kentucky                                       160.0           883.0   \n",
       "Texas                                         1184.0          8236.0   \n",
       "DC                                             105.0           352.0   \n",
       "Georgia                                        580.0          2159.0   \n",
       "Arkansas                                       165.0          1182.0   \n",
       "New_Mexico                                     101.0          1071.0   \n",
       "Arizona                                        319.0          2464.0   \n",
       "Mississippi                                    258.0           764.0   \n",
       "Michigan                                       535.0          4049.0   \n",
       "\n",
       "                Revised rape /2  ...  Revised rape rate /2  Robbery rate  \\\n",
       "State                            ...                                       \n",
       "Oregon                   1458.0  ...                  36.7          52.7   \n",
       "Wyoming                   174.0  ...                  29.8           9.1   \n",
       "New_Hampshire             594.0  ...                  44.8          40.5   \n",
       "Maryland                 1619.0  ...                  27.1         159.7   \n",
       "Vermont                   110.0  ...                  17.6          11.2   \n",
       "Utah                     1454.0  ...                  49.4          44.6   \n",
       "Nebraska                  862.0  ...                  45.8          55.4   \n",
       "Connecticut               782.0  ...                  21.7          87.8   \n",
       "Virginia                 2310.0  ...                  27.7          51.5   \n",
       "Massachusetts            2180.0  ...                  32.3          89.5   \n",
       "Iowa                     1128.0  ...                  36.3          33.6   \n",
       "North_Dakota              358.0  ...                  48.4          23.4   \n",
       "Wisconsin                1674.0  ...                  29.1          88.0   \n",
       "Pennsylvania             3827.0  ...                  29.9         105.8   \n",
       "Maine                     485.0  ...                  36.5          22.9   \n",
       "Washington               2695.0  ...                  38.2          79.9   \n",
       "Minnesota                2001.0  ...                  36.7          67.6   \n",
       "Alaska                    771.0  ...                 104.7          85.4   \n",
       "Delaware                  386.0  ...                  41.3         135.6   \n",
       "Colorado                 3039.0  ...                  56.7          56.7   \n",
       "Hawaii                    445.0  ...                  31.3          78.0   \n",
       "Oklahoma                 1777.0  ...                  45.8          78.6   \n",
       "Nevada                   1357.0  ...                  47.8         209.7   \n",
       "Rhode_Island              361.0  ...                  34.2          50.1   \n",
       "Illinois                 4159.0  ...                  32.3         118.8   \n",
       "Ohio                     5042.0  ...                  43.5         110.0   \n",
       "Montana                   541.0  ...                  52.9          19.8   \n",
       "New_Jersey               1274.0  ...                  14.3         117.5   \n",
       "South_Carolina           2068.0  ...                  42.8          82.7   \n",
       "Kansas                   1411.0  ...                  48.6          46.9   \n",
       "Idaho                     609.0  ...                  37.3          12.5   \n",
       "Louisiana                1375.0  ...                  29.6         122.5   \n",
       "South_Dakota              470.0  ...                  55.1          23.4   \n",
       "Florida                  8563.0  ...                  43.0         125.2   \n",
       "California              11527.0  ...                  29.7         125.5   \n",
       "Missouri                 2379.0  ...                  39.2          92.2   \n",
       "New_York                 5433.0  ...                  27.5         121.8   \n",
       "West_Virginia             505.0  ...                  27.3          35.2   \n",
       "Indiana                  2186.0  ...                  33.1         104.5   \n",
       "Tennessee                2531.0  ...                  38.6         110.9   \n",
       "Alabama                  2005.0  ...                  41.3          96.9   \n",
       "North_Carolina           2420.0  ...                  24.3          84.6   \n",
       "Kentucky                 1440.0  ...                  32.6          75.6   \n",
       "Texas                   11393.0  ...                  42.3         115.7   \n",
       "DC                        472.0  ...                  71.6         530.7   \n",
       "Georgia                  3048.0  ...                  30.2         123.0   \n",
       "Arkansas                 1763.0  ...                  59.4          69.1   \n",
       "New_Mexico               1475.0  ...                  70.7         100.0   \n",
       "Arizona                  3378.0  ...                  50.2          92.8   \n",
       "Mississippi              1058.0  ...                  35.3          81.2   \n",
       "Michigan                 6273.0  ...                  63.3          80.9   \n",
       "\n",
       "                Aggravated assault rate  Property crime rate  Burglary rate  \\\n",
       "State                                                                         \n",
       "Oregon                            140.8               2879.0          434.0   \n",
       "Wyoming                           153.9               1964.7          289.1   \n",
       "New_Hampshire                     110.0               1962.7          313.7   \n",
       "Maryland                          253.2               2507.5          468.7   \n",
       "Vermont                            68.9               1524.4          324.6   \n",
       "Utah                              119.4               2878.5          391.4   \n",
       "Nebraska                          176.2               2523.5          422.5   \n",
       "Connecticut                       125.0               1920.4          332.4   \n",
       "Virginia                          112.9               1930.3          277.7   \n",
       "Massachusetts                     267.6               1857.1          370.1   \n",
       "Iowa                              201.6               2093.8          464.4   \n",
       "North_Dakota                      190.3               2110.3          366.1   \n",
       "Wisconsin                         170.4               2088.3          368.5   \n",
       "Pennsylvania                      173.5               1931.7          357.5   \n",
       "Maine                              66.9               1986.4          378.2   \n",
       "Washington                        164.7               3706.1          783.0   \n",
       "Minnesota                         123.3               2297.5          380.7   \n",
       "Alaska                            440.2               2760.0          427.6   \n",
       "Delaware                          306.4               2982.0          616.5   \n",
       "Colorado                          192.8               2530.1          438.2   \n",
       "Hawaii                            148.1               3050.0          547.9   \n",
       "Oklahoma                          277.0               2990.7          760.9   \n",
       "Nevada                            372.1               2625.4          772.3   \n",
       "Rhode_Island                      132.5               2173.6          457.1   \n",
       "Illinois                          213.7               2075.9          388.2   \n",
       "Ohio                              127.4               2799.1          680.0   \n",
       "Montana                           247.4               2472.9          351.2   \n",
       "New_Jersey                        125.6               1734.1          354.8   \n",
       "South_Carolina                    365.8               3460.3          759.9   \n",
       "Kansas                            250.0               2735.2          545.0   \n",
       "Idaho                             160.5               1854.8          393.3   \n",
       "Louisiana                         352.4               3458.8          824.5   \n",
       "South_Dakota                      245.7               1863.9          330.3   \n",
       "Florida                           366.4               3415.5          719.9   \n",
       "California                        236.6               2441.1          522.3   \n",
       "Missouri                          304.8               2906.5          581.5   \n",
       "New_York                          229.4               1718.2          257.2   \n",
       "West_Virginia                     235.5               2034.7          484.9   \n",
       "Indiana                           222.6               2649.4          559.3   \n",
       "Tennessee                         453.2               3060.6          712.2   \n",
       "Alabama                           283.4               3177.6          819.0   \n",
       "North_Carolina                    215.4               2873.1          798.2   \n",
       "Kentucky                           99.8               2246.9          526.7   \n",
       "Texas                             243.6               3019.4          627.8   \n",
       "DC                                626.1               5182.5          526.0   \n",
       "Georgia                           218.4               3281.2          756.9   \n",
       "Arkansas                          346.0               3338.0          835.7   \n",
       "New_Mexico                        421.8               3542.3          887.3   \n",
       "Arizona                           252.1               3197.5          647.1   \n",
       "Mississippi                       153.4               2921.2          813.3   \n",
       "Michigan                          277.7               2043.9          445.9   \n",
       "\n",
       "                Larceny-theft rate  Motor vehicle theft rate  \\\n",
       "State                                                          \n",
       "Oregon                      2204.6                     240.5   \n",
       "Wyoming                     1572.4                     103.2   \n",
       "New_Hampshire               1584.4                      64.6   \n",
       "Maryland                    1819.6                     219.2   \n",
       "Vermont                     1160.8                      38.9   \n",
       "Utah                        2239.1                     248.0   \n",
       "Nebraska                    1864.1                     236.8   \n",
       "Connecticut                 1418.1                     169.9   \n",
       "Virginia                    1560.5                      92.1   \n",
       "Massachusetts               1364.5                     122.5   \n",
       "Iowa                        1495.8                     133.6   \n",
       "North_Dakota                1539.5                     204.7   \n",
       "Wisconsin                   1547.6                     172.3   \n",
       "Pennsylvania                1472.2                     102.0   \n",
       "Maine                       1548.2                      60.1   \n",
       "Washington                  2489.1                     434.0   \n",
       "Minnesota                   1763.5                     153.3   \n",
       "Alaska                      2096.4                     236.0   \n",
       "Delaware                    2230.1                     135.4   \n",
       "Colorado                    1857.1                     234.8   \n",
       "Hawaii                      2228.9                     273.3   \n",
       "Oklahoma                    1956.9                     272.9   \n",
       "Nevada                      1494.3                     358.7   \n",
       "Rhode_Island                1542.8                     173.7   \n",
       "Illinois                    1552.2                     135.5   \n",
       "Ohio                        1963.6                     155.4   \n",
       "Montana                     1922.1                     199.6   \n",
       "New_Jersey                  1248.3                     131.0   \n",
       "South_Carolina              2433.4                     267.0   \n",
       "Kansas                      1952.4                     237.8   \n",
       "Idaho                       1359.9                     101.6   \n",
       "Louisiana                   2421.6                     212.7   \n",
       "South_Dakota                1415.5                     118.0   \n",
       "Florida                     2481.5                     214.0   \n",
       "California                  1527.4                     391.3   \n",
       "Missouri                    2055.3                     269.8   \n",
       "New_York                    1381.4                      79.7   \n",
       "West_Virginia               1447.3                     102.5   \n",
       "Indiana                     1880.0                     210.1   \n",
       "Tennessee                   2156.0                     192.4   \n",
       "Alabama                     2149.5                     209.1   \n",
       "North_Carolina              1937.8                     137.1   \n",
       "Kentucky                    1577.1                     143.2   \n",
       "Texas                       2137.3                     254.3   \n",
       "DC                          4082.3                     574.1   \n",
       "Georgia                     2258.4                     266.0   \n",
       "Arkansas                    2313.5                     188.8   \n",
       "New_Mexico                  2353.4                     301.6   \n",
       "Arizona                     2289.1                     261.3   \n",
       "Mississippi                 1956.9                     150.9   \n",
       "Michigan                    1384.5                     213.5   \n",
       "\n",
       "                2018 Poverty Rate  2014 Poverty Rate  \\\n",
       "State                                                  \n",
       "Oregon                       12.6               7.11   \n",
       "Wyoming                      11.1               9.30   \n",
       "New_Hampshire                 7.6               9.50   \n",
       "Maryland                      9.0               9.60   \n",
       "Vermont                      11.0               9.70   \n",
       "Utah                          9.0               9.80   \n",
       "Nebraska                     11.0              10.00   \n",
       "Connecticut                  10.4              10.60   \n",
       "Virginia                     10.7              10.80   \n",
       "Massachusetts                10.0              10.90   \n",
       "Iowa                         11.2              10.90   \n",
       "North_Dakota                 10.7              11.00   \n",
       "Wisconsin                    11.0              11.10   \n",
       "Pennsylvania                 12.2              11.20   \n",
       "Maine                        11.6              11.60   \n",
       "Washington                   10.3              11.90   \n",
       "Minnesota                     9.6              12.10   \n",
       "Alaska                       10.9              12.10   \n",
       "Delaware                     12.5              12.40   \n",
       "Colorado                      9.6              12.40   \n",
       "Hawaii                        8.8              12.60   \n",
       "Oklahoma                     15.6              13.00   \n",
       "Nevada                       12.9              13.10   \n",
       "Rhode_Island                 12.9              13.20   \n",
       "Illinois                     12.1              13.30   \n",
       "Ohio                         13.9              13.50   \n",
       "Montana                      13.0              13.50   \n",
       "New_Jersey                    9.5              13.70   \n",
       "South_Carolina               15.3              13.80   \n",
       "Kansas                       12.0              13.90   \n",
       "Idaho                        11.8              13.90   \n",
       "Louisiana                    18.6              14.30   \n",
       "South_Dakota                 13.1              14.30   \n",
       "Florida                      13.6              14.60   \n",
       "California                   12.8              15.50   \n",
       "Missouri                     13.2              15.60   \n",
       "New_York                     13.6              15.90   \n",
       "West_Virginia                17.8              16.00   \n",
       "Indiana                      13.1              16.40   \n",
       "Tennessee                    15.3              16.70   \n",
       "Alabama                      16.8              16.80   \n",
       "North_Carolina               14.0              17.00   \n",
       "Kentucky                     16.9              17.10   \n",
       "Texas                        14.9              17.40   \n",
       "DC                           16.2              18.00   \n",
       "Georgia                      14.3              18.50   \n",
       "Arkansas                     17.2              19.10   \n",
       "New_Mexico                   19.5              19.60   \n",
       "Arizona                      14.0              21.30   \n",
       "Mississippi                  19.7              23.20   \n",
       "Michigan                     14.1              27.60   \n",
       "\n",
       "                Supplemental Poverty Measure  \n",
       "State                                         \n",
       "Oregon                                  10.3  \n",
       "Wyoming                                  9.3  \n",
       "New_Hampshire                           15.5  \n",
       "Maryland                                10.1  \n",
       "Vermont                                 13.4  \n",
       "Utah                                    11.6  \n",
       "Nebraska                                 9.8  \n",
       "Connecticut                             12.5  \n",
       "Virginia                                13.3  \n",
       "Massachusetts                           13.8  \n",
       "Iowa                                     8.6  \n",
       "North_Dakota                             9.2  \n",
       "Wisconsin                               10.8  \n",
       "Pennsylvania                            12.6  \n",
       "Maine                                   11.2  \n",
       "Washington                              12.2  \n",
       "Minnesota                                9.7  \n",
       "Alaska                                  12.5  \n",
       "Delaware                                13.9  \n",
       "Colorado                                13.7  \n",
       "Hawaii                                  17.3  \n",
       "Oklahoma                                13.4  \n",
       "Nevada                                  19.8  \n",
       "Rhode_Island                            13.6  \n",
       "Illinois                                15.2  \n",
       "Ohio                                    13.2  \n",
       "Montana                                 12.1  \n",
       "New_Jersey                              13.9  \n",
       "South_Carolina                          15.8  \n",
       "Kansas                                  11.5  \n",
       "Idaho                                   11.8  \n",
       "Louisiana                               18.5  \n",
       "South_Dakota                            10.6  \n",
       "Florida                                 19.5  \n",
       "California                              23.8  \n",
       "Missouri                                12.4  \n",
       "New_York                                18.1  \n",
       "West_Virginia                           12.9  \n",
       "Indiana                                 14.2  \n",
       "Tennessee                               15.5  \n",
       "Alabama                                 13.5  \n",
       "North_Carolina                          14.2  \n",
       "Kentucky                                13.6  \n",
       "Texas                                   16.4  \n",
       "DC                                      22.7  \n",
       "Georgia                                 18.2  \n",
       "Arkansas                                16.5  \n",
       "New_Mexico                              16.1  \n",
       "Arizona                                 18.8  \n",
       "Mississippi                             16.1  \n",
       "Michigan                                13.5  \n",
       "\n",
       "[51 rows x 29 columns]"
      ]
     },
     "execution_count": 31,
     "metadata": {},
     "output_type": "execute_result"
    }
   ],
   "source": [
    "# dataPoints = ['Violent crime total']\n",
    "# for col in dataPoints:\n",
    "#     dat = []\n",
    "#     for stateName in gun_ownership_df.index:\n",
    "#         if stateName in crime_by_state:\n",
    "#             dat.append(crime_by_state[stateName].tail(1)[col].values[0])\n",
    "#         else:\n",
    "#             dat.append(None)\n",
    "#     gun_ownership_df[col] = dat\n",
    "\n",
    "gun_ownership_df.head(60)\n"
   ]
  },
  {
   "cell_type": "code",
   "execution_count": null,
   "metadata": {},
   "outputs": [],
   "source": [
    "# Teammate Chris code ends here"
   ]
  },
  {
   "cell_type": "code",
   "execution_count": null,
   "metadata": {},
   "outputs": [],
   "source": [
    "# Teammate Carrie code begins here- Making Heat Maps "
   ]
  },
  {
   "cell_type": "code",
   "execution_count": null,
   "metadata": {},
   "outputs": [],
   "source": [
    "#import gun ownership data, create dataframe\n",
    "gun_ownership_df=pd.read_csv(\"Raw_Data/gun_ownership_by_state.csv\")\n",
    "gun_ownership_df.set_index(\"State\",inplace=True)\n",
    "gun_ownership_df\n",
    "\n"
   ]
  },
  {
   "cell_type": "code",
   "execution_count": null,
   "metadata": {},
   "outputs": [],
   "source": [
    "#create dataframe of just state and guns \n",
    "df2= gun_ownership_df[[ \"# of guns per capita\"]]\n",
    "df2\n",
    "gun_ownership_dict=df2.to_dict(\"dict\")\n",
    "gun_ownership_dict2={key: float(value) for (key, value) in gun_ownership_dict[\"# of guns per capita\"].items() if key != \"North\"}\n"
   ]
  },
  {
   "cell_type": "code",
   "execution_count": null,
   "metadata": {},
   "outputs": [],
   "source": [
    "gun_ownership_dict[\"# of guns per capita\"]"
   ]
  },
  {
   "cell_type": "code",
   "execution_count": null,
   "metadata": {},
   "outputs": [],
   "source": [
    "\n",
    "# Create HeatMap \n",
    "\n",
    "fig = plt.figure()\n",
    "ax = fig.add_axes([0, 0, 1, 1], projection=ccrs.LambertConformal())\n",
    "\n",
    "ax.set_extent([-125, -66.5, 20, 50], ccrs.Geodetic())\n",
    "\n",
    "shapename = 'admin_1_states_provinces_lakes_shp'\n",
    "states_shp = shpreader.natural_earth(resolution='110m',\n",
    "                                     category='cultural', name=shapename)\n",
    "\n",
    "gun_ownership_dict2\n",
    "  \n",
    "\n",
    "ax.background_patch.set_visible(False)\n",
    "ax.outline_patch.set_visible(False)\n",
    "\n",
    "ax.set_title('Gun Ownership Per Capita Density ')\n",
    "\n",
    "#for state in shpreader.Reader(states_shp).geometries():\n",
    "for astate in shpreader.Reader(states_shp).records():\n",
    "\n",
    "    ### You want to replace the following code with code that sets the\n",
    "    ### facecolor as a gradient based on the population density above\n",
    "    #facecolor = [0.9375, 0.9375, 0.859375]\n",
    "\n",
    "    edgecolor = 'black'\n",
    "\n",
    "    try:\n",
    "        # use the name of this state to get pop_density\n",
    "        state_dens = gun_ownership_dict2[ astate.attributes['name'] ]\n",
    "    except:\n",
    "        state_dens = 0\n",
    "    #print(state_dens)\n",
    "\n",
    "    # simple scheme to assign color to each state\n",
    "    scaled_state_dens=math.sqrt(state_dens)\n",
    "    scaling_factor=1.0/math.sqrt(229.24)\n",
    "    \n",
    "    facecolor= (scaling_factor*scaled_state_dens, scaling_factor*scaled_state_dens,scaling_factor*scaled_state_dens)\n",
    "\n",
    "    # `astate.geometry` is the polygon to plot\n",
    "    ax.add_geometries([astate.geometry], ccrs.PlateCarree(),\n",
    "                      facecolor=facecolor, edgecolor=edgecolor)\n",
    "\n",
    "plt.show()\n"
   ]
  },
  {
   "cell_type": "code",
   "execution_count": null,
   "metadata": {},
   "outputs": [],
   "source": []
  },
  {
   "cell_type": "code",
   "execution_count": null,
   "metadata": {},
   "outputs": [],
   "source": [
    "crime_by_state_df=pd.read_csv(\"Raw_Data/CrimeStatebyState_US.csv\")\n",
    "crime_by_state_df.head()"
   ]
  },
  {
   "cell_type": "code",
   "execution_count": null,
   "metadata": {},
   "outputs": [],
   "source": [
    "# Heat map, robbery by state"
   ]
  },
  {
   "cell_type": "code",
   "execution_count": null,
   "metadata": {},
   "outputs": [],
   "source": []
  },
  {
   "cell_type": "code",
   "execution_count": null,
   "metadata": {},
   "outputs": [],
   "source": [
    "# Heat map, motor vehicle theft by state "
   ]
  },
  {
   "cell_type": "code",
   "execution_count": null,
   "metadata": {},
   "outputs": [],
   "source": [
    "# Teammate Carrie code begins here- Making Heat Maps "
   ]
  },
  {
   "cell_type": "code",
   "execution_count": null,
   "metadata": {},
   "outputs": [],
   "source": [
    "gun_ownership_by_state.txt=\"gun_ownership_by_state.txt\"\n",
    "gun_ownership_by_state.txt.head()\n"
   ]
  },
  {
   "cell_type": "code",
   "execution_count": null,
   "metadata": {},
   "outputs": [],
   "source": [
    "with open (\"gun_ownership_by_state.txt\", \"r\") as myfile:\n",
    "    gun_ownership=myfile.readlines()"
   ]
  },
  {
   "cell_type": "code",
   "execution_count": null,
   "metadata": {},
   "outputs": [],
   "source": [
    "# Teammate Carrie code ends here"
   ]
  },
  {
   "cell_type": "code",
   "execution_count": null,
   "metadata": {},
   "outputs": [],
   "source": [
    "# Teammate Matt code begins here"
   ]
  },
  {
   "cell_type": "markdown",
   "metadata": {},
   "source": [
    "# Question 1: Is there a relationship between gun ownership and the murder/nonnegligent manslaughter rate?"
   ]
  },
  {
   "cell_type": "code",
   "execution_count": null,
   "metadata": {},
   "outputs": [],
   "source": [
    "# create figure and axis objects with subplots()\n",
    "fig,ax = plt.subplots(figsize=(20, 10))\n",
    "\n",
    "# make a plot\n",
    "ax.plot(gun_ownership_df[\"State\"], gun_ownership_df[\"Murder and nonnegligent manslaughter rate\"], color=\"red\", marker=\"o\")\n",
    "# set x-axis label\n",
    "ax.set_xlabel(\"State\", color = \"purple\", fontsize=22)\n",
    "# set y-axis label\n",
    "ax.set_ylabel(\"Murder and manslaughter rate\",color=\"red\",fontsize=22)\n",
    "plt.xticks(gun_ownership_df[\"State\"], rotation=90, fontsize = 16)\n",
    "\n",
    "# twin object for two different y-axis on the sample plot\n",
    "ax2=ax.twinx()\n",
    "# make a plot with different y-axis using second axis object\n",
    "ax2.plot(gun_ownership_df[\"State\"], gun_ownership_df[\"# of guns per capita\"], color=\"blue\",marker=\"o\")\n",
    "ax2.set_ylabel(\"# of guns per capita\",color=\"blue\",fontsize=22)\n",
    "plt.xticks(gun_ownership_df[\"State\"], rotation=90, )\n",
    "\n",
    "\n",
    "\n",
    "plt.show()\n",
    "# save the plot as a file\n",
    "fig.savefig('two_different_y_axis_for_single_python_plot_with_twinx.jpg',\n",
    "            format='jpeg',\n",
    "            dpi=100,\n",
    "            bbox_inches='tight')\n",
    "\n",
    "plt.show()"
   ]
  },
  {
   "cell_type": "markdown",
   "metadata": {},
   "source": [
    "# Question 2: Is there a relationship between gun ownership and aggravated assault? \n"
   ]
  },
  {
   "cell_type": "code",
   "execution_count": null,
   "metadata": {},
   "outputs": [],
   "source": [
    "    \n",
    "fig,ax = plt.subplots(figsize=(20, 10))\n",
    "# make a plot\n",
    "ax.plot(gun_ownership_df[\"State\"], gun_ownership_df[\"Aggravated assault rate\"], color=\"red\", marker=\"o\")\n",
    "# set x-axis label\n",
    "ax.set_xlabel(\"State\",color = \"purple\", fontsize=22)\n",
    "# set y-axis label\n",
    "ax.set_ylabel(\"Aggravated assault rate\",color=\"red\",fontsize=22)\n",
    "plt.xticks(gun_ownership_df[\"State\"], rotation=90, fontsize = 16)\n",
    "\n",
    "# twin object for two different y-axis on the sample plot\n",
    "ax2=ax.twinx()\n",
    "# make a plot with different y-axis using second axis object\n",
    "ax2.plot(gun_ownership_df[\"State\"], gun_ownership_df[\"# of guns per capita\"], color=\"blue\",marker=\"o\")\n",
    "ax2.set_ylabel(\"# of guns per capita\",color=\"blue\",fontsize=22)\n",
    "plt.xticks(gun_ownership_df[\"State\"], rotation=90, )\n",
    "\n",
    "\n",
    "plt.show()\n",
    "# save the plot as a file\n",
    "fig.savefig('two_different_y_axis_for_single_python_plot_with_twinx.jpg',\n",
    "            format='jpeg',\n",
    "            dpi=100,\n",
    "            bbox_inches='tight')\n",
    "\n",
    "plt.show()"
   ]
  },
  {
   "cell_type": "markdown",
   "metadata": {},
   "source": [
    "# Question 2: Is there a relationship between robbery and gun ownership? "
   ]
  },
  {
   "cell_type": "code",
   "execution_count": null,
   "metadata": {},
   "outputs": [],
   "source": [
    "\n",
    "# create figure and axis objects with subplots()\n",
    "fig,ax = plt.subplots(figsize=(20, 10))\n",
    "# make a plot\n",
    "ax.plot(gun_ownership_df[\"State\"], gun_ownership_df[\"Robbery rate\"], color=\"red\", marker=\"o\")\n",
    "# set x-axis label\n",
    "ax.set_xlabel(\"State\",color = \"purple\", fontsize=22)\n",
    "# set y-axis label\n",
    "ax.set_ylabel(\"Robbery rate\",color=\"red\",fontsize=22)\n",
    "plt.xticks(gun_ownership_df[\"State\"], rotation=90, fontsize = 16)\n",
    "\n",
    "# twin object for two different y-axis on the sample plot\n",
    "ax2=ax.twinx()\n",
    "# make a plot with different y-axis using second axis object\n",
    "ax2.plot(gun_ownership_df[\"State\"], gun_ownership_df[\"# of guns per capita\"], color=\"blue\",marker=\"o\")\n",
    "ax2.set_ylabel(\"# of guns per capita\",color=\"blue\",fontsize=22)\n",
    "plt.xticks(gun_ownership_df[\"State\"], rotation=90, )\n",
    "\n",
    "\n",
    "plt.show()\n",
    "# save the plot as a file\n",
    "fig.savefig('two_different_y_axis_for_single_python_plot_with_twinx.jpg',\n",
    "            format='jpeg',\n",
    "            dpi=100,\n",
    "            bbox_inches='tight')\n",
    "\n",
    "plt.show()"
   ]
  },
  {
   "cell_type": "markdown",
   "metadata": {},
   "source": [
    "# Question 3: Is there a relationship between motor vehicle theft and gun ownership?\n"
   ]
  },
  {
   "cell_type": "code",
   "execution_count": null,
   "metadata": {},
   "outputs": [],
   "source": [
    "# create figure and axis objects with subplots()\n",
    "fig,ax = plt.subplots(figsize=(20, 10))\n",
    "# make a plot\n",
    "ax.plot(gun_ownership_df[\"State\"], gun_ownership_df[\"Motor vehicle theft rate\"], color=\"red\", marker=\"o\")\n",
    "# set x-axis label\n",
    "ax.set_xlabel(\"State\", color = \"purple\", fontsize=22)\n",
    "# set y-axis label\n",
    "ax.set_ylabel(\"Motor vehicle theft rate\",color=\"red\",fontsize=22)\n",
    "plt.xticks(gun_ownership_df[\"State\"], rotation=90, fontsize = 16)\n",
    "\n",
    "# twin object for two different y-axis on the sample plot\n",
    "ax2=ax.twinx()\n",
    "# make a plot with different y-axis using second axis object\n",
    "ax2.plot(gun_ownership_df[\"State\"], gun_ownership_df[\"# of guns per capita\"], color=\"blue\",marker=\"o\")\n",
    "ax2.set_ylabel(\"# of guns per capita\",color=\"blue\",fontsize=22)\n",
    "plt.xticks(gun_ownership_df[\"State\"], rotation=90, )\n",
    "\n",
    "\n",
    "plt.show()\n",
    "# save the plot as a file\n",
    "fig.savefig('two_different_y_axis_for_single_python_plot_with_twinx.jpg',\n",
    "            format='jpeg',\n",
    "            dpi=100,\n",
    "            bbox_inches='tight')\n",
    "\n",
    "plt.show()"
   ]
  },
  {
   "cell_type": "markdown",
   "metadata": {},
   "source": [
    "# Question 4: Is there a relationship between burglary and gun ownership? "
   ]
  },
  {
   "cell_type": "code",
   "execution_count": null,
   "metadata": {},
   "outputs": [],
   "source": [
    "\n",
    "# create figure and axis objects with subplots()\n",
    "fig,ax = plt.subplots(figsize=(20, 10))\n",
    "# make a plot\n",
    "ax.plot(gun_ownership_df[\"State\"], gun_ownership_df[\"Burglary rate\"], color=\"red\", marker=\"o\")\n",
    "# set x-axis label\n",
    "ax.set_xlabel(\"State\", color = \"purple\", fontsize=22)\n",
    "# set y-axis label\n",
    "ax.set_ylabel(\"Burglary rate\",color=\"red\",fontsize=22)\n",
    "plt.xticks(gun_ownership_df[\"State\"], rotation=90, fontsize = 16)\n",
    "\n",
    "# twin object for two different y-axis on the sample plot\n",
    "ax2=ax.twinx()\n",
    "# make a plot with different y-axis using second axis object\n",
    "ax2.plot(gun_ownership_df[\"State\"], gun_ownership_df[\"# of guns per capita\"], color=\"blue\",marker=\"o\")\n",
    "ax2.set_ylabel(\"# of guns per capita\",color=\"blue\",fontsize=22)\n",
    "plt.xticks(gun_ownership_df[\"State\"], rotation=90, )\n",
    "\n",
    "\n",
    "plt.show()\n",
    "# save the plot as a file\n",
    "fig.savefig('two_different_y_axis_for_single_python_plot_with_twinx.jpg',\n",
    "            format='jpeg',\n",
    "            dpi=100,\n",
    "            bbox_inches='tight')\n",
    "\n",
    "plt.show()"
   ]
  },
  {
   "cell_type": "code",
   "execution_count": null,
   "metadata": {},
   "outputs": [],
   "source": [
    "# Teammate 2 code begins here"
   ]
  },
  {
   "cell_type": "code",
   "execution_count": null,
   "metadata": {},
   "outputs": [],
   "source": [
    "# Teammate 2 code ends here"
   ]
  },
  {
   "cell_type": "code",
   "execution_count": null,
   "metadata": {},
   "outputs": [],
   "source": [
    "# Teammate 3 code begins here"
   ]
  },
  {
   "cell_type": "code",
   "execution_count": 38,
   "metadata": {},
   "outputs": [],
   "source": [
    "gun_ownership_per_capita_df = gun_ownership_df\n",
    "gun_ownership_per_capita_df = gun_ownership_per_capita_df.reset_index(drop=True)\n",
    "gun_ownership_per_capita_df = gun_ownership_per_capita_df[[\"State\",\"# of guns per capita\"]]\n",
    "\n",
    "all_state_crime_2014_df = all_state_crime_2014\n",
    "all_state_crime_2014_df = all_state_crime_2014_df.reset_index(drop=False)\n",
    "\n",
    "murder_manslaughter_2014_df = all_state_crime_2014_df[[\"State\",\"Murder and nonnegligent manslaughter rate\"]]\n",
    "aggravated_assault_2014_df = all_state_crime_2014_df[[\"State\",\"Aggravated assault rate\"]]\n",
    "vehicle_theft_2014_df = all_state_crime_2014_df[[\"State\",\"Motor vehicle theft rate\"]]\n",
    "robbery_2014_df = all_state_crime_2014_df[[\"State\",\"Robbery rate\"]]\n",
    "burglary_2014_df = all_state_crime_2014_df[[\"State\",\"Burglary rate\"]]\n"
   ]
  },
  {
   "cell_type": "code",
   "execution_count": 48,
   "metadata": {},
   "outputs": [
    {
     "data": {
      "application/vnd.plotly.v1+json": {
       "config": {
        "plotlyServerURL": "https://plot.ly"
       },
       "data": [
        {
         "hovertemplate": "<b>%{hovertext}</b><br><br>State=Oregon<br>2014 Poverty Rate=%{marker.size}<br>Burglary rate=%{y}<extra></extra>",
         "hovertext": [
          "Oregon"
         ],
         "legendgroup": "Oregon",
         "marker": {
          "color": "#636efa",
          "size": [
           7.11
          ],
          "sizemode": "area",
          "sizeref": 0.069,
          "symbol": "circle"
         },
         "mode": "markers",
         "name": "Oregon",
         "orientation": "v",
         "showlegend": true,
         "type": "scatter",
         "x": [
          7.11
         ],
         "xaxis": "x",
         "y": [
          434
         ],
         "yaxis": "y"
        },
        {
         "hovertemplate": "<b>%{hovertext}</b><br><br>State=Wyoming<br>2014 Poverty Rate=%{marker.size}<br>Burglary rate=%{y}<extra></extra>",
         "hovertext": [
          "Wyoming"
         ],
         "legendgroup": "Wyoming",
         "marker": {
          "color": "#EF553B",
          "size": [
           9.3
          ],
          "sizemode": "area",
          "sizeref": 0.069,
          "symbol": "circle"
         },
         "mode": "markers",
         "name": "Wyoming",
         "orientation": "v",
         "showlegend": true,
         "type": "scatter",
         "x": [
          9.3
         ],
         "xaxis": "x",
         "y": [
          289.1
         ],
         "yaxis": "y"
        },
        {
         "hovertemplate": "<b>%{hovertext}</b><br><br>State=New_Hampshire<br>2014 Poverty Rate=%{marker.size}<br>Burglary rate=%{y}<extra></extra>",
         "hovertext": [
          "New_Hampshire"
         ],
         "legendgroup": "New_Hampshire",
         "marker": {
          "color": "#00cc96",
          "size": [
           9.5
          ],
          "sizemode": "area",
          "sizeref": 0.069,
          "symbol": "circle"
         },
         "mode": "markers",
         "name": "New_Hampshire",
         "orientation": "v",
         "showlegend": true,
         "type": "scatter",
         "x": [
          9.5
         ],
         "xaxis": "x",
         "y": [
          313.7
         ],
         "yaxis": "y"
        },
        {
         "hovertemplate": "<b>%{hovertext}</b><br><br>State=Maryland<br>2014 Poverty Rate=%{marker.size}<br>Burglary rate=%{y}<extra></extra>",
         "hovertext": [
          "Maryland"
         ],
         "legendgroup": "Maryland",
         "marker": {
          "color": "#ab63fa",
          "size": [
           9.6
          ],
          "sizemode": "area",
          "sizeref": 0.069,
          "symbol": "circle"
         },
         "mode": "markers",
         "name": "Maryland",
         "orientation": "v",
         "showlegend": true,
         "type": "scatter",
         "x": [
          9.6
         ],
         "xaxis": "x",
         "y": [
          468.7
         ],
         "yaxis": "y"
        },
        {
         "hovertemplate": "<b>%{hovertext}</b><br><br>State=Vermont<br>2014 Poverty Rate=%{marker.size}<br>Burglary rate=%{y}<extra></extra>",
         "hovertext": [
          "Vermont"
         ],
         "legendgroup": "Vermont",
         "marker": {
          "color": "#FFA15A",
          "size": [
           9.7
          ],
          "sizemode": "area",
          "sizeref": 0.069,
          "symbol": "circle"
         },
         "mode": "markers",
         "name": "Vermont",
         "orientation": "v",
         "showlegend": true,
         "type": "scatter",
         "x": [
          9.7
         ],
         "xaxis": "x",
         "y": [
          324.6
         ],
         "yaxis": "y"
        },
        {
         "hovertemplate": "<b>%{hovertext}</b><br><br>State=Utah<br>2014 Poverty Rate=%{marker.size}<br>Burglary rate=%{y}<extra></extra>",
         "hovertext": [
          "Utah"
         ],
         "legendgroup": "Utah",
         "marker": {
          "color": "#19d3f3",
          "size": [
           9.8
          ],
          "sizemode": "area",
          "sizeref": 0.069,
          "symbol": "circle"
         },
         "mode": "markers",
         "name": "Utah",
         "orientation": "v",
         "showlegend": true,
         "type": "scatter",
         "x": [
          9.8
         ],
         "xaxis": "x",
         "y": [
          391.4
         ],
         "yaxis": "y"
        },
        {
         "hovertemplate": "<b>%{hovertext}</b><br><br>State=Nebraska<br>2014 Poverty Rate=%{marker.size}<br>Burglary rate=%{y}<extra></extra>",
         "hovertext": [
          "Nebraska"
         ],
         "legendgroup": "Nebraska",
         "marker": {
          "color": "#FF6692",
          "size": [
           10
          ],
          "sizemode": "area",
          "sizeref": 0.069,
          "symbol": "circle"
         },
         "mode": "markers",
         "name": "Nebraska",
         "orientation": "v",
         "showlegend": true,
         "type": "scatter",
         "x": [
          10
         ],
         "xaxis": "x",
         "y": [
          422.5
         ],
         "yaxis": "y"
        },
        {
         "hovertemplate": "<b>%{hovertext}</b><br><br>State=Connecticut<br>2014 Poverty Rate=%{marker.size}<br>Burglary rate=%{y}<extra></extra>",
         "hovertext": [
          "Connecticut"
         ],
         "legendgroup": "Connecticut",
         "marker": {
          "color": "#B6E880",
          "size": [
           10.6
          ],
          "sizemode": "area",
          "sizeref": 0.069,
          "symbol": "circle"
         },
         "mode": "markers",
         "name": "Connecticut",
         "orientation": "v",
         "showlegend": true,
         "type": "scatter",
         "x": [
          10.6
         ],
         "xaxis": "x",
         "y": [
          332.4
         ],
         "yaxis": "y"
        },
        {
         "hovertemplate": "<b>%{hovertext}</b><br><br>State=Virginia<br>2014 Poverty Rate=%{marker.size}<br>Burglary rate=%{y}<extra></extra>",
         "hovertext": [
          "Virginia"
         ],
         "legendgroup": "Virginia",
         "marker": {
          "color": "#FF97FF",
          "size": [
           10.8
          ],
          "sizemode": "area",
          "sizeref": 0.069,
          "symbol": "circle"
         },
         "mode": "markers",
         "name": "Virginia",
         "orientation": "v",
         "showlegend": true,
         "type": "scatter",
         "x": [
          10.8
         ],
         "xaxis": "x",
         "y": [
          277.7
         ],
         "yaxis": "y"
        },
        {
         "hovertemplate": "<b>%{hovertext}</b><br><br>State=Massachusetts<br>2014 Poverty Rate=%{marker.size}<br>Burglary rate=%{y}<extra></extra>",
         "hovertext": [
          "Massachusetts"
         ],
         "legendgroup": "Massachusetts",
         "marker": {
          "color": "#FECB52",
          "size": [
           10.9
          ],
          "sizemode": "area",
          "sizeref": 0.069,
          "symbol": "circle"
         },
         "mode": "markers",
         "name": "Massachusetts",
         "orientation": "v",
         "showlegend": true,
         "type": "scatter",
         "x": [
          10.9
         ],
         "xaxis": "x",
         "y": [
          370.1
         ],
         "yaxis": "y"
        },
        {
         "hovertemplate": "<b>%{hovertext}</b><br><br>State=Iowa<br>2014 Poverty Rate=%{marker.size}<br>Burglary rate=%{y}<extra></extra>",
         "hovertext": [
          "Iowa"
         ],
         "legendgroup": "Iowa",
         "marker": {
          "color": "#636efa",
          "size": [
           10.9
          ],
          "sizemode": "area",
          "sizeref": 0.069,
          "symbol": "circle"
         },
         "mode": "markers",
         "name": "Iowa",
         "orientation": "v",
         "showlegend": true,
         "type": "scatter",
         "x": [
          10.9
         ],
         "xaxis": "x",
         "y": [
          464.4
         ],
         "yaxis": "y"
        },
        {
         "hovertemplate": "<b>%{hovertext}</b><br><br>State=North_Dakota<br>2014 Poverty Rate=%{marker.size}<br>Burglary rate=%{y}<extra></extra>",
         "hovertext": [
          "North_Dakota"
         ],
         "legendgroup": "North_Dakota",
         "marker": {
          "color": "#EF553B",
          "size": [
           11
          ],
          "sizemode": "area",
          "sizeref": 0.069,
          "symbol": "circle"
         },
         "mode": "markers",
         "name": "North_Dakota",
         "orientation": "v",
         "showlegend": true,
         "type": "scatter",
         "x": [
          11
         ],
         "xaxis": "x",
         "y": [
          366.1
         ],
         "yaxis": "y"
        },
        {
         "hovertemplate": "<b>%{hovertext}</b><br><br>State=Wisconsin<br>2014 Poverty Rate=%{marker.size}<br>Burglary rate=%{y}<extra></extra>",
         "hovertext": [
          "Wisconsin"
         ],
         "legendgroup": "Wisconsin",
         "marker": {
          "color": "#00cc96",
          "size": [
           11.1
          ],
          "sizemode": "area",
          "sizeref": 0.069,
          "symbol": "circle"
         },
         "mode": "markers",
         "name": "Wisconsin",
         "orientation": "v",
         "showlegend": true,
         "type": "scatter",
         "x": [
          11.1
         ],
         "xaxis": "x",
         "y": [
          368.5
         ],
         "yaxis": "y"
        },
        {
         "hovertemplate": "<b>%{hovertext}</b><br><br>State=Pennsylvania<br>2014 Poverty Rate=%{marker.size}<br>Burglary rate=%{y}<extra></extra>",
         "hovertext": [
          "Pennsylvania"
         ],
         "legendgroup": "Pennsylvania",
         "marker": {
          "color": "#ab63fa",
          "size": [
           11.2
          ],
          "sizemode": "area",
          "sizeref": 0.069,
          "symbol": "circle"
         },
         "mode": "markers",
         "name": "Pennsylvania",
         "orientation": "v",
         "showlegend": true,
         "type": "scatter",
         "x": [
          11.2
         ],
         "xaxis": "x",
         "y": [
          357.5
         ],
         "yaxis": "y"
        },
        {
         "hovertemplate": "<b>%{hovertext}</b><br><br>State=Maine<br>2014 Poverty Rate=%{marker.size}<br>Burglary rate=%{y}<extra></extra>",
         "hovertext": [
          "Maine"
         ],
         "legendgroup": "Maine",
         "marker": {
          "color": "#FFA15A",
          "size": [
           11.6
          ],
          "sizemode": "area",
          "sizeref": 0.069,
          "symbol": "circle"
         },
         "mode": "markers",
         "name": "Maine",
         "orientation": "v",
         "showlegend": true,
         "type": "scatter",
         "x": [
          11.6
         ],
         "xaxis": "x",
         "y": [
          378.2
         ],
         "yaxis": "y"
        },
        {
         "hovertemplate": "<b>%{hovertext}</b><br><br>State=Washington<br>2014 Poverty Rate=%{marker.size}<br>Burglary rate=%{y}<extra></extra>",
         "hovertext": [
          "Washington"
         ],
         "legendgroup": "Washington",
         "marker": {
          "color": "#19d3f3",
          "size": [
           11.9
          ],
          "sizemode": "area",
          "sizeref": 0.069,
          "symbol": "circle"
         },
         "mode": "markers",
         "name": "Washington",
         "orientation": "v",
         "showlegend": true,
         "type": "scatter",
         "x": [
          11.9
         ],
         "xaxis": "x",
         "y": [
          783
         ],
         "yaxis": "y"
        },
        {
         "hovertemplate": "<b>%{hovertext}</b><br><br>State=Minnesota<br>2014 Poverty Rate=%{marker.size}<br>Burglary rate=%{y}<extra></extra>",
         "hovertext": [
          "Minnesota"
         ],
         "legendgroup": "Minnesota",
         "marker": {
          "color": "#FF6692",
          "size": [
           12.1
          ],
          "sizemode": "area",
          "sizeref": 0.069,
          "symbol": "circle"
         },
         "mode": "markers",
         "name": "Minnesota",
         "orientation": "v",
         "showlegend": true,
         "type": "scatter",
         "x": [
          12.1
         ],
         "xaxis": "x",
         "y": [
          380.7
         ],
         "yaxis": "y"
        },
        {
         "hovertemplate": "<b>%{hovertext}</b><br><br>State=Alaska<br>2014 Poverty Rate=%{marker.size}<br>Burglary rate=%{y}<extra></extra>",
         "hovertext": [
          "Alaska"
         ],
         "legendgroup": "Alaska",
         "marker": {
          "color": "#B6E880",
          "size": [
           12.1
          ],
          "sizemode": "area",
          "sizeref": 0.069,
          "symbol": "circle"
         },
         "mode": "markers",
         "name": "Alaska",
         "orientation": "v",
         "showlegend": true,
         "type": "scatter",
         "x": [
          12.1
         ],
         "xaxis": "x",
         "y": [
          427.6
         ],
         "yaxis": "y"
        },
        {
         "hovertemplate": "<b>%{hovertext}</b><br><br>State=Delaware<br>2014 Poverty Rate=%{marker.size}<br>Burglary rate=%{y}<extra></extra>",
         "hovertext": [
          "Delaware"
         ],
         "legendgroup": "Delaware",
         "marker": {
          "color": "#FF97FF",
          "size": [
           12.4
          ],
          "sizemode": "area",
          "sizeref": 0.069,
          "symbol": "circle"
         },
         "mode": "markers",
         "name": "Delaware",
         "orientation": "v",
         "showlegend": true,
         "type": "scatter",
         "x": [
          12.4
         ],
         "xaxis": "x",
         "y": [
          616.5
         ],
         "yaxis": "y"
        },
        {
         "hovertemplate": "<b>%{hovertext}</b><br><br>State=Colorado<br>2014 Poverty Rate=%{marker.size}<br>Burglary rate=%{y}<extra></extra>",
         "hovertext": [
          "Colorado"
         ],
         "legendgroup": "Colorado",
         "marker": {
          "color": "#FECB52",
          "size": [
           12.4
          ],
          "sizemode": "area",
          "sizeref": 0.069,
          "symbol": "circle"
         },
         "mode": "markers",
         "name": "Colorado",
         "orientation": "v",
         "showlegend": true,
         "type": "scatter",
         "x": [
          12.4
         ],
         "xaxis": "x",
         "y": [
          438.2
         ],
         "yaxis": "y"
        },
        {
         "hovertemplate": "<b>%{hovertext}</b><br><br>State=Hawaii<br>2014 Poverty Rate=%{marker.size}<br>Burglary rate=%{y}<extra></extra>",
         "hovertext": [
          "Hawaii"
         ],
         "legendgroup": "Hawaii",
         "marker": {
          "color": "#636efa",
          "size": [
           12.6
          ],
          "sizemode": "area",
          "sizeref": 0.069,
          "symbol": "circle"
         },
         "mode": "markers",
         "name": "Hawaii",
         "orientation": "v",
         "showlegend": true,
         "type": "scatter",
         "x": [
          12.6
         ],
         "xaxis": "x",
         "y": [
          547.9
         ],
         "yaxis": "y"
        },
        {
         "hovertemplate": "<b>%{hovertext}</b><br><br>State=Oklahoma<br>2014 Poverty Rate=%{marker.size}<br>Burglary rate=%{y}<extra></extra>",
         "hovertext": [
          "Oklahoma"
         ],
         "legendgroup": "Oklahoma",
         "marker": {
          "color": "#EF553B",
          "size": [
           13
          ],
          "sizemode": "area",
          "sizeref": 0.069,
          "symbol": "circle"
         },
         "mode": "markers",
         "name": "Oklahoma",
         "orientation": "v",
         "showlegend": true,
         "type": "scatter",
         "x": [
          13
         ],
         "xaxis": "x",
         "y": [
          760.9
         ],
         "yaxis": "y"
        },
        {
         "hovertemplate": "<b>%{hovertext}</b><br><br>State=Nevada<br>2014 Poverty Rate=%{marker.size}<br>Burglary rate=%{y}<extra></extra>",
         "hovertext": [
          "Nevada"
         ],
         "legendgroup": "Nevada",
         "marker": {
          "color": "#00cc96",
          "size": [
           13.1
          ],
          "sizemode": "area",
          "sizeref": 0.069,
          "symbol": "circle"
         },
         "mode": "markers",
         "name": "Nevada",
         "orientation": "v",
         "showlegend": true,
         "type": "scatter",
         "x": [
          13.1
         ],
         "xaxis": "x",
         "y": [
          772.3
         ],
         "yaxis": "y"
        },
        {
         "hovertemplate": "<b>%{hovertext}</b><br><br>State=Rhode_Island<br>2014 Poverty Rate=%{marker.size}<br>Burglary rate=%{y}<extra></extra>",
         "hovertext": [
          "Rhode_Island"
         ],
         "legendgroup": "Rhode_Island",
         "marker": {
          "color": "#ab63fa",
          "size": [
           13.2
          ],
          "sizemode": "area",
          "sizeref": 0.069,
          "symbol": "circle"
         },
         "mode": "markers",
         "name": "Rhode_Island",
         "orientation": "v",
         "showlegend": true,
         "type": "scatter",
         "x": [
          13.2
         ],
         "xaxis": "x",
         "y": [
          457.1
         ],
         "yaxis": "y"
        },
        {
         "hovertemplate": "<b>%{hovertext}</b><br><br>State=Illinois<br>2014 Poverty Rate=%{marker.size}<br>Burglary rate=%{y}<extra></extra>",
         "hovertext": [
          "Illinois"
         ],
         "legendgroup": "Illinois",
         "marker": {
          "color": "#FFA15A",
          "size": [
           13.3
          ],
          "sizemode": "area",
          "sizeref": 0.069,
          "symbol": "circle"
         },
         "mode": "markers",
         "name": "Illinois",
         "orientation": "v",
         "showlegend": true,
         "type": "scatter",
         "x": [
          13.3
         ],
         "xaxis": "x",
         "y": [
          388.2
         ],
         "yaxis": "y"
        },
        {
         "hovertemplate": "<b>%{hovertext}</b><br><br>State=Ohio<br>2014 Poverty Rate=%{marker.size}<br>Burglary rate=%{y}<extra></extra>",
         "hovertext": [
          "Ohio"
         ],
         "legendgroup": "Ohio",
         "marker": {
          "color": "#19d3f3",
          "size": [
           13.5
          ],
          "sizemode": "area",
          "sizeref": 0.069,
          "symbol": "circle"
         },
         "mode": "markers",
         "name": "Ohio",
         "orientation": "v",
         "showlegend": true,
         "type": "scatter",
         "x": [
          13.5
         ],
         "xaxis": "x",
         "y": [
          680
         ],
         "yaxis": "y"
        },
        {
         "hovertemplate": "<b>%{hovertext}</b><br><br>State=Montana<br>2014 Poverty Rate=%{marker.size}<br>Burglary rate=%{y}<extra></extra>",
         "hovertext": [
          "Montana"
         ],
         "legendgroup": "Montana",
         "marker": {
          "color": "#FF6692",
          "size": [
           13.5
          ],
          "sizemode": "area",
          "sizeref": 0.069,
          "symbol": "circle"
         },
         "mode": "markers",
         "name": "Montana",
         "orientation": "v",
         "showlegend": true,
         "type": "scatter",
         "x": [
          13.5
         ],
         "xaxis": "x",
         "y": [
          351.2
         ],
         "yaxis": "y"
        },
        {
         "hovertemplate": "<b>%{hovertext}</b><br><br>State=New_Jersey<br>2014 Poverty Rate=%{marker.size}<br>Burglary rate=%{y}<extra></extra>",
         "hovertext": [
          "New_Jersey"
         ],
         "legendgroup": "New_Jersey",
         "marker": {
          "color": "#B6E880",
          "size": [
           13.7
          ],
          "sizemode": "area",
          "sizeref": 0.069,
          "symbol": "circle"
         },
         "mode": "markers",
         "name": "New_Jersey",
         "orientation": "v",
         "showlegend": true,
         "type": "scatter",
         "x": [
          13.7
         ],
         "xaxis": "x",
         "y": [
          354.8
         ],
         "yaxis": "y"
        },
        {
         "hovertemplate": "<b>%{hovertext}</b><br><br>State=South_Carolina<br>2014 Poverty Rate=%{marker.size}<br>Burglary rate=%{y}<extra></extra>",
         "hovertext": [
          "South_Carolina"
         ],
         "legendgroup": "South_Carolina",
         "marker": {
          "color": "#FF97FF",
          "size": [
           13.8
          ],
          "sizemode": "area",
          "sizeref": 0.069,
          "symbol": "circle"
         },
         "mode": "markers",
         "name": "South_Carolina",
         "orientation": "v",
         "showlegend": true,
         "type": "scatter",
         "x": [
          13.8
         ],
         "xaxis": "x",
         "y": [
          759.9
         ],
         "yaxis": "y"
        },
        {
         "hovertemplate": "<b>%{hovertext}</b><br><br>State=Kansas<br>2014 Poverty Rate=%{marker.size}<br>Burglary rate=%{y}<extra></extra>",
         "hovertext": [
          "Kansas"
         ],
         "legendgroup": "Kansas",
         "marker": {
          "color": "#FECB52",
          "size": [
           13.9
          ],
          "sizemode": "area",
          "sizeref": 0.069,
          "symbol": "circle"
         },
         "mode": "markers",
         "name": "Kansas",
         "orientation": "v",
         "showlegend": true,
         "type": "scatter",
         "x": [
          13.9
         ],
         "xaxis": "x",
         "y": [
          545
         ],
         "yaxis": "y"
        },
        {
         "hovertemplate": "<b>%{hovertext}</b><br><br>State=Idaho<br>2014 Poverty Rate=%{marker.size}<br>Burglary rate=%{y}<extra></extra>",
         "hovertext": [
          "Idaho"
         ],
         "legendgroup": "Idaho",
         "marker": {
          "color": "#636efa",
          "size": [
           13.9
          ],
          "sizemode": "area",
          "sizeref": 0.069,
          "symbol": "circle"
         },
         "mode": "markers",
         "name": "Idaho",
         "orientation": "v",
         "showlegend": true,
         "type": "scatter",
         "x": [
          13.9
         ],
         "xaxis": "x",
         "y": [
          393.3
         ],
         "yaxis": "y"
        },
        {
         "hovertemplate": "<b>%{hovertext}</b><br><br>State=Louisiana<br>2014 Poverty Rate=%{marker.size}<br>Burglary rate=%{y}<extra></extra>",
         "hovertext": [
          "Louisiana"
         ],
         "legendgroup": "Louisiana",
         "marker": {
          "color": "#EF553B",
          "size": [
           14.3
          ],
          "sizemode": "area",
          "sizeref": 0.069,
          "symbol": "circle"
         },
         "mode": "markers",
         "name": "Louisiana",
         "orientation": "v",
         "showlegend": true,
         "type": "scatter",
         "x": [
          14.3
         ],
         "xaxis": "x",
         "y": [
          824.5
         ],
         "yaxis": "y"
        },
        {
         "hovertemplate": "<b>%{hovertext}</b><br><br>State=South_Dakota<br>2014 Poverty Rate=%{marker.size}<br>Burglary rate=%{y}<extra></extra>",
         "hovertext": [
          "South_Dakota"
         ],
         "legendgroup": "South_Dakota",
         "marker": {
          "color": "#00cc96",
          "size": [
           14.3
          ],
          "sizemode": "area",
          "sizeref": 0.069,
          "symbol": "circle"
         },
         "mode": "markers",
         "name": "South_Dakota",
         "orientation": "v",
         "showlegend": true,
         "type": "scatter",
         "x": [
          14.3
         ],
         "xaxis": "x",
         "y": [
          330.3
         ],
         "yaxis": "y"
        },
        {
         "hovertemplate": "<b>%{hovertext}</b><br><br>State=Florida<br>2014 Poverty Rate=%{marker.size}<br>Burglary rate=%{y}<extra></extra>",
         "hovertext": [
          "Florida"
         ],
         "legendgroup": "Florida",
         "marker": {
          "color": "#ab63fa",
          "size": [
           14.6
          ],
          "sizemode": "area",
          "sizeref": 0.069,
          "symbol": "circle"
         },
         "mode": "markers",
         "name": "Florida",
         "orientation": "v",
         "showlegend": true,
         "type": "scatter",
         "x": [
          14.6
         ],
         "xaxis": "x",
         "y": [
          719.9
         ],
         "yaxis": "y"
        },
        {
         "hovertemplate": "<b>%{hovertext}</b><br><br>State=California<br>2014 Poverty Rate=%{marker.size}<br>Burglary rate=%{y}<extra></extra>",
         "hovertext": [
          "California"
         ],
         "legendgroup": "California",
         "marker": {
          "color": "#FFA15A",
          "size": [
           15.5
          ],
          "sizemode": "area",
          "sizeref": 0.069,
          "symbol": "circle"
         },
         "mode": "markers",
         "name": "California",
         "orientation": "v",
         "showlegend": true,
         "type": "scatter",
         "x": [
          15.5
         ],
         "xaxis": "x",
         "y": [
          522.3
         ],
         "yaxis": "y"
        },
        {
         "hovertemplate": "<b>%{hovertext}</b><br><br>State=Missouri<br>2014 Poverty Rate=%{marker.size}<br>Burglary rate=%{y}<extra></extra>",
         "hovertext": [
          "Missouri"
         ],
         "legendgroup": "Missouri",
         "marker": {
          "color": "#19d3f3",
          "size": [
           15.6
          ],
          "sizemode": "area",
          "sizeref": 0.069,
          "symbol": "circle"
         },
         "mode": "markers",
         "name": "Missouri",
         "orientation": "v",
         "showlegend": true,
         "type": "scatter",
         "x": [
          15.6
         ],
         "xaxis": "x",
         "y": [
          581.5
         ],
         "yaxis": "y"
        },
        {
         "hovertemplate": "<b>%{hovertext}</b><br><br>State=New_York<br>2014 Poverty Rate=%{marker.size}<br>Burglary rate=%{y}<extra></extra>",
         "hovertext": [
          "New_York"
         ],
         "legendgroup": "New_York",
         "marker": {
          "color": "#FF6692",
          "size": [
           15.9
          ],
          "sizemode": "area",
          "sizeref": 0.069,
          "symbol": "circle"
         },
         "mode": "markers",
         "name": "New_York",
         "orientation": "v",
         "showlegend": true,
         "type": "scatter",
         "x": [
          15.9
         ],
         "xaxis": "x",
         "y": [
          257.2
         ],
         "yaxis": "y"
        },
        {
         "hovertemplate": "<b>%{hovertext}</b><br><br>State=West_Virginia<br>2014 Poverty Rate=%{marker.size}<br>Burglary rate=%{y}<extra></extra>",
         "hovertext": [
          "West_Virginia"
         ],
         "legendgroup": "West_Virginia",
         "marker": {
          "color": "#B6E880",
          "size": [
           16
          ],
          "sizemode": "area",
          "sizeref": 0.069,
          "symbol": "circle"
         },
         "mode": "markers",
         "name": "West_Virginia",
         "orientation": "v",
         "showlegend": true,
         "type": "scatter",
         "x": [
          16
         ],
         "xaxis": "x",
         "y": [
          484.9
         ],
         "yaxis": "y"
        },
        {
         "hovertemplate": "<b>%{hovertext}</b><br><br>State=Indiana<br>2014 Poverty Rate=%{marker.size}<br>Burglary rate=%{y}<extra></extra>",
         "hovertext": [
          "Indiana"
         ],
         "legendgroup": "Indiana",
         "marker": {
          "color": "#FF97FF",
          "size": [
           16.4
          ],
          "sizemode": "area",
          "sizeref": 0.069,
          "symbol": "circle"
         },
         "mode": "markers",
         "name": "Indiana",
         "orientation": "v",
         "showlegend": true,
         "type": "scatter",
         "x": [
          16.4
         ],
         "xaxis": "x",
         "y": [
          559.3
         ],
         "yaxis": "y"
        },
        {
         "hovertemplate": "<b>%{hovertext}</b><br><br>State=Tennessee<br>2014 Poverty Rate=%{marker.size}<br>Burglary rate=%{y}<extra></extra>",
         "hovertext": [
          "Tennessee"
         ],
         "legendgroup": "Tennessee",
         "marker": {
          "color": "#FECB52",
          "size": [
           16.7
          ],
          "sizemode": "area",
          "sizeref": 0.069,
          "symbol": "circle"
         },
         "mode": "markers",
         "name": "Tennessee",
         "orientation": "v",
         "showlegend": true,
         "type": "scatter",
         "x": [
          16.7
         ],
         "xaxis": "x",
         "y": [
          712.2
         ],
         "yaxis": "y"
        },
        {
         "hovertemplate": "<b>%{hovertext}</b><br><br>State=Alabama<br>2014 Poverty Rate=%{marker.size}<br>Burglary rate=%{y}<extra></extra>",
         "hovertext": [
          "Alabama"
         ],
         "legendgroup": "Alabama",
         "marker": {
          "color": "#636efa",
          "size": [
           16.8
          ],
          "sizemode": "area",
          "sizeref": 0.069,
          "symbol": "circle"
         },
         "mode": "markers",
         "name": "Alabama",
         "orientation": "v",
         "showlegend": true,
         "type": "scatter",
         "x": [
          16.8
         ],
         "xaxis": "x",
         "y": [
          819
         ],
         "yaxis": "y"
        },
        {
         "hovertemplate": "<b>%{hovertext}</b><br><br>State=North_Carolina<br>2014 Poverty Rate=%{marker.size}<br>Burglary rate=%{y}<extra></extra>",
         "hovertext": [
          "North_Carolina"
         ],
         "legendgroup": "North_Carolina",
         "marker": {
          "color": "#EF553B",
          "size": [
           17
          ],
          "sizemode": "area",
          "sizeref": 0.069,
          "symbol": "circle"
         },
         "mode": "markers",
         "name": "North_Carolina",
         "orientation": "v",
         "showlegend": true,
         "type": "scatter",
         "x": [
          17
         ],
         "xaxis": "x",
         "y": [
          798.2
         ],
         "yaxis": "y"
        },
        {
         "hovertemplate": "<b>%{hovertext}</b><br><br>State=Kentucky<br>2014 Poverty Rate=%{marker.size}<br>Burglary rate=%{y}<extra></extra>",
         "hovertext": [
          "Kentucky"
         ],
         "legendgroup": "Kentucky",
         "marker": {
          "color": "#00cc96",
          "size": [
           17.1
          ],
          "sizemode": "area",
          "sizeref": 0.069,
          "symbol": "circle"
         },
         "mode": "markers",
         "name": "Kentucky",
         "orientation": "v",
         "showlegend": true,
         "type": "scatter",
         "x": [
          17.1
         ],
         "xaxis": "x",
         "y": [
          526.7
         ],
         "yaxis": "y"
        },
        {
         "hovertemplate": "<b>%{hovertext}</b><br><br>State=Texas<br>2014 Poverty Rate=%{marker.size}<br>Burglary rate=%{y}<extra></extra>",
         "hovertext": [
          "Texas"
         ],
         "legendgroup": "Texas",
         "marker": {
          "color": "#ab63fa",
          "size": [
           17.4
          ],
          "sizemode": "area",
          "sizeref": 0.069,
          "symbol": "circle"
         },
         "mode": "markers",
         "name": "Texas",
         "orientation": "v",
         "showlegend": true,
         "type": "scatter",
         "x": [
          17.4
         ],
         "xaxis": "x",
         "y": [
          627.8
         ],
         "yaxis": "y"
        },
        {
         "hovertemplate": "<b>%{hovertext}</b><br><br>State=DC<br>2014 Poverty Rate=%{marker.size}<br>Burglary rate=%{y}<extra></extra>",
         "hovertext": [
          "DC"
         ],
         "legendgroup": "DC",
         "marker": {
          "color": "#FFA15A",
          "size": [
           18
          ],
          "sizemode": "area",
          "sizeref": 0.069,
          "symbol": "circle"
         },
         "mode": "markers",
         "name": "DC",
         "orientation": "v",
         "showlegend": true,
         "type": "scatter",
         "x": [
          18
         ],
         "xaxis": "x",
         "y": [
          526
         ],
         "yaxis": "y"
        },
        {
         "hovertemplate": "<b>%{hovertext}</b><br><br>State=Georgia<br>2014 Poverty Rate=%{marker.size}<br>Burglary rate=%{y}<extra></extra>",
         "hovertext": [
          "Georgia"
         ],
         "legendgroup": "Georgia",
         "marker": {
          "color": "#19d3f3",
          "size": [
           18.5
          ],
          "sizemode": "area",
          "sizeref": 0.069,
          "symbol": "circle"
         },
         "mode": "markers",
         "name": "Georgia",
         "orientation": "v",
         "showlegend": true,
         "type": "scatter",
         "x": [
          18.5
         ],
         "xaxis": "x",
         "y": [
          756.9
         ],
         "yaxis": "y"
        },
        {
         "hovertemplate": "<b>%{hovertext}</b><br><br>State=Arkansas<br>2014 Poverty Rate=%{marker.size}<br>Burglary rate=%{y}<extra></extra>",
         "hovertext": [
          "Arkansas"
         ],
         "legendgroup": "Arkansas",
         "marker": {
          "color": "#FF6692",
          "size": [
           19.1
          ],
          "sizemode": "area",
          "sizeref": 0.069,
          "symbol": "circle"
         },
         "mode": "markers",
         "name": "Arkansas",
         "orientation": "v",
         "showlegend": true,
         "type": "scatter",
         "x": [
          19.1
         ],
         "xaxis": "x",
         "y": [
          835.7
         ],
         "yaxis": "y"
        },
        {
         "hovertemplate": "<b>%{hovertext}</b><br><br>State=New_Mexico<br>2014 Poverty Rate=%{marker.size}<br>Burglary rate=%{y}<extra></extra>",
         "hovertext": [
          "New_Mexico"
         ],
         "legendgroup": "New_Mexico",
         "marker": {
          "color": "#B6E880",
          "size": [
           19.6
          ],
          "sizemode": "area",
          "sizeref": 0.069,
          "symbol": "circle"
         },
         "mode": "markers",
         "name": "New_Mexico",
         "orientation": "v",
         "showlegend": true,
         "type": "scatter",
         "x": [
          19.6
         ],
         "xaxis": "x",
         "y": [
          887.3
         ],
         "yaxis": "y"
        },
        {
         "hovertemplate": "<b>%{hovertext}</b><br><br>State=Arizona<br>2014 Poverty Rate=%{marker.size}<br>Burglary rate=%{y}<extra></extra>",
         "hovertext": [
          "Arizona"
         ],
         "legendgroup": "Arizona",
         "marker": {
          "color": "#FF97FF",
          "size": [
           21.3
          ],
          "sizemode": "area",
          "sizeref": 0.069,
          "symbol": "circle"
         },
         "mode": "markers",
         "name": "Arizona",
         "orientation": "v",
         "showlegend": true,
         "type": "scatter",
         "x": [
          21.3
         ],
         "xaxis": "x",
         "y": [
          647.1
         ],
         "yaxis": "y"
        },
        {
         "hovertemplate": "<b>%{hovertext}</b><br><br>State=Mississippi<br>2014 Poverty Rate=%{marker.size}<br>Burglary rate=%{y}<extra></extra>",
         "hovertext": [
          "Mississippi"
         ],
         "legendgroup": "Mississippi",
         "marker": {
          "color": "#FECB52",
          "size": [
           23.2
          ],
          "sizemode": "area",
          "sizeref": 0.069,
          "symbol": "circle"
         },
         "mode": "markers",
         "name": "Mississippi",
         "orientation": "v",
         "showlegend": true,
         "type": "scatter",
         "x": [
          23.2
         ],
         "xaxis": "x",
         "y": [
          813.3
         ],
         "yaxis": "y"
        },
        {
         "hovertemplate": "<b>%{hovertext}</b><br><br>State=Michigan<br>2014 Poverty Rate=%{marker.size}<br>Burglary rate=%{y}<extra></extra>",
         "hovertext": [
          "Michigan"
         ],
         "legendgroup": "Michigan",
         "marker": {
          "color": "#636efa",
          "size": [
           27.6
          ],
          "sizemode": "area",
          "sizeref": 0.069,
          "symbol": "circle"
         },
         "mode": "markers",
         "name": "Michigan",
         "orientation": "v",
         "showlegend": true,
         "type": "scatter",
         "x": [
          27.6
         ],
         "xaxis": "x",
         "y": [
          445.9
         ],
         "yaxis": "y"
        }
       ],
       "layout": {
        "legend": {
         "itemsizing": "constant",
         "title": {
          "text": "State"
         },
         "tracegroupgap": 0
        },
        "template": {
         "data": {
          "bar": [
           {
            "error_x": {
             "color": "#2a3f5f"
            },
            "error_y": {
             "color": "#2a3f5f"
            },
            "marker": {
             "line": {
              "color": "#E5ECF6",
              "width": 0.5
             }
            },
            "type": "bar"
           }
          ],
          "barpolar": [
           {
            "marker": {
             "line": {
              "color": "#E5ECF6",
              "width": 0.5
             }
            },
            "type": "barpolar"
           }
          ],
          "carpet": [
           {
            "aaxis": {
             "endlinecolor": "#2a3f5f",
             "gridcolor": "white",
             "linecolor": "white",
             "minorgridcolor": "white",
             "startlinecolor": "#2a3f5f"
            },
            "baxis": {
             "endlinecolor": "#2a3f5f",
             "gridcolor": "white",
             "linecolor": "white",
             "minorgridcolor": "white",
             "startlinecolor": "#2a3f5f"
            },
            "type": "carpet"
           }
          ],
          "choropleth": [
           {
            "colorbar": {
             "outlinewidth": 0,
             "ticks": ""
            },
            "type": "choropleth"
           }
          ],
          "contour": [
           {
            "colorbar": {
             "outlinewidth": 0,
             "ticks": ""
            },
            "colorscale": [
             [
              0,
              "#0d0887"
             ],
             [
              0.1111111111111111,
              "#46039f"
             ],
             [
              0.2222222222222222,
              "#7201a8"
             ],
             [
              0.3333333333333333,
              "#9c179e"
             ],
             [
              0.4444444444444444,
              "#bd3786"
             ],
             [
              0.5555555555555556,
              "#d8576b"
             ],
             [
              0.6666666666666666,
              "#ed7953"
             ],
             [
              0.7777777777777778,
              "#fb9f3a"
             ],
             [
              0.8888888888888888,
              "#fdca26"
             ],
             [
              1,
              "#f0f921"
             ]
            ],
            "type": "contour"
           }
          ],
          "contourcarpet": [
           {
            "colorbar": {
             "outlinewidth": 0,
             "ticks": ""
            },
            "type": "contourcarpet"
           }
          ],
          "heatmap": [
           {
            "colorbar": {
             "outlinewidth": 0,
             "ticks": ""
            },
            "colorscale": [
             [
              0,
              "#0d0887"
             ],
             [
              0.1111111111111111,
              "#46039f"
             ],
             [
              0.2222222222222222,
              "#7201a8"
             ],
             [
              0.3333333333333333,
              "#9c179e"
             ],
             [
              0.4444444444444444,
              "#bd3786"
             ],
             [
              0.5555555555555556,
              "#d8576b"
             ],
             [
              0.6666666666666666,
              "#ed7953"
             ],
             [
              0.7777777777777778,
              "#fb9f3a"
             ],
             [
              0.8888888888888888,
              "#fdca26"
             ],
             [
              1,
              "#f0f921"
             ]
            ],
            "type": "heatmap"
           }
          ],
          "heatmapgl": [
           {
            "colorbar": {
             "outlinewidth": 0,
             "ticks": ""
            },
            "colorscale": [
             [
              0,
              "#0d0887"
             ],
             [
              0.1111111111111111,
              "#46039f"
             ],
             [
              0.2222222222222222,
              "#7201a8"
             ],
             [
              0.3333333333333333,
              "#9c179e"
             ],
             [
              0.4444444444444444,
              "#bd3786"
             ],
             [
              0.5555555555555556,
              "#d8576b"
             ],
             [
              0.6666666666666666,
              "#ed7953"
             ],
             [
              0.7777777777777778,
              "#fb9f3a"
             ],
             [
              0.8888888888888888,
              "#fdca26"
             ],
             [
              1,
              "#f0f921"
             ]
            ],
            "type": "heatmapgl"
           }
          ],
          "histogram": [
           {
            "marker": {
             "colorbar": {
              "outlinewidth": 0,
              "ticks": ""
             }
            },
            "type": "histogram"
           }
          ],
          "histogram2d": [
           {
            "colorbar": {
             "outlinewidth": 0,
             "ticks": ""
            },
            "colorscale": [
             [
              0,
              "#0d0887"
             ],
             [
              0.1111111111111111,
              "#46039f"
             ],
             [
              0.2222222222222222,
              "#7201a8"
             ],
             [
              0.3333333333333333,
              "#9c179e"
             ],
             [
              0.4444444444444444,
              "#bd3786"
             ],
             [
              0.5555555555555556,
              "#d8576b"
             ],
             [
              0.6666666666666666,
              "#ed7953"
             ],
             [
              0.7777777777777778,
              "#fb9f3a"
             ],
             [
              0.8888888888888888,
              "#fdca26"
             ],
             [
              1,
              "#f0f921"
             ]
            ],
            "type": "histogram2d"
           }
          ],
          "histogram2dcontour": [
           {
            "colorbar": {
             "outlinewidth": 0,
             "ticks": ""
            },
            "colorscale": [
             [
              0,
              "#0d0887"
             ],
             [
              0.1111111111111111,
              "#46039f"
             ],
             [
              0.2222222222222222,
              "#7201a8"
             ],
             [
              0.3333333333333333,
              "#9c179e"
             ],
             [
              0.4444444444444444,
              "#bd3786"
             ],
             [
              0.5555555555555556,
              "#d8576b"
             ],
             [
              0.6666666666666666,
              "#ed7953"
             ],
             [
              0.7777777777777778,
              "#fb9f3a"
             ],
             [
              0.8888888888888888,
              "#fdca26"
             ],
             [
              1,
              "#f0f921"
             ]
            ],
            "type": "histogram2dcontour"
           }
          ],
          "mesh3d": [
           {
            "colorbar": {
             "outlinewidth": 0,
             "ticks": ""
            },
            "type": "mesh3d"
           }
          ],
          "parcoords": [
           {
            "line": {
             "colorbar": {
              "outlinewidth": 0,
              "ticks": ""
             }
            },
            "type": "parcoords"
           }
          ],
          "pie": [
           {
            "automargin": true,
            "type": "pie"
           }
          ],
          "scatter": [
           {
            "marker": {
             "colorbar": {
              "outlinewidth": 0,
              "ticks": ""
             }
            },
            "type": "scatter"
           }
          ],
          "scatter3d": [
           {
            "line": {
             "colorbar": {
              "outlinewidth": 0,
              "ticks": ""
             }
            },
            "marker": {
             "colorbar": {
              "outlinewidth": 0,
              "ticks": ""
             }
            },
            "type": "scatter3d"
           }
          ],
          "scattercarpet": [
           {
            "marker": {
             "colorbar": {
              "outlinewidth": 0,
              "ticks": ""
             }
            },
            "type": "scattercarpet"
           }
          ],
          "scattergeo": [
           {
            "marker": {
             "colorbar": {
              "outlinewidth": 0,
              "ticks": ""
             }
            },
            "type": "scattergeo"
           }
          ],
          "scattergl": [
           {
            "marker": {
             "colorbar": {
              "outlinewidth": 0,
              "ticks": ""
             }
            },
            "type": "scattergl"
           }
          ],
          "scattermapbox": [
           {
            "marker": {
             "colorbar": {
              "outlinewidth": 0,
              "ticks": ""
             }
            },
            "type": "scattermapbox"
           }
          ],
          "scatterpolar": [
           {
            "marker": {
             "colorbar": {
              "outlinewidth": 0,
              "ticks": ""
             }
            },
            "type": "scatterpolar"
           }
          ],
          "scatterpolargl": [
           {
            "marker": {
             "colorbar": {
              "outlinewidth": 0,
              "ticks": ""
             }
            },
            "type": "scatterpolargl"
           }
          ],
          "scatterternary": [
           {
            "marker": {
             "colorbar": {
              "outlinewidth": 0,
              "ticks": ""
             }
            },
            "type": "scatterternary"
           }
          ],
          "surface": [
           {
            "colorbar": {
             "outlinewidth": 0,
             "ticks": ""
            },
            "colorscale": [
             [
              0,
              "#0d0887"
             ],
             [
              0.1111111111111111,
              "#46039f"
             ],
             [
              0.2222222222222222,
              "#7201a8"
             ],
             [
              0.3333333333333333,
              "#9c179e"
             ],
             [
              0.4444444444444444,
              "#bd3786"
             ],
             [
              0.5555555555555556,
              "#d8576b"
             ],
             [
              0.6666666666666666,
              "#ed7953"
             ],
             [
              0.7777777777777778,
              "#fb9f3a"
             ],
             [
              0.8888888888888888,
              "#fdca26"
             ],
             [
              1,
              "#f0f921"
             ]
            ],
            "type": "surface"
           }
          ],
          "table": [
           {
            "cells": {
             "fill": {
              "color": "#EBF0F8"
             },
             "line": {
              "color": "white"
             }
            },
            "header": {
             "fill": {
              "color": "#C8D4E3"
             },
             "line": {
              "color": "white"
             }
            },
            "type": "table"
           }
          ]
         },
         "layout": {
          "annotationdefaults": {
           "arrowcolor": "#2a3f5f",
           "arrowhead": 0,
           "arrowwidth": 1
          },
          "coloraxis": {
           "colorbar": {
            "outlinewidth": 0,
            "ticks": ""
           }
          },
          "colorscale": {
           "diverging": [
            [
             0,
             "#8e0152"
            ],
            [
             0.1,
             "#c51b7d"
            ],
            [
             0.2,
             "#de77ae"
            ],
            [
             0.3,
             "#f1b6da"
            ],
            [
             0.4,
             "#fde0ef"
            ],
            [
             0.5,
             "#f7f7f7"
            ],
            [
             0.6,
             "#e6f5d0"
            ],
            [
             0.7,
             "#b8e186"
            ],
            [
             0.8,
             "#7fbc41"
            ],
            [
             0.9,
             "#4d9221"
            ],
            [
             1,
             "#276419"
            ]
           ],
           "sequential": [
            [
             0,
             "#0d0887"
            ],
            [
             0.1111111111111111,
             "#46039f"
            ],
            [
             0.2222222222222222,
             "#7201a8"
            ],
            [
             0.3333333333333333,
             "#9c179e"
            ],
            [
             0.4444444444444444,
             "#bd3786"
            ],
            [
             0.5555555555555556,
             "#d8576b"
            ],
            [
             0.6666666666666666,
             "#ed7953"
            ],
            [
             0.7777777777777778,
             "#fb9f3a"
            ],
            [
             0.8888888888888888,
             "#fdca26"
            ],
            [
             1,
             "#f0f921"
            ]
           ],
           "sequentialminus": [
            [
             0,
             "#0d0887"
            ],
            [
             0.1111111111111111,
             "#46039f"
            ],
            [
             0.2222222222222222,
             "#7201a8"
            ],
            [
             0.3333333333333333,
             "#9c179e"
            ],
            [
             0.4444444444444444,
             "#bd3786"
            ],
            [
             0.5555555555555556,
             "#d8576b"
            ],
            [
             0.6666666666666666,
             "#ed7953"
            ],
            [
             0.7777777777777778,
             "#fb9f3a"
            ],
            [
             0.8888888888888888,
             "#fdca26"
            ],
            [
             1,
             "#f0f921"
            ]
           ]
          },
          "colorway": [
           "#636efa",
           "#EF553B",
           "#00cc96",
           "#ab63fa",
           "#FFA15A",
           "#19d3f3",
           "#FF6692",
           "#B6E880",
           "#FF97FF",
           "#FECB52"
          ],
          "font": {
           "color": "#2a3f5f"
          },
          "geo": {
           "bgcolor": "white",
           "lakecolor": "white",
           "landcolor": "#E5ECF6",
           "showlakes": true,
           "showland": true,
           "subunitcolor": "white"
          },
          "hoverlabel": {
           "align": "left"
          },
          "hovermode": "closest",
          "mapbox": {
           "style": "light"
          },
          "paper_bgcolor": "white",
          "plot_bgcolor": "#E5ECF6",
          "polar": {
           "angularaxis": {
            "gridcolor": "white",
            "linecolor": "white",
            "ticks": ""
           },
           "bgcolor": "#E5ECF6",
           "radialaxis": {
            "gridcolor": "white",
            "linecolor": "white",
            "ticks": ""
           }
          },
          "scene": {
           "xaxis": {
            "backgroundcolor": "#E5ECF6",
            "gridcolor": "white",
            "gridwidth": 2,
            "linecolor": "white",
            "showbackground": true,
            "ticks": "",
            "zerolinecolor": "white"
           },
           "yaxis": {
            "backgroundcolor": "#E5ECF6",
            "gridcolor": "white",
            "gridwidth": 2,
            "linecolor": "white",
            "showbackground": true,
            "ticks": "",
            "zerolinecolor": "white"
           },
           "zaxis": {
            "backgroundcolor": "#E5ECF6",
            "gridcolor": "white",
            "gridwidth": 2,
            "linecolor": "white",
            "showbackground": true,
            "ticks": "",
            "zerolinecolor": "white"
           }
          },
          "shapedefaults": {
           "line": {
            "color": "#2a3f5f"
           }
          },
          "ternary": {
           "aaxis": {
            "gridcolor": "white",
            "linecolor": "white",
            "ticks": ""
           },
           "baxis": {
            "gridcolor": "white",
            "linecolor": "white",
            "ticks": ""
           },
           "bgcolor": "#E5ECF6",
           "caxis": {
            "gridcolor": "white",
            "linecolor": "white",
            "ticks": ""
           }
          },
          "title": {
           "x": 0.05
          },
          "xaxis": {
           "automargin": true,
           "gridcolor": "white",
           "linecolor": "white",
           "ticks": "",
           "title": {
            "standoff": 15
           },
           "zerolinecolor": "white",
           "zerolinewidth": 2
          },
          "yaxis": {
           "automargin": true,
           "gridcolor": "white",
           "linecolor": "white",
           "ticks": "",
           "title": {
            "standoff": 15
           },
           "zerolinecolor": "white",
           "zerolinewidth": 2
          }
         }
        },
        "title": {
         "text": "Poverty Rate in the US"
        },
        "xaxis": {
         "anchor": "y",
         "domain": [
          0,
          1
         ],
         "title": {
          "text": "2014 Poverty Rate"
         }
        },
        "yaxis": {
         "anchor": "x",
         "domain": [
          0,
          1
         ],
         "title": {
          "text": "Burglary rate"
         }
        }
       }
      },
      "text/html": [
       "<div>\n",
       "        \n",
       "        \n",
       "            <div id=\"873389f2-b70d-43a6-9078-8bad14ca1ff2\" class=\"plotly-graph-div\" style=\"height:525px; width:100%;\"></div>\n",
       "            <script type=\"text/javascript\">\n",
       "                require([\"plotly\"], function(Plotly) {\n",
       "                    window.PLOTLYENV=window.PLOTLYENV || {};\n",
       "                    \n",
       "                if (document.getElementById(\"873389f2-b70d-43a6-9078-8bad14ca1ff2\")) {\n",
       "                    Plotly.newPlot(\n",
       "                        '873389f2-b70d-43a6-9078-8bad14ca1ff2',\n",
       "                        [{\"hovertemplate\": \"<b>%{hovertext}</b><br><br>State=Oregon<br>2014 Poverty Rate=%{marker.size}<br>Burglary rate=%{y}<extra></extra>\", \"hovertext\": [\"Oregon\"], \"legendgroup\": \"Oregon\", \"marker\": {\"color\": \"#636efa\", \"size\": [7.11], \"sizemode\": \"area\", \"sizeref\": 0.069, \"symbol\": \"circle\"}, \"mode\": \"markers\", \"name\": \"Oregon\", \"orientation\": \"v\", \"showlegend\": true, \"type\": \"scatter\", \"x\": [7.11], \"xaxis\": \"x\", \"y\": [434.0], \"yaxis\": \"y\"}, {\"hovertemplate\": \"<b>%{hovertext}</b><br><br>State=Wyoming<br>2014 Poverty Rate=%{marker.size}<br>Burglary rate=%{y}<extra></extra>\", \"hovertext\": [\"Wyoming\"], \"legendgroup\": \"Wyoming\", \"marker\": {\"color\": \"#EF553B\", \"size\": [9.3], \"sizemode\": \"area\", \"sizeref\": 0.069, \"symbol\": \"circle\"}, \"mode\": \"markers\", \"name\": \"Wyoming\", \"orientation\": \"v\", \"showlegend\": true, \"type\": \"scatter\", \"x\": [9.3], \"xaxis\": \"x\", \"y\": [289.1], \"yaxis\": \"y\"}, {\"hovertemplate\": \"<b>%{hovertext}</b><br><br>State=New_Hampshire<br>2014 Poverty Rate=%{marker.size}<br>Burglary rate=%{y}<extra></extra>\", \"hovertext\": [\"New_Hampshire\"], \"legendgroup\": \"New_Hampshire\", \"marker\": {\"color\": \"#00cc96\", \"size\": [9.5], \"sizemode\": \"area\", \"sizeref\": 0.069, \"symbol\": \"circle\"}, \"mode\": \"markers\", \"name\": \"New_Hampshire\", \"orientation\": \"v\", \"showlegend\": true, \"type\": \"scatter\", \"x\": [9.5], \"xaxis\": \"x\", \"y\": [313.7], \"yaxis\": \"y\"}, {\"hovertemplate\": \"<b>%{hovertext}</b><br><br>State=Maryland<br>2014 Poverty Rate=%{marker.size}<br>Burglary rate=%{y}<extra></extra>\", \"hovertext\": [\"Maryland\"], \"legendgroup\": \"Maryland\", \"marker\": {\"color\": \"#ab63fa\", \"size\": [9.6], \"sizemode\": \"area\", \"sizeref\": 0.069, \"symbol\": \"circle\"}, \"mode\": \"markers\", \"name\": \"Maryland\", \"orientation\": \"v\", \"showlegend\": true, \"type\": \"scatter\", \"x\": [9.6], \"xaxis\": \"x\", \"y\": [468.7], \"yaxis\": \"y\"}, {\"hovertemplate\": \"<b>%{hovertext}</b><br><br>State=Vermont<br>2014 Poverty Rate=%{marker.size}<br>Burglary rate=%{y}<extra></extra>\", \"hovertext\": [\"Vermont\"], \"legendgroup\": \"Vermont\", \"marker\": {\"color\": \"#FFA15A\", \"size\": [9.7], \"sizemode\": \"area\", \"sizeref\": 0.069, \"symbol\": \"circle\"}, \"mode\": \"markers\", \"name\": \"Vermont\", \"orientation\": \"v\", \"showlegend\": true, \"type\": \"scatter\", \"x\": [9.7], \"xaxis\": \"x\", \"y\": [324.6], \"yaxis\": \"y\"}, {\"hovertemplate\": \"<b>%{hovertext}</b><br><br>State=Utah<br>2014 Poverty Rate=%{marker.size}<br>Burglary rate=%{y}<extra></extra>\", \"hovertext\": [\"Utah\"], \"legendgroup\": \"Utah\", \"marker\": {\"color\": \"#19d3f3\", \"size\": [9.8], \"sizemode\": \"area\", \"sizeref\": 0.069, \"symbol\": \"circle\"}, \"mode\": \"markers\", \"name\": \"Utah\", \"orientation\": \"v\", \"showlegend\": true, \"type\": \"scatter\", \"x\": [9.8], \"xaxis\": \"x\", \"y\": [391.4], \"yaxis\": \"y\"}, {\"hovertemplate\": \"<b>%{hovertext}</b><br><br>State=Nebraska<br>2014 Poverty Rate=%{marker.size}<br>Burglary rate=%{y}<extra></extra>\", \"hovertext\": [\"Nebraska\"], \"legendgroup\": \"Nebraska\", \"marker\": {\"color\": \"#FF6692\", \"size\": [10.0], \"sizemode\": \"area\", \"sizeref\": 0.069, \"symbol\": \"circle\"}, \"mode\": \"markers\", \"name\": \"Nebraska\", \"orientation\": \"v\", \"showlegend\": true, \"type\": \"scatter\", \"x\": [10.0], \"xaxis\": \"x\", \"y\": [422.5], \"yaxis\": \"y\"}, {\"hovertemplate\": \"<b>%{hovertext}</b><br><br>State=Connecticut<br>2014 Poverty Rate=%{marker.size}<br>Burglary rate=%{y}<extra></extra>\", \"hovertext\": [\"Connecticut\"], \"legendgroup\": \"Connecticut\", \"marker\": {\"color\": \"#B6E880\", \"size\": [10.6], \"sizemode\": \"area\", \"sizeref\": 0.069, \"symbol\": \"circle\"}, \"mode\": \"markers\", \"name\": \"Connecticut\", \"orientation\": \"v\", \"showlegend\": true, \"type\": \"scatter\", \"x\": [10.6], \"xaxis\": \"x\", \"y\": [332.4], \"yaxis\": \"y\"}, {\"hovertemplate\": \"<b>%{hovertext}</b><br><br>State=Virginia<br>2014 Poverty Rate=%{marker.size}<br>Burglary rate=%{y}<extra></extra>\", \"hovertext\": [\"Virginia\"], \"legendgroup\": \"Virginia\", \"marker\": {\"color\": \"#FF97FF\", \"size\": [10.8], \"sizemode\": \"area\", \"sizeref\": 0.069, \"symbol\": \"circle\"}, \"mode\": \"markers\", \"name\": \"Virginia\", \"orientation\": \"v\", \"showlegend\": true, \"type\": \"scatter\", \"x\": [10.8], \"xaxis\": \"x\", \"y\": [277.7], \"yaxis\": \"y\"}, {\"hovertemplate\": \"<b>%{hovertext}</b><br><br>State=Massachusetts<br>2014 Poverty Rate=%{marker.size}<br>Burglary rate=%{y}<extra></extra>\", \"hovertext\": [\"Massachusetts\"], \"legendgroup\": \"Massachusetts\", \"marker\": {\"color\": \"#FECB52\", \"size\": [10.9], \"sizemode\": \"area\", \"sizeref\": 0.069, \"symbol\": \"circle\"}, \"mode\": \"markers\", \"name\": \"Massachusetts\", \"orientation\": \"v\", \"showlegend\": true, \"type\": \"scatter\", \"x\": [10.9], \"xaxis\": \"x\", \"y\": [370.1], \"yaxis\": \"y\"}, {\"hovertemplate\": \"<b>%{hovertext}</b><br><br>State=Iowa<br>2014 Poverty Rate=%{marker.size}<br>Burglary rate=%{y}<extra></extra>\", \"hovertext\": [\"Iowa\"], \"legendgroup\": \"Iowa\", \"marker\": {\"color\": \"#636efa\", \"size\": [10.9], \"sizemode\": \"area\", \"sizeref\": 0.069, \"symbol\": \"circle\"}, \"mode\": \"markers\", \"name\": \"Iowa\", \"orientation\": \"v\", \"showlegend\": true, \"type\": \"scatter\", \"x\": [10.9], \"xaxis\": \"x\", \"y\": [464.4], \"yaxis\": \"y\"}, {\"hovertemplate\": \"<b>%{hovertext}</b><br><br>State=North_Dakota<br>2014 Poverty Rate=%{marker.size}<br>Burglary rate=%{y}<extra></extra>\", \"hovertext\": [\"North_Dakota\"], \"legendgroup\": \"North_Dakota\", \"marker\": {\"color\": \"#EF553B\", \"size\": [11.0], \"sizemode\": \"area\", \"sizeref\": 0.069, \"symbol\": \"circle\"}, \"mode\": \"markers\", \"name\": \"North_Dakota\", \"orientation\": \"v\", \"showlegend\": true, \"type\": \"scatter\", \"x\": [11.0], \"xaxis\": \"x\", \"y\": [366.1], \"yaxis\": \"y\"}, {\"hovertemplate\": \"<b>%{hovertext}</b><br><br>State=Wisconsin<br>2014 Poverty Rate=%{marker.size}<br>Burglary rate=%{y}<extra></extra>\", \"hovertext\": [\"Wisconsin\"], \"legendgroup\": \"Wisconsin\", \"marker\": {\"color\": \"#00cc96\", \"size\": [11.1], \"sizemode\": \"area\", \"sizeref\": 0.069, \"symbol\": \"circle\"}, \"mode\": \"markers\", \"name\": \"Wisconsin\", \"orientation\": \"v\", \"showlegend\": true, \"type\": \"scatter\", \"x\": [11.1], \"xaxis\": \"x\", \"y\": [368.5], \"yaxis\": \"y\"}, {\"hovertemplate\": \"<b>%{hovertext}</b><br><br>State=Pennsylvania<br>2014 Poverty Rate=%{marker.size}<br>Burglary rate=%{y}<extra></extra>\", \"hovertext\": [\"Pennsylvania\"], \"legendgroup\": \"Pennsylvania\", \"marker\": {\"color\": \"#ab63fa\", \"size\": [11.2], \"sizemode\": \"area\", \"sizeref\": 0.069, \"symbol\": \"circle\"}, \"mode\": \"markers\", \"name\": \"Pennsylvania\", \"orientation\": \"v\", \"showlegend\": true, \"type\": \"scatter\", \"x\": [11.2], \"xaxis\": \"x\", \"y\": [357.5], \"yaxis\": \"y\"}, {\"hovertemplate\": \"<b>%{hovertext}</b><br><br>State=Maine<br>2014 Poverty Rate=%{marker.size}<br>Burglary rate=%{y}<extra></extra>\", \"hovertext\": [\"Maine\"], \"legendgroup\": \"Maine\", \"marker\": {\"color\": \"#FFA15A\", \"size\": [11.6], \"sizemode\": \"area\", \"sizeref\": 0.069, \"symbol\": \"circle\"}, \"mode\": \"markers\", \"name\": \"Maine\", \"orientation\": \"v\", \"showlegend\": true, \"type\": \"scatter\", \"x\": [11.6], \"xaxis\": \"x\", \"y\": [378.2], \"yaxis\": \"y\"}, {\"hovertemplate\": \"<b>%{hovertext}</b><br><br>State=Washington<br>2014 Poverty Rate=%{marker.size}<br>Burglary rate=%{y}<extra></extra>\", \"hovertext\": [\"Washington\"], \"legendgroup\": \"Washington\", \"marker\": {\"color\": \"#19d3f3\", \"size\": [11.9], \"sizemode\": \"area\", \"sizeref\": 0.069, \"symbol\": \"circle\"}, \"mode\": \"markers\", \"name\": \"Washington\", \"orientation\": \"v\", \"showlegend\": true, \"type\": \"scatter\", \"x\": [11.9], \"xaxis\": \"x\", \"y\": [783.0], \"yaxis\": \"y\"}, {\"hovertemplate\": \"<b>%{hovertext}</b><br><br>State=Minnesota<br>2014 Poverty Rate=%{marker.size}<br>Burglary rate=%{y}<extra></extra>\", \"hovertext\": [\"Minnesota\"], \"legendgroup\": \"Minnesota\", \"marker\": {\"color\": \"#FF6692\", \"size\": [12.1], \"sizemode\": \"area\", \"sizeref\": 0.069, \"symbol\": \"circle\"}, \"mode\": \"markers\", \"name\": \"Minnesota\", \"orientation\": \"v\", \"showlegend\": true, \"type\": \"scatter\", \"x\": [12.1], \"xaxis\": \"x\", \"y\": [380.7], \"yaxis\": \"y\"}, {\"hovertemplate\": \"<b>%{hovertext}</b><br><br>State=Alaska<br>2014 Poverty Rate=%{marker.size}<br>Burglary rate=%{y}<extra></extra>\", \"hovertext\": [\"Alaska\"], \"legendgroup\": \"Alaska\", \"marker\": {\"color\": \"#B6E880\", \"size\": [12.1], \"sizemode\": \"area\", \"sizeref\": 0.069, \"symbol\": \"circle\"}, \"mode\": \"markers\", \"name\": \"Alaska\", \"orientation\": \"v\", \"showlegend\": true, \"type\": \"scatter\", \"x\": [12.1], \"xaxis\": \"x\", \"y\": [427.6], \"yaxis\": \"y\"}, {\"hovertemplate\": \"<b>%{hovertext}</b><br><br>State=Delaware<br>2014 Poverty Rate=%{marker.size}<br>Burglary rate=%{y}<extra></extra>\", \"hovertext\": [\"Delaware\"], \"legendgroup\": \"Delaware\", \"marker\": {\"color\": \"#FF97FF\", \"size\": [12.4], \"sizemode\": \"area\", \"sizeref\": 0.069, \"symbol\": \"circle\"}, \"mode\": \"markers\", \"name\": \"Delaware\", \"orientation\": \"v\", \"showlegend\": true, \"type\": \"scatter\", \"x\": [12.4], \"xaxis\": \"x\", \"y\": [616.5], \"yaxis\": \"y\"}, {\"hovertemplate\": \"<b>%{hovertext}</b><br><br>State=Colorado<br>2014 Poverty Rate=%{marker.size}<br>Burglary rate=%{y}<extra></extra>\", \"hovertext\": [\"Colorado\"], \"legendgroup\": \"Colorado\", \"marker\": {\"color\": \"#FECB52\", \"size\": [12.4], \"sizemode\": \"area\", \"sizeref\": 0.069, \"symbol\": \"circle\"}, \"mode\": \"markers\", \"name\": \"Colorado\", \"orientation\": \"v\", \"showlegend\": true, \"type\": \"scatter\", \"x\": [12.4], \"xaxis\": \"x\", \"y\": [438.2], \"yaxis\": \"y\"}, {\"hovertemplate\": \"<b>%{hovertext}</b><br><br>State=Hawaii<br>2014 Poverty Rate=%{marker.size}<br>Burglary rate=%{y}<extra></extra>\", \"hovertext\": [\"Hawaii\"], \"legendgroup\": \"Hawaii\", \"marker\": {\"color\": \"#636efa\", \"size\": [12.6], \"sizemode\": \"area\", \"sizeref\": 0.069, \"symbol\": \"circle\"}, \"mode\": \"markers\", \"name\": \"Hawaii\", \"orientation\": \"v\", \"showlegend\": true, \"type\": \"scatter\", \"x\": [12.6], \"xaxis\": \"x\", \"y\": [547.9], \"yaxis\": \"y\"}, {\"hovertemplate\": \"<b>%{hovertext}</b><br><br>State=Oklahoma<br>2014 Poverty Rate=%{marker.size}<br>Burglary rate=%{y}<extra></extra>\", \"hovertext\": [\"Oklahoma\"], \"legendgroup\": \"Oklahoma\", \"marker\": {\"color\": \"#EF553B\", \"size\": [13.0], \"sizemode\": \"area\", \"sizeref\": 0.069, \"symbol\": \"circle\"}, \"mode\": \"markers\", \"name\": \"Oklahoma\", \"orientation\": \"v\", \"showlegend\": true, \"type\": \"scatter\", \"x\": [13.0], \"xaxis\": \"x\", \"y\": [760.9], \"yaxis\": \"y\"}, {\"hovertemplate\": \"<b>%{hovertext}</b><br><br>State=Nevada<br>2014 Poverty Rate=%{marker.size}<br>Burglary rate=%{y}<extra></extra>\", \"hovertext\": [\"Nevada\"], \"legendgroup\": \"Nevada\", \"marker\": {\"color\": \"#00cc96\", \"size\": [13.1], \"sizemode\": \"area\", \"sizeref\": 0.069, \"symbol\": \"circle\"}, \"mode\": \"markers\", \"name\": \"Nevada\", \"orientation\": \"v\", \"showlegend\": true, \"type\": \"scatter\", \"x\": [13.1], \"xaxis\": \"x\", \"y\": [772.3], \"yaxis\": \"y\"}, {\"hovertemplate\": \"<b>%{hovertext}</b><br><br>State=Rhode_Island<br>2014 Poverty Rate=%{marker.size}<br>Burglary rate=%{y}<extra></extra>\", \"hovertext\": [\"Rhode_Island\"], \"legendgroup\": \"Rhode_Island\", \"marker\": {\"color\": \"#ab63fa\", \"size\": [13.2], \"sizemode\": \"area\", \"sizeref\": 0.069, \"symbol\": \"circle\"}, \"mode\": \"markers\", \"name\": \"Rhode_Island\", \"orientation\": \"v\", \"showlegend\": true, \"type\": \"scatter\", \"x\": [13.2], \"xaxis\": \"x\", \"y\": [457.1], \"yaxis\": \"y\"}, {\"hovertemplate\": \"<b>%{hovertext}</b><br><br>State=Illinois<br>2014 Poverty Rate=%{marker.size}<br>Burglary rate=%{y}<extra></extra>\", \"hovertext\": [\"Illinois\"], \"legendgroup\": \"Illinois\", \"marker\": {\"color\": \"#FFA15A\", \"size\": [13.3], \"sizemode\": \"area\", \"sizeref\": 0.069, \"symbol\": \"circle\"}, \"mode\": \"markers\", \"name\": \"Illinois\", \"orientation\": \"v\", \"showlegend\": true, \"type\": \"scatter\", \"x\": [13.3], \"xaxis\": \"x\", \"y\": [388.2], \"yaxis\": \"y\"}, {\"hovertemplate\": \"<b>%{hovertext}</b><br><br>State=Ohio<br>2014 Poverty Rate=%{marker.size}<br>Burglary rate=%{y}<extra></extra>\", \"hovertext\": [\"Ohio\"], \"legendgroup\": \"Ohio\", \"marker\": {\"color\": \"#19d3f3\", \"size\": [13.5], \"sizemode\": \"area\", \"sizeref\": 0.069, \"symbol\": \"circle\"}, \"mode\": \"markers\", \"name\": \"Ohio\", \"orientation\": \"v\", \"showlegend\": true, \"type\": \"scatter\", \"x\": [13.5], \"xaxis\": \"x\", \"y\": [680.0], \"yaxis\": \"y\"}, {\"hovertemplate\": \"<b>%{hovertext}</b><br><br>State=Montana<br>2014 Poverty Rate=%{marker.size}<br>Burglary rate=%{y}<extra></extra>\", \"hovertext\": [\"Montana\"], \"legendgroup\": \"Montana\", \"marker\": {\"color\": \"#FF6692\", \"size\": [13.5], \"sizemode\": \"area\", \"sizeref\": 0.069, \"symbol\": \"circle\"}, \"mode\": \"markers\", \"name\": \"Montana\", \"orientation\": \"v\", \"showlegend\": true, \"type\": \"scatter\", \"x\": [13.5], \"xaxis\": \"x\", \"y\": [351.2], \"yaxis\": \"y\"}, {\"hovertemplate\": \"<b>%{hovertext}</b><br><br>State=New_Jersey<br>2014 Poverty Rate=%{marker.size}<br>Burglary rate=%{y}<extra></extra>\", \"hovertext\": [\"New_Jersey\"], \"legendgroup\": \"New_Jersey\", \"marker\": {\"color\": \"#B6E880\", \"size\": [13.7], \"sizemode\": \"area\", \"sizeref\": 0.069, \"symbol\": \"circle\"}, \"mode\": \"markers\", \"name\": \"New_Jersey\", \"orientation\": \"v\", \"showlegend\": true, \"type\": \"scatter\", \"x\": [13.7], \"xaxis\": \"x\", \"y\": [354.8], \"yaxis\": \"y\"}, {\"hovertemplate\": \"<b>%{hovertext}</b><br><br>State=South_Carolina<br>2014 Poverty Rate=%{marker.size}<br>Burglary rate=%{y}<extra></extra>\", \"hovertext\": [\"South_Carolina\"], \"legendgroup\": \"South_Carolina\", \"marker\": {\"color\": \"#FF97FF\", \"size\": [13.8], \"sizemode\": \"area\", \"sizeref\": 0.069, \"symbol\": \"circle\"}, \"mode\": \"markers\", \"name\": \"South_Carolina\", \"orientation\": \"v\", \"showlegend\": true, \"type\": \"scatter\", \"x\": [13.8], \"xaxis\": \"x\", \"y\": [759.9], \"yaxis\": \"y\"}, {\"hovertemplate\": \"<b>%{hovertext}</b><br><br>State=Kansas<br>2014 Poverty Rate=%{marker.size}<br>Burglary rate=%{y}<extra></extra>\", \"hovertext\": [\"Kansas\"], \"legendgroup\": \"Kansas\", \"marker\": {\"color\": \"#FECB52\", \"size\": [13.9], \"sizemode\": \"area\", \"sizeref\": 0.069, \"symbol\": \"circle\"}, \"mode\": \"markers\", \"name\": \"Kansas\", \"orientation\": \"v\", \"showlegend\": true, \"type\": \"scatter\", \"x\": [13.9], \"xaxis\": \"x\", \"y\": [545.0], \"yaxis\": \"y\"}, {\"hovertemplate\": \"<b>%{hovertext}</b><br><br>State=Idaho<br>2014 Poverty Rate=%{marker.size}<br>Burglary rate=%{y}<extra></extra>\", \"hovertext\": [\"Idaho\"], \"legendgroup\": \"Idaho\", \"marker\": {\"color\": \"#636efa\", \"size\": [13.9], \"sizemode\": \"area\", \"sizeref\": 0.069, \"symbol\": \"circle\"}, \"mode\": \"markers\", \"name\": \"Idaho\", \"orientation\": \"v\", \"showlegend\": true, \"type\": \"scatter\", \"x\": [13.9], \"xaxis\": \"x\", \"y\": [393.3], \"yaxis\": \"y\"}, {\"hovertemplate\": \"<b>%{hovertext}</b><br><br>State=Louisiana<br>2014 Poverty Rate=%{marker.size}<br>Burglary rate=%{y}<extra></extra>\", \"hovertext\": [\"Louisiana\"], \"legendgroup\": \"Louisiana\", \"marker\": {\"color\": \"#EF553B\", \"size\": [14.3], \"sizemode\": \"area\", \"sizeref\": 0.069, \"symbol\": \"circle\"}, \"mode\": \"markers\", \"name\": \"Louisiana\", \"orientation\": \"v\", \"showlegend\": true, \"type\": \"scatter\", \"x\": [14.3], \"xaxis\": \"x\", \"y\": [824.5], \"yaxis\": \"y\"}, {\"hovertemplate\": \"<b>%{hovertext}</b><br><br>State=South_Dakota<br>2014 Poverty Rate=%{marker.size}<br>Burglary rate=%{y}<extra></extra>\", \"hovertext\": [\"South_Dakota\"], \"legendgroup\": \"South_Dakota\", \"marker\": {\"color\": \"#00cc96\", \"size\": [14.3], \"sizemode\": \"area\", \"sizeref\": 0.069, \"symbol\": \"circle\"}, \"mode\": \"markers\", \"name\": \"South_Dakota\", \"orientation\": \"v\", \"showlegend\": true, \"type\": \"scatter\", \"x\": [14.3], \"xaxis\": \"x\", \"y\": [330.3], \"yaxis\": \"y\"}, {\"hovertemplate\": \"<b>%{hovertext}</b><br><br>State=Florida<br>2014 Poverty Rate=%{marker.size}<br>Burglary rate=%{y}<extra></extra>\", \"hovertext\": [\"Florida\"], \"legendgroup\": \"Florida\", \"marker\": {\"color\": \"#ab63fa\", \"size\": [14.6], \"sizemode\": \"area\", \"sizeref\": 0.069, \"symbol\": \"circle\"}, \"mode\": \"markers\", \"name\": \"Florida\", \"orientation\": \"v\", \"showlegend\": true, \"type\": \"scatter\", \"x\": [14.6], \"xaxis\": \"x\", \"y\": [719.9], \"yaxis\": \"y\"}, {\"hovertemplate\": \"<b>%{hovertext}</b><br><br>State=California<br>2014 Poverty Rate=%{marker.size}<br>Burglary rate=%{y}<extra></extra>\", \"hovertext\": [\"California\"], \"legendgroup\": \"California\", \"marker\": {\"color\": \"#FFA15A\", \"size\": [15.5], \"sizemode\": \"area\", \"sizeref\": 0.069, \"symbol\": \"circle\"}, \"mode\": \"markers\", \"name\": \"California\", \"orientation\": \"v\", \"showlegend\": true, \"type\": \"scatter\", \"x\": [15.5], \"xaxis\": \"x\", \"y\": [522.3], \"yaxis\": \"y\"}, {\"hovertemplate\": \"<b>%{hovertext}</b><br><br>State=Missouri<br>2014 Poverty Rate=%{marker.size}<br>Burglary rate=%{y}<extra></extra>\", \"hovertext\": [\"Missouri\"], \"legendgroup\": \"Missouri\", \"marker\": {\"color\": \"#19d3f3\", \"size\": [15.6], \"sizemode\": \"area\", \"sizeref\": 0.069, \"symbol\": \"circle\"}, \"mode\": \"markers\", \"name\": \"Missouri\", \"orientation\": \"v\", \"showlegend\": true, \"type\": \"scatter\", \"x\": [15.6], \"xaxis\": \"x\", \"y\": [581.5], \"yaxis\": \"y\"}, {\"hovertemplate\": \"<b>%{hovertext}</b><br><br>State=New_York<br>2014 Poverty Rate=%{marker.size}<br>Burglary rate=%{y}<extra></extra>\", \"hovertext\": [\"New_York\"], \"legendgroup\": \"New_York\", \"marker\": {\"color\": \"#FF6692\", \"size\": [15.9], \"sizemode\": \"area\", \"sizeref\": 0.069, \"symbol\": \"circle\"}, \"mode\": \"markers\", \"name\": \"New_York\", \"orientation\": \"v\", \"showlegend\": true, \"type\": \"scatter\", \"x\": [15.9], \"xaxis\": \"x\", \"y\": [257.2], \"yaxis\": \"y\"}, {\"hovertemplate\": \"<b>%{hovertext}</b><br><br>State=West_Virginia<br>2014 Poverty Rate=%{marker.size}<br>Burglary rate=%{y}<extra></extra>\", \"hovertext\": [\"West_Virginia\"], \"legendgroup\": \"West_Virginia\", \"marker\": {\"color\": \"#B6E880\", \"size\": [16.0], \"sizemode\": \"area\", \"sizeref\": 0.069, \"symbol\": \"circle\"}, \"mode\": \"markers\", \"name\": \"West_Virginia\", \"orientation\": \"v\", \"showlegend\": true, \"type\": \"scatter\", \"x\": [16.0], \"xaxis\": \"x\", \"y\": [484.9], \"yaxis\": \"y\"}, {\"hovertemplate\": \"<b>%{hovertext}</b><br><br>State=Indiana<br>2014 Poverty Rate=%{marker.size}<br>Burglary rate=%{y}<extra></extra>\", \"hovertext\": [\"Indiana\"], \"legendgroup\": \"Indiana\", \"marker\": {\"color\": \"#FF97FF\", \"size\": [16.4], \"sizemode\": \"area\", \"sizeref\": 0.069, \"symbol\": \"circle\"}, \"mode\": \"markers\", \"name\": \"Indiana\", \"orientation\": \"v\", \"showlegend\": true, \"type\": \"scatter\", \"x\": [16.4], \"xaxis\": \"x\", \"y\": [559.3], \"yaxis\": \"y\"}, {\"hovertemplate\": \"<b>%{hovertext}</b><br><br>State=Tennessee<br>2014 Poverty Rate=%{marker.size}<br>Burglary rate=%{y}<extra></extra>\", \"hovertext\": [\"Tennessee\"], \"legendgroup\": \"Tennessee\", \"marker\": {\"color\": \"#FECB52\", \"size\": [16.7], \"sizemode\": \"area\", \"sizeref\": 0.069, \"symbol\": \"circle\"}, \"mode\": \"markers\", \"name\": \"Tennessee\", \"orientation\": \"v\", \"showlegend\": true, \"type\": \"scatter\", \"x\": [16.7], \"xaxis\": \"x\", \"y\": [712.2], \"yaxis\": \"y\"}, {\"hovertemplate\": \"<b>%{hovertext}</b><br><br>State=Alabama<br>2014 Poverty Rate=%{marker.size}<br>Burglary rate=%{y}<extra></extra>\", \"hovertext\": [\"Alabama\"], \"legendgroup\": \"Alabama\", \"marker\": {\"color\": \"#636efa\", \"size\": [16.8], \"sizemode\": \"area\", \"sizeref\": 0.069, \"symbol\": \"circle\"}, \"mode\": \"markers\", \"name\": \"Alabama\", \"orientation\": \"v\", \"showlegend\": true, \"type\": \"scatter\", \"x\": [16.8], \"xaxis\": \"x\", \"y\": [819.0], \"yaxis\": \"y\"}, {\"hovertemplate\": \"<b>%{hovertext}</b><br><br>State=North_Carolina<br>2014 Poverty Rate=%{marker.size}<br>Burglary rate=%{y}<extra></extra>\", \"hovertext\": [\"North_Carolina\"], \"legendgroup\": \"North_Carolina\", \"marker\": {\"color\": \"#EF553B\", \"size\": [17.0], \"sizemode\": \"area\", \"sizeref\": 0.069, \"symbol\": \"circle\"}, \"mode\": \"markers\", \"name\": \"North_Carolina\", \"orientation\": \"v\", \"showlegend\": true, \"type\": \"scatter\", \"x\": [17.0], \"xaxis\": \"x\", \"y\": [798.2], \"yaxis\": \"y\"}, {\"hovertemplate\": \"<b>%{hovertext}</b><br><br>State=Kentucky<br>2014 Poverty Rate=%{marker.size}<br>Burglary rate=%{y}<extra></extra>\", \"hovertext\": [\"Kentucky\"], \"legendgroup\": \"Kentucky\", \"marker\": {\"color\": \"#00cc96\", \"size\": [17.1], \"sizemode\": \"area\", \"sizeref\": 0.069, \"symbol\": \"circle\"}, \"mode\": \"markers\", \"name\": \"Kentucky\", \"orientation\": \"v\", \"showlegend\": true, \"type\": \"scatter\", \"x\": [17.1], \"xaxis\": \"x\", \"y\": [526.7], \"yaxis\": \"y\"}, {\"hovertemplate\": \"<b>%{hovertext}</b><br><br>State=Texas<br>2014 Poverty Rate=%{marker.size}<br>Burglary rate=%{y}<extra></extra>\", \"hovertext\": [\"Texas\"], \"legendgroup\": \"Texas\", \"marker\": {\"color\": \"#ab63fa\", \"size\": [17.4], \"sizemode\": \"area\", \"sizeref\": 0.069, \"symbol\": \"circle\"}, \"mode\": \"markers\", \"name\": \"Texas\", \"orientation\": \"v\", \"showlegend\": true, \"type\": \"scatter\", \"x\": [17.4], \"xaxis\": \"x\", \"y\": [627.8], \"yaxis\": \"y\"}, {\"hovertemplate\": \"<b>%{hovertext}</b><br><br>State=DC<br>2014 Poverty Rate=%{marker.size}<br>Burglary rate=%{y}<extra></extra>\", \"hovertext\": [\"DC\"], \"legendgroup\": \"DC\", \"marker\": {\"color\": \"#FFA15A\", \"size\": [18.0], \"sizemode\": \"area\", \"sizeref\": 0.069, \"symbol\": \"circle\"}, \"mode\": \"markers\", \"name\": \"DC\", \"orientation\": \"v\", \"showlegend\": true, \"type\": \"scatter\", \"x\": [18.0], \"xaxis\": \"x\", \"y\": [526.0], \"yaxis\": \"y\"}, {\"hovertemplate\": \"<b>%{hovertext}</b><br><br>State=Georgia<br>2014 Poverty Rate=%{marker.size}<br>Burglary rate=%{y}<extra></extra>\", \"hovertext\": [\"Georgia\"], \"legendgroup\": \"Georgia\", \"marker\": {\"color\": \"#19d3f3\", \"size\": [18.5], \"sizemode\": \"area\", \"sizeref\": 0.069, \"symbol\": \"circle\"}, \"mode\": \"markers\", \"name\": \"Georgia\", \"orientation\": \"v\", \"showlegend\": true, \"type\": \"scatter\", \"x\": [18.5], \"xaxis\": \"x\", \"y\": [756.9], \"yaxis\": \"y\"}, {\"hovertemplate\": \"<b>%{hovertext}</b><br><br>State=Arkansas<br>2014 Poverty Rate=%{marker.size}<br>Burglary rate=%{y}<extra></extra>\", \"hovertext\": [\"Arkansas\"], \"legendgroup\": \"Arkansas\", \"marker\": {\"color\": \"#FF6692\", \"size\": [19.1], \"sizemode\": \"area\", \"sizeref\": 0.069, \"symbol\": \"circle\"}, \"mode\": \"markers\", \"name\": \"Arkansas\", \"orientation\": \"v\", \"showlegend\": true, \"type\": \"scatter\", \"x\": [19.1], \"xaxis\": \"x\", \"y\": [835.7], \"yaxis\": \"y\"}, {\"hovertemplate\": \"<b>%{hovertext}</b><br><br>State=New_Mexico<br>2014 Poverty Rate=%{marker.size}<br>Burglary rate=%{y}<extra></extra>\", \"hovertext\": [\"New_Mexico\"], \"legendgroup\": \"New_Mexico\", \"marker\": {\"color\": \"#B6E880\", \"size\": [19.6], \"sizemode\": \"area\", \"sizeref\": 0.069, \"symbol\": \"circle\"}, \"mode\": \"markers\", \"name\": \"New_Mexico\", \"orientation\": \"v\", \"showlegend\": true, \"type\": \"scatter\", \"x\": [19.6], \"xaxis\": \"x\", \"y\": [887.3], \"yaxis\": \"y\"}, {\"hovertemplate\": \"<b>%{hovertext}</b><br><br>State=Arizona<br>2014 Poverty Rate=%{marker.size}<br>Burglary rate=%{y}<extra></extra>\", \"hovertext\": [\"Arizona\"], \"legendgroup\": \"Arizona\", \"marker\": {\"color\": \"#FF97FF\", \"size\": [21.3], \"sizemode\": \"area\", \"sizeref\": 0.069, \"symbol\": \"circle\"}, \"mode\": \"markers\", \"name\": \"Arizona\", \"orientation\": \"v\", \"showlegend\": true, \"type\": \"scatter\", \"x\": [21.3], \"xaxis\": \"x\", \"y\": [647.1], \"yaxis\": \"y\"}, {\"hovertemplate\": \"<b>%{hovertext}</b><br><br>State=Mississippi<br>2014 Poverty Rate=%{marker.size}<br>Burglary rate=%{y}<extra></extra>\", \"hovertext\": [\"Mississippi\"], \"legendgroup\": \"Mississippi\", \"marker\": {\"color\": \"#FECB52\", \"size\": [23.2], \"sizemode\": \"area\", \"sizeref\": 0.069, \"symbol\": \"circle\"}, \"mode\": \"markers\", \"name\": \"Mississippi\", \"orientation\": \"v\", \"showlegend\": true, \"type\": \"scatter\", \"x\": [23.2], \"xaxis\": \"x\", \"y\": [813.3], \"yaxis\": \"y\"}, {\"hovertemplate\": \"<b>%{hovertext}</b><br><br>State=Michigan<br>2014 Poverty Rate=%{marker.size}<br>Burglary rate=%{y}<extra></extra>\", \"hovertext\": [\"Michigan\"], \"legendgroup\": \"Michigan\", \"marker\": {\"color\": \"#636efa\", \"size\": [27.6], \"sizemode\": \"area\", \"sizeref\": 0.069, \"symbol\": \"circle\"}, \"mode\": \"markers\", \"name\": \"Michigan\", \"orientation\": \"v\", \"showlegend\": true, \"type\": \"scatter\", \"x\": [27.6], \"xaxis\": \"x\", \"y\": [445.9], \"yaxis\": \"y\"}],\n",
       "                        {\"legend\": {\"itemsizing\": \"constant\", \"title\": {\"text\": \"State\"}, \"tracegroupgap\": 0}, \"template\": {\"data\": {\"bar\": [{\"error_x\": {\"color\": \"#2a3f5f\"}, \"error_y\": {\"color\": \"#2a3f5f\"}, \"marker\": {\"line\": {\"color\": \"#E5ECF6\", \"width\": 0.5}}, \"type\": \"bar\"}], \"barpolar\": [{\"marker\": {\"line\": {\"color\": \"#E5ECF6\", \"width\": 0.5}}, \"type\": \"barpolar\"}], \"carpet\": [{\"aaxis\": {\"endlinecolor\": \"#2a3f5f\", \"gridcolor\": \"white\", \"linecolor\": \"white\", \"minorgridcolor\": \"white\", \"startlinecolor\": \"#2a3f5f\"}, \"baxis\": {\"endlinecolor\": \"#2a3f5f\", \"gridcolor\": \"white\", \"linecolor\": \"white\", \"minorgridcolor\": \"white\", \"startlinecolor\": \"#2a3f5f\"}, \"type\": \"carpet\"}], \"choropleth\": [{\"colorbar\": {\"outlinewidth\": 0, \"ticks\": \"\"}, \"type\": \"choropleth\"}], \"contour\": [{\"colorbar\": {\"outlinewidth\": 0, \"ticks\": \"\"}, \"colorscale\": [[0.0, \"#0d0887\"], [0.1111111111111111, \"#46039f\"], [0.2222222222222222, \"#7201a8\"], [0.3333333333333333, \"#9c179e\"], [0.4444444444444444, \"#bd3786\"], [0.5555555555555556, \"#d8576b\"], [0.6666666666666666, \"#ed7953\"], [0.7777777777777778, \"#fb9f3a\"], [0.8888888888888888, \"#fdca26\"], [1.0, \"#f0f921\"]], \"type\": \"contour\"}], \"contourcarpet\": [{\"colorbar\": {\"outlinewidth\": 0, \"ticks\": \"\"}, \"type\": \"contourcarpet\"}], \"heatmap\": [{\"colorbar\": {\"outlinewidth\": 0, \"ticks\": \"\"}, \"colorscale\": [[0.0, \"#0d0887\"], [0.1111111111111111, \"#46039f\"], [0.2222222222222222, \"#7201a8\"], [0.3333333333333333, \"#9c179e\"], [0.4444444444444444, \"#bd3786\"], [0.5555555555555556, \"#d8576b\"], [0.6666666666666666, \"#ed7953\"], [0.7777777777777778, \"#fb9f3a\"], [0.8888888888888888, \"#fdca26\"], [1.0, \"#f0f921\"]], \"type\": \"heatmap\"}], \"heatmapgl\": [{\"colorbar\": {\"outlinewidth\": 0, \"ticks\": \"\"}, \"colorscale\": [[0.0, \"#0d0887\"], [0.1111111111111111, \"#46039f\"], [0.2222222222222222, \"#7201a8\"], [0.3333333333333333, \"#9c179e\"], [0.4444444444444444, \"#bd3786\"], [0.5555555555555556, \"#d8576b\"], [0.6666666666666666, \"#ed7953\"], [0.7777777777777778, \"#fb9f3a\"], [0.8888888888888888, \"#fdca26\"], [1.0, \"#f0f921\"]], \"type\": \"heatmapgl\"}], \"histogram\": [{\"marker\": {\"colorbar\": {\"outlinewidth\": 0, \"ticks\": \"\"}}, \"type\": \"histogram\"}], \"histogram2d\": [{\"colorbar\": {\"outlinewidth\": 0, \"ticks\": \"\"}, \"colorscale\": [[0.0, \"#0d0887\"], [0.1111111111111111, \"#46039f\"], [0.2222222222222222, \"#7201a8\"], [0.3333333333333333, \"#9c179e\"], [0.4444444444444444, \"#bd3786\"], [0.5555555555555556, \"#d8576b\"], [0.6666666666666666, \"#ed7953\"], [0.7777777777777778, \"#fb9f3a\"], [0.8888888888888888, \"#fdca26\"], [1.0, \"#f0f921\"]], \"type\": \"histogram2d\"}], \"histogram2dcontour\": [{\"colorbar\": {\"outlinewidth\": 0, \"ticks\": \"\"}, \"colorscale\": [[0.0, \"#0d0887\"], [0.1111111111111111, \"#46039f\"], [0.2222222222222222, \"#7201a8\"], [0.3333333333333333, \"#9c179e\"], [0.4444444444444444, \"#bd3786\"], [0.5555555555555556, \"#d8576b\"], [0.6666666666666666, \"#ed7953\"], [0.7777777777777778, \"#fb9f3a\"], [0.8888888888888888, \"#fdca26\"], [1.0, \"#f0f921\"]], \"type\": \"histogram2dcontour\"}], \"mesh3d\": [{\"colorbar\": {\"outlinewidth\": 0, \"ticks\": \"\"}, \"type\": \"mesh3d\"}], \"parcoords\": [{\"line\": {\"colorbar\": {\"outlinewidth\": 0, \"ticks\": \"\"}}, \"type\": \"parcoords\"}], \"pie\": [{\"automargin\": true, \"type\": \"pie\"}], \"scatter\": [{\"marker\": {\"colorbar\": {\"outlinewidth\": 0, \"ticks\": \"\"}}, \"type\": \"scatter\"}], \"scatter3d\": [{\"line\": {\"colorbar\": {\"outlinewidth\": 0, \"ticks\": \"\"}}, \"marker\": {\"colorbar\": {\"outlinewidth\": 0, \"ticks\": \"\"}}, \"type\": \"scatter3d\"}], \"scattercarpet\": [{\"marker\": {\"colorbar\": {\"outlinewidth\": 0, \"ticks\": \"\"}}, \"type\": \"scattercarpet\"}], \"scattergeo\": [{\"marker\": {\"colorbar\": {\"outlinewidth\": 0, \"ticks\": \"\"}}, \"type\": \"scattergeo\"}], \"scattergl\": [{\"marker\": {\"colorbar\": {\"outlinewidth\": 0, \"ticks\": \"\"}}, \"type\": \"scattergl\"}], \"scattermapbox\": [{\"marker\": {\"colorbar\": {\"outlinewidth\": 0, \"ticks\": \"\"}}, \"type\": \"scattermapbox\"}], \"scatterpolar\": [{\"marker\": {\"colorbar\": {\"outlinewidth\": 0, \"ticks\": \"\"}}, \"type\": \"scatterpolar\"}], \"scatterpolargl\": [{\"marker\": {\"colorbar\": {\"outlinewidth\": 0, \"ticks\": \"\"}}, \"type\": \"scatterpolargl\"}], \"scatterternary\": [{\"marker\": {\"colorbar\": {\"outlinewidth\": 0, \"ticks\": \"\"}}, \"type\": \"scatterternary\"}], \"surface\": [{\"colorbar\": {\"outlinewidth\": 0, \"ticks\": \"\"}, \"colorscale\": [[0.0, \"#0d0887\"], [0.1111111111111111, \"#46039f\"], [0.2222222222222222, \"#7201a8\"], [0.3333333333333333, \"#9c179e\"], [0.4444444444444444, \"#bd3786\"], [0.5555555555555556, \"#d8576b\"], [0.6666666666666666, \"#ed7953\"], [0.7777777777777778, \"#fb9f3a\"], [0.8888888888888888, \"#fdca26\"], [1.0, \"#f0f921\"]], \"type\": \"surface\"}], \"table\": [{\"cells\": {\"fill\": {\"color\": \"#EBF0F8\"}, \"line\": {\"color\": \"white\"}}, \"header\": {\"fill\": {\"color\": \"#C8D4E3\"}, \"line\": {\"color\": \"white\"}}, \"type\": \"table\"}]}, \"layout\": {\"annotationdefaults\": {\"arrowcolor\": \"#2a3f5f\", \"arrowhead\": 0, \"arrowwidth\": 1}, \"coloraxis\": {\"colorbar\": {\"outlinewidth\": 0, \"ticks\": \"\"}}, \"colorscale\": {\"diverging\": [[0, \"#8e0152\"], [0.1, \"#c51b7d\"], [0.2, \"#de77ae\"], [0.3, \"#f1b6da\"], [0.4, \"#fde0ef\"], [0.5, \"#f7f7f7\"], [0.6, \"#e6f5d0\"], [0.7, \"#b8e186\"], [0.8, \"#7fbc41\"], [0.9, \"#4d9221\"], [1, \"#276419\"]], \"sequential\": [[0.0, \"#0d0887\"], [0.1111111111111111, \"#46039f\"], [0.2222222222222222, \"#7201a8\"], [0.3333333333333333, \"#9c179e\"], [0.4444444444444444, \"#bd3786\"], [0.5555555555555556, \"#d8576b\"], [0.6666666666666666, \"#ed7953\"], [0.7777777777777778, \"#fb9f3a\"], [0.8888888888888888, \"#fdca26\"], [1.0, \"#f0f921\"]], \"sequentialminus\": [[0.0, \"#0d0887\"], [0.1111111111111111, \"#46039f\"], [0.2222222222222222, \"#7201a8\"], [0.3333333333333333, \"#9c179e\"], [0.4444444444444444, \"#bd3786\"], [0.5555555555555556, \"#d8576b\"], [0.6666666666666666, \"#ed7953\"], [0.7777777777777778, \"#fb9f3a\"], [0.8888888888888888, \"#fdca26\"], [1.0, \"#f0f921\"]]}, \"colorway\": [\"#636efa\", \"#EF553B\", \"#00cc96\", \"#ab63fa\", \"#FFA15A\", \"#19d3f3\", \"#FF6692\", \"#B6E880\", \"#FF97FF\", \"#FECB52\"], \"font\": {\"color\": \"#2a3f5f\"}, \"geo\": {\"bgcolor\": \"white\", \"lakecolor\": \"white\", \"landcolor\": \"#E5ECF6\", \"showlakes\": true, \"showland\": true, \"subunitcolor\": \"white\"}, \"hoverlabel\": {\"align\": \"left\"}, \"hovermode\": \"closest\", \"mapbox\": {\"style\": \"light\"}, \"paper_bgcolor\": \"white\", \"plot_bgcolor\": \"#E5ECF6\", \"polar\": {\"angularaxis\": {\"gridcolor\": \"white\", \"linecolor\": \"white\", \"ticks\": \"\"}, \"bgcolor\": \"#E5ECF6\", \"radialaxis\": {\"gridcolor\": \"white\", \"linecolor\": \"white\", \"ticks\": \"\"}}, \"scene\": {\"xaxis\": {\"backgroundcolor\": \"#E5ECF6\", \"gridcolor\": \"white\", \"gridwidth\": 2, \"linecolor\": \"white\", \"showbackground\": true, \"ticks\": \"\", \"zerolinecolor\": \"white\"}, \"yaxis\": {\"backgroundcolor\": \"#E5ECF6\", \"gridcolor\": \"white\", \"gridwidth\": 2, \"linecolor\": \"white\", \"showbackground\": true, \"ticks\": \"\", \"zerolinecolor\": \"white\"}, \"zaxis\": {\"backgroundcolor\": \"#E5ECF6\", \"gridcolor\": \"white\", \"gridwidth\": 2, \"linecolor\": \"white\", \"showbackground\": true, \"ticks\": \"\", \"zerolinecolor\": \"white\"}}, \"shapedefaults\": {\"line\": {\"color\": \"#2a3f5f\"}}, \"ternary\": {\"aaxis\": {\"gridcolor\": \"white\", \"linecolor\": \"white\", \"ticks\": \"\"}, \"baxis\": {\"gridcolor\": \"white\", \"linecolor\": \"white\", \"ticks\": \"\"}, \"bgcolor\": \"#E5ECF6\", \"caxis\": {\"gridcolor\": \"white\", \"linecolor\": \"white\", \"ticks\": \"\"}}, \"title\": {\"x\": 0.05}, \"xaxis\": {\"automargin\": true, \"gridcolor\": \"white\", \"linecolor\": \"white\", \"ticks\": \"\", \"title\": {\"standoff\": 15}, \"zerolinecolor\": \"white\", \"zerolinewidth\": 2}, \"yaxis\": {\"automargin\": true, \"gridcolor\": \"white\", \"linecolor\": \"white\", \"ticks\": \"\", \"title\": {\"standoff\": 15}, \"zerolinecolor\": \"white\", \"zerolinewidth\": 2}}}, \"title\": {\"text\": \"Poverty Rate in the US\"}, \"xaxis\": {\"anchor\": \"y\", \"domain\": [0.0, 1.0], \"title\": {\"text\": \"2014 Poverty Rate\"}}, \"yaxis\": {\"anchor\": \"x\", \"domain\": [0.0, 1.0], \"title\": {\"text\": \"Burglary rate\"}}},\n",
       "                        {\"responsive\": true}\n",
       "                    ).then(function(){\n",
       "                            \n",
       "var gd = document.getElementById('873389f2-b70d-43a6-9078-8bad14ca1ff2');\n",
       "var x = new MutationObserver(function (mutations, observer) {{\n",
       "        var display = window.getComputedStyle(gd).display;\n",
       "        if (!display || display === 'none') {{\n",
       "            console.log([gd, 'removed!']);\n",
       "            Plotly.purge(gd);\n",
       "            observer.disconnect();\n",
       "        }}\n",
       "}});\n",
       "\n",
       "// Listen for the removal of the full notebook cells\n",
       "var notebookContainer = gd.closest('#notebook-container');\n",
       "if (notebookContainer) {{\n",
       "    x.observe(notebookContainer, {childList: true});\n",
       "}}\n",
       "\n",
       "// Listen for the clearing of the current output cell\n",
       "var outputEl = gd.closest('.output');\n",
       "if (outputEl) {{\n",
       "    x.observe(outputEl, {childList: true});\n",
       "}}\n",
       "\n",
       "                        })\n",
       "                };\n",
       "                });\n",
       "            </script>\n",
       "        </div>"
      ]
     },
     "metadata": {},
     "output_type": "display_data"
    }
   ],
   "source": [
    "import plotly.express as px\n",
    "fig = px.scatter(gun_ownership_df,\n",
    "                 x=\"2014 Poverty Rate\",\n",
    "                 y=\"Burglary rate\",\n",
    "                 size=\"2014 Poverty Rate\",\n",
    "                 color=\"State\",\n",
    "                 hover_name=\"State\",\n",
    "                 title=\"Poverty Rate in the US\"\n",
    "                )\n",
    "fig.show()"
   ]
  },
  {
   "cell_type": "code",
   "execution_count": 35,
   "metadata": {},
   "outputs": [
    {
     "data": {
      "application/vnd.plotly.v1+json": {
       "config": {
        "plotlyServerURL": "https://plot.ly"
       },
       "data": [
        {
         "hovertemplate": "<b>%{hovertext}</b><br><br>State=Alabama<br>Burglary rate=%{marker.size}<br># of guns per capita=%{y}<extra></extra>",
         "hovertext": [
          "Alabama"
         ],
         "legendgroup": "Alabama",
         "marker": {
          "color": "#636efa",
          "size": [
           819
          ],
          "sizemode": "area",
          "sizeref": 2.21825,
          "symbol": "circle"
         },
         "mode": "markers",
         "name": "Alabama",
         "orientation": "v",
         "showlegend": true,
         "type": "scatter",
         "x": [
          819
         ],
         "xaxis": "x",
         "y": [
          33.15
         ],
         "yaxis": "y"
        },
        {
         "hovertemplate": "<b>%{hovertext}</b><br><br>State=Alaska<br>Burglary rate=%{marker.size}<br># of guns per capita=%{y}<extra></extra>",
         "hovertext": [
          "Alaska"
         ],
         "legendgroup": "Alaska",
         "marker": {
          "color": "#EF553B",
          "size": [
           427.6
          ],
          "sizemode": "area",
          "sizeref": 2.21825,
          "symbol": "circle"
         },
         "mode": "markers",
         "name": "Alaska",
         "orientation": "v",
         "showlegend": true,
         "type": "scatter",
         "x": [
          427.6
         ],
         "xaxis": "x",
         "y": [
          21.38
         ],
         "yaxis": "y"
        },
        {
         "hovertemplate": "<b>%{hovertext}</b><br><br>State=Arizona<br>Burglary rate=%{marker.size}<br># of guns per capita=%{y}<extra></extra>",
         "hovertext": [
          "Arizona"
         ],
         "legendgroup": "Arizona",
         "marker": {
          "color": "#00cc96",
          "size": [
           647.1
          ],
          "sizemode": "area",
          "sizeref": 2.21825,
          "symbol": "circle"
         },
         "mode": "markers",
         "name": "Arizona",
         "orientation": "v",
         "showlegend": true,
         "type": "scatter",
         "x": [
          647.1
         ],
         "xaxis": "x",
         "y": [
          25.61
         ],
         "yaxis": "y"
        },
        {
         "hovertemplate": "<b>%{hovertext}</b><br><br>State=Arkansas<br>Burglary rate=%{marker.size}<br># of guns per capita=%{y}<extra></extra>",
         "hovertext": [
          "Arkansas"
         ],
         "legendgroup": "Arkansas",
         "marker": {
          "color": "#ab63fa",
          "size": [
           835.7
          ],
          "sizemode": "area",
          "sizeref": 2.21825,
          "symbol": "circle"
         },
         "mode": "markers",
         "name": "Arkansas",
         "orientation": "v",
         "showlegend": true,
         "type": "scatter",
         "x": [
          835.7
         ],
         "xaxis": "x",
         "y": [
          26.57
         ],
         "yaxis": "y"
        },
        {
         "hovertemplate": "<b>%{hovertext}</b><br><br>State=California<br>Burglary rate=%{marker.size}<br># of guns per capita=%{y}<extra></extra>",
         "hovertext": [
          "California"
         ],
         "legendgroup": "California",
         "marker": {
          "color": "#FFA15A",
          "size": [
           522.3
          ],
          "sizemode": "area",
          "sizeref": 2.21825,
          "symbol": "circle"
         },
         "mode": "markers",
         "name": "California",
         "orientation": "v",
         "showlegend": true,
         "type": "scatter",
         "x": [
          522.3
         ],
         "xaxis": "x",
         "y": [
          8.71
         ],
         "yaxis": "y"
        },
        {
         "hovertemplate": "<b>%{hovertext}</b><br><br>State=Colorado<br>Burglary rate=%{marker.size}<br># of guns per capita=%{y}<extra></extra>",
         "hovertext": [
          "Colorado"
         ],
         "legendgroup": "Colorado",
         "marker": {
          "color": "#19d3f3",
          "size": [
           438.2
          ],
          "sizemode": "area",
          "sizeref": 2.21825,
          "symbol": "circle"
         },
         "mode": "markers",
         "name": "Colorado",
         "orientation": "v",
         "showlegend": true,
         "type": "scatter",
         "x": [
          438.2
         ],
         "xaxis": "x",
         "y": [
          16.48
         ],
         "yaxis": "y"
        },
        {
         "hovertemplate": "<b>%{hovertext}</b><br><br>State=Connecticut<br>Burglary rate=%{marker.size}<br># of guns per capita=%{y}<extra></extra>",
         "hovertext": [
          "Connecticut"
         ],
         "legendgroup": "Connecticut",
         "marker": {
          "color": "#FF6692",
          "size": [
           332.4
          ],
          "sizemode": "area",
          "sizeref": 2.21825,
          "symbol": "circle"
         },
         "mode": "markers",
         "name": "Connecticut",
         "orientation": "v",
         "showlegend": true,
         "type": "scatter",
         "x": [
          332.4
         ],
         "xaxis": "x",
         "y": [
          22.96
         ],
         "yaxis": "y"
        },
        {
         "hovertemplate": "<b>%{hovertext}</b><br><br>State=DC<br>Burglary rate=%{marker.size}<br># of guns per capita=%{y}<extra></extra>",
         "hovertext": [
          "DC"
         ],
         "legendgroup": "DC",
         "marker": {
          "color": "#B6E880",
          "size": [
           526
          ],
          "sizemode": "area",
          "sizeref": 2.21825,
          "symbol": "circle"
         },
         "mode": "markers",
         "name": "DC",
         "orientation": "v",
         "showlegend": true,
         "type": "scatter",
         "x": [
          526
         ],
         "xaxis": "x",
         "y": [
          68.05
         ],
         "yaxis": "y"
        },
        {
         "hovertemplate": "<b>%{hovertext}</b><br><br>State=Delaware<br>Burglary rate=%{marker.size}<br># of guns per capita=%{y}<extra></extra>",
         "hovertext": [
          "Delaware"
         ],
         "legendgroup": "Delaware",
         "marker": {
          "color": "#FF97FF",
          "size": [
           616.5
          ],
          "sizemode": "area",
          "sizeref": 2.21825,
          "symbol": "circle"
         },
         "mode": "markers",
         "name": "Delaware",
         "orientation": "v",
         "showlegend": true,
         "type": "scatter",
         "x": [
          616.5
         ],
         "xaxis": "x",
         "y": [
          5.04
         ],
         "yaxis": "y"
        },
        {
         "hovertemplate": "<b>%{hovertext}</b><br><br>State=Florida<br>Burglary rate=%{marker.size}<br># of guns per capita=%{y}<extra></extra>",
         "hovertext": [
          "Florida"
         ],
         "legendgroup": "Florida",
         "marker": {
          "color": "#FECB52",
          "size": [
           719.9
          ],
          "sizemode": "area",
          "sizeref": 2.21825,
          "symbol": "circle"
         },
         "mode": "markers",
         "name": "Florida",
         "orientation": "v",
         "showlegend": true,
         "type": "scatter",
         "x": [
          719.9
         ],
         "xaxis": "x",
         "y": [
          16.35
         ],
         "yaxis": "y"
        },
        {
         "hovertemplate": "<b>%{hovertext}</b><br><br>State=Georgia<br>Burglary rate=%{marker.size}<br># of guns per capita=%{y}<extra></extra>",
         "hovertext": [
          "Georgia"
         ],
         "legendgroup": "Georgia",
         "marker": {
          "color": "#636efa",
          "size": [
           756.9
          ],
          "sizemode": "area",
          "sizeref": 2.21825,
          "symbol": "circle"
         },
         "mode": "markers",
         "name": "Georgia",
         "orientation": "v",
         "showlegend": true,
         "type": "scatter",
         "x": [
          756.9
         ],
         "xaxis": "x",
         "y": [
          18.22
         ],
         "yaxis": "y"
        },
        {
         "hovertemplate": "<b>%{hovertext}</b><br><br>State=Hawaii<br>Burglary rate=%{marker.size}<br># of guns per capita=%{y}<extra></extra>",
         "hovertext": [
          "Hawaii"
         ],
         "legendgroup": "Hawaii",
         "marker": {
          "color": "#EF553B",
          "size": [
           547.9
          ],
          "sizemode": "area",
          "sizeref": 2.21825,
          "symbol": "circle"
         },
         "mode": "markers",
         "name": "Hawaii",
         "orientation": "v",
         "showlegend": true,
         "type": "scatter",
         "x": [
          547.9
         ],
         "xaxis": "x",
         "y": [
          5.5
         ],
         "yaxis": "y"
        },
        {
         "hovertemplate": "<b>%{hovertext}</b><br><br>State=Idaho<br>Burglary rate=%{marker.size}<br># of guns per capita=%{y}<extra></extra>",
         "hovertext": [
          "Idaho"
         ],
         "legendgroup": "Idaho",
         "marker": {
          "color": "#00cc96",
          "size": [
           393.3
          ],
          "sizemode": "area",
          "sizeref": 2.21825,
          "symbol": "circle"
         },
         "mode": "markers",
         "name": "Idaho",
         "orientation": "v",
         "showlegend": true,
         "type": "scatter",
         "x": [
          393.3
         ],
         "xaxis": "x",
         "y": [
          28.86
         ],
         "yaxis": "y"
        },
        {
         "hovertemplate": "<b>%{hovertext}</b><br><br>State=Illinois<br>Burglary rate=%{marker.size}<br># of guns per capita=%{y}<extra></extra>",
         "hovertext": [
          "Illinois"
         ],
         "legendgroup": "Illinois",
         "marker": {
          "color": "#ab63fa",
          "size": [
           388.2
          ],
          "sizemode": "area",
          "sizeref": 2.21825,
          "symbol": "circle"
         },
         "mode": "markers",
         "name": "Illinois",
         "orientation": "v",
         "showlegend": true,
         "type": "scatter",
         "x": [
          388.2
         ],
         "xaxis": "x",
         "y": [
          11.44
         ],
         "yaxis": "y"
        },
        {
         "hovertemplate": "<b>%{hovertext}</b><br><br>State=Indiana<br>Burglary rate=%{marker.size}<br># of guns per capita=%{y}<extra></extra>",
         "hovertext": [
          "Indiana"
         ],
         "legendgroup": "Indiana",
         "marker": {
          "color": "#FFA15A",
          "size": [
           559.3
          ],
          "sizemode": "area",
          "sizeref": 2.21825,
          "symbol": "circle"
         },
         "mode": "markers",
         "name": "Indiana",
         "orientation": "v",
         "showlegend": true,
         "type": "scatter",
         "x": [
          559.3
         ],
         "xaxis": "x",
         "y": [
          17.1
         ],
         "yaxis": "y"
        },
        {
         "hovertemplate": "<b>%{hovertext}</b><br><br>State=Iowa<br>Burglary rate=%{marker.size}<br># of guns per capita=%{y}<extra></extra>",
         "hovertext": [
          "Iowa"
         ],
         "legendgroup": "Iowa",
         "marker": {
          "color": "#19d3f3",
          "size": [
           464.4
          ],
          "sizemode": "area",
          "sizeref": 2.21825,
          "symbol": "circle"
         },
         "mode": "markers",
         "name": "Iowa",
         "orientation": "v",
         "showlegend": true,
         "type": "scatter",
         "x": [
          464.4
         ],
         "xaxis": "x",
         "y": [
          9.05
         ],
         "yaxis": "y"
        },
        {
         "hovertemplate": "<b>%{hovertext}</b><br><br>State=Kansas<br>Burglary rate=%{marker.size}<br># of guns per capita=%{y}<extra></extra>",
         "hovertext": [
          "Kansas"
         ],
         "legendgroup": "Kansas",
         "marker": {
          "color": "#FF6692",
          "size": [
           545
          ],
          "sizemode": "area",
          "sizeref": 2.21825,
          "symbol": "circle"
         },
         "mode": "markers",
         "name": "Kansas",
         "orientation": "v",
         "showlegend": true,
         "type": "scatter",
         "x": [
          545
         ],
         "xaxis": "x",
         "y": [
          18.06
         ],
         "yaxis": "y"
        },
        {
         "hovertemplate": "<b>%{hovertext}</b><br><br>State=Kentucky<br>Burglary rate=%{marker.size}<br># of guns per capita=%{y}<extra></extra>",
         "hovertext": [
          "Kentucky"
         ],
         "legendgroup": "Kentucky",
         "marker": {
          "color": "#B6E880",
          "size": [
           526.7
          ],
          "sizemode": "area",
          "sizeref": 2.21825,
          "symbol": "circle"
         },
         "mode": "markers",
         "name": "Kentucky",
         "orientation": "v",
         "showlegend": true,
         "type": "scatter",
         "x": [
          526.7
         ],
         "xaxis": "x",
         "y": [
          18.2
         ],
         "yaxis": "y"
        },
        {
         "hovertemplate": "<b>%{hovertext}</b><br><br>State=Louisiana<br>Burglary rate=%{marker.size}<br># of guns per capita=%{y}<extra></extra>",
         "hovertext": [
          "Louisiana"
         ],
         "legendgroup": "Louisiana",
         "marker": {
          "color": "#FF97FF",
          "size": [
           824.5
          ],
          "sizemode": "area",
          "sizeref": 2.21825,
          "symbol": "circle"
         },
         "mode": "markers",
         "name": "Louisiana",
         "orientation": "v",
         "showlegend": true,
         "type": "scatter",
         "x": [
          824.5
         ],
         "xaxis": "x",
         "y": [
          24.94
         ],
         "yaxis": "y"
        },
        {
         "hovertemplate": "<b>%{hovertext}</b><br><br>State=Maine<br>Burglary rate=%{marker.size}<br># of guns per capita=%{y}<extra></extra>",
         "hovertext": [
          "Maine"
         ],
         "legendgroup": "Maine",
         "marker": {
          "color": "#FECB52",
          "size": [
           378.2
          ],
          "sizemode": "area",
          "sizeref": 2.21825,
          "symbol": "circle"
         },
         "mode": "markers",
         "name": "Maine",
         "orientation": "v",
         "showlegend": true,
         "type": "scatter",
         "x": [
          378.2
         ],
         "xaxis": "x",
         "y": [
          11.5
         ],
         "yaxis": "y"
        },
        {
         "hovertemplate": "<b>%{hovertext}</b><br><br>State=Maryland<br>Burglary rate=%{marker.size}<br># of guns per capita=%{y}<extra></extra>",
         "hovertext": [
          "Maryland"
         ],
         "legendgroup": "Maryland",
         "marker": {
          "color": "#636efa",
          "size": [
           468.7
          ],
          "sizemode": "area",
          "sizeref": 2.21825,
          "symbol": "circle"
         },
         "mode": "markers",
         "name": "Maryland",
         "orientation": "v",
         "showlegend": true,
         "type": "scatter",
         "x": [
          468.7
         ],
         "xaxis": "x",
         "y": [
          17.03
         ],
         "yaxis": "y"
        },
        {
         "hovertemplate": "<b>%{hovertext}</b><br><br>State=Massachusetts<br>Burglary rate=%{marker.size}<br># of guns per capita=%{y}<extra></extra>",
         "hovertext": [
          "Massachusetts"
         ],
         "legendgroup": "Massachusetts",
         "marker": {
          "color": "#EF553B",
          "size": [
           370.1
          ],
          "sizemode": "area",
          "sizeref": 2.21825,
          "symbol": "circle"
         },
         "mode": "markers",
         "name": "Massachusetts",
         "orientation": "v",
         "showlegend": true,
         "type": "scatter",
         "x": [
          370.1
         ],
         "xaxis": "x",
         "y": [
          5.41
         ],
         "yaxis": "y"
        },
        {
         "hovertemplate": "<b>%{hovertext}</b><br><br>State=Michigan<br>Burglary rate=%{marker.size}<br># of guns per capita=%{y}<extra></extra>",
         "hovertext": [
          "Michigan"
         ],
         "legendgroup": "Michigan",
         "marker": {
          "color": "#00cc96",
          "size": [
           445.9
          ],
          "sizemode": "area",
          "sizeref": 2.21825,
          "symbol": "circle"
         },
         "mode": "markers",
         "name": "Michigan",
         "orientation": "v",
         "showlegend": true,
         "type": "scatter",
         "x": [
          445.9
         ],
         "xaxis": "x",
         "y": [
          6.59
         ],
         "yaxis": "y"
        },
        {
         "hovertemplate": "<b>%{hovertext}</b><br><br>State=Minnesota<br>Burglary rate=%{marker.size}<br># of guns per capita=%{y}<extra></extra>",
         "hovertext": [
          "Minnesota"
         ],
         "legendgroup": "Minnesota",
         "marker": {
          "color": "#ab63fa",
          "size": [
           380.7
          ],
          "sizemode": "area",
          "sizeref": 2.21825,
          "symbol": "circle"
         },
         "mode": "markers",
         "name": "Minnesota",
         "orientation": "v",
         "showlegend": true,
         "type": "scatter",
         "x": [
          380.7
         ],
         "xaxis": "x",
         "y": [
          14.22
         ],
         "yaxis": "y"
        },
        {
         "hovertemplate": "<b>%{hovertext}</b><br><br>State=Mississippi<br>Burglary rate=%{marker.size}<br># of guns per capita=%{y}<extra></extra>",
         "hovertext": [
          "Mississippi"
         ],
         "legendgroup": "Mississippi",
         "marker": {
          "color": "#FFA15A",
          "size": [
           813.3
          ],
          "sizemode": "area",
          "sizeref": 2.21825,
          "symbol": "circle"
         },
         "mode": "markers",
         "name": "Mississippi",
         "orientation": "v",
         "showlegend": true,
         "type": "scatter",
         "x": [
          813.3
         ],
         "xaxis": "x",
         "y": [
          11.89
         ],
         "yaxis": "y"
        },
        {
         "hovertemplate": "<b>%{hovertext}</b><br><br>State=Missouri<br>Burglary rate=%{marker.size}<br># of guns per capita=%{y}<extra></extra>",
         "hovertext": [
          "Missouri"
         ],
         "legendgroup": "Missouri",
         "marker": {
          "color": "#19d3f3",
          "size": [
           581.5
          ],
          "sizemode": "area",
          "sizeref": 2.21825,
          "symbol": "circle"
         },
         "mode": "markers",
         "name": "Missouri",
         "orientation": "v",
         "showlegend": true,
         "type": "scatter",
         "x": [
          581.5
         ],
         "xaxis": "x",
         "y": [
          11.94
         ],
         "yaxis": "y"
        },
        {
         "hovertemplate": "<b>%{hovertext}</b><br><br>State=Montana<br>Burglary rate=%{marker.size}<br># of guns per capita=%{y}<extra></extra>",
         "hovertext": [
          "Montana"
         ],
         "legendgroup": "Montana",
         "marker": {
          "color": "#FF6692",
          "size": [
           351.2
          ],
          "sizemode": "area",
          "sizeref": 2.21825,
          "symbol": "circle"
         },
         "mode": "markers",
         "name": "Montana",
         "orientation": "v",
         "showlegend": true,
         "type": "scatter",
         "x": [
          351.2
         ],
         "xaxis": "x",
         "y": [
          21.06
         ],
         "yaxis": "y"
        },
        {
         "hovertemplate": "<b>%{hovertext}</b><br><br>State=Nebraska<br>Burglary rate=%{marker.size}<br># of guns per capita=%{y}<extra></extra>",
         "hovertext": [
          "Nebraska"
         ],
         "legendgroup": "Nebraska",
         "marker": {
          "color": "#B6E880",
          "size": [
           422.5
          ],
          "sizemode": "area",
          "sizeref": 2.21825,
          "symbol": "circle"
         },
         "mode": "markers",
         "name": "Nebraska",
         "orientation": "v",
         "showlegend": true,
         "type": "scatter",
         "x": [
          422.5
         ],
         "xaxis": "x",
         "y": [
          11.57
         ],
         "yaxis": "y"
        },
        {
         "hovertemplate": "<b>%{hovertext}</b><br><br>State=Nevada<br>Burglary rate=%{marker.size}<br># of guns per capita=%{y}<extra></extra>",
         "hovertext": [
          "Nevada"
         ],
         "legendgroup": "Nevada",
         "marker": {
          "color": "#FF97FF",
          "size": [
           772.3
          ],
          "sizemode": "area",
          "sizeref": 2.21825,
          "symbol": "circle"
         },
         "mode": "markers",
         "name": "Nevada",
         "orientation": "v",
         "showlegend": true,
         "type": "scatter",
         "x": [
          772.3
         ],
         "xaxis": "x",
         "y": [
          25.64
         ],
         "yaxis": "y"
        },
        {
         "hovertemplate": "<b>%{hovertext}</b><br><br>State=New_Hampshire<br>Burglary rate=%{marker.size}<br># of guns per capita=%{y}<extra></extra>",
         "hovertext": [
          "New_Hampshire"
         ],
         "legendgroup": "New_Hampshire",
         "marker": {
          "color": "#FECB52",
          "size": [
           313.7
          ],
          "sizemode": "area",
          "sizeref": 2.21825,
          "symbol": "circle"
         },
         "mode": "markers",
         "name": "New_Hampshire",
         "orientation": "v",
         "showlegend": true,
         "type": "scatter",
         "x": [
          313.7
         ],
         "xaxis": "x",
         "y": [
          46.76
         ],
         "yaxis": "y"
        },
        {
         "hovertemplate": "<b>%{hovertext}</b><br><br>State=New_Jersey<br>Burglary rate=%{marker.size}<br># of guns per capita=%{y}<extra></extra>",
         "hovertext": [
          "New_Jersey"
         ],
         "legendgroup": "New_Jersey",
         "marker": {
          "color": "#636efa",
          "size": [
           354.8
          ],
          "sizemode": "area",
          "sizeref": 2.21825,
          "symbol": "circle"
         },
         "mode": "markers",
         "name": "New_Jersey",
         "orientation": "v",
         "showlegend": true,
         "type": "scatter",
         "x": [
          354.8
         ],
         "xaxis": "x",
         "y": [
          6.38
         ],
         "yaxis": "y"
        },
        {
         "hovertemplate": "<b>%{hovertext}</b><br><br>State=New_Mexico<br>Burglary rate=%{marker.size}<br># of guns per capita=%{y}<extra></extra>",
         "hovertext": [
          "New_Mexico"
         ],
         "legendgroup": "New_Mexico",
         "marker": {
          "color": "#EF553B",
          "size": [
           887.3
          ],
          "sizemode": "area",
          "sizeref": 2.21825,
          "symbol": "circle"
         },
         "mode": "markers",
         "name": "New_Mexico",
         "orientation": "v",
         "showlegend": true,
         "type": "scatter",
         "x": [
          887.3
         ],
         "xaxis": "x",
         "y": [
          46.73
         ],
         "yaxis": "y"
        },
        {
         "hovertemplate": "<b>%{hovertext}</b><br><br>State=New_York<br>Burglary rate=%{marker.size}<br># of guns per capita=%{y}<extra></extra>",
         "hovertext": [
          "New_York"
         ],
         "legendgroup": "New_York",
         "marker": {
          "color": "#00cc96",
          "size": [
           257.2
          ],
          "sizemode": "area",
          "sizeref": 2.21825,
          "symbol": "circle"
         },
         "mode": "markers",
         "name": "New_York",
         "orientation": "v",
         "showlegend": true,
         "type": "scatter",
         "x": [
          257.2
         ],
         "xaxis": "x",
         "y": [
          3.83
         ],
         "yaxis": "y"
        },
        {
         "hovertemplate": "<b>%{hovertext}</b><br><br>State=North_Carolina<br>Burglary rate=%{marker.size}<br># of guns per capita=%{y}<extra></extra>",
         "hovertext": [
          "North_Carolina"
         ],
         "legendgroup": "North_Carolina",
         "marker": {
          "color": "#ab63fa",
          "size": [
           798.2
          ],
          "sizemode": "area",
          "sizeref": 2.21825,
          "symbol": "circle"
         },
         "mode": "markers",
         "name": "North_Carolina",
         "orientation": "v",
         "showlegend": true,
         "type": "scatter",
         "x": [
          798.2
         ],
         "xaxis": "x",
         "y": [
          14.818
         ],
         "yaxis": "y"
        },
        {
         "hovertemplate": "<b>%{hovertext}</b><br><br>State=North_Dakota<br>Burglary rate=%{marker.size}<br># of guns per capita=%{y}<extra></extra>",
         "hovertext": [
          "North_Dakota"
         ],
         "legendgroup": "North_Dakota",
         "marker": {
          "color": "#FFA15A",
          "size": [
           366.1
          ],
          "sizemode": "area",
          "sizeref": 2.21825,
          "symbol": "circle"
         },
         "mode": "markers",
         "name": "North_Dakota",
         "orientation": "v",
         "showlegend": true,
         "type": "scatter",
         "x": [
          366.1
         ],
         "xaxis": "x",
         "y": [
          17.56
         ],
         "yaxis": "y"
        },
        {
         "hovertemplate": "<b>%{hovertext}</b><br><br>State=Ohio<br>Burglary rate=%{marker.size}<br># of guns per capita=%{y}<extra></extra>",
         "hovertext": [
          "Ohio"
         ],
         "legendgroup": "Ohio",
         "marker": {
          "color": "#19d3f3",
          "size": [
           680
          ],
          "sizemode": "area",
          "sizeref": 2.21825,
          "symbol": "circle"
         },
         "mode": "markers",
         "name": "Ohio",
         "orientation": "v",
         "showlegend": true,
         "type": "scatter",
         "x": [
          680
         ],
         "xaxis": "x",
         "y": [
          14.87
         ],
         "yaxis": "y"
        },
        {
         "hovertemplate": "<b>%{hovertext}</b><br><br>State=Oklahoma<br>Burglary rate=%{marker.size}<br># of guns per capita=%{y}<extra></extra>",
         "hovertext": [
          "Oklahoma"
         ],
         "legendgroup": "Oklahoma",
         "marker": {
          "color": "#FF6692",
          "size": [
           760.9
          ],
          "sizemode": "area",
          "sizeref": 2.21825,
          "symbol": "circle"
         },
         "mode": "markers",
         "name": "Oklahoma",
         "orientation": "v",
         "showlegend": true,
         "type": "scatter",
         "x": [
          760.9
         ],
         "xaxis": "x",
         "y": [
          18.13
         ],
         "yaxis": "y"
        },
        {
         "hovertemplate": "<b>%{hovertext}</b><br><br>State=Oregon<br>Burglary rate=%{marker.size}<br># of guns per capita=%{y}<extra></extra>",
         "hovertext": [
          "Oregon"
         ],
         "legendgroup": "Oregon",
         "marker": {
          "color": "#B6E880",
          "size": [
           434
          ],
          "sizemode": "area",
          "sizeref": 2.21825,
          "symbol": "circle"
         },
         "mode": "markers",
         "name": "Oregon",
         "orientation": "v",
         "showlegend": true,
         "type": "scatter",
         "x": [
          434
         ],
         "xaxis": "x",
         "y": [
          14.815999999999999
         ],
         "yaxis": "y"
        },
        {
         "hovertemplate": "<b>%{hovertext}</b><br><br>State=Pennsylvania<br>Burglary rate=%{marker.size}<br># of guns per capita=%{y}<extra></extra>",
         "hovertext": [
          "Pennsylvania"
         ],
         "legendgroup": "Pennsylvania",
         "marker": {
          "color": "#FF97FF",
          "size": [
           357.5
          ],
          "sizemode": "area",
          "sizeref": 2.21825,
          "symbol": "circle"
         },
         "mode": "markers",
         "name": "Pennsylvania",
         "orientation": "v",
         "showlegend": true,
         "type": "scatter",
         "x": [
          357.5
         ],
         "xaxis": "x",
         "y": [
          18.45
         ],
         "yaxis": "y"
        },
        {
         "hovertemplate": "<b>%{hovertext}</b><br><br>State=Rhode_Island<br>Burglary rate=%{marker.size}<br># of guns per capita=%{y}<extra></extra>",
         "hovertext": [
          "Rhode_Island"
         ],
         "legendgroup": "Rhode_Island",
         "marker": {
          "color": "#FECB52",
          "size": [
           457.1
          ],
          "sizemode": "area",
          "sizeref": 2.21825,
          "symbol": "circle"
         },
         "mode": "markers",
         "name": "Rhode_Island",
         "orientation": "v",
         "showlegend": true,
         "type": "scatter",
         "x": [
          457.1
         ],
         "xaxis": "x",
         "y": [
          3.98
         ],
         "yaxis": "y"
        },
        {
         "hovertemplate": "<b>%{hovertext}</b><br><br>State=South_Carolina<br>Burglary rate=%{marker.size}<br># of guns per capita=%{y}<extra></extra>",
         "hovertext": [
          "South_Carolina"
         ],
         "legendgroup": "South_Carolina",
         "marker": {
          "color": "#636efa",
          "size": [
           759.9
          ],
          "sizemode": "area",
          "sizeref": 2.21825,
          "symbol": "circle"
         },
         "mode": "markers",
         "name": "South_Carolina",
         "orientation": "v",
         "showlegend": true,
         "type": "scatter",
         "x": [
          759.9
         ],
         "xaxis": "x",
         "y": [
          21.01
         ],
         "yaxis": "y"
        },
        {
         "hovertemplate": "<b>%{hovertext}</b><br><br>State=South_Dakota<br>Burglary rate=%{marker.size}<br># of guns per capita=%{y}<extra></extra>",
         "hovertext": [
          "South_Dakota"
         ],
         "legendgroup": "South_Dakota",
         "marker": {
          "color": "#EF553B",
          "size": [
           330.3
          ],
          "sizemode": "area",
          "sizeref": 2.21825,
          "symbol": "circle"
         },
         "mode": "markers",
         "name": "South_Dakota",
         "orientation": "v",
         "showlegend": true,
         "type": "scatter",
         "x": [
          330.3
         ],
         "xaxis": "x",
         "y": [
          24.29
         ],
         "yaxis": "y"
        },
        {
         "hovertemplate": "<b>%{hovertext}</b><br><br>State=Tennessee<br>Burglary rate=%{marker.size}<br># of guns per capita=%{y}<extra></extra>",
         "hovertext": [
          "Tennessee"
         ],
         "legendgroup": "Tennessee",
         "marker": {
          "color": "#00cc96",
          "size": [
           712.2
          ],
          "sizemode": "area",
          "sizeref": 2.21825,
          "symbol": "circle"
         },
         "mode": "markers",
         "name": "Tennessee",
         "orientation": "v",
         "showlegend": true,
         "type": "scatter",
         "x": [
          712.2
         ],
         "xaxis": "x",
         "y": [
          14.76
         ],
         "yaxis": "y"
        },
        {
         "hovertemplate": "<b>%{hovertext}</b><br><br>State=Texas<br>Burglary rate=%{marker.size}<br># of guns per capita=%{y}<extra></extra>",
         "hovertext": [
          "Texas"
         ],
         "legendgroup": "Texas",
         "marker": {
          "color": "#ab63fa",
          "size": [
           627.8
          ],
          "sizemode": "area",
          "sizeref": 2.21825,
          "symbol": "circle"
         },
         "mode": "markers",
         "name": "Texas",
         "orientation": "v",
         "showlegend": true,
         "type": "scatter",
         "x": [
          627.8
         ],
         "xaxis": "x",
         "y": [
          20.79
         ],
         "yaxis": "y"
        },
        {
         "hovertemplate": "<b>%{hovertext}</b><br><br>State=Utah<br>Burglary rate=%{marker.size}<br># of guns per capita=%{y}<extra></extra>",
         "hovertext": [
          "Utah"
         ],
         "legendgroup": "Utah",
         "marker": {
          "color": "#FFA15A",
          "size": [
           391.4
          ],
          "sizemode": "area",
          "sizeref": 2.21825,
          "symbol": "circle"
         },
         "mode": "markers",
         "name": "Utah",
         "orientation": "v",
         "showlegend": true,
         "type": "scatter",
         "x": [
          391.4
         ],
         "xaxis": "x",
         "y": [
          23.48
         ],
         "yaxis": "y"
        },
        {
         "hovertemplate": "<b>%{hovertext}</b><br><br>State=Vermont<br>Burglary rate=%{marker.size}<br># of guns per capita=%{y}<extra></extra>",
         "hovertext": [
          "Vermont"
         ],
         "legendgroup": "Vermont",
         "marker": {
          "color": "#19d3f3",
          "size": [
           324.6
          ],
          "sizemode": "area",
          "sizeref": 2.21825,
          "symbol": "circle"
         },
         "mode": "markers",
         "name": "Vermont",
         "orientation": "v",
         "showlegend": true,
         "type": "scatter",
         "x": [
          324.6
         ],
         "xaxis": "x",
         "y": [
          9.41
         ],
         "yaxis": "y"
        },
        {
         "hovertemplate": "<b>%{hovertext}</b><br><br>State=Virginia<br>Burglary rate=%{marker.size}<br># of guns per capita=%{y}<extra></extra>",
         "hovertext": [
          "Virginia"
         ],
         "legendgroup": "Virginia",
         "marker": {
          "color": "#FF6692",
          "size": [
           277.7
          ],
          "sizemode": "area",
          "sizeref": 2.21825,
          "symbol": "circle"
         },
         "mode": "markers",
         "name": "Virginia",
         "orientation": "v",
         "showlegend": true,
         "type": "scatter",
         "x": [
          277.7
         ],
         "xaxis": "x",
         "y": [
          36.34
         ],
         "yaxis": "y"
        },
        {
         "hovertemplate": "<b>%{hovertext}</b><br><br>State=Washington<br>Burglary rate=%{marker.size}<br># of guns per capita=%{y}<extra></extra>",
         "hovertext": [
          "Washington"
         ],
         "legendgroup": "Washington",
         "marker": {
          "color": "#B6E880",
          "size": [
           783
          ],
          "sizemode": "area",
          "sizeref": 2.21825,
          "symbol": "circle"
         },
         "mode": "markers",
         "name": "Washington",
         "orientation": "v",
         "showlegend": true,
         "type": "scatter",
         "x": [
          783
         ],
         "xaxis": "x",
         "y": [
          12.4
         ],
         "yaxis": "y"
        },
        {
         "hovertemplate": "<b>%{hovertext}</b><br><br>State=West_Virginia<br>Burglary rate=%{marker.size}<br># of guns per capita=%{y}<extra></extra>",
         "hovertext": [
          "West_Virginia"
         ],
         "legendgroup": "West_Virginia",
         "marker": {
          "color": "#FF97FF",
          "size": [
           484.9
          ],
          "sizemode": "area",
          "sizeref": 2.21825,
          "symbol": "circle"
         },
         "mode": "markers",
         "name": "West_Virginia",
         "orientation": "v",
         "showlegend": true,
         "type": "scatter",
         "x": [
          484.9
         ],
         "xaxis": "x",
         "y": [
          19.42
         ],
         "yaxis": "y"
        },
        {
         "hovertemplate": "<b>%{hovertext}</b><br><br>State=Wisconsin<br>Burglary rate=%{marker.size}<br># of guns per capita=%{y}<extra></extra>",
         "hovertext": [
          "Wisconsin"
         ],
         "legendgroup": "Wisconsin",
         "marker": {
          "color": "#FECB52",
          "size": [
           368.5
          ],
          "sizemode": "area",
          "sizeref": 2.21825,
          "symbol": "circle"
         },
         "mode": "markers",
         "name": "Wisconsin",
         "orientation": "v",
         "showlegend": true,
         "type": "scatter",
         "x": [
          368.5
         ],
         "xaxis": "x",
         "y": [
          11.19
         ],
         "yaxis": "y"
        },
        {
         "hovertemplate": "<b>%{hovertext}</b><br><br>State=Wyoming<br>Burglary rate=%{marker.size}<br># of guns per capita=%{y}<extra></extra>",
         "hovertext": [
          "Wyoming"
         ],
         "legendgroup": "Wyoming",
         "marker": {
          "color": "#636efa",
          "size": [
           289.1
          ],
          "sizemode": "area",
          "sizeref": 2.21825,
          "symbol": "circle"
         },
         "mode": "markers",
         "name": "Wyoming",
         "orientation": "v",
         "showlegend": true,
         "type": "scatter",
         "x": [
          289.1
         ],
         "xaxis": "x",
         "y": [
          229.24
         ],
         "yaxis": "y"
        }
       ],
       "layout": {
        "legend": {
         "itemsizing": "constant",
         "title": {
          "text": "State"
         },
         "tracegroupgap": 0
        },
        "template": {
         "data": {
          "bar": [
           {
            "error_x": {
             "color": "#2a3f5f"
            },
            "error_y": {
             "color": "#2a3f5f"
            },
            "marker": {
             "line": {
              "color": "#E5ECF6",
              "width": 0.5
             }
            },
            "type": "bar"
           }
          ],
          "barpolar": [
           {
            "marker": {
             "line": {
              "color": "#E5ECF6",
              "width": 0.5
             }
            },
            "type": "barpolar"
           }
          ],
          "carpet": [
           {
            "aaxis": {
             "endlinecolor": "#2a3f5f",
             "gridcolor": "white",
             "linecolor": "white",
             "minorgridcolor": "white",
             "startlinecolor": "#2a3f5f"
            },
            "baxis": {
             "endlinecolor": "#2a3f5f",
             "gridcolor": "white",
             "linecolor": "white",
             "minorgridcolor": "white",
             "startlinecolor": "#2a3f5f"
            },
            "type": "carpet"
           }
          ],
          "choropleth": [
           {
            "colorbar": {
             "outlinewidth": 0,
             "ticks": ""
            },
            "type": "choropleth"
           }
          ],
          "contour": [
           {
            "colorbar": {
             "outlinewidth": 0,
             "ticks": ""
            },
            "colorscale": [
             [
              0,
              "#0d0887"
             ],
             [
              0.1111111111111111,
              "#46039f"
             ],
             [
              0.2222222222222222,
              "#7201a8"
             ],
             [
              0.3333333333333333,
              "#9c179e"
             ],
             [
              0.4444444444444444,
              "#bd3786"
             ],
             [
              0.5555555555555556,
              "#d8576b"
             ],
             [
              0.6666666666666666,
              "#ed7953"
             ],
             [
              0.7777777777777778,
              "#fb9f3a"
             ],
             [
              0.8888888888888888,
              "#fdca26"
             ],
             [
              1,
              "#f0f921"
             ]
            ],
            "type": "contour"
           }
          ],
          "contourcarpet": [
           {
            "colorbar": {
             "outlinewidth": 0,
             "ticks": ""
            },
            "type": "contourcarpet"
           }
          ],
          "heatmap": [
           {
            "colorbar": {
             "outlinewidth": 0,
             "ticks": ""
            },
            "colorscale": [
             [
              0,
              "#0d0887"
             ],
             [
              0.1111111111111111,
              "#46039f"
             ],
             [
              0.2222222222222222,
              "#7201a8"
             ],
             [
              0.3333333333333333,
              "#9c179e"
             ],
             [
              0.4444444444444444,
              "#bd3786"
             ],
             [
              0.5555555555555556,
              "#d8576b"
             ],
             [
              0.6666666666666666,
              "#ed7953"
             ],
             [
              0.7777777777777778,
              "#fb9f3a"
             ],
             [
              0.8888888888888888,
              "#fdca26"
             ],
             [
              1,
              "#f0f921"
             ]
            ],
            "type": "heatmap"
           }
          ],
          "heatmapgl": [
           {
            "colorbar": {
             "outlinewidth": 0,
             "ticks": ""
            },
            "colorscale": [
             [
              0,
              "#0d0887"
             ],
             [
              0.1111111111111111,
              "#46039f"
             ],
             [
              0.2222222222222222,
              "#7201a8"
             ],
             [
              0.3333333333333333,
              "#9c179e"
             ],
             [
              0.4444444444444444,
              "#bd3786"
             ],
             [
              0.5555555555555556,
              "#d8576b"
             ],
             [
              0.6666666666666666,
              "#ed7953"
             ],
             [
              0.7777777777777778,
              "#fb9f3a"
             ],
             [
              0.8888888888888888,
              "#fdca26"
             ],
             [
              1,
              "#f0f921"
             ]
            ],
            "type": "heatmapgl"
           }
          ],
          "histogram": [
           {
            "marker": {
             "colorbar": {
              "outlinewidth": 0,
              "ticks": ""
             }
            },
            "type": "histogram"
           }
          ],
          "histogram2d": [
           {
            "colorbar": {
             "outlinewidth": 0,
             "ticks": ""
            },
            "colorscale": [
             [
              0,
              "#0d0887"
             ],
             [
              0.1111111111111111,
              "#46039f"
             ],
             [
              0.2222222222222222,
              "#7201a8"
             ],
             [
              0.3333333333333333,
              "#9c179e"
             ],
             [
              0.4444444444444444,
              "#bd3786"
             ],
             [
              0.5555555555555556,
              "#d8576b"
             ],
             [
              0.6666666666666666,
              "#ed7953"
             ],
             [
              0.7777777777777778,
              "#fb9f3a"
             ],
             [
              0.8888888888888888,
              "#fdca26"
             ],
             [
              1,
              "#f0f921"
             ]
            ],
            "type": "histogram2d"
           }
          ],
          "histogram2dcontour": [
           {
            "colorbar": {
             "outlinewidth": 0,
             "ticks": ""
            },
            "colorscale": [
             [
              0,
              "#0d0887"
             ],
             [
              0.1111111111111111,
              "#46039f"
             ],
             [
              0.2222222222222222,
              "#7201a8"
             ],
             [
              0.3333333333333333,
              "#9c179e"
             ],
             [
              0.4444444444444444,
              "#bd3786"
             ],
             [
              0.5555555555555556,
              "#d8576b"
             ],
             [
              0.6666666666666666,
              "#ed7953"
             ],
             [
              0.7777777777777778,
              "#fb9f3a"
             ],
             [
              0.8888888888888888,
              "#fdca26"
             ],
             [
              1,
              "#f0f921"
             ]
            ],
            "type": "histogram2dcontour"
           }
          ],
          "mesh3d": [
           {
            "colorbar": {
             "outlinewidth": 0,
             "ticks": ""
            },
            "type": "mesh3d"
           }
          ],
          "parcoords": [
           {
            "line": {
             "colorbar": {
              "outlinewidth": 0,
              "ticks": ""
             }
            },
            "type": "parcoords"
           }
          ],
          "pie": [
           {
            "automargin": true,
            "type": "pie"
           }
          ],
          "scatter": [
           {
            "marker": {
             "colorbar": {
              "outlinewidth": 0,
              "ticks": ""
             }
            },
            "type": "scatter"
           }
          ],
          "scatter3d": [
           {
            "line": {
             "colorbar": {
              "outlinewidth": 0,
              "ticks": ""
             }
            },
            "marker": {
             "colorbar": {
              "outlinewidth": 0,
              "ticks": ""
             }
            },
            "type": "scatter3d"
           }
          ],
          "scattercarpet": [
           {
            "marker": {
             "colorbar": {
              "outlinewidth": 0,
              "ticks": ""
             }
            },
            "type": "scattercarpet"
           }
          ],
          "scattergeo": [
           {
            "marker": {
             "colorbar": {
              "outlinewidth": 0,
              "ticks": ""
             }
            },
            "type": "scattergeo"
           }
          ],
          "scattergl": [
           {
            "marker": {
             "colorbar": {
              "outlinewidth": 0,
              "ticks": ""
             }
            },
            "type": "scattergl"
           }
          ],
          "scattermapbox": [
           {
            "marker": {
             "colorbar": {
              "outlinewidth": 0,
              "ticks": ""
             }
            },
            "type": "scattermapbox"
           }
          ],
          "scatterpolar": [
           {
            "marker": {
             "colorbar": {
              "outlinewidth": 0,
              "ticks": ""
             }
            },
            "type": "scatterpolar"
           }
          ],
          "scatterpolargl": [
           {
            "marker": {
             "colorbar": {
              "outlinewidth": 0,
              "ticks": ""
             }
            },
            "type": "scatterpolargl"
           }
          ],
          "scatterternary": [
           {
            "marker": {
             "colorbar": {
              "outlinewidth": 0,
              "ticks": ""
             }
            },
            "type": "scatterternary"
           }
          ],
          "surface": [
           {
            "colorbar": {
             "outlinewidth": 0,
             "ticks": ""
            },
            "colorscale": [
             [
              0,
              "#0d0887"
             ],
             [
              0.1111111111111111,
              "#46039f"
             ],
             [
              0.2222222222222222,
              "#7201a8"
             ],
             [
              0.3333333333333333,
              "#9c179e"
             ],
             [
              0.4444444444444444,
              "#bd3786"
             ],
             [
              0.5555555555555556,
              "#d8576b"
             ],
             [
              0.6666666666666666,
              "#ed7953"
             ],
             [
              0.7777777777777778,
              "#fb9f3a"
             ],
             [
              0.8888888888888888,
              "#fdca26"
             ],
             [
              1,
              "#f0f921"
             ]
            ],
            "type": "surface"
           }
          ],
          "table": [
           {
            "cells": {
             "fill": {
              "color": "#EBF0F8"
             },
             "line": {
              "color": "white"
             }
            },
            "header": {
             "fill": {
              "color": "#C8D4E3"
             },
             "line": {
              "color": "white"
             }
            },
            "type": "table"
           }
          ]
         },
         "layout": {
          "annotationdefaults": {
           "arrowcolor": "#2a3f5f",
           "arrowhead": 0,
           "arrowwidth": 1
          },
          "coloraxis": {
           "colorbar": {
            "outlinewidth": 0,
            "ticks": ""
           }
          },
          "colorscale": {
           "diverging": [
            [
             0,
             "#8e0152"
            ],
            [
             0.1,
             "#c51b7d"
            ],
            [
             0.2,
             "#de77ae"
            ],
            [
             0.3,
             "#f1b6da"
            ],
            [
             0.4,
             "#fde0ef"
            ],
            [
             0.5,
             "#f7f7f7"
            ],
            [
             0.6,
             "#e6f5d0"
            ],
            [
             0.7,
             "#b8e186"
            ],
            [
             0.8,
             "#7fbc41"
            ],
            [
             0.9,
             "#4d9221"
            ],
            [
             1,
             "#276419"
            ]
           ],
           "sequential": [
            [
             0,
             "#0d0887"
            ],
            [
             0.1111111111111111,
             "#46039f"
            ],
            [
             0.2222222222222222,
             "#7201a8"
            ],
            [
             0.3333333333333333,
             "#9c179e"
            ],
            [
             0.4444444444444444,
             "#bd3786"
            ],
            [
             0.5555555555555556,
             "#d8576b"
            ],
            [
             0.6666666666666666,
             "#ed7953"
            ],
            [
             0.7777777777777778,
             "#fb9f3a"
            ],
            [
             0.8888888888888888,
             "#fdca26"
            ],
            [
             1,
             "#f0f921"
            ]
           ],
           "sequentialminus": [
            [
             0,
             "#0d0887"
            ],
            [
             0.1111111111111111,
             "#46039f"
            ],
            [
             0.2222222222222222,
             "#7201a8"
            ],
            [
             0.3333333333333333,
             "#9c179e"
            ],
            [
             0.4444444444444444,
             "#bd3786"
            ],
            [
             0.5555555555555556,
             "#d8576b"
            ],
            [
             0.6666666666666666,
             "#ed7953"
            ],
            [
             0.7777777777777778,
             "#fb9f3a"
            ],
            [
             0.8888888888888888,
             "#fdca26"
            ],
            [
             1,
             "#f0f921"
            ]
           ]
          },
          "colorway": [
           "#636efa",
           "#EF553B",
           "#00cc96",
           "#ab63fa",
           "#FFA15A",
           "#19d3f3",
           "#FF6692",
           "#B6E880",
           "#FF97FF",
           "#FECB52"
          ],
          "font": {
           "color": "#2a3f5f"
          },
          "geo": {
           "bgcolor": "white",
           "lakecolor": "white",
           "landcolor": "#E5ECF6",
           "showlakes": true,
           "showland": true,
           "subunitcolor": "white"
          },
          "hoverlabel": {
           "align": "left"
          },
          "hovermode": "closest",
          "mapbox": {
           "style": "light"
          },
          "paper_bgcolor": "white",
          "plot_bgcolor": "#E5ECF6",
          "polar": {
           "angularaxis": {
            "gridcolor": "white",
            "linecolor": "white",
            "ticks": ""
           },
           "bgcolor": "#E5ECF6",
           "radialaxis": {
            "gridcolor": "white",
            "linecolor": "white",
            "ticks": ""
           }
          },
          "scene": {
           "xaxis": {
            "backgroundcolor": "#E5ECF6",
            "gridcolor": "white",
            "gridwidth": 2,
            "linecolor": "white",
            "showbackground": true,
            "ticks": "",
            "zerolinecolor": "white"
           },
           "yaxis": {
            "backgroundcolor": "#E5ECF6",
            "gridcolor": "white",
            "gridwidth": 2,
            "linecolor": "white",
            "showbackground": true,
            "ticks": "",
            "zerolinecolor": "white"
           },
           "zaxis": {
            "backgroundcolor": "#E5ECF6",
            "gridcolor": "white",
            "gridwidth": 2,
            "linecolor": "white",
            "showbackground": true,
            "ticks": "",
            "zerolinecolor": "white"
           }
          },
          "shapedefaults": {
           "line": {
            "color": "#2a3f5f"
           }
          },
          "ternary": {
           "aaxis": {
            "gridcolor": "white",
            "linecolor": "white",
            "ticks": ""
           },
           "baxis": {
            "gridcolor": "white",
            "linecolor": "white",
            "ticks": ""
           },
           "bgcolor": "#E5ECF6",
           "caxis": {
            "gridcolor": "white",
            "linecolor": "white",
            "ticks": ""
           }
          },
          "title": {
           "x": 0.05
          },
          "xaxis": {
           "automargin": true,
           "gridcolor": "white",
           "linecolor": "white",
           "ticks": "",
           "title": {
            "standoff": 15
           },
           "zerolinecolor": "white",
           "zerolinewidth": 2
          },
          "yaxis": {
           "automargin": true,
           "gridcolor": "white",
           "linecolor": "white",
           "ticks": "",
           "title": {
            "standoff": 15
           },
           "zerolinecolor": "white",
           "zerolinewidth": 2
          }
         }
        },
        "title": {
         "text": "Burglary Rate in the US"
        },
        "xaxis": {
         "anchor": "y",
         "domain": [
          0,
          1
         ],
         "title": {
          "text": "Burglary rate"
         }
        },
        "yaxis": {
         "anchor": "x",
         "domain": [
          0,
          1
         ],
         "title": {
          "text": "# of guns per capita"
         }
        }
       }
      },
      "text/html": [
       "<div>\n",
       "        \n",
       "        \n",
       "            <div id=\"434c3d3f-e82a-4c07-b042-6bf8d113fdd3\" class=\"plotly-graph-div\" style=\"height:525px; width:100%;\"></div>\n",
       "            <script type=\"text/javascript\">\n",
       "                require([\"plotly\"], function(Plotly) {\n",
       "                    window.PLOTLYENV=window.PLOTLYENV || {};\n",
       "                    \n",
       "                if (document.getElementById(\"434c3d3f-e82a-4c07-b042-6bf8d113fdd3\")) {\n",
       "                    Plotly.newPlot(\n",
       "                        '434c3d3f-e82a-4c07-b042-6bf8d113fdd3',\n",
       "                        [{\"hovertemplate\": \"<b>%{hovertext}</b><br><br>State=Alabama<br>Burglary rate=%{marker.size}<br># of guns per capita=%{y}<extra></extra>\", \"hovertext\": [\"Alabama\"], \"legendgroup\": \"Alabama\", \"marker\": {\"color\": \"#636efa\", \"size\": [819.0], \"sizemode\": \"area\", \"sizeref\": 2.21825, \"symbol\": \"circle\"}, \"mode\": \"markers\", \"name\": \"Alabama\", \"orientation\": \"v\", \"showlegend\": true, \"type\": \"scatter\", \"x\": [819.0], \"xaxis\": \"x\", \"y\": [33.15], \"yaxis\": \"y\"}, {\"hovertemplate\": \"<b>%{hovertext}</b><br><br>State=Alaska<br>Burglary rate=%{marker.size}<br># of guns per capita=%{y}<extra></extra>\", \"hovertext\": [\"Alaska\"], \"legendgroup\": \"Alaska\", \"marker\": {\"color\": \"#EF553B\", \"size\": [427.6], \"sizemode\": \"area\", \"sizeref\": 2.21825, \"symbol\": \"circle\"}, \"mode\": \"markers\", \"name\": \"Alaska\", \"orientation\": \"v\", \"showlegend\": true, \"type\": \"scatter\", \"x\": [427.6], \"xaxis\": \"x\", \"y\": [21.38], \"yaxis\": \"y\"}, {\"hovertemplate\": \"<b>%{hovertext}</b><br><br>State=Arizona<br>Burglary rate=%{marker.size}<br># of guns per capita=%{y}<extra></extra>\", \"hovertext\": [\"Arizona\"], \"legendgroup\": \"Arizona\", \"marker\": {\"color\": \"#00cc96\", \"size\": [647.1], \"sizemode\": \"area\", \"sizeref\": 2.21825, \"symbol\": \"circle\"}, \"mode\": \"markers\", \"name\": \"Arizona\", \"orientation\": \"v\", \"showlegend\": true, \"type\": \"scatter\", \"x\": [647.1], \"xaxis\": \"x\", \"y\": [25.61], \"yaxis\": \"y\"}, {\"hovertemplate\": \"<b>%{hovertext}</b><br><br>State=Arkansas<br>Burglary rate=%{marker.size}<br># of guns per capita=%{y}<extra></extra>\", \"hovertext\": [\"Arkansas\"], \"legendgroup\": \"Arkansas\", \"marker\": {\"color\": \"#ab63fa\", \"size\": [835.7], \"sizemode\": \"area\", \"sizeref\": 2.21825, \"symbol\": \"circle\"}, \"mode\": \"markers\", \"name\": \"Arkansas\", \"orientation\": \"v\", \"showlegend\": true, \"type\": \"scatter\", \"x\": [835.7], \"xaxis\": \"x\", \"y\": [26.57], \"yaxis\": \"y\"}, {\"hovertemplate\": \"<b>%{hovertext}</b><br><br>State=California<br>Burglary rate=%{marker.size}<br># of guns per capita=%{y}<extra></extra>\", \"hovertext\": [\"California\"], \"legendgroup\": \"California\", \"marker\": {\"color\": \"#FFA15A\", \"size\": [522.3], \"sizemode\": \"area\", \"sizeref\": 2.21825, \"symbol\": \"circle\"}, \"mode\": \"markers\", \"name\": \"California\", \"orientation\": \"v\", \"showlegend\": true, \"type\": \"scatter\", \"x\": [522.3], \"xaxis\": \"x\", \"y\": [8.71], \"yaxis\": \"y\"}, {\"hovertemplate\": \"<b>%{hovertext}</b><br><br>State=Colorado<br>Burglary rate=%{marker.size}<br># of guns per capita=%{y}<extra></extra>\", \"hovertext\": [\"Colorado\"], \"legendgroup\": \"Colorado\", \"marker\": {\"color\": \"#19d3f3\", \"size\": [438.2], \"sizemode\": \"area\", \"sizeref\": 2.21825, \"symbol\": \"circle\"}, \"mode\": \"markers\", \"name\": \"Colorado\", \"orientation\": \"v\", \"showlegend\": true, \"type\": \"scatter\", \"x\": [438.2], \"xaxis\": \"x\", \"y\": [16.48], \"yaxis\": \"y\"}, {\"hovertemplate\": \"<b>%{hovertext}</b><br><br>State=Connecticut<br>Burglary rate=%{marker.size}<br># of guns per capita=%{y}<extra></extra>\", \"hovertext\": [\"Connecticut\"], \"legendgroup\": \"Connecticut\", \"marker\": {\"color\": \"#FF6692\", \"size\": [332.4], \"sizemode\": \"area\", \"sizeref\": 2.21825, \"symbol\": \"circle\"}, \"mode\": \"markers\", \"name\": \"Connecticut\", \"orientation\": \"v\", \"showlegend\": true, \"type\": \"scatter\", \"x\": [332.4], \"xaxis\": \"x\", \"y\": [22.96], \"yaxis\": \"y\"}, {\"hovertemplate\": \"<b>%{hovertext}</b><br><br>State=DC<br>Burglary rate=%{marker.size}<br># of guns per capita=%{y}<extra></extra>\", \"hovertext\": [\"DC\"], \"legendgroup\": \"DC\", \"marker\": {\"color\": \"#B6E880\", \"size\": [526.0], \"sizemode\": \"area\", \"sizeref\": 2.21825, \"symbol\": \"circle\"}, \"mode\": \"markers\", \"name\": \"DC\", \"orientation\": \"v\", \"showlegend\": true, \"type\": \"scatter\", \"x\": [526.0], \"xaxis\": \"x\", \"y\": [68.05], \"yaxis\": \"y\"}, {\"hovertemplate\": \"<b>%{hovertext}</b><br><br>State=Delaware<br>Burglary rate=%{marker.size}<br># of guns per capita=%{y}<extra></extra>\", \"hovertext\": [\"Delaware\"], \"legendgroup\": \"Delaware\", \"marker\": {\"color\": \"#FF97FF\", \"size\": [616.5], \"sizemode\": \"area\", \"sizeref\": 2.21825, \"symbol\": \"circle\"}, \"mode\": \"markers\", \"name\": \"Delaware\", \"orientation\": \"v\", \"showlegend\": true, \"type\": \"scatter\", \"x\": [616.5], \"xaxis\": \"x\", \"y\": [5.04], \"yaxis\": \"y\"}, {\"hovertemplate\": \"<b>%{hovertext}</b><br><br>State=Florida<br>Burglary rate=%{marker.size}<br># of guns per capita=%{y}<extra></extra>\", \"hovertext\": [\"Florida\"], \"legendgroup\": \"Florida\", \"marker\": {\"color\": \"#FECB52\", \"size\": [719.9], \"sizemode\": \"area\", \"sizeref\": 2.21825, \"symbol\": \"circle\"}, \"mode\": \"markers\", \"name\": \"Florida\", \"orientation\": \"v\", \"showlegend\": true, \"type\": \"scatter\", \"x\": [719.9], \"xaxis\": \"x\", \"y\": [16.35], \"yaxis\": \"y\"}, {\"hovertemplate\": \"<b>%{hovertext}</b><br><br>State=Georgia<br>Burglary rate=%{marker.size}<br># of guns per capita=%{y}<extra></extra>\", \"hovertext\": [\"Georgia\"], \"legendgroup\": \"Georgia\", \"marker\": {\"color\": \"#636efa\", \"size\": [756.9], \"sizemode\": \"area\", \"sizeref\": 2.21825, \"symbol\": \"circle\"}, \"mode\": \"markers\", \"name\": \"Georgia\", \"orientation\": \"v\", \"showlegend\": true, \"type\": \"scatter\", \"x\": [756.9], \"xaxis\": \"x\", \"y\": [18.22], \"yaxis\": \"y\"}, {\"hovertemplate\": \"<b>%{hovertext}</b><br><br>State=Hawaii<br>Burglary rate=%{marker.size}<br># of guns per capita=%{y}<extra></extra>\", \"hovertext\": [\"Hawaii\"], \"legendgroup\": \"Hawaii\", \"marker\": {\"color\": \"#EF553B\", \"size\": [547.9], \"sizemode\": \"area\", \"sizeref\": 2.21825, \"symbol\": \"circle\"}, \"mode\": \"markers\", \"name\": \"Hawaii\", \"orientation\": \"v\", \"showlegend\": true, \"type\": \"scatter\", \"x\": [547.9], \"xaxis\": \"x\", \"y\": [5.5], \"yaxis\": \"y\"}, {\"hovertemplate\": \"<b>%{hovertext}</b><br><br>State=Idaho<br>Burglary rate=%{marker.size}<br># of guns per capita=%{y}<extra></extra>\", \"hovertext\": [\"Idaho\"], \"legendgroup\": \"Idaho\", \"marker\": {\"color\": \"#00cc96\", \"size\": [393.3], \"sizemode\": \"area\", \"sizeref\": 2.21825, \"symbol\": \"circle\"}, \"mode\": \"markers\", \"name\": \"Idaho\", \"orientation\": \"v\", \"showlegend\": true, \"type\": \"scatter\", \"x\": [393.3], \"xaxis\": \"x\", \"y\": [28.86], \"yaxis\": \"y\"}, {\"hovertemplate\": \"<b>%{hovertext}</b><br><br>State=Illinois<br>Burglary rate=%{marker.size}<br># of guns per capita=%{y}<extra></extra>\", \"hovertext\": [\"Illinois\"], \"legendgroup\": \"Illinois\", \"marker\": {\"color\": \"#ab63fa\", \"size\": [388.2], \"sizemode\": \"area\", \"sizeref\": 2.21825, \"symbol\": \"circle\"}, \"mode\": \"markers\", \"name\": \"Illinois\", \"orientation\": \"v\", \"showlegend\": true, \"type\": \"scatter\", \"x\": [388.2], \"xaxis\": \"x\", \"y\": [11.44], \"yaxis\": \"y\"}, {\"hovertemplate\": \"<b>%{hovertext}</b><br><br>State=Indiana<br>Burglary rate=%{marker.size}<br># of guns per capita=%{y}<extra></extra>\", \"hovertext\": [\"Indiana\"], \"legendgroup\": \"Indiana\", \"marker\": {\"color\": \"#FFA15A\", \"size\": [559.3], \"sizemode\": \"area\", \"sizeref\": 2.21825, \"symbol\": \"circle\"}, \"mode\": \"markers\", \"name\": \"Indiana\", \"orientation\": \"v\", \"showlegend\": true, \"type\": \"scatter\", \"x\": [559.3], \"xaxis\": \"x\", \"y\": [17.1], \"yaxis\": \"y\"}, {\"hovertemplate\": \"<b>%{hovertext}</b><br><br>State=Iowa<br>Burglary rate=%{marker.size}<br># of guns per capita=%{y}<extra></extra>\", \"hovertext\": [\"Iowa\"], \"legendgroup\": \"Iowa\", \"marker\": {\"color\": \"#19d3f3\", \"size\": [464.4], \"sizemode\": \"area\", \"sizeref\": 2.21825, \"symbol\": \"circle\"}, \"mode\": \"markers\", \"name\": \"Iowa\", \"orientation\": \"v\", \"showlegend\": true, \"type\": \"scatter\", \"x\": [464.4], \"xaxis\": \"x\", \"y\": [9.05], \"yaxis\": \"y\"}, {\"hovertemplate\": \"<b>%{hovertext}</b><br><br>State=Kansas<br>Burglary rate=%{marker.size}<br># of guns per capita=%{y}<extra></extra>\", \"hovertext\": [\"Kansas\"], \"legendgroup\": \"Kansas\", \"marker\": {\"color\": \"#FF6692\", \"size\": [545.0], \"sizemode\": \"area\", \"sizeref\": 2.21825, \"symbol\": \"circle\"}, \"mode\": \"markers\", \"name\": \"Kansas\", \"orientation\": \"v\", \"showlegend\": true, \"type\": \"scatter\", \"x\": [545.0], \"xaxis\": \"x\", \"y\": [18.06], \"yaxis\": \"y\"}, {\"hovertemplate\": \"<b>%{hovertext}</b><br><br>State=Kentucky<br>Burglary rate=%{marker.size}<br># of guns per capita=%{y}<extra></extra>\", \"hovertext\": [\"Kentucky\"], \"legendgroup\": \"Kentucky\", \"marker\": {\"color\": \"#B6E880\", \"size\": [526.7], \"sizemode\": \"area\", \"sizeref\": 2.21825, \"symbol\": \"circle\"}, \"mode\": \"markers\", \"name\": \"Kentucky\", \"orientation\": \"v\", \"showlegend\": true, \"type\": \"scatter\", \"x\": [526.7], \"xaxis\": \"x\", \"y\": [18.2], \"yaxis\": \"y\"}, {\"hovertemplate\": \"<b>%{hovertext}</b><br><br>State=Louisiana<br>Burglary rate=%{marker.size}<br># of guns per capita=%{y}<extra></extra>\", \"hovertext\": [\"Louisiana\"], \"legendgroup\": \"Louisiana\", \"marker\": {\"color\": \"#FF97FF\", \"size\": [824.5], \"sizemode\": \"area\", \"sizeref\": 2.21825, \"symbol\": \"circle\"}, \"mode\": \"markers\", \"name\": \"Louisiana\", \"orientation\": \"v\", \"showlegend\": true, \"type\": \"scatter\", \"x\": [824.5], \"xaxis\": \"x\", \"y\": [24.94], \"yaxis\": \"y\"}, {\"hovertemplate\": \"<b>%{hovertext}</b><br><br>State=Maine<br>Burglary rate=%{marker.size}<br># of guns per capita=%{y}<extra></extra>\", \"hovertext\": [\"Maine\"], \"legendgroup\": \"Maine\", \"marker\": {\"color\": \"#FECB52\", \"size\": [378.2], \"sizemode\": \"area\", \"sizeref\": 2.21825, \"symbol\": \"circle\"}, \"mode\": \"markers\", \"name\": \"Maine\", \"orientation\": \"v\", \"showlegend\": true, \"type\": \"scatter\", \"x\": [378.2], \"xaxis\": \"x\", \"y\": [11.5], \"yaxis\": \"y\"}, {\"hovertemplate\": \"<b>%{hovertext}</b><br><br>State=Maryland<br>Burglary rate=%{marker.size}<br># of guns per capita=%{y}<extra></extra>\", \"hovertext\": [\"Maryland\"], \"legendgroup\": \"Maryland\", \"marker\": {\"color\": \"#636efa\", \"size\": [468.7], \"sizemode\": \"area\", \"sizeref\": 2.21825, \"symbol\": \"circle\"}, \"mode\": \"markers\", \"name\": \"Maryland\", \"orientation\": \"v\", \"showlegend\": true, \"type\": \"scatter\", \"x\": [468.7], \"xaxis\": \"x\", \"y\": [17.03], \"yaxis\": \"y\"}, {\"hovertemplate\": \"<b>%{hovertext}</b><br><br>State=Massachusetts<br>Burglary rate=%{marker.size}<br># of guns per capita=%{y}<extra></extra>\", \"hovertext\": [\"Massachusetts\"], \"legendgroup\": \"Massachusetts\", \"marker\": {\"color\": \"#EF553B\", \"size\": [370.1], \"sizemode\": \"area\", \"sizeref\": 2.21825, \"symbol\": \"circle\"}, \"mode\": \"markers\", \"name\": \"Massachusetts\", \"orientation\": \"v\", \"showlegend\": true, \"type\": \"scatter\", \"x\": [370.1], \"xaxis\": \"x\", \"y\": [5.41], \"yaxis\": \"y\"}, {\"hovertemplate\": \"<b>%{hovertext}</b><br><br>State=Michigan<br>Burglary rate=%{marker.size}<br># of guns per capita=%{y}<extra></extra>\", \"hovertext\": [\"Michigan\"], \"legendgroup\": \"Michigan\", \"marker\": {\"color\": \"#00cc96\", \"size\": [445.9], \"sizemode\": \"area\", \"sizeref\": 2.21825, \"symbol\": \"circle\"}, \"mode\": \"markers\", \"name\": \"Michigan\", \"orientation\": \"v\", \"showlegend\": true, \"type\": \"scatter\", \"x\": [445.9], \"xaxis\": \"x\", \"y\": [6.59], \"yaxis\": \"y\"}, {\"hovertemplate\": \"<b>%{hovertext}</b><br><br>State=Minnesota<br>Burglary rate=%{marker.size}<br># of guns per capita=%{y}<extra></extra>\", \"hovertext\": [\"Minnesota\"], \"legendgroup\": \"Minnesota\", \"marker\": {\"color\": \"#ab63fa\", \"size\": [380.7], \"sizemode\": \"area\", \"sizeref\": 2.21825, \"symbol\": \"circle\"}, \"mode\": \"markers\", \"name\": \"Minnesota\", \"orientation\": \"v\", \"showlegend\": true, \"type\": \"scatter\", \"x\": [380.7], \"xaxis\": \"x\", \"y\": [14.22], \"yaxis\": \"y\"}, {\"hovertemplate\": \"<b>%{hovertext}</b><br><br>State=Mississippi<br>Burglary rate=%{marker.size}<br># of guns per capita=%{y}<extra></extra>\", \"hovertext\": [\"Mississippi\"], \"legendgroup\": \"Mississippi\", \"marker\": {\"color\": \"#FFA15A\", \"size\": [813.3], \"sizemode\": \"area\", \"sizeref\": 2.21825, \"symbol\": \"circle\"}, \"mode\": \"markers\", \"name\": \"Mississippi\", \"orientation\": \"v\", \"showlegend\": true, \"type\": \"scatter\", \"x\": [813.3], \"xaxis\": \"x\", \"y\": [11.89], \"yaxis\": \"y\"}, {\"hovertemplate\": \"<b>%{hovertext}</b><br><br>State=Missouri<br>Burglary rate=%{marker.size}<br># of guns per capita=%{y}<extra></extra>\", \"hovertext\": [\"Missouri\"], \"legendgroup\": \"Missouri\", \"marker\": {\"color\": \"#19d3f3\", \"size\": [581.5], \"sizemode\": \"area\", \"sizeref\": 2.21825, \"symbol\": \"circle\"}, \"mode\": \"markers\", \"name\": \"Missouri\", \"orientation\": \"v\", \"showlegend\": true, \"type\": \"scatter\", \"x\": [581.5], \"xaxis\": \"x\", \"y\": [11.94], \"yaxis\": \"y\"}, {\"hovertemplate\": \"<b>%{hovertext}</b><br><br>State=Montana<br>Burglary rate=%{marker.size}<br># of guns per capita=%{y}<extra></extra>\", \"hovertext\": [\"Montana\"], \"legendgroup\": \"Montana\", \"marker\": {\"color\": \"#FF6692\", \"size\": [351.2], \"sizemode\": \"area\", \"sizeref\": 2.21825, \"symbol\": \"circle\"}, \"mode\": \"markers\", \"name\": \"Montana\", \"orientation\": \"v\", \"showlegend\": true, \"type\": \"scatter\", \"x\": [351.2], \"xaxis\": \"x\", \"y\": [21.06], \"yaxis\": \"y\"}, {\"hovertemplate\": \"<b>%{hovertext}</b><br><br>State=Nebraska<br>Burglary rate=%{marker.size}<br># of guns per capita=%{y}<extra></extra>\", \"hovertext\": [\"Nebraska\"], \"legendgroup\": \"Nebraska\", \"marker\": {\"color\": \"#B6E880\", \"size\": [422.5], \"sizemode\": \"area\", \"sizeref\": 2.21825, \"symbol\": \"circle\"}, \"mode\": \"markers\", \"name\": \"Nebraska\", \"orientation\": \"v\", \"showlegend\": true, \"type\": \"scatter\", \"x\": [422.5], \"xaxis\": \"x\", \"y\": [11.57], \"yaxis\": \"y\"}, {\"hovertemplate\": \"<b>%{hovertext}</b><br><br>State=Nevada<br>Burglary rate=%{marker.size}<br># of guns per capita=%{y}<extra></extra>\", \"hovertext\": [\"Nevada\"], \"legendgroup\": \"Nevada\", \"marker\": {\"color\": \"#FF97FF\", \"size\": [772.3], \"sizemode\": \"area\", \"sizeref\": 2.21825, \"symbol\": \"circle\"}, \"mode\": \"markers\", \"name\": \"Nevada\", \"orientation\": \"v\", \"showlegend\": true, \"type\": \"scatter\", \"x\": [772.3], \"xaxis\": \"x\", \"y\": [25.64], \"yaxis\": \"y\"}, {\"hovertemplate\": \"<b>%{hovertext}</b><br><br>State=New_Hampshire<br>Burglary rate=%{marker.size}<br># of guns per capita=%{y}<extra></extra>\", \"hovertext\": [\"New_Hampshire\"], \"legendgroup\": \"New_Hampshire\", \"marker\": {\"color\": \"#FECB52\", \"size\": [313.7], \"sizemode\": \"area\", \"sizeref\": 2.21825, \"symbol\": \"circle\"}, \"mode\": \"markers\", \"name\": \"New_Hampshire\", \"orientation\": \"v\", \"showlegend\": true, \"type\": \"scatter\", \"x\": [313.7], \"xaxis\": \"x\", \"y\": [46.76], \"yaxis\": \"y\"}, {\"hovertemplate\": \"<b>%{hovertext}</b><br><br>State=New_Jersey<br>Burglary rate=%{marker.size}<br># of guns per capita=%{y}<extra></extra>\", \"hovertext\": [\"New_Jersey\"], \"legendgroup\": \"New_Jersey\", \"marker\": {\"color\": \"#636efa\", \"size\": [354.8], \"sizemode\": \"area\", \"sizeref\": 2.21825, \"symbol\": \"circle\"}, \"mode\": \"markers\", \"name\": \"New_Jersey\", \"orientation\": \"v\", \"showlegend\": true, \"type\": \"scatter\", \"x\": [354.8], \"xaxis\": \"x\", \"y\": [6.38], \"yaxis\": \"y\"}, {\"hovertemplate\": \"<b>%{hovertext}</b><br><br>State=New_Mexico<br>Burglary rate=%{marker.size}<br># of guns per capita=%{y}<extra></extra>\", \"hovertext\": [\"New_Mexico\"], \"legendgroup\": \"New_Mexico\", \"marker\": {\"color\": \"#EF553B\", \"size\": [887.3], \"sizemode\": \"area\", \"sizeref\": 2.21825, \"symbol\": \"circle\"}, \"mode\": \"markers\", \"name\": \"New_Mexico\", \"orientation\": \"v\", \"showlegend\": true, \"type\": \"scatter\", \"x\": [887.3], \"xaxis\": \"x\", \"y\": [46.73], \"yaxis\": \"y\"}, {\"hovertemplate\": \"<b>%{hovertext}</b><br><br>State=New_York<br>Burglary rate=%{marker.size}<br># of guns per capita=%{y}<extra></extra>\", \"hovertext\": [\"New_York\"], \"legendgroup\": \"New_York\", \"marker\": {\"color\": \"#00cc96\", \"size\": [257.2], \"sizemode\": \"area\", \"sizeref\": 2.21825, \"symbol\": \"circle\"}, \"mode\": \"markers\", \"name\": \"New_York\", \"orientation\": \"v\", \"showlegend\": true, \"type\": \"scatter\", \"x\": [257.2], \"xaxis\": \"x\", \"y\": [3.83], \"yaxis\": \"y\"}, {\"hovertemplate\": \"<b>%{hovertext}</b><br><br>State=North_Carolina<br>Burglary rate=%{marker.size}<br># of guns per capita=%{y}<extra></extra>\", \"hovertext\": [\"North_Carolina\"], \"legendgroup\": \"North_Carolina\", \"marker\": {\"color\": \"#ab63fa\", \"size\": [798.2], \"sizemode\": \"area\", \"sizeref\": 2.21825, \"symbol\": \"circle\"}, \"mode\": \"markers\", \"name\": \"North_Carolina\", \"orientation\": \"v\", \"showlegend\": true, \"type\": \"scatter\", \"x\": [798.2], \"xaxis\": \"x\", \"y\": [14.818], \"yaxis\": \"y\"}, {\"hovertemplate\": \"<b>%{hovertext}</b><br><br>State=North_Dakota<br>Burglary rate=%{marker.size}<br># of guns per capita=%{y}<extra></extra>\", \"hovertext\": [\"North_Dakota\"], \"legendgroup\": \"North_Dakota\", \"marker\": {\"color\": \"#FFA15A\", \"size\": [366.1], \"sizemode\": \"area\", \"sizeref\": 2.21825, \"symbol\": \"circle\"}, \"mode\": \"markers\", \"name\": \"North_Dakota\", \"orientation\": \"v\", \"showlegend\": true, \"type\": \"scatter\", \"x\": [366.1], \"xaxis\": \"x\", \"y\": [17.56], \"yaxis\": \"y\"}, {\"hovertemplate\": \"<b>%{hovertext}</b><br><br>State=Ohio<br>Burglary rate=%{marker.size}<br># of guns per capita=%{y}<extra></extra>\", \"hovertext\": [\"Ohio\"], \"legendgroup\": \"Ohio\", \"marker\": {\"color\": \"#19d3f3\", \"size\": [680.0], \"sizemode\": \"area\", \"sizeref\": 2.21825, \"symbol\": \"circle\"}, \"mode\": \"markers\", \"name\": \"Ohio\", \"orientation\": \"v\", \"showlegend\": true, \"type\": \"scatter\", \"x\": [680.0], \"xaxis\": \"x\", \"y\": [14.87], \"yaxis\": \"y\"}, {\"hovertemplate\": \"<b>%{hovertext}</b><br><br>State=Oklahoma<br>Burglary rate=%{marker.size}<br># of guns per capita=%{y}<extra></extra>\", \"hovertext\": [\"Oklahoma\"], \"legendgroup\": \"Oklahoma\", \"marker\": {\"color\": \"#FF6692\", \"size\": [760.9], \"sizemode\": \"area\", \"sizeref\": 2.21825, \"symbol\": \"circle\"}, \"mode\": \"markers\", \"name\": \"Oklahoma\", \"orientation\": \"v\", \"showlegend\": true, \"type\": \"scatter\", \"x\": [760.9], \"xaxis\": \"x\", \"y\": [18.13], \"yaxis\": \"y\"}, {\"hovertemplate\": \"<b>%{hovertext}</b><br><br>State=Oregon<br>Burglary rate=%{marker.size}<br># of guns per capita=%{y}<extra></extra>\", \"hovertext\": [\"Oregon\"], \"legendgroup\": \"Oregon\", \"marker\": {\"color\": \"#B6E880\", \"size\": [434.0], \"sizemode\": \"area\", \"sizeref\": 2.21825, \"symbol\": \"circle\"}, \"mode\": \"markers\", \"name\": \"Oregon\", \"orientation\": \"v\", \"showlegend\": true, \"type\": \"scatter\", \"x\": [434.0], \"xaxis\": \"x\", \"y\": [14.815999999999999], \"yaxis\": \"y\"}, {\"hovertemplate\": \"<b>%{hovertext}</b><br><br>State=Pennsylvania<br>Burglary rate=%{marker.size}<br># of guns per capita=%{y}<extra></extra>\", \"hovertext\": [\"Pennsylvania\"], \"legendgroup\": \"Pennsylvania\", \"marker\": {\"color\": \"#FF97FF\", \"size\": [357.5], \"sizemode\": \"area\", \"sizeref\": 2.21825, \"symbol\": \"circle\"}, \"mode\": \"markers\", \"name\": \"Pennsylvania\", \"orientation\": \"v\", \"showlegend\": true, \"type\": \"scatter\", \"x\": [357.5], \"xaxis\": \"x\", \"y\": [18.45], \"yaxis\": \"y\"}, {\"hovertemplate\": \"<b>%{hovertext}</b><br><br>State=Rhode_Island<br>Burglary rate=%{marker.size}<br># of guns per capita=%{y}<extra></extra>\", \"hovertext\": [\"Rhode_Island\"], \"legendgroup\": \"Rhode_Island\", \"marker\": {\"color\": \"#FECB52\", \"size\": [457.1], \"sizemode\": \"area\", \"sizeref\": 2.21825, \"symbol\": \"circle\"}, \"mode\": \"markers\", \"name\": \"Rhode_Island\", \"orientation\": \"v\", \"showlegend\": true, \"type\": \"scatter\", \"x\": [457.1], \"xaxis\": \"x\", \"y\": [3.98], \"yaxis\": \"y\"}, {\"hovertemplate\": \"<b>%{hovertext}</b><br><br>State=South_Carolina<br>Burglary rate=%{marker.size}<br># of guns per capita=%{y}<extra></extra>\", \"hovertext\": [\"South_Carolina\"], \"legendgroup\": \"South_Carolina\", \"marker\": {\"color\": \"#636efa\", \"size\": [759.9], \"sizemode\": \"area\", \"sizeref\": 2.21825, \"symbol\": \"circle\"}, \"mode\": \"markers\", \"name\": \"South_Carolina\", \"orientation\": \"v\", \"showlegend\": true, \"type\": \"scatter\", \"x\": [759.9], \"xaxis\": \"x\", \"y\": [21.01], \"yaxis\": \"y\"}, {\"hovertemplate\": \"<b>%{hovertext}</b><br><br>State=South_Dakota<br>Burglary rate=%{marker.size}<br># of guns per capita=%{y}<extra></extra>\", \"hovertext\": [\"South_Dakota\"], \"legendgroup\": \"South_Dakota\", \"marker\": {\"color\": \"#EF553B\", \"size\": [330.3], \"sizemode\": \"area\", \"sizeref\": 2.21825, \"symbol\": \"circle\"}, \"mode\": \"markers\", \"name\": \"South_Dakota\", \"orientation\": \"v\", \"showlegend\": true, \"type\": \"scatter\", \"x\": [330.3], \"xaxis\": \"x\", \"y\": [24.29], \"yaxis\": \"y\"}, {\"hovertemplate\": \"<b>%{hovertext}</b><br><br>State=Tennessee<br>Burglary rate=%{marker.size}<br># of guns per capita=%{y}<extra></extra>\", \"hovertext\": [\"Tennessee\"], \"legendgroup\": \"Tennessee\", \"marker\": {\"color\": \"#00cc96\", \"size\": [712.2], \"sizemode\": \"area\", \"sizeref\": 2.21825, \"symbol\": \"circle\"}, \"mode\": \"markers\", \"name\": \"Tennessee\", \"orientation\": \"v\", \"showlegend\": true, \"type\": \"scatter\", \"x\": [712.2], \"xaxis\": \"x\", \"y\": [14.76], \"yaxis\": \"y\"}, {\"hovertemplate\": \"<b>%{hovertext}</b><br><br>State=Texas<br>Burglary rate=%{marker.size}<br># of guns per capita=%{y}<extra></extra>\", \"hovertext\": [\"Texas\"], \"legendgroup\": \"Texas\", \"marker\": {\"color\": \"#ab63fa\", \"size\": [627.8], \"sizemode\": \"area\", \"sizeref\": 2.21825, \"symbol\": \"circle\"}, \"mode\": \"markers\", \"name\": \"Texas\", \"orientation\": \"v\", \"showlegend\": true, \"type\": \"scatter\", \"x\": [627.8], \"xaxis\": \"x\", \"y\": [20.79], \"yaxis\": \"y\"}, {\"hovertemplate\": \"<b>%{hovertext}</b><br><br>State=Utah<br>Burglary rate=%{marker.size}<br># of guns per capita=%{y}<extra></extra>\", \"hovertext\": [\"Utah\"], \"legendgroup\": \"Utah\", \"marker\": {\"color\": \"#FFA15A\", \"size\": [391.4], \"sizemode\": \"area\", \"sizeref\": 2.21825, \"symbol\": \"circle\"}, \"mode\": \"markers\", \"name\": \"Utah\", \"orientation\": \"v\", \"showlegend\": true, \"type\": \"scatter\", \"x\": [391.4], \"xaxis\": \"x\", \"y\": [23.48], \"yaxis\": \"y\"}, {\"hovertemplate\": \"<b>%{hovertext}</b><br><br>State=Vermont<br>Burglary rate=%{marker.size}<br># of guns per capita=%{y}<extra></extra>\", \"hovertext\": [\"Vermont\"], \"legendgroup\": \"Vermont\", \"marker\": {\"color\": \"#19d3f3\", \"size\": [324.6], \"sizemode\": \"area\", \"sizeref\": 2.21825, \"symbol\": \"circle\"}, \"mode\": \"markers\", \"name\": \"Vermont\", \"orientation\": \"v\", \"showlegend\": true, \"type\": \"scatter\", \"x\": [324.6], \"xaxis\": \"x\", \"y\": [9.41], \"yaxis\": \"y\"}, {\"hovertemplate\": \"<b>%{hovertext}</b><br><br>State=Virginia<br>Burglary rate=%{marker.size}<br># of guns per capita=%{y}<extra></extra>\", \"hovertext\": [\"Virginia\"], \"legendgroup\": \"Virginia\", \"marker\": {\"color\": \"#FF6692\", \"size\": [277.7], \"sizemode\": \"area\", \"sizeref\": 2.21825, \"symbol\": \"circle\"}, \"mode\": \"markers\", \"name\": \"Virginia\", \"orientation\": \"v\", \"showlegend\": true, \"type\": \"scatter\", \"x\": [277.7], \"xaxis\": \"x\", \"y\": [36.34], \"yaxis\": \"y\"}, {\"hovertemplate\": \"<b>%{hovertext}</b><br><br>State=Washington<br>Burglary rate=%{marker.size}<br># of guns per capita=%{y}<extra></extra>\", \"hovertext\": [\"Washington\"], \"legendgroup\": \"Washington\", \"marker\": {\"color\": \"#B6E880\", \"size\": [783.0], \"sizemode\": \"area\", \"sizeref\": 2.21825, \"symbol\": \"circle\"}, \"mode\": \"markers\", \"name\": \"Washington\", \"orientation\": \"v\", \"showlegend\": true, \"type\": \"scatter\", \"x\": [783.0], \"xaxis\": \"x\", \"y\": [12.4], \"yaxis\": \"y\"}, {\"hovertemplate\": \"<b>%{hovertext}</b><br><br>State=West_Virginia<br>Burglary rate=%{marker.size}<br># of guns per capita=%{y}<extra></extra>\", \"hovertext\": [\"West_Virginia\"], \"legendgroup\": \"West_Virginia\", \"marker\": {\"color\": \"#FF97FF\", \"size\": [484.9], \"sizemode\": \"area\", \"sizeref\": 2.21825, \"symbol\": \"circle\"}, \"mode\": \"markers\", \"name\": \"West_Virginia\", \"orientation\": \"v\", \"showlegend\": true, \"type\": \"scatter\", \"x\": [484.9], \"xaxis\": \"x\", \"y\": [19.42], \"yaxis\": \"y\"}, {\"hovertemplate\": \"<b>%{hovertext}</b><br><br>State=Wisconsin<br>Burglary rate=%{marker.size}<br># of guns per capita=%{y}<extra></extra>\", \"hovertext\": [\"Wisconsin\"], \"legendgroup\": \"Wisconsin\", \"marker\": {\"color\": \"#FECB52\", \"size\": [368.5], \"sizemode\": \"area\", \"sizeref\": 2.21825, \"symbol\": \"circle\"}, \"mode\": \"markers\", \"name\": \"Wisconsin\", \"orientation\": \"v\", \"showlegend\": true, \"type\": \"scatter\", \"x\": [368.5], \"xaxis\": \"x\", \"y\": [11.19], \"yaxis\": \"y\"}, {\"hovertemplate\": \"<b>%{hovertext}</b><br><br>State=Wyoming<br>Burglary rate=%{marker.size}<br># of guns per capita=%{y}<extra></extra>\", \"hovertext\": [\"Wyoming\"], \"legendgroup\": \"Wyoming\", \"marker\": {\"color\": \"#636efa\", \"size\": [289.1], \"sizemode\": \"area\", \"sizeref\": 2.21825, \"symbol\": \"circle\"}, \"mode\": \"markers\", \"name\": \"Wyoming\", \"orientation\": \"v\", \"showlegend\": true, \"type\": \"scatter\", \"x\": [289.1], \"xaxis\": \"x\", \"y\": [229.24], \"yaxis\": \"y\"}],\n",
       "                        {\"legend\": {\"itemsizing\": \"constant\", \"title\": {\"text\": \"State\"}, \"tracegroupgap\": 0}, \"template\": {\"data\": {\"bar\": [{\"error_x\": {\"color\": \"#2a3f5f\"}, \"error_y\": {\"color\": \"#2a3f5f\"}, \"marker\": {\"line\": {\"color\": \"#E5ECF6\", \"width\": 0.5}}, \"type\": \"bar\"}], \"barpolar\": [{\"marker\": {\"line\": {\"color\": \"#E5ECF6\", \"width\": 0.5}}, \"type\": \"barpolar\"}], \"carpet\": [{\"aaxis\": {\"endlinecolor\": \"#2a3f5f\", \"gridcolor\": \"white\", \"linecolor\": \"white\", \"minorgridcolor\": \"white\", \"startlinecolor\": \"#2a3f5f\"}, \"baxis\": {\"endlinecolor\": \"#2a3f5f\", \"gridcolor\": \"white\", \"linecolor\": \"white\", \"minorgridcolor\": \"white\", \"startlinecolor\": \"#2a3f5f\"}, \"type\": \"carpet\"}], \"choropleth\": [{\"colorbar\": {\"outlinewidth\": 0, \"ticks\": \"\"}, \"type\": \"choropleth\"}], \"contour\": [{\"colorbar\": {\"outlinewidth\": 0, \"ticks\": \"\"}, \"colorscale\": [[0.0, \"#0d0887\"], [0.1111111111111111, \"#46039f\"], [0.2222222222222222, \"#7201a8\"], [0.3333333333333333, \"#9c179e\"], [0.4444444444444444, \"#bd3786\"], [0.5555555555555556, \"#d8576b\"], [0.6666666666666666, \"#ed7953\"], [0.7777777777777778, \"#fb9f3a\"], [0.8888888888888888, \"#fdca26\"], [1.0, \"#f0f921\"]], \"type\": \"contour\"}], \"contourcarpet\": [{\"colorbar\": {\"outlinewidth\": 0, \"ticks\": \"\"}, \"type\": \"contourcarpet\"}], \"heatmap\": [{\"colorbar\": {\"outlinewidth\": 0, \"ticks\": \"\"}, \"colorscale\": [[0.0, \"#0d0887\"], [0.1111111111111111, \"#46039f\"], [0.2222222222222222, \"#7201a8\"], [0.3333333333333333, \"#9c179e\"], [0.4444444444444444, \"#bd3786\"], [0.5555555555555556, \"#d8576b\"], [0.6666666666666666, \"#ed7953\"], [0.7777777777777778, \"#fb9f3a\"], [0.8888888888888888, \"#fdca26\"], [1.0, \"#f0f921\"]], \"type\": \"heatmap\"}], \"heatmapgl\": [{\"colorbar\": {\"outlinewidth\": 0, \"ticks\": \"\"}, \"colorscale\": [[0.0, \"#0d0887\"], [0.1111111111111111, \"#46039f\"], [0.2222222222222222, \"#7201a8\"], [0.3333333333333333, \"#9c179e\"], [0.4444444444444444, \"#bd3786\"], [0.5555555555555556, \"#d8576b\"], [0.6666666666666666, \"#ed7953\"], [0.7777777777777778, \"#fb9f3a\"], [0.8888888888888888, \"#fdca26\"], [1.0, \"#f0f921\"]], \"type\": \"heatmapgl\"}], \"histogram\": [{\"marker\": {\"colorbar\": {\"outlinewidth\": 0, \"ticks\": \"\"}}, \"type\": \"histogram\"}], \"histogram2d\": [{\"colorbar\": {\"outlinewidth\": 0, \"ticks\": \"\"}, \"colorscale\": [[0.0, \"#0d0887\"], [0.1111111111111111, \"#46039f\"], [0.2222222222222222, \"#7201a8\"], [0.3333333333333333, \"#9c179e\"], [0.4444444444444444, \"#bd3786\"], [0.5555555555555556, \"#d8576b\"], [0.6666666666666666, \"#ed7953\"], [0.7777777777777778, \"#fb9f3a\"], [0.8888888888888888, \"#fdca26\"], [1.0, \"#f0f921\"]], \"type\": \"histogram2d\"}], \"histogram2dcontour\": [{\"colorbar\": {\"outlinewidth\": 0, \"ticks\": \"\"}, \"colorscale\": [[0.0, \"#0d0887\"], [0.1111111111111111, \"#46039f\"], [0.2222222222222222, \"#7201a8\"], [0.3333333333333333, \"#9c179e\"], [0.4444444444444444, \"#bd3786\"], [0.5555555555555556, \"#d8576b\"], [0.6666666666666666, \"#ed7953\"], [0.7777777777777778, \"#fb9f3a\"], [0.8888888888888888, \"#fdca26\"], [1.0, \"#f0f921\"]], \"type\": \"histogram2dcontour\"}], \"mesh3d\": [{\"colorbar\": {\"outlinewidth\": 0, \"ticks\": \"\"}, \"type\": \"mesh3d\"}], \"parcoords\": [{\"line\": {\"colorbar\": {\"outlinewidth\": 0, \"ticks\": \"\"}}, \"type\": \"parcoords\"}], \"pie\": [{\"automargin\": true, \"type\": \"pie\"}], \"scatter\": [{\"marker\": {\"colorbar\": {\"outlinewidth\": 0, \"ticks\": \"\"}}, \"type\": \"scatter\"}], \"scatter3d\": [{\"line\": {\"colorbar\": {\"outlinewidth\": 0, \"ticks\": \"\"}}, \"marker\": {\"colorbar\": {\"outlinewidth\": 0, \"ticks\": \"\"}}, \"type\": \"scatter3d\"}], \"scattercarpet\": [{\"marker\": {\"colorbar\": {\"outlinewidth\": 0, \"ticks\": \"\"}}, \"type\": \"scattercarpet\"}], \"scattergeo\": [{\"marker\": {\"colorbar\": {\"outlinewidth\": 0, \"ticks\": \"\"}}, \"type\": \"scattergeo\"}], \"scattergl\": [{\"marker\": {\"colorbar\": {\"outlinewidth\": 0, \"ticks\": \"\"}}, \"type\": \"scattergl\"}], \"scattermapbox\": [{\"marker\": {\"colorbar\": {\"outlinewidth\": 0, \"ticks\": \"\"}}, \"type\": \"scattermapbox\"}], \"scatterpolar\": [{\"marker\": {\"colorbar\": {\"outlinewidth\": 0, \"ticks\": \"\"}}, \"type\": \"scatterpolar\"}], \"scatterpolargl\": [{\"marker\": {\"colorbar\": {\"outlinewidth\": 0, \"ticks\": \"\"}}, \"type\": \"scatterpolargl\"}], \"scatterternary\": [{\"marker\": {\"colorbar\": {\"outlinewidth\": 0, \"ticks\": \"\"}}, \"type\": \"scatterternary\"}], \"surface\": [{\"colorbar\": {\"outlinewidth\": 0, \"ticks\": \"\"}, \"colorscale\": [[0.0, \"#0d0887\"], [0.1111111111111111, \"#46039f\"], [0.2222222222222222, \"#7201a8\"], [0.3333333333333333, \"#9c179e\"], [0.4444444444444444, \"#bd3786\"], [0.5555555555555556, \"#d8576b\"], [0.6666666666666666, \"#ed7953\"], [0.7777777777777778, \"#fb9f3a\"], [0.8888888888888888, \"#fdca26\"], [1.0, \"#f0f921\"]], \"type\": \"surface\"}], \"table\": [{\"cells\": {\"fill\": {\"color\": \"#EBF0F8\"}, \"line\": {\"color\": \"white\"}}, \"header\": {\"fill\": {\"color\": \"#C8D4E3\"}, \"line\": {\"color\": \"white\"}}, \"type\": \"table\"}]}, \"layout\": {\"annotationdefaults\": {\"arrowcolor\": \"#2a3f5f\", \"arrowhead\": 0, \"arrowwidth\": 1}, \"coloraxis\": {\"colorbar\": {\"outlinewidth\": 0, \"ticks\": \"\"}}, \"colorscale\": {\"diverging\": [[0, \"#8e0152\"], [0.1, \"#c51b7d\"], [0.2, \"#de77ae\"], [0.3, \"#f1b6da\"], [0.4, \"#fde0ef\"], [0.5, \"#f7f7f7\"], [0.6, \"#e6f5d0\"], [0.7, \"#b8e186\"], [0.8, \"#7fbc41\"], [0.9, \"#4d9221\"], [1, \"#276419\"]], \"sequential\": [[0.0, \"#0d0887\"], [0.1111111111111111, \"#46039f\"], [0.2222222222222222, \"#7201a8\"], [0.3333333333333333, \"#9c179e\"], [0.4444444444444444, \"#bd3786\"], [0.5555555555555556, \"#d8576b\"], [0.6666666666666666, \"#ed7953\"], [0.7777777777777778, \"#fb9f3a\"], [0.8888888888888888, \"#fdca26\"], [1.0, \"#f0f921\"]], \"sequentialminus\": [[0.0, \"#0d0887\"], [0.1111111111111111, \"#46039f\"], [0.2222222222222222, \"#7201a8\"], [0.3333333333333333, \"#9c179e\"], [0.4444444444444444, \"#bd3786\"], [0.5555555555555556, \"#d8576b\"], [0.6666666666666666, \"#ed7953\"], [0.7777777777777778, \"#fb9f3a\"], [0.8888888888888888, \"#fdca26\"], [1.0, \"#f0f921\"]]}, \"colorway\": [\"#636efa\", \"#EF553B\", \"#00cc96\", \"#ab63fa\", \"#FFA15A\", \"#19d3f3\", \"#FF6692\", \"#B6E880\", \"#FF97FF\", \"#FECB52\"], \"font\": {\"color\": \"#2a3f5f\"}, \"geo\": {\"bgcolor\": \"white\", \"lakecolor\": \"white\", \"landcolor\": \"#E5ECF6\", \"showlakes\": true, \"showland\": true, \"subunitcolor\": \"white\"}, \"hoverlabel\": {\"align\": \"left\"}, \"hovermode\": \"closest\", \"mapbox\": {\"style\": \"light\"}, \"paper_bgcolor\": \"white\", \"plot_bgcolor\": \"#E5ECF6\", \"polar\": {\"angularaxis\": {\"gridcolor\": \"white\", \"linecolor\": \"white\", \"ticks\": \"\"}, \"bgcolor\": \"#E5ECF6\", \"radialaxis\": {\"gridcolor\": \"white\", \"linecolor\": \"white\", \"ticks\": \"\"}}, \"scene\": {\"xaxis\": {\"backgroundcolor\": \"#E5ECF6\", \"gridcolor\": \"white\", \"gridwidth\": 2, \"linecolor\": \"white\", \"showbackground\": true, \"ticks\": \"\", \"zerolinecolor\": \"white\"}, \"yaxis\": {\"backgroundcolor\": \"#E5ECF6\", \"gridcolor\": \"white\", \"gridwidth\": 2, \"linecolor\": \"white\", \"showbackground\": true, \"ticks\": \"\", \"zerolinecolor\": \"white\"}, \"zaxis\": {\"backgroundcolor\": \"#E5ECF6\", \"gridcolor\": \"white\", \"gridwidth\": 2, \"linecolor\": \"white\", \"showbackground\": true, \"ticks\": \"\", \"zerolinecolor\": \"white\"}}, \"shapedefaults\": {\"line\": {\"color\": \"#2a3f5f\"}}, \"ternary\": {\"aaxis\": {\"gridcolor\": \"white\", \"linecolor\": \"white\", \"ticks\": \"\"}, \"baxis\": {\"gridcolor\": \"white\", \"linecolor\": \"white\", \"ticks\": \"\"}, \"bgcolor\": \"#E5ECF6\", \"caxis\": {\"gridcolor\": \"white\", \"linecolor\": \"white\", \"ticks\": \"\"}}, \"title\": {\"x\": 0.05}, \"xaxis\": {\"automargin\": true, \"gridcolor\": \"white\", \"linecolor\": \"white\", \"ticks\": \"\", \"title\": {\"standoff\": 15}, \"zerolinecolor\": \"white\", \"zerolinewidth\": 2}, \"yaxis\": {\"automargin\": true, \"gridcolor\": \"white\", \"linecolor\": \"white\", \"ticks\": \"\", \"title\": {\"standoff\": 15}, \"zerolinecolor\": \"white\", \"zerolinewidth\": 2}}}, \"title\": {\"text\": \"Burglary Rate in the US\"}, \"xaxis\": {\"anchor\": \"y\", \"domain\": [0.0, 1.0], \"title\": {\"text\": \"Burglary rate\"}}, \"yaxis\": {\"anchor\": \"x\", \"domain\": [0.0, 1.0], \"title\": {\"text\": \"# of guns per capita\"}}},\n",
       "                        {\"responsive\": true}\n",
       "                    ).then(function(){\n",
       "                            \n",
       "var gd = document.getElementById('434c3d3f-e82a-4c07-b042-6bf8d113fdd3');\n",
       "var x = new MutationObserver(function (mutations, observer) {{\n",
       "        var display = window.getComputedStyle(gd).display;\n",
       "        if (!display || display === 'none') {{\n",
       "            console.log([gd, 'removed!']);\n",
       "            Plotly.purge(gd);\n",
       "            observer.disconnect();\n",
       "        }}\n",
       "}});\n",
       "\n",
       "// Listen for the removal of the full notebook cells\n",
       "var notebookContainer = gd.closest('#notebook-container');\n",
       "if (notebookContainer) {{\n",
       "    x.observe(notebookContainer, {childList: true});\n",
       "}}\n",
       "\n",
       "// Listen for the clearing of the current output cell\n",
       "var outputEl = gd.closest('.output');\n",
       "if (outputEl) {{\n",
       "    x.observe(outputEl, {childList: true});\n",
       "}}\n",
       "\n",
       "                        })\n",
       "                };\n",
       "                });\n",
       "            </script>\n",
       "        </div>"
      ]
     },
     "metadata": {},
     "output_type": "display_data"
    }
   ],
   "source": [
    "import plotly.express as px\n",
    "combined_data_df = pd.merge(burglary_2014_df,gun_ownership_per_capita_df,on=\"State\")\n",
    "fig = px.scatter(combined_data_df,\n",
    "                 x=\"Burglary rate\",\n",
    "                 y=\"# of guns per capita\",\n",
    "                 size=\"Burglary rate\",\n",
    "                 color=\"State\",\n",
    "                 hover_name=\"State\",\n",
    "                 title=\"Burglary Rate in the US\"\n",
    "                )\n",
    "fig.show()"
   ]
  },
  {
   "cell_type": "code",
   "execution_count": null,
   "metadata": {},
   "outputs": [],
   "source": [
    "combined_data_df = pd.merge(robbery_2014_df,gun_ownership_per_capita_df,on=\"State\")\n",
    "fig = px.scatter(combined_data_df,\n",
    "                 x=\"Robbery rate\",\n",
    "                 y=\"# of guns per capita\",\n",
    "                 size=\"Robbery rate\",\n",
    "                 color=\"State\",\n",
    "                 hover_name=\"State\",\n",
    "                 title=\"Robbery Rate in the US\"\n",
    "                )\n",
    "fig.show()"
   ]
  },
  {
   "cell_type": "code",
   "execution_count": null,
   "metadata": {},
   "outputs": [],
   "source": [
    "combined_data_df = pd.merge(vehicle_theft_2014_df,gun_ownership_per_capita_df,on=\"State\")\n",
    "fig = px.scatter(combined_data_df,\n",
    "                 x=\"Motor vehicle theft rate\",\n",
    "                 y=\"# of guns per capita\",\n",
    "                 size=\"Motor vehicle theft rate\",\n",
    "                 color=\"State\",\n",
    "                 hover_name=\"State\",\n",
    "                 title=\"Motor Vehicle Theft Rate in the US\"\n",
    "                )\n",
    "fig.show()"
   ]
  },
  {
   "cell_type": "code",
   "execution_count": null,
   "metadata": {},
   "outputs": [],
   "source": [
    "combined_data_df = pd.merge(aggravated_assault_2014_df,gun_ownership_per_capita_df,on=\"State\")\n",
    "fig = px.scatter(combined_data_df,\n",
    "                 x=\"Aggravated assault rate\",\n",
    "                 y=\"# of guns per capita\",\n",
    "                 size=\"Aggravated assault rate\",\n",
    "                 color=\"State\",\n",
    "                 hover_name=\"State\",\n",
    "                 title=\"Aggravated Assault Rate in the US\"\n",
    "                )\n",
    "fig.show()"
   ]
  },
  {
   "cell_type": "code",
   "execution_count": null,
   "metadata": {},
   "outputs": [],
   "source": [
    "combined_data_df = pd.merge(murder_manslaughter_2014_df,gun_ownership_per_capita_df,on=\"State\")\n",
    "fig = px.scatter(combined_data_df,\n",
    "                 x=\"Murder and nonnegligent manslaughter rate\",\n",
    "                 y=\"# of guns per capita\",\n",
    "                 size=\"Murder and nonnegligent manslaughter rate\",\n",
    "                 color=\"State\",\n",
    "                 hover_name=\"State\",\n",
    "                 title=\"Murder and Manslaughter Rate in the US\"\n",
    "                )\n",
    "fig.show()"
   ]
  },
  {
   "cell_type": "code",
   "execution_count": null,
   "metadata": {},
   "outputs": [],
   "source": [
    "# Teammate 3 code ends here"
   ]
  },
  {
   "cell_type": "code",
   "execution_count": 69,
   "metadata": {
    "scrolled": true
   },
   "outputs": [
    {
     "name": "stdout",
     "output_type": "stream",
     "text": [
      "The correlation between State gun ownership rate and murder/manslaughter rate is 0.08\n",
      "The correlation between State gun ownership rate and aggravated assault rate is 0.07\n",
      "The correlation between State gun ownership rate and motor vehicle theft rate is -0.0\n",
      "The correlation between State gun ownership rate and robbery rate is 0.03\n",
      "The correlation between State gun ownership rate and burglary rate is -0.12\n",
      "\n",
      "The correlation between State poverty rate and murder/manslaughter rate is 0.48\n",
      "The correlation between State poverty rate and aggravated assault rate is 0.39\n",
      "The correlation between State poverty rate and motor vehicle theft rate is 0.23\n",
      "The correlation between State poverty rate and robbery rate is 0.26\n",
      "The correlation between State poverty rate and burglary rate is 0.5\n"
     ]
    }
   ],
   "source": [
    "# Teammate Chris code resumes here\n",
    "from scipy.stats import linregress\n",
    "\n",
    "murder_rate = gun_ownership_df[\"Murder and nonnegligent manslaughter rate\"]\n",
    "assault_rate = gun_ownership_df[\"Aggravated assault rate\"]\n",
    "GTA_rate = gun_ownership_df[\"Motor vehicle theft rate\"]\n",
    "robbery_rate = gun_ownership_df[\"Robbery rate\"]\n",
    "burglary_rate = gun_ownership_df[\"Burglary rate\"]\n",
    "\n",
    "gun_ownership_rate = gun_ownership_df[\"# of guns per capita\"]\n",
    "poverty_rate_2014 = gun_ownership_df[\"2014 Poverty Rate\"]\n",
    "\n",
    "# Calculate the correlation coefficient and linear regression model\n",
    "correlation = st.pearsonr(gun_ownership_rate, murder_rate)\n",
    "print(f\"The correlation between State gun ownership rate and murder/manslaughter rate is {round(correlation[0],2)}\")\n",
    "correlation = st.pearsonr(gun_ownership_rate, assault_rate)\n",
    "print(f\"The correlation between State gun ownership rate and aggravated assault rate is {round(correlation[0],2)}\")\n",
    "correlation = st.pearsonr(gun_ownership_rate, GTA_rate)\n",
    "print(f\"The correlation between State gun ownership rate and motor vehicle theft rate is {round(correlation[0],2)}\")\n",
    "correlation = st.pearsonr(gun_ownership_rate, robbery_rate)\n",
    "print(f\"The correlation between State gun ownership rate and robbery rate is {round(correlation[0],2)}\")\n",
    "correlation = st.pearsonr(gun_ownership_rate, burglary_rate)\n",
    "print(f\"The correlation between State gun ownership rate and burglary rate is {round(correlation[0],2)}\")\n",
    "print(f\"\")\n",
    "correlation = st.pearsonr(poverty_rate_2014, murder_rate)\n",
    "print(f\"The correlation between State poverty rate and murder/manslaughter rate is {round(correlation[0],2)}\")\n",
    "correlation = st.pearsonr(poverty_rate_2014, assault_rate)\n",
    "print(f\"The correlation between State poverty rate and aggravated assault rate is {round(correlation[0],2)}\")\n",
    "correlation = st.pearsonr(poverty_rate_2014, GTA_rate)\n",
    "print(f\"The correlation between State poverty rate and motor vehicle theft rate is {round(correlation[0],2)}\")\n",
    "correlation = st.pearsonr(poverty_rate_2014, robbery_rate)\n",
    "print(f\"The correlation between State poverty rate and robbery rate is {round(correlation[0],2)}\")\n",
    "correlation = st.pearsonr(poverty_rate_2014, burglary_rate)\n",
    "print(f\"The correlation between State poverty rate and burglary rate is {round(correlation[0],2)}\")"
   ]
  },
  {
   "cell_type": "code",
   "execution_count": 96,
   "metadata": {},
   "outputs": [
    {
     "name": "stdout",
     "output_type": "stream",
     "text": [
      "The p-value is 0.569622875879312\n",
      "The p-value with Wyoming (outlier) removed is 0.001071486430297916\n"
     ]
    },
    {
     "data": {
      "image/png": "[encoded data removed]",
      "text/plain": [
       "<Figure size 720x288 with 2 Axes>"
      ]
     },
     "metadata": {
      "needs_background": "light"
     },
     "output_type": "display_data"
    }
   ],
   "source": [
    "(slope, intercept, rvalue, pvalue, stderr) = linregress(gun_ownership_rate, murder_rate)\n",
    "regress_values = gun_ownership_rate * slope + intercept\n",
    "line_eq = \"y = \" + str(round(slope,2)) + \"x + \" + str(round(intercept,2))\n",
    "\n",
    "fig, (ax1,ax2) = plt.subplots(1,2, figsize=(10,4))  # 1 row, 2 columns\n",
    "\n",
    "ax1.scatter(gun_ownership_rate, murder_rate)\n",
    "ax1.plot(gun_ownership_rate,regress_values,\"r-\")\n",
    "# plt.annotate(line_eq,(1,1),fontsize=15,color=\"red\")\n",
    "\n",
    "# plot a new line with outliers removed\n",
    "(slope, intercept, rvalue, new_pvalue, stderr) = linregress(gun_ownership_rate.drop(index=[\"Wyoming\"]), murder_rate.drop(index=[\"Wyoming\"]))\n",
    "regress_values = gun_ownership_rate.drop(index=[\"Wyoming\"]) * slope + intercept\n",
    "line_eq = \"y = \" + str(round(slope,2)) + \"x + \" + str(round(intercept,2))\n",
    "ax2.scatter(gun_ownership_rate.drop(index=[\"Wyoming\"]), murder_rate.drop(index=[\"Wyoming\"]))\n",
    "ax2.plot(gun_ownership_rate.drop(index=[\"Wyoming\"]),regress_values,\"r-\")\n",
    "\n",
    "plt.title(\"Gun Ownership Rate vs Murder and Non-Negligent Manslaughter Rate\")\n",
    "plt.ylabel(\"Murder and Non-Negligent Manslaughter Rate\")\n",
    "plt.xlabel(\"Gun Ownership Rate\")\n",
    "\n",
    "print(f\"The p-value is {pvalue}\")\n",
    "print(f\"The p-value with Wyoming (outlier) removed is {new_pvalue}\")"
   ]
  },
  {
   "cell_type": "code",
   "execution_count": 97,
   "metadata": {},
   "outputs": [
    {
     "name": "stdout",
     "output_type": "stream",
     "text": [
      "The p-value is 0.6201494895279526\n",
      "The p-value with Wyoming (outlier) removed is 0.0012701060231075684\n"
     ]
    },
    {
     "data": {
      "image/png": "[encoded data removed]",
      "text/plain": [
       "<Figure size 720x288 with 2 Axes>"
      ]
     },
     "metadata": {
      "needs_background": "light"
     },
     "output_type": "display_data"
    }
   ],
   "source": [
    "(slope, intercept, rvalue, pvalue, stderr) = linregress(gun_ownership_rate, assault_rate)\n",
    "regress_values = gun_ownership_rate * slope + intercept\n",
    "line_eq = \"y = \" + str(round(slope,2)) + \"x + \" + str(round(intercept,2))\n",
    "\n",
    "fig, (ax1,ax2) = plt.subplots(1,2, figsize=(10,4))  # 1 row, 2 columns\n",
    "\n",
    "ax1.scatter(gun_ownership_rate, assault_rate)\n",
    "ax1.plot(gun_ownership_rate,regress_values,\"r-\")\n",
    "# plt.annotate(line_eq,(1,1),fontsize=15,color=\"red\")\n",
    "\n",
    "# plot a new line with outliers removed\n",
    "(slope, intercept, rvalue, new_pvalue, stderr) = linregress(gun_ownership_rate.drop(index=[\"Wyoming\"]), assault_rate.drop(index=[\"Wyoming\"]))\n",
    "regress_values = gun_ownership_rate.drop(index=[\"Wyoming\"]) * slope + intercept\n",
    "line_eq = \"y = \" + str(round(slope,2)) + \"x + \" + str(round(intercept,2))\n",
    "ax2.scatter(gun_ownership_rate.drop(index=[\"Wyoming\"]), assault_rate.drop(index=[\"Wyoming\"]))\n",
    "ax2.plot(gun_ownership_rate.drop(index=[\"Wyoming\"]),regress_values,\"r-\")\n",
    "\n",
    "plt.title(\"Gun Ownership Rate vs Aggravated Assault Rate\")\n",
    "plt.ylabel(\"Aggravated Assault Rate\")\n",
    "plt.xlabel(\"Gun Ownership Rate\")\n",
    "print(f\"The p-value is {pvalue}\")\n",
    "print(f\"The p-value with Wyoming (outlier) removed is {new_pvalue}\")"
   ]
  },
  {
   "cell_type": "code",
   "execution_count": 98,
   "metadata": {},
   "outputs": [
    {
     "name": "stdout",
     "output_type": "stream",
     "text": [
      "The p-value is 0.9981371910960279\n",
      "The p-value with Wyoming (outlier) removed is 0.01136255669878634\n"
     ]
    },
    {
     "data": {
      "image/png": "[encoded data removed]",
      "text/plain": [
       "<Figure size 720x288 with 2 Axes>"
      ]
     },
     "metadata": {
      "needs_background": "light"
     },
     "output_type": "display_data"
    }
   ],
   "source": [
    "(slope, intercept, rvalue, pvalue, stderr) = linregress(gun_ownership_rate, GTA_rate)\n",
    "regress_values = gun_ownership_rate * slope + intercept\n",
    "line_eq = \"y = \" + str(round(slope,2)) + \"x + \" + str(round(intercept,2))\n",
    "\n",
    "fig, (ax1,ax2) = plt.subplots(1,2, figsize=(10,4))  # 1 row, 2 columns\n",
    "\n",
    "ax1.scatter(gun_ownership_rate, GTA_rate)\n",
    "ax1.plot(gun_ownership_rate,regress_values,\"r-\")\n",
    "# plt.annotate(line_eq,(1,1),fontsize=15,color=\"red\")\n",
    "\n",
    "# plot a new line with outliers removed\n",
    "(slope, intercept, rvalue, new_pvalue, stderr) = linregress(gun_ownership_rate.drop(index=[\"Wyoming\"]), GTA_rate.drop(index=[\"Wyoming\"]))\n",
    "regress_values = gun_ownership_rate.drop(index=[\"Wyoming\"]) * slope + intercept\n",
    "line_eq = \"y = \" + str(round(slope,2)) + \"x + \" + str(round(intercept,2))\n",
    "ax2.scatter(gun_ownership_rate.drop(index=[\"Wyoming\"]), GTA_rate.drop(index=[\"Wyoming\"]))\n",
    "ax2.plot(gun_ownership_rate.drop(index=[\"Wyoming\"]),regress_values,\"r-\")\n",
    "\n",
    "plt.title(\"Gun Ownership Rate vs Motor Vehicle Theft Rate\")\n",
    "plt.ylabel(\"Motor Vehicle Theft Rate\")\n",
    "plt.xlabel(\"Gun Ownership Rate\")\n",
    "print(f\"The p-value is {pvalue}\")\n",
    "print(f\"The p-value with Wyoming (outlier) removed is {new_pvalue}\")"
   ]
  },
  {
   "cell_type": "code",
   "execution_count": 100,
   "metadata": {},
   "outputs": [
    {
     "name": "stdout",
     "output_type": "stream",
     "text": [
      "The p-value is 0.8330119466335264\n",
      "The p-value with Wyoming (outlier) removed is 0.000624429282401535\n"
     ]
    },
    {
     "data": {
      "image/png": "[encoded data removed]",
      "text/plain": [
       "<Figure size 720x288 with 2 Axes>"
      ]
     },
     "metadata": {
      "needs_background": "light"
     },
     "output_type": "display_data"
    }
   ],
   "source": [
    "(slope, intercept, rvalue, pvalue, stderr) = linregress(gun_ownership_rate, robbery_rate)\n",
    "regress_values = gun_ownership_rate * slope + intercept\n",
    "line_eq = \"y = \" + str(round(slope,2)) + \"x + \" + str(round(intercept,2))\n",
    "\n",
    "fig, (ax1,ax2) = plt.subplots(1,2, figsize=(10,4))  # 1 row, 2 columns\n",
    "\n",
    "ax1.scatter(gun_ownership_rate, robbery_rate)\n",
    "ax1.plot(gun_ownership_rate,regress_values,\"r-\")\n",
    "# plt.annotate(line_eq,(1,1),fontsize=15,color=\"red\")\n",
    "\n",
    "# plot a new line with outliers removed\n",
    "(slope, intercept, rvalue, new_pvalue, stderr) = linregress(gun_ownership_rate.drop(index=[\"Wyoming\"]), robbery_rate.drop(index=[\"Wyoming\"]))\n",
    "regress_values = gun_ownership_rate.drop(index=[\"Wyoming\"]) * slope + intercept\n",
    "line_eq = \"y = \" + str(round(slope,2)) + \"x + \" + str(round(intercept,2))\n",
    "ax2.scatter(gun_ownership_rate.drop(index=[\"Wyoming\"]), robbery_rate.drop(index=[\"Wyoming\"]))\n",
    "ax2.plot(gun_ownership_rate.drop(index=[\"Wyoming\"]),regress_values,\"r-\")\n",
    "\n",
    "plt.title(\"Gun Ownership Rate vs Robbery Rate\")\n",
    "plt.ylabel(\"Robbery Rate\")\n",
    "plt.xlabel(\"Gun Ownership Rate\")\n",
    "print(f\"The p-value is {pvalue}\")\n",
    "print(f\"The p-value with Wyoming (outlier) removed is {new_pvalue}\")"
   ]
  },
  {
   "cell_type": "code",
   "execution_count": 101,
   "metadata": {},
   "outputs": [
    {
     "name": "stdout",
     "output_type": "stream",
     "text": [
      "The p-value is 0.41581806597234794\n",
      "The p-value with Wyoming (outlier) removed is 0.2734221475741667\n"
     ]
    },
    {
     "data": {
      "image/png": "[encoded data removed]",
      "text/plain": [
       "<Figure size 720x288 with 2 Axes>"
      ]
     },
     "metadata": {
      "needs_background": "light"
     },
     "output_type": "display_data"
    }
   ],
   "source": [
    "(slope, intercept, rvalue, pvalue, stderr) = linregress(gun_ownership_rate, burglary_rate)\n",
    "regress_values = gun_ownership_rate * slope + intercept\n",
    "line_eq = \"y = \" + str(round(slope,2)) + \"x + \" + str(round(intercept,2))\n",
    "\n",
    "fig, (ax1,ax2) = plt.subplots(1,2, figsize=(10,4))  # 1 row, 2 columns\n",
    "\n",
    "ax1.scatter(gun_ownership_rate, burglary_rate)\n",
    "ax1.plot(gun_ownership_rate,regress_values,\"r-\")\n",
    "# plt.annotate(line_eq,(1,1),fontsize=15,color=\"red\")\n",
    "\n",
    "# plot a new line with outliers removed\n",
    "(slope, intercept, rvalue, new_pvalue, stderr) = linregress(gun_ownership_rate.drop(index=[\"Wyoming\"]), burglary_rate.drop(index=[\"Wyoming\"]))\n",
    "regress_values = gun_ownership_rate.drop(index=[\"Wyoming\"]) * slope + intercept\n",
    "line_eq = \"y = \" + str(round(slope,2)) + \"x + \" + str(round(intercept,2))\n",
    "ax2.scatter(gun_ownership_rate.drop(index=[\"Wyoming\"]), burglary_rate.drop(index=[\"Wyoming\"]))\n",
    "ax2.plot(gun_ownership_rate.drop(index=[\"Wyoming\"]),regress_values,\"r-\")\n",
    "\n",
    "plt.title(\"Gun Ownership Rate vs Burglary Rate\")\n",
    "plt.ylabel(\"Burglary Rate\")\n",
    "plt.xlabel(\"Gun Ownership Rate\")\n",
    "print(f\"The p-value is {pvalue}\")\n",
    "print(f\"The p-value with Wyoming (outlier) removed is {new_pvalue}\")"
   ]
  },
  {
   "cell_type": "code",
   "execution_count": 72,
   "metadata": {},
   "outputs": [
    {
     "name": "stdout",
     "output_type": "stream",
     "text": [
      "The p-value is 0.00033381146143025885\n"
     ]
    },
    {
     "data": {
      "image/png": "[encoded data removed]",
      "text/plain": [
       "<Figure size 432x288 with 1 Axes>"
      ]
     },
     "metadata": {
      "needs_background": "light"
     },
     "output_type": "display_data"
    }
   ],
   "source": [
    "(slope, intercept, rvalue, pvalue, stderr) = linregress(poverty_rate, murder_rate)\n",
    "regress_values = poverty_rate * slope + intercept\n",
    "line_eq = \"y = \" + str(round(slope,2)) + \"x + \" + str(round(intercept,2))\n",
    "\n",
    "plt.scatter(poverty_rate, murder_rate)\n",
    "plt.plot(poverty_rate,regress_values,\"r-\")\n",
    "# plt.annotate(line_eq,(1,1),fontsize=15,color=\"red\")\n",
    "\n",
    "plt.title(\"Poverty Rate vs Murder Rate\")\n",
    "plt.ylabel(\"Murder and Non-Negligent Manslaughter Rate\")\n",
    "plt.xlabel(\"2014 Poverty Rate\")\n",
    "print(f\"The p-value is {pvalue}\")"
   ]
  },
  {
   "cell_type": "code",
   "execution_count": 73,
   "metadata": {},
   "outputs": [
    {
     "name": "stdout",
     "output_type": "stream",
     "text": [
      "The p-value is 0.00506049974057418\n"
     ]
    },
    {
     "data": {
      "image/png": "[encoded data removed]",
      "text/plain": [
       "<Figure size 432x288 with 1 Axes>"
      ]
     },
     "metadata": {
      "needs_background": "light"
     },
     "output_type": "display_data"
    }
   ],
   "source": [
    "(slope, intercept, rvalue, pvalue, stderr) = linregress(poverty_rate, assault_rate)\n",
    "regress_values = poverty_rate * slope + intercept\n",
    "line_eq = \"y = \" + str(round(slope,2)) + \"x + \" + str(round(intercept,2))\n",
    "\n",
    "plt.scatter(poverty_rate, assault_rate)\n",
    "plt.plot(poverty_rate,regress_values,\"r-\")\n",
    "# plt.annotate(line_eq,(1,1),fontsize=15,color=\"red\")\n",
    "\n",
    "plt.title(\"Poverty Rate vs Aggravated Assault Rate\")\n",
    "plt.ylabel(\"Aggravated Assault Rate\")\n",
    "plt.xlabel(\"2014 Poverty Rate\")\n",
    "print(f\"The p-value is {pvalue}\")"
   ]
  },
  {
   "cell_type": "code",
   "execution_count": 74,
   "metadata": {},
   "outputs": [
    {
     "name": "stdout",
     "output_type": "stream",
     "text": [
      "The p-value is 0.10989442496330931\n"
     ]
    },
    {
     "data": {
      "image/png": "[encoded data removed]",
      "text/plain": [
       "<Figure size 432x288 with 1 Axes>"
      ]
     },
     "metadata": {
      "needs_background": "light"
     },
     "output_type": "display_data"
    }
   ],
   "source": [
    "(slope, intercept, rvalue, pvalue, stderr) = linregress(poverty_rate, GTA_rate)\n",
    "regress_values = poverty_rate * slope + intercept\n",
    "line_eq = \"y = \" + str(round(slope,2)) + \"x + \" + str(round(intercept,2))\n",
    "\n",
    "plt.scatter(poverty_rate, GTA_rate)\n",
    "plt.plot(poverty_rate,regress_values,\"r-\")\n",
    "# plt.annotate(line_eq,(1,1),fontsize=15,color=\"red\")\n",
    "\n",
    "plt.title(\"Poverty Rate vs Motor Vehicle Theft Rate\")\n",
    "plt.ylabel(\"Motor Vehicle Theft Rate\")\n",
    "plt.xlabel(\"2014 Poverty Rate\")\n",
    "print(f\"The p-value is {pvalue}\")"
   ]
  },
  {
   "cell_type": "code",
   "execution_count": 75,
   "metadata": {},
   "outputs": [
    {
     "name": "stdout",
     "output_type": "stream",
     "text": [
      "The p-value is 0.06932315092001927\n"
     ]
    },
    {
     "data": {
      "image/png": "[encoded data removed]",
      "text/plain": [
       "<Figure size 432x288 with 1 Axes>"
      ]
     },
     "metadata": {
      "needs_background": "light"
     },
     "output_type": "display_data"
    }
   ],
   "source": [
    "(slope, intercept, rvalue, pvalue, stderr) = linregress(poverty_rate, robbery_rate)\n",
    "regress_values = poverty_rate * slope + intercept\n",
    "line_eq = \"y = \" + str(round(slope,2)) + \"x + \" + str(round(intercept,2))\n",
    "\n",
    "plt.scatter(poverty_rate, robbery_rate)\n",
    "plt.plot(poverty_rate,regress_values,\"r-\")\n",
    "# plt.annotate(line_eq,(1,1),fontsize=15,color=\"red\")\n",
    "\n",
    "plt.title(\"Poverty Rate vs Robbery Rate\")\n",
    "plt.ylabel(\"Robbery Rate\")\n",
    "plt.xlabel(\"2014 Poverty Rate\")\n",
    "print(f\"The p-value is {pvalue}\")"
   ]
  },
  {
   "cell_type": "code",
   "execution_count": 66,
   "metadata": {},
   "outputs": [
    {
     "name": "stdout",
     "output_type": "stream",
     "text": [
      "The p-value is 0.00016056217443156416\n"
     ]
    },
    {
     "data": {
      "image/png": "[encoded data removed]",
      "text/plain": [
       "<Figure size 432x288 with 1 Axes>"
      ]
     },
     "metadata": {
      "needs_background": "light"
     },
     "output_type": "display_data"
    }
   ],
   "source": [
    "(slope, intercept, rvalue, pvalue, stderr) = linregress(poverty_rate, burglary_rate)\n",
    "regress_values = poverty_rate * slope + intercept\n",
    "line_eq = \"y = \" + str(round(slope,2)) + \"x + \" + str(round(intercept,2))\n",
    "\n",
    "plt.scatter(poverty_rate, burglary_rate)\n",
    "plt.plot(poverty_rate,regress_values,\"r-\")\n",
    "# plt.annotate(line_eq,(1,1),fontsize=15,color=\"red\")\n",
    "\n",
    "plt.title(\"Poverty Rate vs Burglary Rate\")\n",
    "plt.ylabel(\"Burglary Rate\")\n",
    "plt.xlabel(\"2014 Poverty Rate\")\n",
    "print(f\"The p-value is {pvalue}\")"
   ]
  },
  {
   "cell_type": "code",
   "execution_count": null,
   "metadata": {},
   "outputs": [],
   "source": []
  }
 ],
 "metadata": {
  "kernelspec": {
   "display_name": "Python 3",
   "language": "python",
   "name": "python3"
  },
  "language_info": {
   "codemirror_mode": {
    "name": "ipython",
    "version": 3
   },
   "file_extension": ".py",
   "mimetype": "text/x-python",
   "name": "python",
   "nbconvert_exporter": "python",
   "pygments_lexer": "ipython3",
   "version": "3.6.10"
  }
 },
 "nbformat": 4,
 "nbformat_minor": 4
}
